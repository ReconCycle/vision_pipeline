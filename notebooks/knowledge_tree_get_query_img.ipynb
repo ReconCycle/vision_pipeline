{
 "cells": [
  {
   "cell_type": "code",
   "execution_count": 1,
   "metadata": {},
   "outputs": [
    {
     "name": "stdout",
     "output_type": "stream",
     "text": [
      "The autoreload extension is already loaded. To reload it, use:\n",
      "  %reload_ext autoreload\n",
      "Jupyter environment detected. Enabling Open3D WebVisualizer.\n",
      "[Open3D INFO] WebRTC GUI backend enabled.\n",
      "[Open3D INFO] WebRTCWindowSystem: HTTP handshake server disabled.\n"
     ]
    }
   ],
   "source": [
    "%load_ext autoreload\n",
    "%autoreload 2\n",
    "\n",
    "import os\n",
    "os.environ[\"CUDA_DEVICE_ORDER\"]=\"PCI_BUS_ID\"   # see issue #152\n",
    "os.environ[\"CUDA_VISIBLE_DEVICES\"]=\"3\" #! specify gpu here\n",
    "import sys\n",
    "import numpy as np\n",
    "import cv2\n",
    "import time\n",
    "import torch\n",
    "import clip\n",
    "from PIL import Image\n",
    "from rich import print\n",
    "from tqdm import tqdm\n",
    "from pathlib import Path\n",
    "import csv\n",
    "import json\n",
    "import click\n",
    "\n",
    "\n",
    "# for jsonpickle\n",
    "from context_action_framework.types import Detection, Label, LabelFace, Camera\n",
    "from geometry_msgs.msg import Transform, Vector3, Quaternion, Pose, PoseArray, TransformStamped\n",
    "\n",
    "import jsonpickle\n",
    "import pickle\n",
    "\n",
    "from context_action_framework.types import detections_to_ros, detections_to_py\n",
    "from vision_pipeline.llm_data_generator.labelme_importer import LabelMeImporter"
   ]
  },
  {
   "cell_type": "code",
   "execution_count": 2,
   "metadata": {},
   "outputs": [
    {
     "data": {
      "text/html": [
       "<pre style=\"white-space:pre;overflow-x:auto;line-height:normal;font-family:Menlo,'DejaVu Sans Mono',consolas,'Courier New',monospace\">config:\n",
       "<span style=\"font-weight: bold\">{</span>\n",
       "    <span style=\"color: #008000; text-decoration-color: #008000\">'node_name'</span>: <span style=\"color: #008000; text-decoration-color: #008000\">'vision'</span>,\n",
       "    <span style=\"color: #008000; text-decoration-color: #008000\">'reid'</span>: <span style=\"color: #ff0000; text-decoration-color: #ff0000; font-style: italic\">False</span>,\n",
       "    <span style=\"color: #008000; text-decoration-color: #008000\">'basler'</span>: <span style=\"font-weight: bold\">{</span>\n",
       "        <span style=\"color: #008000; text-decoration-color: #008000\">'target_fps'</span>: <span style=\"color: #008080; text-decoration-color: #008080; font-weight: bold\">10</span>,\n",
       "        <span style=\"color: #008000; text-decoration-color: #008000\">'max_allowed_acquisition_delay'</span>: <span style=\"color: #008080; text-decoration-color: #008080; font-weight: bold\">1.0</span>,\n",
       "        <span style=\"color: #008000; text-decoration-color: #008000\">'rotate_img'</span>: <span style=\"color: #008080; text-decoration-color: #008080; font-weight: bold\">180</span>,\n",
       "        <span style=\"color: #008000; text-decoration-color: #008000\">'topic'</span>: <span style=\"color: #008000; text-decoration-color: #008000\">'basler'</span>,\n",
       "        <span style=\"color: #008000; text-decoration-color: #008000\">'camera_node'</span>: <span style=\"color: #008000; text-decoration-color: #008000\">'/basler'</span>,\n",
       "        <span style=\"color: #008000; text-decoration-color: #008000\">'image_topic'</span>: <span style=\"color: #008000; text-decoration-color: #008000\">'image_rect_color'</span>,\n",
       "        <span style=\"color: #008000; text-decoration-color: #008000\">'sleep_camera_on_exit'</span>: <span style=\"color: #ff0000; text-decoration-color: #ff0000; font-style: italic\">False</span>,\n",
       "        <span style=\"color: #008000; text-decoration-color: #008000\">'publish_labelled_img'</span>: <span style=\"color: #00ff00; text-decoration-color: #00ff00; font-style: italic\">True</span>,\n",
       "        <span style=\"color: #008000; text-decoration-color: #008000\">'publish_graph_img'</span>: <span style=\"color: #00ff00; text-decoration-color: #00ff00; font-style: italic\">True</span>,\n",
       "        <span style=\"color: #008000; text-decoration-color: #008000\">'has_depth'</span>: <span style=\"color: #ff0000; text-decoration-color: #ff0000; font-style: italic\">False</span>,\n",
       "        <span style=\"color: #008000; text-decoration-color: #008000\">'run_continuous'</span>: <span style=\"color: #00ff00; text-decoration-color: #00ff00; font-style: italic\">True</span>,\n",
       "        <span style=\"color: #008000; text-decoration-color: #008000\">'wait_for_services'</span>: <span style=\"color: #ff0000; text-decoration-color: #ff0000; font-style: italic\">False</span>,\n",
       "        <span style=\"color: #008000; text-decoration-color: #008000\">'detect_arucos'</span>: <span style=\"color: #ff0000; text-decoration-color: #ff0000; font-style: italic\">False</span>,\n",
       "        <span style=\"color: #008000; text-decoration-color: #008000\">'table_name'</span>: <span style=\"color: #008000; text-decoration-color: #008000\">'table_vision'</span>,\n",
       "        <span style=\"color: #008000; text-decoration-color: #008000\">'parent_frame'</span>: <span style=\"color: #008000; text-decoration-color: #008000\">'vision_table_zero'</span>,\n",
       "        <span style=\"color: #008000; text-decoration-color: #008000\">'create_parent_frame'</span>: <span style=\"color: #00ff00; text-decoration-color: #00ff00; font-style: italic\">True</span>,\n",
       "        <span style=\"color: #008000; text-decoration-color: #008000\">'marker_lifetime'</span>: <span style=\"color: #008080; text-decoration-color: #008080; font-weight: bold\">1</span>,\n",
       "        <span style=\"color: #008000; text-decoration-color: #008000\">'work_surface_ignore_border_width'</span>: <span style=\"color: #008080; text-decoration-color: #008080; font-weight: bold\">50</span>,\n",
       "        <span style=\"color: #008000; text-decoration-color: #008000\">'show_work_surface_detection'</span>: <span style=\"color: #ff0000; text-decoration-color: #ff0000; font-style: italic\">False</span>,\n",
       "        <span style=\"color: #008000; text-decoration-color: #008000\">'use_worksurface_detection'</span>: <span style=\"color: #00ff00; text-decoration-color: #00ff00; font-style: italic\">True</span>,\n",
       "        <span style=\"color: #008000; text-decoration-color: #008000\">'debug_work_surface_detection'</span>: <span style=\"color: #ff0000; text-decoration-color: #ff0000; font-style: italic\">False</span>\n",
       "    <span style=\"font-weight: bold\">}</span>,\n",
       "    <span style=\"color: #008000; text-decoration-color: #008000\">'realsense'</span>: <span style=\"font-weight: bold\">{</span>\n",
       "        <span style=\"color: #008000; text-decoration-color: #008000\">'target_fps'</span>: <span style=\"color: #008080; text-decoration-color: #008080; font-weight: bold\">10</span>,\n",
       "        <span style=\"color: #008000; text-decoration-color: #008000\">'max_allowed_acquisition_delay'</span>: <span style=\"color: #008080; text-decoration-color: #008080; font-weight: bold\">1.0</span>,\n",
       "        <span style=\"color: #008000; text-decoration-color: #008000\">'rotate_img'</span>: <span style=\"color: #008080; text-decoration-color: #008080; font-weight: bold\">0</span>,\n",
       "        <span style=\"color: #008000; text-decoration-color: #008000\">'topic'</span>: <span style=\"color: #008000; text-decoration-color: #008000\">'realsense'</span>,\n",
       "        <span style=\"color: #008000; text-decoration-color: #008000\">'camera_node'</span>: <span style=\"color: #008000; text-decoration-color: #008000\">'/realsense'</span>,\n",
       "        <span style=\"color: #008000; text-decoration-color: #008000\">'image_topic'</span>: <span style=\"color: #008000; text-decoration-color: #008000\">'color/image_raw'</span>,\n",
       "        <span style=\"color: #008000; text-decoration-color: #008000\">'info_topic'</span>: <span style=\"color: #008000; text-decoration-color: #008000\">'color/camera_info'</span>,\n",
       "        <span style=\"color: #008000; text-decoration-color: #008000\">'depth_topic'</span>: <span style=\"color: #008000; text-decoration-color: #008000\">'aligned_depth_to_color/image_raw'</span>,\n",
       "        <span style=\"color: #008000; text-decoration-color: #008000\">'sleep_camera_on_exit'</span>: <span style=\"color: #ff0000; text-decoration-color: #ff0000; font-style: italic\">False</span>,\n",
       "        <span style=\"color: #008000; text-decoration-color: #008000\">'publish_labelled_img'</span>: <span style=\"color: #00ff00; text-decoration-color: #00ff00; font-style: italic\">True</span>,\n",
       "        <span style=\"color: #008000; text-decoration-color: #008000\">'publish_depth_img'</span>: <span style=\"color: #00ff00; text-decoration-color: #00ff00; font-style: italic\">True</span>,\n",
       "        <span style=\"color: #008000; text-decoration-color: #008000\">'publish_cluster_img'</span>: <span style=\"color: #00ff00; text-decoration-color: #00ff00; font-style: italic\">True</span>,\n",
       "        <span style=\"color: #008000; text-decoration-color: #008000\">'publish_graph_img'</span>: <span style=\"color: #ff0000; text-decoration-color: #ff0000; font-style: italic\">False</span>,\n",
       "        <span style=\"color: #008000; text-decoration-color: #008000\">'has_depth'</span>: <span style=\"color: #00ff00; text-decoration-color: #00ff00; font-style: italic\">True</span>,\n",
       "        <span style=\"color: #008000; text-decoration-color: #008000\">'compute_gaps'</span>: <span style=\"color: #00ff00; text-decoration-color: #00ff00; font-style: italic\">True</span>,\n",
       "        <span style=\"color: #008000; text-decoration-color: #008000\">'run_continuous'</span>: <span style=\"color: #00ff00; text-decoration-color: #00ff00; font-style: italic\">True</span>,\n",
       "        <span style=\"color: #008000; text-decoration-color: #008000\">'wait_for_services'</span>: <span style=\"color: #ff0000; text-decoration-color: #ff0000; font-style: italic\">False</span>,\n",
       "        <span style=\"color: #008000; text-decoration-color: #008000\">'detect_arucos'</span>: <span style=\"color: #ff0000; text-decoration-color: #ff0000; font-style: italic\">False</span>,\n",
       "        <span style=\"color: #008000; text-decoration-color: #008000\">'camera_height'</span>: <span style=\"color: #008080; text-decoration-color: #008080; font-weight: bold\">0.2</span>,\n",
       "        <span style=\"color: #008000; text-decoration-color: #008000\">'parent_frame'</span>: <span style=\"color: #008000; text-decoration-color: #008000\">'panda_2/realsense'</span>,\n",
       "        <span style=\"color: #008000; text-decoration-color: #008000\">'create_parent_frame'</span>: <span style=\"color: #00ff00; text-decoration-color: #00ff00; font-style: italic\">True</span>,\n",
       "        <span style=\"color: #008000; text-decoration-color: #008000\">'marker_lifetime'</span>: <span style=\"color: #008080; text-decoration-color: #008080; font-weight: bold\">1</span>,\n",
       "        <span style=\"color: #008000; text-decoration-color: #008000\">'calibration_file'</span>: <span style=\"color: #008000; text-decoration-color: #008000\">'~/vision_pipeline/realsense_calib/realsense_calib.yaml'</span>,\n",
       "        <span style=\"color: #008000; text-decoration-color: #008000\">'debug_clustering'</span>: <span style=\"color: #ff0000; text-decoration-color: #ff0000; font-style: italic\">False</span>\n",
       "    <span style=\"font-weight: bold\">}</span>,\n",
       "    <span style=\"color: #008000; text-decoration-color: #008000\">'obj_detection'</span>: <span style=\"font-weight: bold\">{</span>\n",
       "        <span style=\"color: #008000; text-decoration-color: #008000\">'debug'</span>: <span style=\"color: #00ff00; text-decoration-color: #00ff00; font-style: italic\">True</span>,\n",
       "        <span style=\"color: #008000; text-decoration-color: #008000\">'model'</span>: <span style=\"color: #008000; text-decoration-color: #008000\">'yolov8'</span>,\n",
       "        <span style=\"color: #008000; text-decoration-color: #008000\">'yolact_dataset_file'</span>: <span style=\"color: #008000; text-decoration-color: #008000\">'~/vision_pipeline/data_limited/yolact/2023-07-18_firealarms_hcas/dataset.json'</span>,\n",
       "        <span style=\"color: #008000; text-decoration-color: #008000\">'yolact_score_threshold'</span>: <span style=\"color: #008080; text-decoration-color: #008080; font-weight: bold\">0.5</span>,\n",
       "        <span style=\"color: #008000; text-decoration-color: #008000\">'yolov8_model_file'</span>: \n",
       "<span style=\"color: #008000; text-decoration-color: #008000\">'~/vision_pipeline/data_limited/yolov8/output_2024-07-17_20000_incl_new_jsi_imgs_p2/epoch60.pt'</span>,\n",
       "        <span style=\"color: #008000; text-decoration-color: #008000\">'yolov8_score_threshold'</span>: <span style=\"color: #008080; text-decoration-color: #008080; font-weight: bold\">0.5</span>,\n",
       "        <span style=\"color: #008000; text-decoration-color: #008000\">'superglue_templates'</span>: <span style=\"color: #008000; text-decoration-color: #008000\">'~/datasets2/reconcycle/2023-12-04_hcas_fire_alarms_sorted_cropped'</span>,\n",
       "        <span style=\"color: #008000; text-decoration-color: #008000\">'superglue_model_file'</span>: \n",
       "<span style=\"color: #008000; text-decoration-color: #008000\">'~/superglue_training/output/train/2024-06-26_superglue_model_evens_finished/weights/best.pt'</span>,\n",
       "        <span style=\"color: #008000; text-decoration-color: #008000\">'superglue_match_threshold'</span>: <span style=\"color: #008080; text-decoration-color: #008080; font-weight: bold\">0.5</span>,\n",
       "        <span style=\"color: #008000; text-decoration-color: #008000\">'rotation_median_filter'</span>: <span style=\"color: #ff0000; text-decoration-color: #ff0000; font-style: italic\">False</span>,\n",
       "        <span style=\"color: #008000; text-decoration-color: #008000\">'superglue_visualise_to_file'</span>: <span style=\"color: #ff0000; text-decoration-color: #ff0000; font-style: italic\">False</span>,\n",
       "        <span style=\"color: #008000; text-decoration-color: #008000\">'classifier_model_file'</span>: \n",
       "<span style=\"color: #008000; text-decoration-color: #008000\">'~/vision_pipeline/data_limited/classifier/2024-07-19__14-32_classify/lightning_logs/version_0/checkpoints/epoch=33</span>\n",
       "<span style=\"color: #008000; text-decoration-color: #008000\">9-step=339.ckpt'</span>,\n",
       "        <span style=\"color: #008000; text-decoration-color: #008000\">'classifier_threshold'</span>: <span style=\"color: #008080; text-decoration-color: #008080; font-weight: bold\">0.2</span>\n",
       "    <span style=\"font-weight: bold\">}</span>\n",
       "<span style=\"font-weight: bold\">}</span>\n",
       "</pre>\n"
      ],
      "text/plain": [
       "config:\n",
       "\u001b[1m{\u001b[0m\n",
       "    \u001b[32m'node_name'\u001b[0m: \u001b[32m'vision'\u001b[0m,\n",
       "    \u001b[32m'reid'\u001b[0m: \u001b[3;91mFalse\u001b[0m,\n",
       "    \u001b[32m'basler'\u001b[0m: \u001b[1m{\u001b[0m\n",
       "        \u001b[32m'target_fps'\u001b[0m: \u001b[1;36m10\u001b[0m,\n",
       "        \u001b[32m'max_allowed_acquisition_delay'\u001b[0m: \u001b[1;36m1.0\u001b[0m,\n",
       "        \u001b[32m'rotate_img'\u001b[0m: \u001b[1;36m180\u001b[0m,\n",
       "        \u001b[32m'topic'\u001b[0m: \u001b[32m'basler'\u001b[0m,\n",
       "        \u001b[32m'camera_node'\u001b[0m: \u001b[32m'/basler'\u001b[0m,\n",
       "        \u001b[32m'image_topic'\u001b[0m: \u001b[32m'image_rect_color'\u001b[0m,\n",
       "        \u001b[32m'sleep_camera_on_exit'\u001b[0m: \u001b[3;91mFalse\u001b[0m,\n",
       "        \u001b[32m'publish_labelled_img'\u001b[0m: \u001b[3;92mTrue\u001b[0m,\n",
       "        \u001b[32m'publish_graph_img'\u001b[0m: \u001b[3;92mTrue\u001b[0m,\n",
       "        \u001b[32m'has_depth'\u001b[0m: \u001b[3;91mFalse\u001b[0m,\n",
       "        \u001b[32m'run_continuous'\u001b[0m: \u001b[3;92mTrue\u001b[0m,\n",
       "        \u001b[32m'wait_for_services'\u001b[0m: \u001b[3;91mFalse\u001b[0m,\n",
       "        \u001b[32m'detect_arucos'\u001b[0m: \u001b[3;91mFalse\u001b[0m,\n",
       "        \u001b[32m'table_name'\u001b[0m: \u001b[32m'table_vision'\u001b[0m,\n",
       "        \u001b[32m'parent_frame'\u001b[0m: \u001b[32m'vision_table_zero'\u001b[0m,\n",
       "        \u001b[32m'create_parent_frame'\u001b[0m: \u001b[3;92mTrue\u001b[0m,\n",
       "        \u001b[32m'marker_lifetime'\u001b[0m: \u001b[1;36m1\u001b[0m,\n",
       "        \u001b[32m'work_surface_ignore_border_width'\u001b[0m: \u001b[1;36m50\u001b[0m,\n",
       "        \u001b[32m'show_work_surface_detection'\u001b[0m: \u001b[3;91mFalse\u001b[0m,\n",
       "        \u001b[32m'use_worksurface_detection'\u001b[0m: \u001b[3;92mTrue\u001b[0m,\n",
       "        \u001b[32m'debug_work_surface_detection'\u001b[0m: \u001b[3;91mFalse\u001b[0m\n",
       "    \u001b[1m}\u001b[0m,\n",
       "    \u001b[32m'realsense'\u001b[0m: \u001b[1m{\u001b[0m\n",
       "        \u001b[32m'target_fps'\u001b[0m: \u001b[1;36m10\u001b[0m,\n",
       "        \u001b[32m'max_allowed_acquisition_delay'\u001b[0m: \u001b[1;36m1.0\u001b[0m,\n",
       "        \u001b[32m'rotate_img'\u001b[0m: \u001b[1;36m0\u001b[0m,\n",
       "        \u001b[32m'topic'\u001b[0m: \u001b[32m'realsense'\u001b[0m,\n",
       "        \u001b[32m'camera_node'\u001b[0m: \u001b[32m'/realsense'\u001b[0m,\n",
       "        \u001b[32m'image_topic'\u001b[0m: \u001b[32m'color/image_raw'\u001b[0m,\n",
       "        \u001b[32m'info_topic'\u001b[0m: \u001b[32m'color/camera_info'\u001b[0m,\n",
       "        \u001b[32m'depth_topic'\u001b[0m: \u001b[32m'aligned_depth_to_color/image_raw'\u001b[0m,\n",
       "        \u001b[32m'sleep_camera_on_exit'\u001b[0m: \u001b[3;91mFalse\u001b[0m,\n",
       "        \u001b[32m'publish_labelled_img'\u001b[0m: \u001b[3;92mTrue\u001b[0m,\n",
       "        \u001b[32m'publish_depth_img'\u001b[0m: \u001b[3;92mTrue\u001b[0m,\n",
       "        \u001b[32m'publish_cluster_img'\u001b[0m: \u001b[3;92mTrue\u001b[0m,\n",
       "        \u001b[32m'publish_graph_img'\u001b[0m: \u001b[3;91mFalse\u001b[0m,\n",
       "        \u001b[32m'has_depth'\u001b[0m: \u001b[3;92mTrue\u001b[0m,\n",
       "        \u001b[32m'compute_gaps'\u001b[0m: \u001b[3;92mTrue\u001b[0m,\n",
       "        \u001b[32m'run_continuous'\u001b[0m: \u001b[3;92mTrue\u001b[0m,\n",
       "        \u001b[32m'wait_for_services'\u001b[0m: \u001b[3;91mFalse\u001b[0m,\n",
       "        \u001b[32m'detect_arucos'\u001b[0m: \u001b[3;91mFalse\u001b[0m,\n",
       "        \u001b[32m'camera_height'\u001b[0m: \u001b[1;36m0.2\u001b[0m,\n",
       "        \u001b[32m'parent_frame'\u001b[0m: \u001b[32m'panda_2/realsense'\u001b[0m,\n",
       "        \u001b[32m'create_parent_frame'\u001b[0m: \u001b[3;92mTrue\u001b[0m,\n",
       "        \u001b[32m'marker_lifetime'\u001b[0m: \u001b[1;36m1\u001b[0m,\n",
       "        \u001b[32m'calibration_file'\u001b[0m: \u001b[32m'~/vision_pipeline/realsense_calib/realsense_calib.yaml'\u001b[0m,\n",
       "        \u001b[32m'debug_clustering'\u001b[0m: \u001b[3;91mFalse\u001b[0m\n",
       "    \u001b[1m}\u001b[0m,\n",
       "    \u001b[32m'obj_detection'\u001b[0m: \u001b[1m{\u001b[0m\n",
       "        \u001b[32m'debug'\u001b[0m: \u001b[3;92mTrue\u001b[0m,\n",
       "        \u001b[32m'model'\u001b[0m: \u001b[32m'yolov8'\u001b[0m,\n",
       "        \u001b[32m'yolact_dataset_file'\u001b[0m: \u001b[32m'~/vision_pipeline/data_limited/yolact/2023-07-18_firealarms_hcas/dataset.json'\u001b[0m,\n",
       "        \u001b[32m'yolact_score_threshold'\u001b[0m: \u001b[1;36m0.5\u001b[0m,\n",
       "        \u001b[32m'yolov8_model_file'\u001b[0m: \n",
       "\u001b[32m'~/vision_pipeline/data_limited/yolov8/output_2024-07-17_20000_incl_new_jsi_imgs_p2/epoch60.pt'\u001b[0m,\n",
       "        \u001b[32m'yolov8_score_threshold'\u001b[0m: \u001b[1;36m0.5\u001b[0m,\n",
       "        \u001b[32m'superglue_templates'\u001b[0m: \u001b[32m'~/datasets2/reconcycle/2023-12-04_hcas_fire_alarms_sorted_cropped'\u001b[0m,\n",
       "        \u001b[32m'superglue_model_file'\u001b[0m: \n",
       "\u001b[32m'~/superglue_training/output/train/2024-06-26_superglue_model_evens_finished/weights/best.pt'\u001b[0m,\n",
       "        \u001b[32m'superglue_match_threshold'\u001b[0m: \u001b[1;36m0.5\u001b[0m,\n",
       "        \u001b[32m'rotation_median_filter'\u001b[0m: \u001b[3;91mFalse\u001b[0m,\n",
       "        \u001b[32m'superglue_visualise_to_file'\u001b[0m: \u001b[3;91mFalse\u001b[0m,\n",
       "        \u001b[32m'classifier_model_file'\u001b[0m: \n",
       "\u001b[32m'~/vision_pipeline/data_limited/classifier/2024-07-19__14-32_classify/lightning_logs/version_0/checkpoints/\u001b[0m\u001b[32mepoch\u001b[0m\u001b[32m=\u001b[0m\u001b[32m33\u001b[0m\n",
       "\u001b[32m9\u001b[0m\u001b[32m-\u001b[0m\u001b[32mstep\u001b[0m\u001b[32m=\u001b[0m\u001b[32m339\u001b[0m\u001b[32m.ckpt'\u001b[0m,\n",
       "        \u001b[32m'classifier_threshold'\u001b[0m: \u001b[1;36m0.2\u001b[0m\n",
       "    \u001b[1m}\u001b[0m\n",
       "\u001b[1m}\u001b[0m\n"
      ]
     },
     "metadata": {},
     "output_type": "display_data"
    },
    {
     "name": "stderr",
     "output_type": "stream",
     "text": [
      "/usr/local/lib/python3.8/dist-packages/torchvision/models/_utils.py:208: UserWarning: The parameter 'pretrained' is deprecated since 0.13 and will be removed in 0.15, please use 'weights' instead.\n",
      "  warnings.warn(\n",
      "/usr/local/lib/python3.8/dist-packages/torchvision/models/_utils.py:223: UserWarning: Arguments other than a weight enum or `None` for 'weights' are deprecated since 0.13 and will be removed in 0.15. The current behavior is equivalent to passing `weights=ResNet50_Weights.IMAGENET1K_V1`. You can also use `weights=ResNet50_Weights.DEFAULT` to get the most up-to-date weights.\n",
      "  warnings.warn(msg)\n"
     ]
    },
    {
     "data": {
      "text/html": [
       "<pre style=\"white-space:pre;overflow-x:auto;line-height:normal;font-family:Menlo,'DejaVu Sans Mono',consolas,'Courier New',monospace\">model.learning_rate <span style=\"color: #008080; text-decoration-color: #008080; font-weight: bold\">1e-05</span>\n",
       "</pre>\n"
      ],
      "text/plain": [
       "model.learning_rate \u001b[1;36m1e-05\u001b[0m\n"
      ]
     },
     "metadata": {},
     "output_type": "display_data"
    },
    {
     "data": {
      "text/html": [
       "<pre style=\"white-space:pre;overflow-x:auto;line-height:normal;font-family:Menlo,'DejaVu Sans Mono',consolas,'Courier New',monospace\">model.batch_size <span style=\"color: #008080; text-decoration-color: #008080; font-weight: bold\">64</span>\n",
       "</pre>\n"
      ],
      "text/plain": [
       "model.batch_size \u001b[1;36m64\u001b[0m\n"
      ]
     },
     "metadata": {},
     "output_type": "display_data"
    },
    {
     "data": {
      "text/html": [
       "<pre style=\"white-space:pre;overflow-x:auto;line-height:normal;font-family:Menlo,'DejaVu Sans Mono',consolas,'Courier New',monospace\">model.freeze_backbone <span style=\"color: #ff0000; text-decoration-color: #ff0000; font-style: italic\">False</span>\n",
       "</pre>\n"
      ],
      "text/plain": [
       "model.freeze_backbone \u001b[3;91mFalse\u001b[0m\n"
      ]
     },
     "metadata": {},
     "output_type": "display_data"
    },
    {
     "data": {
      "text/html": [
       "<pre style=\"white-space:pre;overflow-x:auto;line-height:normal;font-family:Menlo,'DejaVu Sans Mono',consolas,'Courier New',monospace\">curr_weights_path \n",
       "<span style=\"color: #800080; text-decoration-color: #800080\">/home/docker/superglue_training/output/train/2024-06-26_superglue_model_evens_finished/weights/</span><span style=\"color: #ff00ff; text-decoration-color: #ff00ff\">best.pt</span>\n",
       "</pre>\n"
      ],
      "text/plain": [
       "curr_weights_path \n",
       "\u001b[35m/home/docker/superglue_training/output/train/2024-06-26_superglue_model_evens_finished/weights/\u001b[0m\u001b[95mbest.pt\u001b[0m\n"
      ]
     },
     "metadata": {},
     "output_type": "display_data"
    },
    {
     "name": "stdout",
     "output_type": "stream",
     "text": [
      "Loaded SuperPoint model\n",
      "Loaded SuperGlue model (\"/home/docker/superglue_training/output/train/2024-06-26_superglue_model_evens_finished/weights/best.pt\" weights)\n"
     ]
    },
    {
     "name": "stderr",
     "output_type": "stream",
     "text": [
      "100%|██████████| 61/61 [00:01<00:00, 48.71it/s]\n"
     ]
    },
    {
     "data": {
      "text/html": [
       "<pre style=\"white-space:pre;overflow-x:auto;line-height:normal;font-family:Menlo,'DejaVu Sans Mono',consolas,'Courier New',monospace\"><span style=\"color: #008000; text-decoration-color: #008000\">Loaded superglue templates </span><span style=\"color: #008000; text-decoration-color: #008000; font-weight: bold\">61</span>\n",
       "</pre>\n"
      ],
      "text/plain": [
       "\u001b[32mLoaded superglue templates \u001b[0m\u001b[1;32m61\u001b[0m\n"
      ]
     },
     "metadata": {},
     "output_type": "display_data"
    }
   ],
   "source": [
    "labelme_importer = LabelMeImporter()\n",
    "\n",
    "# from IPython.utils import io\n",
    "\n",
    "# with io.capture_output() as captured:"
   ]
  },
  {
   "cell_type": "code",
   "execution_count": 7,
   "metadata": {},
   "outputs": [
    {
     "data": {
      "text/html": [
       "<pre style=\"white-space:pre;overflow-x:auto;line-height:normal;font-family:Menlo,'DejaVu Sans Mono',consolas,'Courier New',monospace\"><span style=\"color: #000080; text-decoration-color: #000080\">resetting worksurface detection</span>\n",
       "</pre>\n"
      ],
      "text/plain": [
       "\u001b[34mresetting worksurface detection\u001b[0m\n"
      ]
     },
     "metadata": {},
     "output_type": "display_data"
    },
    {
     "name": "stderr",
     "output_type": "stream",
     "text": [
      "Converting 00_template_0010:   0%|          | 0/4 [00:00<?, ?it/s]"
     ]
    },
    {
     "data": {
      "text/html": [
       "<pre style=\"white-space:pre;overflow-x:auto;line-height:normal;font-family:Menlo,'DejaVu Sans Mono',consolas,'Courier New',monospace\">filename 00_template_0010.json\n",
       "</pre>\n"
      ],
      "text/plain": [
       "filename 00_template_0010.json\n"
      ]
     },
     "metadata": {},
     "output_type": "display_data"
    },
    {
     "data": {
      "text/html": [
       "<pre style=\"white-space:pre;overflow-x:auto;line-height:normal;font-family:Menlo,'DejaVu Sans Mono',consolas,'Courier New',monospace\">running worksurface detection<span style=\"color: #808000; text-decoration-color: #808000\">...</span>\n",
       "</pre>\n"
      ],
      "text/plain": [
       "running worksurface detection\u001b[33m...\u001b[0m\n"
      ]
     },
     "metadata": {},
     "output_type": "display_data"
    },
    {
     "data": {
      "text/html": [
       "<pre style=\"white-space:pre;overflow-x:auto;line-height:normal;font-family:Menlo,'DejaVu Sans Mono',consolas,'Courier New',monospace\"><span style=\"color: #000080; text-decoration-color: #000080\">camera: </span><span style=\"color: #000080; text-decoration-color: #000080; font-style: italic\">None</span>\n",
       "</pre>\n"
      ],
      "text/plain": [
       "\u001b[34mcamera: \u001b[0m\u001b[3;34mNone\u001b[0m\n"
      ]
     },
     "metadata": {},
     "output_type": "display_data"
    },
    {
     "data": {
      "text/html": [
       "<pre style=\"white-space:pre;overflow-x:auto;line-height:normal;font-family:Menlo,'DejaVu Sans Mono',consolas,'Courier New',monospace\"><span style=\"color: #800000; text-decoration-color: #800000\">labelme_importer: camera not set!</span>\n",
       "</pre>\n"
      ],
      "text/plain": [
       "\u001b[31mlabelme_importer: camera not set!\u001b[0m\n"
      ]
     },
     "metadata": {},
     "output_type": "display_data"
    },
    {
     "data": {
      "text/html": [
       "<pre style=\"white-space:pre;overflow-x:auto;line-height:normal;font-family:Menlo,'DejaVu Sans Mono',consolas,'Courier New',monospace\">classify: heimer, <span style=\"color: #008080; text-decoration-color: #008080; font-weight: bold\">06</span>, conf: <span style=\"color: #008080; text-decoration-color: #008080; font-weight: bold\">0.98</span>\n",
       "</pre>\n"
      ],
      "text/plain": [
       "classify: heimer, \u001b[1;36m06\u001b[0m, conf: \u001b[1;36m0.98\u001b[0m\n"
      ]
     },
     "metadata": {},
     "output_type": "display_data"
    },
    {
     "data": {
      "text/html": [
       "<pre style=\"white-space:pre;overflow-x:auto;line-height:normal;font-family:Menlo,'DejaVu Sans Mono',consolas,'Courier New',monospace\">elapsed_time_classify_and_rot <span style=\"color: #008080; text-decoration-color: #008080; font-weight: bold\">0.035885005025193095</span>\n",
       "</pre>\n"
      ],
      "text/plain": [
       "elapsed_time_classify_and_rot \u001b[1;36m0.035885005025193095\u001b[0m\n"
      ]
     },
     "metadata": {},
     "output_type": "display_data"
    },
    {
     "data": {
      "text/html": [
       "<pre style=\"white-space:pre;overflow-x:auto;line-height:normal;font-family:Menlo,'DejaVu Sans Mono',consolas,'Courier New',monospace\">A_relations: Device <span style=\"color: #008080; text-decoration-color: #008080; font-weight: bold\">1</span>: battery in hca, pcb in hca. \n",
       "</pre>\n"
      ],
      "text/plain": [
       "A_relations: Device \u001b[1;36m1\u001b[0m: battery in hca, pcb in hca. \n"
      ]
     },
     "metadata": {},
     "output_type": "display_data"
    },
    {
     "data": {
      "text/html": [
       "<pre style=\"white-space:pre;overflow-x:auto;line-height:normal;font-family:Menlo,'DejaVu Sans Mono',consolas,'Courier New',monospace\"><span style=\"color: #800000; text-decoration-color: #800000\">Missing module name!</span>\n",
       "</pre>\n"
      ],
      "text/plain": [
       "\u001b[31mMissing module name!\u001b[0m\n"
      ]
     },
     "metadata": {},
     "output_type": "display_data"
    },
    {
     "data": {
      "text/html": [
       "<pre style=\"white-space:pre;overflow-x:auto;line-height:normal;font-family:Menlo,'DejaVu Sans Mono',consolas,'Courier New',monospace\">A_positions: hca back <span style=\"font-weight: bold\">(</span>heimer<span style=\"font-weight: bold\">)</span> at <span style=\"font-weight: bold\">(</span><span style=\"color: #008080; text-decoration-color: #008080; font-weight: bold\">1477</span>, <span style=\"color: #008080; text-decoration-color: #008080; font-weight: bold\">1329</span><span style=\"font-weight: bold\">)</span>, battery at <span style=\"font-weight: bold\">(</span><span style=\"color: #008080; text-decoration-color: #008080; font-weight: bold\">1443</span>, <span style=\"color: #008080; text-decoration-color: #008080; font-weight: bold\">1328</span><span style=\"font-weight: bold\">)</span>, pcb at <span style=\"font-weight: bold\">(</span><span style=\"color: #008080; text-decoration-color: #008080; font-weight: bold\">1576</span>, <span style=\"color: #008080; text-decoration-color: #008080; font-weight: bold\">1331</span><span style=\"font-weight: bold\">)</span>. \n",
       "</pre>\n"
      ],
      "text/plain": [
       "A_positions: hca back \u001b[1m(\u001b[0mheimer\u001b[1m)\u001b[0m at \u001b[1m(\u001b[0m\u001b[1;36m1477\u001b[0m, \u001b[1;36m1329\u001b[0m\u001b[1m)\u001b[0m, battery at \u001b[1m(\u001b[0m\u001b[1;36m1443\u001b[0m, \u001b[1;36m1328\u001b[0m\u001b[1m)\u001b[0m, pcb at \u001b[1m(\u001b[0m\u001b[1;36m1576\u001b[0m, \u001b[1;36m1331\u001b[0m\u001b[1m)\u001b[0m. \n"
      ]
     },
     "metadata": {},
     "output_type": "display_data"
    },
    {
     "data": {
      "text/html": [
       "<pre style=\"white-space:pre;overflow-x:auto;line-height:normal;font-family:Menlo,'DejaVu Sans Mono',consolas,'Courier New',monospace\"><span style=\"color: #000080; text-decoration-color: #000080\">resetting worksurface detection</span>\n",
       "</pre>\n"
      ],
      "text/plain": [
       "\u001b[34mresetting worksurface detection\u001b[0m\n"
      ]
     },
     "metadata": {},
     "output_type": "display_data"
    },
    {
     "name": "stderr",
     "output_type": "stream",
     "text": [
      "Converting 00_template_0011:  25%|██▌       | 1/4 [00:00<00:00,  4.02it/s]"
     ]
    },
    {
     "data": {
      "text/html": [
       "<pre style=\"white-space:pre;overflow-x:auto;line-height:normal;font-family:Menlo,'DejaVu Sans Mono',consolas,'Courier New',monospace\">filename 00_template_0011.json\n",
       "</pre>\n"
      ],
      "text/plain": [
       "filename 00_template_0011.json\n"
      ]
     },
     "metadata": {},
     "output_type": "display_data"
    },
    {
     "data": {
      "text/html": [
       "<pre style=\"white-space:pre;overflow-x:auto;line-height:normal;font-family:Menlo,'DejaVu Sans Mono',consolas,'Courier New',monospace\">running worksurface detection<span style=\"color: #808000; text-decoration-color: #808000\">...</span>\n",
       "</pre>\n"
      ],
      "text/plain": [
       "running worksurface detection\u001b[33m...\u001b[0m\n"
      ]
     },
     "metadata": {},
     "output_type": "display_data"
    },
    {
     "data": {
      "text/html": [
       "<pre style=\"white-space:pre;overflow-x:auto;line-height:normal;font-family:Menlo,'DejaVu Sans Mono',consolas,'Courier New',monospace\"><span style=\"color: #000080; text-decoration-color: #000080\">camera: </span><span style=\"color: #000080; text-decoration-color: #000080; font-style: italic\">None</span>\n",
       "</pre>\n"
      ],
      "text/plain": [
       "\u001b[34mcamera: \u001b[0m\u001b[3;34mNone\u001b[0m\n"
      ]
     },
     "metadata": {},
     "output_type": "display_data"
    },
    {
     "data": {
      "text/html": [
       "<pre style=\"white-space:pre;overflow-x:auto;line-height:normal;font-family:Menlo,'DejaVu Sans Mono',consolas,'Courier New',monospace\"><span style=\"color: #800000; text-decoration-color: #800000\">labelme_importer: camera not set!</span>\n",
       "</pre>\n"
      ],
      "text/plain": [
       "\u001b[31mlabelme_importer: camera not set!\u001b[0m\n"
      ]
     },
     "metadata": {},
     "output_type": "display_data"
    },
    {
     "data": {
      "text/html": [
       "<pre style=\"white-space:pre;overflow-x:auto;line-height:normal;font-family:Menlo,'DejaVu Sans Mono',consolas,'Courier New',monospace\">classify: techem, <span style=\"color: #008080; text-decoration-color: #008080; font-weight: bold\">04</span>, conf: <span style=\"color: #008080; text-decoration-color: #008080; font-weight: bold\">0.74</span>\n",
       "</pre>\n"
      ],
      "text/plain": [
       "classify: techem, \u001b[1;36m04\u001b[0m, conf: \u001b[1;36m0.74\u001b[0m\n"
      ]
     },
     "metadata": {},
     "output_type": "display_data"
    },
    {
     "data": {
      "text/html": [
       "<pre style=\"white-space:pre;overflow-x:auto;line-height:normal;font-family:Menlo,'DejaVu Sans Mono',consolas,'Courier New',monospace\">elapsed_time_classify_and_rot <span style=\"color: #008080; text-decoration-color: #008080; font-weight: bold\">0.02158733201213181</span>\n",
       "</pre>\n"
      ],
      "text/plain": [
       "elapsed_time_classify_and_rot \u001b[1;36m0.02158733201213181\u001b[0m\n"
      ]
     },
     "metadata": {},
     "output_type": "display_data"
    },
    {
     "data": {
      "text/html": [
       "<pre style=\"white-space:pre;overflow-x:auto;line-height:normal;font-family:Menlo,'DejaVu Sans Mono',consolas,'Courier New',monospace\">A_relations: Device <span style=\"color: #008080; text-decoration-color: #008080; font-weight: bold\">1</span>: pcb in hca, battery in hca, battery next to pcb. \n",
       "</pre>\n"
      ],
      "text/plain": [
       "A_relations: Device \u001b[1;36m1\u001b[0m: pcb in hca, battery in hca, battery next to pcb. \n"
      ]
     },
     "metadata": {},
     "output_type": "display_data"
    },
    {
     "data": {
      "text/html": [
       "<pre style=\"white-space:pre;overflow-x:auto;line-height:normal;font-family:Menlo,'DejaVu Sans Mono',consolas,'Courier New',monospace\"><span style=\"color: #800000; text-decoration-color: #800000\">Missing module name!</span>\n",
       "</pre>\n"
      ],
      "text/plain": [
       "\u001b[31mMissing module name!\u001b[0m\n"
      ]
     },
     "metadata": {},
     "output_type": "display_data"
    },
    {
     "data": {
      "text/html": [
       "<pre style=\"white-space:pre;overflow-x:auto;line-height:normal;font-family:Menlo,'DejaVu Sans Mono',consolas,'Courier New',monospace\">A_positions: hca back <span style=\"font-weight: bold\">(</span>techem<span style=\"font-weight: bold\">)</span> at <span style=\"font-weight: bold\">(</span><span style=\"color: #008080; text-decoration-color: #008080; font-weight: bold\">1515</span>, <span style=\"color: #008080; text-decoration-color: #008080; font-weight: bold\">1318</span><span style=\"font-weight: bold\">)</span>, pcb at <span style=\"font-weight: bold\">(</span><span style=\"color: #008080; text-decoration-color: #008080; font-weight: bold\">1542</span>, <span style=\"color: #008080; text-decoration-color: #008080; font-weight: bold\">1319</span><span style=\"font-weight: bold\">)</span>, battery at <span style=\"font-weight: bold\">(</span><span style=\"color: #008080; text-decoration-color: #008080; font-weight: bold\">1718</span>, <span style=\"color: #008080; text-decoration-color: #008080; font-weight: bold\">1310</span><span style=\"font-weight: bold\">)</span>. \n",
       "</pre>\n"
      ],
      "text/plain": [
       "A_positions: hca back \u001b[1m(\u001b[0mtechem\u001b[1m)\u001b[0m at \u001b[1m(\u001b[0m\u001b[1;36m1515\u001b[0m, \u001b[1;36m1318\u001b[0m\u001b[1m)\u001b[0m, pcb at \u001b[1m(\u001b[0m\u001b[1;36m1542\u001b[0m, \u001b[1;36m1319\u001b[0m\u001b[1m)\u001b[0m, battery at \u001b[1m(\u001b[0m\u001b[1;36m1718\u001b[0m, \u001b[1;36m1310\u001b[0m\u001b[1m)\u001b[0m. \n"
      ]
     },
     "metadata": {},
     "output_type": "display_data"
    },
    {
     "data": {
      "text/html": [
       "<pre style=\"white-space:pre;overflow-x:auto;line-height:normal;font-family:Menlo,'DejaVu Sans Mono',consolas,'Courier New',monospace\"><span style=\"color: #000080; text-decoration-color: #000080\">resetting worksurface detection</span>\n",
       "</pre>\n"
      ],
      "text/plain": [
       "\u001b[34mresetting worksurface detection\u001b[0m\n"
      ]
     },
     "metadata": {},
     "output_type": "display_data"
    },
    {
     "name": "stderr",
     "output_type": "stream",
     "text": [
      "Converting 00_template_0013:  50%|█████     | 2/4 [00:00<00:00,  4.40it/s]"
     ]
    },
    {
     "data": {
      "text/html": [
       "<pre style=\"white-space:pre;overflow-x:auto;line-height:normal;font-family:Menlo,'DejaVu Sans Mono',consolas,'Courier New',monospace\">filename 00_template_0013.json\n",
       "</pre>\n"
      ],
      "text/plain": [
       "filename 00_template_0013.json\n"
      ]
     },
     "metadata": {},
     "output_type": "display_data"
    },
    {
     "data": {
      "text/html": [
       "<pre style=\"white-space:pre;overflow-x:auto;line-height:normal;font-family:Menlo,'DejaVu Sans Mono',consolas,'Courier New',monospace\">running worksurface detection<span style=\"color: #808000; text-decoration-color: #808000\">...</span>\n",
       "</pre>\n"
      ],
      "text/plain": [
       "running worksurface detection\u001b[33m...\u001b[0m\n"
      ]
     },
     "metadata": {},
     "output_type": "display_data"
    },
    {
     "data": {
      "text/html": [
       "<pre style=\"white-space:pre;overflow-x:auto;line-height:normal;font-family:Menlo,'DejaVu Sans Mono',consolas,'Courier New',monospace\"><span style=\"color: #000080; text-decoration-color: #000080\">camera: </span><span style=\"color: #000080; text-decoration-color: #000080; font-style: italic\">None</span>\n",
       "</pre>\n"
      ],
      "text/plain": [
       "\u001b[34mcamera: \u001b[0m\u001b[3;34mNone\u001b[0m\n"
      ]
     },
     "metadata": {},
     "output_type": "display_data"
    },
    {
     "data": {
      "text/html": [
       "<pre style=\"white-space:pre;overflow-x:auto;line-height:normal;font-family:Menlo,'DejaVu Sans Mono',consolas,'Courier New',monospace\"><span style=\"color: #800000; text-decoration-color: #800000\">labelme_importer: camera not set!</span>\n",
       "</pre>\n"
      ],
      "text/plain": [
       "\u001b[31mlabelme_importer: camera not set!\u001b[0m\n"
      ]
     },
     "metadata": {},
     "output_type": "display_data"
    },
    {
     "data": {
      "text/html": [
       "<pre style=\"white-space:pre;overflow-x:auto;line-height:normal;font-family:Menlo,'DejaVu Sans Mono',consolas,'Courier New',monospace\">classify: caloric, <span style=\"color: #008080; text-decoration-color: #008080; font-weight: bold\">07</span>, conf: <span style=\"color: #008080; text-decoration-color: #008080; font-weight: bold\">1.00</span>\n",
       "</pre>\n"
      ],
      "text/plain": [
       "classify: caloric, \u001b[1;36m07\u001b[0m, conf: \u001b[1;36m1.00\u001b[0m\n"
      ]
     },
     "metadata": {},
     "output_type": "display_data"
    },
    {
     "data": {
      "text/html": [
       "<pre style=\"white-space:pre;overflow-x:auto;line-height:normal;font-family:Menlo,'DejaVu Sans Mono',consolas,'Courier New',monospace\">elapsed_time_classify_and_rot <span style=\"color: #008080; text-decoration-color: #008080; font-weight: bold\">0.019805445102974772</span>\n",
       "</pre>\n"
      ],
      "text/plain": [
       "elapsed_time_classify_and_rot \u001b[1;36m0.019805445102974772\u001b[0m\n"
      ]
     },
     "metadata": {},
     "output_type": "display_data"
    },
    {
     "data": {
      "text/html": [
       "<pre style=\"white-space:pre;overflow-x:auto;line-height:normal;font-family:Menlo,'DejaVu Sans Mono',consolas,'Courier New',monospace\">A_relations: Device <span style=\"color: #008080; text-decoration-color: #008080; font-weight: bold\">1</span>: plastic_clip in hca, internals in hca, internals next to plastic_clip. \n",
       "</pre>\n"
      ],
      "text/plain": [
       "A_relations: Device \u001b[1;36m1\u001b[0m: plastic_clip in hca, internals in hca, internals next to plastic_clip. \n"
      ]
     },
     "metadata": {},
     "output_type": "display_data"
    },
    {
     "data": {
      "text/html": [
       "<pre style=\"white-space:pre;overflow-x:auto;line-height:normal;font-family:Menlo,'DejaVu Sans Mono',consolas,'Courier New',monospace\"><span style=\"color: #800000; text-decoration-color: #800000\">Missing module name!</span>\n",
       "</pre>\n"
      ],
      "text/plain": [
       "\u001b[31mMissing module name!\u001b[0m\n"
      ]
     },
     "metadata": {},
     "output_type": "display_data"
    },
    {
     "data": {
      "text/html": [
       "<pre style=\"white-space:pre;overflow-x:auto;line-height:normal;font-family:Menlo,'DejaVu Sans Mono',consolas,'Courier New',monospace\">A_positions: hca back <span style=\"font-weight: bold\">(</span>caloric<span style=\"font-weight: bold\">)</span> at <span style=\"font-weight: bold\">(</span><span style=\"color: #008080; text-decoration-color: #008080; font-weight: bold\">1474</span>, <span style=\"color: #008080; text-decoration-color: #008080; font-weight: bold\">1328</span><span style=\"font-weight: bold\">)</span>, plastic_clip at <span style=\"font-weight: bold\">(</span><span style=\"color: #008080; text-decoration-color: #008080; font-weight: bold\">1286</span>, <span style=\"color: #008080; text-decoration-color: #008080; font-weight: bold\">1325</span><span style=\"font-weight: bold\">)</span>, internals at <span style=\"font-weight: bold\">(</span><span style=\"color: #008080; text-decoration-color: #008080; font-weight: bold\">1451</span>, <span style=\"color: #008080; text-decoration-color: #008080; font-weight: bold\">1329</span><span style=\"font-weight: bold\">)</span>. \n",
       "</pre>\n"
      ],
      "text/plain": [
       "A_positions: hca back \u001b[1m(\u001b[0mcaloric\u001b[1m)\u001b[0m at \u001b[1m(\u001b[0m\u001b[1;36m1474\u001b[0m, \u001b[1;36m1328\u001b[0m\u001b[1m)\u001b[0m, plastic_clip at \u001b[1m(\u001b[0m\u001b[1;36m1286\u001b[0m, \u001b[1;36m1325\u001b[0m\u001b[1m)\u001b[0m, internals at \u001b[1m(\u001b[0m\u001b[1;36m1451\u001b[0m, \u001b[1;36m1329\u001b[0m\u001b[1m)\u001b[0m. \n"
      ]
     },
     "metadata": {},
     "output_type": "display_data"
    },
    {
     "data": {
      "text/html": [
       "<pre style=\"white-space:pre;overflow-x:auto;line-height:normal;font-family:Menlo,'DejaVu Sans Mono',consolas,'Courier New',monospace\"><span style=\"color: #000080; text-decoration-color: #000080\">resetting worksurface detection</span>\n",
       "</pre>\n"
      ],
      "text/plain": [
       "\u001b[34mresetting worksurface detection\u001b[0m\n"
      ]
     },
     "metadata": {},
     "output_type": "display_data"
    },
    {
     "name": "stderr",
     "output_type": "stream",
     "text": [
      "Converting 00_template_0073:  75%|███████▌  | 3/4 [00:00<00:00,  4.53it/s]"
     ]
    },
    {
     "data": {
      "text/html": [
       "<pre style=\"white-space:pre;overflow-x:auto;line-height:normal;font-family:Menlo,'DejaVu Sans Mono',consolas,'Courier New',monospace\">filename 00_template_0073.json\n",
       "</pre>\n"
      ],
      "text/plain": [
       "filename 00_template_0073.json\n"
      ]
     },
     "metadata": {},
     "output_type": "display_data"
    },
    {
     "data": {
      "text/html": [
       "<pre style=\"white-space:pre;overflow-x:auto;line-height:normal;font-family:Menlo,'DejaVu Sans Mono',consolas,'Courier New',monospace\">running worksurface detection<span style=\"color: #808000; text-decoration-color: #808000\">...</span>\n",
       "</pre>\n"
      ],
      "text/plain": [
       "running worksurface detection\u001b[33m...\u001b[0m\n"
      ]
     },
     "metadata": {},
     "output_type": "display_data"
    },
    {
     "data": {
      "text/html": [
       "<pre style=\"white-space:pre;overflow-x:auto;line-height:normal;font-family:Menlo,'DejaVu Sans Mono',consolas,'Courier New',monospace\"><span style=\"color: #000080; text-decoration-color: #000080\">camera: </span><span style=\"color: #000080; text-decoration-color: #000080; font-style: italic\">None</span>\n",
       "</pre>\n"
      ],
      "text/plain": [
       "\u001b[34mcamera: \u001b[0m\u001b[3;34mNone\u001b[0m\n"
      ]
     },
     "metadata": {},
     "output_type": "display_data"
    },
    {
     "data": {
      "text/html": [
       "<pre style=\"white-space:pre;overflow-x:auto;line-height:normal;font-family:Menlo,'DejaVu Sans Mono',consolas,'Courier New',monospace\"><span style=\"color: #800000; text-decoration-color: #800000\">labelme_importer: camera not set!</span>\n",
       "</pre>\n"
      ],
      "text/plain": [
       "\u001b[31mlabelme_importer: camera not set!\u001b[0m\n"
      ]
     },
     "metadata": {},
     "output_type": "display_data"
    },
    {
     "data": {
      "text/html": [
       "<pre style=\"white-space:pre;overflow-x:auto;line-height:normal;font-family:Menlo,'DejaVu Sans Mono',consolas,'Courier New',monospace\">classify: kalo2, <span style=\"color: #008080; text-decoration-color: #008080; font-weight: bold\">01.1</span>, conf: <span style=\"color: #008080; text-decoration-color: #008080; font-weight: bold\">0.67</span>\n",
       "</pre>\n"
      ],
      "text/plain": [
       "classify: kalo2, \u001b[1;36m01.1\u001b[0m, conf: \u001b[1;36m0.67\u001b[0m\n"
      ]
     },
     "metadata": {},
     "output_type": "display_data"
    },
    {
     "data": {
      "text/html": [
       "<pre style=\"white-space:pre;overflow-x:auto;line-height:normal;font-family:Menlo,'DejaVu Sans Mono',consolas,'Courier New',monospace\">elapsed_time_classify_and_rot <span style=\"color: #008080; text-decoration-color: #008080; font-weight: bold\">0.023189859930425882</span>\n",
       "</pre>\n"
      ],
      "text/plain": [
       "elapsed_time_classify_and_rot \u001b[1;36m0.023189859930425882\u001b[0m\n"
      ]
     },
     "metadata": {},
     "output_type": "display_data"
    },
    {
     "data": {
      "text/html": [
       "<pre style=\"white-space:pre;overflow-x:auto;line-height:normal;font-family:Menlo,'DejaVu Sans Mono',consolas,'Courier New',monospace\">A_relations: Device <span style=\"color: #008080; text-decoration-color: #008080; font-weight: bold\">1</span>: battery in hca, pcb in hca, battery next to pcb. \n",
       "</pre>\n"
      ],
      "text/plain": [
       "A_relations: Device \u001b[1;36m1\u001b[0m: battery in hca, pcb in hca, battery next to pcb. \n"
      ]
     },
     "metadata": {},
     "output_type": "display_data"
    },
    {
     "data": {
      "text/html": [
       "<pre style=\"white-space:pre;overflow-x:auto;line-height:normal;font-family:Menlo,'DejaVu Sans Mono',consolas,'Courier New',monospace\"><span style=\"color: #800000; text-decoration-color: #800000\">Missing module name!</span>\n",
       "</pre>\n"
      ],
      "text/plain": [
       "\u001b[31mMissing module name!\u001b[0m\n"
      ]
     },
     "metadata": {},
     "output_type": "display_data"
    },
    {
     "data": {
      "text/html": [
       "<pre style=\"white-space:pre;overflow-x:auto;line-height:normal;font-family:Menlo,'DejaVu Sans Mono',consolas,'Courier New',monospace\">A_positions: hca back <span style=\"font-weight: bold\">(</span>kalo2<span style=\"font-weight: bold\">)</span> at <span style=\"font-weight: bold\">(</span><span style=\"color: #008080; text-decoration-color: #008080; font-weight: bold\">1434</span>, <span style=\"color: #008080; text-decoration-color: #008080; font-weight: bold\">1309</span><span style=\"font-weight: bold\">)</span>, battery at <span style=\"font-weight: bold\">(</span><span style=\"color: #008080; text-decoration-color: #008080; font-weight: bold\">1337</span>, <span style=\"color: #008080; text-decoration-color: #008080; font-weight: bold\">1308</span><span style=\"font-weight: bold\">)</span>, pcb at <span style=\"font-weight: bold\">(</span><span style=\"color: #008080; text-decoration-color: #008080; font-weight: bold\">1509</span>, <span style=\"color: #008080; text-decoration-color: #008080; font-weight: bold\">1311</span><span style=\"font-weight: bold\">)</span>. \n",
       "</pre>\n"
      ],
      "text/plain": [
       "A_positions: hca back \u001b[1m(\u001b[0mkalo2\u001b[1m)\u001b[0m at \u001b[1m(\u001b[0m\u001b[1;36m1434\u001b[0m, \u001b[1;36m1309\u001b[0m\u001b[1m)\u001b[0m, battery at \u001b[1m(\u001b[0m\u001b[1;36m1337\u001b[0m, \u001b[1;36m1308\u001b[0m\u001b[1m)\u001b[0m, pcb at \u001b[1m(\u001b[0m\u001b[1;36m1509\u001b[0m, \u001b[1;36m1311\u001b[0m\u001b[1m)\u001b[0m. \n"
      ]
     },
     "metadata": {},
     "output_type": "display_data"
    },
    {
     "data": {
      "text/html": [
       "<pre style=\"white-space:pre;overflow-x:auto;line-height:normal;font-family:Menlo,'DejaVu Sans Mono',consolas,'Courier New',monospace\"><span style=\"color: #000080; text-decoration-color: #000080\">resetting worksurface detection</span>\n",
       "</pre>\n"
      ],
      "text/plain": [
       "\u001b[34mresetting worksurface detection\u001b[0m\n"
      ]
     },
     "metadata": {},
     "output_type": "display_data"
    },
    {
     "name": "stderr",
     "output_type": "stream",
     "text": [
      "Converting 00_template_0073: 100%|██████████| 4/4 [00:00<00:00,  4.52it/s]\n"
     ]
    },
    {
     "name": "stdout",
     "output_type": "stream",
     "text": [
      "shutdown request: [/asdf] Reason: new node registered with same name\n"
     ]
    }
   ],
   "source": [
    "# folder = kg_nodes_path / \"kalo\"\n",
    "# folder = kg_nodes_path / \"hekatron\"\n",
    "# folder = kg_nodes_path / \"qundis\"\n",
    "folder = Path(\"~/datasets2/reconcycle/knowledge_tree_tests\").expanduser()\n",
    "    \n",
    "# gt_device = folder.name\n",
    "# print(\"gt_device\", gt_device)\n",
    "\n",
    "for img_path, process_labelme_dir, detections, graph_relations, module, camera, batch_crop_imgs in labelme_importer.process_labelme_dir(folder, use_yield=True):\n",
    "\n",
    "    stem = Path(img_path).stem\n",
    "\n",
    "\n",
    "    A_relations = graph_relations.to_text()\n",
    "    print(\"A_relations:\", A_relations)\n",
    "    \n",
    "    # include the module name in the relations\n",
    "    if module is not None:\n",
    "        print(\"module\", module.name)\n",
    "        A_relations = f\"at_location(table_{module.name}). \" + A_relations\n",
    "    else:\n",
    "        print(\"[red]Missing module name!\")\n",
    "    \n",
    "    positions_list = []\n",
    "    for detection in detections:\n",
    "        text = f\"{detection.label.name}\"\n",
    "        if detection.label_face is not None:\n",
    "            text += f\" {detection.label_face.name}\"\n",
    "        \n",
    "        # todo: better label names\n",
    "        # if detection.label_precise is not None:\n",
    "        #     label_id = detection.label_precise.split(\"_\")[-1]\n",
    "        #     text += f\" (id: {label_id})\"\n",
    "\n",
    "        if detection.label_precise_name is not None:\n",
    "            text += f\" ({detection.label_precise_name})\"\n",
    "    \n",
    "        text += f\" at ({detection.center_px[0]}, {detection.center_px[1]})\"\n",
    "        positions_list.append(text)\n",
    "\n",
    "        # print(\"detection name\", detection.label.name)\n",
    "        # print(f\"detection center: {detection.center_px[0]}, {detection.center_px[1]}\")\n",
    "\n",
    "        # print(\"detection\", detection)\n",
    "    \n",
    "    A_positions = \", \".join(positions_list) + \". \"\n",
    "\n",
    "    print(\"A_positions:\", A_positions)\n",
    "    \n",
    "\n",
    "    \n"
   ]
  }
 ],
 "metadata": {
  "kernelspec": {
   "display_name": "Python 3",
   "language": "python",
   "name": "python3"
  },
  "language_info": {
   "codemirror_mode": {
    "name": "ipython",
    "version": 3
   },
   "file_extension": ".py",
   "mimetype": "text/x-python",
   "name": "python",
   "nbconvert_exporter": "python",
   "pygments_lexer": "ipython3",
   "version": "3.8.10"
  }
 },
 "nbformat": 4,
 "nbformat_minor": 2
}
