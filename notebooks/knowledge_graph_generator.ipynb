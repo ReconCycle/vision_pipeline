{
 "cells": [
  {
   "cell_type": "code",
   "execution_count": 8,
   "metadata": {},
   "outputs": [
    {
     "name": "stdout",
     "output_type": "stream",
     "text": [
      "The autoreload extension is already loaded. To reload it, use:\n",
      "  %reload_ext autoreload\n"
     ]
    }
   ],
   "source": [
    "%load_ext autoreload\n",
    "%autoreload 2\n",
    "\n",
    "import os\n",
    "os.environ[\"CUDA_DEVICE_ORDER\"]=\"PCI_BUS_ID\"   # see issue #152\n",
    "os.environ[\"CUDA_VISIBLE_DEVICES\"]=\"3\" #! specify gpu here\n",
    "import sys\n",
    "import numpy as np\n",
    "import cv2\n",
    "import time\n",
    "import torch\n",
    "import clip\n",
    "from PIL import Image\n",
    "from rich import print\n",
    "from tqdm import tqdm\n",
    "from pathlib import Path\n",
    "import csv\n",
    "import json\n",
    "import click\n",
    "\n",
    "from vision_pipeline.llm_data_generator.labelme_importer import LabelMeImporter\n"
   ]
  },
  {
   "cell_type": "code",
   "execution_count": 9,
   "metadata": {},
   "outputs": [],
   "source": [
    "qa_disassembly_step = {\n",
    "    \"Q\": \"What is the next disassembly step?\",\n",
    "    \"A\": \"\" #  \"Turn the device over to show the back.\"\n",
    "}\n",
    "qa_relations = {\n",
    "    \"Q\": \"What are the object relations?\",\n",
    "    \"A\": \"\" # \"PCB inside HCA, ...\"\n",
    "}\n",
    "qa_positions = {\n",
    "    \"Q\": \"What are the object positions?\",\n",
    "    \"A\": \"\" # \"HCA at (302, 300), PCB at (...), ...\"\n",
    "}\n",
    "qa_json_disassembly_step = {\n",
    "    \"Q\": \"What is the JSON formatted disassembly step?\",\n",
    "    \"A\": {\n",
    "        \"reasoning\": \"\",\n",
    "        \"action\": \"\",\n",
    "        \"action_input\": \"\"\n",
    "    }\n",
    "}\n",
    "\n",
    "qas = [qa_disassembly_step, qa_relations, qa_positions, qa_json_disassembly_step]"
   ]
  },
  {
   "cell_type": "code",
   "execution_count": 10,
   "metadata": {},
   "outputs": [
    {
     "data": {
      "text/html": [
       "<pre style=\"white-space:pre;overflow-x:auto;line-height:normal;font-family:Menlo,'DejaVu Sans Mono',consolas,'Courier New',monospace\">kg_nodes_path <span style=\"color: #800080; text-decoration-color: #800080\">/home/docker/datasets2/reconcycle/knowledge_graph/data/</span><span style=\"color: #ff00ff; text-decoration-color: #ff00ff\">nodes</span>\n",
       "</pre>\n"
      ],
      "text/plain": [
       "kg_nodes_path \u001b[35m/home/docker/datasets2/reconcycle/knowledge_graph/data/\u001b[0m\u001b[95mnodes\u001b[0m\n"
      ]
     },
     "metadata": {},
     "output_type": "display_data"
    }
   ],
   "source": [
    "kg_path = Path(\"~/datasets2/reconcycle/knowledge_graph\").expanduser()\n",
    "kg_nodes_path = kg_path / \"data\" / \"nodes\"\n",
    "kg_edges_path = kg_path / \"data\" / \"graph_edges.csv\"\n",
    "\n",
    "print(\"kg_nodes_path\", kg_nodes_path)\n"
   ]
  },
  {
   "cell_type": "code",
   "execution_count": 11,
   "metadata": {},
   "outputs": [
    {
     "data": {
      "text/html": [
       "<pre style=\"white-space:pre;overflow-x:auto;line-height:normal;font-family:Menlo,'DejaVu Sans Mono',consolas,'Courier New',monospace\"><span style=\"font-weight: bold\">[</span><span style=\"color: #008000; text-decoration-color: #008000\">'kalo'</span>, <span style=\"color: #008000; text-decoration-color: #008000\">'qundis'</span><span style=\"font-weight: bold\">]</span>\n",
       "</pre>\n"
      ],
      "text/plain": [
       "\u001b[1m[\u001b[0m\u001b[32m'kalo'\u001b[0m, \u001b[32m'qundis'\u001b[0m\u001b[1m]\u001b[0m\n"
      ]
     },
     "metadata": {},
     "output_type": "display_data"
    }
   ],
   "source": [
    "hcas = []\n",
    "with open(kg_edges_path, 'r') as f:\n",
    "    reader = csv.reader(f)\n",
    "    for row in reader:\n",
    "        if len(row) >= 2 and row[1] == 'hca':\n",
    "            hcas.append(row[0])\n",
    "\n",
    "print(hcas)"
   ]
  },
  {
   "cell_type": "code",
   "execution_count": 15,
   "metadata": {},
   "outputs": [
    {
     "data": {
      "text/html": [
       "<pre style=\"white-space:pre;overflow-x:auto;line-height:normal;font-family:Menlo,'DejaVu Sans Mono',consolas,'Courier New',monospace\">config:\n",
       "<span style=\"font-weight: bold\">{</span>\n",
       "    <span style=\"color: #008000; text-decoration-color: #008000\">'node_name'</span>: <span style=\"color: #008000; text-decoration-color: #008000\">'vision'</span>,\n",
       "    <span style=\"color: #008000; text-decoration-color: #008000\">'reid'</span>: <span style=\"color: #ff0000; text-decoration-color: #ff0000; font-style: italic\">False</span>,\n",
       "    <span style=\"color: #008000; text-decoration-color: #008000\">'basler'</span>: <span style=\"font-weight: bold\">{</span>\n",
       "        <span style=\"color: #008000; text-decoration-color: #008000\">'target_fps'</span>: <span style=\"color: #008080; text-decoration-color: #008080; font-weight: bold\">2</span>,\n",
       "        <span style=\"color: #008000; text-decoration-color: #008000\">'max_allowed_acquisition_delay'</span>: <span style=\"color: #008080; text-decoration-color: #008080; font-weight: bold\">1.0</span>,\n",
       "        <span style=\"color: #008000; text-decoration-color: #008000\">'rotate_img'</span>: <span style=\"color: #008080; text-decoration-color: #008080; font-weight: bold\">180</span>,\n",
       "        <span style=\"color: #008000; text-decoration-color: #008000\">'topic'</span>: <span style=\"color: #008000; text-decoration-color: #008000\">'basler'</span>,\n",
       "        <span style=\"color: #008000; text-decoration-color: #008000\">'camera_node'</span>: <span style=\"color: #008000; text-decoration-color: #008000\">'/basler'</span>,\n",
       "        <span style=\"color: #008000; text-decoration-color: #008000\">'image_topic'</span>: <span style=\"color: #008000; text-decoration-color: #008000\">'image_rect_color'</span>,\n",
       "        <span style=\"color: #008000; text-decoration-color: #008000\">'sleep_camera_on_exit'</span>: <span style=\"color: #ff0000; text-decoration-color: #ff0000; font-style: italic\">False</span>,\n",
       "        <span style=\"color: #008000; text-decoration-color: #008000\">'publish_labelled_img'</span>: <span style=\"color: #00ff00; text-decoration-color: #00ff00; font-style: italic\">True</span>,\n",
       "        <span style=\"color: #008000; text-decoration-color: #008000\">'publish_graph_img'</span>: <span style=\"color: #00ff00; text-decoration-color: #00ff00; font-style: italic\">True</span>,\n",
       "        <span style=\"color: #008000; text-decoration-color: #008000\">'has_depth'</span>: <span style=\"color: #ff0000; text-decoration-color: #ff0000; font-style: italic\">False</span>,\n",
       "        <span style=\"color: #008000; text-decoration-color: #008000\">'run_continuous'</span>: <span style=\"color: #ff0000; text-decoration-color: #ff0000; font-style: italic\">False</span>,\n",
       "        <span style=\"color: #008000; text-decoration-color: #008000\">'wait_for_services'</span>: <span style=\"color: #ff0000; text-decoration-color: #ff0000; font-style: italic\">False</span>,\n",
       "        <span style=\"color: #008000; text-decoration-color: #008000\">'detect_arucos'</span>: <span style=\"color: #ff0000; text-decoration-color: #ff0000; font-style: italic\">False</span>,\n",
       "        <span style=\"color: #008000; text-decoration-color: #008000\">'parent_frame'</span>: <span style=\"color: #008000; text-decoration-color: #008000\">'vision_table_zero'</span>,\n",
       "        <span style=\"color: #008000; text-decoration-color: #008000\">'create_parent_frame'</span>: <span style=\"color: #ff0000; text-decoration-color: #ff0000; font-style: italic\">False</span>,\n",
       "        <span style=\"color: #008000; text-decoration-color: #008000\">'marker_lifetime'</span>: <span style=\"color: #008080; text-decoration-color: #008080; font-weight: bold\">1</span>,\n",
       "        <span style=\"color: #008000; text-decoration-color: #008000\">'work_surface_ignore_border_width'</span>: <span style=\"color: #008080; text-decoration-color: #008080; font-weight: bold\">100</span>,\n",
       "        <span style=\"color: #008000; text-decoration-color: #008000\">'show_work_surface_detection'</span>: <span style=\"color: #00ff00; text-decoration-color: #00ff00; font-style: italic\">True</span>,\n",
       "        <span style=\"color: #008000; text-decoration-color: #008000\">'use_worksurface_detection'</span>: <span style=\"color: #00ff00; text-decoration-color: #00ff00; font-style: italic\">True</span>,\n",
       "        <span style=\"color: #008000; text-decoration-color: #008000\">'debug_work_surface_detection'</span>: <span style=\"color: #ff0000; text-decoration-color: #ff0000; font-style: italic\">False</span>\n",
       "    <span style=\"font-weight: bold\">}</span>,\n",
       "    <span style=\"color: #008000; text-decoration-color: #008000\">'realsense'</span>: <span style=\"font-weight: bold\">{</span>\n",
       "        <span style=\"color: #008000; text-decoration-color: #008000\">'target_fps'</span>: <span style=\"color: #008080; text-decoration-color: #008080; font-weight: bold\">2</span>,\n",
       "        <span style=\"color: #008000; text-decoration-color: #008000\">'max_allowed_acquisition_delay'</span>: <span style=\"color: #008080; text-decoration-color: #008080; font-weight: bold\">1.0</span>,\n",
       "        <span style=\"color: #008000; text-decoration-color: #008000\">'rotate_img'</span>: <span style=\"color: #008080; text-decoration-color: #008080; font-weight: bold\">0</span>,\n",
       "        <span style=\"color: #008000; text-decoration-color: #008000\">'topic'</span>: <span style=\"color: #008000; text-decoration-color: #008000\">'realsense'</span>,\n",
       "        <span style=\"color: #008000; text-decoration-color: #008000\">'camera_node'</span>: <span style=\"color: #008000; text-decoration-color: #008000\">'/realsense'</span>,\n",
       "        <span style=\"color: #008000; text-decoration-color: #008000\">'image_topic'</span>: <span style=\"color: #008000; text-decoration-color: #008000\">'color/image_raw'</span>,\n",
       "        <span style=\"color: #008000; text-decoration-color: #008000\">'info_topic'</span>: <span style=\"color: #008000; text-decoration-color: #008000\">'color/camera_info'</span>,\n",
       "        <span style=\"color: #008000; text-decoration-color: #008000\">'depth_topic'</span>: <span style=\"color: #008000; text-decoration-color: #008000\">'aligned_depth_to_color/image_raw'</span>,\n",
       "        <span style=\"color: #008000; text-decoration-color: #008000\">'sleep_camera_on_exit'</span>: <span style=\"color: #ff0000; text-decoration-color: #ff0000; font-style: italic\">False</span>,\n",
       "        <span style=\"color: #008000; text-decoration-color: #008000\">'publish_labelled_img'</span>: <span style=\"color: #00ff00; text-decoration-color: #00ff00; font-style: italic\">True</span>,\n",
       "        <span style=\"color: #008000; text-decoration-color: #008000\">'publish_depth_img'</span>: <span style=\"color: #00ff00; text-decoration-color: #00ff00; font-style: italic\">True</span>,\n",
       "        <span style=\"color: #008000; text-decoration-color: #008000\">'publish_cluster_img'</span>: <span style=\"color: #00ff00; text-decoration-color: #00ff00; font-style: italic\">True</span>,\n",
       "        <span style=\"color: #008000; text-decoration-color: #008000\">'publish_graph_img'</span>: <span style=\"color: #ff0000; text-decoration-color: #ff0000; font-style: italic\">False</span>,\n",
       "        <span style=\"color: #008000; text-decoration-color: #008000\">'has_depth'</span>: <span style=\"color: #00ff00; text-decoration-color: #00ff00; font-style: italic\">True</span>,\n",
       "        <span style=\"color: #008000; text-decoration-color: #008000\">'run_continuous'</span>: <span style=\"color: #ff0000; text-decoration-color: #ff0000; font-style: italic\">False</span>,\n",
       "        <span style=\"color: #008000; text-decoration-color: #008000\">'wait_for_services'</span>: <span style=\"color: #ff0000; text-decoration-color: #ff0000; font-style: italic\">False</span>,\n",
       "        <span style=\"color: #008000; text-decoration-color: #008000\">'detect_arucos'</span>: <span style=\"color: #ff0000; text-decoration-color: #ff0000; font-style: italic\">False</span>,\n",
       "        <span style=\"color: #008000; text-decoration-color: #008000\">'camera_height'</span>: <span style=\"color: #008080; text-decoration-color: #008080; font-weight: bold\">0.2</span>,\n",
       "        <span style=\"color: #008000; text-decoration-color: #008000\">'parent_frame'</span>: <span style=\"color: #008000; text-decoration-color: #008000\">'panda_2/realsense'</span>,\n",
       "        <span style=\"color: #008000; text-decoration-color: #008000\">'create_parent_frame'</span>: <span style=\"color: #ff0000; text-decoration-color: #ff0000; font-style: italic\">False</span>,\n",
       "        <span style=\"color: #008000; text-decoration-color: #008000\">'marker_lifetime'</span>: <span style=\"color: #008080; text-decoration-color: #008080; font-weight: bold\">1</span>,\n",
       "        <span style=\"color: #008000; text-decoration-color: #008000\">'calibration_file'</span>: <span style=\"color: #008000; text-decoration-color: #008000\">'~/vision_pipeline/realsense_calib/realsense_calib.yaml'</span>,\n",
       "        <span style=\"color: #008000; text-decoration-color: #008000\">'debug_clustering'</span>: <span style=\"color: #ff0000; text-decoration-color: #ff0000; font-style: italic\">False</span>\n",
       "    <span style=\"font-weight: bold\">}</span>,\n",
       "    <span style=\"color: #008000; text-decoration-color: #008000\">'obj_detection'</span>: <span style=\"font-weight: bold\">{</span>\n",
       "        <span style=\"color: #008000; text-decoration-color: #008000\">'debug'</span>: <span style=\"color: #00ff00; text-decoration-color: #00ff00; font-style: italic\">True</span>,\n",
       "        <span style=\"color: #008000; text-decoration-color: #008000\">'model'</span>: <span style=\"color: #008000; text-decoration-color: #008000\">'yolov8'</span>,\n",
       "        <span style=\"color: #008000; text-decoration-color: #008000\">'yolact_dataset_file'</span>: <span style=\"color: #008000; text-decoration-color: #008000\">'~/vision_pipeline/data_limited/yolact/2023-07-18_firealarms_hcas/dataset.json'</span>,\n",
       "        <span style=\"color: #008000; text-decoration-color: #008000\">'yolact_score_threshold'</span>: <span style=\"color: #008080; text-decoration-color: #008080; font-weight: bold\">0.5</span>,\n",
       "        <span style=\"color: #008000; text-decoration-color: #008000\">'yolov8_model_file'</span>: <span style=\"color: #008000; text-decoration-color: #008000\">'~/vision_pipeline/data_limited/yolov8/output_2023-08-25_20000/best.pt'</span>,\n",
       "        <span style=\"color: #008000; text-decoration-color: #008000\">'yolov8_score_threshold'</span>: <span style=\"color: #008080; text-decoration-color: #008080; font-weight: bold\">0.5</span>,\n",
       "        <span style=\"color: #008000; text-decoration-color: #008000\">'superglue_templates'</span>: <span style=\"color: #008000; text-decoration-color: #008000\">'~/datasets2/reconcycle/2023-12-04_hcas_fire_alarms_sorted_cropped'</span>,\n",
       "        <span style=\"color: #008000; text-decoration-color: #008000\">'superglue_model_file'</span>: <span style=\"color: #008000; text-decoration-color: #008000\">'~/superglue_training/output/train/2023-11-18_superglue_model/weights/best.pt'</span>,\n",
       "        <span style=\"color: #008000; text-decoration-color: #008000\">'superglue_match_threshold'</span>: <span style=\"color: #008080; text-decoration-color: #008080; font-weight: bold\">0.5</span>,\n",
       "        <span style=\"color: #008000; text-decoration-color: #008000\">'rotation_median_filter'</span>: <span style=\"color: #00ff00; text-decoration-color: #00ff00; font-style: italic\">True</span>,\n",
       "        <span style=\"color: #008000; text-decoration-color: #008000\">'classifier_model_file'</span>: \n",
       "<span style=\"color: #008000; text-decoration-color: #008000\">'~/device_reid/results/2024-03-21__15-58_classify_WORKING/lightning_logs/version_0/checkpoints/epoch=212-step=212.c</span>\n",
       "<span style=\"color: #008000; text-decoration-color: #008000\">kpt'</span>,\n",
       "        <span style=\"color: #008000; text-decoration-color: #008000\">'classifier_threshold'</span>: <span style=\"color: #008080; text-decoration-color: #008080; font-weight: bold\">0.5</span>\n",
       "    <span style=\"font-weight: bold\">}</span>\n",
       "<span style=\"font-weight: bold\">}</span>\n",
       "</pre>\n"
      ],
      "text/plain": [
       "config:\n",
       "\u001b[1m{\u001b[0m\n",
       "    \u001b[32m'node_name'\u001b[0m: \u001b[32m'vision'\u001b[0m,\n",
       "    \u001b[32m'reid'\u001b[0m: \u001b[3;91mFalse\u001b[0m,\n",
       "    \u001b[32m'basler'\u001b[0m: \u001b[1m{\u001b[0m\n",
       "        \u001b[32m'target_fps'\u001b[0m: \u001b[1;36m2\u001b[0m,\n",
       "        \u001b[32m'max_allowed_acquisition_delay'\u001b[0m: \u001b[1;36m1.0\u001b[0m,\n",
       "        \u001b[32m'rotate_img'\u001b[0m: \u001b[1;36m180\u001b[0m,\n",
       "        \u001b[32m'topic'\u001b[0m: \u001b[32m'basler'\u001b[0m,\n",
       "        \u001b[32m'camera_node'\u001b[0m: \u001b[32m'/basler'\u001b[0m,\n",
       "        \u001b[32m'image_topic'\u001b[0m: \u001b[32m'image_rect_color'\u001b[0m,\n",
       "        \u001b[32m'sleep_camera_on_exit'\u001b[0m: \u001b[3;91mFalse\u001b[0m,\n",
       "        \u001b[32m'publish_labelled_img'\u001b[0m: \u001b[3;92mTrue\u001b[0m,\n",
       "        \u001b[32m'publish_graph_img'\u001b[0m: \u001b[3;92mTrue\u001b[0m,\n",
       "        \u001b[32m'has_depth'\u001b[0m: \u001b[3;91mFalse\u001b[0m,\n",
       "        \u001b[32m'run_continuous'\u001b[0m: \u001b[3;91mFalse\u001b[0m,\n",
       "        \u001b[32m'wait_for_services'\u001b[0m: \u001b[3;91mFalse\u001b[0m,\n",
       "        \u001b[32m'detect_arucos'\u001b[0m: \u001b[3;91mFalse\u001b[0m,\n",
       "        \u001b[32m'parent_frame'\u001b[0m: \u001b[32m'vision_table_zero'\u001b[0m,\n",
       "        \u001b[32m'create_parent_frame'\u001b[0m: \u001b[3;91mFalse\u001b[0m,\n",
       "        \u001b[32m'marker_lifetime'\u001b[0m: \u001b[1;36m1\u001b[0m,\n",
       "        \u001b[32m'work_surface_ignore_border_width'\u001b[0m: \u001b[1;36m100\u001b[0m,\n",
       "        \u001b[32m'show_work_surface_detection'\u001b[0m: \u001b[3;92mTrue\u001b[0m,\n",
       "        \u001b[32m'use_worksurface_detection'\u001b[0m: \u001b[3;92mTrue\u001b[0m,\n",
       "        \u001b[32m'debug_work_surface_detection'\u001b[0m: \u001b[3;91mFalse\u001b[0m\n",
       "    \u001b[1m}\u001b[0m,\n",
       "    \u001b[32m'realsense'\u001b[0m: \u001b[1m{\u001b[0m\n",
       "        \u001b[32m'target_fps'\u001b[0m: \u001b[1;36m2\u001b[0m,\n",
       "        \u001b[32m'max_allowed_acquisition_delay'\u001b[0m: \u001b[1;36m1.0\u001b[0m,\n",
       "        \u001b[32m'rotate_img'\u001b[0m: \u001b[1;36m0\u001b[0m,\n",
       "        \u001b[32m'topic'\u001b[0m: \u001b[32m'realsense'\u001b[0m,\n",
       "        \u001b[32m'camera_node'\u001b[0m: \u001b[32m'/realsense'\u001b[0m,\n",
       "        \u001b[32m'image_topic'\u001b[0m: \u001b[32m'color/image_raw'\u001b[0m,\n",
       "        \u001b[32m'info_topic'\u001b[0m: \u001b[32m'color/camera_info'\u001b[0m,\n",
       "        \u001b[32m'depth_topic'\u001b[0m: \u001b[32m'aligned_depth_to_color/image_raw'\u001b[0m,\n",
       "        \u001b[32m'sleep_camera_on_exit'\u001b[0m: \u001b[3;91mFalse\u001b[0m,\n",
       "        \u001b[32m'publish_labelled_img'\u001b[0m: \u001b[3;92mTrue\u001b[0m,\n",
       "        \u001b[32m'publish_depth_img'\u001b[0m: \u001b[3;92mTrue\u001b[0m,\n",
       "        \u001b[32m'publish_cluster_img'\u001b[0m: \u001b[3;92mTrue\u001b[0m,\n",
       "        \u001b[32m'publish_graph_img'\u001b[0m: \u001b[3;91mFalse\u001b[0m,\n",
       "        \u001b[32m'has_depth'\u001b[0m: \u001b[3;92mTrue\u001b[0m,\n",
       "        \u001b[32m'run_continuous'\u001b[0m: \u001b[3;91mFalse\u001b[0m,\n",
       "        \u001b[32m'wait_for_services'\u001b[0m: \u001b[3;91mFalse\u001b[0m,\n",
       "        \u001b[32m'detect_arucos'\u001b[0m: \u001b[3;91mFalse\u001b[0m,\n",
       "        \u001b[32m'camera_height'\u001b[0m: \u001b[1;36m0.2\u001b[0m,\n",
       "        \u001b[32m'parent_frame'\u001b[0m: \u001b[32m'panda_2/realsense'\u001b[0m,\n",
       "        \u001b[32m'create_parent_frame'\u001b[0m: \u001b[3;91mFalse\u001b[0m,\n",
       "        \u001b[32m'marker_lifetime'\u001b[0m: \u001b[1;36m1\u001b[0m,\n",
       "        \u001b[32m'calibration_file'\u001b[0m: \u001b[32m'~/vision_pipeline/realsense_calib/realsense_calib.yaml'\u001b[0m,\n",
       "        \u001b[32m'debug_clustering'\u001b[0m: \u001b[3;91mFalse\u001b[0m\n",
       "    \u001b[1m}\u001b[0m,\n",
       "    \u001b[32m'obj_detection'\u001b[0m: \u001b[1m{\u001b[0m\n",
       "        \u001b[32m'debug'\u001b[0m: \u001b[3;92mTrue\u001b[0m,\n",
       "        \u001b[32m'model'\u001b[0m: \u001b[32m'yolov8'\u001b[0m,\n",
       "        \u001b[32m'yolact_dataset_file'\u001b[0m: \u001b[32m'~/vision_pipeline/data_limited/yolact/2023-07-18_firealarms_hcas/dataset.json'\u001b[0m,\n",
       "        \u001b[32m'yolact_score_threshold'\u001b[0m: \u001b[1;36m0.5\u001b[0m,\n",
       "        \u001b[32m'yolov8_model_file'\u001b[0m: \u001b[32m'~/vision_pipeline/data_limited/yolov8/output_2023-08-25_20000/best.pt'\u001b[0m,\n",
       "        \u001b[32m'yolov8_score_threshold'\u001b[0m: \u001b[1;36m0.5\u001b[0m,\n",
       "        \u001b[32m'superglue_templates'\u001b[0m: \u001b[32m'~/datasets2/reconcycle/2023-12-04_hcas_fire_alarms_sorted_cropped'\u001b[0m,\n",
       "        \u001b[32m'superglue_model_file'\u001b[0m: \u001b[32m'~/superglue_training/output/train/2023-11-18_superglue_model/weights/best.pt'\u001b[0m,\n",
       "        \u001b[32m'superglue_match_threshold'\u001b[0m: \u001b[1;36m0.5\u001b[0m,\n",
       "        \u001b[32m'rotation_median_filter'\u001b[0m: \u001b[3;92mTrue\u001b[0m,\n",
       "        \u001b[32m'classifier_model_file'\u001b[0m: \n",
       "\u001b[32m'~/device_reid/results/2024-03-21__15-58_classify_WORKING/lightning_logs/version_0/checkpoints/\u001b[0m\u001b[32mepoch\u001b[0m\u001b[32m=\u001b[0m\u001b[32m212\u001b[0m\u001b[32m-\u001b[0m\u001b[32mstep\u001b[0m\u001b[32m=\u001b[0m\u001b[32m212\u001b[0m\u001b[32m.c\u001b[0m\n",
       "\u001b[32mkpt'\u001b[0m,\n",
       "        \u001b[32m'classifier_threshold'\u001b[0m: \u001b[1;36m0.5\u001b[0m\n",
       "    \u001b[1m}\u001b[0m\n",
       "\u001b[1m}\u001b[0m\n"
      ]
     },
     "metadata": {},
     "output_type": "display_data"
    },
    {
     "name": "stderr",
     "output_type": "stream",
     "text": [
      "/usr/local/lib/python3.8/dist-packages/torchvision/models/_utils.py:208: UserWarning: The parameter 'pretrained' is deprecated since 0.13 and will be removed in 0.15, please use 'weights' instead.\n",
      "  warnings.warn(\n",
      "/usr/local/lib/python3.8/dist-packages/torchvision/models/_utils.py:223: UserWarning: Arguments other than a weight enum or `None` for 'weights' are deprecated since 0.13 and will be removed in 0.15. The current behavior is equivalent to passing `weights=ResNet50_Weights.IMAGENET1K_V1`. You can also use `weights=ResNet50_Weights.DEFAULT` to get the most up-to-date weights.\n",
      "  warnings.warn(msg)\n"
     ]
    },
    {
     "data": {
      "text/html": [
       "<pre style=\"white-space:pre;overflow-x:auto;line-height:normal;font-family:Menlo,'DejaVu Sans Mono',consolas,'Courier New',monospace\">model.learning_rate <span style=\"color: #008080; text-decoration-color: #008080; font-weight: bold\">1e-05</span>\n",
       "</pre>\n"
      ],
      "text/plain": [
       "model.learning_rate \u001b[1;36m1e-05\u001b[0m\n"
      ]
     },
     "metadata": {},
     "output_type": "display_data"
    },
    {
     "data": {
      "text/html": [
       "<pre style=\"white-space:pre;overflow-x:auto;line-height:normal;font-family:Menlo,'DejaVu Sans Mono',consolas,'Courier New',monospace\">model.batch_size <span style=\"color: #008080; text-decoration-color: #008080; font-weight: bold\">64</span>\n",
       "</pre>\n"
      ],
      "text/plain": [
       "model.batch_size \u001b[1;36m64\u001b[0m\n"
      ]
     },
     "metadata": {},
     "output_type": "display_data"
    },
    {
     "data": {
      "text/html": [
       "<pre style=\"white-space:pre;overflow-x:auto;line-height:normal;font-family:Menlo,'DejaVu Sans Mono',consolas,'Courier New',monospace\">model.freeze_backbone <span style=\"color: #ff0000; text-decoration-color: #ff0000; font-style: italic\">False</span>\n",
       "</pre>\n"
      ],
      "text/plain": [
       "model.freeze_backbone \u001b[3;91mFalse\u001b[0m\n"
      ]
     },
     "metadata": {},
     "output_type": "display_data"
    },
    {
     "data": {
      "text/html": [
       "<pre style=\"white-space:pre;overflow-x:auto;line-height:normal;font-family:Menlo,'DejaVu Sans Mono',consolas,'Courier New',monospace\">curr_weights_path <span style=\"color: #800080; text-decoration-color: #800080\">/home/docker/superglue_training/output/train/2023-11-18_superglue_model/weights/</span><span style=\"color: #ff00ff; text-decoration-color: #ff00ff\">best.pt</span>\n",
       "</pre>\n"
      ],
      "text/plain": [
       "curr_weights_path \u001b[35m/home/docker/superglue_training/output/train/2023-11-18_superglue_model/weights/\u001b[0m\u001b[95mbest.pt\u001b[0m\n"
      ]
     },
     "metadata": {},
     "output_type": "display_data"
    },
    {
     "name": "stdout",
     "output_type": "stream",
     "text": [
      "Loaded SuperPoint model\n",
      "Loaded SuperGlue model (\"/home/docker/superglue_training/output/train/2023-11-18_superglue_model/weights/best.pt\" weights)\n"
     ]
    },
    {
     "name": "stderr",
     "output_type": "stream",
     "text": [
      "100%|██████████| 61/61 [00:00<00:00, 177.15it/s]\n"
     ]
    },
    {
     "data": {
      "text/html": [
       "<pre style=\"white-space:pre;overflow-x:auto;line-height:normal;font-family:Menlo,'DejaVu Sans Mono',consolas,'Courier New',monospace\"><span style=\"color: #008000; text-decoration-color: #008000\">Loaded superglue templates </span><span style=\"color: #008000; text-decoration-color: #008000; font-weight: bold\">61</span>\n",
       "</pre>\n"
      ],
      "text/plain": [
       "\u001b[32mLoaded superglue templates \u001b[0m\u001b[1;32m61\u001b[0m\n"
      ]
     },
     "metadata": {},
     "output_type": "display_data"
    },
    {
     "name": "stderr",
     "output_type": "stream",
     "text": [
      "Converting 1:   0%|          | 0/4 [00:00<?, ?it/s]"
     ]
    },
    {
     "data": {
      "text/html": [
       "<pre style=\"white-space:pre;overflow-x:auto;line-height:normal;font-family:Menlo,'DejaVu Sans Mono',consolas,'Courier New',monospace\">filename <span style=\"color: #008080; text-decoration-color: #008080; font-weight: bold\">1.j</span>son\n",
       "</pre>\n"
      ],
      "text/plain": [
       "filename \u001b[1;36m1.j\u001b[0mson\n"
      ]
     },
     "metadata": {},
     "output_type": "display_data"
    },
    {
     "data": {
      "text/html": [
       "<pre style=\"white-space:pre;overflow-x:auto;line-height:normal;font-family:Menlo,'DejaVu Sans Mono',consolas,'Courier New',monospace\">applied scale colour_img.shape\n",
       "<span style=\"font-weight: bold\">(</span><span style=\"color: #008080; text-decoration-color: #008080; font-weight: bold\">1450</span>, <span style=\"color: #008080; text-decoration-color: #008080; font-weight: bold\">1450</span>, <span style=\"color: #008080; text-decoration-color: #008080; font-weight: bold\">3</span><span style=\"font-weight: bold\">)</span>\n",
       "</pre>\n"
      ],
      "text/plain": [
       "applied scale colour_img.shape\n",
       "\u001b[1m(\u001b[0m\u001b[1;36m1450\u001b[0m, \u001b[1;36m1450\u001b[0m, \u001b[1;36m3\u001b[0m\u001b[1m)\u001b[0m\n"
      ]
     },
     "metadata": {},
     "output_type": "display_data"
    },
    {
     "data": {
      "text/html": [
       "<pre style=\"white-space:pre;overflow-x:auto;line-height:normal;font-family:Menlo,'DejaVu Sans Mono',consolas,'Courier New',monospace\">running worksurface detection<span style=\"color: #808000; text-decoration-color: #808000\">...</span>\n",
       "</pre>\n"
      ],
      "text/plain": [
       "running worksurface detection\u001b[33m...\u001b[0m\n"
      ]
     },
     "metadata": {},
     "output_type": "display_data"
    },
    {
     "data": {
      "text/html": [
       "<pre style=\"white-space:pre;overflow-x:auto;line-height:normal;font-family:Menlo,'DejaVu Sans Mono',consolas,'Courier New',monospace\">corners_m_dict\n",
       "<span style=\"font-weight: bold\">{</span><span style=\"color: #008000; text-decoration-color: #008000\">'corner_t'</span>: <span style=\"font-weight: bold\">[</span><span style=\"color: #008080; text-decoration-color: #008080; font-weight: bold\">0.6</span>, <span style=\"color: #008080; text-decoration-color: #008080; font-weight: bold\">0.6</span><span style=\"font-weight: bold\">]</span>, <span style=\"color: #008000; text-decoration-color: #008000\">'corner_r'</span>: <span style=\"font-weight: bold\">[</span><span style=\"color: #008080; text-decoration-color: #008080; font-weight: bold\">0.6</span>, <span style=\"color: #008080; text-decoration-color: #008080; font-weight: bold\">0</span><span style=\"font-weight: bold\">]</span>, <span style=\"color: #008000; text-decoration-color: #008000\">'corner_b'</span>: <span style=\"font-weight: bold\">[</span><span style=\"color: #008080; text-decoration-color: #008080; font-weight: bold\">0</span>, <span style=\"color: #008080; text-decoration-color: #008080; font-weight: bold\">0</span><span style=\"font-weight: bold\">]</span>, <span style=\"color: #008000; text-decoration-color: #008000\">'corner_l'</span>: <span style=\"font-weight: bold\">[</span><span style=\"color: #008080; text-decoration-color: #008080; font-weight: bold\">0</span>, <span style=\"color: #008080; text-decoration-color: #008080; font-weight: bold\">0.6</span><span style=\"font-weight: bold\">]}</span>\n",
       "</pre>\n"
      ],
      "text/plain": [
       "corners_m_dict\n",
       "\u001b[1m{\u001b[0m\u001b[32m'corner_t'\u001b[0m: \u001b[1m[\u001b[0m\u001b[1;36m0.6\u001b[0m, \u001b[1;36m0.6\u001b[0m\u001b[1m]\u001b[0m, \u001b[32m'corner_r'\u001b[0m: \u001b[1m[\u001b[0m\u001b[1;36m0.6\u001b[0m, \u001b[1;36m0\u001b[0m\u001b[1m]\u001b[0m, \u001b[32m'corner_b'\u001b[0m: \u001b[1m[\u001b[0m\u001b[1;36m0\u001b[0m, \u001b[1;36m0\u001b[0m\u001b[1m]\u001b[0m, \u001b[32m'corner_l'\u001b[0m: \u001b[1m[\u001b[0m\u001b[1;36m0\u001b[0m, \u001b[1;36m0.6\u001b[0m\u001b[1m]\u001b[0m\u001b[1m}\u001b[0m\n"
      ]
     },
     "metadata": {},
     "output_type": "display_data"
    },
    {
     "data": {
      "text/html": [
       "<pre style=\"white-space:pre;overflow-x:auto;line-height:normal;font-family:Menlo,'DejaVu Sans Mono',consolas,'Courier New',monospace\"><span style=\"color: #000080; text-decoration-color: #000080\">camera: basler</span>\n",
       "</pre>\n"
      ],
      "text/plain": [
       "\u001b[34mcamera: basler\u001b[0m\n"
      ]
     },
     "metadata": {},
     "output_type": "display_data"
    },
    {
     "data": {
      "text/html": [
       "<pre style=\"white-space:pre;overflow-x:auto;line-height:normal;font-family:Menlo,'DejaVu Sans Mono',consolas,'Courier New',monospace\">infer_classify\n",
       "<span style=\"color: #800080; text-decoration-color: #800080; font-weight: bold\">torch.Size</span><span style=\"font-weight: bold\">([</span><span style=\"color: #008080; text-decoration-color: #008080; font-weight: bold\">1</span>, <span style=\"color: #008080; text-decoration-color: #008080; font-weight: bold\">3</span>, <span style=\"color: #008080; text-decoration-color: #008080; font-weight: bold\">300</span>, <span style=\"color: #008080; text-decoration-color: #008080; font-weight: bold\">300</span><span style=\"font-weight: bold\">])</span>\n",
       "</pre>\n"
      ],
      "text/plain": [
       "infer_classify\n",
       "\u001b[1;35mtorch.Size\u001b[0m\u001b[1m(\u001b[0m\u001b[1m[\u001b[0m\u001b[1;36m1\u001b[0m, \u001b[1;36m3\u001b[0m, \u001b[1;36m300\u001b[0m, \u001b[1;36m300\u001b[0m\u001b[1m]\u001b[0m\u001b[1m)\u001b[0m\n"
      ]
     },
     "metadata": {},
     "output_type": "display_data"
    },
    {
     "data": {
      "text/html": [
       "<pre style=\"white-space:pre;overflow-x:auto;line-height:normal;font-family:Menlo,'DejaVu Sans Mono',consolas,'Courier New',monospace\">classify_label firealarm_back_02 conf <span style=\"color: #800080; text-decoration-color: #800080; font-weight: bold\">tensor</span><span style=\"font-weight: bold\">(</span><span style=\"color: #008080; text-decoration-color: #008080; font-weight: bold\">0.9841</span>, <span style=\"color: #808000; text-decoration-color: #808000\">device</span>=<span style=\"color: #008000; text-decoration-color: #008000\">'cuda:0'</span><span style=\"font-weight: bold\">)</span>\n",
       "</pre>\n"
      ],
      "text/plain": [
       "classify_label firealarm_back_02 conf \u001b[1;35mtensor\u001b[0m\u001b[1m(\u001b[0m\u001b[1;36m0.9841\u001b[0m, \u001b[33mdevice\u001b[0m=\u001b[32m'cuda:0'\u001b[0m\u001b[1m)\u001b[0m\n"
      ]
     },
     "metadata": {},
     "output_type": "display_data"
    },
    {
     "data": {
      "text/html": [
       "<pre style=\"white-space:pre;overflow-x:auto;line-height:normal;font-family:Menlo,'DejaVu Sans Mono',consolas,'Courier New',monospace\">img1.shape\n",
       "<span style=\"font-weight: bold\">(</span><span style=\"color: #008080; text-decoration-color: #008080; font-weight: bold\">600</span>, <span style=\"color: #008080; text-decoration-color: #008080; font-weight: bold\">600</span>, <span style=\"color: #008080; text-decoration-color: #008080; font-weight: bold\">3</span><span style=\"font-weight: bold\">)</span>\n",
       "</pre>\n"
      ],
      "text/plain": [
       "img1.shape\n",
       "\u001b[1m(\u001b[0m\u001b[1;36m600\u001b[0m, \u001b[1;36m600\u001b[0m, \u001b[1;36m3\u001b[0m\u001b[1m)\u001b[0m\n"
      ]
     },
     "metadata": {},
     "output_type": "display_data"
    },
    {
     "data": {
      "text/html": [
       "<pre style=\"white-space:pre;overflow-x:auto;line-height:normal;font-family:Menlo,'DejaVu Sans Mono',consolas,'Courier New',monospace\">img1.shape\n",
       "<span style=\"font-weight: bold\">(</span><span style=\"color: #008080; text-decoration-color: #008080; font-weight: bold\">300</span>, <span style=\"color: #008080; text-decoration-color: #008080; font-weight: bold\">300</span>, <span style=\"color: #008080; text-decoration-color: #008080; font-weight: bold\">3</span><span style=\"font-weight: bold\">)</span>\n",
       "</pre>\n"
      ],
      "text/plain": [
       "img1.shape\n",
       "\u001b[1m(\u001b[0m\u001b[1;36m300\u001b[0m, \u001b[1;36m300\u001b[0m, \u001b[1;36m3\u001b[0m\u001b[1m)\u001b[0m\n"
      ]
     },
     "metadata": {},
     "output_type": "display_data"
    },
    {
     "data": {
      "text/html": [
       "<pre style=\"white-space:pre;overflow-x:auto;line-height:normal;font-family:Menlo,'DejaVu Sans Mono',consolas,'Courier New',monospace\"><span style=\"color: #000080; text-decoration-color: #000080\">starting compare...</span>\n",
       "</pre>\n"
      ],
      "text/plain": [
       "\u001b[34mstarting compare\u001b[0m\u001b[34m...\u001b[0m\n"
      ]
     },
     "metadata": {},
     "output_type": "display_data"
    },
    {
     "name": "stderr",
     "output_type": "stream",
     "text": [
      "/usr/local/lib/python3.8/dist-packages/torch/nn/functional.py:4215: UserWarning: Default grid_sample and affine_grid behavior has changed to align_corners=False since 1.3.0. Please specify align_corners=True if the old behavior is desired. See the documentation of grid_sample for details.\n",
      "  warnings.warn(\n"
     ]
    },
    {
     "data": {
      "text/html": [
       "<pre style=\"white-space:pre;overflow-x:auto;line-height:normal;font-family:Menlo,'DejaVu Sans Mono',consolas,'Courier New',monospace\">angle_est using findHomography <span style=\"color: #008080; text-decoration-color: #008080; font-weight: bold\">0.0076446633862619</span> degrees: <span style=\"color: #008080; text-decoration-color: #008080; font-weight: bold\">0.43800694783099514</span>\n",
       "</pre>\n"
      ],
      "text/plain": [
       "angle_est using findHomography \u001b[1;36m0.0076446633862619\u001b[0m degrees: \u001b[1;36m0.43800694783099514\u001b[0m\n"
      ]
     },
     "metadata": {},
     "output_type": "display_data"
    },
    {
     "data": {
      "text/html": [
       "<pre style=\"white-space:pre;overflow-x:auto;line-height:normal;font-family:Menlo,'DejaVu Sans Mono',consolas,'Courier New',monospace\">elapsed_time_classify_and_rot <span style=\"color: #008080; text-decoration-color: #008080; font-weight: bold\">0.09160791803151369</span>\n",
       "</pre>\n"
      ],
      "text/plain": [
       "elapsed_time_classify_and_rot \u001b[1;36m0.09160791803151369\u001b[0m\n"
      ]
     },
     "metadata": {},
     "output_type": "display_data"
    },
    {
     "data": {
      "text/html": [
       "<pre style=\"white-space:pre;overflow-x:auto;line-height:normal;font-family:Menlo,'DejaVu Sans Mono',consolas,'Courier New',monospace\">graph: Loose component: firealarm_back\n",
       "</pre>\n"
      ],
      "text/plain": [
       "graph: Loose component: firealarm_back\n"
      ]
     },
     "metadata": {},
     "output_type": "display_data"
    },
    {
     "data": {
      "text/html": [
       "<pre style=\"white-space:pre;overflow-x:auto;line-height:normal;font-family:Menlo,'DejaVu Sans Mono',consolas,'Courier New',monospace\">list_wc_components\n",
       "<span style=\"font-weight: bold\">[{</span><span style=\"color: #008080; text-decoration-color: #008080; font-weight: bold\">0</span><span style=\"font-weight: bold\">}]</span>\n",
       "</pre>\n"
      ],
      "text/plain": [
       "list_wc_components\n",
       "\u001b[1m[\u001b[0m\u001b[1m{\u001b[0m\u001b[1;36m0\u001b[0m\u001b[1m}\u001b[0m\u001b[1m]\u001b[0m\n"
      ]
     },
     "metadata": {},
     "output_type": "display_data"
    },
    {
     "data": {
      "text/html": [
       "<pre style=\"white-space:pre;overflow-x:auto;line-height:normal;font-family:Menlo,'DejaVu Sans Mono',consolas,'Courier New',monospace\">detections <span style=\"color: #008080; text-decoration-color: #008080; font-weight: bold\">1</span>\n",
       "</pre>\n"
      ],
      "text/plain": [
       "detections \u001b[1;36m1\u001b[0m\n"
      ]
     },
     "metadata": {},
     "output_type": "display_data"
    },
    {
     "name": "stderr",
     "output_type": "stream",
     "text": [
      "Converting 2:  25%|██▌       | 1/4 [00:00<00:00,  3.42it/s]"
     ]
    },
    {
     "data": {
      "text/html": [
       "<pre style=\"white-space:pre;overflow-x:auto;line-height:normal;font-family:Menlo,'DejaVu Sans Mono',consolas,'Courier New',monospace\">filename <span style=\"color: #008080; text-decoration-color: #008080; font-weight: bold\">2.j</span>son\n",
       "</pre>\n"
      ],
      "text/plain": [
       "filename \u001b[1;36m2.j\u001b[0mson\n"
      ]
     },
     "metadata": {},
     "output_type": "display_data"
    },
    {
     "data": {
      "text/html": [
       "<pre style=\"white-space:pre;overflow-x:auto;line-height:normal;font-family:Menlo,'DejaVu Sans Mono',consolas,'Courier New',monospace\">applied scale colour_img.shape\n",
       "<span style=\"font-weight: bold\">(</span><span style=\"color: #008080; text-decoration-color: #008080; font-weight: bold\">1450</span>, <span style=\"color: #008080; text-decoration-color: #008080; font-weight: bold\">1450</span>, <span style=\"color: #008080; text-decoration-color: #008080; font-weight: bold\">3</span><span style=\"font-weight: bold\">)</span>\n",
       "</pre>\n"
      ],
      "text/plain": [
       "applied scale colour_img.shape\n",
       "\u001b[1m(\u001b[0m\u001b[1;36m1450\u001b[0m, \u001b[1;36m1450\u001b[0m, \u001b[1;36m3\u001b[0m\u001b[1m)\u001b[0m\n"
      ]
     },
     "metadata": {},
     "output_type": "display_data"
    },
    {
     "data": {
      "text/html": [
       "<pre style=\"white-space:pre;overflow-x:auto;line-height:normal;font-family:Menlo,'DejaVu Sans Mono',consolas,'Courier New',monospace\"><span style=\"color: #000080; text-decoration-color: #000080\">camera: basler</span>\n",
       "</pre>\n"
      ],
      "text/plain": [
       "\u001b[34mcamera: basler\u001b[0m\n"
      ]
     },
     "metadata": {},
     "output_type": "display_data"
    },
    {
     "data": {
      "text/html": [
       "<pre style=\"white-space:pre;overflow-x:auto;line-height:normal;font-family:Menlo,'DejaVu Sans Mono',consolas,'Courier New',monospace\">infer_classify\n",
       "<span style=\"color: #800080; text-decoration-color: #800080; font-weight: bold\">torch.Size</span><span style=\"font-weight: bold\">([</span><span style=\"color: #008080; text-decoration-color: #008080; font-weight: bold\">1</span>, <span style=\"color: #008080; text-decoration-color: #008080; font-weight: bold\">3</span>, <span style=\"color: #008080; text-decoration-color: #008080; font-weight: bold\">300</span>, <span style=\"color: #008080; text-decoration-color: #008080; font-weight: bold\">300</span><span style=\"font-weight: bold\">])</span>\n",
       "</pre>\n"
      ],
      "text/plain": [
       "infer_classify\n",
       "\u001b[1;35mtorch.Size\u001b[0m\u001b[1m(\u001b[0m\u001b[1m[\u001b[0m\u001b[1;36m1\u001b[0m, \u001b[1;36m3\u001b[0m, \u001b[1;36m300\u001b[0m, \u001b[1;36m300\u001b[0m\u001b[1m]\u001b[0m\u001b[1m)\u001b[0m\n"
      ]
     },
     "metadata": {},
     "output_type": "display_data"
    },
    {
     "data": {
      "text/html": [
       "<pre style=\"white-space:pre;overflow-x:auto;line-height:normal;font-family:Menlo,'DejaVu Sans Mono',consolas,'Courier New',monospace\">classify_label firealarm_front_02 conf <span style=\"color: #800080; text-decoration-color: #800080; font-weight: bold\">tensor</span><span style=\"font-weight: bold\">(</span><span style=\"color: #008080; text-decoration-color: #008080; font-weight: bold\">0.9633</span>, <span style=\"color: #808000; text-decoration-color: #808000\">device</span>=<span style=\"color: #008000; text-decoration-color: #008000\">'cuda:0'</span><span style=\"font-weight: bold\">)</span>\n",
       "</pre>\n"
      ],
      "text/plain": [
       "classify_label firealarm_front_02 conf \u001b[1;35mtensor\u001b[0m\u001b[1m(\u001b[0m\u001b[1;36m0.9633\u001b[0m, \u001b[33mdevice\u001b[0m=\u001b[32m'cuda:0'\u001b[0m\u001b[1m)\u001b[0m\n"
      ]
     },
     "metadata": {},
     "output_type": "display_data"
    },
    {
     "data": {
      "text/html": [
       "<pre style=\"white-space:pre;overflow-x:auto;line-height:normal;font-family:Menlo,'DejaVu Sans Mono',consolas,'Courier New',monospace\">img1.shape\n",
       "<span style=\"font-weight: bold\">(</span><span style=\"color: #008080; text-decoration-color: #008080; font-weight: bold\">600</span>, <span style=\"color: #008080; text-decoration-color: #008080; font-weight: bold\">600</span>, <span style=\"color: #008080; text-decoration-color: #008080; font-weight: bold\">3</span><span style=\"font-weight: bold\">)</span>\n",
       "</pre>\n"
      ],
      "text/plain": [
       "img1.shape\n",
       "\u001b[1m(\u001b[0m\u001b[1;36m600\u001b[0m, \u001b[1;36m600\u001b[0m, \u001b[1;36m3\u001b[0m\u001b[1m)\u001b[0m\n"
      ]
     },
     "metadata": {},
     "output_type": "display_data"
    },
    {
     "data": {
      "text/html": [
       "<pre style=\"white-space:pre;overflow-x:auto;line-height:normal;font-family:Menlo,'DejaVu Sans Mono',consolas,'Courier New',monospace\">img1.shape\n",
       "<span style=\"font-weight: bold\">(</span><span style=\"color: #008080; text-decoration-color: #008080; font-weight: bold\">300</span>, <span style=\"color: #008080; text-decoration-color: #008080; font-weight: bold\">300</span>, <span style=\"color: #008080; text-decoration-color: #008080; font-weight: bold\">3</span><span style=\"font-weight: bold\">)</span>\n",
       "</pre>\n"
      ],
      "text/plain": [
       "img1.shape\n",
       "\u001b[1m(\u001b[0m\u001b[1;36m300\u001b[0m, \u001b[1;36m300\u001b[0m, \u001b[1;36m3\u001b[0m\u001b[1m)\u001b[0m\n"
      ]
     },
     "metadata": {},
     "output_type": "display_data"
    },
    {
     "data": {
      "text/html": [
       "<pre style=\"white-space:pre;overflow-x:auto;line-height:normal;font-family:Menlo,'DejaVu Sans Mono',consolas,'Courier New',monospace\"><span style=\"color: #000080; text-decoration-color: #000080\">starting compare...</span>\n",
       "</pre>\n"
      ],
      "text/plain": [
       "\u001b[34mstarting compare\u001b[0m\u001b[34m...\u001b[0m\n"
      ]
     },
     "metadata": {},
     "output_type": "display_data"
    },
    {
     "name": "stderr",
     "output_type": "stream",
     "text": [
      "/usr/local/lib/python3.8/dist-packages/torch/nn/functional.py:4215: UserWarning: Default grid_sample and affine_grid behavior has changed to align_corners=False since 1.3.0. Please specify align_corners=True if the old behavior is desired. See the documentation of grid_sample for details.\n",
      "  warnings.warn(\n"
     ]
    },
    {
     "data": {
      "text/html": [
       "<pre style=\"white-space:pre;overflow-x:auto;line-height:normal;font-family:Menlo,'DejaVu Sans Mono',consolas,'Courier New',monospace\">angle_est using findHomography <span style=\"color: #008080; text-decoration-color: #008080; font-weight: bold\">0.006090928696086087</span> degrees: <span style=\"color: #008080; text-decoration-color: #008080; font-weight: bold\">0.3489845076008545</span>\n",
       "</pre>\n"
      ],
      "text/plain": [
       "angle_est using findHomography \u001b[1;36m0.006090928696086087\u001b[0m degrees: \u001b[1;36m0.3489845076008545\u001b[0m\n"
      ]
     },
     "metadata": {},
     "output_type": "display_data"
    },
    {
     "data": {
      "text/html": [
       "<pre style=\"white-space:pre;overflow-x:auto;line-height:normal;font-family:Menlo,'DejaVu Sans Mono',consolas,'Courier New',monospace\">elapsed_time_classify_and_rot <span style=\"color: #008080; text-decoration-color: #008080; font-weight: bold\">0.07935093063861132</span>\n",
       "</pre>\n"
      ],
      "text/plain": [
       "elapsed_time_classify_and_rot \u001b[1;36m0.07935093063861132\u001b[0m\n"
      ]
     },
     "metadata": {},
     "output_type": "display_data"
    },
    {
     "data": {
      "text/html": [
       "<pre style=\"white-space:pre;overflow-x:auto;line-height:normal;font-family:Menlo,'DejaVu Sans Mono',consolas,'Courier New',monospace\">graph: Loose component: firealarm_front\n",
       "</pre>\n"
      ],
      "text/plain": [
       "graph: Loose component: firealarm_front\n"
      ]
     },
     "metadata": {},
     "output_type": "display_data"
    },
    {
     "data": {
      "text/html": [
       "<pre style=\"white-space:pre;overflow-x:auto;line-height:normal;font-family:Menlo,'DejaVu Sans Mono',consolas,'Courier New',monospace\">list_wc_components\n",
       "<span style=\"font-weight: bold\">[{</span><span style=\"color: #008080; text-decoration-color: #008080; font-weight: bold\">0</span><span style=\"font-weight: bold\">}]</span>\n",
       "</pre>\n"
      ],
      "text/plain": [
       "list_wc_components\n",
       "\u001b[1m[\u001b[0m\u001b[1m{\u001b[0m\u001b[1;36m0\u001b[0m\u001b[1m}\u001b[0m\u001b[1m]\u001b[0m\n"
      ]
     },
     "metadata": {},
     "output_type": "display_data"
    },
    {
     "data": {
      "text/html": [
       "<pre style=\"white-space:pre;overflow-x:auto;line-height:normal;font-family:Menlo,'DejaVu Sans Mono',consolas,'Courier New',monospace\">detections <span style=\"color: #008080; text-decoration-color: #008080; font-weight: bold\">1</span>\n",
       "</pre>\n"
      ],
      "text/plain": [
       "detections \u001b[1;36m1\u001b[0m\n"
      ]
     },
     "metadata": {},
     "output_type": "display_data"
    },
    {
     "name": "stderr",
     "output_type": "stream",
     "text": [
      "Converting 3:  50%|█████     | 2/4 [00:00<00:00,  3.73it/s]"
     ]
    },
    {
     "data": {
      "text/html": [
       "<pre style=\"white-space:pre;overflow-x:auto;line-height:normal;font-family:Menlo,'DejaVu Sans Mono',consolas,'Courier New',monospace\">filename <span style=\"color: #008080; text-decoration-color: #008080; font-weight: bold\">3.j</span>son\n",
       "</pre>\n"
      ],
      "text/plain": [
       "filename \u001b[1;36m3.j\u001b[0mson\n"
      ]
     },
     "metadata": {},
     "output_type": "display_data"
    },
    {
     "data": {
      "text/html": [
       "<pre style=\"white-space:pre;overflow-x:auto;line-height:normal;font-family:Menlo,'DejaVu Sans Mono',consolas,'Courier New',monospace\"><span style=\"color: #000080; text-decoration-color: #000080\">camera: basler</span>\n",
       "</pre>\n"
      ],
      "text/plain": [
       "\u001b[34mcamera: basler\u001b[0m\n"
      ]
     },
     "metadata": {},
     "output_type": "display_data"
    },
    {
     "data": {
      "text/html": [
       "<pre style=\"white-space:pre;overflow-x:auto;line-height:normal;font-family:Menlo,'DejaVu Sans Mono',consolas,'Courier New',monospace\">infer_classify\n",
       "<span style=\"color: #800080; text-decoration-color: #800080; font-weight: bold\">torch.Size</span><span style=\"font-weight: bold\">([</span><span style=\"color: #008080; text-decoration-color: #008080; font-weight: bold\">1</span>, <span style=\"color: #008080; text-decoration-color: #008080; font-weight: bold\">3</span>, <span style=\"color: #008080; text-decoration-color: #008080; font-weight: bold\">300</span>, <span style=\"color: #008080; text-decoration-color: #008080; font-weight: bold\">300</span><span style=\"font-weight: bold\">])</span>\n",
       "</pre>\n"
      ],
      "text/plain": [
       "infer_classify\n",
       "\u001b[1;35mtorch.Size\u001b[0m\u001b[1m(\u001b[0m\u001b[1m[\u001b[0m\u001b[1;36m1\u001b[0m, \u001b[1;36m3\u001b[0m, \u001b[1;36m300\u001b[0m, \u001b[1;36m300\u001b[0m\u001b[1m]\u001b[0m\u001b[1m)\u001b[0m\n"
      ]
     },
     "metadata": {},
     "output_type": "display_data"
    },
    {
     "data": {
      "text/html": [
       "<pre style=\"white-space:pre;overflow-x:auto;line-height:normal;font-family:Menlo,'DejaVu Sans Mono',consolas,'Courier New',monospace\">classify_label firealarm_front_02 conf <span style=\"color: #800080; text-decoration-color: #800080; font-weight: bold\">tensor</span><span style=\"font-weight: bold\">(</span><span style=\"color: #008080; text-decoration-color: #008080; font-weight: bold\">0.2696</span>, <span style=\"color: #808000; text-decoration-color: #808000\">device</span>=<span style=\"color: #008000; text-decoration-color: #008000\">'cuda:0'</span><span style=\"font-weight: bold\">)</span>\n",
       "</pre>\n"
      ],
      "text/plain": [
       "classify_label firealarm_front_02 conf \u001b[1;35mtensor\u001b[0m\u001b[1m(\u001b[0m\u001b[1;36m0.2696\u001b[0m, \u001b[33mdevice\u001b[0m=\u001b[32m'cuda:0'\u001b[0m\u001b[1m)\u001b[0m\n"
      ]
     },
     "metadata": {},
     "output_type": "display_data"
    },
    {
     "data": {
      "text/html": [
       "<pre style=\"white-space:pre;overflow-x:auto;line-height:normal;font-family:Menlo,'DejaVu Sans Mono',consolas,'Courier New',monospace\">elapsed_time_classify_and_rot <span style=\"color: #008080; text-decoration-color: #008080; font-weight: bold\">0.01942735631018877</span>\n",
       "</pre>\n"
      ],
      "text/plain": [
       "elapsed_time_classify_and_rot \u001b[1;36m0.01942735631018877\u001b[0m\n"
      ]
     },
     "metadata": {},
     "output_type": "display_data"
    },
    {
     "data": {
      "text/html": [
       "<pre style=\"white-space:pre;overflow-x:auto;line-height:normal;font-family:Menlo,'DejaVu Sans Mono',consolas,'Courier New',monospace\">graph: Loose component: firealarm_front\n",
       "</pre>\n"
      ],
      "text/plain": [
       "graph: Loose component: firealarm_front\n"
      ]
     },
     "metadata": {},
     "output_type": "display_data"
    },
    {
     "data": {
      "text/html": [
       "<pre style=\"white-space:pre;overflow-x:auto;line-height:normal;font-family:Menlo,'DejaVu Sans Mono',consolas,'Courier New',monospace\">list_wc_components\n",
       "<span style=\"font-weight: bold\">[{</span><span style=\"color: #008080; text-decoration-color: #008080; font-weight: bold\">0</span><span style=\"font-weight: bold\">}]</span>\n",
       "</pre>\n"
      ],
      "text/plain": [
       "list_wc_components\n",
       "\u001b[1m[\u001b[0m\u001b[1m{\u001b[0m\u001b[1;36m0\u001b[0m\u001b[1m}\u001b[0m\u001b[1m]\u001b[0m\n"
      ]
     },
     "metadata": {},
     "output_type": "display_data"
    },
    {
     "data": {
      "text/html": [
       "<pre style=\"white-space:pre;overflow-x:auto;line-height:normal;font-family:Menlo,'DejaVu Sans Mono',consolas,'Courier New',monospace\">detections <span style=\"color: #008080; text-decoration-color: #008080; font-weight: bold\">1</span>\n",
       "</pre>\n"
      ],
      "text/plain": [
       "detections \u001b[1;36m1\u001b[0m\n"
      ]
     },
     "metadata": {},
     "output_type": "display_data"
    },
    {
     "name": "stderr",
     "output_type": "stream",
     "text": [
      "Converting 4:  75%|███████▌  | 3/4 [00:00<00:00,  5.09it/s]"
     ]
    },
    {
     "data": {
      "text/html": [
       "<pre style=\"white-space:pre;overflow-x:auto;line-height:normal;font-family:Menlo,'DejaVu Sans Mono',consolas,'Courier New',monospace\">filename <span style=\"color: #008080; text-decoration-color: #008080; font-weight: bold\">4.j</span>son\n",
       "</pre>\n"
      ],
      "text/plain": [
       "filename \u001b[1;36m4.j\u001b[0mson\n"
      ]
     },
     "metadata": {},
     "output_type": "display_data"
    },
    {
     "data": {
      "text/html": [
       "<pre style=\"white-space:pre;overflow-x:auto;line-height:normal;font-family:Menlo,'DejaVu Sans Mono',consolas,'Courier New',monospace\"><span style=\"color: #000080; text-decoration-color: #000080\">camera: basler</span>\n",
       "</pre>\n"
      ],
      "text/plain": [
       "\u001b[34mcamera: basler\u001b[0m\n"
      ]
     },
     "metadata": {},
     "output_type": "display_data"
    },
    {
     "data": {
      "text/html": [
       "<pre style=\"white-space:pre;overflow-x:auto;line-height:normal;font-family:Menlo,'DejaVu Sans Mono',consolas,'Courier New',monospace\">infer_classify\n",
       "<span style=\"color: #800080; text-decoration-color: #800080; font-weight: bold\">torch.Size</span><span style=\"font-weight: bold\">([</span><span style=\"color: #008080; text-decoration-color: #008080; font-weight: bold\">1</span>, <span style=\"color: #008080; text-decoration-color: #008080; font-weight: bold\">3</span>, <span style=\"color: #008080; text-decoration-color: #008080; font-weight: bold\">300</span>, <span style=\"color: #008080; text-decoration-color: #008080; font-weight: bold\">300</span><span style=\"font-weight: bold\">])</span>\n",
       "</pre>\n"
      ],
      "text/plain": [
       "infer_classify\n",
       "\u001b[1;35mtorch.Size\u001b[0m\u001b[1m(\u001b[0m\u001b[1m[\u001b[0m\u001b[1;36m1\u001b[0m, \u001b[1;36m3\u001b[0m, \u001b[1;36m300\u001b[0m, \u001b[1;36m300\u001b[0m\u001b[1m]\u001b[0m\u001b[1m)\u001b[0m\n"
      ]
     },
     "metadata": {},
     "output_type": "display_data"
    },
    {
     "data": {
      "text/html": [
       "<pre style=\"white-space:pre;overflow-x:auto;line-height:normal;font-family:Menlo,'DejaVu Sans Mono',consolas,'Courier New',monospace\">classify_label firealarm_inside_04 conf <span style=\"color: #800080; text-decoration-color: #800080; font-weight: bold\">tensor</span><span style=\"font-weight: bold\">(</span><span style=\"color: #008080; text-decoration-color: #008080; font-weight: bold\">0.4381</span>, <span style=\"color: #808000; text-decoration-color: #808000\">device</span>=<span style=\"color: #008000; text-decoration-color: #008000\">'cuda:0'</span><span style=\"font-weight: bold\">)</span>\n",
       "</pre>\n"
      ],
      "text/plain": [
       "classify_label firealarm_inside_04 conf \u001b[1;35mtensor\u001b[0m\u001b[1m(\u001b[0m\u001b[1;36m0.4381\u001b[0m, \u001b[33mdevice\u001b[0m=\u001b[32m'cuda:0'\u001b[0m\u001b[1m)\u001b[0m\n"
      ]
     },
     "metadata": {},
     "output_type": "display_data"
    },
    {
     "data": {
      "text/html": [
       "<pre style=\"white-space:pre;overflow-x:auto;line-height:normal;font-family:Menlo,'DejaVu Sans Mono',consolas,'Courier New',monospace\">elapsed_time_classify_and_rot <span style=\"color: #008080; text-decoration-color: #008080; font-weight: bold\">0.017544706352055073</span>\n",
       "</pre>\n"
      ],
      "text/plain": [
       "elapsed_time_classify_and_rot \u001b[1;36m0.017544706352055073\u001b[0m\n"
      ]
     },
     "metadata": {},
     "output_type": "display_data"
    },
    {
     "data": {
      "text/html": [
       "<pre style=\"white-space:pre;overflow-x:auto;line-height:normal;font-family:Menlo,'DejaVu Sans Mono',consolas,'Courier New',monospace\">graph: Device <span style=\"color: #008080; text-decoration-color: #008080; font-weight: bold\">1</span>: battery in firealarm_front, pcb in firealarm_front, battery next to pcb. \n",
       "</pre>\n"
      ],
      "text/plain": [
       "graph: Device \u001b[1;36m1\u001b[0m: battery in firealarm_front, pcb in firealarm_front, battery next to pcb. \n"
      ]
     },
     "metadata": {},
     "output_type": "display_data"
    },
    {
     "data": {
      "text/html": [
       "<pre style=\"white-space:pre;overflow-x:auto;line-height:normal;font-family:Menlo,'DejaVu Sans Mono',consolas,'Courier New',monospace\">list_wc_components\n",
       "<span style=\"font-weight: bold\">[{</span><span style=\"color: #008080; text-decoration-color: #008080; font-weight: bold\">0</span>, <span style=\"color: #008080; text-decoration-color: #008080; font-weight: bold\">1</span>, <span style=\"color: #008080; text-decoration-color: #008080; font-weight: bold\">2</span><span style=\"font-weight: bold\">}]</span>\n",
       "</pre>\n"
      ],
      "text/plain": [
       "list_wc_components\n",
       "\u001b[1m[\u001b[0m\u001b[1m{\u001b[0m\u001b[1;36m0\u001b[0m, \u001b[1;36m1\u001b[0m, \u001b[1;36m2\u001b[0m\u001b[1m}\u001b[0m\u001b[1m]\u001b[0m\n"
      ]
     },
     "metadata": {},
     "output_type": "display_data"
    },
    {
     "data": {
      "text/html": [
       "<pre style=\"white-space:pre;overflow-x:auto;line-height:normal;font-family:Menlo,'DejaVu Sans Mono',consolas,'Courier New',monospace\">detections <span style=\"color: #008080; text-decoration-color: #008080; font-weight: bold\">3</span>\n",
       "</pre>\n"
      ],
      "text/plain": [
       "detections \u001b[1;36m3\u001b[0m\n"
      ]
     },
     "metadata": {},
     "output_type": "display_data"
    },
    {
     "name": "stderr",
     "output_type": "stream",
     "text": [
      "Converting 4: 100%|██████████| 4/4 [00:00<00:00,  5.22it/s]\n"
     ]
    }
   ],
   "source": [
    "# folder = kg_nodes_path / \"kalo\"\n",
    "# folder = kg_nodes_path / \"hekatron\"\n",
    "# folder = kg_nodes_path / \"qundis\"\n",
    "folder = kg_nodes_path / \"smoke_detector_2\"\n",
    "\n",
    "labelme_importer = LabelMeImporter()\n",
    "\n",
    "\n",
    "# todo: get graph relations\n",
    "\n",
    "# todo: get positions of objects \n",
    "\n",
    "from IPython.utils import io\n",
    "\n",
    "# with io.capture_output() as captured:\n",
    "img_paths, all_detections, all_graph_relations, modules, cameras, cropped_imgs = labelme_importer.process_labelme_dir(folder)\n"
   ]
  },
  {
   "cell_type": "code",
   "execution_count": 16,
   "metadata": {},
   "outputs": [
    {
     "data": {
      "text/html": [
       "<pre style=\"white-space:pre;overflow-x:auto;line-height:normal;font-family:Menlo,'DejaVu Sans Mono',consolas,'Courier New',monospace\">qa_path <span style=\"color: #800080; text-decoration-color: #800080\">/home/docker/datasets2/reconcycle/knowledge_graph/data/nodes/smoke_detector_2/</span><span style=\"color: #ff00ff; text-decoration-color: #ff00ff\">1_qa.json</span>\n",
       "</pre>\n"
      ],
      "text/plain": [
       "qa_path \u001b[35m/home/docker/datasets2/reconcycle/knowledge_graph/data/nodes/smoke_detector_2/\u001b[0m\u001b[95m1_qa.json\u001b[0m\n"
      ]
     },
     "metadata": {},
     "output_type": "display_data"
    },
    {
     "data": {
      "text/html": [
       "<pre style=\"white-space:pre;overflow-x:auto;line-height:normal;font-family:Menlo,'DejaVu Sans Mono',consolas,'Courier New',monospace\">A_relations: Loose component: firealarm_back\n",
       "</pre>\n"
      ],
      "text/plain": [
       "A_relations: Loose component: firealarm_back\n"
      ]
     },
     "metadata": {},
     "output_type": "display_data"
    },
    {
     "data": {
      "text/html": [
       "<pre style=\"white-space:pre;overflow-x:auto;line-height:normal;font-family:Menlo,'DejaVu Sans Mono',consolas,'Courier New',monospace\">module vision\n",
       "</pre>\n"
      ],
      "text/plain": [
       "module vision\n"
      ]
     },
     "metadata": {},
     "output_type": "display_data"
    },
    {
     "data": {
      "text/html": [
       "<pre style=\"white-space:pre;overflow-x:auto;line-height:normal;font-family:Menlo,'DejaVu Sans Mono',consolas,'Courier New',monospace\">A_positions: firealarm_back <span style=\"font-weight: bold\">(</span>id: <span style=\"color: #008080; text-decoration-color: #008080; font-weight: bold\">02</span><span style=\"font-weight: bold\">)</span> at <span style=\"font-weight: bold\">(</span><span style=\"color: #008080; text-decoration-color: #008080; font-weight: bold\">812</span>, <span style=\"color: #008080; text-decoration-color: #008080; font-weight: bold\">688</span><span style=\"font-weight: bold\">)</span>. \n",
       "</pre>\n"
      ],
      "text/plain": [
       "A_positions: firealarm_back \u001b[1m(\u001b[0mid: \u001b[1;36m02\u001b[0m\u001b[1m)\u001b[0m at \u001b[1m(\u001b[0m\u001b[1;36m812\u001b[0m, \u001b[1;36m688\u001b[0m\u001b[1m)\u001b[0m. \n"
      ]
     },
     "metadata": {},
     "output_type": "display_data"
    },
    {
     "data": {
      "text/html": [
       "<pre style=\"white-space:pre;overflow-x:auto;line-height:normal;font-family:Menlo,'DejaVu Sans Mono',consolas,'Courier New',monospace\"><span style=\"color: #800000; text-decoration-color: #800000\">qa already exists!</span>\n",
       "</pre>\n"
      ],
      "text/plain": [
       "\u001b[31mqa already exists!\u001b[0m\n"
      ]
     },
     "metadata": {},
     "output_type": "display_data"
    },
    {
     "data": {
      "text/html": [
       "<pre style=\"white-space:pre;overflow-x:auto;line-height:normal;font-family:Menlo,'DejaVu Sans Mono',consolas,'Courier New',monospace\">qa_path <span style=\"color: #800080; text-decoration-color: #800080\">/home/docker/datasets2/reconcycle/knowledge_graph/data/nodes/smoke_detector_2/</span><span style=\"color: #ff00ff; text-decoration-color: #ff00ff\">2_qa.json</span>\n",
       "</pre>\n"
      ],
      "text/plain": [
       "qa_path \u001b[35m/home/docker/datasets2/reconcycle/knowledge_graph/data/nodes/smoke_detector_2/\u001b[0m\u001b[95m2_qa.json\u001b[0m\n"
      ]
     },
     "metadata": {},
     "output_type": "display_data"
    },
    {
     "data": {
      "text/html": [
       "<pre style=\"white-space:pre;overflow-x:auto;line-height:normal;font-family:Menlo,'DejaVu Sans Mono',consolas,'Courier New',monospace\">A_relations: Loose component: firealarm_front\n",
       "</pre>\n"
      ],
      "text/plain": [
       "A_relations: Loose component: firealarm_front\n"
      ]
     },
     "metadata": {},
     "output_type": "display_data"
    },
    {
     "data": {
      "text/html": [
       "<pre style=\"white-space:pre;overflow-x:auto;line-height:normal;font-family:Menlo,'DejaVu Sans Mono',consolas,'Courier New',monospace\">module vision\n",
       "</pre>\n"
      ],
      "text/plain": [
       "module vision\n"
      ]
     },
     "metadata": {},
     "output_type": "display_data"
    },
    {
     "data": {
      "text/html": [
       "<pre style=\"white-space:pre;overflow-x:auto;line-height:normal;font-family:Menlo,'DejaVu Sans Mono',consolas,'Courier New',monospace\">A_positions: firealarm_front <span style=\"font-weight: bold\">(</span>id: <span style=\"color: #008080; text-decoration-color: #008080; font-weight: bold\">02</span><span style=\"font-weight: bold\">)</span> at <span style=\"font-weight: bold\">(</span><span style=\"color: #008080; text-decoration-color: #008080; font-weight: bold\">800</span>, <span style=\"color: #008080; text-decoration-color: #008080; font-weight: bold\">643</span><span style=\"font-weight: bold\">)</span>. \n",
       "</pre>\n"
      ],
      "text/plain": [
       "A_positions: firealarm_front \u001b[1m(\u001b[0mid: \u001b[1;36m02\u001b[0m\u001b[1m)\u001b[0m at \u001b[1m(\u001b[0m\u001b[1;36m800\u001b[0m, \u001b[1;36m643\u001b[0m\u001b[1m)\u001b[0m. \n"
      ]
     },
     "metadata": {},
     "output_type": "display_data"
    },
    {
     "data": {
      "text/html": [
       "<pre style=\"white-space:pre;overflow-x:auto;line-height:normal;font-family:Menlo,'DejaVu Sans Mono',consolas,'Courier New',monospace\"><span style=\"color: #800000; text-decoration-color: #800000\">qa already exists!</span>\n",
       "</pre>\n"
      ],
      "text/plain": [
       "\u001b[31mqa already exists!\u001b[0m\n"
      ]
     },
     "metadata": {},
     "output_type": "display_data"
    },
    {
     "data": {
      "text/html": [
       "<pre style=\"white-space:pre;overflow-x:auto;line-height:normal;font-family:Menlo,'DejaVu Sans Mono',consolas,'Courier New',monospace\">qa_path <span style=\"color: #800080; text-decoration-color: #800080\">/home/docker/datasets2/reconcycle/knowledge_graph/data/nodes/smoke_detector_2/</span><span style=\"color: #ff00ff; text-decoration-color: #ff00ff\">3_qa.json</span>\n",
       "</pre>\n"
      ],
      "text/plain": [
       "qa_path \u001b[35m/home/docker/datasets2/reconcycle/knowledge_graph/data/nodes/smoke_detector_2/\u001b[0m\u001b[95m3_qa.json\u001b[0m\n"
      ]
     },
     "metadata": {},
     "output_type": "display_data"
    },
    {
     "data": {
      "text/html": [
       "<pre style=\"white-space:pre;overflow-x:auto;line-height:normal;font-family:Menlo,'DejaVu Sans Mono',consolas,'Courier New',monospace\">A_relations: Loose component: firealarm_front\n",
       "</pre>\n"
      ],
      "text/plain": [
       "A_relations: Loose component: firealarm_front\n"
      ]
     },
     "metadata": {},
     "output_type": "display_data"
    },
    {
     "data": {
      "text/html": [
       "<pre style=\"white-space:pre;overflow-x:auto;line-height:normal;font-family:Menlo,'DejaVu Sans Mono',consolas,'Courier New',monospace\">module cnc\n",
       "</pre>\n"
      ],
      "text/plain": [
       "module cnc\n"
      ]
     },
     "metadata": {},
     "output_type": "display_data"
    },
    {
     "data": {
      "text/html": [
       "<pre style=\"white-space:pre;overflow-x:auto;line-height:normal;font-family:Menlo,'DejaVu Sans Mono',consolas,'Courier New',monospace\">A_positions: firealarm_front at <span style=\"font-weight: bold\">(</span><span style=\"color: #008080; text-decoration-color: #008080; font-weight: bold\">489</span>, <span style=\"color: #008080; text-decoration-color: #008080; font-weight: bold\">495</span><span style=\"font-weight: bold\">)</span>. \n",
       "</pre>\n"
      ],
      "text/plain": [
       "A_positions: firealarm_front at \u001b[1m(\u001b[0m\u001b[1;36m489\u001b[0m, \u001b[1;36m495\u001b[0m\u001b[1m)\u001b[0m. \n"
      ]
     },
     "metadata": {},
     "output_type": "display_data"
    },
    {
     "data": {
      "text/html": [
       "<pre style=\"white-space:pre;overflow-x:auto;line-height:normal;font-family:Menlo,'DejaVu Sans Mono',consolas,'Courier New',monospace\"><span style=\"color: #800000; text-decoration-color: #800000\">qa already exists!</span>\n",
       "</pre>\n"
      ],
      "text/plain": [
       "\u001b[31mqa already exists!\u001b[0m\n"
      ]
     },
     "metadata": {},
     "output_type": "display_data"
    },
    {
     "data": {
      "text/html": [
       "<pre style=\"white-space:pre;overflow-x:auto;line-height:normal;font-family:Menlo,'DejaVu Sans Mono',consolas,'Courier New',monospace\">qa_path <span style=\"color: #800080; text-decoration-color: #800080\">/home/docker/datasets2/reconcycle/knowledge_graph/data/nodes/smoke_detector_2/</span><span style=\"color: #ff00ff; text-decoration-color: #ff00ff\">4_qa.json</span>\n",
       "</pre>\n"
      ],
      "text/plain": [
       "qa_path \u001b[35m/home/docker/datasets2/reconcycle/knowledge_graph/data/nodes/smoke_detector_2/\u001b[0m\u001b[95m4_qa.json\u001b[0m\n"
      ]
     },
     "metadata": {},
     "output_type": "display_data"
    },
    {
     "data": {
      "text/html": [
       "<pre style=\"white-space:pre;overflow-x:auto;line-height:normal;font-family:Menlo,'DejaVu Sans Mono',consolas,'Courier New',monospace\">A_relations: Device <span style=\"color: #008080; text-decoration-color: #008080; font-weight: bold\">1</span>: battery in firealarm_front, pcb in firealarm_front, battery next to pcb. \n",
       "</pre>\n"
      ],
      "text/plain": [
       "A_relations: Device \u001b[1;36m1\u001b[0m: battery in firealarm_front, pcb in firealarm_front, battery next to pcb. \n"
      ]
     },
     "metadata": {},
     "output_type": "display_data"
    },
    {
     "data": {
      "text/html": [
       "<pre style=\"white-space:pre;overflow-x:auto;line-height:normal;font-family:Menlo,'DejaVu Sans Mono',consolas,'Courier New',monospace\">module cnc\n",
       "</pre>\n"
      ],
      "text/plain": [
       "module cnc\n"
      ]
     },
     "metadata": {},
     "output_type": "display_data"
    },
    {
     "data": {
      "text/html": [
       "<pre style=\"white-space:pre;overflow-x:auto;line-height:normal;font-family:Menlo,'DejaVu Sans Mono',consolas,'Courier New',monospace\">A_positions: firealarm_front at <span style=\"font-weight: bold\">(</span><span style=\"color: #008080; text-decoration-color: #008080; font-weight: bold\">491</span>, <span style=\"color: #008080; text-decoration-color: #008080; font-weight: bold\">491</span><span style=\"font-weight: bold\">)</span>, battery at <span style=\"font-weight: bold\">(</span><span style=\"color: #008080; text-decoration-color: #008080; font-weight: bold\">466</span>, <span style=\"color: #008080; text-decoration-color: #008080; font-weight: bold\">530</span><span style=\"font-weight: bold\">)</span>, pcb at <span style=\"font-weight: bold\">(</span><span style=\"color: #008080; text-decoration-color: #008080; font-weight: bold\">507</span>, <span style=\"color: #008080; text-decoration-color: #008080; font-weight: bold\">462</span><span style=\"font-weight: bold\">)</span>. \n",
       "</pre>\n"
      ],
      "text/plain": [
       "A_positions: firealarm_front at \u001b[1m(\u001b[0m\u001b[1;36m491\u001b[0m, \u001b[1;36m491\u001b[0m\u001b[1m)\u001b[0m, battery at \u001b[1m(\u001b[0m\u001b[1;36m466\u001b[0m, \u001b[1;36m530\u001b[0m\u001b[1m)\u001b[0m, pcb at \u001b[1m(\u001b[0m\u001b[1;36m507\u001b[0m, \u001b[1;36m462\u001b[0m\u001b[1m)\u001b[0m. \n"
      ]
     },
     "metadata": {},
     "output_type": "display_data"
    },
    {
     "data": {
      "text/html": [
       "<pre style=\"white-space:pre;overflow-x:auto;line-height:normal;font-family:Menlo,'DejaVu Sans Mono',consolas,'Courier New',monospace\"><span style=\"color: #800000; text-decoration-color: #800000\">qa already exists!</span>\n",
       "</pre>\n"
      ],
      "text/plain": [
       "\u001b[31mqa already exists!\u001b[0m\n"
      ]
     },
     "metadata": {},
     "output_type": "display_data"
    }
   ],
   "source": [
    "for img_path, detections, graph_relations, module, camera, cropped_img in zip(img_paths, all_detections, all_graph_relations, modules, cameras, cropped_imgs):\n",
    "\n",
    "    stem = Path(img_path).stem\n",
    "    qa_path = Path(img_path).parent / Path(str(stem) + \"_qa.json\")\n",
    "    \n",
    "    # save create cropped image\n",
    "    cropped_img_name = str(stem) + \"_crop.jpg\"  \n",
    "    cropped_img_path = Path(img_path).parent / Path(cropped_img_name)\n",
    "\n",
    "    if not cropped_img_path.is_file() and cropped_img is not None:\n",
    "      cv2.imwrite(str(cropped_img_path), cropped_img)\n",
    "\n",
    "    print(\"qa_path\", qa_path)\n",
    "\n",
    "    A_relations = graph_relations.to_text()\n",
    "    print(\"A_relations:\", A_relations)\n",
    "\n",
    "    # include the module name in the relations\n",
    "    if module is not None:\n",
    "        print(\"module\", module.name)\n",
    "        A_relations = f\"Module: {module.name}. \" + A_relations\n",
    "    else:\n",
    "        print(\"[red]Missing module name!\")\n",
    "    \n",
    "    positions_list = []\n",
    "    for detection in detections:\n",
    "        if detection.label_precise is not None:\n",
    "            label_id = detection.label_precise.split(\"_\")[-1]\n",
    "    \n",
    "            positions_list.append(f\"{detection.label.name} (id: {label_id}) at ({detection.center_px[0]}, {detection.center_px[1]})\")\n",
    "        else:\n",
    "            positions_list.append(f\"{detection.label.name} at ({detection.center_px[0]}, {detection.center_px[1]})\")\n",
    "        # print(\"detection name\", detection.label.name)\n",
    "        # print(f\"detection center: {detection.center_px[0]}, {detection.center_px[1]}\")\n",
    "    \n",
    "    A_positions = \", \".join(positions_list) + \". \"\n",
    "\n",
    "    print(\"A_positions:\", A_positions)\n",
    "    \n",
    "    # create or edit the <number>_qa.json file\n",
    "    if qa_path.is_file():\n",
    "        print(\"[red]qa already exists!\")\n",
    "        \n",
    "        with open(qa_path, 'r+') as f:\n",
    "            data = json.load(f)\n",
    "            data_changed = False\n",
    "            for qa in data:\n",
    "                if qa[\"Q\"] == qa_relations[\"Q\"] and qa[\"A\"] != A_relations:\n",
    "                    if click.confirm(f\"overwrite QA relations\\ncurrent: {qa['A']}\\nnew: {A_relations}?\\n\", default=True):\n",
    "                        qa[\"A\"] = A_relations\n",
    "                        data_changed = True\n",
    "                elif qa[\"Q\"] == qa_positions[\"Q\"] and qa[\"A\"] != A_positions:\n",
    "                    if click.confirm(f\"overwrite QA positions\\ncurrent: {qa['A']}\\nnew: {A_positions}?\\n\", default=True):\n",
    "                        qa[\"A\"] = A_positions\n",
    "                        data_changed = True\n",
    "\n",
    "            if data_changed:\n",
    "                f.seek(0)        # <--- should reset file position to the beginning.\n",
    "                json.dump(data, f, indent=4)\n",
    "                f.truncate()     # remove remaining part\n",
    "\n",
    "    else:\n",
    "        qa_disassembly_step_copy = qa_disassembly_step.copy()\n",
    "        qa_relations_copy = qa_relations.copy()\n",
    "        qa_positions_copy = qa_positions.copy()\n",
    "        qa_json_disassembly_step_copy = qa_json_disassembly_step.copy()\n",
    "\n",
    "        qa_relations_copy[\"A\"] = A_relations\n",
    "        qa_positions_copy[\"A\"] = A_positions\n",
    "\n",
    "        QAs_copy = [qa_disassembly_step_copy, qa_relations_copy, qa_positions_copy, qa_json_disassembly_step_copy]\n",
    "\n",
    "        with open(qa_path, 'w', encoding='utf-8') as f:\n",
    "            json.dump(QAs_copy, f, ensure_ascii=False, indent=4)"
   ]
  },
  {
   "cell_type": "code",
   "execution_count": 14,
   "metadata": {},
   "outputs": [],
   "source": [
    "\n",
    "# todo: create QAs"
   ]
  }
 ],
 "metadata": {
  "kernelspec": {
   "display_name": "Python 3",
   "language": "python",
   "name": "python3"
  },
  "language_info": {
   "codemirror_mode": {
    "name": "ipython",
    "version": 3
   },
   "file_extension": ".py",
   "mimetype": "text/x-python",
   "name": "python",
   "nbconvert_exporter": "python",
   "pygments_lexer": "ipython3",
   "version": "3.8.10"
  }
 },
 "nbformat": 4,
 "nbformat_minor": 2
}
