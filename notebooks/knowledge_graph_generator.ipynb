{
 "cells": [
  {
   "cell_type": "code",
   "execution_count": 10,
   "metadata": {},
   "outputs": [
    {
     "name": "stdout",
     "output_type": "stream",
     "text": [
      "The autoreload extension is already loaded. To reload it, use:\n",
      "  %reload_ext autoreload\n"
     ]
    }
   ],
   "source": [
    "%load_ext autoreload\n",
    "%autoreload 2\n",
    "\n",
    "import os\n",
    "os.environ[\"CUDA_DEVICE_ORDER\"]=\"PCI_BUS_ID\"   # see issue #152\n",
    "os.environ[\"CUDA_VISIBLE_DEVICES\"]=\"0\" #! specify gpu here\n",
    "import sys\n",
    "import numpy as np\n",
    "import cv2\n",
    "import time\n",
    "import torch\n",
    "import clip\n",
    "from PIL import Image\n",
    "from rich import print\n",
    "from tqdm import tqdm\n",
    "from pathlib import Path\n",
    "import csv\n",
    "import json\n",
    "import click\n",
    "\n",
    "from vision_pipeline.llm_data_generator.labelme_importer import LabelMeImporter\n"
   ]
  },
  {
   "cell_type": "code",
   "execution_count": 11,
   "metadata": {},
   "outputs": [],
   "source": [
    "qa_disassembly_step = {\n",
    "    \"Q\": \"What is the next disassembly step?\",\n",
    "    \"A\": \"\" #  \"Turn the device over to show the back.\"\n",
    "}\n",
    "qa_relations = {\n",
    "    \"Q\": \"What are the object relations?\",\n",
    "    \"A\": \"\" # \"PCB inside HCA, ...\"\n",
    "}\n",
    "qa_positions = {\n",
    "    \"Q\": \"What are the object positions?\",\n",
    "    \"A\": \"\" # \"HCA at (302, 300), PCB at (...), ...\"\n",
    "}\n",
    "qa_json_disassembly_step = {\n",
    "    \"Q\": \"What is the JSON formatted disassembly step?\",\n",
    "    \"A\": {\n",
    "        \"tool\": \"\",\n",
    "        \"tool_args\": \"\",\n",
    "        \"description\": \"\"\n",
    "    }\n",
    "}\n",
    "\n",
    "qas = [qa_disassembly_step, qa_relations, qa_positions, qa_json_disassembly_step]"
   ]
  },
  {
   "cell_type": "code",
   "execution_count": 12,
   "metadata": {},
   "outputs": [
    {
     "data": {
      "text/html": [
       "<pre style=\"white-space:pre;overflow-x:auto;line-height:normal;font-family:Menlo,'DejaVu Sans Mono',consolas,'Courier New',monospace\">kg_nodes_path <span style=\"color: #800080; text-decoration-color: #800080\">/root/datasets2/reconcycle/knowledge_graph/data/</span><span style=\"color: #ff00ff; text-decoration-color: #ff00ff\">nodes</span>\n",
       "</pre>\n"
      ],
      "text/plain": [
       "kg_nodes_path \u001b[35m/root/datasets2/reconcycle/knowledge_graph/data/\u001b[0m\u001b[95mnodes\u001b[0m\n"
      ]
     },
     "metadata": {},
     "output_type": "display_data"
    }
   ],
   "source": [
    "kg_path = Path(\"~/datasets2/reconcycle/knowledge_graph\").expanduser()\n",
    "kg_nodes_path = kg_path / \"data\" / \"nodes\"\n",
    "kg_edges_path = kg_path / \"data\" / \"graph_edges.csv\"\n",
    "\n",
    "print(\"kg_nodes_path\", kg_nodes_path)\n"
   ]
  },
  {
   "cell_type": "code",
   "execution_count": 13,
   "metadata": {},
   "outputs": [
    {
     "data": {
      "text/html": [
       "<pre style=\"white-space:pre;overflow-x:auto;line-height:normal;font-family:Menlo,'DejaVu Sans Mono',consolas,'Courier New',monospace\"><span style=\"font-weight: bold\">[</span><span style=\"color: #008000; text-decoration-color: #008000\">'kalo'</span>, <span style=\"color: #008000; text-decoration-color: #008000\">'qundis'</span><span style=\"font-weight: bold\">]</span>\n",
       "</pre>\n"
      ],
      "text/plain": [
       "\u001b[1m[\u001b[0m\u001b[32m'kalo'\u001b[0m, \u001b[32m'qundis'\u001b[0m\u001b[1m]\u001b[0m\n"
      ]
     },
     "metadata": {},
     "output_type": "display_data"
    }
   ],
   "source": [
    "hcas = []\n",
    "with open(kg_edges_path, 'r') as f:\n",
    "    reader = csv.reader(f)\n",
    "    for row in reader:\n",
    "        if len(row) >= 2 and row[1] == 'hca':\n",
    "            hcas.append(row[0])\n",
    "\n",
    "print(hcas)"
   ]
  },
  {
   "cell_type": "code",
   "execution_count": 14,
   "metadata": {},
   "outputs": [],
   "source": [
    "folder = kg_nodes_path / \"kalo\" / \"disassembly\"\n",
    "\n",
    "labelme_importer = LabelMeImporter()\n",
    "\n",
    "\n",
    "# todo: get graph relations\n",
    "\n",
    "# todo: get positions of objects \n",
    "\n",
    "from IPython.utils import io \n",
    "\n",
    "with io.capture_output() as captured:\n",
    "    img_paths, all_detections, all_graph_relations, modules, cameras = labelme_importer.process_labelme_dir(folder)\n",
    "\n",
    "\n"
   ]
  },
  {
   "cell_type": "code",
   "execution_count": 15,
   "metadata": {},
   "outputs": [
    {
     "data": {
      "text/html": [
       "<pre style=\"white-space:pre;overflow-x:auto;line-height:normal;font-family:Menlo,'DejaVu Sans Mono',consolas,'Courier New',monospace\">qa_path <span style=\"color: #800080; text-decoration-color: #800080\">/root/datasets2/reconcycle/knowledge_graph/data/nodes/kalo/disassembly/</span><span style=\"color: #ff00ff; text-decoration-color: #ff00ff\">1_qa.json</span>\n",
       "</pre>\n"
      ],
      "text/plain": [
       "qa_path \u001b[35m/root/datasets2/reconcycle/knowledge_graph/data/nodes/kalo/disassembly/\u001b[0m\u001b[95m1_qa.json\u001b[0m\n"
      ]
     },
     "metadata": {},
     "output_type": "display_data"
    },
    {
     "data": {
      "text/html": [
       "<pre style=\"white-space:pre;overflow-x:auto;line-height:normal;font-family:Menlo,'DejaVu Sans Mono',consolas,'Courier New',monospace\">module vision\n",
       "</pre>\n"
      ],
      "text/plain": [
       "module vision\n"
      ]
     },
     "metadata": {},
     "output_type": "display_data"
    },
    {
     "data": {
      "text/html": [
       "<pre style=\"white-space:pre;overflow-x:auto;line-height:normal;font-family:Menlo,'DejaVu Sans Mono',consolas,'Courier New',monospace\">A_relations: Loose component: hca_front\n",
       "</pre>\n"
      ],
      "text/plain": [
       "A_relations: Loose component: hca_front\n"
      ]
     },
     "metadata": {},
     "output_type": "display_data"
    },
    {
     "data": {
      "text/html": [
       "<pre style=\"white-space:pre;overflow-x:auto;line-height:normal;font-family:Menlo,'DejaVu Sans Mono',consolas,'Courier New',monospace\">A_positions: hca_front at <span style=\"font-weight: bold\">(</span><span style=\"color: #008080; text-decoration-color: #008080; font-weight: bold\">427</span>, <span style=\"color: #008080; text-decoration-color: #008080; font-weight: bold\">428</span><span style=\"font-weight: bold\">)</span>. \n",
       "</pre>\n"
      ],
      "text/plain": [
       "A_positions: hca_front at \u001b[1m(\u001b[0m\u001b[1;36m427\u001b[0m, \u001b[1;36m428\u001b[0m\u001b[1m)\u001b[0m. \n"
      ]
     },
     "metadata": {},
     "output_type": "display_data"
    },
    {
     "data": {
      "text/html": [
       "<pre style=\"white-space:pre;overflow-x:auto;line-height:normal;font-family:Menlo,'DejaVu Sans Mono',consolas,'Courier New',monospace\"><span style=\"color: #800000; text-decoration-color: #800000\">qa already exists!</span>\n",
       "</pre>\n"
      ],
      "text/plain": [
       "\u001b[31mqa already exists!\u001b[0m\n"
      ]
     },
     "metadata": {},
     "output_type": "display_data"
    },
    {
     "data": {
      "text/html": [
       "<pre style=\"white-space:pre;overflow-x:auto;line-height:normal;font-family:Menlo,'DejaVu Sans Mono',consolas,'Courier New',monospace\">qa_path <span style=\"color: #800080; text-decoration-color: #800080\">/root/datasets2/reconcycle/knowledge_graph/data/nodes/kalo/disassembly/</span><span style=\"color: #ff00ff; text-decoration-color: #ff00ff\">2_qa.json</span>\n",
       "</pre>\n"
      ],
      "text/plain": [
       "qa_path \u001b[35m/root/datasets2/reconcycle/knowledge_graph/data/nodes/kalo/disassembly/\u001b[0m\u001b[95m2_qa.json\u001b[0m\n"
      ]
     },
     "metadata": {},
     "output_type": "display_data"
    },
    {
     "data": {
      "text/html": [
       "<pre style=\"white-space:pre;overflow-x:auto;line-height:normal;font-family:Menlo,'DejaVu Sans Mono',consolas,'Courier New',monospace\">module vision\n",
       "</pre>\n"
      ],
      "text/plain": [
       "module vision\n"
      ]
     },
     "metadata": {},
     "output_type": "display_data"
    },
    {
     "data": {
      "text/html": [
       "<pre style=\"white-space:pre;overflow-x:auto;line-height:normal;font-family:Menlo,'DejaVu Sans Mono',consolas,'Courier New',monospace\">A_relations: Device <span style=\"color: #008080; text-decoration-color: #008080; font-weight: bold\">1</span>: battery in hca_back, internals in hca_back, gap in hca_back, battery next to internals, gap \n",
       "next to internals. \n",
       "</pre>\n"
      ],
      "text/plain": [
       "A_relations: Device \u001b[1;36m1\u001b[0m: battery in hca_back, internals in hca_back, gap in hca_back, battery next to internals, gap \n",
       "next to internals. \n"
      ]
     },
     "metadata": {},
     "output_type": "display_data"
    },
    {
     "data": {
      "text/html": [
       "<pre style=\"white-space:pre;overflow-x:auto;line-height:normal;font-family:Menlo,'DejaVu Sans Mono',consolas,'Courier New',monospace\">A_positions: hca_back at <span style=\"font-weight: bold\">(</span><span style=\"color: #008080; text-decoration-color: #008080; font-weight: bold\">810</span>, <span style=\"color: #008080; text-decoration-color: #008080; font-weight: bold\">864</span><span style=\"font-weight: bold\">)</span>, battery at <span style=\"font-weight: bold\">(</span><span style=\"color: #008080; text-decoration-color: #008080; font-weight: bold\">882</span>, <span style=\"color: #008080; text-decoration-color: #008080; font-weight: bold\">789</span><span style=\"font-weight: bold\">)</span>, internals at <span style=\"font-weight: bold\">(</span><span style=\"color: #008080; text-decoration-color: #008080; font-weight: bold\">820</span>, <span style=\"color: #008080; text-decoration-color: #008080; font-weight: bold\">858</span><span style=\"font-weight: bold\">)</span>, gap at <span style=\"font-weight: bold\">(</span><span style=\"color: #008080; text-decoration-color: #008080; font-weight: bold\">745</span>, <span style=\"color: #008080; text-decoration-color: #008080; font-weight: bold\">937</span><span style=\"font-weight: bold\">)</span>. \n",
       "</pre>\n"
      ],
      "text/plain": [
       "A_positions: hca_back at \u001b[1m(\u001b[0m\u001b[1;36m810\u001b[0m, \u001b[1;36m864\u001b[0m\u001b[1m)\u001b[0m, battery at \u001b[1m(\u001b[0m\u001b[1;36m882\u001b[0m, \u001b[1;36m789\u001b[0m\u001b[1m)\u001b[0m, internals at \u001b[1m(\u001b[0m\u001b[1;36m820\u001b[0m, \u001b[1;36m858\u001b[0m\u001b[1m)\u001b[0m, gap at \u001b[1m(\u001b[0m\u001b[1;36m745\u001b[0m, \u001b[1;36m937\u001b[0m\u001b[1m)\u001b[0m. \n"
      ]
     },
     "metadata": {},
     "output_type": "display_data"
    },
    {
     "data": {
      "text/html": [
       "<pre style=\"white-space:pre;overflow-x:auto;line-height:normal;font-family:Menlo,'DejaVu Sans Mono',consolas,'Courier New',monospace\"><span style=\"color: #800000; text-decoration-color: #800000\">qa already exists!</span>\n",
       "</pre>\n"
      ],
      "text/plain": [
       "\u001b[31mqa already exists!\u001b[0m\n"
      ]
     },
     "metadata": {},
     "output_type": "display_data"
    },
    {
     "data": {
      "text/html": [
       "<pre style=\"white-space:pre;overflow-x:auto;line-height:normal;font-family:Menlo,'DejaVu Sans Mono',consolas,'Courier New',monospace\">qa_path <span style=\"color: #800080; text-decoration-color: #800080\">/root/datasets2/reconcycle/knowledge_graph/data/nodes/kalo/disassembly/</span><span style=\"color: #ff00ff; text-decoration-color: #ff00ff\">3_qa.json</span>\n",
       "</pre>\n"
      ],
      "text/plain": [
       "qa_path \u001b[35m/root/datasets2/reconcycle/knowledge_graph/data/nodes/kalo/disassembly/\u001b[0m\u001b[95m3_qa.json\u001b[0m\n"
      ]
     },
     "metadata": {},
     "output_type": "display_data"
    },
    {
     "data": {
      "text/html": [
       "<pre style=\"white-space:pre;overflow-x:auto;line-height:normal;font-family:Menlo,'DejaVu Sans Mono',consolas,'Courier New',monospace\">module vise\n",
       "</pre>\n"
      ],
      "text/plain": [
       "module vise\n"
      ]
     },
     "metadata": {},
     "output_type": "display_data"
    },
    {
     "data": {
      "text/html": [
       "<pre style=\"white-space:pre;overflow-x:auto;line-height:normal;font-family:Menlo,'DejaVu Sans Mono',consolas,'Courier New',monospace\">A_relations: Device <span style=\"color: #008080; text-decoration-color: #008080; font-weight: bold\">1</span>: battery in hca_back, internals in hca_back, gap in hca_back, battery next to internals, gap \n",
       "next to internals. \n",
       "</pre>\n"
      ],
      "text/plain": [
       "A_relations: Device \u001b[1;36m1\u001b[0m: battery in hca_back, internals in hca_back, gap in hca_back, battery next to internals, gap \n",
       "next to internals. \n"
      ]
     },
     "metadata": {},
     "output_type": "display_data"
    },
    {
     "data": {
      "text/html": [
       "<pre style=\"white-space:pre;overflow-x:auto;line-height:normal;font-family:Menlo,'DejaVu Sans Mono',consolas,'Courier New',monospace\">A_positions: hca_back at <span style=\"font-weight: bold\">(</span><span style=\"color: #008080; text-decoration-color: #008080; font-weight: bold\">865</span>, <span style=\"color: #008080; text-decoration-color: #008080; font-weight: bold\">567</span><span style=\"font-weight: bold\">)</span>, battery at <span style=\"font-weight: bold\">(</span><span style=\"color: #008080; text-decoration-color: #008080; font-weight: bold\">771</span>, <span style=\"color: #008080; text-decoration-color: #008080; font-weight: bold\">567</span><span style=\"font-weight: bold\">)</span>, internals at <span style=\"font-weight: bold\">(</span><span style=\"color: #008080; text-decoration-color: #008080; font-weight: bold\">875</span>, <span style=\"color: #008080; text-decoration-color: #008080; font-weight: bold\">567</span><span style=\"font-weight: bold\">)</span>, gap at <span style=\"font-weight: bold\">(</span><span style=\"color: #008080; text-decoration-color: #008080; font-weight: bold\">985</span>, <span style=\"color: #008080; text-decoration-color: #008080; font-weight: bold\">567</span><span style=\"font-weight: bold\">)</span>. \n",
       "</pre>\n"
      ],
      "text/plain": [
       "A_positions: hca_back at \u001b[1m(\u001b[0m\u001b[1;36m865\u001b[0m, \u001b[1;36m567\u001b[0m\u001b[1m)\u001b[0m, battery at \u001b[1m(\u001b[0m\u001b[1;36m771\u001b[0m, \u001b[1;36m567\u001b[0m\u001b[1m)\u001b[0m, internals at \u001b[1m(\u001b[0m\u001b[1;36m875\u001b[0m, \u001b[1;36m567\u001b[0m\u001b[1m)\u001b[0m, gap at \u001b[1m(\u001b[0m\u001b[1;36m985\u001b[0m, \u001b[1;36m567\u001b[0m\u001b[1m)\u001b[0m. \n"
      ]
     },
     "metadata": {},
     "output_type": "display_data"
    },
    {
     "data": {
      "text/html": [
       "<pre style=\"white-space:pre;overflow-x:auto;line-height:normal;font-family:Menlo,'DejaVu Sans Mono',consolas,'Courier New',monospace\"><span style=\"color: #800000; text-decoration-color: #800000\">qa already exists!</span>\n",
       "</pre>\n"
      ],
      "text/plain": [
       "\u001b[31mqa already exists!\u001b[0m\n"
      ]
     },
     "metadata": {},
     "output_type": "display_data"
    },
    {
     "data": {
      "text/html": [
       "<pre style=\"white-space:pre;overflow-x:auto;line-height:normal;font-family:Menlo,'DejaVu Sans Mono',consolas,'Courier New',monospace\">qa_path <span style=\"color: #800080; text-decoration-color: #800080\">/root/datasets2/reconcycle/knowledge_graph/data/nodes/kalo/disassembly/</span><span style=\"color: #ff00ff; text-decoration-color: #ff00ff\">4_qa.json</span>\n",
       "</pre>\n"
      ],
      "text/plain": [
       "qa_path \u001b[35m/root/datasets2/reconcycle/knowledge_graph/data/nodes/kalo/disassembly/\u001b[0m\u001b[95m4_qa.json\u001b[0m\n"
      ]
     },
     "metadata": {},
     "output_type": "display_data"
    },
    {
     "data": {
      "text/html": [
       "<pre style=\"white-space:pre;overflow-x:auto;line-height:normal;font-family:Menlo,'DejaVu Sans Mono',consolas,'Courier New',monospace\">module vise\n",
       "</pre>\n"
      ],
      "text/plain": [
       "module vise\n"
      ]
     },
     "metadata": {},
     "output_type": "display_data"
    },
    {
     "data": {
      "text/html": [
       "<pre style=\"white-space:pre;overflow-x:auto;line-height:normal;font-family:Menlo,'DejaVu Sans Mono',consolas,'Courier New',monospace\">A_relations: Device <span style=\"color: #008080; text-decoration-color: #008080; font-weight: bold\">1</span>: battery in hca_back, internals in hca_back, gap in hca_back, battery next to internals, gap \n",
       "next to internals. \n",
       "</pre>\n"
      ],
      "text/plain": [
       "A_relations: Device \u001b[1;36m1\u001b[0m: battery in hca_back, internals in hca_back, gap in hca_back, battery next to internals, gap \n",
       "next to internals. \n"
      ]
     },
     "metadata": {},
     "output_type": "display_data"
    },
    {
     "data": {
      "text/html": [
       "<pre style=\"white-space:pre;overflow-x:auto;line-height:normal;font-family:Menlo,'DejaVu Sans Mono',consolas,'Courier New',monospace\">A_positions: hca_back at <span style=\"font-weight: bold\">(</span><span style=\"color: #008080; text-decoration-color: #008080; font-weight: bold\">402</span>, <span style=\"color: #008080; text-decoration-color: #008080; font-weight: bold\">233</span><span style=\"font-weight: bold\">)</span>, battery at <span style=\"font-weight: bold\">(</span><span style=\"color: #008080; text-decoration-color: #008080; font-weight: bold\">545</span>, <span style=\"color: #008080; text-decoration-color: #008080; font-weight: bold\">235</span><span style=\"font-weight: bold\">)</span>, internals at <span style=\"font-weight: bold\">(</span><span style=\"color: #008080; text-decoration-color: #008080; font-weight: bold\">409</span>, <span style=\"color: #008080; text-decoration-color: #008080; font-weight: bold\">238</span><span style=\"font-weight: bold\">)</span>, gap at <span style=\"font-weight: bold\">(</span><span style=\"color: #008080; text-decoration-color: #008080; font-weight: bold\">270</span>, <span style=\"color: #008080; text-decoration-color: #008080; font-weight: bold\">234</span><span style=\"font-weight: bold\">)</span>. \n",
       "</pre>\n"
      ],
      "text/plain": [
       "A_positions: hca_back at \u001b[1m(\u001b[0m\u001b[1;36m402\u001b[0m, \u001b[1;36m233\u001b[0m\u001b[1m)\u001b[0m, battery at \u001b[1m(\u001b[0m\u001b[1;36m545\u001b[0m, \u001b[1;36m235\u001b[0m\u001b[1m)\u001b[0m, internals at \u001b[1m(\u001b[0m\u001b[1;36m409\u001b[0m, \u001b[1;36m238\u001b[0m\u001b[1m)\u001b[0m, gap at \u001b[1m(\u001b[0m\u001b[1;36m270\u001b[0m, \u001b[1;36m234\u001b[0m\u001b[1m)\u001b[0m. \n"
      ]
     },
     "metadata": {},
     "output_type": "display_data"
    },
    {
     "data": {
      "text/html": [
       "<pre style=\"white-space:pre;overflow-x:auto;line-height:normal;font-family:Menlo,'DejaVu Sans Mono',consolas,'Courier New',monospace\"><span style=\"color: #800000; text-decoration-color: #800000\">qa already exists!</span>\n",
       "</pre>\n"
      ],
      "text/plain": [
       "\u001b[31mqa already exists!\u001b[0m\n"
      ]
     },
     "metadata": {},
     "output_type": "display_data"
    },
    {
     "data": {
      "text/html": [
       "<pre style=\"white-space:pre;overflow-x:auto;line-height:normal;font-family:Menlo,'DejaVu Sans Mono',consolas,'Courier New',monospace\">qa_path <span style=\"color: #800080; text-decoration-color: #800080\">/root/datasets2/reconcycle/knowledge_graph/data/nodes/kalo/disassembly/</span><span style=\"color: #ff00ff; text-decoration-color: #ff00ff\">5_qa.json</span>\n",
       "</pre>\n"
      ],
      "text/plain": [
       "qa_path \u001b[35m/root/datasets2/reconcycle/knowledge_graph/data/nodes/kalo/disassembly/\u001b[0m\u001b[95m5_qa.json\u001b[0m\n"
      ]
     },
     "metadata": {},
     "output_type": "display_data"
    },
    {
     "data": {
      "text/html": [
       "<pre style=\"white-space:pre;overflow-x:auto;line-height:normal;font-family:Menlo,'DejaVu Sans Mono',consolas,'Courier New',monospace\">module vise\n",
       "</pre>\n"
      ],
      "text/plain": [
       "module vise\n"
      ]
     },
     "metadata": {},
     "output_type": "display_data"
    },
    {
     "data": {
      "text/html": [
       "<pre style=\"white-space:pre;overflow-x:auto;line-height:normal;font-family:Menlo,'DejaVu Sans Mono',consolas,'Courier New',monospace\">A_relations: Device <span style=\"color: #008080; text-decoration-color: #008080; font-weight: bold\">1</span>: battery next to pcb, internals next to pcb. Loose component: hca_back\n",
       "</pre>\n"
      ],
      "text/plain": [
       "A_relations: Device \u001b[1;36m1\u001b[0m: battery next to pcb, internals next to pcb. Loose component: hca_back\n"
      ]
     },
     "metadata": {},
     "output_type": "display_data"
    },
    {
     "data": {
      "text/html": [
       "<pre style=\"white-space:pre;overflow-x:auto;line-height:normal;font-family:Menlo,'DejaVu Sans Mono',consolas,'Courier New',monospace\">A_positions: hca_back at <span style=\"font-weight: bold\">(</span><span style=\"color: #008080; text-decoration-color: #008080; font-weight: bold\">866</span>, <span style=\"color: #008080; text-decoration-color: #008080; font-weight: bold\">568</span><span style=\"font-weight: bold\">)</span>, battery at <span style=\"font-weight: bold\">(</span><span style=\"color: #008080; text-decoration-color: #008080; font-weight: bold\">800</span>, <span style=\"color: #008080; text-decoration-color: #008080; font-weight: bold\">1102</span><span style=\"font-weight: bold\">)</span>, internals at <span style=\"font-weight: bold\">(</span><span style=\"color: #008080; text-decoration-color: #008080; font-weight: bold\">859</span>, <span style=\"color: #008080; text-decoration-color: #008080; font-weight: bold\">1216</span><span style=\"font-weight: bold\">)</span>, pcb at <span style=\"font-weight: bold\">(</span><span style=\"color: #008080; text-decoration-color: #008080; font-weight: bold\">875</span>, <span style=\"color: #008080; text-decoration-color: #008080; font-weight: bold\">1142</span><span style=\"font-weight: bold\">)</span>. \n",
       "</pre>\n"
      ],
      "text/plain": [
       "A_positions: hca_back at \u001b[1m(\u001b[0m\u001b[1;36m866\u001b[0m, \u001b[1;36m568\u001b[0m\u001b[1m)\u001b[0m, battery at \u001b[1m(\u001b[0m\u001b[1;36m800\u001b[0m, \u001b[1;36m1102\u001b[0m\u001b[1m)\u001b[0m, internals at \u001b[1m(\u001b[0m\u001b[1;36m859\u001b[0m, \u001b[1;36m1216\u001b[0m\u001b[1m)\u001b[0m, pcb at \u001b[1m(\u001b[0m\u001b[1;36m875\u001b[0m, \u001b[1;36m1142\u001b[0m\u001b[1m)\u001b[0m. \n"
      ]
     },
     "metadata": {},
     "output_type": "display_data"
    },
    {
     "data": {
      "text/html": [
       "<pre style=\"white-space:pre;overflow-x:auto;line-height:normal;font-family:Menlo,'DejaVu Sans Mono',consolas,'Courier New',monospace\"><span style=\"color: #800000; text-decoration-color: #800000\">qa already exists!</span>\n",
       "</pre>\n"
      ],
      "text/plain": [
       "\u001b[31mqa already exists!\u001b[0m\n"
      ]
     },
     "metadata": {},
     "output_type": "display_data"
    },
    {
     "data": {
      "text/html": [
       "<pre style=\"white-space:pre;overflow-x:auto;line-height:normal;font-family:Menlo,'DejaVu Sans Mono',consolas,'Courier New',monospace\">qa_path <span style=\"color: #800080; text-decoration-color: #800080\">/root/datasets2/reconcycle/knowledge_graph/data/nodes/kalo/disassembly/</span><span style=\"color: #ff00ff; text-decoration-color: #ff00ff\">6_qa.json</span>\n",
       "</pre>\n"
      ],
      "text/plain": [
       "qa_path \u001b[35m/root/datasets2/reconcycle/knowledge_graph/data/nodes/kalo/disassembly/\u001b[0m\u001b[95m6_qa.json\u001b[0m\n"
      ]
     },
     "metadata": {},
     "output_type": "display_data"
    },
    {
     "data": {
      "text/html": [
       "<pre style=\"white-space:pre;overflow-x:auto;line-height:normal;font-family:Menlo,'DejaVu Sans Mono',consolas,'Courier New',monospace\">module cutter\n",
       "</pre>\n"
      ],
      "text/plain": [
       "module cutter\n"
      ]
     },
     "metadata": {},
     "output_type": "display_data"
    },
    {
     "data": {
      "text/html": [
       "<pre style=\"white-space:pre;overflow-x:auto;line-height:normal;font-family:Menlo,'DejaVu Sans Mono',consolas,'Courier New',monospace\">A_relations: Loose components: battery, internals, pcb_covered, pcb\n",
       "</pre>\n"
      ],
      "text/plain": [
       "A_relations: Loose components: battery, internals, pcb_covered, pcb\n"
      ]
     },
     "metadata": {},
     "output_type": "display_data"
    },
    {
     "data": {
      "text/html": [
       "<pre style=\"white-space:pre;overflow-x:auto;line-height:normal;font-family:Menlo,'DejaVu Sans Mono',consolas,'Courier New',monospace\">A_positions: battery at <span style=\"font-weight: bold\">(</span><span style=\"color: #008080; text-decoration-color: #008080; font-weight: bold\">661</span>, <span style=\"color: #008080; text-decoration-color: #008080; font-weight: bold\">595</span><span style=\"font-weight: bold\">)</span>, internals at <span style=\"font-weight: bold\">(</span><span style=\"color: #008080; text-decoration-color: #008080; font-weight: bold\">836</span>, <span style=\"color: #008080; text-decoration-color: #008080; font-weight: bold\">693</span><span style=\"font-weight: bold\">)</span>, pcb_covered at <span style=\"font-weight: bold\">(</span><span style=\"color: #008080; text-decoration-color: #008080; font-weight: bold\">965</span>, <span style=\"color: #008080; text-decoration-color: #008080; font-weight: bold\">299</span><span style=\"font-weight: bold\">)</span>, pcb at <span style=\"font-weight: bold\">(</span><span style=\"color: #008080; text-decoration-color: #008080; font-weight: bold\">609</span>, <span style=\"color: #008080; text-decoration-color: #008080; font-weight: bold\">754</span><span style=\"font-weight: bold\">)</span>. \n",
       "</pre>\n"
      ],
      "text/plain": [
       "A_positions: battery at \u001b[1m(\u001b[0m\u001b[1;36m661\u001b[0m, \u001b[1;36m595\u001b[0m\u001b[1m)\u001b[0m, internals at \u001b[1m(\u001b[0m\u001b[1;36m836\u001b[0m, \u001b[1;36m693\u001b[0m\u001b[1m)\u001b[0m, pcb_covered at \u001b[1m(\u001b[0m\u001b[1;36m965\u001b[0m, \u001b[1;36m299\u001b[0m\u001b[1m)\u001b[0m, pcb at \u001b[1m(\u001b[0m\u001b[1;36m609\u001b[0m, \u001b[1;36m754\u001b[0m\u001b[1m)\u001b[0m. \n"
      ]
     },
     "metadata": {},
     "output_type": "display_data"
    },
    {
     "data": {
      "text/html": [
       "<pre style=\"white-space:pre;overflow-x:auto;line-height:normal;font-family:Menlo,'DejaVu Sans Mono',consolas,'Courier New',monospace\"><span style=\"color: #800000; text-decoration-color: #800000\">qa already exists!</span>\n",
       "</pre>\n"
      ],
      "text/plain": [
       "\u001b[31mqa already exists!\u001b[0m\n"
      ]
     },
     "metadata": {},
     "output_type": "display_data"
    }
   ],
   "source": [
    "for img_path, detections, graph_relations, module, camera in zip(img_paths, all_detections, all_graph_relations, modules, cameras):\n",
    "\n",
    "    stem = Path(img_path).stem\n",
    "    qa_path = Path(img_path).parent / Path(str(stem) + \"_qa.json\")\n",
    "    \n",
    "    print(\"qa_path\", qa_path)\n",
    "\n",
    "    print(\"module\", module.name)\n",
    "\n",
    "    A_relations = graph_relations.to_text()\n",
    "    print(\"A_relations:\", A_relations)\n",
    "\n",
    "    # include the module name in the relations\n",
    "    if module is not None:\n",
    "        A_relations = f\"Module: {module.name}. \" + A_relations\n",
    "    \n",
    "    positions_list = []\n",
    "    for detection in detections:\n",
    "        positions_list.append(f\"{detection.label.name} at ({detection.center_px[0]}, {detection.center_px[1]})\")\n",
    "        # print(\"detection name\", detection.label.name)\n",
    "        # print(f\"detection center: {detection.center_px[0]}, {detection.center_px[1]}\")\n",
    "    \n",
    "    A_positions = \", \".join(positions_list) + \". \"\n",
    "\n",
    "    print(\"A_positions:\", A_positions)\n",
    "    \n",
    "    # create or edit the <number>_qa.json file\n",
    "    if qa_path.is_file():\n",
    "        print(\"[red]qa already exists!\")\n",
    "        \n",
    "        with open(qa_path, 'r+') as f:\n",
    "            data = json.load(f)\n",
    "            data_changed = False\n",
    "            for qa in data:\n",
    "                if qa[\"Q\"] == qa_relations[\"Q\"] and qa[\"A\"] != A_relations:\n",
    "                    if click.confirm(f\"overwrite QA relations\\ncurrent: {qa['A']}\\nnew: {A_relations}?\\n\", default=True):\n",
    "                        qa[\"A\"] = A_relations\n",
    "                        data_changed = True\n",
    "                elif qa[\"Q\"] == qa_positions[\"Q\"] and qa[\"A\"] != A_positions:\n",
    "                    if click.confirm(f\"overwrite QA positions\\ncurrent: {qa['A']}\\nnew: {A_positions}?\\n\", default=True):\n",
    "                        qa[\"A\"] = A_positions\n",
    "                        data_changed = True\n",
    "\n",
    "            if data_changed:\n",
    "                f.seek(0)        # <--- should reset file position to the beginning.\n",
    "                json.dump(data, f, indent=4)\n",
    "                f.truncate()     # remove remaining part\n",
    "\n",
    "    else:\n",
    "        qa_disassembly_step_copy = qa_disassembly_step.copy()\n",
    "        qa_relations_copy = qa_relations.copy()\n",
    "        qa_positions_copy = qa_positions.copy()\n",
    "        qa_json_disassembly_step_copy = qa_json_disassembly_step.copy()\n",
    "\n",
    "        qa_relations_copy[\"A\"] = A_relations\n",
    "        qa_positions_copy[\"A\"] = A_positions\n",
    "\n",
    "        QAs_copy = [qa_disassembly_step_copy, qa_relations_copy, qa_positions_copy, qa_json_disassembly_step_copy]\n",
    "\n",
    "        with open(qa_path, 'w', encoding='utf-8') as f:\n",
    "            json.dump(QAs_copy, f, ensure_ascii=False, indent=4)\n",
    "\n",
    "\n",
    "\n",
    "    \n",
    "\n",
    "    \n",
    "\n",
    "\n"
   ]
  },
  {
   "cell_type": "code",
   "execution_count": 16,
   "metadata": {},
   "outputs": [],
   "source": [
    "\n",
    "# todo: create QAs"
   ]
  }
 ],
 "metadata": {
  "kernelspec": {
   "display_name": "Python 3",
   "language": "python",
   "name": "python3"
  },
  "language_info": {
   "codemirror_mode": {
    "name": "ipython",
    "version": 3
   },
   "file_extension": ".py",
   "mimetype": "text/x-python",
   "name": "python",
   "nbconvert_exporter": "python",
   "pygments_lexer": "ipython3",
   "version": "3.8.10"
  }
 },
 "nbformat": 4,
 "nbformat_minor": 2
}
