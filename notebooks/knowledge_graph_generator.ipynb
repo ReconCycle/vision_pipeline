{
 "cells": [
  {
   "cell_type": "code",
   "execution_count": 8,
   "metadata": {},
   "outputs": [
    {
     "name": "stdout",
     "output_type": "stream",
     "text": [
      "The autoreload extension is already loaded. To reload it, use:\n",
      "  %reload_ext autoreload\n"
     ]
    }
   ],
   "source": [
    "%load_ext autoreload\n",
    "%autoreload 2\n",
    "\n",
    "import os\n",
    "os.environ[\"CUDA_DEVICE_ORDER\"]=\"PCI_BUS_ID\"   # see issue #152\n",
    "os.environ[\"CUDA_VISIBLE_DEVICES\"]=\"0\" #! specify gpu here\n",
    "import sys\n",
    "import numpy as np\n",
    "import cv2\n",
    "import time\n",
    "import torch\n",
    "import clip\n",
    "from PIL import Image\n",
    "from rich import print\n",
    "from tqdm import tqdm\n",
    "from pathlib import Path\n",
    "import csv\n",
    "import json\n",
    "import click\n",
    "\n",
    "from vision_pipeline.llm_data_generator.labelme_importer import LabelMeImporter\n"
   ]
  },
  {
   "cell_type": "code",
   "execution_count": 9,
   "metadata": {},
   "outputs": [],
   "source": [
    "qa_disassembly_step = {\n",
    "    \"Q\": \"What is the next disassembly step?\",\n",
    "    \"A\": \"\" #  \"Turn the device over to show the back.\"\n",
    "}\n",
    "qa_relations = {\n",
    "    \"Q\": \"What are the object relations?\",\n",
    "    \"A\": \"\" # \"PCB inside HCA, ...\"\n",
    "}\n",
    "qa_positions = {\n",
    "    \"Q\": \"What are the object positions?\",\n",
    "    \"A\": \"\" # \"HCA at (302, 300), PCB at (...), ...\"\n",
    "}\n",
    "qa_json_disassembly_step = {\n",
    "    \"Q\": \"What is the JSON formatted disassembly step?\",\n",
    "    \"A\": {\n",
    "        \"tool\": \"\",\n",
    "        \"tool_args\": \"\",\n",
    "        \"description\": \"\"\n",
    "    }\n",
    "}\n",
    "\n",
    "qas = [qa_disassembly_step, qa_relations, qa_positions, qa_json_disassembly_step]"
   ]
  },
  {
   "cell_type": "code",
   "execution_count": 10,
   "metadata": {},
   "outputs": [
    {
     "data": {
      "text/html": [
       "<pre style=\"white-space:pre;overflow-x:auto;line-height:normal;font-family:Menlo,'DejaVu Sans Mono',consolas,'Courier New',monospace\">kg_nodes_path <span style=\"color: #800080; text-decoration-color: #800080\">/root/datasets2/reconcycle/knowledge_graph/data/</span><span style=\"color: #ff00ff; text-decoration-color: #ff00ff\">nodes</span>\n",
       "</pre>\n"
      ],
      "text/plain": [
       "kg_nodes_path \u001b[35m/root/datasets2/reconcycle/knowledge_graph/data/\u001b[0m\u001b[95mnodes\u001b[0m\n"
      ]
     },
     "metadata": {},
     "output_type": "display_data"
    }
   ],
   "source": [
    "kg_path = Path(\"~/datasets2/reconcycle/knowledge_graph\").expanduser()\n",
    "kg_nodes_path = kg_path / \"data\" / \"nodes\"\n",
    "kg_edges_path = kg_path / \"data\" / \"graph_edges.csv\"\n",
    "\n",
    "print(\"kg_nodes_path\", kg_nodes_path)\n"
   ]
  },
  {
   "cell_type": "code",
   "execution_count": 11,
   "metadata": {},
   "outputs": [
    {
     "data": {
      "text/html": [
       "<pre style=\"white-space:pre;overflow-x:auto;line-height:normal;font-family:Menlo,'DejaVu Sans Mono',consolas,'Courier New',monospace\"><span style=\"font-weight: bold\">[</span><span style=\"color: #008000; text-decoration-color: #008000\">'kalo'</span>, <span style=\"color: #008000; text-decoration-color: #008000\">'qundis'</span><span style=\"font-weight: bold\">]</span>\n",
       "</pre>\n"
      ],
      "text/plain": [
       "\u001b[1m[\u001b[0m\u001b[32m'kalo'\u001b[0m, \u001b[32m'qundis'\u001b[0m\u001b[1m]\u001b[0m\n"
      ]
     },
     "metadata": {},
     "output_type": "display_data"
    }
   ],
   "source": [
    "hcas = []\n",
    "with open(kg_edges_path, 'r') as f:\n",
    "    reader = csv.reader(f)\n",
    "    for row in reader:\n",
    "        if len(row) >= 2 and row[1] == 'hca':\n",
    "            hcas.append(row[0])\n",
    "\n",
    "print(hcas)"
   ]
  },
  {
   "cell_type": "code",
   "execution_count": 12,
   "metadata": {},
   "outputs": [],
   "source": [
    "folder = kg_nodes_path / \"qundis\" / \"disassembly\"\n",
    "\n",
    "labelme_importer = LabelMeImporter()\n",
    "\n",
    "\n",
    "# todo: get graph relations\n",
    "\n",
    "# todo: get positions of objects \n",
    "\n",
    "from IPython.utils import io \n",
    "\n",
    "# with io.capture_output() as captured:\n",
    "img_paths, all_detections, all_graph_relations, modules, cameras = labelme_importer.process_labelme_dir(folder)\n",
    "\n",
    "\n"
   ]
  },
  {
   "cell_type": "code",
   "execution_count": 13,
   "metadata": {},
   "outputs": [
    {
     "data": {
      "text/html": [
       "<pre style=\"white-space:pre;overflow-x:auto;line-height:normal;font-family:Menlo,'DejaVu Sans Mono',consolas,'Courier New',monospace\">qa_path <span style=\"color: #800080; text-decoration-color: #800080\">/root/datasets2/reconcycle/knowledge_graph/data/nodes/qundis/disassembly/</span><span style=\"color: #ff00ff; text-decoration-color: #ff00ff\">1_qa.json</span>\n",
       "</pre>\n"
      ],
      "text/plain": [
       "qa_path \u001b[35m/root/datasets2/reconcycle/knowledge_graph/data/nodes/qundis/disassembly/\u001b[0m\u001b[95m1_qa.json\u001b[0m\n"
      ]
     },
     "metadata": {},
     "output_type": "display_data"
    },
    {
     "data": {
      "text/html": [
       "<pre style=\"white-space:pre;overflow-x:auto;line-height:normal;font-family:Menlo,'DejaVu Sans Mono',consolas,'Courier New',monospace\">module vision\n",
       "</pre>\n"
      ],
      "text/plain": [
       "module vision\n"
      ]
     },
     "metadata": {},
     "output_type": "display_data"
    },
    {
     "data": {
      "text/html": [
       "<pre style=\"white-space:pre;overflow-x:auto;line-height:normal;font-family:Menlo,'DejaVu Sans Mono',consolas,'Courier New',monospace\">A_relations: Loose component: hca_front\n",
       "</pre>\n"
      ],
      "text/plain": [
       "A_relations: Loose component: hca_front\n"
      ]
     },
     "metadata": {},
     "output_type": "display_data"
    },
    {
     "data": {
      "text/html": [
       "<pre style=\"white-space:pre;overflow-x:auto;line-height:normal;font-family:Menlo,'DejaVu Sans Mono',consolas,'Courier New',monospace\">A_positions: hca_front at <span style=\"font-weight: bold\">(</span><span style=\"color: #008080; text-decoration-color: #008080; font-weight: bold\">1174</span>, <span style=\"color: #008080; text-decoration-color: #008080; font-weight: bold\">1040</span><span style=\"font-weight: bold\">)</span>. \n",
       "</pre>\n"
      ],
      "text/plain": [
       "A_positions: hca_front at \u001b[1m(\u001b[0m\u001b[1;36m1174\u001b[0m, \u001b[1;36m1040\u001b[0m\u001b[1m)\u001b[0m. \n"
      ]
     },
     "metadata": {},
     "output_type": "display_data"
    },
    {
     "data": {
      "text/html": [
       "<pre style=\"white-space:pre;overflow-x:auto;line-height:normal;font-family:Menlo,'DejaVu Sans Mono',consolas,'Courier New',monospace\"><span style=\"color: #800000; text-decoration-color: #800000\">qa already exists!</span>\n",
       "</pre>\n"
      ],
      "text/plain": [
       "\u001b[31mqa already exists!\u001b[0m\n"
      ]
     },
     "metadata": {},
     "output_type": "display_data"
    },
    {
     "data": {
      "text/html": [
       "<pre style=\"white-space:pre;overflow-x:auto;line-height:normal;font-family:Menlo,'DejaVu Sans Mono',consolas,'Courier New',monospace\">qa_path <span style=\"color: #800080; text-decoration-color: #800080\">/root/datasets2/reconcycle/knowledge_graph/data/nodes/qundis/disassembly/</span><span style=\"color: #ff00ff; text-decoration-color: #ff00ff\">2_qa.json</span>\n",
       "</pre>\n"
      ],
      "text/plain": [
       "qa_path \u001b[35m/root/datasets2/reconcycle/knowledge_graph/data/nodes/qundis/disassembly/\u001b[0m\u001b[95m2_qa.json\u001b[0m\n"
      ]
     },
     "metadata": {},
     "output_type": "display_data"
    },
    {
     "data": {
      "text/html": [
       "<pre style=\"white-space:pre;overflow-x:auto;line-height:normal;font-family:Menlo,'DejaVu Sans Mono',consolas,'Courier New',monospace\">module vision\n",
       "</pre>\n"
      ],
      "text/plain": [
       "module vision\n"
      ]
     },
     "metadata": {},
     "output_type": "display_data"
    },
    {
     "data": {
      "text/html": [
       "<pre style=\"white-space:pre;overflow-x:auto;line-height:normal;font-family:Menlo,'DejaVu Sans Mono',consolas,'Courier New',monospace\">A_relations: Device <span style=\"color: #008080; text-decoration-color: #008080; font-weight: bold\">1</span>: pcb_covered in hca_back, plastic_clip in hca_back, pcb_covered next to plastic_clip. \n",
       "</pre>\n"
      ],
      "text/plain": [
       "A_relations: Device \u001b[1;36m1\u001b[0m: pcb_covered in hca_back, plastic_clip in hca_back, pcb_covered next to plastic_clip. \n"
      ]
     },
     "metadata": {},
     "output_type": "display_data"
    },
    {
     "data": {
      "text/html": [
       "<pre style=\"white-space:pre;overflow-x:auto;line-height:normal;font-family:Menlo,'DejaVu Sans Mono',consolas,'Courier New',monospace\">A_positions: hca_back at <span style=\"font-weight: bold\">(</span><span style=\"color: #008080; text-decoration-color: #008080; font-weight: bold\">734</span>, <span style=\"color: #008080; text-decoration-color: #008080; font-weight: bold\">659</span><span style=\"font-weight: bold\">)</span>, pcb_covered at <span style=\"font-weight: bold\">(</span><span style=\"color: #008080; text-decoration-color: #008080; font-weight: bold\">743</span>, <span style=\"color: #008080; text-decoration-color: #008080; font-weight: bold\">662</span><span style=\"font-weight: bold\">)</span>, plastic_clip at <span style=\"font-weight: bold\">(</span><span style=\"color: #008080; text-decoration-color: #008080; font-weight: bold\">821</span>, <span style=\"color: #008080; text-decoration-color: #008080; font-weight: bold\">690</span><span style=\"font-weight: bold\">)</span>. \n",
       "</pre>\n"
      ],
      "text/plain": [
       "A_positions: hca_back at \u001b[1m(\u001b[0m\u001b[1;36m734\u001b[0m, \u001b[1;36m659\u001b[0m\u001b[1m)\u001b[0m, pcb_covered at \u001b[1m(\u001b[0m\u001b[1;36m743\u001b[0m, \u001b[1;36m662\u001b[0m\u001b[1m)\u001b[0m, plastic_clip at \u001b[1m(\u001b[0m\u001b[1;36m821\u001b[0m, \u001b[1;36m690\u001b[0m\u001b[1m)\u001b[0m. \n"
      ]
     },
     "metadata": {},
     "output_type": "display_data"
    },
    {
     "data": {
      "text/html": [
       "<pre style=\"white-space:pre;overflow-x:auto;line-height:normal;font-family:Menlo,'DejaVu Sans Mono',consolas,'Courier New',monospace\"><span style=\"color: #800000; text-decoration-color: #800000\">qa already exists!</span>\n",
       "</pre>\n"
      ],
      "text/plain": [
       "\u001b[31mqa already exists!\u001b[0m\n"
      ]
     },
     "metadata": {},
     "output_type": "display_data"
    },
    {
     "data": {
      "text/html": [
       "<pre style=\"white-space:pre;overflow-x:auto;line-height:normal;font-family:Menlo,'DejaVu Sans Mono',consolas,'Courier New',monospace\">qa_path <span style=\"color: #800080; text-decoration-color: #800080\">/root/datasets2/reconcycle/knowledge_graph/data/nodes/qundis/disassembly/</span><span style=\"color: #ff00ff; text-decoration-color: #ff00ff\">3_qa.json</span>\n",
       "</pre>\n"
      ],
      "text/plain": [
       "qa_path \u001b[35m/root/datasets2/reconcycle/knowledge_graph/data/nodes/qundis/disassembly/\u001b[0m\u001b[95m3_qa.json\u001b[0m\n"
      ]
     },
     "metadata": {},
     "output_type": "display_data"
    },
    {
     "data": {
      "text/html": [
       "<pre style=\"white-space:pre;overflow-x:auto;line-height:normal;font-family:Menlo,'DejaVu Sans Mono',consolas,'Courier New',monospace\">module vise\n",
       "</pre>\n"
      ],
      "text/plain": [
       "module vise\n"
      ]
     },
     "metadata": {},
     "output_type": "display_data"
    },
    {
     "data": {
      "text/html": [
       "<pre style=\"white-space:pre;overflow-x:auto;line-height:normal;font-family:Menlo,'DejaVu Sans Mono',consolas,'Courier New',monospace\">A_relations: Device <span style=\"color: #008080; text-decoration-color: #008080; font-weight: bold\">1</span>: pcb_covered in hca_back, plastic_clip in hca_back, pcb_covered next to plastic_clip. \n",
       "</pre>\n"
      ],
      "text/plain": [
       "A_relations: Device \u001b[1;36m1\u001b[0m: pcb_covered in hca_back, plastic_clip in hca_back, pcb_covered next to plastic_clip. \n"
      ]
     },
     "metadata": {},
     "output_type": "display_data"
    },
    {
     "data": {
      "text/html": [
       "<pre style=\"white-space:pre;overflow-x:auto;line-height:normal;font-family:Menlo,'DejaVu Sans Mono',consolas,'Courier New',monospace\">A_positions: hca_back at <span style=\"font-weight: bold\">(</span><span style=\"color: #008080; text-decoration-color: #008080; font-weight: bold\">577</span>, <span style=\"color: #008080; text-decoration-color: #008080; font-weight: bold\">670</span><span style=\"font-weight: bold\">)</span>, pcb_covered at <span style=\"font-weight: bold\">(</span><span style=\"color: #008080; text-decoration-color: #008080; font-weight: bold\">575</span>, <span style=\"color: #008080; text-decoration-color: #008080; font-weight: bold\">660</span><span style=\"font-weight: bold\">)</span>, plastic_clip at <span style=\"font-weight: bold\">(</span><span style=\"color: #008080; text-decoration-color: #008080; font-weight: bold\">572</span>, <span style=\"color: #008080; text-decoration-color: #008080; font-weight: bold\">571</span><span style=\"font-weight: bold\">)</span>. \n",
       "</pre>\n"
      ],
      "text/plain": [
       "A_positions: hca_back at \u001b[1m(\u001b[0m\u001b[1;36m577\u001b[0m, \u001b[1;36m670\u001b[0m\u001b[1m)\u001b[0m, pcb_covered at \u001b[1m(\u001b[0m\u001b[1;36m575\u001b[0m, \u001b[1;36m660\u001b[0m\u001b[1m)\u001b[0m, plastic_clip at \u001b[1m(\u001b[0m\u001b[1;36m572\u001b[0m, \u001b[1;36m571\u001b[0m\u001b[1m)\u001b[0m. \n"
      ]
     },
     "metadata": {},
     "output_type": "display_data"
    },
    {
     "data": {
      "text/html": [
       "<pre style=\"white-space:pre;overflow-x:auto;line-height:normal;font-family:Menlo,'DejaVu Sans Mono',consolas,'Courier New',monospace\"><span style=\"color: #800000; text-decoration-color: #800000\">qa already exists!</span>\n",
       "</pre>\n"
      ],
      "text/plain": [
       "\u001b[31mqa already exists!\u001b[0m\n"
      ]
     },
     "metadata": {},
     "output_type": "display_data"
    },
    {
     "data": {
      "text/html": [
       "<pre style=\"white-space:pre;overflow-x:auto;line-height:normal;font-family:Menlo,'DejaVu Sans Mono',consolas,'Courier New',monospace\">qa_path <span style=\"color: #800080; text-decoration-color: #800080\">/root/datasets2/reconcycle/knowledge_graph/data/nodes/qundis/disassembly/</span><span style=\"color: #ff00ff; text-decoration-color: #ff00ff\">4_qa.json</span>\n",
       "</pre>\n"
      ],
      "text/plain": [
       "qa_path \u001b[35m/root/datasets2/reconcycle/knowledge_graph/data/nodes/qundis/disassembly/\u001b[0m\u001b[95m4_qa.json\u001b[0m\n"
      ]
     },
     "metadata": {},
     "output_type": "display_data"
    },
    {
     "data": {
      "text/html": [
       "<pre style=\"white-space:pre;overflow-x:auto;line-height:normal;font-family:Menlo,'DejaVu Sans Mono',consolas,'Courier New',monospace\">module vise\n",
       "</pre>\n"
      ],
      "text/plain": [
       "module vise\n"
      ]
     },
     "metadata": {},
     "output_type": "display_data"
    },
    {
     "data": {
      "text/html": [
       "<pre style=\"white-space:pre;overflow-x:auto;line-height:normal;font-family:Menlo,'DejaVu Sans Mono',consolas,'Courier New',monospace\">A_relations: Device <span style=\"color: #008080; text-decoration-color: #008080; font-weight: bold\">1</span>: pcb_covered in hca_back, gap in hca_back, gap next to pcb_covered. \n",
       "</pre>\n"
      ],
      "text/plain": [
       "A_relations: Device \u001b[1;36m1\u001b[0m: pcb_covered in hca_back, gap in hca_back, gap next to pcb_covered. \n"
      ]
     },
     "metadata": {},
     "output_type": "display_data"
    },
    {
     "data": {
      "text/html": [
       "<pre style=\"white-space:pre;overflow-x:auto;line-height:normal;font-family:Menlo,'DejaVu Sans Mono',consolas,'Courier New',monospace\">A_positions: hca_back at <span style=\"font-weight: bold\">(</span><span style=\"color: #008080; text-decoration-color: #008080; font-weight: bold\">649</span>, <span style=\"color: #008080; text-decoration-color: #008080; font-weight: bold\">627</span><span style=\"font-weight: bold\">)</span>, pcb_covered at <span style=\"font-weight: bold\">(</span><span style=\"color: #008080; text-decoration-color: #008080; font-weight: bold\">649</span>, <span style=\"color: #008080; text-decoration-color: #008080; font-weight: bold\">615</span><span style=\"font-weight: bold\">)</span>, gap at <span style=\"font-weight: bold\">(</span><span style=\"color: #008080; text-decoration-color: #008080; font-weight: bold\">649</span>, <span style=\"color: #008080; text-decoration-color: #008080; font-weight: bold\">528</span><span style=\"font-weight: bold\">)</span>. \n",
       "</pre>\n"
      ],
      "text/plain": [
       "A_positions: hca_back at \u001b[1m(\u001b[0m\u001b[1;36m649\u001b[0m, \u001b[1;36m627\u001b[0m\u001b[1m)\u001b[0m, pcb_covered at \u001b[1m(\u001b[0m\u001b[1;36m649\u001b[0m, \u001b[1;36m615\u001b[0m\u001b[1m)\u001b[0m, gap at \u001b[1m(\u001b[0m\u001b[1;36m649\u001b[0m, \u001b[1;36m528\u001b[0m\u001b[1m)\u001b[0m. \n"
      ]
     },
     "metadata": {},
     "output_type": "display_data"
    },
    {
     "data": {
      "text/html": [
       "<pre style=\"white-space:pre;overflow-x:auto;line-height:normal;font-family:Menlo,'DejaVu Sans Mono',consolas,'Courier New',monospace\"><span style=\"color: #800000; text-decoration-color: #800000\">qa already exists!</span>\n",
       "</pre>\n"
      ],
      "text/plain": [
       "\u001b[31mqa already exists!\u001b[0m\n"
      ]
     },
     "metadata": {},
     "output_type": "display_data"
    },
    {
     "name": "stdout",
     "output_type": "stream",
     "text": [
      "overwrite QA relations\n",
      "current: Module: vise. Device 1: pcb_covered in hca_back. \n",
      "new: Module: vise. Device 1: pcb_covered in hca_back, gap in hca_back, gap next to pcb_covered. ?\n",
      " [Y/n]:overwrite QA positions\n",
      "current: hca_back at (649, 627), pcb_covered at (649, 615). \n",
      "new: hca_back at (649, 627), pcb_covered at (649, 615), gap at (649, 528). ?\n",
      " [Y/n]:"
     ]
    },
    {
     "data": {
      "text/html": [
       "<pre style=\"white-space:pre;overflow-x:auto;line-height:normal;font-family:Menlo,'DejaVu Sans Mono',consolas,'Courier New',monospace\">qa_path <span style=\"color: #800080; text-decoration-color: #800080\">/root/datasets2/reconcycle/knowledge_graph/data/nodes/qundis/disassembly/</span><span style=\"color: #ff00ff; text-decoration-color: #ff00ff\">5_qa.json</span>\n",
       "</pre>\n"
      ],
      "text/plain": [
       "qa_path \u001b[35m/root/datasets2/reconcycle/knowledge_graph/data/nodes/qundis/disassembly/\u001b[0m\u001b[95m5_qa.json\u001b[0m\n"
      ]
     },
     "metadata": {},
     "output_type": "display_data"
    },
    {
     "data": {
      "text/html": [
       "<pre style=\"white-space:pre;overflow-x:auto;line-height:normal;font-family:Menlo,'DejaVu Sans Mono',consolas,'Courier New',monospace\">module vise\n",
       "</pre>\n"
      ],
      "text/plain": [
       "module vise\n"
      ]
     },
     "metadata": {},
     "output_type": "display_data"
    },
    {
     "data": {
      "text/html": [
       "<pre style=\"white-space:pre;overflow-x:auto;line-height:normal;font-family:Menlo,'DejaVu Sans Mono',consolas,'Courier New',monospace\">A_relations: Device <span style=\"color: #008080; text-decoration-color: #008080; font-weight: bold\">1</span>: battery next to pcb_covered. Loose components: hca_back, plastic_clip\n",
       "</pre>\n"
      ],
      "text/plain": [
       "A_relations: Device \u001b[1;36m1\u001b[0m: battery next to pcb_covered. Loose components: hca_back, plastic_clip\n"
      ]
     },
     "metadata": {},
     "output_type": "display_data"
    },
    {
     "data": {
      "text/html": [
       "<pre style=\"white-space:pre;overflow-x:auto;line-height:normal;font-family:Menlo,'DejaVu Sans Mono',consolas,'Courier New',monospace\">A_positions: hca_back at <span style=\"font-weight: bold\">(</span><span style=\"color: #008080; text-decoration-color: #008080; font-weight: bold\">602</span>, <span style=\"color: #008080; text-decoration-color: #008080; font-weight: bold\">560</span><span style=\"font-weight: bold\">)</span>, battery at <span style=\"font-weight: bold\">(</span><span style=\"color: #008080; text-decoration-color: #008080; font-weight: bold\">995</span>, <span style=\"color: #008080; text-decoration-color: #008080; font-weight: bold\">524</span><span style=\"font-weight: bold\">)</span>, pcb_covered at <span style=\"font-weight: bold\">(</span><span style=\"color: #008080; text-decoration-color: #008080; font-weight: bold\">1072</span>, <span style=\"color: #008080; text-decoration-color: #008080; font-weight: bold\">502</span><span style=\"font-weight: bold\">)</span>, plastic_clip at <span style=\"font-weight: bold\">(</span><span style=\"color: #008080; text-decoration-color: #008080; font-weight: bold\">997</span>, <span style=\"color: #008080; text-decoration-color: #008080; font-weight: bold\">737</span><span style=\"font-weight: bold\">)</span>.\n",
       "</pre>\n"
      ],
      "text/plain": [
       "A_positions: hca_back at \u001b[1m(\u001b[0m\u001b[1;36m602\u001b[0m, \u001b[1;36m560\u001b[0m\u001b[1m)\u001b[0m, battery at \u001b[1m(\u001b[0m\u001b[1;36m995\u001b[0m, \u001b[1;36m524\u001b[0m\u001b[1m)\u001b[0m, pcb_covered at \u001b[1m(\u001b[0m\u001b[1;36m1072\u001b[0m, \u001b[1;36m502\u001b[0m\u001b[1m)\u001b[0m, plastic_clip at \u001b[1m(\u001b[0m\u001b[1;36m997\u001b[0m, \u001b[1;36m737\u001b[0m\u001b[1m)\u001b[0m.\n"
      ]
     },
     "metadata": {},
     "output_type": "display_data"
    },
    {
     "data": {
      "text/html": [
       "<pre style=\"white-space:pre;overflow-x:auto;line-height:normal;font-family:Menlo,'DejaVu Sans Mono',consolas,'Courier New',monospace\"><span style=\"color: #800000; text-decoration-color: #800000\">qa already exists!</span>\n",
       "</pre>\n"
      ],
      "text/plain": [
       "\u001b[31mqa already exists!\u001b[0m\n"
      ]
     },
     "metadata": {},
     "output_type": "display_data"
    },
    {
     "data": {
      "text/html": [
       "<pre style=\"white-space:pre;overflow-x:auto;line-height:normal;font-family:Menlo,'DejaVu Sans Mono',consolas,'Courier New',monospace\">qa_path <span style=\"color: #800080; text-decoration-color: #800080\">/root/datasets2/reconcycle/knowledge_graph/data/nodes/qundis/disassembly/</span><span style=\"color: #ff00ff; text-decoration-color: #ff00ff\">6_qa.json</span>\n",
       "</pre>\n"
      ],
      "text/plain": [
       "qa_path \u001b[35m/root/datasets2/reconcycle/knowledge_graph/data/nodes/qundis/disassembly/\u001b[0m\u001b[95m6_qa.json\u001b[0m\n"
      ]
     },
     "metadata": {},
     "output_type": "display_data"
    },
    {
     "data": {
      "text/html": [
       "<pre style=\"white-space:pre;overflow-x:auto;line-height:normal;font-family:Menlo,'DejaVu Sans Mono',consolas,'Courier New',monospace\">module cutter\n",
       "</pre>\n"
      ],
      "text/plain": [
       "module cutter\n"
      ]
     },
     "metadata": {},
     "output_type": "display_data"
    },
    {
     "data": {
      "text/html": [
       "<pre style=\"white-space:pre;overflow-x:auto;line-height:normal;font-family:Menlo,'DejaVu Sans Mono',consolas,'Courier New',monospace\">A_relations: Loose components: internals, internals, battery\n",
       "</pre>\n"
      ],
      "text/plain": [
       "A_relations: Loose components: internals, internals, battery\n"
      ]
     },
     "metadata": {},
     "output_type": "display_data"
    },
    {
     "data": {
      "text/html": [
       "<pre style=\"white-space:pre;overflow-x:auto;line-height:normal;font-family:Menlo,'DejaVu Sans Mono',consolas,'Courier New',monospace\">A_positions: internals at <span style=\"font-weight: bold\">(</span><span style=\"color: #008080; text-decoration-color: #008080; font-weight: bold\">650</span>, <span style=\"color: #008080; text-decoration-color: #008080; font-weight: bold\">479</span><span style=\"font-weight: bold\">)</span>, internals at <span style=\"font-weight: bold\">(</span><span style=\"color: #008080; text-decoration-color: #008080; font-weight: bold\">732</span>, <span style=\"color: #008080; text-decoration-color: #008080; font-weight: bold\">652</span><span style=\"font-weight: bold\">)</span>, battery at <span style=\"font-weight: bold\">(</span><span style=\"color: #008080; text-decoration-color: #008080; font-weight: bold\">548</span>, <span style=\"color: #008080; text-decoration-color: #008080; font-weight: bold\">635</span><span style=\"font-weight: bold\">)</span>. \n",
       "</pre>\n"
      ],
      "text/plain": [
       "A_positions: internals at \u001b[1m(\u001b[0m\u001b[1;36m650\u001b[0m, \u001b[1;36m479\u001b[0m\u001b[1m)\u001b[0m, internals at \u001b[1m(\u001b[0m\u001b[1;36m732\u001b[0m, \u001b[1;36m652\u001b[0m\u001b[1m)\u001b[0m, battery at \u001b[1m(\u001b[0m\u001b[1;36m548\u001b[0m, \u001b[1;36m635\u001b[0m\u001b[1m)\u001b[0m. \n"
      ]
     },
     "metadata": {},
     "output_type": "display_data"
    },
    {
     "data": {
      "text/html": [
       "<pre style=\"white-space:pre;overflow-x:auto;line-height:normal;font-family:Menlo,'DejaVu Sans Mono',consolas,'Courier New',monospace\"><span style=\"color: #800000; text-decoration-color: #800000\">qa already exists!</span>\n",
       "</pre>\n"
      ],
      "text/plain": [
       "\u001b[31mqa already exists!\u001b[0m\n"
      ]
     },
     "metadata": {},
     "output_type": "display_data"
    }
   ],
   "source": [
    "for img_path, detections, graph_relations, module, camera in zip(img_paths, all_detections, all_graph_relations, modules, cameras):\n",
    "\n",
    "    stem = Path(img_path).stem\n",
    "    qa_path = Path(img_path).parent / Path(str(stem) + \"_qa.json\")\n",
    "    \n",
    "    print(\"qa_path\", qa_path)\n",
    "\n",
    "    print(\"module\", module.name)\n",
    "\n",
    "    A_relations = graph_relations.to_text()\n",
    "    print(\"A_relations:\", A_relations)\n",
    "\n",
    "    # include the module name in the relations\n",
    "    if module is not None:\n",
    "        A_relations = f\"Module: {module.name}. \" + A_relations\n",
    "    \n",
    "    positions_list = []\n",
    "    for detection in detections:\n",
    "        positions_list.append(f\"{detection.label.name} at ({detection.center_px[0]}, {detection.center_px[1]})\")\n",
    "        # print(\"detection name\", detection.label.name)\n",
    "        # print(f\"detection center: {detection.center_px[0]}, {detection.center_px[1]}\")\n",
    "    \n",
    "    A_positions = \", \".join(positions_list) + \". \"\n",
    "\n",
    "    print(\"A_positions:\", A_positions)\n",
    "    \n",
    "    # create or edit the <number>_qa.json file\n",
    "    if qa_path.is_file():\n",
    "        print(\"[red]qa already exists!\")\n",
    "        \n",
    "        with open(qa_path, 'r+') as f:\n",
    "            data = json.load(f)\n",
    "            data_changed = False\n",
    "            for qa in data:\n",
    "                if qa[\"Q\"] == qa_relations[\"Q\"] and qa[\"A\"] != A_relations:\n",
    "                    if click.confirm(f\"overwrite QA relations\\ncurrent: {qa['A']}\\nnew: {A_relations}?\\n\", default=True):\n",
    "                        qa[\"A\"] = A_relations\n",
    "                        data_changed = True\n",
    "                elif qa[\"Q\"] == qa_positions[\"Q\"] and qa[\"A\"] != A_positions:\n",
    "                    if click.confirm(f\"overwrite QA positions\\ncurrent: {qa['A']}\\nnew: {A_positions}?\\n\", default=True):\n",
    "                        qa[\"A\"] = A_positions\n",
    "                        data_changed = True\n",
    "\n",
    "            if data_changed:\n",
    "                f.seek(0)        # <--- should reset file position to the beginning.\n",
    "                json.dump(data, f, indent=4)\n",
    "                f.truncate()     # remove remaining part\n",
    "\n",
    "    else:\n",
    "        qa_disassembly_step_copy = qa_disassembly_step.copy()\n",
    "        qa_relations_copy = qa_relations.copy()\n",
    "        qa_positions_copy = qa_positions.copy()\n",
    "        qa_json_disassembly_step_copy = qa_json_disassembly_step.copy()\n",
    "\n",
    "        qa_relations_copy[\"A\"] = A_relations\n",
    "        qa_positions_copy[\"A\"] = A_positions\n",
    "\n",
    "        QAs_copy = [qa_disassembly_step_copy, qa_relations_copy, qa_positions_copy, qa_json_disassembly_step_copy]\n",
    "\n",
    "        with open(qa_path, 'w', encoding='utf-8') as f:\n",
    "            json.dump(QAs_copy, f, ensure_ascii=False, indent=4)\n",
    "\n",
    "\n",
    "\n",
    "    \n",
    "\n",
    "    \n",
    "\n",
    "\n"
   ]
  },
  {
   "cell_type": "code",
   "execution_count": 14,
   "metadata": {},
   "outputs": [],
   "source": [
    "\n",
    "# todo: create QAs"
   ]
  }
 ],
 "metadata": {
  "kernelspec": {
   "display_name": "Python 3",
   "language": "python",
   "name": "python3"
  },
  "language_info": {
   "codemirror_mode": {
    "name": "ipython",
    "version": 3
   },
   "file_extension": ".py",
   "mimetype": "text/x-python",
   "name": "python",
   "nbconvert_exporter": "python",
   "pygments_lexer": "ipython3",
   "version": "3.8.10"
  }
 },
 "nbformat": 4,
 "nbformat_minor": 2
}
