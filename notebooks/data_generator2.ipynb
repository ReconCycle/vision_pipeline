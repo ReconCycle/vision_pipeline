{
 "cells": [
  {
   "cell_type": "code",
   "execution_count": 22,
   "metadata": {},
   "outputs": [
    {
     "name": "stdout",
     "output_type": "stream",
     "text": [
      "The autoreload extension is already loaded. To reload it, use:\n",
      "  %reload_ext autoreload\n"
     ]
    }
   ],
   "source": [
    "%load_ext autoreload\n",
    "%autoreload 2\n",
    "%matplotlib inline\n",
    "\n",
    "import sys\n",
    "import os\n",
    "os.environ[\"CUDA_DEVICE_ORDER\"]=\"PCI_BUS_ID\"   # see issue #152\n",
    "os.environ[\"CUDA_VISIBLE_DEVICES\"]=\"0\" #! specify gpu here\n",
    "\n",
    "import matplotlib\n",
    "import matplotlib.pyplot as plt\n",
    "\n",
    "import json\n",
    "from pathlib import Path\n",
    "\n",
    "import cv2\n",
    "\n",
    "# from scipy import ndimage\n",
    "import natsort\n",
    "import numpy as np\n",
    "from tqdm import tqdm\n",
    "from rich import print\n",
    "\n",
    "from vision_pipeline.llm_data_generator.labelme_importer import LabelMeImporter"
   ]
  },
  {
   "cell_type": "code",
   "execution_count": 26,
   "metadata": {},
   "outputs": [
    {
     "name": "stderr",
     "output_type": "stream",
     "text": [
      "00000001:   0%|          | 0/100 [00:00<?, ?it/s]"
     ]
    },
    {
     "data": {
      "text/html": [
       "<pre style=\"white-space:pre;overflow-x:auto;line-height:normal;font-family:Menlo,'DejaVu Sans Mono',consolas,'Courier New',monospace\">json_path <span style=\"color: #800080; text-decoration-color: #800080\">/root/datasets2/reconcycle/2023-05-23_synthetic_dataset/output/labelme/</span><span style=\"color: #ff00ff; text-decoration-color: #ff00ff\">00000001.json</span>\n",
       "</pre>\n"
      ],
      "text/plain": [
       "json_path \u001b[35m/root/datasets2/reconcycle/2023-05-23_synthetic_dataset/output/labelme/\u001b[0m\u001b[95m00000001.json\u001b[0m\n"
      ]
     },
     "metadata": {},
     "output_type": "display_data"
    },
    {
     "data": {
      "text/html": [
       "<pre style=\"white-space:pre;overflow-x:auto;line-height:normal;font-family:Menlo,'DejaVu Sans Mono',consolas,'Courier New',monospace\">colour_img_path <span style=\"color: #800080; text-decoration-color: #800080\">/root/datasets2/reconcycle/2023-05-23_synthetic_dataset/output/images/</span><span style=\"color: #ff00ff; text-decoration-color: #ff00ff\">00000001.jpg</span>\n",
       "</pre>\n"
      ],
      "text/plain": [
       "colour_img_path \u001b[35m/root/datasets2/reconcycle/2023-05-23_synthetic_dataset/output/images/\u001b[0m\u001b[95m00000001.jpg\u001b[0m\n"
      ]
     },
     "metadata": {},
     "output_type": "display_data"
    },
    {
     "data": {
      "text/html": [
       "<pre style=\"white-space:pre;overflow-x:auto;line-height:normal;font-family:Menlo,'DejaVu Sans Mono',consolas,'Courier New',monospace\">graph relations:\n",
       "</pre>\n"
      ],
      "text/plain": [
       "graph relations:\n"
      ]
     },
     "metadata": {},
     "output_type": "display_data"
    },
    {
     "data": {
      "text/html": [
       "<pre style=\"white-space:pre;overflow-x:auto;line-height:normal;font-family:Menlo,'DejaVu Sans Mono',consolas,'Courier New',monospace\">Device <span style=\"color: #008080; text-decoration-color: #008080; font-weight: bold\">1</span>: \n",
       "pcb in hca_back\n",
       "battery in hca_back\n",
       "pcb next to battery\n",
       "battery next to pcb\n",
       "\n",
       "Device <span style=\"color: #008080; text-decoration-color: #008080; font-weight: bold\">2</span>: \n",
       "firealarm_back\n",
       "</pre>\n"
      ],
      "text/plain": [
       "Device \u001b[1;36m1\u001b[0m: \n",
       "pcb in hca_back\n",
       "battery in hca_back\n",
       "pcb next to battery\n",
       "battery next to pcb\n",
       "\n",
       "Device \u001b[1;36m2\u001b[0m: \n",
       "firealarm_back\n"
      ]
     },
     "metadata": {},
     "output_type": "display_data"
    },
    {
     "name": "stderr",
     "output_type": "stream",
     "text": [
      "00000002:   0%|          | 0/100 [00:00<?, ?it/s]"
     ]
    },
    {
     "data": {
      "text/html": [
       "<pre style=\"white-space:pre;overflow-x:auto;line-height:normal;font-family:Menlo,'DejaVu Sans Mono',consolas,'Courier New',monospace\">json_path <span style=\"color: #800080; text-decoration-color: #800080\">/root/datasets2/reconcycle/2023-05-23_synthetic_dataset/output/labelme/</span><span style=\"color: #ff00ff; text-decoration-color: #ff00ff\">00000002.json</span>\n",
       "</pre>\n"
      ],
      "text/plain": [
       "json_path \u001b[35m/root/datasets2/reconcycle/2023-05-23_synthetic_dataset/output/labelme/\u001b[0m\u001b[95m00000002.json\u001b[0m\n"
      ]
     },
     "metadata": {},
     "output_type": "display_data"
    },
    {
     "data": {
      "text/html": [
       "<pre style=\"white-space:pre;overflow-x:auto;line-height:normal;font-family:Menlo,'DejaVu Sans Mono',consolas,'Courier New',monospace\">colour_img_path <span style=\"color: #800080; text-decoration-color: #800080\">/root/datasets2/reconcycle/2023-05-23_synthetic_dataset/output/images/</span><span style=\"color: #ff00ff; text-decoration-color: #ff00ff\">00000002.jpg</span>\n",
       "</pre>\n"
      ],
      "text/plain": [
       "colour_img_path \u001b[35m/root/datasets2/reconcycle/2023-05-23_synthetic_dataset/output/images/\u001b[0m\u001b[95m00000002.jpg\u001b[0m\n"
      ]
     },
     "metadata": {},
     "output_type": "display_data"
    },
    {
     "data": {
      "text/html": [
       "<pre style=\"white-space:pre;overflow-x:auto;line-height:normal;font-family:Menlo,'DejaVu Sans Mono',consolas,'Courier New',monospace\">graph relations:\n",
       "</pre>\n"
      ],
      "text/plain": [
       "graph relations:\n"
      ]
     },
     "metadata": {},
     "output_type": "display_data"
    },
    {
     "data": {
      "text/html": [
       "<pre style=\"white-space:pre;overflow-x:auto;line-height:normal;font-family:Menlo,'DejaVu Sans Mono',consolas,'Courier New',monospace\">Device <span style=\"color: #008080; text-decoration-color: #008080; font-weight: bold\">1</span>: \n",
       "firealarm_back\n",
       "</pre>\n"
      ],
      "text/plain": [
       "Device \u001b[1;36m1\u001b[0m: \n",
       "firealarm_back\n"
      ]
     },
     "metadata": {},
     "output_type": "display_data"
    },
    {
     "name": "stderr",
     "output_type": "stream",
     "text": [
      "00000003:   0%|          | 0/100 [00:00<?, ?it/s]"
     ]
    },
    {
     "data": {
      "text/html": [
       "<pre style=\"white-space:pre;overflow-x:auto;line-height:normal;font-family:Menlo,'DejaVu Sans Mono',consolas,'Courier New',monospace\">json_path <span style=\"color: #800080; text-decoration-color: #800080\">/root/datasets2/reconcycle/2023-05-23_synthetic_dataset/output/labelme/</span><span style=\"color: #ff00ff; text-decoration-color: #ff00ff\">00000003.json</span>\n",
       "</pre>\n"
      ],
      "text/plain": [
       "json_path \u001b[35m/root/datasets2/reconcycle/2023-05-23_synthetic_dataset/output/labelme/\u001b[0m\u001b[95m00000003.json\u001b[0m\n"
      ]
     },
     "metadata": {},
     "output_type": "display_data"
    },
    {
     "data": {
      "text/html": [
       "<pre style=\"white-space:pre;overflow-x:auto;line-height:normal;font-family:Menlo,'DejaVu Sans Mono',consolas,'Courier New',monospace\">colour_img_path <span style=\"color: #800080; text-decoration-color: #800080\">/root/datasets2/reconcycle/2023-05-23_synthetic_dataset/output/images/</span><span style=\"color: #ff00ff; text-decoration-color: #ff00ff\">00000003.jpg</span>\n",
       "</pre>\n"
      ],
      "text/plain": [
       "colour_img_path \u001b[35m/root/datasets2/reconcycle/2023-05-23_synthetic_dataset/output/images/\u001b[0m\u001b[95m00000003.jpg\u001b[0m\n"
      ]
     },
     "metadata": {},
     "output_type": "display_data"
    },
    {
     "data": {
      "text/html": [
       "<pre style=\"white-space:pre;overflow-x:auto;line-height:normal;font-family:Menlo,'DejaVu Sans Mono',consolas,'Courier New',monospace\">graph relations:\n",
       "</pre>\n"
      ],
      "text/plain": [
       "graph relations:\n"
      ]
     },
     "metadata": {},
     "output_type": "display_data"
    },
    {
     "data": {
      "text/html": [
       "<pre style=\"white-space:pre;overflow-x:auto;line-height:normal;font-family:Menlo,'DejaVu Sans Mono',consolas,'Courier New',monospace\">Device <span style=\"color: #008080; text-decoration-color: #008080; font-weight: bold\">1</span>: \n",
       "pcb in hca_back\n",
       "battery in hca_back\n",
       "pcb next to battery\n",
       "battery next to pcb\n",
       "\n",
       "Device <span style=\"color: #008080; text-decoration-color: #008080; font-weight: bold\">2</span>: \n",
       "pcb in internals\n",
       "\n",
       "</pre>\n"
      ],
      "text/plain": [
       "Device \u001b[1;36m1\u001b[0m: \n",
       "pcb in hca_back\n",
       "battery in hca_back\n",
       "pcb next to battery\n",
       "battery next to pcb\n",
       "\n",
       "Device \u001b[1;36m2\u001b[0m: \n",
       "pcb in internals\n",
       "\n"
      ]
     },
     "metadata": {},
     "output_type": "display_data"
    },
    {
     "name": "stderr",
     "output_type": "stream",
     "text": [
      "00000004:   0%|          | 0/100 [00:00<?, ?it/s]"
     ]
    },
    {
     "data": {
      "text/html": [
       "<pre style=\"white-space:pre;overflow-x:auto;line-height:normal;font-family:Menlo,'DejaVu Sans Mono',consolas,'Courier New',monospace\">json_path <span style=\"color: #800080; text-decoration-color: #800080\">/root/datasets2/reconcycle/2023-05-23_synthetic_dataset/output/labelme/</span><span style=\"color: #ff00ff; text-decoration-color: #ff00ff\">00000004.json</span>\n",
       "</pre>\n"
      ],
      "text/plain": [
       "json_path \u001b[35m/root/datasets2/reconcycle/2023-05-23_synthetic_dataset/output/labelme/\u001b[0m\u001b[95m00000004.json\u001b[0m\n"
      ]
     },
     "metadata": {},
     "output_type": "display_data"
    },
    {
     "data": {
      "text/html": [
       "<pre style=\"white-space:pre;overflow-x:auto;line-height:normal;font-family:Menlo,'DejaVu Sans Mono',consolas,'Courier New',monospace\">colour_img_path <span style=\"color: #800080; text-decoration-color: #800080\">/root/datasets2/reconcycle/2023-05-23_synthetic_dataset/output/images/</span><span style=\"color: #ff00ff; text-decoration-color: #ff00ff\">00000004.jpg</span>\n",
       "</pre>\n"
      ],
      "text/plain": [
       "colour_img_path \u001b[35m/root/datasets2/reconcycle/2023-05-23_synthetic_dataset/output/images/\u001b[0m\u001b[95m00000004.jpg\u001b[0m\n"
      ]
     },
     "metadata": {},
     "output_type": "display_data"
    },
    {
     "data": {
      "text/html": [
       "<pre style=\"white-space:pre;overflow-x:auto;line-height:normal;font-family:Menlo,'DejaVu Sans Mono',consolas,'Courier New',monospace\">graph relations:\n",
       "</pre>\n"
      ],
      "text/plain": [
       "graph relations:\n"
      ]
     },
     "metadata": {},
     "output_type": "display_data"
    },
    {
     "data": {
      "text/html": [
       "<pre style=\"white-space:pre;overflow-x:auto;line-height:normal;font-family:Menlo,'DejaVu Sans Mono',consolas,'Courier New',monospace\">Device <span style=\"color: #008080; text-decoration-color: #008080; font-weight: bold\">1</span>: \n",
       "pcb in internals\n",
       "internals next to battery\n",
       "battery next to internals\n",
       "\n",
       "Device <span style=\"color: #008080; text-decoration-color: #008080; font-weight: bold\">2</span>: \n",
       "pcb in internals\n",
       "\n",
       "</pre>\n"
      ],
      "text/plain": [
       "Device \u001b[1;36m1\u001b[0m: \n",
       "pcb in internals\n",
       "internals next to battery\n",
       "battery next to internals\n",
       "\n",
       "Device \u001b[1;36m2\u001b[0m: \n",
       "pcb in internals\n",
       "\n"
      ]
     },
     "metadata": {},
     "output_type": "display_data"
    },
    {
     "name": "stderr",
     "output_type": "stream",
     "text": [
      "00000005:   4%|▍         | 4/100 [00:00<00:02, 39.88it/s]"
     ]
    },
    {
     "data": {
      "text/html": [
       "<pre style=\"white-space:pre;overflow-x:auto;line-height:normal;font-family:Menlo,'DejaVu Sans Mono',consolas,'Courier New',monospace\">json_path <span style=\"color: #800080; text-decoration-color: #800080\">/root/datasets2/reconcycle/2023-05-23_synthetic_dataset/output/labelme/</span><span style=\"color: #ff00ff; text-decoration-color: #ff00ff\">00000005.json</span>\n",
       "</pre>\n"
      ],
      "text/plain": [
       "json_path \u001b[35m/root/datasets2/reconcycle/2023-05-23_synthetic_dataset/output/labelme/\u001b[0m\u001b[95m00000005.json\u001b[0m\n"
      ]
     },
     "metadata": {},
     "output_type": "display_data"
    },
    {
     "data": {
      "text/html": [
       "<pre style=\"white-space:pre;overflow-x:auto;line-height:normal;font-family:Menlo,'DejaVu Sans Mono',consolas,'Courier New',monospace\">colour_img_path <span style=\"color: #800080; text-decoration-color: #800080\">/root/datasets2/reconcycle/2023-05-23_synthetic_dataset/output/images/</span><span style=\"color: #ff00ff; text-decoration-color: #ff00ff\">00000005.jpg</span>\n",
       "</pre>\n"
      ],
      "text/plain": [
       "colour_img_path \u001b[35m/root/datasets2/reconcycle/2023-05-23_synthetic_dataset/output/images/\u001b[0m\u001b[95m00000005.jpg\u001b[0m\n"
      ]
     },
     "metadata": {},
     "output_type": "display_data"
    },
    {
     "data": {
      "text/html": [
       "<pre style=\"white-space:pre;overflow-x:auto;line-height:normal;font-family:Menlo,'DejaVu Sans Mono',consolas,'Courier New',monospace\">graph relations:\n",
       "</pre>\n"
      ],
      "text/plain": [
       "graph relations:\n"
      ]
     },
     "metadata": {},
     "output_type": "display_data"
    },
    {
     "data": {
      "text/html": [
       "<pre style=\"white-space:pre;overflow-x:auto;line-height:normal;font-family:Menlo,'DejaVu Sans Mono',consolas,'Courier New',monospace\">Device <span style=\"color: #008080; text-decoration-color: #008080; font-weight: bold\">1</span>: \n",
       "pcb in hca_back\n",
       "battery in hca_back\n",
       "battery in pcb\n",
       "\n",
       "</pre>\n"
      ],
      "text/plain": [
       "Device \u001b[1;36m1\u001b[0m: \n",
       "pcb in hca_back\n",
       "battery in hca_back\n",
       "battery in pcb\n",
       "\n"
      ]
     },
     "metadata": {},
     "output_type": "display_data"
    },
    {
     "name": "stderr",
     "output_type": "stream",
     "text": [
      "00000006:   4%|▍         | 4/100 [00:00<00:02, 39.88it/s]"
     ]
    },
    {
     "data": {
      "text/html": [
       "<pre style=\"white-space:pre;overflow-x:auto;line-height:normal;font-family:Menlo,'DejaVu Sans Mono',consolas,'Courier New',monospace\">json_path <span style=\"color: #800080; text-decoration-color: #800080\">/root/datasets2/reconcycle/2023-05-23_synthetic_dataset/output/labelme/</span><span style=\"color: #ff00ff; text-decoration-color: #ff00ff\">00000006.json</span>\n",
       "</pre>\n"
      ],
      "text/plain": [
       "json_path \u001b[35m/root/datasets2/reconcycle/2023-05-23_synthetic_dataset/output/labelme/\u001b[0m\u001b[95m00000006.json\u001b[0m\n"
      ]
     },
     "metadata": {},
     "output_type": "display_data"
    },
    {
     "data": {
      "text/html": [
       "<pre style=\"white-space:pre;overflow-x:auto;line-height:normal;font-family:Menlo,'DejaVu Sans Mono',consolas,'Courier New',monospace\">colour_img_path <span style=\"color: #800080; text-decoration-color: #800080\">/root/datasets2/reconcycle/2023-05-23_synthetic_dataset/output/images/</span><span style=\"color: #ff00ff; text-decoration-color: #ff00ff\">00000006.jpg</span>\n",
       "</pre>\n"
      ],
      "text/plain": [
       "colour_img_path \u001b[35m/root/datasets2/reconcycle/2023-05-23_synthetic_dataset/output/images/\u001b[0m\u001b[95m00000006.jpg\u001b[0m\n"
      ]
     },
     "metadata": {},
     "output_type": "display_data"
    },
    {
     "data": {
      "text/html": [
       "<pre style=\"white-space:pre;overflow-x:auto;line-height:normal;font-family:Menlo,'DejaVu Sans Mono',consolas,'Courier New',monospace\">graph relations:\n",
       "</pre>\n"
      ],
      "text/plain": [
       "graph relations:\n"
      ]
     },
     "metadata": {},
     "output_type": "display_data"
    },
    {
     "data": {
      "text/html": [
       "<pre style=\"white-space:pre;overflow-x:auto;line-height:normal;font-family:Menlo,'DejaVu Sans Mono',consolas,'Courier New',monospace\">Device <span style=\"color: #008080; text-decoration-color: #008080; font-weight: bold\">1</span>: \n",
       "plastic_clip in hca_back\n",
       "internals in hca_back\n",
       "plastic_clip next to internals\n",
       "internals next to plastic_clip\n",
       "\n",
       "Device <span style=\"color: #008080; text-decoration-color: #008080; font-weight: bold\">2</span>: \n",
       "firealarm_front\n",
       "</pre>\n"
      ],
      "text/plain": [
       "Device \u001b[1;36m1\u001b[0m: \n",
       "plastic_clip in hca_back\n",
       "internals in hca_back\n",
       "plastic_clip next to internals\n",
       "internals next to plastic_clip\n",
       "\n",
       "Device \u001b[1;36m2\u001b[0m: \n",
       "firealarm_front\n"
      ]
     },
     "metadata": {},
     "output_type": "display_data"
    },
    {
     "name": "stderr",
     "output_type": "stream",
     "text": [
      "00000007:   4%|▍         | 4/100 [00:00<00:02, 39.88it/s]"
     ]
    },
    {
     "data": {
      "text/html": [
       "<pre style=\"white-space:pre;overflow-x:auto;line-height:normal;font-family:Menlo,'DejaVu Sans Mono',consolas,'Courier New',monospace\">json_path <span style=\"color: #800080; text-decoration-color: #800080\">/root/datasets2/reconcycle/2023-05-23_synthetic_dataset/output/labelme/</span><span style=\"color: #ff00ff; text-decoration-color: #ff00ff\">00000007.json</span>\n",
       "</pre>\n"
      ],
      "text/plain": [
       "json_path \u001b[35m/root/datasets2/reconcycle/2023-05-23_synthetic_dataset/output/labelme/\u001b[0m\u001b[95m00000007.json\u001b[0m\n"
      ]
     },
     "metadata": {},
     "output_type": "display_data"
    },
    {
     "data": {
      "text/html": [
       "<pre style=\"white-space:pre;overflow-x:auto;line-height:normal;font-family:Menlo,'DejaVu Sans Mono',consolas,'Courier New',monospace\">colour_img_path <span style=\"color: #800080; text-decoration-color: #800080\">/root/datasets2/reconcycle/2023-05-23_synthetic_dataset/output/images/</span><span style=\"color: #ff00ff; text-decoration-color: #ff00ff\">00000007.jpg</span>\n",
       "</pre>\n"
      ],
      "text/plain": [
       "colour_img_path \u001b[35m/root/datasets2/reconcycle/2023-05-23_synthetic_dataset/output/images/\u001b[0m\u001b[95m00000007.jpg\u001b[0m\n"
      ]
     },
     "metadata": {},
     "output_type": "display_data"
    },
    {
     "data": {
      "text/html": [
       "<pre style=\"white-space:pre;overflow-x:auto;line-height:normal;font-family:Menlo,'DejaVu Sans Mono',consolas,'Courier New',monospace\">graph relations:\n",
       "</pre>\n"
      ],
      "text/plain": [
       "graph relations:\n"
      ]
     },
     "metadata": {},
     "output_type": "display_data"
    },
    {
     "data": {
      "text/html": [
       "<pre style=\"white-space:pre;overflow-x:auto;line-height:normal;font-family:Menlo,'DejaVu Sans Mono',consolas,'Courier New',monospace\">Device <span style=\"color: #008080; text-decoration-color: #008080; font-weight: bold\">1</span>: \n",
       "pcb_covered in hca_back\n",
       "\n",
       "</pre>\n"
      ],
      "text/plain": [
       "Device \u001b[1;36m1\u001b[0m: \n",
       "pcb_covered in hca_back\n",
       "\n"
      ]
     },
     "metadata": {},
     "output_type": "display_data"
    },
    {
     "name": "stderr",
     "output_type": "stream",
     "text": [
      "00000008:   4%|▍         | 4/100 [00:00<00:02, 39.88it/s]"
     ]
    },
    {
     "data": {
      "text/html": [
       "<pre style=\"white-space:pre;overflow-x:auto;line-height:normal;font-family:Menlo,'DejaVu Sans Mono',consolas,'Courier New',monospace\">json_path <span style=\"color: #800080; text-decoration-color: #800080\">/root/datasets2/reconcycle/2023-05-23_synthetic_dataset/output/labelme/</span><span style=\"color: #ff00ff; text-decoration-color: #ff00ff\">00000008.json</span>\n",
       "</pre>\n"
      ],
      "text/plain": [
       "json_path \u001b[35m/root/datasets2/reconcycle/2023-05-23_synthetic_dataset/output/labelme/\u001b[0m\u001b[95m00000008.json\u001b[0m\n"
      ]
     },
     "metadata": {},
     "output_type": "display_data"
    },
    {
     "data": {
      "text/html": [
       "<pre style=\"white-space:pre;overflow-x:auto;line-height:normal;font-family:Menlo,'DejaVu Sans Mono',consolas,'Courier New',monospace\">colour_img_path <span style=\"color: #800080; text-decoration-color: #800080\">/root/datasets2/reconcycle/2023-05-23_synthetic_dataset/output/images/</span><span style=\"color: #ff00ff; text-decoration-color: #ff00ff\">00000008.jpg</span>\n",
       "</pre>\n"
      ],
      "text/plain": [
       "colour_img_path \u001b[35m/root/datasets2/reconcycle/2023-05-23_synthetic_dataset/output/images/\u001b[0m\u001b[95m00000008.jpg\u001b[0m\n"
      ]
     },
     "metadata": {},
     "output_type": "display_data"
    },
    {
     "data": {
      "text/html": [
       "<pre style=\"white-space:pre;overflow-x:auto;line-height:normal;font-family:Menlo,'DejaVu Sans Mono',consolas,'Courier New',monospace\">graph relations:\n",
       "</pre>\n"
      ],
      "text/plain": [
       "graph relations:\n"
      ]
     },
     "metadata": {},
     "output_type": "display_data"
    },
    {
     "data": {
      "text/html": [
       "<pre style=\"white-space:pre;overflow-x:auto;line-height:normal;font-family:Menlo,'DejaVu Sans Mono',consolas,'Courier New',monospace\">Device <span style=\"color: #008080; text-decoration-color: #008080; font-weight: bold\">1</span>: \n",
       "internals in hca_back\n",
       "\n",
       "</pre>\n"
      ],
      "text/plain": [
       "Device \u001b[1;36m1\u001b[0m: \n",
       "internals in hca_back\n",
       "\n"
      ]
     },
     "metadata": {},
     "output_type": "display_data"
    },
    {
     "name": "stderr",
     "output_type": "stream",
     "text": [
      "00000009:   8%|▊         | 8/100 [00:00<00:02, 39.61it/s]"
     ]
    },
    {
     "data": {
      "text/html": [
       "<pre style=\"white-space:pre;overflow-x:auto;line-height:normal;font-family:Menlo,'DejaVu Sans Mono',consolas,'Courier New',monospace\">json_path <span style=\"color: #800080; text-decoration-color: #800080\">/root/datasets2/reconcycle/2023-05-23_synthetic_dataset/output/labelme/</span><span style=\"color: #ff00ff; text-decoration-color: #ff00ff\">00000009.json</span>\n",
       "</pre>\n"
      ],
      "text/plain": [
       "json_path \u001b[35m/root/datasets2/reconcycle/2023-05-23_synthetic_dataset/output/labelme/\u001b[0m\u001b[95m00000009.json\u001b[0m\n"
      ]
     },
     "metadata": {},
     "output_type": "display_data"
    },
    {
     "data": {
      "text/html": [
       "<pre style=\"white-space:pre;overflow-x:auto;line-height:normal;font-family:Menlo,'DejaVu Sans Mono',consolas,'Courier New',monospace\">colour_img_path <span style=\"color: #800080; text-decoration-color: #800080\">/root/datasets2/reconcycle/2023-05-23_synthetic_dataset/output/images/</span><span style=\"color: #ff00ff; text-decoration-color: #ff00ff\">00000009.jpg</span>\n",
       "</pre>\n"
      ],
      "text/plain": [
       "colour_img_path \u001b[35m/root/datasets2/reconcycle/2023-05-23_synthetic_dataset/output/images/\u001b[0m\u001b[95m00000009.jpg\u001b[0m\n"
      ]
     },
     "metadata": {},
     "output_type": "display_data"
    },
    {
     "data": {
      "text/html": [
       "<pre style=\"white-space:pre;overflow-x:auto;line-height:normal;font-family:Menlo,'DejaVu Sans Mono',consolas,'Courier New',monospace\">graph relations:\n",
       "</pre>\n"
      ],
      "text/plain": [
       "graph relations:\n"
      ]
     },
     "metadata": {},
     "output_type": "display_data"
    },
    {
     "data": {
      "text/html": [
       "<pre style=\"white-space:pre;overflow-x:auto;line-height:normal;font-family:Menlo,'DejaVu Sans Mono',consolas,'Courier New',monospace\">Device <span style=\"color: #008080; text-decoration-color: #008080; font-weight: bold\">1</span>: \n",
       "pcb in internals\n",
       "\n",
       "</pre>\n"
      ],
      "text/plain": [
       "Device \u001b[1;36m1\u001b[0m: \n",
       "pcb in internals\n",
       "\n"
      ]
     },
     "metadata": {},
     "output_type": "display_data"
    },
    {
     "name": "stderr",
     "output_type": "stream",
     "text": [
      "00000010:   8%|▊         | 8/100 [00:00<00:02, 39.61it/s]"
     ]
    },
    {
     "data": {
      "text/html": [
       "<pre style=\"white-space:pre;overflow-x:auto;line-height:normal;font-family:Menlo,'DejaVu Sans Mono',consolas,'Courier New',monospace\">json_path <span style=\"color: #800080; text-decoration-color: #800080\">/root/datasets2/reconcycle/2023-05-23_synthetic_dataset/output/labelme/</span><span style=\"color: #ff00ff; text-decoration-color: #ff00ff\">00000010.json</span>\n",
       "</pre>\n"
      ],
      "text/plain": [
       "json_path \u001b[35m/root/datasets2/reconcycle/2023-05-23_synthetic_dataset/output/labelme/\u001b[0m\u001b[95m00000010.json\u001b[0m\n"
      ]
     },
     "metadata": {},
     "output_type": "display_data"
    },
    {
     "data": {
      "text/html": [
       "<pre style=\"white-space:pre;overflow-x:auto;line-height:normal;font-family:Menlo,'DejaVu Sans Mono',consolas,'Courier New',monospace\">colour_img_path <span style=\"color: #800080; text-decoration-color: #800080\">/root/datasets2/reconcycle/2023-05-23_synthetic_dataset/output/images/</span><span style=\"color: #ff00ff; text-decoration-color: #ff00ff\">00000010.jpg</span>\n",
       "</pre>\n"
      ],
      "text/plain": [
       "colour_img_path \u001b[35m/root/datasets2/reconcycle/2023-05-23_synthetic_dataset/output/images/\u001b[0m\u001b[95m00000010.jpg\u001b[0m\n"
      ]
     },
     "metadata": {},
     "output_type": "display_data"
    },
    {
     "data": {
      "text/html": [
       "<pre style=\"white-space:pre;overflow-x:auto;line-height:normal;font-family:Menlo,'DejaVu Sans Mono',consolas,'Courier New',monospace\">graph relations:\n",
       "</pre>\n"
      ],
      "text/plain": [
       "graph relations:\n"
      ]
     },
     "metadata": {},
     "output_type": "display_data"
    },
    {
     "data": {
      "text/html": [
       "<pre style=\"white-space:pre;overflow-x:auto;line-height:normal;font-family:Menlo,'DejaVu Sans Mono',consolas,'Courier New',monospace\">Device <span style=\"color: #008080; text-decoration-color: #008080; font-weight: bold\">1</span>: \n",
       "pcb_covered in hca_back\n",
       "\n",
       "Device <span style=\"color: #008080; text-decoration-color: #008080; font-weight: bold\">2</span>: \n",
       "pcb_covered in hca_back\n",
       "\n",
       "</pre>\n"
      ],
      "text/plain": [
       "Device \u001b[1;36m1\u001b[0m: \n",
       "pcb_covered in hca_back\n",
       "\n",
       "Device \u001b[1;36m2\u001b[0m: \n",
       "pcb_covered in hca_back\n",
       "\n"
      ]
     },
     "metadata": {},
     "output_type": "display_data"
    },
    {
     "name": "stderr",
     "output_type": "stream",
     "text": [
      "00000011:   8%|▊         | 8/100 [00:00<00:02, 39.61it/s]"
     ]
    },
    {
     "data": {
      "text/html": [
       "<pre style=\"white-space:pre;overflow-x:auto;line-height:normal;font-family:Menlo,'DejaVu Sans Mono',consolas,'Courier New',monospace\">json_path <span style=\"color: #800080; text-decoration-color: #800080\">/root/datasets2/reconcycle/2023-05-23_synthetic_dataset/output/labelme/</span><span style=\"color: #ff00ff; text-decoration-color: #ff00ff\">00000011.json</span>\n",
       "</pre>\n"
      ],
      "text/plain": [
       "json_path \u001b[35m/root/datasets2/reconcycle/2023-05-23_synthetic_dataset/output/labelme/\u001b[0m\u001b[95m00000011.json\u001b[0m\n"
      ]
     },
     "metadata": {},
     "output_type": "display_data"
    },
    {
     "data": {
      "text/html": [
       "<pre style=\"white-space:pre;overflow-x:auto;line-height:normal;font-family:Menlo,'DejaVu Sans Mono',consolas,'Courier New',monospace\">colour_img_path <span style=\"color: #800080; text-decoration-color: #800080\">/root/datasets2/reconcycle/2023-05-23_synthetic_dataset/output/images/</span><span style=\"color: #ff00ff; text-decoration-color: #ff00ff\">00000011.jpg</span>\n",
       "</pre>\n"
      ],
      "text/plain": [
       "colour_img_path \u001b[35m/root/datasets2/reconcycle/2023-05-23_synthetic_dataset/output/images/\u001b[0m\u001b[95m00000011.jpg\u001b[0m\n"
      ]
     },
     "metadata": {},
     "output_type": "display_data"
    },
    {
     "data": {
      "text/html": [
       "<pre style=\"white-space:pre;overflow-x:auto;line-height:normal;font-family:Menlo,'DejaVu Sans Mono',consolas,'Courier New',monospace\">graph relations:\n",
       "</pre>\n"
      ],
      "text/plain": [
       "graph relations:\n"
      ]
     },
     "metadata": {},
     "output_type": "display_data"
    },
    {
     "data": {
      "text/html": [
       "<pre style=\"white-space:pre;overflow-x:auto;line-height:normal;font-family:Menlo,'DejaVu Sans Mono',consolas,'Courier New',monospace\">Device <span style=\"color: #008080; text-decoration-color: #008080; font-weight: bold\">1</span>: \n",
       "battery_covered in firealarm_back\n",
       "\n",
       "</pre>\n"
      ],
      "text/plain": [
       "Device \u001b[1;36m1\u001b[0m: \n",
       "battery_covered in firealarm_back\n",
       "\n"
      ]
     },
     "metadata": {},
     "output_type": "display_data"
    },
    {
     "name": "stderr",
     "output_type": "stream",
     "text": [
      "00000012:   8%|▊         | 8/100 [00:00<00:02, 39.61it/s]"
     ]
    },
    {
     "data": {
      "text/html": [
       "<pre style=\"white-space:pre;overflow-x:auto;line-height:normal;font-family:Menlo,'DejaVu Sans Mono',consolas,'Courier New',monospace\">json_path <span style=\"color: #800080; text-decoration-color: #800080\">/root/datasets2/reconcycle/2023-05-23_synthetic_dataset/output/labelme/</span><span style=\"color: #ff00ff; text-decoration-color: #ff00ff\">00000012.json</span>\n",
       "</pre>\n"
      ],
      "text/plain": [
       "json_path \u001b[35m/root/datasets2/reconcycle/2023-05-23_synthetic_dataset/output/labelme/\u001b[0m\u001b[95m00000012.json\u001b[0m\n"
      ]
     },
     "metadata": {},
     "output_type": "display_data"
    },
    {
     "data": {
      "text/html": [
       "<pre style=\"white-space:pre;overflow-x:auto;line-height:normal;font-family:Menlo,'DejaVu Sans Mono',consolas,'Courier New',monospace\">colour_img_path <span style=\"color: #800080; text-decoration-color: #800080\">/root/datasets2/reconcycle/2023-05-23_synthetic_dataset/output/images/</span><span style=\"color: #ff00ff; text-decoration-color: #ff00ff\">00000012.jpg</span>\n",
       "</pre>\n"
      ],
      "text/plain": [
       "colour_img_path \u001b[35m/root/datasets2/reconcycle/2023-05-23_synthetic_dataset/output/images/\u001b[0m\u001b[95m00000012.jpg\u001b[0m\n"
      ]
     },
     "metadata": {},
     "output_type": "display_data"
    },
    {
     "data": {
      "text/html": [
       "<pre style=\"white-space:pre;overflow-x:auto;line-height:normal;font-family:Menlo,'DejaVu Sans Mono',consolas,'Courier New',monospace\">graph relations:\n",
       "</pre>\n"
      ],
      "text/plain": [
       "graph relations:\n"
      ]
     },
     "metadata": {},
     "output_type": "display_data"
    },
    {
     "data": {
      "text/html": [
       "<pre style=\"white-space:pre;overflow-x:auto;line-height:normal;font-family:Menlo,'DejaVu Sans Mono',consolas,'Courier New',monospace\">Device <span style=\"color: #008080; text-decoration-color: #008080; font-weight: bold\">1</span>: \n",
       "firealarm_front\n",
       "</pre>\n"
      ],
      "text/plain": [
       "Device \u001b[1;36m1\u001b[0m: \n",
       "firealarm_front\n"
      ]
     },
     "metadata": {},
     "output_type": "display_data"
    },
    {
     "name": "stderr",
     "output_type": "stream",
     "text": [
      "00000013:   8%|▊         | 8/100 [00:00<00:02, 39.61it/s]"
     ]
    },
    {
     "data": {
      "text/html": [
       "<pre style=\"white-space:pre;overflow-x:auto;line-height:normal;font-family:Menlo,'DejaVu Sans Mono',consolas,'Courier New',monospace\">json_path <span style=\"color: #800080; text-decoration-color: #800080\">/root/datasets2/reconcycle/2023-05-23_synthetic_dataset/output/labelme/</span><span style=\"color: #ff00ff; text-decoration-color: #ff00ff\">00000013.json</span>\n",
       "</pre>\n"
      ],
      "text/plain": [
       "json_path \u001b[35m/root/datasets2/reconcycle/2023-05-23_synthetic_dataset/output/labelme/\u001b[0m\u001b[95m00000013.json\u001b[0m\n"
      ]
     },
     "metadata": {},
     "output_type": "display_data"
    },
    {
     "data": {
      "text/html": [
       "<pre style=\"white-space:pre;overflow-x:auto;line-height:normal;font-family:Menlo,'DejaVu Sans Mono',consolas,'Courier New',monospace\">colour_img_path <span style=\"color: #800080; text-decoration-color: #800080\">/root/datasets2/reconcycle/2023-05-23_synthetic_dataset/output/images/</span><span style=\"color: #ff00ff; text-decoration-color: #ff00ff\">00000013.jpg</span>\n",
       "</pre>\n"
      ],
      "text/plain": [
       "colour_img_path \u001b[35m/root/datasets2/reconcycle/2023-05-23_synthetic_dataset/output/images/\u001b[0m\u001b[95m00000013.jpg\u001b[0m\n"
      ]
     },
     "metadata": {},
     "output_type": "display_data"
    },
    {
     "data": {
      "text/html": [
       "<pre style=\"white-space:pre;overflow-x:auto;line-height:normal;font-family:Menlo,'DejaVu Sans Mono',consolas,'Courier New',monospace\">graph relations:\n",
       "</pre>\n"
      ],
      "text/plain": [
       "graph relations:\n"
      ]
     },
     "metadata": {},
     "output_type": "display_data"
    },
    {
     "data": {
      "text/html": [
       "<pre style=\"white-space:pre;overflow-x:auto;line-height:normal;font-family:Menlo,'DejaVu Sans Mono',consolas,'Courier New',monospace\">Device <span style=\"color: #008080; text-decoration-color: #008080; font-weight: bold\">1</span>: \n",
       "firealarm_front\n",
       "</pre>\n"
      ],
      "text/plain": [
       "Device \u001b[1;36m1\u001b[0m: \n",
       "firealarm_front\n"
      ]
     },
     "metadata": {},
     "output_type": "display_data"
    },
    {
     "name": "stderr",
     "output_type": "stream",
     "text": [
      "00000014:  13%|█▎        | 13/100 [00:00<00:02, 41.95it/s]"
     ]
    },
    {
     "data": {
      "text/html": [
       "<pre style=\"white-space:pre;overflow-x:auto;line-height:normal;font-family:Menlo,'DejaVu Sans Mono',consolas,'Courier New',monospace\">json_path <span style=\"color: #800080; text-decoration-color: #800080\">/root/datasets2/reconcycle/2023-05-23_synthetic_dataset/output/labelme/</span><span style=\"color: #ff00ff; text-decoration-color: #ff00ff\">00000014.json</span>\n",
       "</pre>\n"
      ],
      "text/plain": [
       "json_path \u001b[35m/root/datasets2/reconcycle/2023-05-23_synthetic_dataset/output/labelme/\u001b[0m\u001b[95m00000014.json\u001b[0m\n"
      ]
     },
     "metadata": {},
     "output_type": "display_data"
    },
    {
     "data": {
      "text/html": [
       "<pre style=\"white-space:pre;overflow-x:auto;line-height:normal;font-family:Menlo,'DejaVu Sans Mono',consolas,'Courier New',monospace\">colour_img_path <span style=\"color: #800080; text-decoration-color: #800080\">/root/datasets2/reconcycle/2023-05-23_synthetic_dataset/output/images/</span><span style=\"color: #ff00ff; text-decoration-color: #ff00ff\">00000014.jpg</span>\n",
       "</pre>\n"
      ],
      "text/plain": [
       "colour_img_path \u001b[35m/root/datasets2/reconcycle/2023-05-23_synthetic_dataset/output/images/\u001b[0m\u001b[95m00000014.jpg\u001b[0m\n"
      ]
     },
     "metadata": {},
     "output_type": "display_data"
    },
    {
     "data": {
      "text/html": [
       "<pre style=\"white-space:pre;overflow-x:auto;line-height:normal;font-family:Menlo,'DejaVu Sans Mono',consolas,'Courier New',monospace\">graph relations:\n",
       "</pre>\n"
      ],
      "text/plain": [
       "graph relations:\n"
      ]
     },
     "metadata": {},
     "output_type": "display_data"
    },
    {
     "data": {
      "text/html": [
       "<pre style=\"white-space:pre;overflow-x:auto;line-height:normal;font-family:Menlo,'DejaVu Sans Mono',consolas,'Courier New',monospace\">Device <span style=\"color: #008080; text-decoration-color: #008080; font-weight: bold\">1</span>: \n",
       "pcb in internals\n",
       "battery in internals\n",
       "battery in pcb\n",
       "\n",
       "Device <span style=\"color: #008080; text-decoration-color: #008080; font-weight: bold\">2</span>: \n",
       "pcb in hca_back\n",
       "\n",
       "</pre>\n"
      ],
      "text/plain": [
       "Device \u001b[1;36m1\u001b[0m: \n",
       "pcb in internals\n",
       "battery in internals\n",
       "battery in pcb\n",
       "\n",
       "Device \u001b[1;36m2\u001b[0m: \n",
       "pcb in hca_back\n",
       "\n"
      ]
     },
     "metadata": {},
     "output_type": "display_data"
    },
    {
     "name": "stderr",
     "output_type": "stream",
     "text": [
      "00000015:  13%|█▎        | 13/100 [00:00<00:02, 41.95it/s]"
     ]
    },
    {
     "data": {
      "text/html": [
       "<pre style=\"white-space:pre;overflow-x:auto;line-height:normal;font-family:Menlo,'DejaVu Sans Mono',consolas,'Courier New',monospace\">json_path <span style=\"color: #800080; text-decoration-color: #800080\">/root/datasets2/reconcycle/2023-05-23_synthetic_dataset/output/labelme/</span><span style=\"color: #ff00ff; text-decoration-color: #ff00ff\">00000015.json</span>\n",
       "</pre>\n"
      ],
      "text/plain": [
       "json_path \u001b[35m/root/datasets2/reconcycle/2023-05-23_synthetic_dataset/output/labelme/\u001b[0m\u001b[95m00000015.json\u001b[0m\n"
      ]
     },
     "metadata": {},
     "output_type": "display_data"
    },
    {
     "data": {
      "text/html": [
       "<pre style=\"white-space:pre;overflow-x:auto;line-height:normal;font-family:Menlo,'DejaVu Sans Mono',consolas,'Courier New',monospace\">colour_img_path <span style=\"color: #800080; text-decoration-color: #800080\">/root/datasets2/reconcycle/2023-05-23_synthetic_dataset/output/images/</span><span style=\"color: #ff00ff; text-decoration-color: #ff00ff\">00000015.jpg</span>\n",
       "</pre>\n"
      ],
      "text/plain": [
       "colour_img_path \u001b[35m/root/datasets2/reconcycle/2023-05-23_synthetic_dataset/output/images/\u001b[0m\u001b[95m00000015.jpg\u001b[0m\n"
      ]
     },
     "metadata": {},
     "output_type": "display_data"
    },
    {
     "data": {
      "text/html": [
       "<pre style=\"white-space:pre;overflow-x:auto;line-height:normal;font-family:Menlo,'DejaVu Sans Mono',consolas,'Courier New',monospace\">graph relations:\n",
       "</pre>\n"
      ],
      "text/plain": [
       "graph relations:\n"
      ]
     },
     "metadata": {},
     "output_type": "display_data"
    },
    {
     "data": {
      "text/html": [
       "<pre style=\"white-space:pre;overflow-x:auto;line-height:normal;font-family:Menlo,'DejaVu Sans Mono',consolas,'Courier New',monospace\">Device <span style=\"color: #008080; text-decoration-color: #008080; font-weight: bold\">1</span>: \n",
       "battery_covered in firealarm_back\n",
       "\n",
       "</pre>\n"
      ],
      "text/plain": [
       "Device \u001b[1;36m1\u001b[0m: \n",
       "battery_covered in firealarm_back\n",
       "\n"
      ]
     },
     "metadata": {},
     "output_type": "display_data"
    },
    {
     "name": "stderr",
     "output_type": "stream",
     "text": [
      "00000016:  13%|█▎        | 13/100 [00:00<00:02, 41.95it/s]"
     ]
    },
    {
     "data": {
      "text/html": [
       "<pre style=\"white-space:pre;overflow-x:auto;line-height:normal;font-family:Menlo,'DejaVu Sans Mono',consolas,'Courier New',monospace\">json_path <span style=\"color: #800080; text-decoration-color: #800080\">/root/datasets2/reconcycle/2023-05-23_synthetic_dataset/output/labelme/</span><span style=\"color: #ff00ff; text-decoration-color: #ff00ff\">00000016.json</span>\n",
       "</pre>\n"
      ],
      "text/plain": [
       "json_path \u001b[35m/root/datasets2/reconcycle/2023-05-23_synthetic_dataset/output/labelme/\u001b[0m\u001b[95m00000016.json\u001b[0m\n"
      ]
     },
     "metadata": {},
     "output_type": "display_data"
    },
    {
     "data": {
      "text/html": [
       "<pre style=\"white-space:pre;overflow-x:auto;line-height:normal;font-family:Menlo,'DejaVu Sans Mono',consolas,'Courier New',monospace\">colour_img_path <span style=\"color: #800080; text-decoration-color: #800080\">/root/datasets2/reconcycle/2023-05-23_synthetic_dataset/output/images/</span><span style=\"color: #ff00ff; text-decoration-color: #ff00ff\">00000016.jpg</span>\n",
       "</pre>\n"
      ],
      "text/plain": [
       "colour_img_path \u001b[35m/root/datasets2/reconcycle/2023-05-23_synthetic_dataset/output/images/\u001b[0m\u001b[95m00000016.jpg\u001b[0m\n"
      ]
     },
     "metadata": {},
     "output_type": "display_data"
    },
    {
     "data": {
      "text/html": [
       "<pre style=\"white-space:pre;overflow-x:auto;line-height:normal;font-family:Menlo,'DejaVu Sans Mono',consolas,'Courier New',monospace\">graph relations:\n",
       "</pre>\n"
      ],
      "text/plain": [
       "graph relations:\n"
      ]
     },
     "metadata": {},
     "output_type": "display_data"
    },
    {
     "data": {
      "text/html": [
       "<pre style=\"white-space:pre;overflow-x:auto;line-height:normal;font-family:Menlo,'DejaVu Sans Mono',consolas,'Courier New',monospace\">Device <span style=\"color: #008080; text-decoration-color: #008080; font-weight: bold\">1</span>: \n",
       "firealarm_back\n",
       "</pre>\n"
      ],
      "text/plain": [
       "Device \u001b[1;36m1\u001b[0m: \n",
       "firealarm_back\n"
      ]
     },
     "metadata": {},
     "output_type": "display_data"
    },
    {
     "name": "stderr",
     "output_type": "stream",
     "text": [
      "00000017:  13%|█▎        | 13/100 [00:00<00:02, 41.95it/s]"
     ]
    },
    {
     "data": {
      "text/html": [
       "<pre style=\"white-space:pre;overflow-x:auto;line-height:normal;font-family:Menlo,'DejaVu Sans Mono',consolas,'Courier New',monospace\">json_path <span style=\"color: #800080; text-decoration-color: #800080\">/root/datasets2/reconcycle/2023-05-23_synthetic_dataset/output/labelme/</span><span style=\"color: #ff00ff; text-decoration-color: #ff00ff\">00000017.json</span>\n",
       "</pre>\n"
      ],
      "text/plain": [
       "json_path \u001b[35m/root/datasets2/reconcycle/2023-05-23_synthetic_dataset/output/labelme/\u001b[0m\u001b[95m00000017.json\u001b[0m\n"
      ]
     },
     "metadata": {},
     "output_type": "display_data"
    },
    {
     "data": {
      "text/html": [
       "<pre style=\"white-space:pre;overflow-x:auto;line-height:normal;font-family:Menlo,'DejaVu Sans Mono',consolas,'Courier New',monospace\">colour_img_path <span style=\"color: #800080; text-decoration-color: #800080\">/root/datasets2/reconcycle/2023-05-23_synthetic_dataset/output/images/</span><span style=\"color: #ff00ff; text-decoration-color: #ff00ff\">00000017.jpg</span>\n",
       "</pre>\n"
      ],
      "text/plain": [
       "colour_img_path \u001b[35m/root/datasets2/reconcycle/2023-05-23_synthetic_dataset/output/images/\u001b[0m\u001b[95m00000017.jpg\u001b[0m\n"
      ]
     },
     "metadata": {},
     "output_type": "display_data"
    },
    {
     "data": {
      "text/html": [
       "<pre style=\"white-space:pre;overflow-x:auto;line-height:normal;font-family:Menlo,'DejaVu Sans Mono',consolas,'Courier New',monospace\">graph relations:\n",
       "</pre>\n"
      ],
      "text/plain": [
       "graph relations:\n"
      ]
     },
     "metadata": {},
     "output_type": "display_data"
    },
    {
     "data": {
      "text/html": [
       "<pre style=\"white-space:pre;overflow-x:auto;line-height:normal;font-family:Menlo,'DejaVu Sans Mono',consolas,'Courier New',monospace\">Device <span style=\"color: #008080; text-decoration-color: #008080; font-weight: bold\">1</span>: \n",
       "internals in hca_back\n",
       "battery in hca_back\n",
       "internals next to battery\n",
       "battery next to internals\n",
       "\n",
       "Device <span style=\"color: #008080; text-decoration-color: #008080; font-weight: bold\">2</span>: \n",
       "pcb in hca_back\n",
       "battery in hca_back\n",
       "pcb next to battery\n",
       "battery next to pcb\n",
       "\n",
       "</pre>\n"
      ],
      "text/plain": [
       "Device \u001b[1;36m1\u001b[0m: \n",
       "internals in hca_back\n",
       "battery in hca_back\n",
       "internals next to battery\n",
       "battery next to internals\n",
       "\n",
       "Device \u001b[1;36m2\u001b[0m: \n",
       "pcb in hca_back\n",
       "battery in hca_back\n",
       "pcb next to battery\n",
       "battery next to pcb\n",
       "\n"
      ]
     },
     "metadata": {},
     "output_type": "display_data"
    },
    {
     "name": "stderr",
     "output_type": "stream",
     "text": [
      "00000018:  13%|█▎        | 13/100 [00:00<00:02, 41.95it/s]"
     ]
    },
    {
     "data": {
      "text/html": [
       "<pre style=\"white-space:pre;overflow-x:auto;line-height:normal;font-family:Menlo,'DejaVu Sans Mono',consolas,'Courier New',monospace\">json_path <span style=\"color: #800080; text-decoration-color: #800080\">/root/datasets2/reconcycle/2023-05-23_synthetic_dataset/output/labelme/</span><span style=\"color: #ff00ff; text-decoration-color: #ff00ff\">00000018.json</span>\n",
       "</pre>\n"
      ],
      "text/plain": [
       "json_path \u001b[35m/root/datasets2/reconcycle/2023-05-23_synthetic_dataset/output/labelme/\u001b[0m\u001b[95m00000018.json\u001b[0m\n"
      ]
     },
     "metadata": {},
     "output_type": "display_data"
    },
    {
     "data": {
      "text/html": [
       "<pre style=\"white-space:pre;overflow-x:auto;line-height:normal;font-family:Menlo,'DejaVu Sans Mono',consolas,'Courier New',monospace\">colour_img_path <span style=\"color: #800080; text-decoration-color: #800080\">/root/datasets2/reconcycle/2023-05-23_synthetic_dataset/output/images/</span><span style=\"color: #ff00ff; text-decoration-color: #ff00ff\">00000018.jpg</span>\n",
       "</pre>\n"
      ],
      "text/plain": [
       "colour_img_path \u001b[35m/root/datasets2/reconcycle/2023-05-23_synthetic_dataset/output/images/\u001b[0m\u001b[95m00000018.jpg\u001b[0m\n"
      ]
     },
     "metadata": {},
     "output_type": "display_data"
    },
    {
     "data": {
      "text/html": [
       "<pre style=\"white-space:pre;overflow-x:auto;line-height:normal;font-family:Menlo,'DejaVu Sans Mono',consolas,'Courier New',monospace\">graph relations:\n",
       "</pre>\n"
      ],
      "text/plain": [
       "graph relations:\n"
      ]
     },
     "metadata": {},
     "output_type": "display_data"
    },
    {
     "data": {
      "text/html": [
       "<pre style=\"white-space:pre;overflow-x:auto;line-height:normal;font-family:Menlo,'DejaVu Sans Mono',consolas,'Courier New',monospace\">Device <span style=\"color: #008080; text-decoration-color: #008080; font-weight: bold\">1</span>: \n",
       "hca_back in pcb\n",
       "pcb in hca_back\n",
       "hca_back next to internals\n",
       "hca_back next to pcb\n",
       "internals next to hca_back\n",
       "pcb next to hca_back\n",
       "pcb in internals\n",
       "pcb in internals\n",
       "battery in internals\n",
       "battery in pcb\n",
       "\n",
       "</pre>\n"
      ],
      "text/plain": [
       "Device \u001b[1;36m1\u001b[0m: \n",
       "hca_back in pcb\n",
       "pcb in hca_back\n",
       "hca_back next to internals\n",
       "hca_back next to pcb\n",
       "internals next to hca_back\n",
       "pcb next to hca_back\n",
       "pcb in internals\n",
       "pcb in internals\n",
       "battery in internals\n",
       "battery in pcb\n",
       "\n"
      ]
     },
     "metadata": {},
     "output_type": "display_data"
    },
    {
     "name": "stderr",
     "output_type": "stream",
     "text": [
      "00000019:  18%|█▊        | 18/100 [00:00<00:01, 42.85it/s]"
     ]
    },
    {
     "data": {
      "text/html": [
       "<pre style=\"white-space:pre;overflow-x:auto;line-height:normal;font-family:Menlo,'DejaVu Sans Mono',consolas,'Courier New',monospace\">json_path <span style=\"color: #800080; text-decoration-color: #800080\">/root/datasets2/reconcycle/2023-05-23_synthetic_dataset/output/labelme/</span><span style=\"color: #ff00ff; text-decoration-color: #ff00ff\">00000019.json</span>\n",
       "</pre>\n"
      ],
      "text/plain": [
       "json_path \u001b[35m/root/datasets2/reconcycle/2023-05-23_synthetic_dataset/output/labelme/\u001b[0m\u001b[95m00000019.json\u001b[0m\n"
      ]
     },
     "metadata": {},
     "output_type": "display_data"
    },
    {
     "data": {
      "text/html": [
       "<pre style=\"white-space:pre;overflow-x:auto;line-height:normal;font-family:Menlo,'DejaVu Sans Mono',consolas,'Courier New',monospace\">colour_img_path <span style=\"color: #800080; text-decoration-color: #800080\">/root/datasets2/reconcycle/2023-05-23_synthetic_dataset/output/images/</span><span style=\"color: #ff00ff; text-decoration-color: #ff00ff\">00000019.jpg</span>\n",
       "</pre>\n"
      ],
      "text/plain": [
       "colour_img_path \u001b[35m/root/datasets2/reconcycle/2023-05-23_synthetic_dataset/output/images/\u001b[0m\u001b[95m00000019.jpg\u001b[0m\n"
      ]
     },
     "metadata": {},
     "output_type": "display_data"
    },
    {
     "data": {
      "text/html": [
       "<pre style=\"white-space:pre;overflow-x:auto;line-height:normal;font-family:Menlo,'DejaVu Sans Mono',consolas,'Courier New',monospace\">graph relations:\n",
       "</pre>\n"
      ],
      "text/plain": [
       "graph relations:\n"
      ]
     },
     "metadata": {},
     "output_type": "display_data"
    },
    {
     "data": {
      "text/html": [
       "<pre style=\"white-space:pre;overflow-x:auto;line-height:normal;font-family:Menlo,'DejaVu Sans Mono',consolas,'Courier New',monospace\">Device <span style=\"color: #008080; text-decoration-color: #008080; font-weight: bold\">1</span>: \n",
       "pcb_covered in hca_back\n",
       "\n",
       "</pre>\n"
      ],
      "text/plain": [
       "Device \u001b[1;36m1\u001b[0m: \n",
       "pcb_covered in hca_back\n",
       "\n"
      ]
     },
     "metadata": {},
     "output_type": "display_data"
    },
    {
     "name": "stderr",
     "output_type": "stream",
     "text": [
      "00000020:  18%|█▊        | 18/100 [00:00<00:01, 42.85it/s]"
     ]
    },
    {
     "data": {
      "text/html": [
       "<pre style=\"white-space:pre;overflow-x:auto;line-height:normal;font-family:Menlo,'DejaVu Sans Mono',consolas,'Courier New',monospace\">json_path <span style=\"color: #800080; text-decoration-color: #800080\">/root/datasets2/reconcycle/2023-05-23_synthetic_dataset/output/labelme/</span><span style=\"color: #ff00ff; text-decoration-color: #ff00ff\">00000020.json</span>\n",
       "</pre>\n"
      ],
      "text/plain": [
       "json_path \u001b[35m/root/datasets2/reconcycle/2023-05-23_synthetic_dataset/output/labelme/\u001b[0m\u001b[95m00000020.json\u001b[0m\n"
      ]
     },
     "metadata": {},
     "output_type": "display_data"
    },
    {
     "data": {
      "text/html": [
       "<pre style=\"white-space:pre;overflow-x:auto;line-height:normal;font-family:Menlo,'DejaVu Sans Mono',consolas,'Courier New',monospace\">colour_img_path <span style=\"color: #800080; text-decoration-color: #800080\">/root/datasets2/reconcycle/2023-05-23_synthetic_dataset/output/images/</span><span style=\"color: #ff00ff; text-decoration-color: #ff00ff\">00000020.jpg</span>\n",
       "</pre>\n"
      ],
      "text/plain": [
       "colour_img_path \u001b[35m/root/datasets2/reconcycle/2023-05-23_synthetic_dataset/output/images/\u001b[0m\u001b[95m00000020.jpg\u001b[0m\n"
      ]
     },
     "metadata": {},
     "output_type": "display_data"
    },
    {
     "data": {
      "text/html": [
       "<pre style=\"white-space:pre;overflow-x:auto;line-height:normal;font-family:Menlo,'DejaVu Sans Mono',consolas,'Courier New',monospace\">graph relations:\n",
       "</pre>\n"
      ],
      "text/plain": [
       "graph relations:\n"
      ]
     },
     "metadata": {},
     "output_type": "display_data"
    },
    {
     "data": {
      "text/html": [
       "<pre style=\"white-space:pre;overflow-x:auto;line-height:normal;font-family:Menlo,'DejaVu Sans Mono',consolas,'Courier New',monospace\">Device <span style=\"color: #008080; text-decoration-color: #008080; font-weight: bold\">1</span>: \n",
       "pcb_covered in hca_back\n",
       "hca_back next to firealarm_back\n",
       "firealarm_back next to hca_back\n",
       "pcb in firealarm_back\n",
       "\n",
       "</pre>\n"
      ],
      "text/plain": [
       "Device \u001b[1;36m1\u001b[0m: \n",
       "pcb_covered in hca_back\n",
       "hca_back next to firealarm_back\n",
       "firealarm_back next to hca_back\n",
       "pcb in firealarm_back\n",
       "\n"
      ]
     },
     "metadata": {},
     "output_type": "display_data"
    },
    {
     "name": "stderr",
     "output_type": "stream",
     "text": [
      "00000021:  18%|█▊        | 18/100 [00:00<00:01, 42.85it/s]"
     ]
    },
    {
     "data": {
      "text/html": [
       "<pre style=\"white-space:pre;overflow-x:auto;line-height:normal;font-family:Menlo,'DejaVu Sans Mono',consolas,'Courier New',monospace\">json_path <span style=\"color: #800080; text-decoration-color: #800080\">/root/datasets2/reconcycle/2023-05-23_synthetic_dataset/output/labelme/</span><span style=\"color: #ff00ff; text-decoration-color: #ff00ff\">00000021.json</span>\n",
       "</pre>\n"
      ],
      "text/plain": [
       "json_path \u001b[35m/root/datasets2/reconcycle/2023-05-23_synthetic_dataset/output/labelme/\u001b[0m\u001b[95m00000021.json\u001b[0m\n"
      ]
     },
     "metadata": {},
     "output_type": "display_data"
    },
    {
     "data": {
      "text/html": [
       "<pre style=\"white-space:pre;overflow-x:auto;line-height:normal;font-family:Menlo,'DejaVu Sans Mono',consolas,'Courier New',monospace\">colour_img_path <span style=\"color: #800080; text-decoration-color: #800080\">/root/datasets2/reconcycle/2023-05-23_synthetic_dataset/output/images/</span><span style=\"color: #ff00ff; text-decoration-color: #ff00ff\">00000021.jpg</span>\n",
       "</pre>\n"
      ],
      "text/plain": [
       "colour_img_path \u001b[35m/root/datasets2/reconcycle/2023-05-23_synthetic_dataset/output/images/\u001b[0m\u001b[95m00000021.jpg\u001b[0m\n"
      ]
     },
     "metadata": {},
     "output_type": "display_data"
    },
    {
     "data": {
      "text/html": [
       "<pre style=\"white-space:pre;overflow-x:auto;line-height:normal;font-family:Menlo,'DejaVu Sans Mono',consolas,'Courier New',monospace\">graph relations:\n",
       "</pre>\n"
      ],
      "text/plain": [
       "graph relations:\n"
      ]
     },
     "metadata": {},
     "output_type": "display_data"
    },
    {
     "data": {
      "text/html": [
       "<pre style=\"white-space:pre;overflow-x:auto;line-height:normal;font-family:Menlo,'DejaVu Sans Mono',consolas,'Courier New',monospace\">Device <span style=\"color: #008080; text-decoration-color: #008080; font-weight: bold\">1</span>: \n",
       "pcb in hca_back\n",
       "battery in hca_back\n",
       "pcb next to battery\n",
       "battery next to pcb\n",
       "\n",
       "</pre>\n"
      ],
      "text/plain": [
       "Device \u001b[1;36m1\u001b[0m: \n",
       "pcb in hca_back\n",
       "battery in hca_back\n",
       "pcb next to battery\n",
       "battery next to pcb\n",
       "\n"
      ]
     },
     "metadata": {},
     "output_type": "display_data"
    },
    {
     "name": "stderr",
     "output_type": "stream",
     "text": [
      "00000022:  18%|█▊        | 18/100 [00:00<00:01, 42.85it/s]"
     ]
    },
    {
     "data": {
      "text/html": [
       "<pre style=\"white-space:pre;overflow-x:auto;line-height:normal;font-family:Menlo,'DejaVu Sans Mono',consolas,'Courier New',monospace\">json_path <span style=\"color: #800080; text-decoration-color: #800080\">/root/datasets2/reconcycle/2023-05-23_synthetic_dataset/output/labelme/</span><span style=\"color: #ff00ff; text-decoration-color: #ff00ff\">00000022.json</span>\n",
       "</pre>\n"
      ],
      "text/plain": [
       "json_path \u001b[35m/root/datasets2/reconcycle/2023-05-23_synthetic_dataset/output/labelme/\u001b[0m\u001b[95m00000022.json\u001b[0m\n"
      ]
     },
     "metadata": {},
     "output_type": "display_data"
    },
    {
     "data": {
      "text/html": [
       "<pre style=\"white-space:pre;overflow-x:auto;line-height:normal;font-family:Menlo,'DejaVu Sans Mono',consolas,'Courier New',monospace\">colour_img_path <span style=\"color: #800080; text-decoration-color: #800080\">/root/datasets2/reconcycle/2023-05-23_synthetic_dataset/output/images/</span><span style=\"color: #ff00ff; text-decoration-color: #ff00ff\">00000022.jpg</span>\n",
       "</pre>\n"
      ],
      "text/plain": [
       "colour_img_path \u001b[35m/root/datasets2/reconcycle/2023-05-23_synthetic_dataset/output/images/\u001b[0m\u001b[95m00000022.jpg\u001b[0m\n"
      ]
     },
     "metadata": {},
     "output_type": "display_data"
    },
    {
     "data": {
      "text/html": [
       "<pre style=\"white-space:pre;overflow-x:auto;line-height:normal;font-family:Menlo,'DejaVu Sans Mono',consolas,'Courier New',monospace\">graph relations:\n",
       "</pre>\n"
      ],
      "text/plain": [
       "graph relations:\n"
      ]
     },
     "metadata": {},
     "output_type": "display_data"
    },
    {
     "data": {
      "text/html": [
       "<pre style=\"white-space:pre;overflow-x:auto;line-height:normal;font-family:Menlo,'DejaVu Sans Mono',consolas,'Courier New',monospace\">Device <span style=\"color: #008080; text-decoration-color: #008080; font-weight: bold\">1</span>: \n",
       "battery_covered in firealarm_back\n",
       "battery_covered next to firealarm_back\n",
       "firealarm_back next to battery_covered\n",
       "\n",
       "</pre>\n"
      ],
      "text/plain": [
       "Device \u001b[1;36m1\u001b[0m: \n",
       "battery_covered in firealarm_back\n",
       "battery_covered next to firealarm_back\n",
       "firealarm_back next to battery_covered\n",
       "\n"
      ]
     },
     "metadata": {},
     "output_type": "display_data"
    },
    {
     "name": "stderr",
     "output_type": "stream",
     "text": [
      "00000023:  18%|█▊        | 18/100 [00:00<00:01, 42.85it/s]"
     ]
    },
    {
     "data": {
      "text/html": [
       "<pre style=\"white-space:pre;overflow-x:auto;line-height:normal;font-family:Menlo,'DejaVu Sans Mono',consolas,'Courier New',monospace\">json_path <span style=\"color: #800080; text-decoration-color: #800080\">/root/datasets2/reconcycle/2023-05-23_synthetic_dataset/output/labelme/</span><span style=\"color: #ff00ff; text-decoration-color: #ff00ff\">00000023.json</span>\n",
       "</pre>\n"
      ],
      "text/plain": [
       "json_path \u001b[35m/root/datasets2/reconcycle/2023-05-23_synthetic_dataset/output/labelme/\u001b[0m\u001b[95m00000023.json\u001b[0m\n"
      ]
     },
     "metadata": {},
     "output_type": "display_data"
    },
    {
     "data": {
      "text/html": [
       "<pre style=\"white-space:pre;overflow-x:auto;line-height:normal;font-family:Menlo,'DejaVu Sans Mono',consolas,'Courier New',monospace\">colour_img_path <span style=\"color: #800080; text-decoration-color: #800080\">/root/datasets2/reconcycle/2023-05-23_synthetic_dataset/output/images/</span><span style=\"color: #ff00ff; text-decoration-color: #ff00ff\">00000023.jpg</span>\n",
       "</pre>\n"
      ],
      "text/plain": [
       "colour_img_path \u001b[35m/root/datasets2/reconcycle/2023-05-23_synthetic_dataset/output/images/\u001b[0m\u001b[95m00000023.jpg\u001b[0m\n"
      ]
     },
     "metadata": {},
     "output_type": "display_data"
    },
    {
     "data": {
      "text/html": [
       "<pre style=\"white-space:pre;overflow-x:auto;line-height:normal;font-family:Menlo,'DejaVu Sans Mono',consolas,'Courier New',monospace\">graph relations:\n",
       "</pre>\n"
      ],
      "text/plain": [
       "graph relations:\n"
      ]
     },
     "metadata": {},
     "output_type": "display_data"
    },
    {
     "data": {
      "text/html": [
       "<pre style=\"white-space:pre;overflow-x:auto;line-height:normal;font-family:Menlo,'DejaVu Sans Mono',consolas,'Courier New',monospace\">Device <span style=\"color: #008080; text-decoration-color: #008080; font-weight: bold\">1</span>: \n",
       "firealarm_front\n",
       "Device <span style=\"color: #008080; text-decoration-color: #008080; font-weight: bold\">2</span>: \n",
       "firealarm_back\n",
       "</pre>\n"
      ],
      "text/plain": [
       "Device \u001b[1;36m1\u001b[0m: \n",
       "firealarm_front\n",
       "Device \u001b[1;36m2\u001b[0m: \n",
       "firealarm_back\n"
      ]
     },
     "metadata": {},
     "output_type": "display_data"
    },
    {
     "name": "stderr",
     "output_type": "stream",
     "text": [
      "00000024:  23%|██▎       | 23/100 [00:00<00:01, 42.31it/s]"
     ]
    },
    {
     "data": {
      "text/html": [
       "<pre style=\"white-space:pre;overflow-x:auto;line-height:normal;font-family:Menlo,'DejaVu Sans Mono',consolas,'Courier New',monospace\">json_path <span style=\"color: #800080; text-decoration-color: #800080\">/root/datasets2/reconcycle/2023-05-23_synthetic_dataset/output/labelme/</span><span style=\"color: #ff00ff; text-decoration-color: #ff00ff\">00000024.json</span>\n",
       "</pre>\n"
      ],
      "text/plain": [
       "json_path \u001b[35m/root/datasets2/reconcycle/2023-05-23_synthetic_dataset/output/labelme/\u001b[0m\u001b[95m00000024.json\u001b[0m\n"
      ]
     },
     "metadata": {},
     "output_type": "display_data"
    },
    {
     "data": {
      "text/html": [
       "<pre style=\"white-space:pre;overflow-x:auto;line-height:normal;font-family:Menlo,'DejaVu Sans Mono',consolas,'Courier New',monospace\">colour_img_path <span style=\"color: #800080; text-decoration-color: #800080\">/root/datasets2/reconcycle/2023-05-23_synthetic_dataset/output/images/</span><span style=\"color: #ff00ff; text-decoration-color: #ff00ff\">00000024.jpg</span>\n",
       "</pre>\n"
      ],
      "text/plain": [
       "colour_img_path \u001b[35m/root/datasets2/reconcycle/2023-05-23_synthetic_dataset/output/images/\u001b[0m\u001b[95m00000024.jpg\u001b[0m\n"
      ]
     },
     "metadata": {},
     "output_type": "display_data"
    },
    {
     "data": {
      "text/html": [
       "<pre style=\"white-space:pre;overflow-x:auto;line-height:normal;font-family:Menlo,'DejaVu Sans Mono',consolas,'Courier New',monospace\">graph relations:\n",
       "</pre>\n"
      ],
      "text/plain": [
       "graph relations:\n"
      ]
     },
     "metadata": {},
     "output_type": "display_data"
    },
    {
     "data": {
      "text/html": [
       "<pre style=\"white-space:pre;overflow-x:auto;line-height:normal;font-family:Menlo,'DejaVu Sans Mono',consolas,'Courier New',monospace\">Device <span style=\"color: #008080; text-decoration-color: #008080; font-weight: bold\">1</span>: \n",
       "pcb in hca_back\n",
       "\n",
       "</pre>\n"
      ],
      "text/plain": [
       "Device \u001b[1;36m1\u001b[0m: \n",
       "pcb in hca_back\n",
       "\n"
      ]
     },
     "metadata": {},
     "output_type": "display_data"
    },
    {
     "name": "stderr",
     "output_type": "stream",
     "text": [
      "00000025:  23%|██▎       | 23/100 [00:00<00:01, 42.31it/s]"
     ]
    },
    {
     "data": {
      "text/html": [
       "<pre style=\"white-space:pre;overflow-x:auto;line-height:normal;font-family:Menlo,'DejaVu Sans Mono',consolas,'Courier New',monospace\">json_path <span style=\"color: #800080; text-decoration-color: #800080\">/root/datasets2/reconcycle/2023-05-23_synthetic_dataset/output/labelme/</span><span style=\"color: #ff00ff; text-decoration-color: #ff00ff\">00000025.json</span>\n",
       "</pre>\n"
      ],
      "text/plain": [
       "json_path \u001b[35m/root/datasets2/reconcycle/2023-05-23_synthetic_dataset/output/labelme/\u001b[0m\u001b[95m00000025.json\u001b[0m\n"
      ]
     },
     "metadata": {},
     "output_type": "display_data"
    },
    {
     "data": {
      "text/html": [
       "<pre style=\"white-space:pre;overflow-x:auto;line-height:normal;font-family:Menlo,'DejaVu Sans Mono',consolas,'Courier New',monospace\">colour_img_path <span style=\"color: #800080; text-decoration-color: #800080\">/root/datasets2/reconcycle/2023-05-23_synthetic_dataset/output/images/</span><span style=\"color: #ff00ff; text-decoration-color: #ff00ff\">00000025.jpg</span>\n",
       "</pre>\n"
      ],
      "text/plain": [
       "colour_img_path \u001b[35m/root/datasets2/reconcycle/2023-05-23_synthetic_dataset/output/images/\u001b[0m\u001b[95m00000025.jpg\u001b[0m\n"
      ]
     },
     "metadata": {},
     "output_type": "display_data"
    },
    {
     "data": {
      "text/html": [
       "<pre style=\"white-space:pre;overflow-x:auto;line-height:normal;font-family:Menlo,'DejaVu Sans Mono',consolas,'Courier New',monospace\">graph relations:\n",
       "</pre>\n"
      ],
      "text/plain": [
       "graph relations:\n"
      ]
     },
     "metadata": {},
     "output_type": "display_data"
    },
    {
     "data": {
      "text/html": [
       "<pre style=\"white-space:pre;overflow-x:auto;line-height:normal;font-family:Menlo,'DejaVu Sans Mono',consolas,'Courier New',monospace\">Device <span style=\"color: #008080; text-decoration-color: #008080; font-weight: bold\">1</span>: \n",
       "battery_covered in firealarm_back\n",
       "firealarm_back next to hca_back\n",
       "hca_back next to firealarm_back\n",
       "battery_covered next to hca_back\n",
       "hca_back next to battery_covered\n",
       "internals in hca_back\n",
       "pcb in hca_back\n",
       "battery in hca_back\n",
       "internals next to pcb\n",
       "pcb next to internals\n",
       "pcb next to battery\n",
       "battery next to pcb\n",
       "\n",
       "</pre>\n"
      ],
      "text/plain": [
       "Device \u001b[1;36m1\u001b[0m: \n",
       "battery_covered in firealarm_back\n",
       "firealarm_back next to hca_back\n",
       "hca_back next to firealarm_back\n",
       "battery_covered next to hca_back\n",
       "hca_back next to battery_covered\n",
       "internals in hca_back\n",
       "pcb in hca_back\n",
       "battery in hca_back\n",
       "internals next to pcb\n",
       "pcb next to internals\n",
       "pcb next to battery\n",
       "battery next to pcb\n",
       "\n"
      ]
     },
     "metadata": {},
     "output_type": "display_data"
    },
    {
     "name": "stderr",
     "output_type": "stream",
     "text": [
      "00000026:  23%|██▎       | 23/100 [00:00<00:01, 42.31it/s]"
     ]
    },
    {
     "data": {
      "text/html": [
       "<pre style=\"white-space:pre;overflow-x:auto;line-height:normal;font-family:Menlo,'DejaVu Sans Mono',consolas,'Courier New',monospace\">json_path <span style=\"color: #800080; text-decoration-color: #800080\">/root/datasets2/reconcycle/2023-05-23_synthetic_dataset/output/labelme/</span><span style=\"color: #ff00ff; text-decoration-color: #ff00ff\">00000026.json</span>\n",
       "</pre>\n"
      ],
      "text/plain": [
       "json_path \u001b[35m/root/datasets2/reconcycle/2023-05-23_synthetic_dataset/output/labelme/\u001b[0m\u001b[95m00000026.json\u001b[0m\n"
      ]
     },
     "metadata": {},
     "output_type": "display_data"
    },
    {
     "data": {
      "text/html": [
       "<pre style=\"white-space:pre;overflow-x:auto;line-height:normal;font-family:Menlo,'DejaVu Sans Mono',consolas,'Courier New',monospace\">colour_img_path <span style=\"color: #800080; text-decoration-color: #800080\">/root/datasets2/reconcycle/2023-05-23_synthetic_dataset/output/images/</span><span style=\"color: #ff00ff; text-decoration-color: #ff00ff\">00000026.jpg</span>\n",
       "</pre>\n"
      ],
      "text/plain": [
       "colour_img_path \u001b[35m/root/datasets2/reconcycle/2023-05-23_synthetic_dataset/output/images/\u001b[0m\u001b[95m00000026.jpg\u001b[0m\n"
      ]
     },
     "metadata": {},
     "output_type": "display_data"
    },
    {
     "data": {
      "text/html": [
       "<pre style=\"white-space:pre;overflow-x:auto;line-height:normal;font-family:Menlo,'DejaVu Sans Mono',consolas,'Courier New',monospace\">graph relations:\n",
       "</pre>\n"
      ],
      "text/plain": [
       "graph relations:\n"
      ]
     },
     "metadata": {},
     "output_type": "display_data"
    },
    {
     "data": {
      "text/html": [
       "<pre style=\"white-space:pre;overflow-x:auto;line-height:normal;font-family:Menlo,'DejaVu Sans Mono',consolas,'Courier New',monospace\">Device <span style=\"color: #008080; text-decoration-color: #008080; font-weight: bold\">1</span>: \n",
       "pcb in internals\n",
       "battery in internals\n",
       "battery next to internals\n",
       "internals next to battery\n",
       "pcb in internals\n",
       "battery in internals\n",
       "battery in pcb\n",
       "\n",
       "</pre>\n"
      ],
      "text/plain": [
       "Device \u001b[1;36m1\u001b[0m: \n",
       "pcb in internals\n",
       "battery in internals\n",
       "battery next to internals\n",
       "internals next to battery\n",
       "pcb in internals\n",
       "battery in internals\n",
       "battery in pcb\n",
       "\n"
      ]
     },
     "metadata": {},
     "output_type": "display_data"
    },
    {
     "name": "stderr",
     "output_type": "stream",
     "text": [
      "00000027:  23%|██▎       | 23/100 [00:00<00:01, 42.31it/s]"
     ]
    },
    {
     "data": {
      "text/html": [
       "<pre style=\"white-space:pre;overflow-x:auto;line-height:normal;font-family:Menlo,'DejaVu Sans Mono',consolas,'Courier New',monospace\">json_path <span style=\"color: #800080; text-decoration-color: #800080\">/root/datasets2/reconcycle/2023-05-23_synthetic_dataset/output/labelme/</span><span style=\"color: #ff00ff; text-decoration-color: #ff00ff\">00000027.json</span>\n",
       "</pre>\n"
      ],
      "text/plain": [
       "json_path \u001b[35m/root/datasets2/reconcycle/2023-05-23_synthetic_dataset/output/labelme/\u001b[0m\u001b[95m00000027.json\u001b[0m\n"
      ]
     },
     "metadata": {},
     "output_type": "display_data"
    },
    {
     "data": {
      "text/html": [
       "<pre style=\"white-space:pre;overflow-x:auto;line-height:normal;font-family:Menlo,'DejaVu Sans Mono',consolas,'Courier New',monospace\">colour_img_path <span style=\"color: #800080; text-decoration-color: #800080\">/root/datasets2/reconcycle/2023-05-23_synthetic_dataset/output/images/</span><span style=\"color: #ff00ff; text-decoration-color: #ff00ff\">00000027.jpg</span>\n",
       "</pre>\n"
      ],
      "text/plain": [
       "colour_img_path \u001b[35m/root/datasets2/reconcycle/2023-05-23_synthetic_dataset/output/images/\u001b[0m\u001b[95m00000027.jpg\u001b[0m\n"
      ]
     },
     "metadata": {},
     "output_type": "display_data"
    },
    {
     "data": {
      "text/html": [
       "<pre style=\"white-space:pre;overflow-x:auto;line-height:normal;font-family:Menlo,'DejaVu Sans Mono',consolas,'Courier New',monospace\">graph relations:\n",
       "</pre>\n"
      ],
      "text/plain": [
       "graph relations:\n"
      ]
     },
     "metadata": {},
     "output_type": "display_data"
    },
    {
     "data": {
      "text/html": [
       "<pre style=\"white-space:pre;overflow-x:auto;line-height:normal;font-family:Menlo,'DejaVu Sans Mono',consolas,'Courier New',monospace\">Device <span style=\"color: #008080; text-decoration-color: #008080; font-weight: bold\">1</span>: \n",
       "pcb_covered in hca_back\n",
       "\n",
       "</pre>\n"
      ],
      "text/plain": [
       "Device \u001b[1;36m1\u001b[0m: \n",
       "pcb_covered in hca_back\n",
       "\n"
      ]
     },
     "metadata": {},
     "output_type": "display_data"
    },
    {
     "name": "stderr",
     "output_type": "stream",
     "text": [
      "00000028:  23%|██▎       | 23/100 [00:00<00:01, 42.31it/s]"
     ]
    },
    {
     "data": {
      "text/html": [
       "<pre style=\"white-space:pre;overflow-x:auto;line-height:normal;font-family:Menlo,'DejaVu Sans Mono',consolas,'Courier New',monospace\">json_path <span style=\"color: #800080; text-decoration-color: #800080\">/root/datasets2/reconcycle/2023-05-23_synthetic_dataset/output/labelme/</span><span style=\"color: #ff00ff; text-decoration-color: #ff00ff\">00000028.json</span>\n",
       "</pre>\n"
      ],
      "text/plain": [
       "json_path \u001b[35m/root/datasets2/reconcycle/2023-05-23_synthetic_dataset/output/labelme/\u001b[0m\u001b[95m00000028.json\u001b[0m\n"
      ]
     },
     "metadata": {},
     "output_type": "display_data"
    },
    {
     "data": {
      "text/html": [
       "<pre style=\"white-space:pre;overflow-x:auto;line-height:normal;font-family:Menlo,'DejaVu Sans Mono',consolas,'Courier New',monospace\">colour_img_path <span style=\"color: #800080; text-decoration-color: #800080\">/root/datasets2/reconcycle/2023-05-23_synthetic_dataset/output/images/</span><span style=\"color: #ff00ff; text-decoration-color: #ff00ff\">00000028.jpg</span>\n",
       "</pre>\n"
      ],
      "text/plain": [
       "colour_img_path \u001b[35m/root/datasets2/reconcycle/2023-05-23_synthetic_dataset/output/images/\u001b[0m\u001b[95m00000028.jpg\u001b[0m\n"
      ]
     },
     "metadata": {},
     "output_type": "display_data"
    },
    {
     "data": {
      "text/html": [
       "<pre style=\"white-space:pre;overflow-x:auto;line-height:normal;font-family:Menlo,'DejaVu Sans Mono',consolas,'Courier New',monospace\">graph relations:\n",
       "</pre>\n"
      ],
      "text/plain": [
       "graph relations:\n"
      ]
     },
     "metadata": {},
     "output_type": "display_data"
    },
    {
     "data": {
      "text/html": [
       "<pre style=\"white-space:pre;overflow-x:auto;line-height:normal;font-family:Menlo,'DejaVu Sans Mono',consolas,'Courier New',monospace\">Device <span style=\"color: #008080; text-decoration-color: #008080; font-weight: bold\">1</span>: \n",
       "pcb in internals\n",
       "battery in internals\n",
       "battery in pcb\n",
       "\n",
       "</pre>\n"
      ],
      "text/plain": [
       "Device \u001b[1;36m1\u001b[0m: \n",
       "pcb in internals\n",
       "battery in internals\n",
       "battery in pcb\n",
       "\n"
      ]
     },
     "metadata": {},
     "output_type": "display_data"
    },
    {
     "name": "stderr",
     "output_type": "stream",
     "text": [
      "00000029:  28%|██▊       | 28/100 [00:00<00:01, 39.68it/s]"
     ]
    },
    {
     "data": {
      "text/html": [
       "<pre style=\"white-space:pre;overflow-x:auto;line-height:normal;font-family:Menlo,'DejaVu Sans Mono',consolas,'Courier New',monospace\">json_path <span style=\"color: #800080; text-decoration-color: #800080\">/root/datasets2/reconcycle/2023-05-23_synthetic_dataset/output/labelme/</span><span style=\"color: #ff00ff; text-decoration-color: #ff00ff\">00000029.json</span>\n",
       "</pre>\n"
      ],
      "text/plain": [
       "json_path \u001b[35m/root/datasets2/reconcycle/2023-05-23_synthetic_dataset/output/labelme/\u001b[0m\u001b[95m00000029.json\u001b[0m\n"
      ]
     },
     "metadata": {},
     "output_type": "display_data"
    },
    {
     "data": {
      "text/html": [
       "<pre style=\"white-space:pre;overflow-x:auto;line-height:normal;font-family:Menlo,'DejaVu Sans Mono',consolas,'Courier New',monospace\">colour_img_path <span style=\"color: #800080; text-decoration-color: #800080\">/root/datasets2/reconcycle/2023-05-23_synthetic_dataset/output/images/</span><span style=\"color: #ff00ff; text-decoration-color: #ff00ff\">00000029.jpg</span>\n",
       "</pre>\n"
      ],
      "text/plain": [
       "colour_img_path \u001b[35m/root/datasets2/reconcycle/2023-05-23_synthetic_dataset/output/images/\u001b[0m\u001b[95m00000029.jpg\u001b[0m\n"
      ]
     },
     "metadata": {},
     "output_type": "display_data"
    },
    {
     "data": {
      "text/html": [
       "<pre style=\"white-space:pre;overflow-x:auto;line-height:normal;font-family:Menlo,'DejaVu Sans Mono',consolas,'Courier New',monospace\">graph relations:\n",
       "</pre>\n"
      ],
      "text/plain": [
       "graph relations:\n"
      ]
     },
     "metadata": {},
     "output_type": "display_data"
    },
    {
     "data": {
      "text/html": [
       "<pre style=\"white-space:pre;overflow-x:auto;line-height:normal;font-family:Menlo,'DejaVu Sans Mono',consolas,'Courier New',monospace\">Device <span style=\"color: #008080; text-decoration-color: #008080; font-weight: bold\">1</span>: \n",
       "\n",
       "</pre>\n"
      ],
      "text/plain": [
       "Device \u001b[1;36m1\u001b[0m: \n",
       "\n"
      ]
     },
     "metadata": {},
     "output_type": "display_data"
    },
    {
     "name": "stderr",
     "output_type": "stream",
     "text": [
      "00000030:  28%|██▊       | 28/100 [00:00<00:01, 39.68it/s]"
     ]
    },
    {
     "data": {
      "text/html": [
       "<pre style=\"white-space:pre;overflow-x:auto;line-height:normal;font-family:Menlo,'DejaVu Sans Mono',consolas,'Courier New',monospace\">json_path <span style=\"color: #800080; text-decoration-color: #800080\">/root/datasets2/reconcycle/2023-05-23_synthetic_dataset/output/labelme/</span><span style=\"color: #ff00ff; text-decoration-color: #ff00ff\">00000030.json</span>\n",
       "</pre>\n"
      ],
      "text/plain": [
       "json_path \u001b[35m/root/datasets2/reconcycle/2023-05-23_synthetic_dataset/output/labelme/\u001b[0m\u001b[95m00000030.json\u001b[0m\n"
      ]
     },
     "metadata": {},
     "output_type": "display_data"
    },
    {
     "data": {
      "text/html": [
       "<pre style=\"white-space:pre;overflow-x:auto;line-height:normal;font-family:Menlo,'DejaVu Sans Mono',consolas,'Courier New',monospace\">colour_img_path <span style=\"color: #800080; text-decoration-color: #800080\">/root/datasets2/reconcycle/2023-05-23_synthetic_dataset/output/images/</span><span style=\"color: #ff00ff; text-decoration-color: #ff00ff\">00000030.jpg</span>\n",
       "</pre>\n"
      ],
      "text/plain": [
       "colour_img_path \u001b[35m/root/datasets2/reconcycle/2023-05-23_synthetic_dataset/output/images/\u001b[0m\u001b[95m00000030.jpg\u001b[0m\n"
      ]
     },
     "metadata": {},
     "output_type": "display_data"
    },
    {
     "data": {
      "text/html": [
       "<pre style=\"white-space:pre;overflow-x:auto;line-height:normal;font-family:Menlo,'DejaVu Sans Mono',consolas,'Courier New',monospace\">graph relations:\n",
       "</pre>\n"
      ],
      "text/plain": [
       "graph relations:\n"
      ]
     },
     "metadata": {},
     "output_type": "display_data"
    },
    {
     "data": {
      "text/html": [
       "<pre style=\"white-space:pre;overflow-x:auto;line-height:normal;font-family:Menlo,'DejaVu Sans Mono',consolas,'Courier New',monospace\">Device <span style=\"color: #008080; text-decoration-color: #008080; font-weight: bold\">1</span>: \n",
       "pcb\n",
       "</pre>\n"
      ],
      "text/plain": [
       "Device \u001b[1;36m1\u001b[0m: \n",
       "pcb\n"
      ]
     },
     "metadata": {},
     "output_type": "display_data"
    },
    {
     "name": "stderr",
     "output_type": "stream",
     "text": [
      "00000031:  28%|██▊       | 28/100 [00:00<00:01, 39.68it/s]"
     ]
    },
    {
     "data": {
      "text/html": [
       "<pre style=\"white-space:pre;overflow-x:auto;line-height:normal;font-family:Menlo,'DejaVu Sans Mono',consolas,'Courier New',monospace\">json_path <span style=\"color: #800080; text-decoration-color: #800080\">/root/datasets2/reconcycle/2023-05-23_synthetic_dataset/output/labelme/</span><span style=\"color: #ff00ff; text-decoration-color: #ff00ff\">00000031.json</span>\n",
       "</pre>\n"
      ],
      "text/plain": [
       "json_path \u001b[35m/root/datasets2/reconcycle/2023-05-23_synthetic_dataset/output/labelme/\u001b[0m\u001b[95m00000031.json\u001b[0m\n"
      ]
     },
     "metadata": {},
     "output_type": "display_data"
    },
    {
     "data": {
      "text/html": [
       "<pre style=\"white-space:pre;overflow-x:auto;line-height:normal;font-family:Menlo,'DejaVu Sans Mono',consolas,'Courier New',monospace\">colour_img_path <span style=\"color: #800080; text-decoration-color: #800080\">/root/datasets2/reconcycle/2023-05-23_synthetic_dataset/output/images/</span><span style=\"color: #ff00ff; text-decoration-color: #ff00ff\">00000031.jpg</span>\n",
       "</pre>\n"
      ],
      "text/plain": [
       "colour_img_path \u001b[35m/root/datasets2/reconcycle/2023-05-23_synthetic_dataset/output/images/\u001b[0m\u001b[95m00000031.jpg\u001b[0m\n"
      ]
     },
     "metadata": {},
     "output_type": "display_data"
    },
    {
     "data": {
      "text/html": [
       "<pre style=\"white-space:pre;overflow-x:auto;line-height:normal;font-family:Menlo,'DejaVu Sans Mono',consolas,'Courier New',monospace\">graph relations:\n",
       "</pre>\n"
      ],
      "text/plain": [
       "graph relations:\n"
      ]
     },
     "metadata": {},
     "output_type": "display_data"
    },
    {
     "data": {
      "text/html": [
       "<pre style=\"white-space:pre;overflow-x:auto;line-height:normal;font-family:Menlo,'DejaVu Sans Mono',consolas,'Courier New',monospace\">Device <span style=\"color: #008080; text-decoration-color: #008080; font-weight: bold\">1</span>: \n",
       "pcb in internals\n",
       "battery in internals\n",
       "\n",
       "Device <span style=\"color: #008080; text-decoration-color: #008080; font-weight: bold\">2</span>: \n",
       "firealarm_front\n",
       "</pre>\n"
      ],
      "text/plain": [
       "Device \u001b[1;36m1\u001b[0m: \n",
       "pcb in internals\n",
       "battery in internals\n",
       "\n",
       "Device \u001b[1;36m2\u001b[0m: \n",
       "firealarm_front\n"
      ]
     },
     "metadata": {},
     "output_type": "display_data"
    },
    {
     "name": "stderr",
     "output_type": "stream",
     "text": [
      "00000032:  28%|██▊       | 28/100 [00:00<00:01, 39.68it/s]"
     ]
    },
    {
     "data": {
      "text/html": [
       "<pre style=\"white-space:pre;overflow-x:auto;line-height:normal;font-family:Menlo,'DejaVu Sans Mono',consolas,'Courier New',monospace\">json_path <span style=\"color: #800080; text-decoration-color: #800080\">/root/datasets2/reconcycle/2023-05-23_synthetic_dataset/output/labelme/</span><span style=\"color: #ff00ff; text-decoration-color: #ff00ff\">00000032.json</span>\n",
       "</pre>\n"
      ],
      "text/plain": [
       "json_path \u001b[35m/root/datasets2/reconcycle/2023-05-23_synthetic_dataset/output/labelme/\u001b[0m\u001b[95m00000032.json\u001b[0m\n"
      ]
     },
     "metadata": {},
     "output_type": "display_data"
    },
    {
     "data": {
      "text/html": [
       "<pre style=\"white-space:pre;overflow-x:auto;line-height:normal;font-family:Menlo,'DejaVu Sans Mono',consolas,'Courier New',monospace\">colour_img_path <span style=\"color: #800080; text-decoration-color: #800080\">/root/datasets2/reconcycle/2023-05-23_synthetic_dataset/output/images/</span><span style=\"color: #ff00ff; text-decoration-color: #ff00ff\">00000032.jpg</span>\n",
       "</pre>\n"
      ],
      "text/plain": [
       "colour_img_path \u001b[35m/root/datasets2/reconcycle/2023-05-23_synthetic_dataset/output/images/\u001b[0m\u001b[95m00000032.jpg\u001b[0m\n"
      ]
     },
     "metadata": {},
     "output_type": "display_data"
    },
    {
     "data": {
      "text/html": [
       "<pre style=\"white-space:pre;overflow-x:auto;line-height:normal;font-family:Menlo,'DejaVu Sans Mono',consolas,'Courier New',monospace\">graph relations:\n",
       "</pre>\n"
      ],
      "text/plain": [
       "graph relations:\n"
      ]
     },
     "metadata": {},
     "output_type": "display_data"
    },
    {
     "data": {
      "text/html": [
       "<pre style=\"white-space:pre;overflow-x:auto;line-height:normal;font-family:Menlo,'DejaVu Sans Mono',consolas,'Courier New',monospace\">Device <span style=\"color: #008080; text-decoration-color: #008080; font-weight: bold\">1</span>: \n",
       "firealarm_front next to hca_back\n",
       "firealarm_front next to pcb_covered\n",
       "hca_back next to firealarm_front\n",
       "pcb_covered next to firealarm_front\n",
       "plastic_clip in hca_back\n",
       "pcb_covered in hca_back\n",
       "plastic_clip next to pcb_covered\n",
       "pcb_covered next to plastic_clip\n",
       "\n",
       "</pre>\n"
      ],
      "text/plain": [
       "Device \u001b[1;36m1\u001b[0m: \n",
       "firealarm_front next to hca_back\n",
       "firealarm_front next to pcb_covered\n",
       "hca_back next to firealarm_front\n",
       "pcb_covered next to firealarm_front\n",
       "plastic_clip in hca_back\n",
       "pcb_covered in hca_back\n",
       "plastic_clip next to pcb_covered\n",
       "pcb_covered next to plastic_clip\n",
       "\n"
      ]
     },
     "metadata": {},
     "output_type": "display_data"
    },
    {
     "name": "stderr",
     "output_type": "stream",
     "text": [
      "00000033:  28%|██▊       | 28/100 [00:00<00:01, 39.68it/s]"
     ]
    },
    {
     "data": {
      "text/html": [
       "<pre style=\"white-space:pre;overflow-x:auto;line-height:normal;font-family:Menlo,'DejaVu Sans Mono',consolas,'Courier New',monospace\">json_path <span style=\"color: #800080; text-decoration-color: #800080\">/root/datasets2/reconcycle/2023-05-23_synthetic_dataset/output/labelme/</span><span style=\"color: #ff00ff; text-decoration-color: #ff00ff\">00000033.json</span>\n",
       "</pre>\n"
      ],
      "text/plain": [
       "json_path \u001b[35m/root/datasets2/reconcycle/2023-05-23_synthetic_dataset/output/labelme/\u001b[0m\u001b[95m00000033.json\u001b[0m\n"
      ]
     },
     "metadata": {},
     "output_type": "display_data"
    },
    {
     "data": {
      "text/html": [
       "<pre style=\"white-space:pre;overflow-x:auto;line-height:normal;font-family:Menlo,'DejaVu Sans Mono',consolas,'Courier New',monospace\">colour_img_path <span style=\"color: #800080; text-decoration-color: #800080\">/root/datasets2/reconcycle/2023-05-23_synthetic_dataset/output/images/</span><span style=\"color: #ff00ff; text-decoration-color: #ff00ff\">00000033.jpg</span>\n",
       "</pre>\n"
      ],
      "text/plain": [
       "colour_img_path \u001b[35m/root/datasets2/reconcycle/2023-05-23_synthetic_dataset/output/images/\u001b[0m\u001b[95m00000033.jpg\u001b[0m\n"
      ]
     },
     "metadata": {},
     "output_type": "display_data"
    },
    {
     "data": {
      "text/html": [
       "<pre style=\"white-space:pre;overflow-x:auto;line-height:normal;font-family:Menlo,'DejaVu Sans Mono',consolas,'Courier New',monospace\">graph relations:\n",
       "</pre>\n"
      ],
      "text/plain": [
       "graph relations:\n"
      ]
     },
     "metadata": {},
     "output_type": "display_data"
    },
    {
     "data": {
      "text/html": [
       "<pre style=\"white-space:pre;overflow-x:auto;line-height:normal;font-family:Menlo,'DejaVu Sans Mono',consolas,'Courier New',monospace\">Device <span style=\"color: #008080; text-decoration-color: #008080; font-weight: bold\">1</span>: \n",
       "pcb in firealarm_back\n",
       "battery in firealarm_back\n",
       "battery in pcb\n",
       "\n",
       "Device <span style=\"color: #008080; text-decoration-color: #008080; font-weight: bold\">2</span>: \n",
       "battery in internals\n",
       "\n",
       "</pre>\n"
      ],
      "text/plain": [
       "Device \u001b[1;36m1\u001b[0m: \n",
       "pcb in firealarm_back\n",
       "battery in firealarm_back\n",
       "battery in pcb\n",
       "\n",
       "Device \u001b[1;36m2\u001b[0m: \n",
       "battery in internals\n",
       "\n"
      ]
     },
     "metadata": {},
     "output_type": "display_data"
    },
    {
     "name": "stderr",
     "output_type": "stream",
     "text": [
      "00000034:  33%|███▎      | 33/100 [00:00<00:01, 40.70it/s]"
     ]
    },
    {
     "data": {
      "text/html": [
       "<pre style=\"white-space:pre;overflow-x:auto;line-height:normal;font-family:Menlo,'DejaVu Sans Mono',consolas,'Courier New',monospace\">json_path <span style=\"color: #800080; text-decoration-color: #800080\">/root/datasets2/reconcycle/2023-05-23_synthetic_dataset/output/labelme/</span><span style=\"color: #ff00ff; text-decoration-color: #ff00ff\">00000034.json</span>\n",
       "</pre>\n"
      ],
      "text/plain": [
       "json_path \u001b[35m/root/datasets2/reconcycle/2023-05-23_synthetic_dataset/output/labelme/\u001b[0m\u001b[95m00000034.json\u001b[0m\n"
      ]
     },
     "metadata": {},
     "output_type": "display_data"
    },
    {
     "data": {
      "text/html": [
       "<pre style=\"white-space:pre;overflow-x:auto;line-height:normal;font-family:Menlo,'DejaVu Sans Mono',consolas,'Courier New',monospace\">colour_img_path <span style=\"color: #800080; text-decoration-color: #800080\">/root/datasets2/reconcycle/2023-05-23_synthetic_dataset/output/images/</span><span style=\"color: #ff00ff; text-decoration-color: #ff00ff\">00000034.jpg</span>\n",
       "</pre>\n"
      ],
      "text/plain": [
       "colour_img_path \u001b[35m/root/datasets2/reconcycle/2023-05-23_synthetic_dataset/output/images/\u001b[0m\u001b[95m00000034.jpg\u001b[0m\n"
      ]
     },
     "metadata": {},
     "output_type": "display_data"
    },
    {
     "data": {
      "text/html": [
       "<pre style=\"white-space:pre;overflow-x:auto;line-height:normal;font-family:Menlo,'DejaVu Sans Mono',consolas,'Courier New',monospace\">graph relations:\n",
       "</pre>\n"
      ],
      "text/plain": [
       "graph relations:\n"
      ]
     },
     "metadata": {},
     "output_type": "display_data"
    },
    {
     "data": {
      "text/html": [
       "<pre style=\"white-space:pre;overflow-x:auto;line-height:normal;font-family:Menlo,'DejaVu Sans Mono',consolas,'Courier New',monospace\">Device <span style=\"color: #008080; text-decoration-color: #008080; font-weight: bold\">1</span>: \n",
       "firealarm_back next to hca_back\n",
       "firealarm_back next to pcb_covered\n",
       "hca_back next to firealarm_back\n",
       "pcb_covered next to firealarm_back\n",
       "pcb_covered in hca_back\n",
       "\n",
       "</pre>\n"
      ],
      "text/plain": [
       "Device \u001b[1;36m1\u001b[0m: \n",
       "firealarm_back next to hca_back\n",
       "firealarm_back next to pcb_covered\n",
       "hca_back next to firealarm_back\n",
       "pcb_covered next to firealarm_back\n",
       "pcb_covered in hca_back\n",
       "\n"
      ]
     },
     "metadata": {},
     "output_type": "display_data"
    },
    {
     "name": "stderr",
     "output_type": "stream",
     "text": [
      "00000035:  33%|███▎      | 33/100 [00:00<00:01, 40.70it/s]"
     ]
    },
    {
     "data": {
      "text/html": [
       "<pre style=\"white-space:pre;overflow-x:auto;line-height:normal;font-family:Menlo,'DejaVu Sans Mono',consolas,'Courier New',monospace\">json_path <span style=\"color: #800080; text-decoration-color: #800080\">/root/datasets2/reconcycle/2023-05-23_synthetic_dataset/output/labelme/</span><span style=\"color: #ff00ff; text-decoration-color: #ff00ff\">00000035.json</span>\n",
       "</pre>\n"
      ],
      "text/plain": [
       "json_path \u001b[35m/root/datasets2/reconcycle/2023-05-23_synthetic_dataset/output/labelme/\u001b[0m\u001b[95m00000035.json\u001b[0m\n"
      ]
     },
     "metadata": {},
     "output_type": "display_data"
    },
    {
     "data": {
      "text/html": [
       "<pre style=\"white-space:pre;overflow-x:auto;line-height:normal;font-family:Menlo,'DejaVu Sans Mono',consolas,'Courier New',monospace\">colour_img_path <span style=\"color: #800080; text-decoration-color: #800080\">/root/datasets2/reconcycle/2023-05-23_synthetic_dataset/output/images/</span><span style=\"color: #ff00ff; text-decoration-color: #ff00ff\">00000035.jpg</span>\n",
       "</pre>\n"
      ],
      "text/plain": [
       "colour_img_path \u001b[35m/root/datasets2/reconcycle/2023-05-23_synthetic_dataset/output/images/\u001b[0m\u001b[95m00000035.jpg\u001b[0m\n"
      ]
     },
     "metadata": {},
     "output_type": "display_data"
    },
    {
     "data": {
      "text/html": [
       "<pre style=\"white-space:pre;overflow-x:auto;line-height:normal;font-family:Menlo,'DejaVu Sans Mono',consolas,'Courier New',monospace\">graph relations:\n",
       "</pre>\n"
      ],
      "text/plain": [
       "graph relations:\n"
      ]
     },
     "metadata": {},
     "output_type": "display_data"
    },
    {
     "data": {
      "text/html": [
       "<pre style=\"white-space:pre;overflow-x:auto;line-height:normal;font-family:Menlo,'DejaVu Sans Mono',consolas,'Courier New',monospace\">Device <span style=\"color: #008080; text-decoration-color: #008080; font-weight: bold\">1</span>: \n",
       "battery_covered in firealarm_back\n",
       "firealarm_back next to hca_back\n",
       "hca_back next to firealarm_back\n",
       "pcb_covered in hca_back\n",
       "\n",
       "</pre>\n"
      ],
      "text/plain": [
       "Device \u001b[1;36m1\u001b[0m: \n",
       "battery_covered in firealarm_back\n",
       "firealarm_back next to hca_back\n",
       "hca_back next to firealarm_back\n",
       "pcb_covered in hca_back\n",
       "\n"
      ]
     },
     "metadata": {},
     "output_type": "display_data"
    },
    {
     "name": "stderr",
     "output_type": "stream",
     "text": [
      "00000036:  33%|███▎      | 33/100 [00:00<00:01, 40.70it/s]"
     ]
    },
    {
     "data": {
      "text/html": [
       "<pre style=\"white-space:pre;overflow-x:auto;line-height:normal;font-family:Menlo,'DejaVu Sans Mono',consolas,'Courier New',monospace\">json_path <span style=\"color: #800080; text-decoration-color: #800080\">/root/datasets2/reconcycle/2023-05-23_synthetic_dataset/output/labelme/</span><span style=\"color: #ff00ff; text-decoration-color: #ff00ff\">00000036.json</span>\n",
       "</pre>\n"
      ],
      "text/plain": [
       "json_path \u001b[35m/root/datasets2/reconcycle/2023-05-23_synthetic_dataset/output/labelme/\u001b[0m\u001b[95m00000036.json\u001b[0m\n"
      ]
     },
     "metadata": {},
     "output_type": "display_data"
    },
    {
     "data": {
      "text/html": [
       "<pre style=\"white-space:pre;overflow-x:auto;line-height:normal;font-family:Menlo,'DejaVu Sans Mono',consolas,'Courier New',monospace\">colour_img_path <span style=\"color: #800080; text-decoration-color: #800080\">/root/datasets2/reconcycle/2023-05-23_synthetic_dataset/output/images/</span><span style=\"color: #ff00ff; text-decoration-color: #ff00ff\">00000036.jpg</span>\n",
       "</pre>\n"
      ],
      "text/plain": [
       "colour_img_path \u001b[35m/root/datasets2/reconcycle/2023-05-23_synthetic_dataset/output/images/\u001b[0m\u001b[95m00000036.jpg\u001b[0m\n"
      ]
     },
     "metadata": {},
     "output_type": "display_data"
    },
    {
     "data": {
      "text/html": [
       "<pre style=\"white-space:pre;overflow-x:auto;line-height:normal;font-family:Menlo,'DejaVu Sans Mono',consolas,'Courier New',monospace\">graph relations:\n",
       "</pre>\n"
      ],
      "text/plain": [
       "graph relations:\n"
      ]
     },
     "metadata": {},
     "output_type": "display_data"
    },
    {
     "data": {
      "text/html": [
       "<pre style=\"white-space:pre;overflow-x:auto;line-height:normal;font-family:Menlo,'DejaVu Sans Mono',consolas,'Courier New',monospace\">Device <span style=\"color: #008080; text-decoration-color: #008080; font-weight: bold\">1</span>: \n",
       "pcb in hca_back\n",
       "hca_back next to internals\n",
       "internals next to hca_back\n",
       "pcb next to internals\n",
       "internals next to pcb\n",
       "\n",
       "</pre>\n"
      ],
      "text/plain": [
       "Device \u001b[1;36m1\u001b[0m: \n",
       "pcb in hca_back\n",
       "hca_back next to internals\n",
       "internals next to hca_back\n",
       "pcb next to internals\n",
       "internals next to pcb\n",
       "\n"
      ]
     },
     "metadata": {},
     "output_type": "display_data"
    },
    {
     "name": "stderr",
     "output_type": "stream",
     "text": [
      "00000037:  33%|███▎      | 33/100 [00:00<00:01, 40.70it/s]"
     ]
    },
    {
     "data": {
      "text/html": [
       "<pre style=\"white-space:pre;overflow-x:auto;line-height:normal;font-family:Menlo,'DejaVu Sans Mono',consolas,'Courier New',monospace\">json_path <span style=\"color: #800080; text-decoration-color: #800080\">/root/datasets2/reconcycle/2023-05-23_synthetic_dataset/output/labelme/</span><span style=\"color: #ff00ff; text-decoration-color: #ff00ff\">00000037.json</span>\n",
       "</pre>\n"
      ],
      "text/plain": [
       "json_path \u001b[35m/root/datasets2/reconcycle/2023-05-23_synthetic_dataset/output/labelme/\u001b[0m\u001b[95m00000037.json\u001b[0m\n"
      ]
     },
     "metadata": {},
     "output_type": "display_data"
    },
    {
     "data": {
      "text/html": [
       "<pre style=\"white-space:pre;overflow-x:auto;line-height:normal;font-family:Menlo,'DejaVu Sans Mono',consolas,'Courier New',monospace\">colour_img_path <span style=\"color: #800080; text-decoration-color: #800080\">/root/datasets2/reconcycle/2023-05-23_synthetic_dataset/output/images/</span><span style=\"color: #ff00ff; text-decoration-color: #ff00ff\">00000037.jpg</span>\n",
       "</pre>\n"
      ],
      "text/plain": [
       "colour_img_path \u001b[35m/root/datasets2/reconcycle/2023-05-23_synthetic_dataset/output/images/\u001b[0m\u001b[95m00000037.jpg\u001b[0m\n"
      ]
     },
     "metadata": {},
     "output_type": "display_data"
    },
    {
     "data": {
      "text/html": [
       "<pre style=\"white-space:pre;overflow-x:auto;line-height:normal;font-family:Menlo,'DejaVu Sans Mono',consolas,'Courier New',monospace\">graph relations:\n",
       "</pre>\n"
      ],
      "text/plain": [
       "graph relations:\n"
      ]
     },
     "metadata": {},
     "output_type": "display_data"
    },
    {
     "data": {
      "text/html": [
       "<pre style=\"white-space:pre;overflow-x:auto;line-height:normal;font-family:Menlo,'DejaVu Sans Mono',consolas,'Courier New',monospace\">Device <span style=\"color: #008080; text-decoration-color: #008080; font-weight: bold\">1</span>: \n",
       "firealarm_back next to firealarm_front\n",
       "firealarm_front next to firealarm_back\n",
       "\n",
       "</pre>\n"
      ],
      "text/plain": [
       "Device \u001b[1;36m1\u001b[0m: \n",
       "firealarm_back next to firealarm_front\n",
       "firealarm_front next to firealarm_back\n",
       "\n"
      ]
     },
     "metadata": {},
     "output_type": "display_data"
    },
    {
     "name": "stderr",
     "output_type": "stream",
     "text": [
      "00000038:  33%|███▎      | 33/100 [00:00<00:01, 40.70it/s]"
     ]
    },
    {
     "data": {
      "text/html": [
       "<pre style=\"white-space:pre;overflow-x:auto;line-height:normal;font-family:Menlo,'DejaVu Sans Mono',consolas,'Courier New',monospace\">json_path <span style=\"color: #800080; text-decoration-color: #800080\">/root/datasets2/reconcycle/2023-05-23_synthetic_dataset/output/labelme/</span><span style=\"color: #ff00ff; text-decoration-color: #ff00ff\">00000038.json</span>\n",
       "</pre>\n"
      ],
      "text/plain": [
       "json_path \u001b[35m/root/datasets2/reconcycle/2023-05-23_synthetic_dataset/output/labelme/\u001b[0m\u001b[95m00000038.json\u001b[0m\n"
      ]
     },
     "metadata": {},
     "output_type": "display_data"
    },
    {
     "data": {
      "text/html": [
       "<pre style=\"white-space:pre;overflow-x:auto;line-height:normal;font-family:Menlo,'DejaVu Sans Mono',consolas,'Courier New',monospace\">colour_img_path <span style=\"color: #800080; text-decoration-color: #800080\">/root/datasets2/reconcycle/2023-05-23_synthetic_dataset/output/images/</span><span style=\"color: #ff00ff; text-decoration-color: #ff00ff\">00000038.jpg</span>\n",
       "</pre>\n"
      ],
      "text/plain": [
       "colour_img_path \u001b[35m/root/datasets2/reconcycle/2023-05-23_synthetic_dataset/output/images/\u001b[0m\u001b[95m00000038.jpg\u001b[0m\n"
      ]
     },
     "metadata": {},
     "output_type": "display_data"
    },
    {
     "data": {
      "text/html": [
       "<pre style=\"white-space:pre;overflow-x:auto;line-height:normal;font-family:Menlo,'DejaVu Sans Mono',consolas,'Courier New',monospace\">graph relations:\n",
       "</pre>\n"
      ],
      "text/plain": [
       "graph relations:\n"
      ]
     },
     "metadata": {},
     "output_type": "display_data"
    },
    {
     "data": {
      "text/html": [
       "<pre style=\"white-space:pre;overflow-x:auto;line-height:normal;font-family:Menlo,'DejaVu Sans Mono',consolas,'Courier New',monospace\">Device <span style=\"color: #008080; text-decoration-color: #008080; font-weight: bold\">1</span>: \n",
       "pcb_covered in hca_back\n",
       "\n",
       "Device <span style=\"color: #008080; text-decoration-color: #008080; font-weight: bold\">2</span>: \n",
       "battery_covered in firealarm_back\n",
       "\n",
       "</pre>\n"
      ],
      "text/plain": [
       "Device \u001b[1;36m1\u001b[0m: \n",
       "pcb_covered in hca_back\n",
       "\n",
       "Device \u001b[1;36m2\u001b[0m: \n",
       "battery_covered in firealarm_back\n",
       "\n"
      ]
     },
     "metadata": {},
     "output_type": "display_data"
    },
    {
     "name": "stderr",
     "output_type": "stream",
     "text": [
      "00000039:  38%|███▊      | 38/100 [00:00<00:01, 42.76it/s]"
     ]
    },
    {
     "data": {
      "text/html": [
       "<pre style=\"white-space:pre;overflow-x:auto;line-height:normal;font-family:Menlo,'DejaVu Sans Mono',consolas,'Courier New',monospace\">json_path <span style=\"color: #800080; text-decoration-color: #800080\">/root/datasets2/reconcycle/2023-05-23_synthetic_dataset/output/labelme/</span><span style=\"color: #ff00ff; text-decoration-color: #ff00ff\">00000039.json</span>\n",
       "</pre>\n"
      ],
      "text/plain": [
       "json_path \u001b[35m/root/datasets2/reconcycle/2023-05-23_synthetic_dataset/output/labelme/\u001b[0m\u001b[95m00000039.json\u001b[0m\n"
      ]
     },
     "metadata": {},
     "output_type": "display_data"
    },
    {
     "data": {
      "text/html": [
       "<pre style=\"white-space:pre;overflow-x:auto;line-height:normal;font-family:Menlo,'DejaVu Sans Mono',consolas,'Courier New',monospace\">colour_img_path <span style=\"color: #800080; text-decoration-color: #800080\">/root/datasets2/reconcycle/2023-05-23_synthetic_dataset/output/images/</span><span style=\"color: #ff00ff; text-decoration-color: #ff00ff\">00000039.jpg</span>\n",
       "</pre>\n"
      ],
      "text/plain": [
       "colour_img_path \u001b[35m/root/datasets2/reconcycle/2023-05-23_synthetic_dataset/output/images/\u001b[0m\u001b[95m00000039.jpg\u001b[0m\n"
      ]
     },
     "metadata": {},
     "output_type": "display_data"
    },
    {
     "data": {
      "text/html": [
       "<pre style=\"white-space:pre;overflow-x:auto;line-height:normal;font-family:Menlo,'DejaVu Sans Mono',consolas,'Courier New',monospace\">graph relations:\n",
       "</pre>\n"
      ],
      "text/plain": [
       "graph relations:\n"
      ]
     },
     "metadata": {},
     "output_type": "display_data"
    },
    {
     "data": {
      "text/html": [
       "<pre style=\"white-space:pre;overflow-x:auto;line-height:normal;font-family:Menlo,'DejaVu Sans Mono',consolas,'Courier New',monospace\">Device <span style=\"color: #008080; text-decoration-color: #008080; font-weight: bold\">1</span>: \n",
       "pcb in hca_back\n",
       "\n",
       "</pre>\n"
      ],
      "text/plain": [
       "Device \u001b[1;36m1\u001b[0m: \n",
       "pcb in hca_back\n",
       "\n"
      ]
     },
     "metadata": {},
     "output_type": "display_data"
    },
    {
     "name": "stderr",
     "output_type": "stream",
     "text": [
      "00000040:  38%|███▊      | 38/100 [00:00<00:01, 42.76it/s]"
     ]
    },
    {
     "data": {
      "text/html": [
       "<pre style=\"white-space:pre;overflow-x:auto;line-height:normal;font-family:Menlo,'DejaVu Sans Mono',consolas,'Courier New',monospace\">json_path <span style=\"color: #800080; text-decoration-color: #800080\">/root/datasets2/reconcycle/2023-05-23_synthetic_dataset/output/labelme/</span><span style=\"color: #ff00ff; text-decoration-color: #ff00ff\">00000040.json</span>\n",
       "</pre>\n"
      ],
      "text/plain": [
       "json_path \u001b[35m/root/datasets2/reconcycle/2023-05-23_synthetic_dataset/output/labelme/\u001b[0m\u001b[95m00000040.json\u001b[0m\n"
      ]
     },
     "metadata": {},
     "output_type": "display_data"
    },
    {
     "data": {
      "text/html": [
       "<pre style=\"white-space:pre;overflow-x:auto;line-height:normal;font-family:Menlo,'DejaVu Sans Mono',consolas,'Courier New',monospace\">colour_img_path <span style=\"color: #800080; text-decoration-color: #800080\">/root/datasets2/reconcycle/2023-05-23_synthetic_dataset/output/images/</span><span style=\"color: #ff00ff; text-decoration-color: #ff00ff\">00000040.jpg</span>\n",
       "</pre>\n"
      ],
      "text/plain": [
       "colour_img_path \u001b[35m/root/datasets2/reconcycle/2023-05-23_synthetic_dataset/output/images/\u001b[0m\u001b[95m00000040.jpg\u001b[0m\n"
      ]
     },
     "metadata": {},
     "output_type": "display_data"
    },
    {
     "data": {
      "text/html": [
       "<pre style=\"white-space:pre;overflow-x:auto;line-height:normal;font-family:Menlo,'DejaVu Sans Mono',consolas,'Courier New',monospace\">graph relations:\n",
       "</pre>\n"
      ],
      "text/plain": [
       "graph relations:\n"
      ]
     },
     "metadata": {},
     "output_type": "display_data"
    },
    {
     "data": {
      "text/html": [
       "<pre style=\"white-space:pre;overflow-x:auto;line-height:normal;font-family:Menlo,'DejaVu Sans Mono',consolas,'Courier New',monospace\">Device <span style=\"color: #008080; text-decoration-color: #008080; font-weight: bold\">1</span>: \n",
       "pcb in hca_back\n",
       "battery in hca_back\n",
       "battery in pcb\n",
       "\n",
       "</pre>\n"
      ],
      "text/plain": [
       "Device \u001b[1;36m1\u001b[0m: \n",
       "pcb in hca_back\n",
       "battery in hca_back\n",
       "battery in pcb\n",
       "\n"
      ]
     },
     "metadata": {},
     "output_type": "display_data"
    },
    {
     "name": "stderr",
     "output_type": "stream",
     "text": [
      "00000041:  38%|███▊      | 38/100 [00:00<00:01, 42.76it/s]"
     ]
    },
    {
     "data": {
      "text/html": [
       "<pre style=\"white-space:pre;overflow-x:auto;line-height:normal;font-family:Menlo,'DejaVu Sans Mono',consolas,'Courier New',monospace\">json_path <span style=\"color: #800080; text-decoration-color: #800080\">/root/datasets2/reconcycle/2023-05-23_synthetic_dataset/output/labelme/</span><span style=\"color: #ff00ff; text-decoration-color: #ff00ff\">00000041.json</span>\n",
       "</pre>\n"
      ],
      "text/plain": [
       "json_path \u001b[35m/root/datasets2/reconcycle/2023-05-23_synthetic_dataset/output/labelme/\u001b[0m\u001b[95m00000041.json\u001b[0m\n"
      ]
     },
     "metadata": {},
     "output_type": "display_data"
    },
    {
     "data": {
      "text/html": [
       "<pre style=\"white-space:pre;overflow-x:auto;line-height:normal;font-family:Menlo,'DejaVu Sans Mono',consolas,'Courier New',monospace\">colour_img_path <span style=\"color: #800080; text-decoration-color: #800080\">/root/datasets2/reconcycle/2023-05-23_synthetic_dataset/output/images/</span><span style=\"color: #ff00ff; text-decoration-color: #ff00ff\">00000041.jpg</span>\n",
       "</pre>\n"
      ],
      "text/plain": [
       "colour_img_path \u001b[35m/root/datasets2/reconcycle/2023-05-23_synthetic_dataset/output/images/\u001b[0m\u001b[95m00000041.jpg\u001b[0m\n"
      ]
     },
     "metadata": {},
     "output_type": "display_data"
    },
    {
     "data": {
      "text/html": [
       "<pre style=\"white-space:pre;overflow-x:auto;line-height:normal;font-family:Menlo,'DejaVu Sans Mono',consolas,'Courier New',monospace\">graph relations:\n",
       "</pre>\n"
      ],
      "text/plain": [
       "graph relations:\n"
      ]
     },
     "metadata": {},
     "output_type": "display_data"
    },
    {
     "data": {
      "text/html": [
       "<pre style=\"white-space:pre;overflow-x:auto;line-height:normal;font-family:Menlo,'DejaVu Sans Mono',consolas,'Courier New',monospace\">Device <span style=\"color: #008080; text-decoration-color: #008080; font-weight: bold\">1</span>: \n",
       "pcb in hca_back\n",
       "battery in hca_back\n",
       "pcb next to battery\n",
       "battery next to pcb\n",
       "\n",
       "</pre>\n"
      ],
      "text/plain": [
       "Device \u001b[1;36m1\u001b[0m: \n",
       "pcb in hca_back\n",
       "battery in hca_back\n",
       "pcb next to battery\n",
       "battery next to pcb\n",
       "\n"
      ]
     },
     "metadata": {},
     "output_type": "display_data"
    },
    {
     "name": "stderr",
     "output_type": "stream",
     "text": [
      "00000042:  38%|███▊      | 38/100 [00:00<00:01, 42.76it/s]"
     ]
    },
    {
     "data": {
      "text/html": [
       "<pre style=\"white-space:pre;overflow-x:auto;line-height:normal;font-family:Menlo,'DejaVu Sans Mono',consolas,'Courier New',monospace\">json_path <span style=\"color: #800080; text-decoration-color: #800080\">/root/datasets2/reconcycle/2023-05-23_synthetic_dataset/output/labelme/</span><span style=\"color: #ff00ff; text-decoration-color: #ff00ff\">00000042.json</span>\n",
       "</pre>\n"
      ],
      "text/plain": [
       "json_path \u001b[35m/root/datasets2/reconcycle/2023-05-23_synthetic_dataset/output/labelme/\u001b[0m\u001b[95m00000042.json\u001b[0m\n"
      ]
     },
     "metadata": {},
     "output_type": "display_data"
    },
    {
     "data": {
      "text/html": [
       "<pre style=\"white-space:pre;overflow-x:auto;line-height:normal;font-family:Menlo,'DejaVu Sans Mono',consolas,'Courier New',monospace\">colour_img_path <span style=\"color: #800080; text-decoration-color: #800080\">/root/datasets2/reconcycle/2023-05-23_synthetic_dataset/output/images/</span><span style=\"color: #ff00ff; text-decoration-color: #ff00ff\">00000042.jpg</span>\n",
       "</pre>\n"
      ],
      "text/plain": [
       "colour_img_path \u001b[35m/root/datasets2/reconcycle/2023-05-23_synthetic_dataset/output/images/\u001b[0m\u001b[95m00000042.jpg\u001b[0m\n"
      ]
     },
     "metadata": {},
     "output_type": "display_data"
    },
    {
     "data": {
      "text/html": [
       "<pre style=\"white-space:pre;overflow-x:auto;line-height:normal;font-family:Menlo,'DejaVu Sans Mono',consolas,'Courier New',monospace\">graph relations:\n",
       "</pre>\n"
      ],
      "text/plain": [
       "graph relations:\n"
      ]
     },
     "metadata": {},
     "output_type": "display_data"
    },
    {
     "data": {
      "text/html": [
       "<pre style=\"white-space:pre;overflow-x:auto;line-height:normal;font-family:Menlo,'DejaVu Sans Mono',consolas,'Courier New',monospace\">Device <span style=\"color: #008080; text-decoration-color: #008080; font-weight: bold\">1</span>: \n",
       "battery_covered in firealarm_back\n",
       "\n",
       "</pre>\n"
      ],
      "text/plain": [
       "Device \u001b[1;36m1\u001b[0m: \n",
       "battery_covered in firealarm_back\n",
       "\n"
      ]
     },
     "metadata": {},
     "output_type": "display_data"
    },
    {
     "name": "stderr",
     "output_type": "stream",
     "text": [
      "00000043:  38%|███▊      | 38/100 [00:01<00:01, 42.76it/s]"
     ]
    },
    {
     "data": {
      "text/html": [
       "<pre style=\"white-space:pre;overflow-x:auto;line-height:normal;font-family:Menlo,'DejaVu Sans Mono',consolas,'Courier New',monospace\">json_path <span style=\"color: #800080; text-decoration-color: #800080\">/root/datasets2/reconcycle/2023-05-23_synthetic_dataset/output/labelme/</span><span style=\"color: #ff00ff; text-decoration-color: #ff00ff\">00000043.json</span>\n",
       "</pre>\n"
      ],
      "text/plain": [
       "json_path \u001b[35m/root/datasets2/reconcycle/2023-05-23_synthetic_dataset/output/labelme/\u001b[0m\u001b[95m00000043.json\u001b[0m\n"
      ]
     },
     "metadata": {},
     "output_type": "display_data"
    },
    {
     "data": {
      "text/html": [
       "<pre style=\"white-space:pre;overflow-x:auto;line-height:normal;font-family:Menlo,'DejaVu Sans Mono',consolas,'Courier New',monospace\">colour_img_path <span style=\"color: #800080; text-decoration-color: #800080\">/root/datasets2/reconcycle/2023-05-23_synthetic_dataset/output/images/</span><span style=\"color: #ff00ff; text-decoration-color: #ff00ff\">00000043.jpg</span>\n",
       "</pre>\n"
      ],
      "text/plain": [
       "colour_img_path \u001b[35m/root/datasets2/reconcycle/2023-05-23_synthetic_dataset/output/images/\u001b[0m\u001b[95m00000043.jpg\u001b[0m\n"
      ]
     },
     "metadata": {},
     "output_type": "display_data"
    },
    {
     "data": {
      "text/html": [
       "<pre style=\"white-space:pre;overflow-x:auto;line-height:normal;font-family:Menlo,'DejaVu Sans Mono',consolas,'Courier New',monospace\">graph relations:\n",
       "</pre>\n"
      ],
      "text/plain": [
       "graph relations:\n"
      ]
     },
     "metadata": {},
     "output_type": "display_data"
    },
    {
     "data": {
      "text/html": [
       "<pre style=\"white-space:pre;overflow-x:auto;line-height:normal;font-family:Menlo,'DejaVu Sans Mono',consolas,'Courier New',monospace\">Device <span style=\"color: #008080; text-decoration-color: #008080; font-weight: bold\">1</span>: \n",
       "battery_covered in firealarm_back\n",
       "\n",
       "</pre>\n"
      ],
      "text/plain": [
       "Device \u001b[1;36m1\u001b[0m: \n",
       "battery_covered in firealarm_back\n",
       "\n"
      ]
     },
     "metadata": {},
     "output_type": "display_data"
    },
    {
     "name": "stderr",
     "output_type": "stream",
     "text": [
      "00000044:  43%|████▎     | 43/100 [00:01<00:01, 42.53it/s]"
     ]
    },
    {
     "data": {
      "text/html": [
       "<pre style=\"white-space:pre;overflow-x:auto;line-height:normal;font-family:Menlo,'DejaVu Sans Mono',consolas,'Courier New',monospace\">json_path <span style=\"color: #800080; text-decoration-color: #800080\">/root/datasets2/reconcycle/2023-05-23_synthetic_dataset/output/labelme/</span><span style=\"color: #ff00ff; text-decoration-color: #ff00ff\">00000044.json</span>\n",
       "</pre>\n"
      ],
      "text/plain": [
       "json_path \u001b[35m/root/datasets2/reconcycle/2023-05-23_synthetic_dataset/output/labelme/\u001b[0m\u001b[95m00000044.json\u001b[0m\n"
      ]
     },
     "metadata": {},
     "output_type": "display_data"
    },
    {
     "data": {
      "text/html": [
       "<pre style=\"white-space:pre;overflow-x:auto;line-height:normal;font-family:Menlo,'DejaVu Sans Mono',consolas,'Courier New',monospace\">colour_img_path <span style=\"color: #800080; text-decoration-color: #800080\">/root/datasets2/reconcycle/2023-05-23_synthetic_dataset/output/images/</span><span style=\"color: #ff00ff; text-decoration-color: #ff00ff\">00000044.jpg</span>\n",
       "</pre>\n"
      ],
      "text/plain": [
       "colour_img_path \u001b[35m/root/datasets2/reconcycle/2023-05-23_synthetic_dataset/output/images/\u001b[0m\u001b[95m00000044.jpg\u001b[0m\n"
      ]
     },
     "metadata": {},
     "output_type": "display_data"
    },
    {
     "data": {
      "text/html": [
       "<pre style=\"white-space:pre;overflow-x:auto;line-height:normal;font-family:Menlo,'DejaVu Sans Mono',consolas,'Courier New',monospace\">graph relations:\n",
       "</pre>\n"
      ],
      "text/plain": [
       "graph relations:\n"
      ]
     },
     "metadata": {},
     "output_type": "display_data"
    },
    {
     "data": {
      "text/html": [
       "<pre style=\"white-space:pre;overflow-x:auto;line-height:normal;font-family:Menlo,'DejaVu Sans Mono',consolas,'Courier New',monospace\">Device <span style=\"color: #008080; text-decoration-color: #008080; font-weight: bold\">1</span>: \n",
       "pcb in internals\n",
       "battery in internals\n",
       "pcb next to battery\n",
       "battery next to pcb\n",
       "\n",
       "</pre>\n"
      ],
      "text/plain": [
       "Device \u001b[1;36m1\u001b[0m: \n",
       "pcb in internals\n",
       "battery in internals\n",
       "pcb next to battery\n",
       "battery next to pcb\n",
       "\n"
      ]
     },
     "metadata": {},
     "output_type": "display_data"
    },
    {
     "name": "stderr",
     "output_type": "stream",
     "text": [
      "00000045:  43%|████▎     | 43/100 [00:01<00:01, 42.53it/s]"
     ]
    },
    {
     "data": {
      "text/html": [
       "<pre style=\"white-space:pre;overflow-x:auto;line-height:normal;font-family:Menlo,'DejaVu Sans Mono',consolas,'Courier New',monospace\">json_path <span style=\"color: #800080; text-decoration-color: #800080\">/root/datasets2/reconcycle/2023-05-23_synthetic_dataset/output/labelme/</span><span style=\"color: #ff00ff; text-decoration-color: #ff00ff\">00000045.json</span>\n",
       "</pre>\n"
      ],
      "text/plain": [
       "json_path \u001b[35m/root/datasets2/reconcycle/2023-05-23_synthetic_dataset/output/labelme/\u001b[0m\u001b[95m00000045.json\u001b[0m\n"
      ]
     },
     "metadata": {},
     "output_type": "display_data"
    },
    {
     "data": {
      "text/html": [
       "<pre style=\"white-space:pre;overflow-x:auto;line-height:normal;font-family:Menlo,'DejaVu Sans Mono',consolas,'Courier New',monospace\">colour_img_path <span style=\"color: #800080; text-decoration-color: #800080\">/root/datasets2/reconcycle/2023-05-23_synthetic_dataset/output/images/</span><span style=\"color: #ff00ff; text-decoration-color: #ff00ff\">00000045.jpg</span>\n",
       "</pre>\n"
      ],
      "text/plain": [
       "colour_img_path \u001b[35m/root/datasets2/reconcycle/2023-05-23_synthetic_dataset/output/images/\u001b[0m\u001b[95m00000045.jpg\u001b[0m\n"
      ]
     },
     "metadata": {},
     "output_type": "display_data"
    },
    {
     "data": {
      "text/html": [
       "<pre style=\"white-space:pre;overflow-x:auto;line-height:normal;font-family:Menlo,'DejaVu Sans Mono',consolas,'Courier New',monospace\">graph relations:\n",
       "</pre>\n"
      ],
      "text/plain": [
       "graph relations:\n"
      ]
     },
     "metadata": {},
     "output_type": "display_data"
    },
    {
     "data": {
      "text/html": [
       "<pre style=\"white-space:pre;overflow-x:auto;line-height:normal;font-family:Menlo,'DejaVu Sans Mono',consolas,'Courier New',monospace\">Device <span style=\"color: #008080; text-decoration-color: #008080; font-weight: bold\">1</span>: \n",
       "internals\n",
       "</pre>\n"
      ],
      "text/plain": [
       "Device \u001b[1;36m1\u001b[0m: \n",
       "internals\n"
      ]
     },
     "metadata": {},
     "output_type": "display_data"
    },
    {
     "name": "stderr",
     "output_type": "stream",
     "text": [
      "00000046:  43%|████▎     | 43/100 [00:01<00:01, 42.53it/s]"
     ]
    },
    {
     "data": {
      "text/html": [
       "<pre style=\"white-space:pre;overflow-x:auto;line-height:normal;font-family:Menlo,'DejaVu Sans Mono',consolas,'Courier New',monospace\">json_path <span style=\"color: #800080; text-decoration-color: #800080\">/root/datasets2/reconcycle/2023-05-23_synthetic_dataset/output/labelme/</span><span style=\"color: #ff00ff; text-decoration-color: #ff00ff\">00000046.json</span>\n",
       "</pre>\n"
      ],
      "text/plain": [
       "json_path \u001b[35m/root/datasets2/reconcycle/2023-05-23_synthetic_dataset/output/labelme/\u001b[0m\u001b[95m00000046.json\u001b[0m\n"
      ]
     },
     "metadata": {},
     "output_type": "display_data"
    },
    {
     "data": {
      "text/html": [
       "<pre style=\"white-space:pre;overflow-x:auto;line-height:normal;font-family:Menlo,'DejaVu Sans Mono',consolas,'Courier New',monospace\">colour_img_path <span style=\"color: #800080; text-decoration-color: #800080\">/root/datasets2/reconcycle/2023-05-23_synthetic_dataset/output/images/</span><span style=\"color: #ff00ff; text-decoration-color: #ff00ff\">00000046.jpg</span>\n",
       "</pre>\n"
      ],
      "text/plain": [
       "colour_img_path \u001b[35m/root/datasets2/reconcycle/2023-05-23_synthetic_dataset/output/images/\u001b[0m\u001b[95m00000046.jpg\u001b[0m\n"
      ]
     },
     "metadata": {},
     "output_type": "display_data"
    },
    {
     "data": {
      "text/html": [
       "<pre style=\"white-space:pre;overflow-x:auto;line-height:normal;font-family:Menlo,'DejaVu Sans Mono',consolas,'Courier New',monospace\">graph relations:\n",
       "</pre>\n"
      ],
      "text/plain": [
       "graph relations:\n"
      ]
     },
     "metadata": {},
     "output_type": "display_data"
    },
    {
     "data": {
      "text/html": [
       "<pre style=\"white-space:pre;overflow-x:auto;line-height:normal;font-family:Menlo,'DejaVu Sans Mono',consolas,'Courier New',monospace\">Device <span style=\"color: #008080; text-decoration-color: #008080; font-weight: bold\">1</span>: \n",
       "firealarm_front next to firealarm_back\n",
       "firealarm_back next to firealarm_front\n",
       "pcb in firealarm_back\n",
       "battery in firealarm_back\n",
       "battery in firealarm_back\n",
       "battery in pcb\n",
       "battery in pcb\n",
       "\n",
       "</pre>\n"
      ],
      "text/plain": [
       "Device \u001b[1;36m1\u001b[0m: \n",
       "firealarm_front next to firealarm_back\n",
       "firealarm_back next to firealarm_front\n",
       "pcb in firealarm_back\n",
       "battery in firealarm_back\n",
       "battery in firealarm_back\n",
       "battery in pcb\n",
       "battery in pcb\n",
       "\n"
      ]
     },
     "metadata": {},
     "output_type": "display_data"
    },
    {
     "name": "stderr",
     "output_type": "stream",
     "text": [
      "00000047:  43%|████▎     | 43/100 [00:01<00:01, 42.53it/s]"
     ]
    },
    {
     "data": {
      "text/html": [
       "<pre style=\"white-space:pre;overflow-x:auto;line-height:normal;font-family:Menlo,'DejaVu Sans Mono',consolas,'Courier New',monospace\">json_path <span style=\"color: #800080; text-decoration-color: #800080\">/root/datasets2/reconcycle/2023-05-23_synthetic_dataset/output/labelme/</span><span style=\"color: #ff00ff; text-decoration-color: #ff00ff\">00000047.json</span>\n",
       "</pre>\n"
      ],
      "text/plain": [
       "json_path \u001b[35m/root/datasets2/reconcycle/2023-05-23_synthetic_dataset/output/labelme/\u001b[0m\u001b[95m00000047.json\u001b[0m\n"
      ]
     },
     "metadata": {},
     "output_type": "display_data"
    },
    {
     "data": {
      "text/html": [
       "<pre style=\"white-space:pre;overflow-x:auto;line-height:normal;font-family:Menlo,'DejaVu Sans Mono',consolas,'Courier New',monospace\">colour_img_path <span style=\"color: #800080; text-decoration-color: #800080\">/root/datasets2/reconcycle/2023-05-23_synthetic_dataset/output/images/</span><span style=\"color: #ff00ff; text-decoration-color: #ff00ff\">00000047.jpg</span>\n",
       "</pre>\n"
      ],
      "text/plain": [
       "colour_img_path \u001b[35m/root/datasets2/reconcycle/2023-05-23_synthetic_dataset/output/images/\u001b[0m\u001b[95m00000047.jpg\u001b[0m\n"
      ]
     },
     "metadata": {},
     "output_type": "display_data"
    },
    {
     "data": {
      "text/html": [
       "<pre style=\"white-space:pre;overflow-x:auto;line-height:normal;font-family:Menlo,'DejaVu Sans Mono',consolas,'Courier New',monospace\">graph relations:\n",
       "</pre>\n"
      ],
      "text/plain": [
       "graph relations:\n"
      ]
     },
     "metadata": {},
     "output_type": "display_data"
    },
    {
     "data": {
      "text/html": [
       "<pre style=\"white-space:pre;overflow-x:auto;line-height:normal;font-family:Menlo,'DejaVu Sans Mono',consolas,'Courier New',monospace\">Device <span style=\"color: #008080; text-decoration-color: #008080; font-weight: bold\">1</span>: \n",
       "internals in hca_back\n",
       "\n",
       "</pre>\n"
      ],
      "text/plain": [
       "Device \u001b[1;36m1\u001b[0m: \n",
       "internals in hca_back\n",
       "\n"
      ]
     },
     "metadata": {},
     "output_type": "display_data"
    },
    {
     "name": "stderr",
     "output_type": "stream",
     "text": [
      "00000048:  43%|████▎     | 43/100 [00:01<00:01, 42.53it/s]"
     ]
    },
    {
     "data": {
      "text/html": [
       "<pre style=\"white-space:pre;overflow-x:auto;line-height:normal;font-family:Menlo,'DejaVu Sans Mono',consolas,'Courier New',monospace\">json_path <span style=\"color: #800080; text-decoration-color: #800080\">/root/datasets2/reconcycle/2023-05-23_synthetic_dataset/output/labelme/</span><span style=\"color: #ff00ff; text-decoration-color: #ff00ff\">00000048.json</span>\n",
       "</pre>\n"
      ],
      "text/plain": [
       "json_path \u001b[35m/root/datasets2/reconcycle/2023-05-23_synthetic_dataset/output/labelme/\u001b[0m\u001b[95m00000048.json\u001b[0m\n"
      ]
     },
     "metadata": {},
     "output_type": "display_data"
    },
    {
     "data": {
      "text/html": [
       "<pre style=\"white-space:pre;overflow-x:auto;line-height:normal;font-family:Menlo,'DejaVu Sans Mono',consolas,'Courier New',monospace\">colour_img_path <span style=\"color: #800080; text-decoration-color: #800080\">/root/datasets2/reconcycle/2023-05-23_synthetic_dataset/output/images/</span><span style=\"color: #ff00ff; text-decoration-color: #ff00ff\">00000048.jpg</span>\n",
       "</pre>\n"
      ],
      "text/plain": [
       "colour_img_path \u001b[35m/root/datasets2/reconcycle/2023-05-23_synthetic_dataset/output/images/\u001b[0m\u001b[95m00000048.jpg\u001b[0m\n"
      ]
     },
     "metadata": {},
     "output_type": "display_data"
    },
    {
     "data": {
      "text/html": [
       "<pre style=\"white-space:pre;overflow-x:auto;line-height:normal;font-family:Menlo,'DejaVu Sans Mono',consolas,'Courier New',monospace\">graph relations:\n",
       "</pre>\n"
      ],
      "text/plain": [
       "graph relations:\n"
      ]
     },
     "metadata": {},
     "output_type": "display_data"
    },
    {
     "data": {
      "text/html": [
       "<pre style=\"white-space:pre;overflow-x:auto;line-height:normal;font-family:Menlo,'DejaVu Sans Mono',consolas,'Courier New',monospace\">Device <span style=\"color: #008080; text-decoration-color: #008080; font-weight: bold\">1</span>: \n",
       "plastic_clip in hca_back\n",
       "pcb_covered in hca_back\n",
       "plastic_clip next to pcb_covered\n",
       "pcb_covered next to plastic_clip\n",
       "\n",
       "Device <span style=\"color: #008080; text-decoration-color: #008080; font-weight: bold\">2</span>: \n",
       "internals in hca_back\n",
       "\n",
       "</pre>\n"
      ],
      "text/plain": [
       "Device \u001b[1;36m1\u001b[0m: \n",
       "plastic_clip in hca_back\n",
       "pcb_covered in hca_back\n",
       "plastic_clip next to pcb_covered\n",
       "pcb_covered next to plastic_clip\n",
       "\n",
       "Device \u001b[1;36m2\u001b[0m: \n",
       "internals in hca_back\n",
       "\n"
      ]
     },
     "metadata": {},
     "output_type": "display_data"
    },
    {
     "name": "stderr",
     "output_type": "stream",
     "text": [
      "00000049:  48%|████▊     | 48/100 [00:01<00:01, 44.55it/s]"
     ]
    },
    {
     "data": {
      "text/html": [
       "<pre style=\"white-space:pre;overflow-x:auto;line-height:normal;font-family:Menlo,'DejaVu Sans Mono',consolas,'Courier New',monospace\">json_path <span style=\"color: #800080; text-decoration-color: #800080\">/root/datasets2/reconcycle/2023-05-23_synthetic_dataset/output/labelme/</span><span style=\"color: #ff00ff; text-decoration-color: #ff00ff\">00000049.json</span>\n",
       "</pre>\n"
      ],
      "text/plain": [
       "json_path \u001b[35m/root/datasets2/reconcycle/2023-05-23_synthetic_dataset/output/labelme/\u001b[0m\u001b[95m00000049.json\u001b[0m\n"
      ]
     },
     "metadata": {},
     "output_type": "display_data"
    },
    {
     "data": {
      "text/html": [
       "<pre style=\"white-space:pre;overflow-x:auto;line-height:normal;font-family:Menlo,'DejaVu Sans Mono',consolas,'Courier New',monospace\">colour_img_path <span style=\"color: #800080; text-decoration-color: #800080\">/root/datasets2/reconcycle/2023-05-23_synthetic_dataset/output/images/</span><span style=\"color: #ff00ff; text-decoration-color: #ff00ff\">00000049.jpg</span>\n",
       "</pre>\n"
      ],
      "text/plain": [
       "colour_img_path \u001b[35m/root/datasets2/reconcycle/2023-05-23_synthetic_dataset/output/images/\u001b[0m\u001b[95m00000049.jpg\u001b[0m\n"
      ]
     },
     "metadata": {},
     "output_type": "display_data"
    },
    {
     "data": {
      "text/html": [
       "<pre style=\"white-space:pre;overflow-x:auto;line-height:normal;font-family:Menlo,'DejaVu Sans Mono',consolas,'Courier New',monospace\">graph relations:\n",
       "</pre>\n"
      ],
      "text/plain": [
       "graph relations:\n"
      ]
     },
     "metadata": {},
     "output_type": "display_data"
    },
    {
     "data": {
      "text/html": [
       "<pre style=\"white-space:pre;overflow-x:auto;line-height:normal;font-family:Menlo,'DejaVu Sans Mono',consolas,'Courier New',monospace\">Device <span style=\"color: #008080; text-decoration-color: #008080; font-weight: bold\">1</span>: \n",
       "plastic_clip in hca_back\n",
       "internals in hca_back\n",
       "plastic_clip next to internals\n",
       "internals next to plastic_clip\n",
       "\n",
       "</pre>\n"
      ],
      "text/plain": [
       "Device \u001b[1;36m1\u001b[0m: \n",
       "plastic_clip in hca_back\n",
       "internals in hca_back\n",
       "plastic_clip next to internals\n",
       "internals next to plastic_clip\n",
       "\n"
      ]
     },
     "metadata": {},
     "output_type": "display_data"
    },
    {
     "name": "stderr",
     "output_type": "stream",
     "text": [
      "00000050:  48%|████▊     | 48/100 [00:01<00:01, 44.55it/s]"
     ]
    },
    {
     "data": {
      "text/html": [
       "<pre style=\"white-space:pre;overflow-x:auto;line-height:normal;font-family:Menlo,'DejaVu Sans Mono',consolas,'Courier New',monospace\">json_path <span style=\"color: #800080; text-decoration-color: #800080\">/root/datasets2/reconcycle/2023-05-23_synthetic_dataset/output/labelme/</span><span style=\"color: #ff00ff; text-decoration-color: #ff00ff\">00000050.json</span>\n",
       "</pre>\n"
      ],
      "text/plain": [
       "json_path \u001b[35m/root/datasets2/reconcycle/2023-05-23_synthetic_dataset/output/labelme/\u001b[0m\u001b[95m00000050.json\u001b[0m\n"
      ]
     },
     "metadata": {},
     "output_type": "display_data"
    },
    {
     "data": {
      "text/html": [
       "<pre style=\"white-space:pre;overflow-x:auto;line-height:normal;font-family:Menlo,'DejaVu Sans Mono',consolas,'Courier New',monospace\">colour_img_path <span style=\"color: #800080; text-decoration-color: #800080\">/root/datasets2/reconcycle/2023-05-23_synthetic_dataset/output/images/</span><span style=\"color: #ff00ff; text-decoration-color: #ff00ff\">00000050.jpg</span>\n",
       "</pre>\n"
      ],
      "text/plain": [
       "colour_img_path \u001b[35m/root/datasets2/reconcycle/2023-05-23_synthetic_dataset/output/images/\u001b[0m\u001b[95m00000050.jpg\u001b[0m\n"
      ]
     },
     "metadata": {},
     "output_type": "display_data"
    },
    {
     "data": {
      "text/html": [
       "<pre style=\"white-space:pre;overflow-x:auto;line-height:normal;font-family:Menlo,'DejaVu Sans Mono',consolas,'Courier New',monospace\">graph relations:\n",
       "</pre>\n"
      ],
      "text/plain": [
       "graph relations:\n"
      ]
     },
     "metadata": {},
     "output_type": "display_data"
    },
    {
     "data": {
      "text/html": [
       "<pre style=\"white-space:pre;overflow-x:auto;line-height:normal;font-family:Menlo,'DejaVu Sans Mono',consolas,'Courier New',monospace\">Device <span style=\"color: #008080; text-decoration-color: #008080; font-weight: bold\">1</span>: \n",
       "plastic_clip in hca_back\n",
       "internals in hca_back\n",
       "plastic_clip next to internals\n",
       "internals next to plastic_clip\n",
       "\n",
       "</pre>\n"
      ],
      "text/plain": [
       "Device \u001b[1;36m1\u001b[0m: \n",
       "plastic_clip in hca_back\n",
       "internals in hca_back\n",
       "plastic_clip next to internals\n",
       "internals next to plastic_clip\n",
       "\n"
      ]
     },
     "metadata": {},
     "output_type": "display_data"
    },
    {
     "name": "stderr",
     "output_type": "stream",
     "text": [
      "00000051:  48%|████▊     | 48/100 [00:01<00:01, 44.55it/s]"
     ]
    },
    {
     "data": {
      "text/html": [
       "<pre style=\"white-space:pre;overflow-x:auto;line-height:normal;font-family:Menlo,'DejaVu Sans Mono',consolas,'Courier New',monospace\">json_path <span style=\"color: #800080; text-decoration-color: #800080\">/root/datasets2/reconcycle/2023-05-23_synthetic_dataset/output/labelme/</span><span style=\"color: #ff00ff; text-decoration-color: #ff00ff\">00000051.json</span>\n",
       "</pre>\n"
      ],
      "text/plain": [
       "json_path \u001b[35m/root/datasets2/reconcycle/2023-05-23_synthetic_dataset/output/labelme/\u001b[0m\u001b[95m00000051.json\u001b[0m\n"
      ]
     },
     "metadata": {},
     "output_type": "display_data"
    },
    {
     "data": {
      "text/html": [
       "<pre style=\"white-space:pre;overflow-x:auto;line-height:normal;font-family:Menlo,'DejaVu Sans Mono',consolas,'Courier New',monospace\">colour_img_path <span style=\"color: #800080; text-decoration-color: #800080\">/root/datasets2/reconcycle/2023-05-23_synthetic_dataset/output/images/</span><span style=\"color: #ff00ff; text-decoration-color: #ff00ff\">00000051.jpg</span>\n",
       "</pre>\n"
      ],
      "text/plain": [
       "colour_img_path \u001b[35m/root/datasets2/reconcycle/2023-05-23_synthetic_dataset/output/images/\u001b[0m\u001b[95m00000051.jpg\u001b[0m\n"
      ]
     },
     "metadata": {},
     "output_type": "display_data"
    },
    {
     "data": {
      "text/html": [
       "<pre style=\"white-space:pre;overflow-x:auto;line-height:normal;font-family:Menlo,'DejaVu Sans Mono',consolas,'Courier New',monospace\">graph relations:\n",
       "</pre>\n"
      ],
      "text/plain": [
       "graph relations:\n"
      ]
     },
     "metadata": {},
     "output_type": "display_data"
    },
    {
     "data": {
      "text/html": [
       "<pre style=\"white-space:pre;overflow-x:auto;line-height:normal;font-family:Menlo,'DejaVu Sans Mono',consolas,'Courier New',monospace\">Device <span style=\"color: #008080; text-decoration-color: #008080; font-weight: bold\">1</span>: \n",
       "pcb in internals\n",
       "battery in internals\n",
       "battery in pcb\n",
       "\n",
       "</pre>\n"
      ],
      "text/plain": [
       "Device \u001b[1;36m1\u001b[0m: \n",
       "pcb in internals\n",
       "battery in internals\n",
       "battery in pcb\n",
       "\n"
      ]
     },
     "metadata": {},
     "output_type": "display_data"
    },
    {
     "name": "stderr",
     "output_type": "stream",
     "text": [
      "00000052:  48%|████▊     | 48/100 [00:01<00:01, 44.55it/s]"
     ]
    },
    {
     "data": {
      "text/html": [
       "<pre style=\"white-space:pre;overflow-x:auto;line-height:normal;font-family:Menlo,'DejaVu Sans Mono',consolas,'Courier New',monospace\">json_path <span style=\"color: #800080; text-decoration-color: #800080\">/root/datasets2/reconcycle/2023-05-23_synthetic_dataset/output/labelme/</span><span style=\"color: #ff00ff; text-decoration-color: #ff00ff\">00000052.json</span>\n",
       "</pre>\n"
      ],
      "text/plain": [
       "json_path \u001b[35m/root/datasets2/reconcycle/2023-05-23_synthetic_dataset/output/labelme/\u001b[0m\u001b[95m00000052.json\u001b[0m\n"
      ]
     },
     "metadata": {},
     "output_type": "display_data"
    },
    {
     "data": {
      "text/html": [
       "<pre style=\"white-space:pre;overflow-x:auto;line-height:normal;font-family:Menlo,'DejaVu Sans Mono',consolas,'Courier New',monospace\">colour_img_path <span style=\"color: #800080; text-decoration-color: #800080\">/root/datasets2/reconcycle/2023-05-23_synthetic_dataset/output/images/</span><span style=\"color: #ff00ff; text-decoration-color: #ff00ff\">00000052.jpg</span>\n",
       "</pre>\n"
      ],
      "text/plain": [
       "colour_img_path \u001b[35m/root/datasets2/reconcycle/2023-05-23_synthetic_dataset/output/images/\u001b[0m\u001b[95m00000052.jpg\u001b[0m\n"
      ]
     },
     "metadata": {},
     "output_type": "display_data"
    },
    {
     "data": {
      "text/html": [
       "<pre style=\"white-space:pre;overflow-x:auto;line-height:normal;font-family:Menlo,'DejaVu Sans Mono',consolas,'Courier New',monospace\">graph relations:\n",
       "</pre>\n"
      ],
      "text/plain": [
       "graph relations:\n"
      ]
     },
     "metadata": {},
     "output_type": "display_data"
    },
    {
     "data": {
      "text/html": [
       "<pre style=\"white-space:pre;overflow-x:auto;line-height:normal;font-family:Menlo,'DejaVu Sans Mono',consolas,'Courier New',monospace\">Device <span style=\"color: #008080; text-decoration-color: #008080; font-weight: bold\">1</span>: \n",
       "pcb in firealarm_back\n",
       "battery in firealarm_back\n",
       "battery in firealarm_back\n",
       "battery in pcb\n",
       "battery in pcb\n",
       "\n",
       "Device <span style=\"color: #008080; text-decoration-color: #008080; font-weight: bold\">2</span>: \n",
       "pcb in hca_back\n",
       "battery in hca_back\n",
       "pcb next to battery\n",
       "battery next to pcb\n",
       "\n",
       "</pre>\n"
      ],
      "text/plain": [
       "Device \u001b[1;36m1\u001b[0m: \n",
       "pcb in firealarm_back\n",
       "battery in firealarm_back\n",
       "battery in firealarm_back\n",
       "battery in pcb\n",
       "battery in pcb\n",
       "\n",
       "Device \u001b[1;36m2\u001b[0m: \n",
       "pcb in hca_back\n",
       "battery in hca_back\n",
       "pcb next to battery\n",
       "battery next to pcb\n",
       "\n"
      ]
     },
     "metadata": {},
     "output_type": "display_data"
    },
    {
     "name": "stderr",
     "output_type": "stream",
     "text": [
      "00000053:  48%|████▊     | 48/100 [00:01<00:01, 44.55it/s]"
     ]
    },
    {
     "data": {
      "text/html": [
       "<pre style=\"white-space:pre;overflow-x:auto;line-height:normal;font-family:Menlo,'DejaVu Sans Mono',consolas,'Courier New',monospace\">json_path <span style=\"color: #800080; text-decoration-color: #800080\">/root/datasets2/reconcycle/2023-05-23_synthetic_dataset/output/labelme/</span><span style=\"color: #ff00ff; text-decoration-color: #ff00ff\">00000053.json</span>\n",
       "</pre>\n"
      ],
      "text/plain": [
       "json_path \u001b[35m/root/datasets2/reconcycle/2023-05-23_synthetic_dataset/output/labelme/\u001b[0m\u001b[95m00000053.json\u001b[0m\n"
      ]
     },
     "metadata": {},
     "output_type": "display_data"
    },
    {
     "data": {
      "text/html": [
       "<pre style=\"white-space:pre;overflow-x:auto;line-height:normal;font-family:Menlo,'DejaVu Sans Mono',consolas,'Courier New',monospace\">colour_img_path <span style=\"color: #800080; text-decoration-color: #800080\">/root/datasets2/reconcycle/2023-05-23_synthetic_dataset/output/images/</span><span style=\"color: #ff00ff; text-decoration-color: #ff00ff\">00000053.jpg</span>\n",
       "</pre>\n"
      ],
      "text/plain": [
       "colour_img_path \u001b[35m/root/datasets2/reconcycle/2023-05-23_synthetic_dataset/output/images/\u001b[0m\u001b[95m00000053.jpg\u001b[0m\n"
      ]
     },
     "metadata": {},
     "output_type": "display_data"
    },
    {
     "data": {
      "text/html": [
       "<pre style=\"white-space:pre;overflow-x:auto;line-height:normal;font-family:Menlo,'DejaVu Sans Mono',consolas,'Courier New',monospace\">graph relations:\n",
       "</pre>\n"
      ],
      "text/plain": [
       "graph relations:\n"
      ]
     },
     "metadata": {},
     "output_type": "display_data"
    },
    {
     "data": {
      "text/html": [
       "<pre style=\"white-space:pre;overflow-x:auto;line-height:normal;font-family:Menlo,'DejaVu Sans Mono',consolas,'Courier New',monospace\">Device <span style=\"color: #008080; text-decoration-color: #008080; font-weight: bold\">1</span>: \n",
       "internals\n",
       "</pre>\n"
      ],
      "text/plain": [
       "Device \u001b[1;36m1\u001b[0m: \n",
       "internals\n"
      ]
     },
     "metadata": {},
     "output_type": "display_data"
    },
    {
     "name": "stderr",
     "output_type": "stream",
     "text": [
      "00000054:  53%|█████▎    | 53/100 [00:01<00:01, 45.63it/s]"
     ]
    },
    {
     "data": {
      "text/html": [
       "<pre style=\"white-space:pre;overflow-x:auto;line-height:normal;font-family:Menlo,'DejaVu Sans Mono',consolas,'Courier New',monospace\">json_path <span style=\"color: #800080; text-decoration-color: #800080\">/root/datasets2/reconcycle/2023-05-23_synthetic_dataset/output/labelme/</span><span style=\"color: #ff00ff; text-decoration-color: #ff00ff\">00000054.json</span>\n",
       "</pre>\n"
      ],
      "text/plain": [
       "json_path \u001b[35m/root/datasets2/reconcycle/2023-05-23_synthetic_dataset/output/labelme/\u001b[0m\u001b[95m00000054.json\u001b[0m\n"
      ]
     },
     "metadata": {},
     "output_type": "display_data"
    },
    {
     "data": {
      "text/html": [
       "<pre style=\"white-space:pre;overflow-x:auto;line-height:normal;font-family:Menlo,'DejaVu Sans Mono',consolas,'Courier New',monospace\">colour_img_path <span style=\"color: #800080; text-decoration-color: #800080\">/root/datasets2/reconcycle/2023-05-23_synthetic_dataset/output/images/</span><span style=\"color: #ff00ff; text-decoration-color: #ff00ff\">00000054.jpg</span>\n",
       "</pre>\n"
      ],
      "text/plain": [
       "colour_img_path \u001b[35m/root/datasets2/reconcycle/2023-05-23_synthetic_dataset/output/images/\u001b[0m\u001b[95m00000054.jpg\u001b[0m\n"
      ]
     },
     "metadata": {},
     "output_type": "display_data"
    },
    {
     "data": {
      "text/html": [
       "<pre style=\"white-space:pre;overflow-x:auto;line-height:normal;font-family:Menlo,'DejaVu Sans Mono',consolas,'Courier New',monospace\">graph relations:\n",
       "</pre>\n"
      ],
      "text/plain": [
       "graph relations:\n"
      ]
     },
     "metadata": {},
     "output_type": "display_data"
    },
    {
     "data": {
      "text/html": [
       "<pre style=\"white-space:pre;overflow-x:auto;line-height:normal;font-family:Menlo,'DejaVu Sans Mono',consolas,'Courier New',monospace\">Device <span style=\"color: #008080; text-decoration-color: #008080; font-weight: bold\">1</span>: \n",
       "internals\n",
       "</pre>\n"
      ],
      "text/plain": [
       "Device \u001b[1;36m1\u001b[0m: \n",
       "internals\n"
      ]
     },
     "metadata": {},
     "output_type": "display_data"
    },
    {
     "name": "stderr",
     "output_type": "stream",
     "text": [
      "00000055:  53%|█████▎    | 53/100 [00:01<00:01, 45.63it/s]"
     ]
    },
    {
     "data": {
      "text/html": [
       "<pre style=\"white-space:pre;overflow-x:auto;line-height:normal;font-family:Menlo,'DejaVu Sans Mono',consolas,'Courier New',monospace\">json_path <span style=\"color: #800080; text-decoration-color: #800080\">/root/datasets2/reconcycle/2023-05-23_synthetic_dataset/output/labelme/</span><span style=\"color: #ff00ff; text-decoration-color: #ff00ff\">00000055.json</span>\n",
       "</pre>\n"
      ],
      "text/plain": [
       "json_path \u001b[35m/root/datasets2/reconcycle/2023-05-23_synthetic_dataset/output/labelme/\u001b[0m\u001b[95m00000055.json\u001b[0m\n"
      ]
     },
     "metadata": {},
     "output_type": "display_data"
    },
    {
     "data": {
      "text/html": [
       "<pre style=\"white-space:pre;overflow-x:auto;line-height:normal;font-family:Menlo,'DejaVu Sans Mono',consolas,'Courier New',monospace\">colour_img_path <span style=\"color: #800080; text-decoration-color: #800080\">/root/datasets2/reconcycle/2023-05-23_synthetic_dataset/output/images/</span><span style=\"color: #ff00ff; text-decoration-color: #ff00ff\">00000055.jpg</span>\n",
       "</pre>\n"
      ],
      "text/plain": [
       "colour_img_path \u001b[35m/root/datasets2/reconcycle/2023-05-23_synthetic_dataset/output/images/\u001b[0m\u001b[95m00000055.jpg\u001b[0m\n"
      ]
     },
     "metadata": {},
     "output_type": "display_data"
    },
    {
     "data": {
      "text/html": [
       "<pre style=\"white-space:pre;overflow-x:auto;line-height:normal;font-family:Menlo,'DejaVu Sans Mono',consolas,'Courier New',monospace\">graph relations:\n",
       "</pre>\n"
      ],
      "text/plain": [
       "graph relations:\n"
      ]
     },
     "metadata": {},
     "output_type": "display_data"
    },
    {
     "data": {
      "text/html": [
       "<pre style=\"white-space:pre;overflow-x:auto;line-height:normal;font-family:Menlo,'DejaVu Sans Mono',consolas,'Courier New',monospace\">Device <span style=\"color: #008080; text-decoration-color: #008080; font-weight: bold\">1</span>: \n",
       "battery in internals\n",
       "pcb in internals\n",
       "battery next to pcb\n",
       "pcb next to battery\n",
       "\n",
       "</pre>\n"
      ],
      "text/plain": [
       "Device \u001b[1;36m1\u001b[0m: \n",
       "battery in internals\n",
       "pcb in internals\n",
       "battery next to pcb\n",
       "pcb next to battery\n",
       "\n"
      ]
     },
     "metadata": {},
     "output_type": "display_data"
    },
    {
     "name": "stderr",
     "output_type": "stream",
     "text": [
      "00000056:  53%|█████▎    | 53/100 [00:01<00:01, 45.63it/s]"
     ]
    },
    {
     "data": {
      "text/html": [
       "<pre style=\"white-space:pre;overflow-x:auto;line-height:normal;font-family:Menlo,'DejaVu Sans Mono',consolas,'Courier New',monospace\">json_path <span style=\"color: #800080; text-decoration-color: #800080\">/root/datasets2/reconcycle/2023-05-23_synthetic_dataset/output/labelme/</span><span style=\"color: #ff00ff; text-decoration-color: #ff00ff\">00000056.json</span>\n",
       "</pre>\n"
      ],
      "text/plain": [
       "json_path \u001b[35m/root/datasets2/reconcycle/2023-05-23_synthetic_dataset/output/labelme/\u001b[0m\u001b[95m00000056.json\u001b[0m\n"
      ]
     },
     "metadata": {},
     "output_type": "display_data"
    },
    {
     "data": {
      "text/html": [
       "<pre style=\"white-space:pre;overflow-x:auto;line-height:normal;font-family:Menlo,'DejaVu Sans Mono',consolas,'Courier New',monospace\">colour_img_path <span style=\"color: #800080; text-decoration-color: #800080\">/root/datasets2/reconcycle/2023-05-23_synthetic_dataset/output/images/</span><span style=\"color: #ff00ff; text-decoration-color: #ff00ff\">00000056.jpg</span>\n",
       "</pre>\n"
      ],
      "text/plain": [
       "colour_img_path \u001b[35m/root/datasets2/reconcycle/2023-05-23_synthetic_dataset/output/images/\u001b[0m\u001b[95m00000056.jpg\u001b[0m\n"
      ]
     },
     "metadata": {},
     "output_type": "display_data"
    },
    {
     "data": {
      "text/html": [
       "<pre style=\"white-space:pre;overflow-x:auto;line-height:normal;font-family:Menlo,'DejaVu Sans Mono',consolas,'Courier New',monospace\">graph relations:\n",
       "</pre>\n"
      ],
      "text/plain": [
       "graph relations:\n"
      ]
     },
     "metadata": {},
     "output_type": "display_data"
    },
    {
     "data": {
      "text/html": [
       "<pre style=\"white-space:pre;overflow-x:auto;line-height:normal;font-family:Menlo,'DejaVu Sans Mono',consolas,'Courier New',monospace\">Device <span style=\"color: #008080; text-decoration-color: #008080; font-weight: bold\">1</span>: \n",
       "pcb in hca_back\n",
       "battery in hca_back\n",
       "pcb next to battery\n",
       "battery next to pcb\n",
       "\n",
       "Device <span style=\"color: #008080; text-decoration-color: #008080; font-weight: bold\">2</span>: \n",
       "plastic_clip in hca_back\n",
       "pcb_covered in hca_back\n",
       "plastic_clip next to pcb_covered\n",
       "pcb_covered next to plastic_clip\n",
       "\n",
       "</pre>\n"
      ],
      "text/plain": [
       "Device \u001b[1;36m1\u001b[0m: \n",
       "pcb in hca_back\n",
       "battery in hca_back\n",
       "pcb next to battery\n",
       "battery next to pcb\n",
       "\n",
       "Device \u001b[1;36m2\u001b[0m: \n",
       "plastic_clip in hca_back\n",
       "pcb_covered in hca_back\n",
       "plastic_clip next to pcb_covered\n",
       "pcb_covered next to plastic_clip\n",
       "\n"
      ]
     },
     "metadata": {},
     "output_type": "display_data"
    },
    {
     "name": "stderr",
     "output_type": "stream",
     "text": [
      "00000057:  53%|█████▎    | 53/100 [00:01<00:01, 45.63it/s]"
     ]
    },
    {
     "data": {
      "text/html": [
       "<pre style=\"white-space:pre;overflow-x:auto;line-height:normal;font-family:Menlo,'DejaVu Sans Mono',consolas,'Courier New',monospace\">json_path <span style=\"color: #800080; text-decoration-color: #800080\">/root/datasets2/reconcycle/2023-05-23_synthetic_dataset/output/labelme/</span><span style=\"color: #ff00ff; text-decoration-color: #ff00ff\">00000057.json</span>\n",
       "</pre>\n"
      ],
      "text/plain": [
       "json_path \u001b[35m/root/datasets2/reconcycle/2023-05-23_synthetic_dataset/output/labelme/\u001b[0m\u001b[95m00000057.json\u001b[0m\n"
      ]
     },
     "metadata": {},
     "output_type": "display_data"
    },
    {
     "data": {
      "text/html": [
       "<pre style=\"white-space:pre;overflow-x:auto;line-height:normal;font-family:Menlo,'DejaVu Sans Mono',consolas,'Courier New',monospace\">colour_img_path <span style=\"color: #800080; text-decoration-color: #800080\">/root/datasets2/reconcycle/2023-05-23_synthetic_dataset/output/images/</span><span style=\"color: #ff00ff; text-decoration-color: #ff00ff\">00000057.jpg</span>\n",
       "</pre>\n"
      ],
      "text/plain": [
       "colour_img_path \u001b[35m/root/datasets2/reconcycle/2023-05-23_synthetic_dataset/output/images/\u001b[0m\u001b[95m00000057.jpg\u001b[0m\n"
      ]
     },
     "metadata": {},
     "output_type": "display_data"
    },
    {
     "data": {
      "text/html": [
       "<pre style=\"white-space:pre;overflow-x:auto;line-height:normal;font-family:Menlo,'DejaVu Sans Mono',consolas,'Courier New',monospace\">graph relations:\n",
       "</pre>\n"
      ],
      "text/plain": [
       "graph relations:\n"
      ]
     },
     "metadata": {},
     "output_type": "display_data"
    },
    {
     "data": {
      "text/html": [
       "<pre style=\"white-space:pre;overflow-x:auto;line-height:normal;font-family:Menlo,'DejaVu Sans Mono',consolas,'Courier New',monospace\">Device <span style=\"color: #008080; text-decoration-color: #008080; font-weight: bold\">1</span>: \n",
       "plastic_clip in hca_back\n",
       "pcb_covered in hca_back\n",
       "plastic_clip next to pcb_covered\n",
       "pcb_covered next to plastic_clip\n",
       "\n",
       "Device <span style=\"color: #008080; text-decoration-color: #008080; font-weight: bold\">2</span>: \n",
       "battery in hca_back\n",
       "pcb in hca_back\n",
       "battery next to pcb\n",
       "pcb next to battery\n",
       "\n",
       "</pre>\n"
      ],
      "text/plain": [
       "Device \u001b[1;36m1\u001b[0m: \n",
       "plastic_clip in hca_back\n",
       "pcb_covered in hca_back\n",
       "plastic_clip next to pcb_covered\n",
       "pcb_covered next to plastic_clip\n",
       "\n",
       "Device \u001b[1;36m2\u001b[0m: \n",
       "battery in hca_back\n",
       "pcb in hca_back\n",
       "battery next to pcb\n",
       "pcb next to battery\n",
       "\n"
      ]
     },
     "metadata": {},
     "output_type": "display_data"
    },
    {
     "name": "stderr",
     "output_type": "stream",
     "text": [
      "00000058:  53%|█████▎    | 53/100 [00:01<00:01, 45.63it/s]"
     ]
    },
    {
     "data": {
      "text/html": [
       "<pre style=\"white-space:pre;overflow-x:auto;line-height:normal;font-family:Menlo,'DejaVu Sans Mono',consolas,'Courier New',monospace\">json_path <span style=\"color: #800080; text-decoration-color: #800080\">/root/datasets2/reconcycle/2023-05-23_synthetic_dataset/output/labelme/</span><span style=\"color: #ff00ff; text-decoration-color: #ff00ff\">00000058.json</span>\n",
       "</pre>\n"
      ],
      "text/plain": [
       "json_path \u001b[35m/root/datasets2/reconcycle/2023-05-23_synthetic_dataset/output/labelme/\u001b[0m\u001b[95m00000058.json\u001b[0m\n"
      ]
     },
     "metadata": {},
     "output_type": "display_data"
    },
    {
     "data": {
      "text/html": [
       "<pre style=\"white-space:pre;overflow-x:auto;line-height:normal;font-family:Menlo,'DejaVu Sans Mono',consolas,'Courier New',monospace\">colour_img_path <span style=\"color: #800080; text-decoration-color: #800080\">/root/datasets2/reconcycle/2023-05-23_synthetic_dataset/output/images/</span><span style=\"color: #ff00ff; text-decoration-color: #ff00ff\">00000058.jpg</span>\n",
       "</pre>\n"
      ],
      "text/plain": [
       "colour_img_path \u001b[35m/root/datasets2/reconcycle/2023-05-23_synthetic_dataset/output/images/\u001b[0m\u001b[95m00000058.jpg\u001b[0m\n"
      ]
     },
     "metadata": {},
     "output_type": "display_data"
    },
    {
     "data": {
      "text/html": [
       "<pre style=\"white-space:pre;overflow-x:auto;line-height:normal;font-family:Menlo,'DejaVu Sans Mono',consolas,'Courier New',monospace\">graph relations:\n",
       "</pre>\n"
      ],
      "text/plain": [
       "graph relations:\n"
      ]
     },
     "metadata": {},
     "output_type": "display_data"
    },
    {
     "data": {
      "text/html": [
       "<pre style=\"white-space:pre;overflow-x:auto;line-height:normal;font-family:Menlo,'DejaVu Sans Mono',consolas,'Courier New',monospace\">Device <span style=\"color: #008080; text-decoration-color: #008080; font-weight: bold\">1</span>: \n",
       "pcb_covered in hca_back\n",
       "\n",
       "</pre>\n"
      ],
      "text/plain": [
       "Device \u001b[1;36m1\u001b[0m: \n",
       "pcb_covered in hca_back\n",
       "\n"
      ]
     },
     "metadata": {},
     "output_type": "display_data"
    },
    {
     "name": "stderr",
     "output_type": "stream",
     "text": [
      "00000059:  58%|█████▊    | 58/100 [00:01<00:01, 40.92it/s]"
     ]
    },
    {
     "data": {
      "text/html": [
       "<pre style=\"white-space:pre;overflow-x:auto;line-height:normal;font-family:Menlo,'DejaVu Sans Mono',consolas,'Courier New',monospace\">json_path <span style=\"color: #800080; text-decoration-color: #800080\">/root/datasets2/reconcycle/2023-05-23_synthetic_dataset/output/labelme/</span><span style=\"color: #ff00ff; text-decoration-color: #ff00ff\">00000059.json</span>\n",
       "</pre>\n"
      ],
      "text/plain": [
       "json_path \u001b[35m/root/datasets2/reconcycle/2023-05-23_synthetic_dataset/output/labelme/\u001b[0m\u001b[95m00000059.json\u001b[0m\n"
      ]
     },
     "metadata": {},
     "output_type": "display_data"
    },
    {
     "data": {
      "text/html": [
       "<pre style=\"white-space:pre;overflow-x:auto;line-height:normal;font-family:Menlo,'DejaVu Sans Mono',consolas,'Courier New',monospace\">colour_img_path <span style=\"color: #800080; text-decoration-color: #800080\">/root/datasets2/reconcycle/2023-05-23_synthetic_dataset/output/images/</span><span style=\"color: #ff00ff; text-decoration-color: #ff00ff\">00000059.jpg</span>\n",
       "</pre>\n"
      ],
      "text/plain": [
       "colour_img_path \u001b[35m/root/datasets2/reconcycle/2023-05-23_synthetic_dataset/output/images/\u001b[0m\u001b[95m00000059.jpg\u001b[0m\n"
      ]
     },
     "metadata": {},
     "output_type": "display_data"
    },
    {
     "data": {
      "text/html": [
       "<pre style=\"white-space:pre;overflow-x:auto;line-height:normal;font-family:Menlo,'DejaVu Sans Mono',consolas,'Courier New',monospace\">graph relations:\n",
       "</pre>\n"
      ],
      "text/plain": [
       "graph relations:\n"
      ]
     },
     "metadata": {},
     "output_type": "display_data"
    },
    {
     "data": {
      "text/html": [
       "<pre style=\"white-space:pre;overflow-x:auto;line-height:normal;font-family:Menlo,'DejaVu Sans Mono',consolas,'Courier New',monospace\">Device <span style=\"color: #008080; text-decoration-color: #008080; font-weight: bold\">1</span>: \n",
       "pcb in firealarm_back\n",
       "battery in firealarm_back\n",
       "battery in firealarm_back\n",
       "battery in pcb\n",
       "battery in pcb\n",
       "\n",
       "Device <span style=\"color: #008080; text-decoration-color: #008080; font-weight: bold\">2</span>: \n",
       "firealarm_back\n",
       "</pre>\n"
      ],
      "text/plain": [
       "Device \u001b[1;36m1\u001b[0m: \n",
       "pcb in firealarm_back\n",
       "battery in firealarm_back\n",
       "battery in firealarm_back\n",
       "battery in pcb\n",
       "battery in pcb\n",
       "\n",
       "Device \u001b[1;36m2\u001b[0m: \n",
       "firealarm_back\n"
      ]
     },
     "metadata": {},
     "output_type": "display_data"
    },
    {
     "name": "stderr",
     "output_type": "stream",
     "text": [
      "00000060:  58%|█████▊    | 58/100 [00:01<00:01, 40.92it/s]"
     ]
    },
    {
     "data": {
      "text/html": [
       "<pre style=\"white-space:pre;overflow-x:auto;line-height:normal;font-family:Menlo,'DejaVu Sans Mono',consolas,'Courier New',monospace\">json_path <span style=\"color: #800080; text-decoration-color: #800080\">/root/datasets2/reconcycle/2023-05-23_synthetic_dataset/output/labelme/</span><span style=\"color: #ff00ff; text-decoration-color: #ff00ff\">00000060.json</span>\n",
       "</pre>\n"
      ],
      "text/plain": [
       "json_path \u001b[35m/root/datasets2/reconcycle/2023-05-23_synthetic_dataset/output/labelme/\u001b[0m\u001b[95m00000060.json\u001b[0m\n"
      ]
     },
     "metadata": {},
     "output_type": "display_data"
    },
    {
     "data": {
      "text/html": [
       "<pre style=\"white-space:pre;overflow-x:auto;line-height:normal;font-family:Menlo,'DejaVu Sans Mono',consolas,'Courier New',monospace\">colour_img_path <span style=\"color: #800080; text-decoration-color: #800080\">/root/datasets2/reconcycle/2023-05-23_synthetic_dataset/output/images/</span><span style=\"color: #ff00ff; text-decoration-color: #ff00ff\">00000060.jpg</span>\n",
       "</pre>\n"
      ],
      "text/plain": [
       "colour_img_path \u001b[35m/root/datasets2/reconcycle/2023-05-23_synthetic_dataset/output/images/\u001b[0m\u001b[95m00000060.jpg\u001b[0m\n"
      ]
     },
     "metadata": {},
     "output_type": "display_data"
    },
    {
     "data": {
      "text/html": [
       "<pre style=\"white-space:pre;overflow-x:auto;line-height:normal;font-family:Menlo,'DejaVu Sans Mono',consolas,'Courier New',monospace\">graph relations:\n",
       "</pre>\n"
      ],
      "text/plain": [
       "graph relations:\n"
      ]
     },
     "metadata": {},
     "output_type": "display_data"
    },
    {
     "data": {
      "text/html": [
       "<pre style=\"white-space:pre;overflow-x:auto;line-height:normal;font-family:Menlo,'DejaVu Sans Mono',consolas,'Courier New',monospace\">Device <span style=\"color: #008080; text-decoration-color: #008080; font-weight: bold\">1</span>: \n",
       "plastic_clip in hca_back\n",
       "pcb_covered in hca_back\n",
       "plastic_clip next to pcb_covered\n",
       "pcb_covered next to plastic_clip\n",
       "\n",
       "Device <span style=\"color: #008080; text-decoration-color: #008080; font-weight: bold\">2</span>: \n",
       "firealarm_front\n",
       "</pre>\n"
      ],
      "text/plain": [
       "Device \u001b[1;36m1\u001b[0m: \n",
       "plastic_clip in hca_back\n",
       "pcb_covered in hca_back\n",
       "plastic_clip next to pcb_covered\n",
       "pcb_covered next to plastic_clip\n",
       "\n",
       "Device \u001b[1;36m2\u001b[0m: \n",
       "firealarm_front\n"
      ]
     },
     "metadata": {},
     "output_type": "display_data"
    },
    {
     "name": "stderr",
     "output_type": "stream",
     "text": [
      "00000061:  58%|█████▊    | 58/100 [00:01<00:01, 40.92it/s]"
     ]
    },
    {
     "data": {
      "text/html": [
       "<pre style=\"white-space:pre;overflow-x:auto;line-height:normal;font-family:Menlo,'DejaVu Sans Mono',consolas,'Courier New',monospace\">json_path <span style=\"color: #800080; text-decoration-color: #800080\">/root/datasets2/reconcycle/2023-05-23_synthetic_dataset/output/labelme/</span><span style=\"color: #ff00ff; text-decoration-color: #ff00ff\">00000061.json</span>\n",
       "</pre>\n"
      ],
      "text/plain": [
       "json_path \u001b[35m/root/datasets2/reconcycle/2023-05-23_synthetic_dataset/output/labelme/\u001b[0m\u001b[95m00000061.json\u001b[0m\n"
      ]
     },
     "metadata": {},
     "output_type": "display_data"
    },
    {
     "data": {
      "text/html": [
       "<pre style=\"white-space:pre;overflow-x:auto;line-height:normal;font-family:Menlo,'DejaVu Sans Mono',consolas,'Courier New',monospace\">colour_img_path <span style=\"color: #800080; text-decoration-color: #800080\">/root/datasets2/reconcycle/2023-05-23_synthetic_dataset/output/images/</span><span style=\"color: #ff00ff; text-decoration-color: #ff00ff\">00000061.jpg</span>\n",
       "</pre>\n"
      ],
      "text/plain": [
       "colour_img_path \u001b[35m/root/datasets2/reconcycle/2023-05-23_synthetic_dataset/output/images/\u001b[0m\u001b[95m00000061.jpg\u001b[0m\n"
      ]
     },
     "metadata": {},
     "output_type": "display_data"
    },
    {
     "data": {
      "text/html": [
       "<pre style=\"white-space:pre;overflow-x:auto;line-height:normal;font-family:Menlo,'DejaVu Sans Mono',consolas,'Courier New',monospace\">graph relations:\n",
       "</pre>\n"
      ],
      "text/plain": [
       "graph relations:\n"
      ]
     },
     "metadata": {},
     "output_type": "display_data"
    },
    {
     "data": {
      "text/html": [
       "<pre style=\"white-space:pre;overflow-x:auto;line-height:normal;font-family:Menlo,'DejaVu Sans Mono',consolas,'Courier New',monospace\">Device <span style=\"color: #008080; text-decoration-color: #008080; font-weight: bold\">1</span>: \n",
       "pcb_covered in hca_back\n",
       "\n",
       "</pre>\n"
      ],
      "text/plain": [
       "Device \u001b[1;36m1\u001b[0m: \n",
       "pcb_covered in hca_back\n",
       "\n"
      ]
     },
     "metadata": {},
     "output_type": "display_data"
    },
    {
     "name": "stderr",
     "output_type": "stream",
     "text": [
      "00000062:  58%|█████▊    | 58/100 [00:01<00:01, 40.92it/s]"
     ]
    },
    {
     "data": {
      "text/html": [
       "<pre style=\"white-space:pre;overflow-x:auto;line-height:normal;font-family:Menlo,'DejaVu Sans Mono',consolas,'Courier New',monospace\">json_path <span style=\"color: #800080; text-decoration-color: #800080\">/root/datasets2/reconcycle/2023-05-23_synthetic_dataset/output/labelme/</span><span style=\"color: #ff00ff; text-decoration-color: #ff00ff\">00000062.json</span>\n",
       "</pre>\n"
      ],
      "text/plain": [
       "json_path \u001b[35m/root/datasets2/reconcycle/2023-05-23_synthetic_dataset/output/labelme/\u001b[0m\u001b[95m00000062.json\u001b[0m\n"
      ]
     },
     "metadata": {},
     "output_type": "display_data"
    },
    {
     "data": {
      "text/html": [
       "<pre style=\"white-space:pre;overflow-x:auto;line-height:normal;font-family:Menlo,'DejaVu Sans Mono',consolas,'Courier New',monospace\">colour_img_path <span style=\"color: #800080; text-decoration-color: #800080\">/root/datasets2/reconcycle/2023-05-23_synthetic_dataset/output/images/</span><span style=\"color: #ff00ff; text-decoration-color: #ff00ff\">00000062.jpg</span>\n",
       "</pre>\n"
      ],
      "text/plain": [
       "colour_img_path \u001b[35m/root/datasets2/reconcycle/2023-05-23_synthetic_dataset/output/images/\u001b[0m\u001b[95m00000062.jpg\u001b[0m\n"
      ]
     },
     "metadata": {},
     "output_type": "display_data"
    },
    {
     "data": {
      "text/html": [
       "<pre style=\"white-space:pre;overflow-x:auto;line-height:normal;font-family:Menlo,'DejaVu Sans Mono',consolas,'Courier New',monospace\">graph relations:\n",
       "</pre>\n"
      ],
      "text/plain": [
       "graph relations:\n"
      ]
     },
     "metadata": {},
     "output_type": "display_data"
    },
    {
     "data": {
      "text/html": [
       "<pre style=\"white-space:pre;overflow-x:auto;line-height:normal;font-family:Menlo,'DejaVu Sans Mono',consolas,'Courier New',monospace\">Device <span style=\"color: #008080; text-decoration-color: #008080; font-weight: bold\">1</span>: \n",
       "plastic_clip in hca_back\n",
       "internals in hca_back\n",
       "plastic_clip next to internals\n",
       "internals next to plastic_clip\n",
       "\n",
       "Device <span style=\"color: #008080; text-decoration-color: #008080; font-weight: bold\">2</span>: \n",
       "pcb in internals\n",
       "battery in internals\n",
       "battery in pcb\n",
       "\n",
       "</pre>\n"
      ],
      "text/plain": [
       "Device \u001b[1;36m1\u001b[0m: \n",
       "plastic_clip in hca_back\n",
       "internals in hca_back\n",
       "plastic_clip next to internals\n",
       "internals next to plastic_clip\n",
       "\n",
       "Device \u001b[1;36m2\u001b[0m: \n",
       "pcb in internals\n",
       "battery in internals\n",
       "battery in pcb\n",
       "\n"
      ]
     },
     "metadata": {},
     "output_type": "display_data"
    },
    {
     "name": "stderr",
     "output_type": "stream",
     "text": [
      "00000063:  58%|█████▊    | 58/100 [00:01<00:01, 40.92it/s]"
     ]
    },
    {
     "data": {
      "text/html": [
       "<pre style=\"white-space:pre;overflow-x:auto;line-height:normal;font-family:Menlo,'DejaVu Sans Mono',consolas,'Courier New',monospace\">json_path <span style=\"color: #800080; text-decoration-color: #800080\">/root/datasets2/reconcycle/2023-05-23_synthetic_dataset/output/labelme/</span><span style=\"color: #ff00ff; text-decoration-color: #ff00ff\">00000063.json</span>\n",
       "</pre>\n"
      ],
      "text/plain": [
       "json_path \u001b[35m/root/datasets2/reconcycle/2023-05-23_synthetic_dataset/output/labelme/\u001b[0m\u001b[95m00000063.json\u001b[0m\n"
      ]
     },
     "metadata": {},
     "output_type": "display_data"
    },
    {
     "data": {
      "text/html": [
       "<pre style=\"white-space:pre;overflow-x:auto;line-height:normal;font-family:Menlo,'DejaVu Sans Mono',consolas,'Courier New',monospace\">colour_img_path <span style=\"color: #800080; text-decoration-color: #800080\">/root/datasets2/reconcycle/2023-05-23_synthetic_dataset/output/images/</span><span style=\"color: #ff00ff; text-decoration-color: #ff00ff\">00000063.jpg</span>\n",
       "</pre>\n"
      ],
      "text/plain": [
       "colour_img_path \u001b[35m/root/datasets2/reconcycle/2023-05-23_synthetic_dataset/output/images/\u001b[0m\u001b[95m00000063.jpg\u001b[0m\n"
      ]
     },
     "metadata": {},
     "output_type": "display_data"
    },
    {
     "data": {
      "text/html": [
       "<pre style=\"white-space:pre;overflow-x:auto;line-height:normal;font-family:Menlo,'DejaVu Sans Mono',consolas,'Courier New',monospace\">graph relations:\n",
       "</pre>\n"
      ],
      "text/plain": [
       "graph relations:\n"
      ]
     },
     "metadata": {},
     "output_type": "display_data"
    },
    {
     "data": {
      "text/html": [
       "<pre style=\"white-space:pre;overflow-x:auto;line-height:normal;font-family:Menlo,'DejaVu Sans Mono',consolas,'Courier New',monospace\">Device <span style=\"color: #008080; text-decoration-color: #008080; font-weight: bold\">1</span>: \n",
       "internals in hca_back\n",
       "\n",
       "</pre>\n"
      ],
      "text/plain": [
       "Device \u001b[1;36m1\u001b[0m: \n",
       "internals in hca_back\n",
       "\n"
      ]
     },
     "metadata": {},
     "output_type": "display_data"
    },
    {
     "name": "stderr",
     "output_type": "stream",
     "text": [
      "00000064:  63%|██████▎   | 63/100 [00:01<00:00, 39.55it/s]"
     ]
    },
    {
     "data": {
      "text/html": [
       "<pre style=\"white-space:pre;overflow-x:auto;line-height:normal;font-family:Menlo,'DejaVu Sans Mono',consolas,'Courier New',monospace\">json_path <span style=\"color: #800080; text-decoration-color: #800080\">/root/datasets2/reconcycle/2023-05-23_synthetic_dataset/output/labelme/</span><span style=\"color: #ff00ff; text-decoration-color: #ff00ff\">00000064.json</span>\n",
       "</pre>\n"
      ],
      "text/plain": [
       "json_path \u001b[35m/root/datasets2/reconcycle/2023-05-23_synthetic_dataset/output/labelme/\u001b[0m\u001b[95m00000064.json\u001b[0m\n"
      ]
     },
     "metadata": {},
     "output_type": "display_data"
    },
    {
     "data": {
      "text/html": [
       "<pre style=\"white-space:pre;overflow-x:auto;line-height:normal;font-family:Menlo,'DejaVu Sans Mono',consolas,'Courier New',monospace\">colour_img_path <span style=\"color: #800080; text-decoration-color: #800080\">/root/datasets2/reconcycle/2023-05-23_synthetic_dataset/output/images/</span><span style=\"color: #ff00ff; text-decoration-color: #ff00ff\">00000064.jpg</span>\n",
       "</pre>\n"
      ],
      "text/plain": [
       "colour_img_path \u001b[35m/root/datasets2/reconcycle/2023-05-23_synthetic_dataset/output/images/\u001b[0m\u001b[95m00000064.jpg\u001b[0m\n"
      ]
     },
     "metadata": {},
     "output_type": "display_data"
    },
    {
     "data": {
      "text/html": [
       "<pre style=\"white-space:pre;overflow-x:auto;line-height:normal;font-family:Menlo,'DejaVu Sans Mono',consolas,'Courier New',monospace\">graph relations:\n",
       "</pre>\n"
      ],
      "text/plain": [
       "graph relations:\n"
      ]
     },
     "metadata": {},
     "output_type": "display_data"
    },
    {
     "data": {
      "text/html": [
       "<pre style=\"white-space:pre;overflow-x:auto;line-height:normal;font-family:Menlo,'DejaVu Sans Mono',consolas,'Courier New',monospace\">Device <span style=\"color: #008080; text-decoration-color: #008080; font-weight: bold\">1</span>: \n",
       "plastic_clip in hca_back\n",
       "pcb_covered in hca_back\n",
       "plastic_clip next to pcb_covered\n",
       "pcb_covered next to plastic_clip\n",
       "\n",
       "</pre>\n"
      ],
      "text/plain": [
       "Device \u001b[1;36m1\u001b[0m: \n",
       "plastic_clip in hca_back\n",
       "pcb_covered in hca_back\n",
       "plastic_clip next to pcb_covered\n",
       "pcb_covered next to plastic_clip\n",
       "\n"
      ]
     },
     "metadata": {},
     "output_type": "display_data"
    },
    {
     "name": "stderr",
     "output_type": "stream",
     "text": [
      "00000065:  63%|██████▎   | 63/100 [00:01<00:00, 39.55it/s]"
     ]
    },
    {
     "data": {
      "text/html": [
       "<pre style=\"white-space:pre;overflow-x:auto;line-height:normal;font-family:Menlo,'DejaVu Sans Mono',consolas,'Courier New',monospace\">json_path <span style=\"color: #800080; text-decoration-color: #800080\">/root/datasets2/reconcycle/2023-05-23_synthetic_dataset/output/labelme/</span><span style=\"color: #ff00ff; text-decoration-color: #ff00ff\">00000065.json</span>\n",
       "</pre>\n"
      ],
      "text/plain": [
       "json_path \u001b[35m/root/datasets2/reconcycle/2023-05-23_synthetic_dataset/output/labelme/\u001b[0m\u001b[95m00000065.json\u001b[0m\n"
      ]
     },
     "metadata": {},
     "output_type": "display_data"
    },
    {
     "data": {
      "text/html": [
       "<pre style=\"white-space:pre;overflow-x:auto;line-height:normal;font-family:Menlo,'DejaVu Sans Mono',consolas,'Courier New',monospace\">colour_img_path <span style=\"color: #800080; text-decoration-color: #800080\">/root/datasets2/reconcycle/2023-05-23_synthetic_dataset/output/images/</span><span style=\"color: #ff00ff; text-decoration-color: #ff00ff\">00000065.jpg</span>\n",
       "</pre>\n"
      ],
      "text/plain": [
       "colour_img_path \u001b[35m/root/datasets2/reconcycle/2023-05-23_synthetic_dataset/output/images/\u001b[0m\u001b[95m00000065.jpg\u001b[0m\n"
      ]
     },
     "metadata": {},
     "output_type": "display_data"
    },
    {
     "data": {
      "text/html": [
       "<pre style=\"white-space:pre;overflow-x:auto;line-height:normal;font-family:Menlo,'DejaVu Sans Mono',consolas,'Courier New',monospace\">graph relations:\n",
       "</pre>\n"
      ],
      "text/plain": [
       "graph relations:\n"
      ]
     },
     "metadata": {},
     "output_type": "display_data"
    },
    {
     "data": {
      "text/html": [
       "<pre style=\"white-space:pre;overflow-x:auto;line-height:normal;font-family:Menlo,'DejaVu Sans Mono',consolas,'Courier New',monospace\">Device <span style=\"color: #008080; text-decoration-color: #008080; font-weight: bold\">1</span>: \n",
       "pcb_covered in hca_back\n",
       "\n",
       "</pre>\n"
      ],
      "text/plain": [
       "Device \u001b[1;36m1\u001b[0m: \n",
       "pcb_covered in hca_back\n",
       "\n"
      ]
     },
     "metadata": {},
     "output_type": "display_data"
    },
    {
     "name": "stderr",
     "output_type": "stream",
     "text": [
      "00000066:  63%|██████▎   | 63/100 [00:01<00:00, 39.55it/s]"
     ]
    },
    {
     "data": {
      "text/html": [
       "<pre style=\"white-space:pre;overflow-x:auto;line-height:normal;font-family:Menlo,'DejaVu Sans Mono',consolas,'Courier New',monospace\">json_path <span style=\"color: #800080; text-decoration-color: #800080\">/root/datasets2/reconcycle/2023-05-23_synthetic_dataset/output/labelme/</span><span style=\"color: #ff00ff; text-decoration-color: #ff00ff\">00000066.json</span>\n",
       "</pre>\n"
      ],
      "text/plain": [
       "json_path \u001b[35m/root/datasets2/reconcycle/2023-05-23_synthetic_dataset/output/labelme/\u001b[0m\u001b[95m00000066.json\u001b[0m\n"
      ]
     },
     "metadata": {},
     "output_type": "display_data"
    },
    {
     "data": {
      "text/html": [
       "<pre style=\"white-space:pre;overflow-x:auto;line-height:normal;font-family:Menlo,'DejaVu Sans Mono',consolas,'Courier New',monospace\">colour_img_path <span style=\"color: #800080; text-decoration-color: #800080\">/root/datasets2/reconcycle/2023-05-23_synthetic_dataset/output/images/</span><span style=\"color: #ff00ff; text-decoration-color: #ff00ff\">00000066.jpg</span>\n",
       "</pre>\n"
      ],
      "text/plain": [
       "colour_img_path \u001b[35m/root/datasets2/reconcycle/2023-05-23_synthetic_dataset/output/images/\u001b[0m\u001b[95m00000066.jpg\u001b[0m\n"
      ]
     },
     "metadata": {},
     "output_type": "display_data"
    },
    {
     "data": {
      "text/html": [
       "<pre style=\"white-space:pre;overflow-x:auto;line-height:normal;font-family:Menlo,'DejaVu Sans Mono',consolas,'Courier New',monospace\">graph relations:\n",
       "</pre>\n"
      ],
      "text/plain": [
       "graph relations:\n"
      ]
     },
     "metadata": {},
     "output_type": "display_data"
    },
    {
     "data": {
      "text/html": [
       "<pre style=\"white-space:pre;overflow-x:auto;line-height:normal;font-family:Menlo,'DejaVu Sans Mono',consolas,'Courier New',monospace\">Device <span style=\"color: #008080; text-decoration-color: #008080; font-weight: bold\">1</span>: \n",
       "internals in hca_back\n",
       "battery in hca_back\n",
       "hca_back next to firealarm_front\n",
       "firealarm_front next to hca_back\n",
       "internals next to battery\n",
       "internals next to firealarm_front\n",
       "battery next to internals\n",
       "firealarm_front next to internals\n",
       "\n",
       "</pre>\n"
      ],
      "text/plain": [
       "Device \u001b[1;36m1\u001b[0m: \n",
       "internals in hca_back\n",
       "battery in hca_back\n",
       "hca_back next to firealarm_front\n",
       "firealarm_front next to hca_back\n",
       "internals next to battery\n",
       "internals next to firealarm_front\n",
       "battery next to internals\n",
       "firealarm_front next to internals\n",
       "\n"
      ]
     },
     "metadata": {},
     "output_type": "display_data"
    },
    {
     "name": "stderr",
     "output_type": "stream",
     "text": [
      "00000067:  63%|██████▎   | 63/100 [00:01<00:00, 39.55it/s]"
     ]
    },
    {
     "data": {
      "text/html": [
       "<pre style=\"white-space:pre;overflow-x:auto;line-height:normal;font-family:Menlo,'DejaVu Sans Mono',consolas,'Courier New',monospace\">json_path <span style=\"color: #800080; text-decoration-color: #800080\">/root/datasets2/reconcycle/2023-05-23_synthetic_dataset/output/labelme/</span><span style=\"color: #ff00ff; text-decoration-color: #ff00ff\">00000067.json</span>\n",
       "</pre>\n"
      ],
      "text/plain": [
       "json_path \u001b[35m/root/datasets2/reconcycle/2023-05-23_synthetic_dataset/output/labelme/\u001b[0m\u001b[95m00000067.json\u001b[0m\n"
      ]
     },
     "metadata": {},
     "output_type": "display_data"
    },
    {
     "data": {
      "text/html": [
       "<pre style=\"white-space:pre;overflow-x:auto;line-height:normal;font-family:Menlo,'DejaVu Sans Mono',consolas,'Courier New',monospace\">colour_img_path <span style=\"color: #800080; text-decoration-color: #800080\">/root/datasets2/reconcycle/2023-05-23_synthetic_dataset/output/images/</span><span style=\"color: #ff00ff; text-decoration-color: #ff00ff\">00000067.jpg</span>\n",
       "</pre>\n"
      ],
      "text/plain": [
       "colour_img_path \u001b[35m/root/datasets2/reconcycle/2023-05-23_synthetic_dataset/output/images/\u001b[0m\u001b[95m00000067.jpg\u001b[0m\n"
      ]
     },
     "metadata": {},
     "output_type": "display_data"
    },
    {
     "data": {
      "text/html": [
       "<pre style=\"white-space:pre;overflow-x:auto;line-height:normal;font-family:Menlo,'DejaVu Sans Mono',consolas,'Courier New',monospace\">graph relations:\n",
       "</pre>\n"
      ],
      "text/plain": [
       "graph relations:\n"
      ]
     },
     "metadata": {},
     "output_type": "display_data"
    },
    {
     "data": {
      "text/html": [
       "<pre style=\"white-space:pre;overflow-x:auto;line-height:normal;font-family:Menlo,'DejaVu Sans Mono',consolas,'Courier New',monospace\">Device <span style=\"color: #008080; text-decoration-color: #008080; font-weight: bold\">1</span>: \n",
       "plastic_clip in hca_back\n",
       "pcb_covered in hca_back\n",
       "plastic_clip next to pcb_covered\n",
       "pcb_covered next to plastic_clip\n",
       "\n",
       "Device <span style=\"color: #008080; text-decoration-color: #008080; font-weight: bold\">2</span>: \n",
       "pcb_covered in hca_back\n",
       "\n",
       "</pre>\n"
      ],
      "text/plain": [
       "Device \u001b[1;36m1\u001b[0m: \n",
       "plastic_clip in hca_back\n",
       "pcb_covered in hca_back\n",
       "plastic_clip next to pcb_covered\n",
       "pcb_covered next to plastic_clip\n",
       "\n",
       "Device \u001b[1;36m2\u001b[0m: \n",
       "pcb_covered in hca_back\n",
       "\n"
      ]
     },
     "metadata": {},
     "output_type": "display_data"
    },
    {
     "name": "stderr",
     "output_type": "stream",
     "text": [
      "00000068:  63%|██████▎   | 63/100 [00:01<00:00, 39.55it/s]"
     ]
    },
    {
     "data": {
      "text/html": [
       "<pre style=\"white-space:pre;overflow-x:auto;line-height:normal;font-family:Menlo,'DejaVu Sans Mono',consolas,'Courier New',monospace\">json_path <span style=\"color: #800080; text-decoration-color: #800080\">/root/datasets2/reconcycle/2023-05-23_synthetic_dataset/output/labelme/</span><span style=\"color: #ff00ff; text-decoration-color: #ff00ff\">00000068.json</span>\n",
       "</pre>\n"
      ],
      "text/plain": [
       "json_path \u001b[35m/root/datasets2/reconcycle/2023-05-23_synthetic_dataset/output/labelme/\u001b[0m\u001b[95m00000068.json\u001b[0m\n"
      ]
     },
     "metadata": {},
     "output_type": "display_data"
    },
    {
     "data": {
      "text/html": [
       "<pre style=\"white-space:pre;overflow-x:auto;line-height:normal;font-family:Menlo,'DejaVu Sans Mono',consolas,'Courier New',monospace\">colour_img_path <span style=\"color: #800080; text-decoration-color: #800080\">/root/datasets2/reconcycle/2023-05-23_synthetic_dataset/output/images/</span><span style=\"color: #ff00ff; text-decoration-color: #ff00ff\">00000068.jpg</span>\n",
       "</pre>\n"
      ],
      "text/plain": [
       "colour_img_path \u001b[35m/root/datasets2/reconcycle/2023-05-23_synthetic_dataset/output/images/\u001b[0m\u001b[95m00000068.jpg\u001b[0m\n"
      ]
     },
     "metadata": {},
     "output_type": "display_data"
    },
    {
     "data": {
      "text/html": [
       "<pre style=\"white-space:pre;overflow-x:auto;line-height:normal;font-family:Menlo,'DejaVu Sans Mono',consolas,'Courier New',monospace\">graph relations:\n",
       "</pre>\n"
      ],
      "text/plain": [
       "graph relations:\n"
      ]
     },
     "metadata": {},
     "output_type": "display_data"
    },
    {
     "data": {
      "text/html": [
       "<pre style=\"white-space:pre;overflow-x:auto;line-height:normal;font-family:Menlo,'DejaVu Sans Mono',consolas,'Courier New',monospace\">Device <span style=\"color: #008080; text-decoration-color: #008080; font-weight: bold\">1</span>: \n",
       "firealarm_front\n",
       "</pre>\n"
      ],
      "text/plain": [
       "Device \u001b[1;36m1\u001b[0m: \n",
       "firealarm_front\n"
      ]
     },
     "metadata": {},
     "output_type": "display_data"
    },
    {
     "name": "stderr",
     "output_type": "stream",
     "text": [
      "00000069:  68%|██████▊   | 68/100 [00:01<00:00, 40.28it/s]"
     ]
    },
    {
     "data": {
      "text/html": [
       "<pre style=\"white-space:pre;overflow-x:auto;line-height:normal;font-family:Menlo,'DejaVu Sans Mono',consolas,'Courier New',monospace\">json_path <span style=\"color: #800080; text-decoration-color: #800080\">/root/datasets2/reconcycle/2023-05-23_synthetic_dataset/output/labelme/</span><span style=\"color: #ff00ff; text-decoration-color: #ff00ff\">00000069.json</span>\n",
       "</pre>\n"
      ],
      "text/plain": [
       "json_path \u001b[35m/root/datasets2/reconcycle/2023-05-23_synthetic_dataset/output/labelme/\u001b[0m\u001b[95m00000069.json\u001b[0m\n"
      ]
     },
     "metadata": {},
     "output_type": "display_data"
    },
    {
     "data": {
      "text/html": [
       "<pre style=\"white-space:pre;overflow-x:auto;line-height:normal;font-family:Menlo,'DejaVu Sans Mono',consolas,'Courier New',monospace\">colour_img_path <span style=\"color: #800080; text-decoration-color: #800080\">/root/datasets2/reconcycle/2023-05-23_synthetic_dataset/output/images/</span><span style=\"color: #ff00ff; text-decoration-color: #ff00ff\">00000069.jpg</span>\n",
       "</pre>\n"
      ],
      "text/plain": [
       "colour_img_path \u001b[35m/root/datasets2/reconcycle/2023-05-23_synthetic_dataset/output/images/\u001b[0m\u001b[95m00000069.jpg\u001b[0m\n"
      ]
     },
     "metadata": {},
     "output_type": "display_data"
    },
    {
     "data": {
      "text/html": [
       "<pre style=\"white-space:pre;overflow-x:auto;line-height:normal;font-family:Menlo,'DejaVu Sans Mono',consolas,'Courier New',monospace\">graph relations:\n",
       "</pre>\n"
      ],
      "text/plain": [
       "graph relations:\n"
      ]
     },
     "metadata": {},
     "output_type": "display_data"
    },
    {
     "data": {
      "text/html": [
       "<pre style=\"white-space:pre;overflow-x:auto;line-height:normal;font-family:Menlo,'DejaVu Sans Mono',consolas,'Courier New',monospace\">Device <span style=\"color: #008080; text-decoration-color: #008080; font-weight: bold\">1</span>: \n",
       "pcb in internals\n",
       "battery in internals\n",
       "battery in pcb\n",
       "\n",
       "Device <span style=\"color: #008080; text-decoration-color: #008080; font-weight: bold\">2</span>: \n",
       "internals\n",
       "</pre>\n"
      ],
      "text/plain": [
       "Device \u001b[1;36m1\u001b[0m: \n",
       "pcb in internals\n",
       "battery in internals\n",
       "battery in pcb\n",
       "\n",
       "Device \u001b[1;36m2\u001b[0m: \n",
       "internals\n"
      ]
     },
     "metadata": {},
     "output_type": "display_data"
    },
    {
     "name": "stderr",
     "output_type": "stream",
     "text": [
      "00000070:  68%|██████▊   | 68/100 [00:01<00:00, 40.28it/s]"
     ]
    },
    {
     "data": {
      "text/html": [
       "<pre style=\"white-space:pre;overflow-x:auto;line-height:normal;font-family:Menlo,'DejaVu Sans Mono',consolas,'Courier New',monospace\">json_path <span style=\"color: #800080; text-decoration-color: #800080\">/root/datasets2/reconcycle/2023-05-23_synthetic_dataset/output/labelme/</span><span style=\"color: #ff00ff; text-decoration-color: #ff00ff\">00000070.json</span>\n",
       "</pre>\n"
      ],
      "text/plain": [
       "json_path \u001b[35m/root/datasets2/reconcycle/2023-05-23_synthetic_dataset/output/labelme/\u001b[0m\u001b[95m00000070.json\u001b[0m\n"
      ]
     },
     "metadata": {},
     "output_type": "display_data"
    },
    {
     "data": {
      "text/html": [
       "<pre style=\"white-space:pre;overflow-x:auto;line-height:normal;font-family:Menlo,'DejaVu Sans Mono',consolas,'Courier New',monospace\">colour_img_path <span style=\"color: #800080; text-decoration-color: #800080\">/root/datasets2/reconcycle/2023-05-23_synthetic_dataset/output/images/</span><span style=\"color: #ff00ff; text-decoration-color: #ff00ff\">00000070.jpg</span>\n",
       "</pre>\n"
      ],
      "text/plain": [
       "colour_img_path \u001b[35m/root/datasets2/reconcycle/2023-05-23_synthetic_dataset/output/images/\u001b[0m\u001b[95m00000070.jpg\u001b[0m\n"
      ]
     },
     "metadata": {},
     "output_type": "display_data"
    },
    {
     "data": {
      "text/html": [
       "<pre style=\"white-space:pre;overflow-x:auto;line-height:normal;font-family:Menlo,'DejaVu Sans Mono',consolas,'Courier New',monospace\">graph relations:\n",
       "</pre>\n"
      ],
      "text/plain": [
       "graph relations:\n"
      ]
     },
     "metadata": {},
     "output_type": "display_data"
    },
    {
     "data": {
      "text/html": [
       "<pre style=\"white-space:pre;overflow-x:auto;line-height:normal;font-family:Menlo,'DejaVu Sans Mono',consolas,'Courier New',monospace\">Device <span style=\"color: #008080; text-decoration-color: #008080; font-weight: bold\">1</span>: \n",
       "battery_covered in firealarm_back\n",
       "firealarm_back next to hca_back\n",
       "hca_back next to firealarm_back\n",
       "plastic_clip in hca_back\n",
       "pcb_covered in hca_back\n",
       "plastic_clip next to pcb_covered\n",
       "pcb_covered next to plastic_clip\n",
       "\n",
       "</pre>\n"
      ],
      "text/plain": [
       "Device \u001b[1;36m1\u001b[0m: \n",
       "battery_covered in firealarm_back\n",
       "firealarm_back next to hca_back\n",
       "hca_back next to firealarm_back\n",
       "plastic_clip in hca_back\n",
       "pcb_covered in hca_back\n",
       "plastic_clip next to pcb_covered\n",
       "pcb_covered next to plastic_clip\n",
       "\n"
      ]
     },
     "metadata": {},
     "output_type": "display_data"
    },
    {
     "name": "stderr",
     "output_type": "stream",
     "text": [
      "00000071:  68%|██████▊   | 68/100 [00:01<00:00, 40.28it/s]"
     ]
    },
    {
     "data": {
      "text/html": [
       "<pre style=\"white-space:pre;overflow-x:auto;line-height:normal;font-family:Menlo,'DejaVu Sans Mono',consolas,'Courier New',monospace\">json_path <span style=\"color: #800080; text-decoration-color: #800080\">/root/datasets2/reconcycle/2023-05-23_synthetic_dataset/output/labelme/</span><span style=\"color: #ff00ff; text-decoration-color: #ff00ff\">00000071.json</span>\n",
       "</pre>\n"
      ],
      "text/plain": [
       "json_path \u001b[35m/root/datasets2/reconcycle/2023-05-23_synthetic_dataset/output/labelme/\u001b[0m\u001b[95m00000071.json\u001b[0m\n"
      ]
     },
     "metadata": {},
     "output_type": "display_data"
    },
    {
     "data": {
      "text/html": [
       "<pre style=\"white-space:pre;overflow-x:auto;line-height:normal;font-family:Menlo,'DejaVu Sans Mono',consolas,'Courier New',monospace\">colour_img_path <span style=\"color: #800080; text-decoration-color: #800080\">/root/datasets2/reconcycle/2023-05-23_synthetic_dataset/output/images/</span><span style=\"color: #ff00ff; text-decoration-color: #ff00ff\">00000071.jpg</span>\n",
       "</pre>\n"
      ],
      "text/plain": [
       "colour_img_path \u001b[35m/root/datasets2/reconcycle/2023-05-23_synthetic_dataset/output/images/\u001b[0m\u001b[95m00000071.jpg\u001b[0m\n"
      ]
     },
     "metadata": {},
     "output_type": "display_data"
    },
    {
     "data": {
      "text/html": [
       "<pre style=\"white-space:pre;overflow-x:auto;line-height:normal;font-family:Menlo,'DejaVu Sans Mono',consolas,'Courier New',monospace\">graph relations:\n",
       "</pre>\n"
      ],
      "text/plain": [
       "graph relations:\n"
      ]
     },
     "metadata": {},
     "output_type": "display_data"
    },
    {
     "data": {
      "text/html": [
       "<pre style=\"white-space:pre;overflow-x:auto;line-height:normal;font-family:Menlo,'DejaVu Sans Mono',consolas,'Courier New',monospace\">Device <span style=\"color: #008080; text-decoration-color: #008080; font-weight: bold\">1</span>: \n",
       "pcb in internals\n",
       "battery in internals\n",
       "battery in pcb\n",
       "\n",
       "</pre>\n"
      ],
      "text/plain": [
       "Device \u001b[1;36m1\u001b[0m: \n",
       "pcb in internals\n",
       "battery in internals\n",
       "battery in pcb\n",
       "\n"
      ]
     },
     "metadata": {},
     "output_type": "display_data"
    },
    {
     "name": "stderr",
     "output_type": "stream",
     "text": [
      "00000072:  68%|██████▊   | 68/100 [00:01<00:00, 40.28it/s]"
     ]
    },
    {
     "data": {
      "text/html": [
       "<pre style=\"white-space:pre;overflow-x:auto;line-height:normal;font-family:Menlo,'DejaVu Sans Mono',consolas,'Courier New',monospace\">json_path <span style=\"color: #800080; text-decoration-color: #800080\">/root/datasets2/reconcycle/2023-05-23_synthetic_dataset/output/labelme/</span><span style=\"color: #ff00ff; text-decoration-color: #ff00ff\">00000072.json</span>\n",
       "</pre>\n"
      ],
      "text/plain": [
       "json_path \u001b[35m/root/datasets2/reconcycle/2023-05-23_synthetic_dataset/output/labelme/\u001b[0m\u001b[95m00000072.json\u001b[0m\n"
      ]
     },
     "metadata": {},
     "output_type": "display_data"
    },
    {
     "data": {
      "text/html": [
       "<pre style=\"white-space:pre;overflow-x:auto;line-height:normal;font-family:Menlo,'DejaVu Sans Mono',consolas,'Courier New',monospace\">colour_img_path <span style=\"color: #800080; text-decoration-color: #800080\">/root/datasets2/reconcycle/2023-05-23_synthetic_dataset/output/images/</span><span style=\"color: #ff00ff; text-decoration-color: #ff00ff\">00000072.jpg</span>\n",
       "</pre>\n"
      ],
      "text/plain": [
       "colour_img_path \u001b[35m/root/datasets2/reconcycle/2023-05-23_synthetic_dataset/output/images/\u001b[0m\u001b[95m00000072.jpg\u001b[0m\n"
      ]
     },
     "metadata": {},
     "output_type": "display_data"
    },
    {
     "data": {
      "text/html": [
       "<pre style=\"white-space:pre;overflow-x:auto;line-height:normal;font-family:Menlo,'DejaVu Sans Mono',consolas,'Courier New',monospace\">graph relations:\n",
       "</pre>\n"
      ],
      "text/plain": [
       "graph relations:\n"
      ]
     },
     "metadata": {},
     "output_type": "display_data"
    },
    {
     "data": {
      "text/html": [
       "<pre style=\"white-space:pre;overflow-x:auto;line-height:normal;font-family:Menlo,'DejaVu Sans Mono',consolas,'Courier New',monospace\">Device <span style=\"color: #008080; text-decoration-color: #008080; font-weight: bold\">1</span>: \n",
       "pcb_covered in hca_back\n",
       "\n",
       "Device <span style=\"color: #008080; text-decoration-color: #008080; font-weight: bold\">2</span>: \n",
       "battery_covered in firealarm_back\n",
       "\n",
       "</pre>\n"
      ],
      "text/plain": [
       "Device \u001b[1;36m1\u001b[0m: \n",
       "pcb_covered in hca_back\n",
       "\n",
       "Device \u001b[1;36m2\u001b[0m: \n",
       "battery_covered in firealarm_back\n",
       "\n"
      ]
     },
     "metadata": {},
     "output_type": "display_data"
    },
    {
     "name": "stderr",
     "output_type": "stream",
     "text": [
      "00000073:  68%|██████▊   | 68/100 [00:01<00:00, 40.28it/s]"
     ]
    },
    {
     "data": {
      "text/html": [
       "<pre style=\"white-space:pre;overflow-x:auto;line-height:normal;font-family:Menlo,'DejaVu Sans Mono',consolas,'Courier New',monospace\">json_path <span style=\"color: #800080; text-decoration-color: #800080\">/root/datasets2/reconcycle/2023-05-23_synthetic_dataset/output/labelme/</span><span style=\"color: #ff00ff; text-decoration-color: #ff00ff\">00000073.json</span>\n",
       "</pre>\n"
      ],
      "text/plain": [
       "json_path \u001b[35m/root/datasets2/reconcycle/2023-05-23_synthetic_dataset/output/labelme/\u001b[0m\u001b[95m00000073.json\u001b[0m\n"
      ]
     },
     "metadata": {},
     "output_type": "display_data"
    },
    {
     "data": {
      "text/html": [
       "<pre style=\"white-space:pre;overflow-x:auto;line-height:normal;font-family:Menlo,'DejaVu Sans Mono',consolas,'Courier New',monospace\">colour_img_path <span style=\"color: #800080; text-decoration-color: #800080\">/root/datasets2/reconcycle/2023-05-23_synthetic_dataset/output/images/</span><span style=\"color: #ff00ff; text-decoration-color: #ff00ff\">00000073.jpg</span>\n",
       "</pre>\n"
      ],
      "text/plain": [
       "colour_img_path \u001b[35m/root/datasets2/reconcycle/2023-05-23_synthetic_dataset/output/images/\u001b[0m\u001b[95m00000073.jpg\u001b[0m\n"
      ]
     },
     "metadata": {},
     "output_type": "display_data"
    },
    {
     "data": {
      "text/html": [
       "<pre style=\"white-space:pre;overflow-x:auto;line-height:normal;font-family:Menlo,'DejaVu Sans Mono',consolas,'Courier New',monospace\">graph relations:\n",
       "</pre>\n"
      ],
      "text/plain": [
       "graph relations:\n"
      ]
     },
     "metadata": {},
     "output_type": "display_data"
    },
    {
     "data": {
      "text/html": [
       "<pre style=\"white-space:pre;overflow-x:auto;line-height:normal;font-family:Menlo,'DejaVu Sans Mono',consolas,'Courier New',monospace\">Device <span style=\"color: #008080; text-decoration-color: #008080; font-weight: bold\">1</span>: \n",
       "battery in internals\n",
       "\n",
       "</pre>\n"
      ],
      "text/plain": [
       "Device \u001b[1;36m1\u001b[0m: \n",
       "battery in internals\n",
       "\n"
      ]
     },
     "metadata": {},
     "output_type": "display_data"
    },
    {
     "name": "stderr",
     "output_type": "stream",
     "text": [
      "00000074:  73%|███████▎  | 73/100 [00:01<00:00, 40.09it/s]"
     ]
    },
    {
     "data": {
      "text/html": [
       "<pre style=\"white-space:pre;overflow-x:auto;line-height:normal;font-family:Menlo,'DejaVu Sans Mono',consolas,'Courier New',monospace\">json_path <span style=\"color: #800080; text-decoration-color: #800080\">/root/datasets2/reconcycle/2023-05-23_synthetic_dataset/output/labelme/</span><span style=\"color: #ff00ff; text-decoration-color: #ff00ff\">00000074.json</span>\n",
       "</pre>\n"
      ],
      "text/plain": [
       "json_path \u001b[35m/root/datasets2/reconcycle/2023-05-23_synthetic_dataset/output/labelme/\u001b[0m\u001b[95m00000074.json\u001b[0m\n"
      ]
     },
     "metadata": {},
     "output_type": "display_data"
    },
    {
     "data": {
      "text/html": [
       "<pre style=\"white-space:pre;overflow-x:auto;line-height:normal;font-family:Menlo,'DejaVu Sans Mono',consolas,'Courier New',monospace\">colour_img_path <span style=\"color: #800080; text-decoration-color: #800080\">/root/datasets2/reconcycle/2023-05-23_synthetic_dataset/output/images/</span><span style=\"color: #ff00ff; text-decoration-color: #ff00ff\">00000074.jpg</span>\n",
       "</pre>\n"
      ],
      "text/plain": [
       "colour_img_path \u001b[35m/root/datasets2/reconcycle/2023-05-23_synthetic_dataset/output/images/\u001b[0m\u001b[95m00000074.jpg\u001b[0m\n"
      ]
     },
     "metadata": {},
     "output_type": "display_data"
    },
    {
     "data": {
      "text/html": [
       "<pre style=\"white-space:pre;overflow-x:auto;line-height:normal;font-family:Menlo,'DejaVu Sans Mono',consolas,'Courier New',monospace\">graph relations:\n",
       "</pre>\n"
      ],
      "text/plain": [
       "graph relations:\n"
      ]
     },
     "metadata": {},
     "output_type": "display_data"
    },
    {
     "data": {
      "text/html": [
       "<pre style=\"white-space:pre;overflow-x:auto;line-height:normal;font-family:Menlo,'DejaVu Sans Mono',consolas,'Courier New',monospace\">Device <span style=\"color: #008080; text-decoration-color: #008080; font-weight: bold\">1</span>: \n",
       "firealarm_back\n",
       "</pre>\n"
      ],
      "text/plain": [
       "Device \u001b[1;36m1\u001b[0m: \n",
       "firealarm_back\n"
      ]
     },
     "metadata": {},
     "output_type": "display_data"
    },
    {
     "name": "stderr",
     "output_type": "stream",
     "text": [
      "00000075:  73%|███████▎  | 73/100 [00:01<00:00, 40.09it/s]"
     ]
    },
    {
     "data": {
      "text/html": [
       "<pre style=\"white-space:pre;overflow-x:auto;line-height:normal;font-family:Menlo,'DejaVu Sans Mono',consolas,'Courier New',monospace\">json_path <span style=\"color: #800080; text-decoration-color: #800080\">/root/datasets2/reconcycle/2023-05-23_synthetic_dataset/output/labelme/</span><span style=\"color: #ff00ff; text-decoration-color: #ff00ff\">00000075.json</span>\n",
       "</pre>\n"
      ],
      "text/plain": [
       "json_path \u001b[35m/root/datasets2/reconcycle/2023-05-23_synthetic_dataset/output/labelme/\u001b[0m\u001b[95m00000075.json\u001b[0m\n"
      ]
     },
     "metadata": {},
     "output_type": "display_data"
    },
    {
     "data": {
      "text/html": [
       "<pre style=\"white-space:pre;overflow-x:auto;line-height:normal;font-family:Menlo,'DejaVu Sans Mono',consolas,'Courier New',monospace\">colour_img_path <span style=\"color: #800080; text-decoration-color: #800080\">/root/datasets2/reconcycle/2023-05-23_synthetic_dataset/output/images/</span><span style=\"color: #ff00ff; text-decoration-color: #ff00ff\">00000075.jpg</span>\n",
       "</pre>\n"
      ],
      "text/plain": [
       "colour_img_path \u001b[35m/root/datasets2/reconcycle/2023-05-23_synthetic_dataset/output/images/\u001b[0m\u001b[95m00000075.jpg\u001b[0m\n"
      ]
     },
     "metadata": {},
     "output_type": "display_data"
    },
    {
     "data": {
      "text/html": [
       "<pre style=\"white-space:pre;overflow-x:auto;line-height:normal;font-family:Menlo,'DejaVu Sans Mono',consolas,'Courier New',monospace\">graph relations:\n",
       "</pre>\n"
      ],
      "text/plain": [
       "graph relations:\n"
      ]
     },
     "metadata": {},
     "output_type": "display_data"
    },
    {
     "data": {
      "text/html": [
       "<pre style=\"white-space:pre;overflow-x:auto;line-height:normal;font-family:Menlo,'DejaVu Sans Mono',consolas,'Courier New',monospace\">Device <span style=\"color: #008080; text-decoration-color: #008080; font-weight: bold\">1</span>: \n",
       "firealarm_front next to internals\n",
       "internals next to firealarm_front\n",
       "pcb in internals\n",
       "battery in internals\n",
       "\n",
       "</pre>\n"
      ],
      "text/plain": [
       "Device \u001b[1;36m1\u001b[0m: \n",
       "firealarm_front next to internals\n",
       "internals next to firealarm_front\n",
       "pcb in internals\n",
       "battery in internals\n",
       "\n"
      ]
     },
     "metadata": {},
     "output_type": "display_data"
    },
    {
     "name": "stderr",
     "output_type": "stream",
     "text": [
      "00000076:  73%|███████▎  | 73/100 [00:01<00:00, 40.09it/s]"
     ]
    },
    {
     "data": {
      "text/html": [
       "<pre style=\"white-space:pre;overflow-x:auto;line-height:normal;font-family:Menlo,'DejaVu Sans Mono',consolas,'Courier New',monospace\">json_path <span style=\"color: #800080; text-decoration-color: #800080\">/root/datasets2/reconcycle/2023-05-23_synthetic_dataset/output/labelme/</span><span style=\"color: #ff00ff; text-decoration-color: #ff00ff\">00000076.json</span>\n",
       "</pre>\n"
      ],
      "text/plain": [
       "json_path \u001b[35m/root/datasets2/reconcycle/2023-05-23_synthetic_dataset/output/labelme/\u001b[0m\u001b[95m00000076.json\u001b[0m\n"
      ]
     },
     "metadata": {},
     "output_type": "display_data"
    },
    {
     "data": {
      "text/html": [
       "<pre style=\"white-space:pre;overflow-x:auto;line-height:normal;font-family:Menlo,'DejaVu Sans Mono',consolas,'Courier New',monospace\">colour_img_path <span style=\"color: #800080; text-decoration-color: #800080\">/root/datasets2/reconcycle/2023-05-23_synthetic_dataset/output/images/</span><span style=\"color: #ff00ff; text-decoration-color: #ff00ff\">00000076.jpg</span>\n",
       "</pre>\n"
      ],
      "text/plain": [
       "colour_img_path \u001b[35m/root/datasets2/reconcycle/2023-05-23_synthetic_dataset/output/images/\u001b[0m\u001b[95m00000076.jpg\u001b[0m\n"
      ]
     },
     "metadata": {},
     "output_type": "display_data"
    },
    {
     "data": {
      "text/html": [
       "<pre style=\"white-space:pre;overflow-x:auto;line-height:normal;font-family:Menlo,'DejaVu Sans Mono',consolas,'Courier New',monospace\">graph relations:\n",
       "</pre>\n"
      ],
      "text/plain": [
       "graph relations:\n"
      ]
     },
     "metadata": {},
     "output_type": "display_data"
    },
    {
     "data": {
      "text/html": [
       "<pre style=\"white-space:pre;overflow-x:auto;line-height:normal;font-family:Menlo,'DejaVu Sans Mono',consolas,'Courier New',monospace\">Device <span style=\"color: #008080; text-decoration-color: #008080; font-weight: bold\">1</span>: \n",
       "pcb in hca_back\n",
       "battery in hca_back\n",
       "internals in hca_back\n",
       "pcb next to battery\n",
       "pcb next to internals\n",
       "battery next to pcb\n",
       "internals next to pcb\n",
       "\n",
       "</pre>\n"
      ],
      "text/plain": [
       "Device \u001b[1;36m1\u001b[0m: \n",
       "pcb in hca_back\n",
       "battery in hca_back\n",
       "internals in hca_back\n",
       "pcb next to battery\n",
       "pcb next to internals\n",
       "battery next to pcb\n",
       "internals next to pcb\n",
       "\n"
      ]
     },
     "metadata": {},
     "output_type": "display_data"
    },
    {
     "name": "stderr",
     "output_type": "stream",
     "text": [
      "00000077:  73%|███████▎  | 73/100 [00:01<00:00, 40.09it/s]"
     ]
    },
    {
     "data": {
      "text/html": [
       "<pre style=\"white-space:pre;overflow-x:auto;line-height:normal;font-family:Menlo,'DejaVu Sans Mono',consolas,'Courier New',monospace\">json_path <span style=\"color: #800080; text-decoration-color: #800080\">/root/datasets2/reconcycle/2023-05-23_synthetic_dataset/output/labelme/</span><span style=\"color: #ff00ff; text-decoration-color: #ff00ff\">00000077.json</span>\n",
       "</pre>\n"
      ],
      "text/plain": [
       "json_path \u001b[35m/root/datasets2/reconcycle/2023-05-23_synthetic_dataset/output/labelme/\u001b[0m\u001b[95m00000077.json\u001b[0m\n"
      ]
     },
     "metadata": {},
     "output_type": "display_data"
    },
    {
     "data": {
      "text/html": [
       "<pre style=\"white-space:pre;overflow-x:auto;line-height:normal;font-family:Menlo,'DejaVu Sans Mono',consolas,'Courier New',monospace\">colour_img_path <span style=\"color: #800080; text-decoration-color: #800080\">/root/datasets2/reconcycle/2023-05-23_synthetic_dataset/output/images/</span><span style=\"color: #ff00ff; text-decoration-color: #ff00ff\">00000077.jpg</span>\n",
       "</pre>\n"
      ],
      "text/plain": [
       "colour_img_path \u001b[35m/root/datasets2/reconcycle/2023-05-23_synthetic_dataset/output/images/\u001b[0m\u001b[95m00000077.jpg\u001b[0m\n"
      ]
     },
     "metadata": {},
     "output_type": "display_data"
    },
    {
     "data": {
      "text/html": [
       "<pre style=\"white-space:pre;overflow-x:auto;line-height:normal;font-family:Menlo,'DejaVu Sans Mono',consolas,'Courier New',monospace\">graph relations:\n",
       "</pre>\n"
      ],
      "text/plain": [
       "graph relations:\n"
      ]
     },
     "metadata": {},
     "output_type": "display_data"
    },
    {
     "data": {
      "text/html": [
       "<pre style=\"white-space:pre;overflow-x:auto;line-height:normal;font-family:Menlo,'DejaVu Sans Mono',consolas,'Courier New',monospace\">Device <span style=\"color: #008080; text-decoration-color: #008080; font-weight: bold\">1</span>: \n",
       "pcb in firealarm_back\n",
       "battery in firealarm_back\n",
       "battery in firealarm_back\n",
       "firealarm_back next to firealarm_front\n",
       "firealarm_front next to firealarm_back\n",
       "pcb in battery\n",
       "pcb in firealarm_front\n",
       "battery in pcb\n",
       "pcb next to battery\n",
       "battery next to pcb\n",
       "battery next to firealarm_front\n",
       "firealarm_front next to battery\n",
       "battery next to firealarm_front\n",
       "firealarm_front next to battery\n",
       "\n",
       "</pre>\n"
      ],
      "text/plain": [
       "Device \u001b[1;36m1\u001b[0m: \n",
       "pcb in firealarm_back\n",
       "battery in firealarm_back\n",
       "battery in firealarm_back\n",
       "firealarm_back next to firealarm_front\n",
       "firealarm_front next to firealarm_back\n",
       "pcb in battery\n",
       "pcb in firealarm_front\n",
       "battery in pcb\n",
       "pcb next to battery\n",
       "battery next to pcb\n",
       "battery next to firealarm_front\n",
       "firealarm_front next to battery\n",
       "battery next to firealarm_front\n",
       "firealarm_front next to battery\n",
       "\n"
      ]
     },
     "metadata": {},
     "output_type": "display_data"
    },
    {
     "name": "stderr",
     "output_type": "stream",
     "text": [
      "00000078:  73%|███████▎  | 73/100 [00:01<00:00, 40.09it/s]"
     ]
    },
    {
     "data": {
      "text/html": [
       "<pre style=\"white-space:pre;overflow-x:auto;line-height:normal;font-family:Menlo,'DejaVu Sans Mono',consolas,'Courier New',monospace\">json_path <span style=\"color: #800080; text-decoration-color: #800080\">/root/datasets2/reconcycle/2023-05-23_synthetic_dataset/output/labelme/</span><span style=\"color: #ff00ff; text-decoration-color: #ff00ff\">00000078.json</span>\n",
       "</pre>\n"
      ],
      "text/plain": [
       "json_path \u001b[35m/root/datasets2/reconcycle/2023-05-23_synthetic_dataset/output/labelme/\u001b[0m\u001b[95m00000078.json\u001b[0m\n"
      ]
     },
     "metadata": {},
     "output_type": "display_data"
    },
    {
     "data": {
      "text/html": [
       "<pre style=\"white-space:pre;overflow-x:auto;line-height:normal;font-family:Menlo,'DejaVu Sans Mono',consolas,'Courier New',monospace\">colour_img_path <span style=\"color: #800080; text-decoration-color: #800080\">/root/datasets2/reconcycle/2023-05-23_synthetic_dataset/output/images/</span><span style=\"color: #ff00ff; text-decoration-color: #ff00ff\">00000078.jpg</span>\n",
       "</pre>\n"
      ],
      "text/plain": [
       "colour_img_path \u001b[35m/root/datasets2/reconcycle/2023-05-23_synthetic_dataset/output/images/\u001b[0m\u001b[95m00000078.jpg\u001b[0m\n"
      ]
     },
     "metadata": {},
     "output_type": "display_data"
    },
    {
     "data": {
      "text/html": [
       "<pre style=\"white-space:pre;overflow-x:auto;line-height:normal;font-family:Menlo,'DejaVu Sans Mono',consolas,'Courier New',monospace\">graph relations:\n",
       "</pre>\n"
      ],
      "text/plain": [
       "graph relations:\n"
      ]
     },
     "metadata": {},
     "output_type": "display_data"
    },
    {
     "data": {
      "text/html": [
       "<pre style=\"white-space:pre;overflow-x:auto;line-height:normal;font-family:Menlo,'DejaVu Sans Mono',consolas,'Courier New',monospace\">Device <span style=\"color: #008080; text-decoration-color: #008080; font-weight: bold\">1</span>: \n",
       "firealarm_back\n",
       "</pre>\n"
      ],
      "text/plain": [
       "Device \u001b[1;36m1\u001b[0m: \n",
       "firealarm_back\n"
      ]
     },
     "metadata": {},
     "output_type": "display_data"
    },
    {
     "name": "stderr",
     "output_type": "stream",
     "text": [
      "00000079:  78%|███████▊  | 78/100 [00:01<00:00, 37.69it/s]"
     ]
    },
    {
     "data": {
      "text/html": [
       "<pre style=\"white-space:pre;overflow-x:auto;line-height:normal;font-family:Menlo,'DejaVu Sans Mono',consolas,'Courier New',monospace\">json_path <span style=\"color: #800080; text-decoration-color: #800080\">/root/datasets2/reconcycle/2023-05-23_synthetic_dataset/output/labelme/</span><span style=\"color: #ff00ff; text-decoration-color: #ff00ff\">00000079.json</span>\n",
       "</pre>\n"
      ],
      "text/plain": [
       "json_path \u001b[35m/root/datasets2/reconcycle/2023-05-23_synthetic_dataset/output/labelme/\u001b[0m\u001b[95m00000079.json\u001b[0m\n"
      ]
     },
     "metadata": {},
     "output_type": "display_data"
    },
    {
     "data": {
      "text/html": [
       "<pre style=\"white-space:pre;overflow-x:auto;line-height:normal;font-family:Menlo,'DejaVu Sans Mono',consolas,'Courier New',monospace\">colour_img_path <span style=\"color: #800080; text-decoration-color: #800080\">/root/datasets2/reconcycle/2023-05-23_synthetic_dataset/output/images/</span><span style=\"color: #ff00ff; text-decoration-color: #ff00ff\">00000079.jpg</span>\n",
       "</pre>\n"
      ],
      "text/plain": [
       "colour_img_path \u001b[35m/root/datasets2/reconcycle/2023-05-23_synthetic_dataset/output/images/\u001b[0m\u001b[95m00000079.jpg\u001b[0m\n"
      ]
     },
     "metadata": {},
     "output_type": "display_data"
    },
    {
     "data": {
      "text/html": [
       "<pre style=\"white-space:pre;overflow-x:auto;line-height:normal;font-family:Menlo,'DejaVu Sans Mono',consolas,'Courier New',monospace\">graph relations:\n",
       "</pre>\n"
      ],
      "text/plain": [
       "graph relations:\n"
      ]
     },
     "metadata": {},
     "output_type": "display_data"
    },
    {
     "data": {
      "text/html": [
       "<pre style=\"white-space:pre;overflow-x:auto;line-height:normal;font-family:Menlo,'DejaVu Sans Mono',consolas,'Courier New',monospace\">Device <span style=\"color: #008080; text-decoration-color: #008080; font-weight: bold\">1</span>: \n",
       "pcb in hca_back\n",
       "battery in hca_back\n",
       "pcb next to battery\n",
       "battery next to pcb\n",
       "\n",
       "Device <span style=\"color: #008080; text-decoration-color: #008080; font-weight: bold\">2</span>: \n",
       "firealarm_back\n",
       "</pre>\n"
      ],
      "text/plain": [
       "Device \u001b[1;36m1\u001b[0m: \n",
       "pcb in hca_back\n",
       "battery in hca_back\n",
       "pcb next to battery\n",
       "battery next to pcb\n",
       "\n",
       "Device \u001b[1;36m2\u001b[0m: \n",
       "firealarm_back\n"
      ]
     },
     "metadata": {},
     "output_type": "display_data"
    },
    {
     "name": "stderr",
     "output_type": "stream",
     "text": [
      "00000080:  78%|███████▊  | 78/100 [00:01<00:00, 37.69it/s]"
     ]
    },
    {
     "data": {
      "text/html": [
       "<pre style=\"white-space:pre;overflow-x:auto;line-height:normal;font-family:Menlo,'DejaVu Sans Mono',consolas,'Courier New',monospace\">json_path <span style=\"color: #800080; text-decoration-color: #800080\">/root/datasets2/reconcycle/2023-05-23_synthetic_dataset/output/labelme/</span><span style=\"color: #ff00ff; text-decoration-color: #ff00ff\">00000080.json</span>\n",
       "</pre>\n"
      ],
      "text/plain": [
       "json_path \u001b[35m/root/datasets2/reconcycle/2023-05-23_synthetic_dataset/output/labelme/\u001b[0m\u001b[95m00000080.json\u001b[0m\n"
      ]
     },
     "metadata": {},
     "output_type": "display_data"
    },
    {
     "data": {
      "text/html": [
       "<pre style=\"white-space:pre;overflow-x:auto;line-height:normal;font-family:Menlo,'DejaVu Sans Mono',consolas,'Courier New',monospace\">colour_img_path <span style=\"color: #800080; text-decoration-color: #800080\">/root/datasets2/reconcycle/2023-05-23_synthetic_dataset/output/images/</span><span style=\"color: #ff00ff; text-decoration-color: #ff00ff\">00000080.jpg</span>\n",
       "</pre>\n"
      ],
      "text/plain": [
       "colour_img_path \u001b[35m/root/datasets2/reconcycle/2023-05-23_synthetic_dataset/output/images/\u001b[0m\u001b[95m00000080.jpg\u001b[0m\n"
      ]
     },
     "metadata": {},
     "output_type": "display_data"
    },
    {
     "data": {
      "text/html": [
       "<pre style=\"white-space:pre;overflow-x:auto;line-height:normal;font-family:Menlo,'DejaVu Sans Mono',consolas,'Courier New',monospace\">graph relations:\n",
       "</pre>\n"
      ],
      "text/plain": [
       "graph relations:\n"
      ]
     },
     "metadata": {},
     "output_type": "display_data"
    },
    {
     "data": {
      "text/html": [
       "<pre style=\"white-space:pre;overflow-x:auto;line-height:normal;font-family:Menlo,'DejaVu Sans Mono',consolas,'Courier New',monospace\">Device <span style=\"color: #008080; text-decoration-color: #008080; font-weight: bold\">1</span>: \n",
       "plastic_clip in hca_back\n",
       "internals in hca_back\n",
       "plastic_clip next to internals\n",
       "internals next to plastic_clip\n",
       "\n",
       "</pre>\n"
      ],
      "text/plain": [
       "Device \u001b[1;36m1\u001b[0m: \n",
       "plastic_clip in hca_back\n",
       "internals in hca_back\n",
       "plastic_clip next to internals\n",
       "internals next to plastic_clip\n",
       "\n"
      ]
     },
     "metadata": {},
     "output_type": "display_data"
    },
    {
     "name": "stderr",
     "output_type": "stream",
     "text": [
      "00000081:  78%|███████▊  | 78/100 [00:01<00:00, 37.69it/s]"
     ]
    },
    {
     "data": {
      "text/html": [
       "<pre style=\"white-space:pre;overflow-x:auto;line-height:normal;font-family:Menlo,'DejaVu Sans Mono',consolas,'Courier New',monospace\">json_path <span style=\"color: #800080; text-decoration-color: #800080\">/root/datasets2/reconcycle/2023-05-23_synthetic_dataset/output/labelme/</span><span style=\"color: #ff00ff; text-decoration-color: #ff00ff\">00000081.json</span>\n",
       "</pre>\n"
      ],
      "text/plain": [
       "json_path \u001b[35m/root/datasets2/reconcycle/2023-05-23_synthetic_dataset/output/labelme/\u001b[0m\u001b[95m00000081.json\u001b[0m\n"
      ]
     },
     "metadata": {},
     "output_type": "display_data"
    },
    {
     "data": {
      "text/html": [
       "<pre style=\"white-space:pre;overflow-x:auto;line-height:normal;font-family:Menlo,'DejaVu Sans Mono',consolas,'Courier New',monospace\">colour_img_path <span style=\"color: #800080; text-decoration-color: #800080\">/root/datasets2/reconcycle/2023-05-23_synthetic_dataset/output/images/</span><span style=\"color: #ff00ff; text-decoration-color: #ff00ff\">00000081.jpg</span>\n",
       "</pre>\n"
      ],
      "text/plain": [
       "colour_img_path \u001b[35m/root/datasets2/reconcycle/2023-05-23_synthetic_dataset/output/images/\u001b[0m\u001b[95m00000081.jpg\u001b[0m\n"
      ]
     },
     "metadata": {},
     "output_type": "display_data"
    },
    {
     "data": {
      "text/html": [
       "<pre style=\"white-space:pre;overflow-x:auto;line-height:normal;font-family:Menlo,'DejaVu Sans Mono',consolas,'Courier New',monospace\">graph relations:\n",
       "</pre>\n"
      ],
      "text/plain": [
       "graph relations:\n"
      ]
     },
     "metadata": {},
     "output_type": "display_data"
    },
    {
     "data": {
      "text/html": [
       "<pre style=\"white-space:pre;overflow-x:auto;line-height:normal;font-family:Menlo,'DejaVu Sans Mono',consolas,'Courier New',monospace\">Device <span style=\"color: #008080; text-decoration-color: #008080; font-weight: bold\">1</span>: \n",
       "pcb in firealarm_back\n",
       "battery in firealarm_back\n",
       "battery in pcb\n",
       "\n",
       "</pre>\n"
      ],
      "text/plain": [
       "Device \u001b[1;36m1\u001b[0m: \n",
       "pcb in firealarm_back\n",
       "battery in firealarm_back\n",
       "battery in pcb\n",
       "\n"
      ]
     },
     "metadata": {},
     "output_type": "display_data"
    },
    {
     "name": "stderr",
     "output_type": "stream",
     "text": [
      "00000082:  78%|███████▊  | 78/100 [00:01<00:00, 37.69it/s]"
     ]
    },
    {
     "data": {
      "text/html": [
       "<pre style=\"white-space:pre;overflow-x:auto;line-height:normal;font-family:Menlo,'DejaVu Sans Mono',consolas,'Courier New',monospace\">json_path <span style=\"color: #800080; text-decoration-color: #800080\">/root/datasets2/reconcycle/2023-05-23_synthetic_dataset/output/labelme/</span><span style=\"color: #ff00ff; text-decoration-color: #ff00ff\">00000082.json</span>\n",
       "</pre>\n"
      ],
      "text/plain": [
       "json_path \u001b[35m/root/datasets2/reconcycle/2023-05-23_synthetic_dataset/output/labelme/\u001b[0m\u001b[95m00000082.json\u001b[0m\n"
      ]
     },
     "metadata": {},
     "output_type": "display_data"
    },
    {
     "data": {
      "text/html": [
       "<pre style=\"white-space:pre;overflow-x:auto;line-height:normal;font-family:Menlo,'DejaVu Sans Mono',consolas,'Courier New',monospace\">colour_img_path <span style=\"color: #800080; text-decoration-color: #800080\">/root/datasets2/reconcycle/2023-05-23_synthetic_dataset/output/images/</span><span style=\"color: #ff00ff; text-decoration-color: #ff00ff\">00000082.jpg</span>\n",
       "</pre>\n"
      ],
      "text/plain": [
       "colour_img_path \u001b[35m/root/datasets2/reconcycle/2023-05-23_synthetic_dataset/output/images/\u001b[0m\u001b[95m00000082.jpg\u001b[0m\n"
      ]
     },
     "metadata": {},
     "output_type": "display_data"
    },
    {
     "data": {
      "text/html": [
       "<pre style=\"white-space:pre;overflow-x:auto;line-height:normal;font-family:Menlo,'DejaVu Sans Mono',consolas,'Courier New',monospace\">graph relations:\n",
       "</pre>\n"
      ],
      "text/plain": [
       "graph relations:\n"
      ]
     },
     "metadata": {},
     "output_type": "display_data"
    },
    {
     "data": {
      "text/html": [
       "<pre style=\"white-space:pre;overflow-x:auto;line-height:normal;font-family:Menlo,'DejaVu Sans Mono',consolas,'Courier New',monospace\">Device <span style=\"color: #008080; text-decoration-color: #008080; font-weight: bold\">1</span>: \n",
       "firealarm_front\n",
       "Device <span style=\"color: #008080; text-decoration-color: #008080; font-weight: bold\">2</span>: \n",
       "firealarm_back\n",
       "</pre>\n"
      ],
      "text/plain": [
       "Device \u001b[1;36m1\u001b[0m: \n",
       "firealarm_front\n",
       "Device \u001b[1;36m2\u001b[0m: \n",
       "firealarm_back\n"
      ]
     },
     "metadata": {},
     "output_type": "display_data"
    },
    {
     "name": "stderr",
     "output_type": "stream",
     "text": [
      "00000083:  78%|███████▊  | 78/100 [00:02<00:00, 37.69it/s]"
     ]
    },
    {
     "data": {
      "text/html": [
       "<pre style=\"white-space:pre;overflow-x:auto;line-height:normal;font-family:Menlo,'DejaVu Sans Mono',consolas,'Courier New',monospace\">json_path <span style=\"color: #800080; text-decoration-color: #800080\">/root/datasets2/reconcycle/2023-05-23_synthetic_dataset/output/labelme/</span><span style=\"color: #ff00ff; text-decoration-color: #ff00ff\">00000083.json</span>\n",
       "</pre>\n"
      ],
      "text/plain": [
       "json_path \u001b[35m/root/datasets2/reconcycle/2023-05-23_synthetic_dataset/output/labelme/\u001b[0m\u001b[95m00000083.json\u001b[0m\n"
      ]
     },
     "metadata": {},
     "output_type": "display_data"
    },
    {
     "data": {
      "text/html": [
       "<pre style=\"white-space:pre;overflow-x:auto;line-height:normal;font-family:Menlo,'DejaVu Sans Mono',consolas,'Courier New',monospace\">colour_img_path <span style=\"color: #800080; text-decoration-color: #800080\">/root/datasets2/reconcycle/2023-05-23_synthetic_dataset/output/images/</span><span style=\"color: #ff00ff; text-decoration-color: #ff00ff\">00000083.jpg</span>\n",
       "</pre>\n"
      ],
      "text/plain": [
       "colour_img_path \u001b[35m/root/datasets2/reconcycle/2023-05-23_synthetic_dataset/output/images/\u001b[0m\u001b[95m00000083.jpg\u001b[0m\n"
      ]
     },
     "metadata": {},
     "output_type": "display_data"
    },
    {
     "data": {
      "text/html": [
       "<pre style=\"white-space:pre;overflow-x:auto;line-height:normal;font-family:Menlo,'DejaVu Sans Mono',consolas,'Courier New',monospace\">graph relations:\n",
       "</pre>\n"
      ],
      "text/plain": [
       "graph relations:\n"
      ]
     },
     "metadata": {},
     "output_type": "display_data"
    },
    {
     "data": {
      "text/html": [
       "<pre style=\"white-space:pre;overflow-x:auto;line-height:normal;font-family:Menlo,'DejaVu Sans Mono',consolas,'Courier New',monospace\">Device <span style=\"color: #008080; text-decoration-color: #008080; font-weight: bold\">1</span>: \n",
       "firealarm_back\n",
       "</pre>\n"
      ],
      "text/plain": [
       "Device \u001b[1;36m1\u001b[0m: \n",
       "firealarm_back\n"
      ]
     },
     "metadata": {},
     "output_type": "display_data"
    },
    {
     "name": "stderr",
     "output_type": "stream",
     "text": [
      "00000084:  83%|████████▎ | 83/100 [00:02<00:00, 39.29it/s]"
     ]
    },
    {
     "data": {
      "text/html": [
       "<pre style=\"white-space:pre;overflow-x:auto;line-height:normal;font-family:Menlo,'DejaVu Sans Mono',consolas,'Courier New',monospace\">json_path <span style=\"color: #800080; text-decoration-color: #800080\">/root/datasets2/reconcycle/2023-05-23_synthetic_dataset/output/labelme/</span><span style=\"color: #ff00ff; text-decoration-color: #ff00ff\">00000084.json</span>\n",
       "</pre>\n"
      ],
      "text/plain": [
       "json_path \u001b[35m/root/datasets2/reconcycle/2023-05-23_synthetic_dataset/output/labelme/\u001b[0m\u001b[95m00000084.json\u001b[0m\n"
      ]
     },
     "metadata": {},
     "output_type": "display_data"
    },
    {
     "data": {
      "text/html": [
       "<pre style=\"white-space:pre;overflow-x:auto;line-height:normal;font-family:Menlo,'DejaVu Sans Mono',consolas,'Courier New',monospace\">colour_img_path <span style=\"color: #800080; text-decoration-color: #800080\">/root/datasets2/reconcycle/2023-05-23_synthetic_dataset/output/images/</span><span style=\"color: #ff00ff; text-decoration-color: #ff00ff\">00000084.jpg</span>\n",
       "</pre>\n"
      ],
      "text/plain": [
       "colour_img_path \u001b[35m/root/datasets2/reconcycle/2023-05-23_synthetic_dataset/output/images/\u001b[0m\u001b[95m00000084.jpg\u001b[0m\n"
      ]
     },
     "metadata": {},
     "output_type": "display_data"
    },
    {
     "data": {
      "text/html": [
       "<pre style=\"white-space:pre;overflow-x:auto;line-height:normal;font-family:Menlo,'DejaVu Sans Mono',consolas,'Courier New',monospace\">graph relations:\n",
       "</pre>\n"
      ],
      "text/plain": [
       "graph relations:\n"
      ]
     },
     "metadata": {},
     "output_type": "display_data"
    },
    {
     "data": {
      "text/html": [
       "<pre style=\"white-space:pre;overflow-x:auto;line-height:normal;font-family:Menlo,'DejaVu Sans Mono',consolas,'Courier New',monospace\">Device <span style=\"color: #008080; text-decoration-color: #008080; font-weight: bold\">1</span>: \n",
       "pcb in hca_back\n",
       "battery in hca_back\n",
       "pcb next to battery\n",
       "battery next to pcb\n",
       "\n",
       "Device <span style=\"color: #008080; text-decoration-color: #008080; font-weight: bold\">2</span>: \n",
       "pcb_covered in hca_back\n",
       "\n",
       "</pre>\n"
      ],
      "text/plain": [
       "Device \u001b[1;36m1\u001b[0m: \n",
       "pcb in hca_back\n",
       "battery in hca_back\n",
       "pcb next to battery\n",
       "battery next to pcb\n",
       "\n",
       "Device \u001b[1;36m2\u001b[0m: \n",
       "pcb_covered in hca_back\n",
       "\n"
      ]
     },
     "metadata": {},
     "output_type": "display_data"
    },
    {
     "name": "stderr",
     "output_type": "stream",
     "text": [
      "00000085:  83%|████████▎ | 83/100 [00:02<00:00, 39.29it/s]"
     ]
    },
    {
     "data": {
      "text/html": [
       "<pre style=\"white-space:pre;overflow-x:auto;line-height:normal;font-family:Menlo,'DejaVu Sans Mono',consolas,'Courier New',monospace\">json_path <span style=\"color: #800080; text-decoration-color: #800080\">/root/datasets2/reconcycle/2023-05-23_synthetic_dataset/output/labelme/</span><span style=\"color: #ff00ff; text-decoration-color: #ff00ff\">00000085.json</span>\n",
       "</pre>\n"
      ],
      "text/plain": [
       "json_path \u001b[35m/root/datasets2/reconcycle/2023-05-23_synthetic_dataset/output/labelme/\u001b[0m\u001b[95m00000085.json\u001b[0m\n"
      ]
     },
     "metadata": {},
     "output_type": "display_data"
    },
    {
     "data": {
      "text/html": [
       "<pre style=\"white-space:pre;overflow-x:auto;line-height:normal;font-family:Menlo,'DejaVu Sans Mono',consolas,'Courier New',monospace\">colour_img_path <span style=\"color: #800080; text-decoration-color: #800080\">/root/datasets2/reconcycle/2023-05-23_synthetic_dataset/output/images/</span><span style=\"color: #ff00ff; text-decoration-color: #ff00ff\">00000085.jpg</span>\n",
       "</pre>\n"
      ],
      "text/plain": [
       "colour_img_path \u001b[35m/root/datasets2/reconcycle/2023-05-23_synthetic_dataset/output/images/\u001b[0m\u001b[95m00000085.jpg\u001b[0m\n"
      ]
     },
     "metadata": {},
     "output_type": "display_data"
    },
    {
     "data": {
      "text/html": [
       "<pre style=\"white-space:pre;overflow-x:auto;line-height:normal;font-family:Menlo,'DejaVu Sans Mono',consolas,'Courier New',monospace\">graph relations:\n",
       "</pre>\n"
      ],
      "text/plain": [
       "graph relations:\n"
      ]
     },
     "metadata": {},
     "output_type": "display_data"
    },
    {
     "data": {
      "text/html": [
       "<pre style=\"white-space:pre;overflow-x:auto;line-height:normal;font-family:Menlo,'DejaVu Sans Mono',consolas,'Courier New',monospace\">Device <span style=\"color: #008080; text-decoration-color: #008080; font-weight: bold\">1</span>: \n",
       "pcb_covered in hca_back\n",
       "\n",
       "</pre>\n"
      ],
      "text/plain": [
       "Device \u001b[1;36m1\u001b[0m: \n",
       "pcb_covered in hca_back\n",
       "\n"
      ]
     },
     "metadata": {},
     "output_type": "display_data"
    },
    {
     "name": "stderr",
     "output_type": "stream",
     "text": [
      "00000086:  83%|████████▎ | 83/100 [00:02<00:00, 39.29it/s]"
     ]
    },
    {
     "data": {
      "text/html": [
       "<pre style=\"white-space:pre;overflow-x:auto;line-height:normal;font-family:Menlo,'DejaVu Sans Mono',consolas,'Courier New',monospace\">json_path <span style=\"color: #800080; text-decoration-color: #800080\">/root/datasets2/reconcycle/2023-05-23_synthetic_dataset/output/labelme/</span><span style=\"color: #ff00ff; text-decoration-color: #ff00ff\">00000086.json</span>\n",
       "</pre>\n"
      ],
      "text/plain": [
       "json_path \u001b[35m/root/datasets2/reconcycle/2023-05-23_synthetic_dataset/output/labelme/\u001b[0m\u001b[95m00000086.json\u001b[0m\n"
      ]
     },
     "metadata": {},
     "output_type": "display_data"
    },
    {
     "data": {
      "text/html": [
       "<pre style=\"white-space:pre;overflow-x:auto;line-height:normal;font-family:Menlo,'DejaVu Sans Mono',consolas,'Courier New',monospace\">colour_img_path <span style=\"color: #800080; text-decoration-color: #800080\">/root/datasets2/reconcycle/2023-05-23_synthetic_dataset/output/images/</span><span style=\"color: #ff00ff; text-decoration-color: #ff00ff\">00000086.jpg</span>\n",
       "</pre>\n"
      ],
      "text/plain": [
       "colour_img_path \u001b[35m/root/datasets2/reconcycle/2023-05-23_synthetic_dataset/output/images/\u001b[0m\u001b[95m00000086.jpg\u001b[0m\n"
      ]
     },
     "metadata": {},
     "output_type": "display_data"
    },
    {
     "data": {
      "text/html": [
       "<pre style=\"white-space:pre;overflow-x:auto;line-height:normal;font-family:Menlo,'DejaVu Sans Mono',consolas,'Courier New',monospace\">graph relations:\n",
       "</pre>\n"
      ],
      "text/plain": [
       "graph relations:\n"
      ]
     },
     "metadata": {},
     "output_type": "display_data"
    },
    {
     "data": {
      "text/html": [
       "<pre style=\"white-space:pre;overflow-x:auto;line-height:normal;font-family:Menlo,'DejaVu Sans Mono',consolas,'Courier New',monospace\">Device <span style=\"color: #008080; text-decoration-color: #008080; font-weight: bold\">1</span>: \n",
       "internals in hca_back\n",
       "\n",
       "Device <span style=\"color: #008080; text-decoration-color: #008080; font-weight: bold\">2</span>: \n",
       "battery_covered in firealarm_back\n",
       "\n",
       "</pre>\n"
      ],
      "text/plain": [
       "Device \u001b[1;36m1\u001b[0m: \n",
       "internals in hca_back\n",
       "\n",
       "Device \u001b[1;36m2\u001b[0m: \n",
       "battery_covered in firealarm_back\n",
       "\n"
      ]
     },
     "metadata": {},
     "output_type": "display_data"
    },
    {
     "name": "stderr",
     "output_type": "stream",
     "text": [
      "00000087:  83%|████████▎ | 83/100 [00:02<00:00, 39.29it/s]"
     ]
    },
    {
     "data": {
      "text/html": [
       "<pre style=\"white-space:pre;overflow-x:auto;line-height:normal;font-family:Menlo,'DejaVu Sans Mono',consolas,'Courier New',monospace\">json_path <span style=\"color: #800080; text-decoration-color: #800080\">/root/datasets2/reconcycle/2023-05-23_synthetic_dataset/output/labelme/</span><span style=\"color: #ff00ff; text-decoration-color: #ff00ff\">00000087.json</span>\n",
       "</pre>\n"
      ],
      "text/plain": [
       "json_path \u001b[35m/root/datasets2/reconcycle/2023-05-23_synthetic_dataset/output/labelme/\u001b[0m\u001b[95m00000087.json\u001b[0m\n"
      ]
     },
     "metadata": {},
     "output_type": "display_data"
    },
    {
     "data": {
      "text/html": [
       "<pre style=\"white-space:pre;overflow-x:auto;line-height:normal;font-family:Menlo,'DejaVu Sans Mono',consolas,'Courier New',monospace\">colour_img_path <span style=\"color: #800080; text-decoration-color: #800080\">/root/datasets2/reconcycle/2023-05-23_synthetic_dataset/output/images/</span><span style=\"color: #ff00ff; text-decoration-color: #ff00ff\">00000087.jpg</span>\n",
       "</pre>\n"
      ],
      "text/plain": [
       "colour_img_path \u001b[35m/root/datasets2/reconcycle/2023-05-23_synthetic_dataset/output/images/\u001b[0m\u001b[95m00000087.jpg\u001b[0m\n"
      ]
     },
     "metadata": {},
     "output_type": "display_data"
    },
    {
     "data": {
      "text/html": [
       "<pre style=\"white-space:pre;overflow-x:auto;line-height:normal;font-family:Menlo,'DejaVu Sans Mono',consolas,'Courier New',monospace\">graph relations:\n",
       "</pre>\n"
      ],
      "text/plain": [
       "graph relations:\n"
      ]
     },
     "metadata": {},
     "output_type": "display_data"
    },
    {
     "data": {
      "text/html": [
       "<pre style=\"white-space:pre;overflow-x:auto;line-height:normal;font-family:Menlo,'DejaVu Sans Mono',consolas,'Courier New',monospace\">Device <span style=\"color: #008080; text-decoration-color: #008080; font-weight: bold\">1</span>: \n",
       "pcb in internals\n",
       "pcb in internals\n",
       "battery in internals\n",
       "internals next to firealarm_back\n",
       "firealarm_back next to internals\n",
       "pcb next to battery\n",
       "battery next to pcb\n",
       "pcb next to firealarm_back\n",
       "firealarm_back next to pcb\n",
       "battery next to firealarm_back\n",
       "firealarm_back next to battery\n",
       "\n",
       "</pre>\n"
      ],
      "text/plain": [
       "Device \u001b[1;36m1\u001b[0m: \n",
       "pcb in internals\n",
       "pcb in internals\n",
       "battery in internals\n",
       "internals next to firealarm_back\n",
       "firealarm_back next to internals\n",
       "pcb next to battery\n",
       "battery next to pcb\n",
       "pcb next to firealarm_back\n",
       "firealarm_back next to pcb\n",
       "battery next to firealarm_back\n",
       "firealarm_back next to battery\n",
       "\n"
      ]
     },
     "metadata": {},
     "output_type": "display_data"
    },
    {
     "name": "stderr",
     "output_type": "stream",
     "text": [
      "00000088:  87%|████████▋ | 87/100 [00:02<00:00, 38.83it/s]"
     ]
    },
    {
     "data": {
      "text/html": [
       "<pre style=\"white-space:pre;overflow-x:auto;line-height:normal;font-family:Menlo,'DejaVu Sans Mono',consolas,'Courier New',monospace\">json_path <span style=\"color: #800080; text-decoration-color: #800080\">/root/datasets2/reconcycle/2023-05-23_synthetic_dataset/output/labelme/</span><span style=\"color: #ff00ff; text-decoration-color: #ff00ff\">00000088.json</span>\n",
       "</pre>\n"
      ],
      "text/plain": [
       "json_path \u001b[35m/root/datasets2/reconcycle/2023-05-23_synthetic_dataset/output/labelme/\u001b[0m\u001b[95m00000088.json\u001b[0m\n"
      ]
     },
     "metadata": {},
     "output_type": "display_data"
    },
    {
     "data": {
      "text/html": [
       "<pre style=\"white-space:pre;overflow-x:auto;line-height:normal;font-family:Menlo,'DejaVu Sans Mono',consolas,'Courier New',monospace\">colour_img_path <span style=\"color: #800080; text-decoration-color: #800080\">/root/datasets2/reconcycle/2023-05-23_synthetic_dataset/output/images/</span><span style=\"color: #ff00ff; text-decoration-color: #ff00ff\">00000088.jpg</span>\n",
       "</pre>\n"
      ],
      "text/plain": [
       "colour_img_path \u001b[35m/root/datasets2/reconcycle/2023-05-23_synthetic_dataset/output/images/\u001b[0m\u001b[95m00000088.jpg\u001b[0m\n"
      ]
     },
     "metadata": {},
     "output_type": "display_data"
    },
    {
     "data": {
      "text/html": [
       "<pre style=\"white-space:pre;overflow-x:auto;line-height:normal;font-family:Menlo,'DejaVu Sans Mono',consolas,'Courier New',monospace\">graph relations:\n",
       "</pre>\n"
      ],
      "text/plain": [
       "graph relations:\n"
      ]
     },
     "metadata": {},
     "output_type": "display_data"
    },
    {
     "data": {
      "text/html": [
       "<pre style=\"white-space:pre;overflow-x:auto;line-height:normal;font-family:Menlo,'DejaVu Sans Mono',consolas,'Courier New',monospace\">Device <span style=\"color: #008080; text-decoration-color: #008080; font-weight: bold\">1</span>: \n",
       "pcb_covered in hca_back\n",
       "\n",
       "</pre>\n"
      ],
      "text/plain": [
       "Device \u001b[1;36m1\u001b[0m: \n",
       "pcb_covered in hca_back\n",
       "\n"
      ]
     },
     "metadata": {},
     "output_type": "display_data"
    },
    {
     "name": "stderr",
     "output_type": "stream",
     "text": [
      "00000089:  87%|████████▋ | 87/100 [00:02<00:00, 38.83it/s]"
     ]
    },
    {
     "data": {
      "text/html": [
       "<pre style=\"white-space:pre;overflow-x:auto;line-height:normal;font-family:Menlo,'DejaVu Sans Mono',consolas,'Courier New',monospace\">json_path <span style=\"color: #800080; text-decoration-color: #800080\">/root/datasets2/reconcycle/2023-05-23_synthetic_dataset/output/labelme/</span><span style=\"color: #ff00ff; text-decoration-color: #ff00ff\">00000089.json</span>\n",
       "</pre>\n"
      ],
      "text/plain": [
       "json_path \u001b[35m/root/datasets2/reconcycle/2023-05-23_synthetic_dataset/output/labelme/\u001b[0m\u001b[95m00000089.json\u001b[0m\n"
      ]
     },
     "metadata": {},
     "output_type": "display_data"
    },
    {
     "data": {
      "text/html": [
       "<pre style=\"white-space:pre;overflow-x:auto;line-height:normal;font-family:Menlo,'DejaVu Sans Mono',consolas,'Courier New',monospace\">colour_img_path <span style=\"color: #800080; text-decoration-color: #800080\">/root/datasets2/reconcycle/2023-05-23_synthetic_dataset/output/images/</span><span style=\"color: #ff00ff; text-decoration-color: #ff00ff\">00000089.jpg</span>\n",
       "</pre>\n"
      ],
      "text/plain": [
       "colour_img_path \u001b[35m/root/datasets2/reconcycle/2023-05-23_synthetic_dataset/output/images/\u001b[0m\u001b[95m00000089.jpg\u001b[0m\n"
      ]
     },
     "metadata": {},
     "output_type": "display_data"
    },
    {
     "data": {
      "text/html": [
       "<pre style=\"white-space:pre;overflow-x:auto;line-height:normal;font-family:Menlo,'DejaVu Sans Mono',consolas,'Courier New',monospace\">graph relations:\n",
       "</pre>\n"
      ],
      "text/plain": [
       "graph relations:\n"
      ]
     },
     "metadata": {},
     "output_type": "display_data"
    },
    {
     "data": {
      "text/html": [
       "<pre style=\"white-space:pre;overflow-x:auto;line-height:normal;font-family:Menlo,'DejaVu Sans Mono',consolas,'Courier New',monospace\">Device <span style=\"color: #008080; text-decoration-color: #008080; font-weight: bold\">1</span>: \n",
       "pcb in firealarm_back\n",
       "battery in firealarm_back\n",
       "battery in pcb\n",
       "\n",
       "</pre>\n"
      ],
      "text/plain": [
       "Device \u001b[1;36m1\u001b[0m: \n",
       "pcb in firealarm_back\n",
       "battery in firealarm_back\n",
       "battery in pcb\n",
       "\n"
      ]
     },
     "metadata": {},
     "output_type": "display_data"
    },
    {
     "name": "stderr",
     "output_type": "stream",
     "text": [
      "00000090:  87%|████████▋ | 87/100 [00:02<00:00, 38.83it/s]"
     ]
    },
    {
     "data": {
      "text/html": [
       "<pre style=\"white-space:pre;overflow-x:auto;line-height:normal;font-family:Menlo,'DejaVu Sans Mono',consolas,'Courier New',monospace\">json_path <span style=\"color: #800080; text-decoration-color: #800080\">/root/datasets2/reconcycle/2023-05-23_synthetic_dataset/output/labelme/</span><span style=\"color: #ff00ff; text-decoration-color: #ff00ff\">00000090.json</span>\n",
       "</pre>\n"
      ],
      "text/plain": [
       "json_path \u001b[35m/root/datasets2/reconcycle/2023-05-23_synthetic_dataset/output/labelme/\u001b[0m\u001b[95m00000090.json\u001b[0m\n"
      ]
     },
     "metadata": {},
     "output_type": "display_data"
    },
    {
     "data": {
      "text/html": [
       "<pre style=\"white-space:pre;overflow-x:auto;line-height:normal;font-family:Menlo,'DejaVu Sans Mono',consolas,'Courier New',monospace\">colour_img_path <span style=\"color: #800080; text-decoration-color: #800080\">/root/datasets2/reconcycle/2023-05-23_synthetic_dataset/output/images/</span><span style=\"color: #ff00ff; text-decoration-color: #ff00ff\">00000090.jpg</span>\n",
       "</pre>\n"
      ],
      "text/plain": [
       "colour_img_path \u001b[35m/root/datasets2/reconcycle/2023-05-23_synthetic_dataset/output/images/\u001b[0m\u001b[95m00000090.jpg\u001b[0m\n"
      ]
     },
     "metadata": {},
     "output_type": "display_data"
    },
    {
     "data": {
      "text/html": [
       "<pre style=\"white-space:pre;overflow-x:auto;line-height:normal;font-family:Menlo,'DejaVu Sans Mono',consolas,'Courier New',monospace\">graph relations:\n",
       "</pre>\n"
      ],
      "text/plain": [
       "graph relations:\n"
      ]
     },
     "metadata": {},
     "output_type": "display_data"
    },
    {
     "data": {
      "text/html": [
       "<pre style=\"white-space:pre;overflow-x:auto;line-height:normal;font-family:Menlo,'DejaVu Sans Mono',consolas,'Courier New',monospace\">Device <span style=\"color: #008080; text-decoration-color: #008080; font-weight: bold\">1</span>: \n",
       "pcb in firealarm_back\n",
       "battery in firealarm_back\n",
       "battery in firealarm_back\n",
       "battery in pcb\n",
       "battery in pcb\n",
       "\n",
       "Device <span style=\"color: #008080; text-decoration-color: #008080; font-weight: bold\">2</span>: \n",
       "firealarm_back\n",
       "</pre>\n"
      ],
      "text/plain": [
       "Device \u001b[1;36m1\u001b[0m: \n",
       "pcb in firealarm_back\n",
       "battery in firealarm_back\n",
       "battery in firealarm_back\n",
       "battery in pcb\n",
       "battery in pcb\n",
       "\n",
       "Device \u001b[1;36m2\u001b[0m: \n",
       "firealarm_back\n"
      ]
     },
     "metadata": {},
     "output_type": "display_data"
    },
    {
     "name": "stderr",
     "output_type": "stream",
     "text": [
      "00000091:  87%|████████▋ | 87/100 [00:02<00:00, 38.83it/s]"
     ]
    },
    {
     "data": {
      "text/html": [
       "<pre style=\"white-space:pre;overflow-x:auto;line-height:normal;font-family:Menlo,'DejaVu Sans Mono',consolas,'Courier New',monospace\">json_path <span style=\"color: #800080; text-decoration-color: #800080\">/root/datasets2/reconcycle/2023-05-23_synthetic_dataset/output/labelme/</span><span style=\"color: #ff00ff; text-decoration-color: #ff00ff\">00000091.json</span>\n",
       "</pre>\n"
      ],
      "text/plain": [
       "json_path \u001b[35m/root/datasets2/reconcycle/2023-05-23_synthetic_dataset/output/labelme/\u001b[0m\u001b[95m00000091.json\u001b[0m\n"
      ]
     },
     "metadata": {},
     "output_type": "display_data"
    },
    {
     "data": {
      "text/html": [
       "<pre style=\"white-space:pre;overflow-x:auto;line-height:normal;font-family:Menlo,'DejaVu Sans Mono',consolas,'Courier New',monospace\">colour_img_path <span style=\"color: #800080; text-decoration-color: #800080\">/root/datasets2/reconcycle/2023-05-23_synthetic_dataset/output/images/</span><span style=\"color: #ff00ff; text-decoration-color: #ff00ff\">00000091.jpg</span>\n",
       "</pre>\n"
      ],
      "text/plain": [
       "colour_img_path \u001b[35m/root/datasets2/reconcycle/2023-05-23_synthetic_dataset/output/images/\u001b[0m\u001b[95m00000091.jpg\u001b[0m\n"
      ]
     },
     "metadata": {},
     "output_type": "display_data"
    },
    {
     "data": {
      "text/html": [
       "<pre style=\"white-space:pre;overflow-x:auto;line-height:normal;font-family:Menlo,'DejaVu Sans Mono',consolas,'Courier New',monospace\">graph relations:\n",
       "</pre>\n"
      ],
      "text/plain": [
       "graph relations:\n"
      ]
     },
     "metadata": {},
     "output_type": "display_data"
    },
    {
     "data": {
      "text/html": [
       "<pre style=\"white-space:pre;overflow-x:auto;line-height:normal;font-family:Menlo,'DejaVu Sans Mono',consolas,'Courier New',monospace\">Device <span style=\"color: #008080; text-decoration-color: #008080; font-weight: bold\">1</span>: \n",
       "battery_covered in firealarm_back\n",
       "\n",
       "</pre>\n"
      ],
      "text/plain": [
       "Device \u001b[1;36m1\u001b[0m: \n",
       "battery_covered in firealarm_back\n",
       "\n"
      ]
     },
     "metadata": {},
     "output_type": "display_data"
    },
    {
     "name": "stderr",
     "output_type": "stream",
     "text": [
      "00000092:  91%|█████████ | 91/100 [00:02<00:00, 36.58it/s]"
     ]
    },
    {
     "data": {
      "text/html": [
       "<pre style=\"white-space:pre;overflow-x:auto;line-height:normal;font-family:Menlo,'DejaVu Sans Mono',consolas,'Courier New',monospace\">json_path <span style=\"color: #800080; text-decoration-color: #800080\">/root/datasets2/reconcycle/2023-05-23_synthetic_dataset/output/labelme/</span><span style=\"color: #ff00ff; text-decoration-color: #ff00ff\">00000092.json</span>\n",
       "</pre>\n"
      ],
      "text/plain": [
       "json_path \u001b[35m/root/datasets2/reconcycle/2023-05-23_synthetic_dataset/output/labelme/\u001b[0m\u001b[95m00000092.json\u001b[0m\n"
      ]
     },
     "metadata": {},
     "output_type": "display_data"
    },
    {
     "data": {
      "text/html": [
       "<pre style=\"white-space:pre;overflow-x:auto;line-height:normal;font-family:Menlo,'DejaVu Sans Mono',consolas,'Courier New',monospace\">colour_img_path <span style=\"color: #800080; text-decoration-color: #800080\">/root/datasets2/reconcycle/2023-05-23_synthetic_dataset/output/images/</span><span style=\"color: #ff00ff; text-decoration-color: #ff00ff\">00000092.jpg</span>\n",
       "</pre>\n"
      ],
      "text/plain": [
       "colour_img_path \u001b[35m/root/datasets2/reconcycle/2023-05-23_synthetic_dataset/output/images/\u001b[0m\u001b[95m00000092.jpg\u001b[0m\n"
      ]
     },
     "metadata": {},
     "output_type": "display_data"
    },
    {
     "data": {
      "text/html": [
       "<pre style=\"white-space:pre;overflow-x:auto;line-height:normal;font-family:Menlo,'DejaVu Sans Mono',consolas,'Courier New',monospace\">graph relations:\n",
       "</pre>\n"
      ],
      "text/plain": [
       "graph relations:\n"
      ]
     },
     "metadata": {},
     "output_type": "display_data"
    },
    {
     "data": {
      "text/html": [
       "<pre style=\"white-space:pre;overflow-x:auto;line-height:normal;font-family:Menlo,'DejaVu Sans Mono',consolas,'Courier New',monospace\">Device <span style=\"color: #008080; text-decoration-color: #008080; font-weight: bold\">1</span>: \n",
       "firealarm_front\n",
       "</pre>\n"
      ],
      "text/plain": [
       "Device \u001b[1;36m1\u001b[0m: \n",
       "firealarm_front\n"
      ]
     },
     "metadata": {},
     "output_type": "display_data"
    },
    {
     "name": "stderr",
     "output_type": "stream",
     "text": [
      "00000093:  91%|█████████ | 91/100 [00:02<00:00, 36.58it/s]"
     ]
    },
    {
     "data": {
      "text/html": [
       "<pre style=\"white-space:pre;overflow-x:auto;line-height:normal;font-family:Menlo,'DejaVu Sans Mono',consolas,'Courier New',monospace\">json_path <span style=\"color: #800080; text-decoration-color: #800080\">/root/datasets2/reconcycle/2023-05-23_synthetic_dataset/output/labelme/</span><span style=\"color: #ff00ff; text-decoration-color: #ff00ff\">00000093.json</span>\n",
       "</pre>\n"
      ],
      "text/plain": [
       "json_path \u001b[35m/root/datasets2/reconcycle/2023-05-23_synthetic_dataset/output/labelme/\u001b[0m\u001b[95m00000093.json\u001b[0m\n"
      ]
     },
     "metadata": {},
     "output_type": "display_data"
    },
    {
     "data": {
      "text/html": [
       "<pre style=\"white-space:pre;overflow-x:auto;line-height:normal;font-family:Menlo,'DejaVu Sans Mono',consolas,'Courier New',monospace\">colour_img_path <span style=\"color: #800080; text-decoration-color: #800080\">/root/datasets2/reconcycle/2023-05-23_synthetic_dataset/output/images/</span><span style=\"color: #ff00ff; text-decoration-color: #ff00ff\">00000093.jpg</span>\n",
       "</pre>\n"
      ],
      "text/plain": [
       "colour_img_path \u001b[35m/root/datasets2/reconcycle/2023-05-23_synthetic_dataset/output/images/\u001b[0m\u001b[95m00000093.jpg\u001b[0m\n"
      ]
     },
     "metadata": {},
     "output_type": "display_data"
    },
    {
     "data": {
      "text/html": [
       "<pre style=\"white-space:pre;overflow-x:auto;line-height:normal;font-family:Menlo,'DejaVu Sans Mono',consolas,'Courier New',monospace\">graph relations:\n",
       "</pre>\n"
      ],
      "text/plain": [
       "graph relations:\n"
      ]
     },
     "metadata": {},
     "output_type": "display_data"
    },
    {
     "data": {
      "text/html": [
       "<pre style=\"white-space:pre;overflow-x:auto;line-height:normal;font-family:Menlo,'DejaVu Sans Mono',consolas,'Courier New',monospace\">Device <span style=\"color: #008080; text-decoration-color: #008080; font-weight: bold\">1</span>: \n",
       "firealarm_back\n",
       "</pre>\n"
      ],
      "text/plain": [
       "Device \u001b[1;36m1\u001b[0m: \n",
       "firealarm_back\n"
      ]
     },
     "metadata": {},
     "output_type": "display_data"
    },
    {
     "name": "stderr",
     "output_type": "stream",
     "text": [
      "00000094:  91%|█████████ | 91/100 [00:02<00:00, 36.58it/s]"
     ]
    },
    {
     "data": {
      "text/html": [
       "<pre style=\"white-space:pre;overflow-x:auto;line-height:normal;font-family:Menlo,'DejaVu Sans Mono',consolas,'Courier New',monospace\">json_path <span style=\"color: #800080; text-decoration-color: #800080\">/root/datasets2/reconcycle/2023-05-23_synthetic_dataset/output/labelme/</span><span style=\"color: #ff00ff; text-decoration-color: #ff00ff\">00000094.json</span>\n",
       "</pre>\n"
      ],
      "text/plain": [
       "json_path \u001b[35m/root/datasets2/reconcycle/2023-05-23_synthetic_dataset/output/labelme/\u001b[0m\u001b[95m00000094.json\u001b[0m\n"
      ]
     },
     "metadata": {},
     "output_type": "display_data"
    },
    {
     "data": {
      "text/html": [
       "<pre style=\"white-space:pre;overflow-x:auto;line-height:normal;font-family:Menlo,'DejaVu Sans Mono',consolas,'Courier New',monospace\">colour_img_path <span style=\"color: #800080; text-decoration-color: #800080\">/root/datasets2/reconcycle/2023-05-23_synthetic_dataset/output/images/</span><span style=\"color: #ff00ff; text-decoration-color: #ff00ff\">00000094.jpg</span>\n",
       "</pre>\n"
      ],
      "text/plain": [
       "colour_img_path \u001b[35m/root/datasets2/reconcycle/2023-05-23_synthetic_dataset/output/images/\u001b[0m\u001b[95m00000094.jpg\u001b[0m\n"
      ]
     },
     "metadata": {},
     "output_type": "display_data"
    },
    {
     "data": {
      "text/html": [
       "<pre style=\"white-space:pre;overflow-x:auto;line-height:normal;font-family:Menlo,'DejaVu Sans Mono',consolas,'Courier New',monospace\">graph relations:\n",
       "</pre>\n"
      ],
      "text/plain": [
       "graph relations:\n"
      ]
     },
     "metadata": {},
     "output_type": "display_data"
    },
    {
     "data": {
      "text/html": [
       "<pre style=\"white-space:pre;overflow-x:auto;line-height:normal;font-family:Menlo,'DejaVu Sans Mono',consolas,'Courier New',monospace\">Device <span style=\"color: #008080; text-decoration-color: #008080; font-weight: bold\">1</span>: \n",
       "pcb_covered in hca_back\n",
       "hca_back next to pcb_covered\n",
       "pcb_covered next to hca_back\n",
       "pcb_covered in hca_back\n",
       "\n",
       "</pre>\n"
      ],
      "text/plain": [
       "Device \u001b[1;36m1\u001b[0m: \n",
       "pcb_covered in hca_back\n",
       "hca_back next to pcb_covered\n",
       "pcb_covered next to hca_back\n",
       "pcb_covered in hca_back\n",
       "\n"
      ]
     },
     "metadata": {},
     "output_type": "display_data"
    },
    {
     "name": "stderr",
     "output_type": "stream",
     "text": [
      "00000095:  91%|█████████ | 91/100 [00:02<00:00, 36.58it/s]"
     ]
    },
    {
     "data": {
      "text/html": [
       "<pre style=\"white-space:pre;overflow-x:auto;line-height:normal;font-family:Menlo,'DejaVu Sans Mono',consolas,'Courier New',monospace\">json_path <span style=\"color: #800080; text-decoration-color: #800080\">/root/datasets2/reconcycle/2023-05-23_synthetic_dataset/output/labelme/</span><span style=\"color: #ff00ff; text-decoration-color: #ff00ff\">00000095.json</span>\n",
       "</pre>\n"
      ],
      "text/plain": [
       "json_path \u001b[35m/root/datasets2/reconcycle/2023-05-23_synthetic_dataset/output/labelme/\u001b[0m\u001b[95m00000095.json\u001b[0m\n"
      ]
     },
     "metadata": {},
     "output_type": "display_data"
    },
    {
     "data": {
      "text/html": [
       "<pre style=\"white-space:pre;overflow-x:auto;line-height:normal;font-family:Menlo,'DejaVu Sans Mono',consolas,'Courier New',monospace\">colour_img_path <span style=\"color: #800080; text-decoration-color: #800080\">/root/datasets2/reconcycle/2023-05-23_synthetic_dataset/output/images/</span><span style=\"color: #ff00ff; text-decoration-color: #ff00ff\">00000095.jpg</span>\n",
       "</pre>\n"
      ],
      "text/plain": [
       "colour_img_path \u001b[35m/root/datasets2/reconcycle/2023-05-23_synthetic_dataset/output/images/\u001b[0m\u001b[95m00000095.jpg\u001b[0m\n"
      ]
     },
     "metadata": {},
     "output_type": "display_data"
    },
    {
     "data": {
      "text/html": [
       "<pre style=\"white-space:pre;overflow-x:auto;line-height:normal;font-family:Menlo,'DejaVu Sans Mono',consolas,'Courier New',monospace\">graph relations:\n",
       "</pre>\n"
      ],
      "text/plain": [
       "graph relations:\n"
      ]
     },
     "metadata": {},
     "output_type": "display_data"
    },
    {
     "data": {
      "text/html": [
       "<pre style=\"white-space:pre;overflow-x:auto;line-height:normal;font-family:Menlo,'DejaVu Sans Mono',consolas,'Courier New',monospace\">Device <span style=\"color: #008080; text-decoration-color: #008080; font-weight: bold\">1</span>: \n",
       "internals in hca_back\n",
       "pcb in hca_back\n",
       "internals next to pcb\n",
       "pcb next to internals\n",
       "\n",
       "Device <span style=\"color: #008080; text-decoration-color: #008080; font-weight: bold\">2</span>: \n",
       "pcb_covered in hca_back\n",
       "\n",
       "</pre>\n"
      ],
      "text/plain": [
       "Device \u001b[1;36m1\u001b[0m: \n",
       "internals in hca_back\n",
       "pcb in hca_back\n",
       "internals next to pcb\n",
       "pcb next to internals\n",
       "\n",
       "Device \u001b[1;36m2\u001b[0m: \n",
       "pcb_covered in hca_back\n",
       "\n"
      ]
     },
     "metadata": {},
     "output_type": "display_data"
    },
    {
     "name": "stderr",
     "output_type": "stream",
     "text": [
      "00000096:  91%|█████████ | 91/100 [00:02<00:00, 36.58it/s]"
     ]
    },
    {
     "data": {
      "text/html": [
       "<pre style=\"white-space:pre;overflow-x:auto;line-height:normal;font-family:Menlo,'DejaVu Sans Mono',consolas,'Courier New',monospace\">json_path <span style=\"color: #800080; text-decoration-color: #800080\">/root/datasets2/reconcycle/2023-05-23_synthetic_dataset/output/labelme/</span><span style=\"color: #ff00ff; text-decoration-color: #ff00ff\">00000096.json</span>\n",
       "</pre>\n"
      ],
      "text/plain": [
       "json_path \u001b[35m/root/datasets2/reconcycle/2023-05-23_synthetic_dataset/output/labelme/\u001b[0m\u001b[95m00000096.json\u001b[0m\n"
      ]
     },
     "metadata": {},
     "output_type": "display_data"
    },
    {
     "data": {
      "text/html": [
       "<pre style=\"white-space:pre;overflow-x:auto;line-height:normal;font-family:Menlo,'DejaVu Sans Mono',consolas,'Courier New',monospace\">colour_img_path <span style=\"color: #800080; text-decoration-color: #800080\">/root/datasets2/reconcycle/2023-05-23_synthetic_dataset/output/images/</span><span style=\"color: #ff00ff; text-decoration-color: #ff00ff\">00000096.jpg</span>\n",
       "</pre>\n"
      ],
      "text/plain": [
       "colour_img_path \u001b[35m/root/datasets2/reconcycle/2023-05-23_synthetic_dataset/output/images/\u001b[0m\u001b[95m00000096.jpg\u001b[0m\n"
      ]
     },
     "metadata": {},
     "output_type": "display_data"
    },
    {
     "data": {
      "text/html": [
       "<pre style=\"white-space:pre;overflow-x:auto;line-height:normal;font-family:Menlo,'DejaVu Sans Mono',consolas,'Courier New',monospace\">graph relations:\n",
       "</pre>\n"
      ],
      "text/plain": [
       "graph relations:\n"
      ]
     },
     "metadata": {},
     "output_type": "display_data"
    },
    {
     "data": {
      "text/html": [
       "<pre style=\"white-space:pre;overflow-x:auto;line-height:normal;font-family:Menlo,'DejaVu Sans Mono',consolas,'Courier New',monospace\">Device <span style=\"color: #008080; text-decoration-color: #008080; font-weight: bold\">1</span>: \n",
       "battery_covered in firealarm_back\n",
       "\n",
       "</pre>\n"
      ],
      "text/plain": [
       "Device \u001b[1;36m1\u001b[0m: \n",
       "battery_covered in firealarm_back\n",
       "\n"
      ]
     },
     "metadata": {},
     "output_type": "display_data"
    },
    {
     "name": "stderr",
     "output_type": "stream",
     "text": [
      "00000097:  96%|█████████▌| 96/100 [00:02<00:00, 38.57it/s]"
     ]
    },
    {
     "data": {
      "text/html": [
       "<pre style=\"white-space:pre;overflow-x:auto;line-height:normal;font-family:Menlo,'DejaVu Sans Mono',consolas,'Courier New',monospace\">json_path <span style=\"color: #800080; text-decoration-color: #800080\">/root/datasets2/reconcycle/2023-05-23_synthetic_dataset/output/labelme/</span><span style=\"color: #ff00ff; text-decoration-color: #ff00ff\">00000097.json</span>\n",
       "</pre>\n"
      ],
      "text/plain": [
       "json_path \u001b[35m/root/datasets2/reconcycle/2023-05-23_synthetic_dataset/output/labelme/\u001b[0m\u001b[95m00000097.json\u001b[0m\n"
      ]
     },
     "metadata": {},
     "output_type": "display_data"
    },
    {
     "data": {
      "text/html": [
       "<pre style=\"white-space:pre;overflow-x:auto;line-height:normal;font-family:Menlo,'DejaVu Sans Mono',consolas,'Courier New',monospace\">colour_img_path <span style=\"color: #800080; text-decoration-color: #800080\">/root/datasets2/reconcycle/2023-05-23_synthetic_dataset/output/images/</span><span style=\"color: #ff00ff; text-decoration-color: #ff00ff\">00000097.jpg</span>\n",
       "</pre>\n"
      ],
      "text/plain": [
       "colour_img_path \u001b[35m/root/datasets2/reconcycle/2023-05-23_synthetic_dataset/output/images/\u001b[0m\u001b[95m00000097.jpg\u001b[0m\n"
      ]
     },
     "metadata": {},
     "output_type": "display_data"
    },
    {
     "data": {
      "text/html": [
       "<pre style=\"white-space:pre;overflow-x:auto;line-height:normal;font-family:Menlo,'DejaVu Sans Mono',consolas,'Courier New',monospace\">graph relations:\n",
       "</pre>\n"
      ],
      "text/plain": [
       "graph relations:\n"
      ]
     },
     "metadata": {},
     "output_type": "display_data"
    },
    {
     "data": {
      "text/html": [
       "<pre style=\"white-space:pre;overflow-x:auto;line-height:normal;font-family:Menlo,'DejaVu Sans Mono',consolas,'Courier New',monospace\">Device <span style=\"color: #008080; text-decoration-color: #008080; font-weight: bold\">1</span>: \n",
       "internals in hca_back\n",
       "battery in hca_back\n",
       "internals next to battery\n",
       "battery next to internals\n",
       "\n",
       "</pre>\n"
      ],
      "text/plain": [
       "Device \u001b[1;36m1\u001b[0m: \n",
       "internals in hca_back\n",
       "battery in hca_back\n",
       "internals next to battery\n",
       "battery next to internals\n",
       "\n"
      ]
     },
     "metadata": {},
     "output_type": "display_data"
    },
    {
     "name": "stderr",
     "output_type": "stream",
     "text": [
      "00000098:  96%|█████████▌| 96/100 [00:02<00:00, 38.57it/s]"
     ]
    },
    {
     "data": {
      "text/html": [
       "<pre style=\"white-space:pre;overflow-x:auto;line-height:normal;font-family:Menlo,'DejaVu Sans Mono',consolas,'Courier New',monospace\">json_path <span style=\"color: #800080; text-decoration-color: #800080\">/root/datasets2/reconcycle/2023-05-23_synthetic_dataset/output/labelme/</span><span style=\"color: #ff00ff; text-decoration-color: #ff00ff\">00000098.json</span>\n",
       "</pre>\n"
      ],
      "text/plain": [
       "json_path \u001b[35m/root/datasets2/reconcycle/2023-05-23_synthetic_dataset/output/labelme/\u001b[0m\u001b[95m00000098.json\u001b[0m\n"
      ]
     },
     "metadata": {},
     "output_type": "display_data"
    },
    {
     "data": {
      "text/html": [
       "<pre style=\"white-space:pre;overflow-x:auto;line-height:normal;font-family:Menlo,'DejaVu Sans Mono',consolas,'Courier New',monospace\">colour_img_path <span style=\"color: #800080; text-decoration-color: #800080\">/root/datasets2/reconcycle/2023-05-23_synthetic_dataset/output/images/</span><span style=\"color: #ff00ff; text-decoration-color: #ff00ff\">00000098.jpg</span>\n",
       "</pre>\n"
      ],
      "text/plain": [
       "colour_img_path \u001b[35m/root/datasets2/reconcycle/2023-05-23_synthetic_dataset/output/images/\u001b[0m\u001b[95m00000098.jpg\u001b[0m\n"
      ]
     },
     "metadata": {},
     "output_type": "display_data"
    },
    {
     "data": {
      "text/html": [
       "<pre style=\"white-space:pre;overflow-x:auto;line-height:normal;font-family:Menlo,'DejaVu Sans Mono',consolas,'Courier New',monospace\">graph relations:\n",
       "</pre>\n"
      ],
      "text/plain": [
       "graph relations:\n"
      ]
     },
     "metadata": {},
     "output_type": "display_data"
    },
    {
     "data": {
      "text/html": [
       "<pre style=\"white-space:pre;overflow-x:auto;line-height:normal;font-family:Menlo,'DejaVu Sans Mono',consolas,'Courier New',monospace\">Device <span style=\"color: #008080; text-decoration-color: #008080; font-weight: bold\">1</span>: \n",
       "battery_covered in firealarm_back\n",
       "\n",
       "Device <span style=\"color: #008080; text-decoration-color: #008080; font-weight: bold\">2</span>: \n",
       "firealarm_front\n",
       "</pre>\n"
      ],
      "text/plain": [
       "Device \u001b[1;36m1\u001b[0m: \n",
       "battery_covered in firealarm_back\n",
       "\n",
       "Device \u001b[1;36m2\u001b[0m: \n",
       "firealarm_front\n"
      ]
     },
     "metadata": {},
     "output_type": "display_data"
    },
    {
     "name": "stderr",
     "output_type": "stream",
     "text": [
      "00000099:  96%|█████████▌| 96/100 [00:02<00:00, 38.57it/s]"
     ]
    },
    {
     "data": {
      "text/html": [
       "<pre style=\"white-space:pre;overflow-x:auto;line-height:normal;font-family:Menlo,'DejaVu Sans Mono',consolas,'Courier New',monospace\">json_path <span style=\"color: #800080; text-decoration-color: #800080\">/root/datasets2/reconcycle/2023-05-23_synthetic_dataset/output/labelme/</span><span style=\"color: #ff00ff; text-decoration-color: #ff00ff\">00000099.json</span>\n",
       "</pre>\n"
      ],
      "text/plain": [
       "json_path \u001b[35m/root/datasets2/reconcycle/2023-05-23_synthetic_dataset/output/labelme/\u001b[0m\u001b[95m00000099.json\u001b[0m\n"
      ]
     },
     "metadata": {},
     "output_type": "display_data"
    },
    {
     "data": {
      "text/html": [
       "<pre style=\"white-space:pre;overflow-x:auto;line-height:normal;font-family:Menlo,'DejaVu Sans Mono',consolas,'Courier New',monospace\">colour_img_path <span style=\"color: #800080; text-decoration-color: #800080\">/root/datasets2/reconcycle/2023-05-23_synthetic_dataset/output/images/</span><span style=\"color: #ff00ff; text-decoration-color: #ff00ff\">00000099.jpg</span>\n",
       "</pre>\n"
      ],
      "text/plain": [
       "colour_img_path \u001b[35m/root/datasets2/reconcycle/2023-05-23_synthetic_dataset/output/images/\u001b[0m\u001b[95m00000099.jpg\u001b[0m\n"
      ]
     },
     "metadata": {},
     "output_type": "display_data"
    },
    {
     "data": {
      "text/html": [
       "<pre style=\"white-space:pre;overflow-x:auto;line-height:normal;font-family:Menlo,'DejaVu Sans Mono',consolas,'Courier New',monospace\">graph relations:\n",
       "</pre>\n"
      ],
      "text/plain": [
       "graph relations:\n"
      ]
     },
     "metadata": {},
     "output_type": "display_data"
    },
    {
     "data": {
      "text/html": [
       "<pre style=\"white-space:pre;overflow-x:auto;line-height:normal;font-family:Menlo,'DejaVu Sans Mono',consolas,'Courier New',monospace\">Device <span style=\"color: #008080; text-decoration-color: #008080; font-weight: bold\">1</span>: \n",
       "firealarm_front next to internals\n",
       "internals next to firealarm_front\n",
       "pcb in internals\n",
       "battery in internals\n",
       "battery in pcb\n",
       "\n",
       "</pre>\n"
      ],
      "text/plain": [
       "Device \u001b[1;36m1\u001b[0m: \n",
       "firealarm_front next to internals\n",
       "internals next to firealarm_front\n",
       "pcb in internals\n",
       "battery in internals\n",
       "battery in pcb\n",
       "\n"
      ]
     },
     "metadata": {},
     "output_type": "display_data"
    },
    {
     "name": "stderr",
     "output_type": "stream",
     "text": [
      "00000100:  96%|█████████▌| 96/100 [00:02<00:00, 38.57it/s]"
     ]
    },
    {
     "data": {
      "text/html": [
       "<pre style=\"white-space:pre;overflow-x:auto;line-height:normal;font-family:Menlo,'DejaVu Sans Mono',consolas,'Courier New',monospace\">json_path <span style=\"color: #800080; text-decoration-color: #800080\">/root/datasets2/reconcycle/2023-05-23_synthetic_dataset/output/labelme/</span><span style=\"color: #ff00ff; text-decoration-color: #ff00ff\">00000100.json</span>\n",
       "</pre>\n"
      ],
      "text/plain": [
       "json_path \u001b[35m/root/datasets2/reconcycle/2023-05-23_synthetic_dataset/output/labelme/\u001b[0m\u001b[95m00000100.json\u001b[0m\n"
      ]
     },
     "metadata": {},
     "output_type": "display_data"
    },
    {
     "data": {
      "text/html": [
       "<pre style=\"white-space:pre;overflow-x:auto;line-height:normal;font-family:Menlo,'DejaVu Sans Mono',consolas,'Courier New',monospace\">colour_img_path <span style=\"color: #800080; text-decoration-color: #800080\">/root/datasets2/reconcycle/2023-05-23_synthetic_dataset/output/images/</span><span style=\"color: #ff00ff; text-decoration-color: #ff00ff\">00000100.jpg</span>\n",
       "</pre>\n"
      ],
      "text/plain": [
       "colour_img_path \u001b[35m/root/datasets2/reconcycle/2023-05-23_synthetic_dataset/output/images/\u001b[0m\u001b[95m00000100.jpg\u001b[0m\n"
      ]
     },
     "metadata": {},
     "output_type": "display_data"
    },
    {
     "data": {
      "text/html": [
       "<pre style=\"white-space:pre;overflow-x:auto;line-height:normal;font-family:Menlo,'DejaVu Sans Mono',consolas,'Courier New',monospace\">graph relations:\n",
       "</pre>\n"
      ],
      "text/plain": [
       "graph relations:\n"
      ]
     },
     "metadata": {},
     "output_type": "display_data"
    },
    {
     "data": {
      "text/html": [
       "<pre style=\"white-space:pre;overflow-x:auto;line-height:normal;font-family:Menlo,'DejaVu Sans Mono',consolas,'Courier New',monospace\">Device <span style=\"color: #008080; text-decoration-color: #008080; font-weight: bold\">1</span>: \n",
       "plastic_clip in hca_back\n",
       "pcb_covered in hca_back\n",
       "plastic_clip next to pcb_covered\n",
       "pcb_covered next to plastic_clip\n",
       "\n",
       "</pre>\n"
      ],
      "text/plain": [
       "Device \u001b[1;36m1\u001b[0m: \n",
       "plastic_clip in hca_back\n",
       "pcb_covered in hca_back\n",
       "plastic_clip next to pcb_covered\n",
       "pcb_covered next to plastic_clip\n",
       "\n"
      ]
     },
     "metadata": {},
     "output_type": "display_data"
    },
    {
     "name": "stderr",
     "output_type": "stream",
     "text": [
      "00000100: 100%|██████████| 100/100 [00:02<00:00, 40.31it/s]\n"
     ]
    },
    {
     "data": {
      "text/html": [
       "<pre style=\"white-space:pre;overflow-x:auto;line-height:normal;font-family:Menlo,'DejaVu Sans Mono',consolas,'Courier New',monospace\">llm_output_list\n",
       "<span style=\"font-weight: bold\">[</span>\n",
       "    <span style=\"font-weight: bold\">{</span>\n",
       "        <span style=\"color: #008000; text-decoration-color: #008000\">'id'</span>: <span style=\"color: #008080; text-decoration-color: #008080; font-weight: bold\">0</span>,\n",
       "        <span style=\"color: #008000; text-decoration-color: #008000\">'image'</span>: <span style=\"color: #008000; text-decoration-color: #008000\">'images/00000001.jpg'</span>,\n",
       "        <span style=\"color: #008000; text-decoration-color: #008000\">'conversations'</span>: <span style=\"font-weight: bold\">[</span>\n",
       "            <span style=\"font-weight: bold\">{</span><span style=\"color: #008000; text-decoration-color: #008000\">'from'</span>: <span style=\"color: #008000; text-decoration-color: #008000\">'human'</span>, <span style=\"color: #008000; text-decoration-color: #008000\">'value'</span>: <span style=\"color: #008000; text-decoration-color: #008000\">'&lt;image&gt;\\nWhat are the objects and relations you see in this image?'</span><span style=\"color: #000000; text-decoration-color: #000000; font-weight: bold\">}</span><span style=\"color: #000000; text-decoration-color: #000000\">,</span>\n",
       "<span style=\"color: #000000; text-decoration-color: #000000\">            </span><span style=\"color: #000000; text-decoration-color: #000000; font-weight: bold\">{</span>\n",
       "<span style=\"color: #000000; text-decoration-color: #000000\">                </span><span style=\"color: #008000; text-decoration-color: #008000\">'from'</span><span style=\"color: #000000; text-decoration-color: #000000\">: </span><span style=\"color: #008000; text-decoration-color: #008000\">'gpt'</span><span style=\"color: #000000; text-decoration-color: #000000\">,</span>\n",
       "<span style=\"color: #000000; text-decoration-color: #000000\">                </span><span style=\"color: #008000; text-decoration-color: #008000\">'value'</span><span style=\"color: #000000; text-decoration-color: #000000\">: </span><span style=\"color: #008000; text-decoration-color: #008000\">'Device 1: \\npcb in hca_back\\nbattery in hca_back\\npcb next to battery\\nbattery next to </span>\n",
       "<span style=\"color: #008000; text-decoration-color: #008000\">pcb\\n\\nDevice 2: \\nfirealarm_back'</span>\n",
       "<span style=\"color: #000000; text-decoration-color: #000000\">            </span><span style=\"color: #000000; text-decoration-color: #000000; font-weight: bold\">}</span>\n",
       "<span style=\"color: #000000; text-decoration-color: #000000\">        </span><span style=\"color: #000000; text-decoration-color: #000000; font-weight: bold\">]</span>\n",
       "<span style=\"color: #000000; text-decoration-color: #000000\">    </span><span style=\"color: #000000; text-decoration-color: #000000; font-weight: bold\">}</span><span style=\"color: #000000; text-decoration-color: #000000\">,</span>\n",
       "<span style=\"color: #000000; text-decoration-color: #000000\">    </span><span style=\"color: #000000; text-decoration-color: #000000; font-weight: bold\">{</span>\n",
       "<span style=\"color: #000000; text-decoration-color: #000000\">        </span><span style=\"color: #008000; text-decoration-color: #008000\">'id'</span><span style=\"color: #000000; text-decoration-color: #000000\">: </span><span style=\"color: #008080; text-decoration-color: #008080; font-weight: bold\">1</span><span style=\"color: #000000; text-decoration-color: #000000\">,</span>\n",
       "<span style=\"color: #000000; text-decoration-color: #000000\">        </span><span style=\"color: #008000; text-decoration-color: #008000\">'image'</span><span style=\"color: #000000; text-decoration-color: #000000\">: </span><span style=\"color: #008000; text-decoration-color: #008000\">'images/00000002.jpg'</span><span style=\"color: #000000; text-decoration-color: #000000\">,</span>\n",
       "<span style=\"color: #000000; text-decoration-color: #000000\">        </span><span style=\"color: #008000; text-decoration-color: #008000\">'conversations'</span><span style=\"color: #000000; text-decoration-color: #000000\">: </span><span style=\"color: #000000; text-decoration-color: #000000; font-weight: bold\">[</span>\n",
       "<span style=\"color: #000000; text-decoration-color: #000000\">            </span><span style=\"color: #000000; text-decoration-color: #000000; font-weight: bold\">{</span><span style=\"color: #008000; text-decoration-color: #008000\">'from'</span><span style=\"color: #000000; text-decoration-color: #000000\">: </span><span style=\"color: #008000; text-decoration-color: #008000\">'human'</span><span style=\"color: #000000; text-decoration-color: #000000\">, </span><span style=\"color: #008000; text-decoration-color: #008000\">'value'</span><span style=\"color: #000000; text-decoration-color: #000000\">: </span><span style=\"color: #008000; text-decoration-color: #008000\">'&lt;image&gt;\\nWhat are the objects and relations you see in this image?'</span><span style=\"color: #000000; text-decoration-color: #000000; font-weight: bold\">}</span><span style=\"color: #000000; text-decoration-color: #000000\">,</span>\n",
       "<span style=\"color: #000000; text-decoration-color: #000000\">            </span><span style=\"color: #000000; text-decoration-color: #000000; font-weight: bold\">{</span><span style=\"color: #008000; text-decoration-color: #008000\">'from'</span><span style=\"color: #000000; text-decoration-color: #000000\">: </span><span style=\"color: #008000; text-decoration-color: #008000\">'gpt'</span><span style=\"color: #000000; text-decoration-color: #000000\">, </span><span style=\"color: #008000; text-decoration-color: #008000\">'value'</span><span style=\"color: #000000; text-decoration-color: #000000\">: </span><span style=\"color: #008000; text-decoration-color: #008000\">'Device 1: \\nfirealarm_back'</span><span style=\"color: #000000; text-decoration-color: #000000; font-weight: bold\">}</span>\n",
       "<span style=\"color: #000000; text-decoration-color: #000000\">        </span><span style=\"color: #000000; text-decoration-color: #000000; font-weight: bold\">]</span>\n",
       "<span style=\"color: #000000; text-decoration-color: #000000\">    </span><span style=\"color: #000000; text-decoration-color: #000000; font-weight: bold\">}</span><span style=\"color: #000000; text-decoration-color: #000000\">,</span>\n",
       "<span style=\"color: #000000; text-decoration-color: #000000\">    </span><span style=\"color: #000000; text-decoration-color: #000000; font-weight: bold\">{</span>\n",
       "<span style=\"color: #000000; text-decoration-color: #000000\">        </span><span style=\"color: #008000; text-decoration-color: #008000\">'id'</span><span style=\"color: #000000; text-decoration-color: #000000\">: </span><span style=\"color: #008080; text-decoration-color: #008080; font-weight: bold\">2</span><span style=\"color: #000000; text-decoration-color: #000000\">,</span>\n",
       "<span style=\"color: #000000; text-decoration-color: #000000\">        </span><span style=\"color: #008000; text-decoration-color: #008000\">'image'</span><span style=\"color: #000000; text-decoration-color: #000000\">: </span><span style=\"color: #008000; text-decoration-color: #008000\">'images/00000003.jpg'</span><span style=\"color: #000000; text-decoration-color: #000000\">,</span>\n",
       "<span style=\"color: #000000; text-decoration-color: #000000\">        </span><span style=\"color: #008000; text-decoration-color: #008000\">'conversations'</span><span style=\"color: #000000; text-decoration-color: #000000\">: </span><span style=\"color: #000000; text-decoration-color: #000000; font-weight: bold\">[</span>\n",
       "<span style=\"color: #000000; text-decoration-color: #000000\">            </span><span style=\"color: #000000; text-decoration-color: #000000; font-weight: bold\">{</span><span style=\"color: #008000; text-decoration-color: #008000\">'from'</span><span style=\"color: #000000; text-decoration-color: #000000\">: </span><span style=\"color: #008000; text-decoration-color: #008000\">'human'</span><span style=\"color: #000000; text-decoration-color: #000000\">, </span><span style=\"color: #008000; text-decoration-color: #008000\">'value'</span><span style=\"color: #000000; text-decoration-color: #000000\">: </span><span style=\"color: #008000; text-decoration-color: #008000\">'&lt;image&gt;\\nWhat are the objects and relations you see in this image?'</span><span style=\"color: #000000; text-decoration-color: #000000; font-weight: bold\">}</span><span style=\"color: #000000; text-decoration-color: #000000\">,</span>\n",
       "<span style=\"color: #000000; text-decoration-color: #000000\">            </span><span style=\"color: #000000; text-decoration-color: #000000; font-weight: bold\">{</span>\n",
       "<span style=\"color: #000000; text-decoration-color: #000000\">                </span><span style=\"color: #008000; text-decoration-color: #008000\">'from'</span><span style=\"color: #000000; text-decoration-color: #000000\">: </span><span style=\"color: #008000; text-decoration-color: #008000\">'gpt'</span><span style=\"color: #000000; text-decoration-color: #000000\">,</span>\n",
       "<span style=\"color: #000000; text-decoration-color: #000000\">                </span><span style=\"color: #008000; text-decoration-color: #008000\">'value'</span><span style=\"color: #000000; text-decoration-color: #000000\">: </span><span style=\"color: #008000; text-decoration-color: #008000\">'Device 1: \\npcb in hca_back\\nbattery in hca_back\\npcb next to battery\\nbattery next to </span>\n",
       "<span style=\"color: #008000; text-decoration-color: #008000\">pcb\\n\\nDevice 2: \\npcb in internals\\n'</span>\n",
       "<span style=\"color: #000000; text-decoration-color: #000000\">            </span><span style=\"color: #000000; text-decoration-color: #000000; font-weight: bold\">}</span>\n",
       "<span style=\"color: #000000; text-decoration-color: #000000\">        </span><span style=\"color: #000000; text-decoration-color: #000000; font-weight: bold\">]</span>\n",
       "<span style=\"color: #000000; text-decoration-color: #000000\">    </span><span style=\"color: #000000; text-decoration-color: #000000; font-weight: bold\">}</span><span style=\"color: #000000; text-decoration-color: #000000\">,</span>\n",
       "<span style=\"color: #000000; text-decoration-color: #000000\">    </span><span style=\"color: #000000; text-decoration-color: #000000; font-weight: bold\">{</span>\n",
       "<span style=\"color: #000000; text-decoration-color: #000000\">        </span><span style=\"color: #008000; text-decoration-color: #008000\">'id'</span><span style=\"color: #000000; text-decoration-color: #000000\">: </span><span style=\"color: #008080; text-decoration-color: #008080; font-weight: bold\">3</span><span style=\"color: #000000; text-decoration-color: #000000\">,</span>\n",
       "<span style=\"color: #000000; text-decoration-color: #000000\">        </span><span style=\"color: #008000; text-decoration-color: #008000\">'image'</span><span style=\"color: #000000; text-decoration-color: #000000\">: </span><span style=\"color: #008000; text-decoration-color: #008000\">'images/00000004.jpg'</span><span style=\"color: #000000; text-decoration-color: #000000\">,</span>\n",
       "<span style=\"color: #000000; text-decoration-color: #000000\">        </span><span style=\"color: #008000; text-decoration-color: #008000\">'conversations'</span><span style=\"color: #000000; text-decoration-color: #000000\">: </span><span style=\"color: #000000; text-decoration-color: #000000; font-weight: bold\">[</span>\n",
       "<span style=\"color: #000000; text-decoration-color: #000000\">            </span><span style=\"color: #000000; text-decoration-color: #000000; font-weight: bold\">{</span><span style=\"color: #008000; text-decoration-color: #008000\">'from'</span><span style=\"color: #000000; text-decoration-color: #000000\">: </span><span style=\"color: #008000; text-decoration-color: #008000\">'human'</span><span style=\"color: #000000; text-decoration-color: #000000\">, </span><span style=\"color: #008000; text-decoration-color: #008000\">'value'</span><span style=\"color: #000000; text-decoration-color: #000000\">: </span><span style=\"color: #008000; text-decoration-color: #008000\">'&lt;image&gt;\\nWhat are the objects and relations you see in this image?'</span><span style=\"color: #000000; text-decoration-color: #000000; font-weight: bold\">}</span><span style=\"color: #000000; text-decoration-color: #000000\">,</span>\n",
       "<span style=\"color: #000000; text-decoration-color: #000000\">            </span><span style=\"color: #000000; text-decoration-color: #000000; font-weight: bold\">{</span>\n",
       "<span style=\"color: #000000; text-decoration-color: #000000\">                </span><span style=\"color: #008000; text-decoration-color: #008000\">'from'</span><span style=\"color: #000000; text-decoration-color: #000000\">: </span><span style=\"color: #008000; text-decoration-color: #008000\">'gpt'</span><span style=\"color: #000000; text-decoration-color: #000000\">,</span>\n",
       "<span style=\"color: #000000; text-decoration-color: #000000\">                </span><span style=\"color: #008000; text-decoration-color: #008000\">'value'</span><span style=\"color: #000000; text-decoration-color: #000000\">: </span><span style=\"color: #008000; text-decoration-color: #008000\">'Device 1: \\npcb in internals\\ninternals next to battery\\nbattery next to </span>\n",
       "<span style=\"color: #008000; text-decoration-color: #008000\">internals\\n\\nDevice 2: \\npcb in internals\\n'</span>\n",
       "<span style=\"color: #000000; text-decoration-color: #000000\">            </span><span style=\"color: #000000; text-decoration-color: #000000; font-weight: bold\">}</span>\n",
       "<span style=\"color: #000000; text-decoration-color: #000000\">        </span><span style=\"color: #000000; text-decoration-color: #000000; font-weight: bold\">]</span>\n",
       "<span style=\"color: #000000; text-decoration-color: #000000\">    </span><span style=\"color: #000000; text-decoration-color: #000000; font-weight: bold\">}</span><span style=\"color: #000000; text-decoration-color: #000000\">,</span>\n",
       "<span style=\"color: #000000; text-decoration-color: #000000\">    </span><span style=\"color: #000000; text-decoration-color: #000000; font-weight: bold\">{</span>\n",
       "<span style=\"color: #000000; text-decoration-color: #000000\">        </span><span style=\"color: #008000; text-decoration-color: #008000\">'id'</span><span style=\"color: #000000; text-decoration-color: #000000\">: </span><span style=\"color: #008080; text-decoration-color: #008080; font-weight: bold\">4</span><span style=\"color: #000000; text-decoration-color: #000000\">,</span>\n",
       "<span style=\"color: #000000; text-decoration-color: #000000\">        </span><span style=\"color: #008000; text-decoration-color: #008000\">'image'</span><span style=\"color: #000000; text-decoration-color: #000000\">: </span><span style=\"color: #008000; text-decoration-color: #008000\">'images/00000005.jpg'</span><span style=\"color: #000000; text-decoration-color: #000000\">,</span>\n",
       "<span style=\"color: #000000; text-decoration-color: #000000\">        </span><span style=\"color: #008000; text-decoration-color: #008000\">'conversations'</span><span style=\"color: #000000; text-decoration-color: #000000\">: </span><span style=\"color: #000000; text-decoration-color: #000000; font-weight: bold\">[</span>\n",
       "<span style=\"color: #000000; text-decoration-color: #000000\">            </span><span style=\"color: #000000; text-decoration-color: #000000; font-weight: bold\">{</span><span style=\"color: #008000; text-decoration-color: #008000\">'from'</span><span style=\"color: #000000; text-decoration-color: #000000\">: </span><span style=\"color: #008000; text-decoration-color: #008000\">'human'</span><span style=\"color: #000000; text-decoration-color: #000000\">, </span><span style=\"color: #008000; text-decoration-color: #008000\">'value'</span><span style=\"color: #000000; text-decoration-color: #000000\">: </span><span style=\"color: #008000; text-decoration-color: #008000\">'&lt;image&gt;\\nWhat are the objects and relations you see in this image?'</span><span style=\"color: #000000; text-decoration-color: #000000; font-weight: bold\">}</span><span style=\"color: #000000; text-decoration-color: #000000\">,</span>\n",
       "<span style=\"color: #000000; text-decoration-color: #000000\">            </span><span style=\"color: #000000; text-decoration-color: #000000; font-weight: bold\">{</span><span style=\"color: #008000; text-decoration-color: #008000\">'from'</span><span style=\"color: #000000; text-decoration-color: #000000\">: </span><span style=\"color: #008000; text-decoration-color: #008000\">'gpt'</span><span style=\"color: #000000; text-decoration-color: #000000\">, </span><span style=\"color: #008000; text-decoration-color: #008000\">'value'</span><span style=\"color: #000000; text-decoration-color: #000000\">: </span><span style=\"color: #008000; text-decoration-color: #008000\">'Device 1: \\npcb in hca_back\\nbattery in hca_back\\nbattery in pcb\\n'</span><span style=\"color: #000000; text-decoration-color: #000000; font-weight: bold\">}</span>\n",
       "<span style=\"color: #000000; text-decoration-color: #000000\">        </span><span style=\"color: #000000; text-decoration-color: #000000; font-weight: bold\">]</span>\n",
       "<span style=\"color: #000000; text-decoration-color: #000000\">    </span><span style=\"color: #000000; text-decoration-color: #000000; font-weight: bold\">}</span><span style=\"color: #000000; text-decoration-color: #000000\">,</span>\n",
       "<span style=\"color: #000000; text-decoration-color: #000000\">    </span><span style=\"color: #000000; text-decoration-color: #000000; font-weight: bold\">{</span>\n",
       "<span style=\"color: #000000; text-decoration-color: #000000\">        </span><span style=\"color: #008000; text-decoration-color: #008000\">'id'</span><span style=\"color: #000000; text-decoration-color: #000000\">: </span><span style=\"color: #008080; text-decoration-color: #008080; font-weight: bold\">5</span><span style=\"color: #000000; text-decoration-color: #000000\">,</span>\n",
       "<span style=\"color: #000000; text-decoration-color: #000000\">        </span><span style=\"color: #008000; text-decoration-color: #008000\">'image'</span><span style=\"color: #000000; text-decoration-color: #000000\">: </span><span style=\"color: #008000; text-decoration-color: #008000\">'images/00000006.jpg'</span><span style=\"color: #000000; text-decoration-color: #000000\">,</span>\n",
       "<span style=\"color: #000000; text-decoration-color: #000000\">        </span><span style=\"color: #008000; text-decoration-color: #008000\">'conversations'</span><span style=\"color: #000000; text-decoration-color: #000000\">: </span><span style=\"color: #000000; text-decoration-color: #000000; font-weight: bold\">[</span>\n",
       "<span style=\"color: #000000; text-decoration-color: #000000\">            </span><span style=\"color: #000000; text-decoration-color: #000000; font-weight: bold\">{</span><span style=\"color: #008000; text-decoration-color: #008000\">'from'</span><span style=\"color: #000000; text-decoration-color: #000000\">: </span><span style=\"color: #008000; text-decoration-color: #008000\">'human'</span><span style=\"color: #000000; text-decoration-color: #000000\">, </span><span style=\"color: #008000; text-decoration-color: #008000\">'value'</span><span style=\"color: #000000; text-decoration-color: #000000\">: </span><span style=\"color: #008000; text-decoration-color: #008000\">'&lt;image&gt;\\nWhat are the objects and relations you see in this image?'</span><span style=\"color: #000000; text-decoration-color: #000000; font-weight: bold\">}</span><span style=\"color: #000000; text-decoration-color: #000000\">,</span>\n",
       "<span style=\"color: #000000; text-decoration-color: #000000\">            </span><span style=\"color: #000000; text-decoration-color: #000000; font-weight: bold\">{</span>\n",
       "<span style=\"color: #000000; text-decoration-color: #000000\">                </span><span style=\"color: #008000; text-decoration-color: #008000\">'from'</span><span style=\"color: #000000; text-decoration-color: #000000\">: </span><span style=\"color: #008000; text-decoration-color: #008000\">'gpt'</span><span style=\"color: #000000; text-decoration-color: #000000\">,</span>\n",
       "<span style=\"color: #000000; text-decoration-color: #000000\">                </span><span style=\"color: #008000; text-decoration-color: #008000\">'value'</span><span style=\"color: #000000; text-decoration-color: #000000\">: </span><span style=\"color: #008000; text-decoration-color: #008000\">'Device 1: \\nplastic_clip in hca_back\\ninternals in hca_back\\nplastic_clip next to </span>\n",
       "<span style=\"color: #008000; text-decoration-color: #008000\">internals\\ninternals next to plastic_clip\\n\\nDevice 2: \\nfirealarm_front'</span>\n",
       "<span style=\"color: #000000; text-decoration-color: #000000\">            </span><span style=\"color: #000000; text-decoration-color: #000000; font-weight: bold\">}</span>\n",
       "<span style=\"color: #000000; text-decoration-color: #000000\">        </span><span style=\"color: #000000; text-decoration-color: #000000; font-weight: bold\">]</span>\n",
       "<span style=\"color: #000000; text-decoration-color: #000000\">    </span><span style=\"color: #000000; text-decoration-color: #000000; font-weight: bold\">}</span><span style=\"color: #000000; text-decoration-color: #000000\">,</span>\n",
       "<span style=\"color: #000000; text-decoration-color: #000000\">    </span><span style=\"color: #000000; text-decoration-color: #000000; font-weight: bold\">{</span>\n",
       "<span style=\"color: #000000; text-decoration-color: #000000\">        </span><span style=\"color: #008000; text-decoration-color: #008000\">'id'</span><span style=\"color: #000000; text-decoration-color: #000000\">: </span><span style=\"color: #008080; text-decoration-color: #008080; font-weight: bold\">6</span><span style=\"color: #000000; text-decoration-color: #000000\">,</span>\n",
       "<span style=\"color: #000000; text-decoration-color: #000000\">        </span><span style=\"color: #008000; text-decoration-color: #008000\">'image'</span><span style=\"color: #000000; text-decoration-color: #000000\">: </span><span style=\"color: #008000; text-decoration-color: #008000\">'images/00000007.jpg'</span><span style=\"color: #000000; text-decoration-color: #000000\">,</span>\n",
       "<span style=\"color: #000000; text-decoration-color: #000000\">        </span><span style=\"color: #008000; text-decoration-color: #008000\">'conversations'</span><span style=\"color: #000000; text-decoration-color: #000000\">: </span><span style=\"color: #000000; text-decoration-color: #000000; font-weight: bold\">[</span>\n",
       "<span style=\"color: #000000; text-decoration-color: #000000\">            </span><span style=\"color: #000000; text-decoration-color: #000000; font-weight: bold\">{</span><span style=\"color: #008000; text-decoration-color: #008000\">'from'</span><span style=\"color: #000000; text-decoration-color: #000000\">: </span><span style=\"color: #008000; text-decoration-color: #008000\">'human'</span><span style=\"color: #000000; text-decoration-color: #000000\">, </span><span style=\"color: #008000; text-decoration-color: #008000\">'value'</span><span style=\"color: #000000; text-decoration-color: #000000\">: </span><span style=\"color: #008000; text-decoration-color: #008000\">'&lt;image&gt;\\nWhat are the objects and relations you see in this image?'</span><span style=\"color: #000000; text-decoration-color: #000000; font-weight: bold\">}</span><span style=\"color: #000000; text-decoration-color: #000000\">,</span>\n",
       "<span style=\"color: #000000; text-decoration-color: #000000\">            </span><span style=\"color: #000000; text-decoration-color: #000000; font-weight: bold\">{</span><span style=\"color: #008000; text-decoration-color: #008000\">'from'</span><span style=\"color: #000000; text-decoration-color: #000000\">: </span><span style=\"color: #008000; text-decoration-color: #008000\">'gpt'</span><span style=\"color: #000000; text-decoration-color: #000000\">, </span><span style=\"color: #008000; text-decoration-color: #008000\">'value'</span><span style=\"color: #000000; text-decoration-color: #000000\">: </span><span style=\"color: #008000; text-decoration-color: #008000\">'Device 1: \\npcb_covered in hca_back\\n'</span><span style=\"color: #000000; text-decoration-color: #000000; font-weight: bold\">}</span>\n",
       "<span style=\"color: #000000; text-decoration-color: #000000\">        </span><span style=\"color: #000000; text-decoration-color: #000000; font-weight: bold\">]</span>\n",
       "<span style=\"color: #000000; text-decoration-color: #000000\">    </span><span style=\"color: #000000; text-decoration-color: #000000; font-weight: bold\">}</span><span style=\"color: #000000; text-decoration-color: #000000\">,</span>\n",
       "<span style=\"color: #000000; text-decoration-color: #000000\">    </span><span style=\"color: #000000; text-decoration-color: #000000; font-weight: bold\">{</span>\n",
       "<span style=\"color: #000000; text-decoration-color: #000000\">        </span><span style=\"color: #008000; text-decoration-color: #008000\">'id'</span><span style=\"color: #000000; text-decoration-color: #000000\">: </span><span style=\"color: #008080; text-decoration-color: #008080; font-weight: bold\">7</span><span style=\"color: #000000; text-decoration-color: #000000\">,</span>\n",
       "<span style=\"color: #000000; text-decoration-color: #000000\">        </span><span style=\"color: #008000; text-decoration-color: #008000\">'image'</span><span style=\"color: #000000; text-decoration-color: #000000\">: </span><span style=\"color: #008000; text-decoration-color: #008000\">'images/00000008.jpg'</span><span style=\"color: #000000; text-decoration-color: #000000\">,</span>\n",
       "<span style=\"color: #000000; text-decoration-color: #000000\">        </span><span style=\"color: #008000; text-decoration-color: #008000\">'conversations'</span><span style=\"color: #000000; text-decoration-color: #000000\">: </span><span style=\"color: #000000; text-decoration-color: #000000; font-weight: bold\">[</span>\n",
       "<span style=\"color: #000000; text-decoration-color: #000000\">            </span><span style=\"color: #000000; text-decoration-color: #000000; font-weight: bold\">{</span><span style=\"color: #008000; text-decoration-color: #008000\">'from'</span><span style=\"color: #000000; text-decoration-color: #000000\">: </span><span style=\"color: #008000; text-decoration-color: #008000\">'human'</span><span style=\"color: #000000; text-decoration-color: #000000\">, </span><span style=\"color: #008000; text-decoration-color: #008000\">'value'</span><span style=\"color: #000000; text-decoration-color: #000000\">: </span><span style=\"color: #008000; text-decoration-color: #008000\">'&lt;image&gt;\\nWhat are the objects and relations you see in this image?'</span><span style=\"color: #000000; text-decoration-color: #000000; font-weight: bold\">}</span><span style=\"color: #000000; text-decoration-color: #000000\">,</span>\n",
       "<span style=\"color: #000000; text-decoration-color: #000000\">            </span><span style=\"color: #000000; text-decoration-color: #000000; font-weight: bold\">{</span><span style=\"color: #008000; text-decoration-color: #008000\">'from'</span><span style=\"color: #000000; text-decoration-color: #000000\">: </span><span style=\"color: #008000; text-decoration-color: #008000\">'gpt'</span><span style=\"color: #000000; text-decoration-color: #000000\">, </span><span style=\"color: #008000; text-decoration-color: #008000\">'value'</span><span style=\"color: #000000; text-decoration-color: #000000\">: </span><span style=\"color: #008000; text-decoration-color: #008000\">'Device 1: \\ninternals in hca_back\\n'</span><span style=\"color: #000000; text-decoration-color: #000000; font-weight: bold\">}</span>\n",
       "<span style=\"color: #000000; text-decoration-color: #000000\">        </span><span style=\"color: #000000; text-decoration-color: #000000; font-weight: bold\">]</span>\n",
       "<span style=\"color: #000000; text-decoration-color: #000000\">    </span><span style=\"color: #000000; text-decoration-color: #000000; font-weight: bold\">}</span><span style=\"color: #000000; text-decoration-color: #000000\">,</span>\n",
       "<span style=\"color: #000000; text-decoration-color: #000000\">    </span><span style=\"color: #000000; text-decoration-color: #000000; font-weight: bold\">{</span>\n",
       "<span style=\"color: #000000; text-decoration-color: #000000\">        </span><span style=\"color: #008000; text-decoration-color: #008000\">'id'</span><span style=\"color: #000000; text-decoration-color: #000000\">: </span><span style=\"color: #008080; text-decoration-color: #008080; font-weight: bold\">8</span><span style=\"color: #000000; text-decoration-color: #000000\">,</span>\n",
       "<span style=\"color: #000000; text-decoration-color: #000000\">        </span><span style=\"color: #008000; text-decoration-color: #008000\">'image'</span><span style=\"color: #000000; text-decoration-color: #000000\">: </span><span style=\"color: #008000; text-decoration-color: #008000\">'images/00000009.jpg'</span><span style=\"color: #000000; text-decoration-color: #000000\">,</span>\n",
       "<span style=\"color: #000000; text-decoration-color: #000000\">        </span><span style=\"color: #008000; text-decoration-color: #008000\">'conversations'</span><span style=\"color: #000000; text-decoration-color: #000000\">: </span><span style=\"color: #000000; text-decoration-color: #000000; font-weight: bold\">[</span>\n",
       "<span style=\"color: #000000; text-decoration-color: #000000\">            </span><span style=\"color: #000000; text-decoration-color: #000000; font-weight: bold\">{</span><span style=\"color: #008000; text-decoration-color: #008000\">'from'</span><span style=\"color: #000000; text-decoration-color: #000000\">: </span><span style=\"color: #008000; text-decoration-color: #008000\">'human'</span><span style=\"color: #000000; text-decoration-color: #000000\">, </span><span style=\"color: #008000; text-decoration-color: #008000\">'value'</span><span style=\"color: #000000; text-decoration-color: #000000\">: </span><span style=\"color: #008000; text-decoration-color: #008000\">'&lt;image&gt;\\nWhat are the objects and relations you see in this image?'</span><span style=\"color: #000000; text-decoration-color: #000000; font-weight: bold\">}</span><span style=\"color: #000000; text-decoration-color: #000000\">,</span>\n",
       "<span style=\"color: #000000; text-decoration-color: #000000\">            </span><span style=\"color: #000000; text-decoration-color: #000000; font-weight: bold\">{</span><span style=\"color: #008000; text-decoration-color: #008000\">'from'</span><span style=\"color: #000000; text-decoration-color: #000000\">: </span><span style=\"color: #008000; text-decoration-color: #008000\">'gpt'</span><span style=\"color: #000000; text-decoration-color: #000000\">, </span><span style=\"color: #008000; text-decoration-color: #008000\">'value'</span><span style=\"color: #000000; text-decoration-color: #000000\">: </span><span style=\"color: #008000; text-decoration-color: #008000\">'Device 1: \\npcb in internals\\n'</span><span style=\"color: #000000; text-decoration-color: #000000; font-weight: bold\">}</span>\n",
       "<span style=\"color: #000000; text-decoration-color: #000000\">        </span><span style=\"color: #000000; text-decoration-color: #000000; font-weight: bold\">]</span>\n",
       "<span style=\"color: #000000; text-decoration-color: #000000\">    </span><span style=\"color: #000000; text-decoration-color: #000000; font-weight: bold\">}</span><span style=\"color: #000000; text-decoration-color: #000000\">,</span>\n",
       "<span style=\"color: #000000; text-decoration-color: #000000\">    </span><span style=\"color: #000000; text-decoration-color: #000000; font-weight: bold\">{</span>\n",
       "<span style=\"color: #000000; text-decoration-color: #000000\">        </span><span style=\"color: #008000; text-decoration-color: #008000\">'id'</span><span style=\"color: #000000; text-decoration-color: #000000\">: </span><span style=\"color: #008080; text-decoration-color: #008080; font-weight: bold\">9</span><span style=\"color: #000000; text-decoration-color: #000000\">,</span>\n",
       "<span style=\"color: #000000; text-decoration-color: #000000\">        </span><span style=\"color: #008000; text-decoration-color: #008000\">'image'</span><span style=\"color: #000000; text-decoration-color: #000000\">: </span><span style=\"color: #008000; text-decoration-color: #008000\">'images/00000010.jpg'</span><span style=\"color: #000000; text-decoration-color: #000000\">,</span>\n",
       "<span style=\"color: #000000; text-decoration-color: #000000\">        </span><span style=\"color: #008000; text-decoration-color: #008000\">'conversations'</span><span style=\"color: #000000; text-decoration-color: #000000\">: </span><span style=\"color: #000000; text-decoration-color: #000000; font-weight: bold\">[</span>\n",
       "<span style=\"color: #000000; text-decoration-color: #000000\">            </span><span style=\"color: #000000; text-decoration-color: #000000; font-weight: bold\">{</span><span style=\"color: #008000; text-decoration-color: #008000\">'from'</span><span style=\"color: #000000; text-decoration-color: #000000\">: </span><span style=\"color: #008000; text-decoration-color: #008000\">'human'</span><span style=\"color: #000000; text-decoration-color: #000000\">, </span><span style=\"color: #008000; text-decoration-color: #008000\">'value'</span><span style=\"color: #000000; text-decoration-color: #000000\">: </span><span style=\"color: #008000; text-decoration-color: #008000\">'&lt;image&gt;\\nWhat are the objects and relations you see in this image?'</span><span style=\"color: #000000; text-decoration-color: #000000; font-weight: bold\">}</span><span style=\"color: #000000; text-decoration-color: #000000\">,</span>\n",
       "<span style=\"color: #000000; text-decoration-color: #000000\">            </span><span style=\"color: #000000; text-decoration-color: #000000; font-weight: bold\">{</span>\n",
       "<span style=\"color: #000000; text-decoration-color: #000000\">                </span><span style=\"color: #008000; text-decoration-color: #008000\">'from'</span><span style=\"color: #000000; text-decoration-color: #000000\">: </span><span style=\"color: #008000; text-decoration-color: #008000\">'gpt'</span><span style=\"color: #000000; text-decoration-color: #000000\">,</span>\n",
       "<span style=\"color: #000000; text-decoration-color: #000000\">                </span><span style=\"color: #008000; text-decoration-color: #008000\">'value'</span><span style=\"color: #000000; text-decoration-color: #000000\">: </span><span style=\"color: #008000; text-decoration-color: #008000\">'Device 1: \\npcb_covered in hca_back\\n\\nDevice 2: \\npcb_covered in hca_back\\n'</span>\n",
       "<span style=\"color: #000000; text-decoration-color: #000000\">            </span><span style=\"color: #000000; text-decoration-color: #000000; font-weight: bold\">}</span>\n",
       "<span style=\"color: #000000; text-decoration-color: #000000\">        </span><span style=\"color: #000000; text-decoration-color: #000000; font-weight: bold\">]</span>\n",
       "<span style=\"color: #000000; text-decoration-color: #000000\">    </span><span style=\"color: #000000; text-decoration-color: #000000; font-weight: bold\">}</span><span style=\"color: #000000; text-decoration-color: #000000\">,</span>\n",
       "<span style=\"color: #000000; text-decoration-color: #000000\">    </span><span style=\"color: #000000; text-decoration-color: #000000; font-weight: bold\">{</span>\n",
       "<span style=\"color: #000000; text-decoration-color: #000000\">        </span><span style=\"color: #008000; text-decoration-color: #008000\">'id'</span><span style=\"color: #000000; text-decoration-color: #000000\">: </span><span style=\"color: #008080; text-decoration-color: #008080; font-weight: bold\">10</span><span style=\"color: #000000; text-decoration-color: #000000\">,</span>\n",
       "<span style=\"color: #000000; text-decoration-color: #000000\">        </span><span style=\"color: #008000; text-decoration-color: #008000\">'image'</span><span style=\"color: #000000; text-decoration-color: #000000\">: </span><span style=\"color: #008000; text-decoration-color: #008000\">'images/00000011.jpg'</span><span style=\"color: #000000; text-decoration-color: #000000\">,</span>\n",
       "<span style=\"color: #000000; text-decoration-color: #000000\">        </span><span style=\"color: #008000; text-decoration-color: #008000\">'conversations'</span><span style=\"color: #000000; text-decoration-color: #000000\">: </span><span style=\"color: #000000; text-decoration-color: #000000; font-weight: bold\">[</span>\n",
       "<span style=\"color: #000000; text-decoration-color: #000000\">            </span><span style=\"color: #000000; text-decoration-color: #000000; font-weight: bold\">{</span><span style=\"color: #008000; text-decoration-color: #008000\">'from'</span><span style=\"color: #000000; text-decoration-color: #000000\">: </span><span style=\"color: #008000; text-decoration-color: #008000\">'human'</span><span style=\"color: #000000; text-decoration-color: #000000\">, </span><span style=\"color: #008000; text-decoration-color: #008000\">'value'</span><span style=\"color: #000000; text-decoration-color: #000000\">: </span><span style=\"color: #008000; text-decoration-color: #008000\">'&lt;image&gt;\\nWhat are the objects and relations you see in this image?'</span><span style=\"color: #000000; text-decoration-color: #000000; font-weight: bold\">}</span><span style=\"color: #000000; text-decoration-color: #000000\">,</span>\n",
       "<span style=\"color: #000000; text-decoration-color: #000000\">            </span><span style=\"color: #000000; text-decoration-color: #000000; font-weight: bold\">{</span><span style=\"color: #008000; text-decoration-color: #008000\">'from'</span><span style=\"color: #000000; text-decoration-color: #000000\">: </span><span style=\"color: #008000; text-decoration-color: #008000\">'gpt'</span><span style=\"color: #000000; text-decoration-color: #000000\">, </span><span style=\"color: #008000; text-decoration-color: #008000\">'value'</span><span style=\"color: #000000; text-decoration-color: #000000\">: </span><span style=\"color: #008000; text-decoration-color: #008000\">'Device 1: \\nbattery_covered in firealarm_back\\n'</span><span style=\"color: #000000; text-decoration-color: #000000; font-weight: bold\">}</span>\n",
       "<span style=\"color: #000000; text-decoration-color: #000000\">        </span><span style=\"color: #000000; text-decoration-color: #000000; font-weight: bold\">]</span>\n",
       "<span style=\"color: #000000; text-decoration-color: #000000\">    </span><span style=\"color: #000000; text-decoration-color: #000000; font-weight: bold\">}</span><span style=\"color: #000000; text-decoration-color: #000000\">,</span>\n",
       "<span style=\"color: #000000; text-decoration-color: #000000\">    </span><span style=\"color: #000000; text-decoration-color: #000000; font-weight: bold\">{</span>\n",
       "<span style=\"color: #000000; text-decoration-color: #000000\">        </span><span style=\"color: #008000; text-decoration-color: #008000\">'id'</span><span style=\"color: #000000; text-decoration-color: #000000\">: </span><span style=\"color: #008080; text-decoration-color: #008080; font-weight: bold\">11</span><span style=\"color: #000000; text-decoration-color: #000000\">,</span>\n",
       "<span style=\"color: #000000; text-decoration-color: #000000\">        </span><span style=\"color: #008000; text-decoration-color: #008000\">'image'</span><span style=\"color: #000000; text-decoration-color: #000000\">: </span><span style=\"color: #008000; text-decoration-color: #008000\">'images/00000012.jpg'</span><span style=\"color: #000000; text-decoration-color: #000000\">,</span>\n",
       "<span style=\"color: #000000; text-decoration-color: #000000\">        </span><span style=\"color: #008000; text-decoration-color: #008000\">'conversations'</span><span style=\"color: #000000; text-decoration-color: #000000\">: </span><span style=\"color: #000000; text-decoration-color: #000000; font-weight: bold\">[</span>\n",
       "<span style=\"color: #000000; text-decoration-color: #000000\">            </span><span style=\"color: #000000; text-decoration-color: #000000; font-weight: bold\">{</span><span style=\"color: #008000; text-decoration-color: #008000\">'from'</span><span style=\"color: #000000; text-decoration-color: #000000\">: </span><span style=\"color: #008000; text-decoration-color: #008000\">'human'</span><span style=\"color: #000000; text-decoration-color: #000000\">, </span><span style=\"color: #008000; text-decoration-color: #008000\">'value'</span><span style=\"color: #000000; text-decoration-color: #000000\">: </span><span style=\"color: #008000; text-decoration-color: #008000\">'&lt;image&gt;\\nWhat are the objects and relations you see in this image?'</span><span style=\"color: #000000; text-decoration-color: #000000; font-weight: bold\">}</span><span style=\"color: #000000; text-decoration-color: #000000\">,</span>\n",
       "<span style=\"color: #000000; text-decoration-color: #000000\">            </span><span style=\"color: #000000; text-decoration-color: #000000; font-weight: bold\">{</span><span style=\"color: #008000; text-decoration-color: #008000\">'from'</span><span style=\"color: #000000; text-decoration-color: #000000\">: </span><span style=\"color: #008000; text-decoration-color: #008000\">'gpt'</span><span style=\"color: #000000; text-decoration-color: #000000\">, </span><span style=\"color: #008000; text-decoration-color: #008000\">'value'</span><span style=\"color: #000000; text-decoration-color: #000000\">: </span><span style=\"color: #008000; text-decoration-color: #008000\">'Device 1: \\nfirealarm_front'</span><span style=\"color: #000000; text-decoration-color: #000000; font-weight: bold\">}</span>\n",
       "<span style=\"color: #000000; text-decoration-color: #000000\">        </span><span style=\"color: #000000; text-decoration-color: #000000; font-weight: bold\">]</span>\n",
       "<span style=\"color: #000000; text-decoration-color: #000000\">    </span><span style=\"color: #000000; text-decoration-color: #000000; font-weight: bold\">}</span><span style=\"color: #000000; text-decoration-color: #000000\">,</span>\n",
       "<span style=\"color: #000000; text-decoration-color: #000000\">    </span><span style=\"color: #000000; text-decoration-color: #000000; font-weight: bold\">{</span>\n",
       "<span style=\"color: #000000; text-decoration-color: #000000\">        </span><span style=\"color: #008000; text-decoration-color: #008000\">'id'</span><span style=\"color: #000000; text-decoration-color: #000000\">: </span><span style=\"color: #008080; text-decoration-color: #008080; font-weight: bold\">12</span><span style=\"color: #000000; text-decoration-color: #000000\">,</span>\n",
       "<span style=\"color: #000000; text-decoration-color: #000000\">        </span><span style=\"color: #008000; text-decoration-color: #008000\">'image'</span><span style=\"color: #000000; text-decoration-color: #000000\">: </span><span style=\"color: #008000; text-decoration-color: #008000\">'images/00000013.jpg'</span><span style=\"color: #000000; text-decoration-color: #000000\">,</span>\n",
       "<span style=\"color: #000000; text-decoration-color: #000000\">        </span><span style=\"color: #008000; text-decoration-color: #008000\">'conversations'</span><span style=\"color: #000000; text-decoration-color: #000000\">: </span><span style=\"color: #000000; text-decoration-color: #000000; font-weight: bold\">[</span>\n",
       "<span style=\"color: #000000; text-decoration-color: #000000\">            </span><span style=\"color: #000000; text-decoration-color: #000000; font-weight: bold\">{</span><span style=\"color: #008000; text-decoration-color: #008000\">'from'</span><span style=\"color: #000000; text-decoration-color: #000000\">: </span><span style=\"color: #008000; text-decoration-color: #008000\">'human'</span><span style=\"color: #000000; text-decoration-color: #000000\">, </span><span style=\"color: #008000; text-decoration-color: #008000\">'value'</span><span style=\"color: #000000; text-decoration-color: #000000\">: </span><span style=\"color: #008000; text-decoration-color: #008000\">'&lt;image&gt;\\nWhat are the objects and relations you see in this image?'</span><span style=\"color: #000000; text-decoration-color: #000000; font-weight: bold\">}</span><span style=\"color: #000000; text-decoration-color: #000000\">,</span>\n",
       "<span style=\"color: #000000; text-decoration-color: #000000\">            </span><span style=\"color: #000000; text-decoration-color: #000000; font-weight: bold\">{</span><span style=\"color: #008000; text-decoration-color: #008000\">'from'</span><span style=\"color: #000000; text-decoration-color: #000000\">: </span><span style=\"color: #008000; text-decoration-color: #008000\">'gpt'</span><span style=\"color: #000000; text-decoration-color: #000000\">, </span><span style=\"color: #008000; text-decoration-color: #008000\">'value'</span><span style=\"color: #000000; text-decoration-color: #000000\">: </span><span style=\"color: #008000; text-decoration-color: #008000\">'Device 1: \\nfirealarm_front'</span><span style=\"color: #000000; text-decoration-color: #000000; font-weight: bold\">}</span>\n",
       "<span style=\"color: #000000; text-decoration-color: #000000\">        </span><span style=\"color: #000000; text-decoration-color: #000000; font-weight: bold\">]</span>\n",
       "<span style=\"color: #000000; text-decoration-color: #000000\">    </span><span style=\"color: #000000; text-decoration-color: #000000; font-weight: bold\">}</span><span style=\"color: #000000; text-decoration-color: #000000\">,</span>\n",
       "<span style=\"color: #000000; text-decoration-color: #000000\">    </span><span style=\"color: #000000; text-decoration-color: #000000; font-weight: bold\">{</span>\n",
       "<span style=\"color: #000000; text-decoration-color: #000000\">        </span><span style=\"color: #008000; text-decoration-color: #008000\">'id'</span><span style=\"color: #000000; text-decoration-color: #000000\">: </span><span style=\"color: #008080; text-decoration-color: #008080; font-weight: bold\">13</span><span style=\"color: #000000; text-decoration-color: #000000\">,</span>\n",
       "<span style=\"color: #000000; text-decoration-color: #000000\">        </span><span style=\"color: #008000; text-decoration-color: #008000\">'image'</span><span style=\"color: #000000; text-decoration-color: #000000\">: </span><span style=\"color: #008000; text-decoration-color: #008000\">'images/00000014.jpg'</span><span style=\"color: #000000; text-decoration-color: #000000\">,</span>\n",
       "<span style=\"color: #000000; text-decoration-color: #000000\">        </span><span style=\"color: #008000; text-decoration-color: #008000\">'conversations'</span><span style=\"color: #000000; text-decoration-color: #000000\">: </span><span style=\"color: #000000; text-decoration-color: #000000; font-weight: bold\">[</span>\n",
       "<span style=\"color: #000000; text-decoration-color: #000000\">            </span><span style=\"color: #000000; text-decoration-color: #000000; font-weight: bold\">{</span><span style=\"color: #008000; text-decoration-color: #008000\">'from'</span><span style=\"color: #000000; text-decoration-color: #000000\">: </span><span style=\"color: #008000; text-decoration-color: #008000\">'human'</span><span style=\"color: #000000; text-decoration-color: #000000\">, </span><span style=\"color: #008000; text-decoration-color: #008000\">'value'</span><span style=\"color: #000000; text-decoration-color: #000000\">: </span><span style=\"color: #008000; text-decoration-color: #008000\">'&lt;image&gt;\\nWhat are the objects and relations you see in this image?'</span><span style=\"color: #000000; text-decoration-color: #000000; font-weight: bold\">}</span><span style=\"color: #000000; text-decoration-color: #000000\">,</span>\n",
       "<span style=\"color: #000000; text-decoration-color: #000000\">            </span><span style=\"color: #000000; text-decoration-color: #000000; font-weight: bold\">{</span>\n",
       "<span style=\"color: #000000; text-decoration-color: #000000\">                </span><span style=\"color: #008000; text-decoration-color: #008000\">'from'</span><span style=\"color: #000000; text-decoration-color: #000000\">: </span><span style=\"color: #008000; text-decoration-color: #008000\">'gpt'</span><span style=\"color: #000000; text-decoration-color: #000000\">,</span>\n",
       "<span style=\"color: #000000; text-decoration-color: #000000\">                </span><span style=\"color: #008000; text-decoration-color: #008000\">'value'</span><span style=\"color: #000000; text-decoration-color: #000000\">: </span><span style=\"color: #008000; text-decoration-color: #008000\">'Device 1: \\npcb in internals\\nbattery in internals\\nbattery in pcb\\n\\nDevice 2: \\npcb in </span>\n",
       "<span style=\"color: #008000; text-decoration-color: #008000\">hca_back\\n'</span>\n",
       "<span style=\"color: #000000; text-decoration-color: #000000\">            </span><span style=\"color: #000000; text-decoration-color: #000000; font-weight: bold\">}</span>\n",
       "<span style=\"color: #000000; text-decoration-color: #000000\">        </span><span style=\"color: #000000; text-decoration-color: #000000; font-weight: bold\">]</span>\n",
       "<span style=\"color: #000000; text-decoration-color: #000000\">    </span><span style=\"color: #000000; text-decoration-color: #000000; font-weight: bold\">}</span><span style=\"color: #000000; text-decoration-color: #000000\">,</span>\n",
       "<span style=\"color: #000000; text-decoration-color: #000000\">    </span><span style=\"color: #000000; text-decoration-color: #000000; font-weight: bold\">{</span>\n",
       "<span style=\"color: #000000; text-decoration-color: #000000\">        </span><span style=\"color: #008000; text-decoration-color: #008000\">'id'</span><span style=\"color: #000000; text-decoration-color: #000000\">: </span><span style=\"color: #008080; text-decoration-color: #008080; font-weight: bold\">14</span><span style=\"color: #000000; text-decoration-color: #000000\">,</span>\n",
       "<span style=\"color: #000000; text-decoration-color: #000000\">        </span><span style=\"color: #008000; text-decoration-color: #008000\">'image'</span><span style=\"color: #000000; text-decoration-color: #000000\">: </span><span style=\"color: #008000; text-decoration-color: #008000\">'images/00000015.jpg'</span><span style=\"color: #000000; text-decoration-color: #000000\">,</span>\n",
       "<span style=\"color: #000000; text-decoration-color: #000000\">        </span><span style=\"color: #008000; text-decoration-color: #008000\">'conversations'</span><span style=\"color: #000000; text-decoration-color: #000000\">: </span><span style=\"color: #000000; text-decoration-color: #000000; font-weight: bold\">[</span>\n",
       "<span style=\"color: #000000; text-decoration-color: #000000\">            </span><span style=\"color: #000000; text-decoration-color: #000000; font-weight: bold\">{</span><span style=\"color: #008000; text-decoration-color: #008000\">'from'</span><span style=\"color: #000000; text-decoration-color: #000000\">: </span><span style=\"color: #008000; text-decoration-color: #008000\">'human'</span><span style=\"color: #000000; text-decoration-color: #000000\">, </span><span style=\"color: #008000; text-decoration-color: #008000\">'value'</span><span style=\"color: #000000; text-decoration-color: #000000\">: </span><span style=\"color: #008000; text-decoration-color: #008000\">'&lt;image&gt;\\nWhat are the objects and relations you see in this image?'</span><span style=\"color: #000000; text-decoration-color: #000000; font-weight: bold\">}</span><span style=\"color: #000000; text-decoration-color: #000000\">,</span>\n",
       "<span style=\"color: #000000; text-decoration-color: #000000\">            </span><span style=\"color: #000000; text-decoration-color: #000000; font-weight: bold\">{</span><span style=\"color: #008000; text-decoration-color: #008000\">'from'</span><span style=\"color: #000000; text-decoration-color: #000000\">: </span><span style=\"color: #008000; text-decoration-color: #008000\">'gpt'</span><span style=\"color: #000000; text-decoration-color: #000000\">, </span><span style=\"color: #008000; text-decoration-color: #008000\">'value'</span><span style=\"color: #000000; text-decoration-color: #000000\">: </span><span style=\"color: #008000; text-decoration-color: #008000\">'Device 1: \\nbattery_covered in firealarm_back\\n'</span><span style=\"color: #000000; text-decoration-color: #000000; font-weight: bold\">}</span>\n",
       "<span style=\"color: #000000; text-decoration-color: #000000\">        </span><span style=\"color: #000000; text-decoration-color: #000000; font-weight: bold\">]</span>\n",
       "<span style=\"color: #000000; text-decoration-color: #000000\">    </span><span style=\"color: #000000; text-decoration-color: #000000; font-weight: bold\">}</span><span style=\"color: #000000; text-decoration-color: #000000\">,</span>\n",
       "<span style=\"color: #000000; text-decoration-color: #000000\">    </span><span style=\"color: #000000; text-decoration-color: #000000; font-weight: bold\">{</span>\n",
       "<span style=\"color: #000000; text-decoration-color: #000000\">        </span><span style=\"color: #008000; text-decoration-color: #008000\">'id'</span><span style=\"color: #000000; text-decoration-color: #000000\">: </span><span style=\"color: #008080; text-decoration-color: #008080; font-weight: bold\">15</span><span style=\"color: #000000; text-decoration-color: #000000\">,</span>\n",
       "<span style=\"color: #000000; text-decoration-color: #000000\">        </span><span style=\"color: #008000; text-decoration-color: #008000\">'image'</span><span style=\"color: #000000; text-decoration-color: #000000\">: </span><span style=\"color: #008000; text-decoration-color: #008000\">'images/00000016.jpg'</span><span style=\"color: #000000; text-decoration-color: #000000\">,</span>\n",
       "<span style=\"color: #000000; text-decoration-color: #000000\">        </span><span style=\"color: #008000; text-decoration-color: #008000\">'conversations'</span><span style=\"color: #000000; text-decoration-color: #000000\">: </span><span style=\"color: #000000; text-decoration-color: #000000; font-weight: bold\">[</span>\n",
       "<span style=\"color: #000000; text-decoration-color: #000000\">            </span><span style=\"color: #000000; text-decoration-color: #000000; font-weight: bold\">{</span><span style=\"color: #008000; text-decoration-color: #008000\">'from'</span><span style=\"color: #000000; text-decoration-color: #000000\">: </span><span style=\"color: #008000; text-decoration-color: #008000\">'human'</span><span style=\"color: #000000; text-decoration-color: #000000\">, </span><span style=\"color: #008000; text-decoration-color: #008000\">'value'</span><span style=\"color: #000000; text-decoration-color: #000000\">: </span><span style=\"color: #008000; text-decoration-color: #008000\">'&lt;image&gt;\\nWhat are the objects and relations you see in this image?'</span><span style=\"color: #000000; text-decoration-color: #000000; font-weight: bold\">}</span><span style=\"color: #000000; text-decoration-color: #000000\">,</span>\n",
       "<span style=\"color: #000000; text-decoration-color: #000000\">            </span><span style=\"color: #000000; text-decoration-color: #000000; font-weight: bold\">{</span><span style=\"color: #008000; text-decoration-color: #008000\">'from'</span><span style=\"color: #000000; text-decoration-color: #000000\">: </span><span style=\"color: #008000; text-decoration-color: #008000\">'gpt'</span><span style=\"color: #000000; text-decoration-color: #000000\">, </span><span style=\"color: #008000; text-decoration-color: #008000\">'value'</span><span style=\"color: #000000; text-decoration-color: #000000\">: </span><span style=\"color: #008000; text-decoration-color: #008000\">'Device 1: \\nfirealarm_back'</span><span style=\"color: #000000; text-decoration-color: #000000; font-weight: bold\">}</span>\n",
       "<span style=\"color: #000000; text-decoration-color: #000000\">        </span><span style=\"color: #000000; text-decoration-color: #000000; font-weight: bold\">]</span>\n",
       "<span style=\"color: #000000; text-decoration-color: #000000\">    </span><span style=\"color: #000000; text-decoration-color: #000000; font-weight: bold\">}</span><span style=\"color: #000000; text-decoration-color: #000000\">,</span>\n",
       "<span style=\"color: #000000; text-decoration-color: #000000\">    </span><span style=\"color: #000000; text-decoration-color: #000000; font-weight: bold\">{</span>\n",
       "<span style=\"color: #000000; text-decoration-color: #000000\">        </span><span style=\"color: #008000; text-decoration-color: #008000\">'id'</span><span style=\"color: #000000; text-decoration-color: #000000\">: </span><span style=\"color: #008080; text-decoration-color: #008080; font-weight: bold\">16</span><span style=\"color: #000000; text-decoration-color: #000000\">,</span>\n",
       "<span style=\"color: #000000; text-decoration-color: #000000\">        </span><span style=\"color: #008000; text-decoration-color: #008000\">'image'</span><span style=\"color: #000000; text-decoration-color: #000000\">: </span><span style=\"color: #008000; text-decoration-color: #008000\">'images/00000017.jpg'</span><span style=\"color: #000000; text-decoration-color: #000000\">,</span>\n",
       "<span style=\"color: #000000; text-decoration-color: #000000\">        </span><span style=\"color: #008000; text-decoration-color: #008000\">'conversations'</span><span style=\"color: #000000; text-decoration-color: #000000\">: </span><span style=\"color: #000000; text-decoration-color: #000000; font-weight: bold\">[</span>\n",
       "<span style=\"color: #000000; text-decoration-color: #000000\">            </span><span style=\"color: #000000; text-decoration-color: #000000; font-weight: bold\">{</span><span style=\"color: #008000; text-decoration-color: #008000\">'from'</span><span style=\"color: #000000; text-decoration-color: #000000\">: </span><span style=\"color: #008000; text-decoration-color: #008000\">'human'</span><span style=\"color: #000000; text-decoration-color: #000000\">, </span><span style=\"color: #008000; text-decoration-color: #008000\">'value'</span><span style=\"color: #000000; text-decoration-color: #000000\">: </span><span style=\"color: #008000; text-decoration-color: #008000\">'&lt;image&gt;\\nWhat are the objects and relations you see in this image?'</span><span style=\"color: #000000; text-decoration-color: #000000; font-weight: bold\">}</span><span style=\"color: #000000; text-decoration-color: #000000\">,</span>\n",
       "<span style=\"color: #000000; text-decoration-color: #000000\">            </span><span style=\"color: #000000; text-decoration-color: #000000; font-weight: bold\">{</span>\n",
       "<span style=\"color: #000000; text-decoration-color: #000000\">                </span><span style=\"color: #008000; text-decoration-color: #008000\">'from'</span><span style=\"color: #000000; text-decoration-color: #000000\">: </span><span style=\"color: #008000; text-decoration-color: #008000\">'gpt'</span><span style=\"color: #000000; text-decoration-color: #000000\">,</span>\n",
       "<span style=\"color: #000000; text-decoration-color: #000000\">                </span><span style=\"color: #008000; text-decoration-color: #008000\">'value'</span><span style=\"color: #000000; text-decoration-color: #000000\">: </span><span style=\"color: #008000; text-decoration-color: #008000\">'Device 1: \\ninternals in hca_back\\nbattery in hca_back\\ninternals next to </span>\n",
       "<span style=\"color: #008000; text-decoration-color: #008000\">battery\\nbattery next to internals\\n\\nDevice 2: \\npcb in hca_back\\nbattery in hca_back\\npcb next to </span>\n",
       "<span style=\"color: #008000; text-decoration-color: #008000\">battery\\nbattery next to pcb\\n'</span>\n",
       "<span style=\"color: #000000; text-decoration-color: #000000\">            </span><span style=\"color: #000000; text-decoration-color: #000000; font-weight: bold\">}</span>\n",
       "<span style=\"color: #000000; text-decoration-color: #000000\">        </span><span style=\"color: #000000; text-decoration-color: #000000; font-weight: bold\">]</span>\n",
       "<span style=\"color: #000000; text-decoration-color: #000000\">    </span><span style=\"color: #000000; text-decoration-color: #000000; font-weight: bold\">}</span><span style=\"color: #000000; text-decoration-color: #000000\">,</span>\n",
       "<span style=\"color: #000000; text-decoration-color: #000000\">    </span><span style=\"color: #000000; text-decoration-color: #000000; font-weight: bold\">{</span>\n",
       "<span style=\"color: #000000; text-decoration-color: #000000\">        </span><span style=\"color: #008000; text-decoration-color: #008000\">'id'</span><span style=\"color: #000000; text-decoration-color: #000000\">: </span><span style=\"color: #008080; text-decoration-color: #008080; font-weight: bold\">17</span><span style=\"color: #000000; text-decoration-color: #000000\">,</span>\n",
       "<span style=\"color: #000000; text-decoration-color: #000000\">        </span><span style=\"color: #008000; text-decoration-color: #008000\">'image'</span><span style=\"color: #000000; text-decoration-color: #000000\">: </span><span style=\"color: #008000; text-decoration-color: #008000\">'images/00000018.jpg'</span><span style=\"color: #000000; text-decoration-color: #000000\">,</span>\n",
       "<span style=\"color: #000000; text-decoration-color: #000000\">        </span><span style=\"color: #008000; text-decoration-color: #008000\">'conversations'</span><span style=\"color: #000000; text-decoration-color: #000000\">: </span><span style=\"color: #000000; text-decoration-color: #000000; font-weight: bold\">[</span>\n",
       "<span style=\"color: #000000; text-decoration-color: #000000\">            </span><span style=\"color: #000000; text-decoration-color: #000000; font-weight: bold\">{</span><span style=\"color: #008000; text-decoration-color: #008000\">'from'</span><span style=\"color: #000000; text-decoration-color: #000000\">: </span><span style=\"color: #008000; text-decoration-color: #008000\">'human'</span><span style=\"color: #000000; text-decoration-color: #000000\">, </span><span style=\"color: #008000; text-decoration-color: #008000\">'value'</span><span style=\"color: #000000; text-decoration-color: #000000\">: </span><span style=\"color: #008000; text-decoration-color: #008000\">'&lt;image&gt;\\nWhat are the objects and relations you see in this image?'</span><span style=\"color: #000000; text-decoration-color: #000000; font-weight: bold\">}</span><span style=\"color: #000000; text-decoration-color: #000000\">,</span>\n",
       "<span style=\"color: #000000; text-decoration-color: #000000\">            </span><span style=\"color: #000000; text-decoration-color: #000000; font-weight: bold\">{</span>\n",
       "<span style=\"color: #000000; text-decoration-color: #000000\">                </span><span style=\"color: #008000; text-decoration-color: #008000\">'from'</span><span style=\"color: #000000; text-decoration-color: #000000\">: </span><span style=\"color: #008000; text-decoration-color: #008000\">'gpt'</span><span style=\"color: #000000; text-decoration-color: #000000\">,</span>\n",
       "<span style=\"color: #000000; text-decoration-color: #000000\">                </span><span style=\"color: #008000; text-decoration-color: #008000\">'value'</span><span style=\"color: #000000; text-decoration-color: #000000\">: </span><span style=\"color: #008000; text-decoration-color: #008000\">'Device 1: \\nhca_back in pcb\\npcb in hca_back\\nhca_back next to internals\\nhca_back next </span>\n",
       "<span style=\"color: #008000; text-decoration-color: #008000\">to pcb\\ninternals next to hca_back\\npcb next to hca_back\\npcb in internals\\npcb in internals\\nbattery in </span>\n",
       "<span style=\"color: #008000; text-decoration-color: #008000\">internals\\nbattery in pcb\\n'</span>\n",
       "<span style=\"color: #000000; text-decoration-color: #000000\">            </span><span style=\"color: #000000; text-decoration-color: #000000; font-weight: bold\">}</span>\n",
       "<span style=\"color: #000000; text-decoration-color: #000000\">        </span><span style=\"color: #000000; text-decoration-color: #000000; font-weight: bold\">]</span>\n",
       "<span style=\"color: #000000; text-decoration-color: #000000\">    </span><span style=\"color: #000000; text-decoration-color: #000000; font-weight: bold\">}</span><span style=\"color: #000000; text-decoration-color: #000000\">,</span>\n",
       "<span style=\"color: #000000; text-decoration-color: #000000\">    </span><span style=\"color: #000000; text-decoration-color: #000000; font-weight: bold\">{</span>\n",
       "<span style=\"color: #000000; text-decoration-color: #000000\">        </span><span style=\"color: #008000; text-decoration-color: #008000\">'id'</span><span style=\"color: #000000; text-decoration-color: #000000\">: </span><span style=\"color: #008080; text-decoration-color: #008080; font-weight: bold\">18</span><span style=\"color: #000000; text-decoration-color: #000000\">,</span>\n",
       "<span style=\"color: #000000; text-decoration-color: #000000\">        </span><span style=\"color: #008000; text-decoration-color: #008000\">'image'</span><span style=\"color: #000000; text-decoration-color: #000000\">: </span><span style=\"color: #008000; text-decoration-color: #008000\">'images/00000019.jpg'</span><span style=\"color: #000000; text-decoration-color: #000000\">,</span>\n",
       "<span style=\"color: #000000; text-decoration-color: #000000\">        </span><span style=\"color: #008000; text-decoration-color: #008000\">'conversations'</span><span style=\"color: #000000; text-decoration-color: #000000\">: </span><span style=\"color: #000000; text-decoration-color: #000000; font-weight: bold\">[</span>\n",
       "<span style=\"color: #000000; text-decoration-color: #000000\">            </span><span style=\"color: #000000; text-decoration-color: #000000; font-weight: bold\">{</span><span style=\"color: #008000; text-decoration-color: #008000\">'from'</span><span style=\"color: #000000; text-decoration-color: #000000\">: </span><span style=\"color: #008000; text-decoration-color: #008000\">'human'</span><span style=\"color: #000000; text-decoration-color: #000000\">, </span><span style=\"color: #008000; text-decoration-color: #008000\">'value'</span><span style=\"color: #000000; text-decoration-color: #000000\">: </span><span style=\"color: #008000; text-decoration-color: #008000\">'&lt;image&gt;\\nWhat are the objects and relations you see in this image?'</span><span style=\"color: #000000; text-decoration-color: #000000; font-weight: bold\">}</span><span style=\"color: #000000; text-decoration-color: #000000\">,</span>\n",
       "<span style=\"color: #000000; text-decoration-color: #000000\">            </span><span style=\"color: #000000; text-decoration-color: #000000; font-weight: bold\">{</span><span style=\"color: #008000; text-decoration-color: #008000\">'from'</span><span style=\"color: #000000; text-decoration-color: #000000\">: </span><span style=\"color: #008000; text-decoration-color: #008000\">'gpt'</span><span style=\"color: #000000; text-decoration-color: #000000\">, </span><span style=\"color: #008000; text-decoration-color: #008000\">'value'</span><span style=\"color: #000000; text-decoration-color: #000000\">: </span><span style=\"color: #008000; text-decoration-color: #008000\">'Device 1: \\npcb_covered in hca_back\\n'</span><span style=\"color: #000000; text-decoration-color: #000000; font-weight: bold\">}</span>\n",
       "<span style=\"color: #000000; text-decoration-color: #000000\">        </span><span style=\"color: #000000; text-decoration-color: #000000; font-weight: bold\">]</span>\n",
       "<span style=\"color: #000000; text-decoration-color: #000000\">    </span><span style=\"color: #000000; text-decoration-color: #000000; font-weight: bold\">}</span><span style=\"color: #000000; text-decoration-color: #000000\">,</span>\n",
       "<span style=\"color: #000000; text-decoration-color: #000000\">    </span><span style=\"color: #000000; text-decoration-color: #000000; font-weight: bold\">{</span>\n",
       "<span style=\"color: #000000; text-decoration-color: #000000\">        </span><span style=\"color: #008000; text-decoration-color: #008000\">'id'</span><span style=\"color: #000000; text-decoration-color: #000000\">: </span><span style=\"color: #008080; text-decoration-color: #008080; font-weight: bold\">19</span><span style=\"color: #000000; text-decoration-color: #000000\">,</span>\n",
       "<span style=\"color: #000000; text-decoration-color: #000000\">        </span><span style=\"color: #008000; text-decoration-color: #008000\">'image'</span><span style=\"color: #000000; text-decoration-color: #000000\">: </span><span style=\"color: #008000; text-decoration-color: #008000\">'images/00000020.jpg'</span><span style=\"color: #000000; text-decoration-color: #000000\">,</span>\n",
       "<span style=\"color: #000000; text-decoration-color: #000000\">        </span><span style=\"color: #008000; text-decoration-color: #008000\">'conversations'</span><span style=\"color: #000000; text-decoration-color: #000000\">: </span><span style=\"color: #000000; text-decoration-color: #000000; font-weight: bold\">[</span>\n",
       "<span style=\"color: #000000; text-decoration-color: #000000\">            </span><span style=\"color: #000000; text-decoration-color: #000000; font-weight: bold\">{</span><span style=\"color: #008000; text-decoration-color: #008000\">'from'</span><span style=\"color: #000000; text-decoration-color: #000000\">: </span><span style=\"color: #008000; text-decoration-color: #008000\">'human'</span><span style=\"color: #000000; text-decoration-color: #000000\">, </span><span style=\"color: #008000; text-decoration-color: #008000\">'value'</span><span style=\"color: #000000; text-decoration-color: #000000\">: </span><span style=\"color: #008000; text-decoration-color: #008000\">'&lt;image&gt;\\nWhat are the objects and relations you see in this image?'</span><span style=\"color: #000000; text-decoration-color: #000000; font-weight: bold\">}</span><span style=\"color: #000000; text-decoration-color: #000000\">,</span>\n",
       "<span style=\"color: #000000; text-decoration-color: #000000\">            </span><span style=\"color: #000000; text-decoration-color: #000000; font-weight: bold\">{</span>\n",
       "<span style=\"color: #000000; text-decoration-color: #000000\">                </span><span style=\"color: #008000; text-decoration-color: #008000\">'from'</span><span style=\"color: #000000; text-decoration-color: #000000\">: </span><span style=\"color: #008000; text-decoration-color: #008000\">'gpt'</span><span style=\"color: #000000; text-decoration-color: #000000\">,</span>\n",
       "<span style=\"color: #000000; text-decoration-color: #000000\">                </span><span style=\"color: #008000; text-decoration-color: #008000\">'value'</span><span style=\"color: #000000; text-decoration-color: #000000\">: </span><span style=\"color: #008000; text-decoration-color: #008000\">'Device 1: \\npcb_covered in hca_back\\nhca_back next to firealarm_back\\nfirealarm_back next</span>\n",
       "<span style=\"color: #008000; text-decoration-color: #008000\">to hca_back\\npcb in firealarm_back\\n'</span>\n",
       "<span style=\"color: #000000; text-decoration-color: #000000\">            </span><span style=\"color: #000000; text-decoration-color: #000000; font-weight: bold\">}</span>\n",
       "<span style=\"color: #000000; text-decoration-color: #000000\">        </span><span style=\"color: #000000; text-decoration-color: #000000; font-weight: bold\">]</span>\n",
       "<span style=\"color: #000000; text-decoration-color: #000000\">    </span><span style=\"color: #000000; text-decoration-color: #000000; font-weight: bold\">}</span><span style=\"color: #000000; text-decoration-color: #000000\">,</span>\n",
       "<span style=\"color: #000000; text-decoration-color: #000000\">    </span><span style=\"color: #000000; text-decoration-color: #000000; font-weight: bold\">{</span>\n",
       "<span style=\"color: #000000; text-decoration-color: #000000\">        </span><span style=\"color: #008000; text-decoration-color: #008000\">'id'</span><span style=\"color: #000000; text-decoration-color: #000000\">: </span><span style=\"color: #008080; text-decoration-color: #008080; font-weight: bold\">20</span><span style=\"color: #000000; text-decoration-color: #000000\">,</span>\n",
       "<span style=\"color: #000000; text-decoration-color: #000000\">        </span><span style=\"color: #008000; text-decoration-color: #008000\">'image'</span><span style=\"color: #000000; text-decoration-color: #000000\">: </span><span style=\"color: #008000; text-decoration-color: #008000\">'images/00000021.jpg'</span><span style=\"color: #000000; text-decoration-color: #000000\">,</span>\n",
       "<span style=\"color: #000000; text-decoration-color: #000000\">        </span><span style=\"color: #008000; text-decoration-color: #008000\">'conversations'</span><span style=\"color: #000000; text-decoration-color: #000000\">: </span><span style=\"color: #000000; text-decoration-color: #000000; font-weight: bold\">[</span>\n",
       "<span style=\"color: #000000; text-decoration-color: #000000\">            </span><span style=\"color: #000000; text-decoration-color: #000000; font-weight: bold\">{</span><span style=\"color: #008000; text-decoration-color: #008000\">'from'</span><span style=\"color: #000000; text-decoration-color: #000000\">: </span><span style=\"color: #008000; text-decoration-color: #008000\">'human'</span><span style=\"color: #000000; text-decoration-color: #000000\">, </span><span style=\"color: #008000; text-decoration-color: #008000\">'value'</span><span style=\"color: #000000; text-decoration-color: #000000\">: </span><span style=\"color: #008000; text-decoration-color: #008000\">'&lt;image&gt;\\nWhat are the objects and relations you see in this image?'</span><span style=\"color: #000000; text-decoration-color: #000000; font-weight: bold\">}</span><span style=\"color: #000000; text-decoration-color: #000000\">,</span>\n",
       "<span style=\"color: #000000; text-decoration-color: #000000\">            </span><span style=\"color: #000000; text-decoration-color: #000000; font-weight: bold\">{</span>\n",
       "<span style=\"color: #000000; text-decoration-color: #000000\">                </span><span style=\"color: #008000; text-decoration-color: #008000\">'from'</span><span style=\"color: #000000; text-decoration-color: #000000\">: </span><span style=\"color: #008000; text-decoration-color: #008000\">'gpt'</span><span style=\"color: #000000; text-decoration-color: #000000\">,</span>\n",
       "<span style=\"color: #000000; text-decoration-color: #000000\">                </span><span style=\"color: #008000; text-decoration-color: #008000\">'value'</span><span style=\"color: #000000; text-decoration-color: #000000\">: </span><span style=\"color: #008000; text-decoration-color: #008000\">'Device 1: \\npcb in hca_back\\nbattery in hca_back\\npcb next to battery\\nbattery next to </span>\n",
       "<span style=\"color: #008000; text-decoration-color: #008000\">pcb\\n'</span>\n",
       "<span style=\"color: #000000; text-decoration-color: #000000\">            </span><span style=\"color: #000000; text-decoration-color: #000000; font-weight: bold\">}</span>\n",
       "<span style=\"color: #000000; text-decoration-color: #000000\">        </span><span style=\"color: #000000; text-decoration-color: #000000; font-weight: bold\">]</span>\n",
       "<span style=\"color: #000000; text-decoration-color: #000000\">    </span><span style=\"color: #000000; text-decoration-color: #000000; font-weight: bold\">}</span><span style=\"color: #000000; text-decoration-color: #000000\">,</span>\n",
       "<span style=\"color: #000000; text-decoration-color: #000000\">    </span><span style=\"color: #000000; text-decoration-color: #000000; font-weight: bold\">{</span>\n",
       "<span style=\"color: #000000; text-decoration-color: #000000\">        </span><span style=\"color: #008000; text-decoration-color: #008000\">'id'</span><span style=\"color: #000000; text-decoration-color: #000000\">: </span><span style=\"color: #008080; text-decoration-color: #008080; font-weight: bold\">21</span><span style=\"color: #000000; text-decoration-color: #000000\">,</span>\n",
       "<span style=\"color: #000000; text-decoration-color: #000000\">        </span><span style=\"color: #008000; text-decoration-color: #008000\">'image'</span><span style=\"color: #000000; text-decoration-color: #000000\">: </span><span style=\"color: #008000; text-decoration-color: #008000\">'images/00000022.jpg'</span><span style=\"color: #000000; text-decoration-color: #000000\">,</span>\n",
       "<span style=\"color: #000000; text-decoration-color: #000000\">        </span><span style=\"color: #008000; text-decoration-color: #008000\">'conversations'</span><span style=\"color: #000000; text-decoration-color: #000000\">: </span><span style=\"color: #000000; text-decoration-color: #000000; font-weight: bold\">[</span>\n",
       "<span style=\"color: #000000; text-decoration-color: #000000\">            </span><span style=\"color: #000000; text-decoration-color: #000000; font-weight: bold\">{</span><span style=\"color: #008000; text-decoration-color: #008000\">'from'</span><span style=\"color: #000000; text-decoration-color: #000000\">: </span><span style=\"color: #008000; text-decoration-color: #008000\">'human'</span><span style=\"color: #000000; text-decoration-color: #000000\">, </span><span style=\"color: #008000; text-decoration-color: #008000\">'value'</span><span style=\"color: #000000; text-decoration-color: #000000\">: </span><span style=\"color: #008000; text-decoration-color: #008000\">'&lt;image&gt;\\nWhat are the objects and relations you see in this image?'</span><span style=\"color: #000000; text-decoration-color: #000000; font-weight: bold\">}</span><span style=\"color: #000000; text-decoration-color: #000000\">,</span>\n",
       "<span style=\"color: #000000; text-decoration-color: #000000\">            </span><span style=\"color: #000000; text-decoration-color: #000000; font-weight: bold\">{</span>\n",
       "<span style=\"color: #000000; text-decoration-color: #000000\">                </span><span style=\"color: #008000; text-decoration-color: #008000\">'from'</span><span style=\"color: #000000; text-decoration-color: #000000\">: </span><span style=\"color: #008000; text-decoration-color: #008000\">'gpt'</span><span style=\"color: #000000; text-decoration-color: #000000\">,</span>\n",
       "<span style=\"color: #000000; text-decoration-color: #000000\">                </span><span style=\"color: #008000; text-decoration-color: #008000\">'value'</span><span style=\"color: #000000; text-decoration-color: #000000\">: </span><span style=\"color: #008000; text-decoration-color: #008000\">'Device 1: \\nbattery_covered in firealarm_back\\nbattery_covered next to </span>\n",
       "<span style=\"color: #008000; text-decoration-color: #008000\">firealarm_back\\nfirealarm_back next to battery_covered\\n'</span>\n",
       "<span style=\"color: #000000; text-decoration-color: #000000\">            </span><span style=\"color: #000000; text-decoration-color: #000000; font-weight: bold\">}</span>\n",
       "<span style=\"color: #000000; text-decoration-color: #000000\">        </span><span style=\"color: #000000; text-decoration-color: #000000; font-weight: bold\">]</span>\n",
       "<span style=\"color: #000000; text-decoration-color: #000000\">    </span><span style=\"color: #000000; text-decoration-color: #000000; font-weight: bold\">}</span><span style=\"color: #000000; text-decoration-color: #000000\">,</span>\n",
       "<span style=\"color: #000000; text-decoration-color: #000000\">    </span><span style=\"color: #000000; text-decoration-color: #000000; font-weight: bold\">{</span>\n",
       "<span style=\"color: #000000; text-decoration-color: #000000\">        </span><span style=\"color: #008000; text-decoration-color: #008000\">'id'</span><span style=\"color: #000000; text-decoration-color: #000000\">: </span><span style=\"color: #008080; text-decoration-color: #008080; font-weight: bold\">22</span><span style=\"color: #000000; text-decoration-color: #000000\">,</span>\n",
       "<span style=\"color: #000000; text-decoration-color: #000000\">        </span><span style=\"color: #008000; text-decoration-color: #008000\">'image'</span><span style=\"color: #000000; text-decoration-color: #000000\">: </span><span style=\"color: #008000; text-decoration-color: #008000\">'images/00000023.jpg'</span><span style=\"color: #000000; text-decoration-color: #000000\">,</span>\n",
       "<span style=\"color: #000000; text-decoration-color: #000000\">        </span><span style=\"color: #008000; text-decoration-color: #008000\">'conversations'</span><span style=\"color: #000000; text-decoration-color: #000000\">: </span><span style=\"color: #000000; text-decoration-color: #000000; font-weight: bold\">[</span>\n",
       "<span style=\"color: #000000; text-decoration-color: #000000\">            </span><span style=\"color: #000000; text-decoration-color: #000000; font-weight: bold\">{</span><span style=\"color: #008000; text-decoration-color: #008000\">'from'</span><span style=\"color: #000000; text-decoration-color: #000000\">: </span><span style=\"color: #008000; text-decoration-color: #008000\">'human'</span><span style=\"color: #000000; text-decoration-color: #000000\">, </span><span style=\"color: #008000; text-decoration-color: #008000\">'value'</span><span style=\"color: #000000; text-decoration-color: #000000\">: </span><span style=\"color: #008000; text-decoration-color: #008000\">'&lt;image&gt;\\nWhat are the objects and relations you see in this image?'</span><span style=\"color: #000000; text-decoration-color: #000000; font-weight: bold\">}</span><span style=\"color: #000000; text-decoration-color: #000000\">,</span>\n",
       "<span style=\"color: #000000; text-decoration-color: #000000\">            </span><span style=\"color: #000000; text-decoration-color: #000000; font-weight: bold\">{</span><span style=\"color: #008000; text-decoration-color: #008000\">'from'</span><span style=\"color: #000000; text-decoration-color: #000000\">: </span><span style=\"color: #008000; text-decoration-color: #008000\">'gpt'</span><span style=\"color: #000000; text-decoration-color: #000000\">, </span><span style=\"color: #008000; text-decoration-color: #008000\">'value'</span><span style=\"color: #000000; text-decoration-color: #000000\">: </span><span style=\"color: #008000; text-decoration-color: #008000\">'Device 1: \\nfirealarm_front\\nDevice 2: \\nfirealarm_back'</span><span style=\"color: #000000; text-decoration-color: #000000; font-weight: bold\">}</span>\n",
       "<span style=\"color: #000000; text-decoration-color: #000000\">        </span><span style=\"color: #000000; text-decoration-color: #000000; font-weight: bold\">]</span>\n",
       "<span style=\"color: #000000; text-decoration-color: #000000\">    </span><span style=\"color: #000000; text-decoration-color: #000000; font-weight: bold\">}</span><span style=\"color: #000000; text-decoration-color: #000000\">,</span>\n",
       "<span style=\"color: #000000; text-decoration-color: #000000\">    </span><span style=\"color: #000000; text-decoration-color: #000000; font-weight: bold\">{</span>\n",
       "<span style=\"color: #000000; text-decoration-color: #000000\">        </span><span style=\"color: #008000; text-decoration-color: #008000\">'id'</span><span style=\"color: #000000; text-decoration-color: #000000\">: </span><span style=\"color: #008080; text-decoration-color: #008080; font-weight: bold\">23</span><span style=\"color: #000000; text-decoration-color: #000000\">,</span>\n",
       "<span style=\"color: #000000; text-decoration-color: #000000\">        </span><span style=\"color: #008000; text-decoration-color: #008000\">'image'</span><span style=\"color: #000000; text-decoration-color: #000000\">: </span><span style=\"color: #008000; text-decoration-color: #008000\">'images/00000024.jpg'</span><span style=\"color: #000000; text-decoration-color: #000000\">,</span>\n",
       "<span style=\"color: #000000; text-decoration-color: #000000\">        </span><span style=\"color: #008000; text-decoration-color: #008000\">'conversations'</span><span style=\"color: #000000; text-decoration-color: #000000\">: </span><span style=\"color: #000000; text-decoration-color: #000000; font-weight: bold\">[</span>\n",
       "<span style=\"color: #000000; text-decoration-color: #000000\">            </span><span style=\"color: #000000; text-decoration-color: #000000; font-weight: bold\">{</span><span style=\"color: #008000; text-decoration-color: #008000\">'from'</span><span style=\"color: #000000; text-decoration-color: #000000\">: </span><span style=\"color: #008000; text-decoration-color: #008000\">'human'</span><span style=\"color: #000000; text-decoration-color: #000000\">, </span><span style=\"color: #008000; text-decoration-color: #008000\">'value'</span><span style=\"color: #000000; text-decoration-color: #000000\">: </span><span style=\"color: #008000; text-decoration-color: #008000\">'&lt;image&gt;\\nWhat are the objects and relations you see in this image?'</span><span style=\"color: #000000; text-decoration-color: #000000; font-weight: bold\">}</span><span style=\"color: #000000; text-decoration-color: #000000\">,</span>\n",
       "<span style=\"color: #000000; text-decoration-color: #000000\">            </span><span style=\"color: #000000; text-decoration-color: #000000; font-weight: bold\">{</span><span style=\"color: #008000; text-decoration-color: #008000\">'from'</span><span style=\"color: #000000; text-decoration-color: #000000\">: </span><span style=\"color: #008000; text-decoration-color: #008000\">'gpt'</span><span style=\"color: #000000; text-decoration-color: #000000\">, </span><span style=\"color: #008000; text-decoration-color: #008000\">'value'</span><span style=\"color: #000000; text-decoration-color: #000000\">: </span><span style=\"color: #008000; text-decoration-color: #008000\">'Device 1: \\npcb in hca_back\\n'</span><span style=\"color: #000000; text-decoration-color: #000000; font-weight: bold\">}</span>\n",
       "<span style=\"color: #000000; text-decoration-color: #000000\">        </span><span style=\"color: #000000; text-decoration-color: #000000; font-weight: bold\">]</span>\n",
       "<span style=\"color: #000000; text-decoration-color: #000000\">    </span><span style=\"color: #000000; text-decoration-color: #000000; font-weight: bold\">}</span><span style=\"color: #000000; text-decoration-color: #000000\">,</span>\n",
       "<span style=\"color: #000000; text-decoration-color: #000000\">    </span><span style=\"color: #000000; text-decoration-color: #000000; font-weight: bold\">{</span>\n",
       "<span style=\"color: #000000; text-decoration-color: #000000\">        </span><span style=\"color: #008000; text-decoration-color: #008000\">'id'</span><span style=\"color: #000000; text-decoration-color: #000000\">: </span><span style=\"color: #008080; text-decoration-color: #008080; font-weight: bold\">24</span><span style=\"color: #000000; text-decoration-color: #000000\">,</span>\n",
       "<span style=\"color: #000000; text-decoration-color: #000000\">        </span><span style=\"color: #008000; text-decoration-color: #008000\">'image'</span><span style=\"color: #000000; text-decoration-color: #000000\">: </span><span style=\"color: #008000; text-decoration-color: #008000\">'images/00000025.jpg'</span><span style=\"color: #000000; text-decoration-color: #000000\">,</span>\n",
       "<span style=\"color: #000000; text-decoration-color: #000000\">        </span><span style=\"color: #008000; text-decoration-color: #008000\">'conversations'</span><span style=\"color: #000000; text-decoration-color: #000000\">: </span><span style=\"color: #000000; text-decoration-color: #000000; font-weight: bold\">[</span>\n",
       "<span style=\"color: #000000; text-decoration-color: #000000\">            </span><span style=\"color: #000000; text-decoration-color: #000000; font-weight: bold\">{</span><span style=\"color: #008000; text-decoration-color: #008000\">'from'</span><span style=\"color: #000000; text-decoration-color: #000000\">: </span><span style=\"color: #008000; text-decoration-color: #008000\">'human'</span><span style=\"color: #000000; text-decoration-color: #000000\">, </span><span style=\"color: #008000; text-decoration-color: #008000\">'value'</span><span style=\"color: #000000; text-decoration-color: #000000\">: </span><span style=\"color: #008000; text-decoration-color: #008000\">'&lt;image&gt;\\nWhat are the objects and relations you see in this image?'</span><span style=\"color: #000000; text-decoration-color: #000000; font-weight: bold\">}</span><span style=\"color: #000000; text-decoration-color: #000000\">,</span>\n",
       "<span style=\"color: #000000; text-decoration-color: #000000\">            </span><span style=\"color: #000000; text-decoration-color: #000000; font-weight: bold\">{</span>\n",
       "<span style=\"color: #000000; text-decoration-color: #000000\">                </span><span style=\"color: #008000; text-decoration-color: #008000\">'from'</span><span style=\"color: #000000; text-decoration-color: #000000\">: </span><span style=\"color: #008000; text-decoration-color: #008000\">'gpt'</span><span style=\"color: #000000; text-decoration-color: #000000\">,</span>\n",
       "<span style=\"color: #000000; text-decoration-color: #000000\">                </span><span style=\"color: #008000; text-decoration-color: #008000\">'value'</span><span style=\"color: #000000; text-decoration-color: #000000\">: </span><span style=\"color: #008000; text-decoration-color: #008000\">'Device 1: \\nbattery_covered in firealarm_back\\nfirealarm_back next to hca_back\\nhca_back </span>\n",
       "<span style=\"color: #008000; text-decoration-color: #008000\">next to firealarm_back\\nbattery_covered next to hca_back\\nhca_back next to battery_covered\\ninternals in </span>\n",
       "<span style=\"color: #008000; text-decoration-color: #008000\">hca_back\\npcb in hca_back\\nbattery in hca_back\\ninternals next to pcb\\npcb next to internals\\npcb next to </span>\n",
       "<span style=\"color: #008000; text-decoration-color: #008000\">battery\\nbattery next to pcb\\n'</span>\n",
       "<span style=\"color: #000000; text-decoration-color: #000000\">            </span><span style=\"color: #000000; text-decoration-color: #000000; font-weight: bold\">}</span>\n",
       "<span style=\"color: #000000; text-decoration-color: #000000\">        </span><span style=\"color: #000000; text-decoration-color: #000000; font-weight: bold\">]</span>\n",
       "<span style=\"color: #000000; text-decoration-color: #000000\">    </span><span style=\"color: #000000; text-decoration-color: #000000; font-weight: bold\">}</span><span style=\"color: #000000; text-decoration-color: #000000\">,</span>\n",
       "<span style=\"color: #000000; text-decoration-color: #000000\">    </span><span style=\"color: #000000; text-decoration-color: #000000; font-weight: bold\">{</span>\n",
       "<span style=\"color: #000000; text-decoration-color: #000000\">        </span><span style=\"color: #008000; text-decoration-color: #008000\">'id'</span><span style=\"color: #000000; text-decoration-color: #000000\">: </span><span style=\"color: #008080; text-decoration-color: #008080; font-weight: bold\">25</span><span style=\"color: #000000; text-decoration-color: #000000\">,</span>\n",
       "<span style=\"color: #000000; text-decoration-color: #000000\">        </span><span style=\"color: #008000; text-decoration-color: #008000\">'image'</span><span style=\"color: #000000; text-decoration-color: #000000\">: </span><span style=\"color: #008000; text-decoration-color: #008000\">'images/00000026.jpg'</span><span style=\"color: #000000; text-decoration-color: #000000\">,</span>\n",
       "<span style=\"color: #000000; text-decoration-color: #000000\">        </span><span style=\"color: #008000; text-decoration-color: #008000\">'conversations'</span><span style=\"color: #000000; text-decoration-color: #000000\">: </span><span style=\"color: #000000; text-decoration-color: #000000; font-weight: bold\">[</span>\n",
       "<span style=\"color: #000000; text-decoration-color: #000000\">            </span><span style=\"color: #000000; text-decoration-color: #000000; font-weight: bold\">{</span><span style=\"color: #008000; text-decoration-color: #008000\">'from'</span><span style=\"color: #000000; text-decoration-color: #000000\">: </span><span style=\"color: #008000; text-decoration-color: #008000\">'human'</span><span style=\"color: #000000; text-decoration-color: #000000\">, </span><span style=\"color: #008000; text-decoration-color: #008000\">'value'</span><span style=\"color: #000000; text-decoration-color: #000000\">: </span><span style=\"color: #008000; text-decoration-color: #008000\">'&lt;image&gt;\\nWhat are the objects and relations you see in this image?'</span><span style=\"color: #000000; text-decoration-color: #000000; font-weight: bold\">}</span><span style=\"color: #000000; text-decoration-color: #000000\">,</span>\n",
       "<span style=\"color: #000000; text-decoration-color: #000000\">            </span><span style=\"color: #000000; text-decoration-color: #000000; font-weight: bold\">{</span>\n",
       "<span style=\"color: #000000; text-decoration-color: #000000\">                </span><span style=\"color: #008000; text-decoration-color: #008000\">'from'</span><span style=\"color: #000000; text-decoration-color: #000000\">: </span><span style=\"color: #008000; text-decoration-color: #008000\">'gpt'</span><span style=\"color: #000000; text-decoration-color: #000000\">,</span>\n",
       "<span style=\"color: #000000; text-decoration-color: #000000\">                </span><span style=\"color: #008000; text-decoration-color: #008000\">'value'</span><span style=\"color: #000000; text-decoration-color: #000000\">: </span><span style=\"color: #008000; text-decoration-color: #008000\">'Device 1: \\npcb in internals\\nbattery in internals\\nbattery next to internals\\ninternals </span>\n",
       "<span style=\"color: #008000; text-decoration-color: #008000\">next to battery\\npcb in internals\\nbattery in internals\\nbattery in pcb\\n'</span>\n",
       "<span style=\"color: #000000; text-decoration-color: #000000\">            </span><span style=\"color: #000000; text-decoration-color: #000000; font-weight: bold\">}</span>\n",
       "<span style=\"color: #000000; text-decoration-color: #000000\">        </span><span style=\"color: #000000; text-decoration-color: #000000; font-weight: bold\">]</span>\n",
       "<span style=\"color: #000000; text-decoration-color: #000000\">    </span><span style=\"color: #000000; text-decoration-color: #000000; font-weight: bold\">}</span><span style=\"color: #000000; text-decoration-color: #000000\">,</span>\n",
       "<span style=\"color: #000000; text-decoration-color: #000000\">    </span><span style=\"color: #000000; text-decoration-color: #000000; font-weight: bold\">{</span>\n",
       "<span style=\"color: #000000; text-decoration-color: #000000\">        </span><span style=\"color: #008000; text-decoration-color: #008000\">'id'</span><span style=\"color: #000000; text-decoration-color: #000000\">: </span><span style=\"color: #008080; text-decoration-color: #008080; font-weight: bold\">26</span><span style=\"color: #000000; text-decoration-color: #000000\">,</span>\n",
       "<span style=\"color: #000000; text-decoration-color: #000000\">        </span><span style=\"color: #008000; text-decoration-color: #008000\">'image'</span><span style=\"color: #000000; text-decoration-color: #000000\">: </span><span style=\"color: #008000; text-decoration-color: #008000\">'images/00000027.jpg'</span><span style=\"color: #000000; text-decoration-color: #000000\">,</span>\n",
       "<span style=\"color: #000000; text-decoration-color: #000000\">        </span><span style=\"color: #008000; text-decoration-color: #008000\">'conversations'</span><span style=\"color: #000000; text-decoration-color: #000000\">: </span><span style=\"color: #000000; text-decoration-color: #000000; font-weight: bold\">[</span>\n",
       "<span style=\"color: #000000; text-decoration-color: #000000\">            </span><span style=\"color: #000000; text-decoration-color: #000000; font-weight: bold\">{</span><span style=\"color: #008000; text-decoration-color: #008000\">'from'</span><span style=\"color: #000000; text-decoration-color: #000000\">: </span><span style=\"color: #008000; text-decoration-color: #008000\">'human'</span><span style=\"color: #000000; text-decoration-color: #000000\">, </span><span style=\"color: #008000; text-decoration-color: #008000\">'value'</span><span style=\"color: #000000; text-decoration-color: #000000\">: </span><span style=\"color: #008000; text-decoration-color: #008000\">'&lt;image&gt;\\nWhat are the objects and relations you see in this image?'</span><span style=\"color: #000000; text-decoration-color: #000000; font-weight: bold\">}</span><span style=\"color: #000000; text-decoration-color: #000000\">,</span>\n",
       "<span style=\"color: #000000; text-decoration-color: #000000\">            </span><span style=\"color: #000000; text-decoration-color: #000000; font-weight: bold\">{</span><span style=\"color: #008000; text-decoration-color: #008000\">'from'</span><span style=\"color: #000000; text-decoration-color: #000000\">: </span><span style=\"color: #008000; text-decoration-color: #008000\">'gpt'</span><span style=\"color: #000000; text-decoration-color: #000000\">, </span><span style=\"color: #008000; text-decoration-color: #008000\">'value'</span><span style=\"color: #000000; text-decoration-color: #000000\">: </span><span style=\"color: #008000; text-decoration-color: #008000\">'Device 1: \\npcb_covered in hca_back\\n'</span><span style=\"color: #000000; text-decoration-color: #000000; font-weight: bold\">}</span>\n",
       "<span style=\"color: #000000; text-decoration-color: #000000\">        </span><span style=\"color: #000000; text-decoration-color: #000000; font-weight: bold\">]</span>\n",
       "<span style=\"color: #000000; text-decoration-color: #000000\">    </span><span style=\"color: #000000; text-decoration-color: #000000; font-weight: bold\">}</span><span style=\"color: #000000; text-decoration-color: #000000\">,</span>\n",
       "<span style=\"color: #000000; text-decoration-color: #000000\">    </span><span style=\"color: #000000; text-decoration-color: #000000; font-weight: bold\">{</span>\n",
       "<span style=\"color: #000000; text-decoration-color: #000000\">        </span><span style=\"color: #008000; text-decoration-color: #008000\">'id'</span><span style=\"color: #000000; text-decoration-color: #000000\">: </span><span style=\"color: #008080; text-decoration-color: #008080; font-weight: bold\">27</span><span style=\"color: #000000; text-decoration-color: #000000\">,</span>\n",
       "<span style=\"color: #000000; text-decoration-color: #000000\">        </span><span style=\"color: #008000; text-decoration-color: #008000\">'image'</span><span style=\"color: #000000; text-decoration-color: #000000\">: </span><span style=\"color: #008000; text-decoration-color: #008000\">'images/00000028.jpg'</span><span style=\"color: #000000; text-decoration-color: #000000\">,</span>\n",
       "<span style=\"color: #000000; text-decoration-color: #000000\">        </span><span style=\"color: #008000; text-decoration-color: #008000\">'conversations'</span><span style=\"color: #000000; text-decoration-color: #000000\">: </span><span style=\"color: #000000; text-decoration-color: #000000; font-weight: bold\">[</span>\n",
       "<span style=\"color: #000000; text-decoration-color: #000000\">            </span><span style=\"color: #000000; text-decoration-color: #000000; font-weight: bold\">{</span><span style=\"color: #008000; text-decoration-color: #008000\">'from'</span><span style=\"color: #000000; text-decoration-color: #000000\">: </span><span style=\"color: #008000; text-decoration-color: #008000\">'human'</span><span style=\"color: #000000; text-decoration-color: #000000\">, </span><span style=\"color: #008000; text-decoration-color: #008000\">'value'</span><span style=\"color: #000000; text-decoration-color: #000000\">: </span><span style=\"color: #008000; text-decoration-color: #008000\">'&lt;image&gt;\\nWhat are the objects and relations you see in this image?'</span><span style=\"color: #000000; text-decoration-color: #000000; font-weight: bold\">}</span><span style=\"color: #000000; text-decoration-color: #000000\">,</span>\n",
       "<span style=\"color: #000000; text-decoration-color: #000000\">            </span><span style=\"color: #000000; text-decoration-color: #000000; font-weight: bold\">{</span><span style=\"color: #008000; text-decoration-color: #008000\">'from'</span><span style=\"color: #000000; text-decoration-color: #000000\">: </span><span style=\"color: #008000; text-decoration-color: #008000\">'gpt'</span><span style=\"color: #000000; text-decoration-color: #000000\">, </span><span style=\"color: #008000; text-decoration-color: #008000\">'value'</span><span style=\"color: #000000; text-decoration-color: #000000\">: </span><span style=\"color: #008000; text-decoration-color: #008000\">'Device 1: \\npcb in internals\\nbattery in internals\\nbattery in pcb\\n'</span><span style=\"color: #000000; text-decoration-color: #000000; font-weight: bold\">}</span>\n",
       "<span style=\"color: #000000; text-decoration-color: #000000\">        </span><span style=\"color: #000000; text-decoration-color: #000000; font-weight: bold\">]</span>\n",
       "<span style=\"color: #000000; text-decoration-color: #000000\">    </span><span style=\"color: #000000; text-decoration-color: #000000; font-weight: bold\">}</span><span style=\"color: #000000; text-decoration-color: #000000\">,</span>\n",
       "<span style=\"color: #000000; text-decoration-color: #000000\">    </span><span style=\"color: #000000; text-decoration-color: #000000; font-weight: bold\">{</span>\n",
       "<span style=\"color: #000000; text-decoration-color: #000000\">        </span><span style=\"color: #008000; text-decoration-color: #008000\">'id'</span><span style=\"color: #000000; text-decoration-color: #000000\">: </span><span style=\"color: #008080; text-decoration-color: #008080; font-weight: bold\">28</span><span style=\"color: #000000; text-decoration-color: #000000\">,</span>\n",
       "<span style=\"color: #000000; text-decoration-color: #000000\">        </span><span style=\"color: #008000; text-decoration-color: #008000\">'image'</span><span style=\"color: #000000; text-decoration-color: #000000\">: </span><span style=\"color: #008000; text-decoration-color: #008000\">'images/00000029.jpg'</span><span style=\"color: #000000; text-decoration-color: #000000\">,</span>\n",
       "<span style=\"color: #000000; text-decoration-color: #000000\">        </span><span style=\"color: #008000; text-decoration-color: #008000\">'conversations'</span><span style=\"color: #000000; text-decoration-color: #000000\">: </span><span style=\"color: #000000; text-decoration-color: #000000; font-weight: bold\">[</span>\n",
       "<span style=\"color: #000000; text-decoration-color: #000000\">            </span><span style=\"color: #000000; text-decoration-color: #000000; font-weight: bold\">{</span><span style=\"color: #008000; text-decoration-color: #008000\">'from'</span><span style=\"color: #000000; text-decoration-color: #000000\">: </span><span style=\"color: #008000; text-decoration-color: #008000\">'human'</span><span style=\"color: #000000; text-decoration-color: #000000\">, </span><span style=\"color: #008000; text-decoration-color: #008000\">'value'</span><span style=\"color: #000000; text-decoration-color: #000000\">: </span><span style=\"color: #008000; text-decoration-color: #008000\">'&lt;image&gt;\\nWhat are the objects and relations you see in this image?'</span><span style=\"color: #000000; text-decoration-color: #000000; font-weight: bold\">}</span><span style=\"color: #000000; text-decoration-color: #000000\">,</span>\n",
       "<span style=\"color: #000000; text-decoration-color: #000000\">            </span><span style=\"color: #000000; text-decoration-color: #000000; font-weight: bold\">{</span><span style=\"color: #008000; text-decoration-color: #008000\">'from'</span><span style=\"color: #000000; text-decoration-color: #000000\">: </span><span style=\"color: #008000; text-decoration-color: #008000\">'gpt'</span><span style=\"color: #000000; text-decoration-color: #000000\">, </span><span style=\"color: #008000; text-decoration-color: #008000\">'value'</span><span style=\"color: #000000; text-decoration-color: #000000\">: </span><span style=\"color: #008000; text-decoration-color: #008000\">'Device 1: \\n'</span><span style=\"color: #000000; text-decoration-color: #000000; font-weight: bold\">}</span>\n",
       "<span style=\"color: #000000; text-decoration-color: #000000\">        </span><span style=\"color: #000000; text-decoration-color: #000000; font-weight: bold\">]</span>\n",
       "<span style=\"color: #000000; text-decoration-color: #000000\">    </span><span style=\"color: #000000; text-decoration-color: #000000; font-weight: bold\">}</span><span style=\"color: #000000; text-decoration-color: #000000\">,</span>\n",
       "<span style=\"color: #000000; text-decoration-color: #000000\">    </span><span style=\"color: #000000; text-decoration-color: #000000; font-weight: bold\">{</span>\n",
       "<span style=\"color: #000000; text-decoration-color: #000000\">        </span><span style=\"color: #008000; text-decoration-color: #008000\">'id'</span><span style=\"color: #000000; text-decoration-color: #000000\">: </span><span style=\"color: #008080; text-decoration-color: #008080; font-weight: bold\">29</span><span style=\"color: #000000; text-decoration-color: #000000\">,</span>\n",
       "<span style=\"color: #000000; text-decoration-color: #000000\">        </span><span style=\"color: #008000; text-decoration-color: #008000\">'image'</span><span style=\"color: #000000; text-decoration-color: #000000\">: </span><span style=\"color: #008000; text-decoration-color: #008000\">'images/00000030.jpg'</span><span style=\"color: #000000; text-decoration-color: #000000\">,</span>\n",
       "<span style=\"color: #000000; text-decoration-color: #000000\">        </span><span style=\"color: #008000; text-decoration-color: #008000\">'conversations'</span><span style=\"color: #000000; text-decoration-color: #000000\">: </span><span style=\"color: #000000; text-decoration-color: #000000; font-weight: bold\">[</span>\n",
       "<span style=\"color: #000000; text-decoration-color: #000000\">            </span><span style=\"color: #000000; text-decoration-color: #000000; font-weight: bold\">{</span><span style=\"color: #008000; text-decoration-color: #008000\">'from'</span><span style=\"color: #000000; text-decoration-color: #000000\">: </span><span style=\"color: #008000; text-decoration-color: #008000\">'human'</span><span style=\"color: #000000; text-decoration-color: #000000\">, </span><span style=\"color: #008000; text-decoration-color: #008000\">'value'</span><span style=\"color: #000000; text-decoration-color: #000000\">: </span><span style=\"color: #008000; text-decoration-color: #008000\">'&lt;image&gt;\\nWhat are the objects and relations you see in this image?'</span><span style=\"color: #000000; text-decoration-color: #000000; font-weight: bold\">}</span><span style=\"color: #000000; text-decoration-color: #000000\">,</span>\n",
       "<span style=\"color: #000000; text-decoration-color: #000000\">            </span><span style=\"color: #000000; text-decoration-color: #000000; font-weight: bold\">{</span><span style=\"color: #008000; text-decoration-color: #008000\">'from'</span><span style=\"color: #000000; text-decoration-color: #000000\">: </span><span style=\"color: #008000; text-decoration-color: #008000\">'gpt'</span><span style=\"color: #000000; text-decoration-color: #000000\">, </span><span style=\"color: #008000; text-decoration-color: #008000\">'value'</span><span style=\"color: #000000; text-decoration-color: #000000\">: </span><span style=\"color: #008000; text-decoration-color: #008000\">'Device 1: \\npcb'</span><span style=\"color: #000000; text-decoration-color: #000000; font-weight: bold\">}</span>\n",
       "<span style=\"color: #000000; text-decoration-color: #000000\">        </span><span style=\"color: #000000; text-decoration-color: #000000; font-weight: bold\">]</span>\n",
       "<span style=\"color: #000000; text-decoration-color: #000000\">    </span><span style=\"color: #000000; text-decoration-color: #000000; font-weight: bold\">}</span><span style=\"color: #000000; text-decoration-color: #000000\">,</span>\n",
       "<span style=\"color: #000000; text-decoration-color: #000000\">    </span><span style=\"color: #000000; text-decoration-color: #000000; font-weight: bold\">{</span>\n",
       "<span style=\"color: #000000; text-decoration-color: #000000\">        </span><span style=\"color: #008000; text-decoration-color: #008000\">'id'</span><span style=\"color: #000000; text-decoration-color: #000000\">: </span><span style=\"color: #008080; text-decoration-color: #008080; font-weight: bold\">30</span><span style=\"color: #000000; text-decoration-color: #000000\">,</span>\n",
       "<span style=\"color: #000000; text-decoration-color: #000000\">        </span><span style=\"color: #008000; text-decoration-color: #008000\">'image'</span><span style=\"color: #000000; text-decoration-color: #000000\">: </span><span style=\"color: #008000; text-decoration-color: #008000\">'images/00000031.jpg'</span><span style=\"color: #000000; text-decoration-color: #000000\">,</span>\n",
       "<span style=\"color: #000000; text-decoration-color: #000000\">        </span><span style=\"color: #008000; text-decoration-color: #008000\">'conversations'</span><span style=\"color: #000000; text-decoration-color: #000000\">: </span><span style=\"color: #000000; text-decoration-color: #000000; font-weight: bold\">[</span>\n",
       "<span style=\"color: #000000; text-decoration-color: #000000\">            </span><span style=\"color: #000000; text-decoration-color: #000000; font-weight: bold\">{</span><span style=\"color: #008000; text-decoration-color: #008000\">'from'</span><span style=\"color: #000000; text-decoration-color: #000000\">: </span><span style=\"color: #008000; text-decoration-color: #008000\">'human'</span><span style=\"color: #000000; text-decoration-color: #000000\">, </span><span style=\"color: #008000; text-decoration-color: #008000\">'value'</span><span style=\"color: #000000; text-decoration-color: #000000\">: </span><span style=\"color: #008000; text-decoration-color: #008000\">'&lt;image&gt;\\nWhat are the objects and relations you see in this image?'</span><span style=\"color: #000000; text-decoration-color: #000000; font-weight: bold\">}</span><span style=\"color: #000000; text-decoration-color: #000000\">,</span>\n",
       "<span style=\"color: #000000; text-decoration-color: #000000\">            </span><span style=\"color: #000000; text-decoration-color: #000000; font-weight: bold\">{</span>\n",
       "<span style=\"color: #000000; text-decoration-color: #000000\">                </span><span style=\"color: #008000; text-decoration-color: #008000\">'from'</span><span style=\"color: #000000; text-decoration-color: #000000\">: </span><span style=\"color: #008000; text-decoration-color: #008000\">'gpt'</span><span style=\"color: #000000; text-decoration-color: #000000\">,</span>\n",
       "<span style=\"color: #000000; text-decoration-color: #000000\">                </span><span style=\"color: #008000; text-decoration-color: #008000\">'value'</span><span style=\"color: #000000; text-decoration-color: #000000\">: </span><span style=\"color: #008000; text-decoration-color: #008000\">'Device 1: \\npcb in internals\\nbattery in internals\\n\\nDevice 2: \\nfirealarm_front'</span>\n",
       "<span style=\"color: #000000; text-decoration-color: #000000\">            </span><span style=\"color: #000000; text-decoration-color: #000000; font-weight: bold\">}</span>\n",
       "<span style=\"color: #000000; text-decoration-color: #000000\">        </span><span style=\"color: #000000; text-decoration-color: #000000; font-weight: bold\">]</span>\n",
       "<span style=\"color: #000000; text-decoration-color: #000000\">    </span><span style=\"color: #000000; text-decoration-color: #000000; font-weight: bold\">}</span><span style=\"color: #000000; text-decoration-color: #000000\">,</span>\n",
       "<span style=\"color: #000000; text-decoration-color: #000000\">    </span><span style=\"color: #000000; text-decoration-color: #000000; font-weight: bold\">{</span>\n",
       "<span style=\"color: #000000; text-decoration-color: #000000\">        </span><span style=\"color: #008000; text-decoration-color: #008000\">'id'</span><span style=\"color: #000000; text-decoration-color: #000000\">: </span><span style=\"color: #008080; text-decoration-color: #008080; font-weight: bold\">31</span><span style=\"color: #000000; text-decoration-color: #000000\">,</span>\n",
       "<span style=\"color: #000000; text-decoration-color: #000000\">        </span><span style=\"color: #008000; text-decoration-color: #008000\">'image'</span><span style=\"color: #000000; text-decoration-color: #000000\">: </span><span style=\"color: #008000; text-decoration-color: #008000\">'images/00000032.jpg'</span><span style=\"color: #000000; text-decoration-color: #000000\">,</span>\n",
       "<span style=\"color: #000000; text-decoration-color: #000000\">        </span><span style=\"color: #008000; text-decoration-color: #008000\">'conversations'</span><span style=\"color: #000000; text-decoration-color: #000000\">: </span><span style=\"color: #000000; text-decoration-color: #000000; font-weight: bold\">[</span>\n",
       "<span style=\"color: #000000; text-decoration-color: #000000\">            </span><span style=\"color: #000000; text-decoration-color: #000000; font-weight: bold\">{</span><span style=\"color: #008000; text-decoration-color: #008000\">'from'</span><span style=\"color: #000000; text-decoration-color: #000000\">: </span><span style=\"color: #008000; text-decoration-color: #008000\">'human'</span><span style=\"color: #000000; text-decoration-color: #000000\">, </span><span style=\"color: #008000; text-decoration-color: #008000\">'value'</span><span style=\"color: #000000; text-decoration-color: #000000\">: </span><span style=\"color: #008000; text-decoration-color: #008000\">'&lt;image&gt;\\nWhat are the objects and relations you see in this image?'</span><span style=\"color: #000000; text-decoration-color: #000000; font-weight: bold\">}</span><span style=\"color: #000000; text-decoration-color: #000000\">,</span>\n",
       "<span style=\"color: #000000; text-decoration-color: #000000\">            </span><span style=\"color: #000000; text-decoration-color: #000000; font-weight: bold\">{</span>\n",
       "<span style=\"color: #000000; text-decoration-color: #000000\">                </span><span style=\"color: #008000; text-decoration-color: #008000\">'from'</span><span style=\"color: #000000; text-decoration-color: #000000\">: </span><span style=\"color: #008000; text-decoration-color: #008000\">'gpt'</span><span style=\"color: #000000; text-decoration-color: #000000\">,</span>\n",
       "<span style=\"color: #000000; text-decoration-color: #000000\">                </span><span style=\"color: #008000; text-decoration-color: #008000\">'value'</span><span style=\"color: #000000; text-decoration-color: #000000\">: </span><span style=\"color: #008000; text-decoration-color: #008000\">'Device 1: \\nfirealarm_front next to hca_back\\nfirealarm_front next to </span>\n",
       "<span style=\"color: #008000; text-decoration-color: #008000\">pcb_covered\\nhca_back next to firealarm_front\\npcb_covered next to firealarm_front\\nplastic_clip in </span>\n",
       "<span style=\"color: #008000; text-decoration-color: #008000\">hca_back\\npcb_covered in hca_back\\nplastic_clip next to pcb_covered\\npcb_covered next to plastic_clip\\n'</span>\n",
       "<span style=\"color: #000000; text-decoration-color: #000000\">            </span><span style=\"color: #000000; text-decoration-color: #000000; font-weight: bold\">}</span>\n",
       "<span style=\"color: #000000; text-decoration-color: #000000\">        </span><span style=\"color: #000000; text-decoration-color: #000000; font-weight: bold\">]</span>\n",
       "<span style=\"color: #000000; text-decoration-color: #000000\">    </span><span style=\"color: #000000; text-decoration-color: #000000; font-weight: bold\">}</span><span style=\"color: #000000; text-decoration-color: #000000\">,</span>\n",
       "<span style=\"color: #000000; text-decoration-color: #000000\">    </span><span style=\"color: #000000; text-decoration-color: #000000; font-weight: bold\">{</span>\n",
       "<span style=\"color: #000000; text-decoration-color: #000000\">        </span><span style=\"color: #008000; text-decoration-color: #008000\">'id'</span><span style=\"color: #000000; text-decoration-color: #000000\">: </span><span style=\"color: #008080; text-decoration-color: #008080; font-weight: bold\">32</span><span style=\"color: #000000; text-decoration-color: #000000\">,</span>\n",
       "<span style=\"color: #000000; text-decoration-color: #000000\">        </span><span style=\"color: #008000; text-decoration-color: #008000\">'image'</span><span style=\"color: #000000; text-decoration-color: #000000\">: </span><span style=\"color: #008000; text-decoration-color: #008000\">'images/00000033.jpg'</span><span style=\"color: #000000; text-decoration-color: #000000\">,</span>\n",
       "<span style=\"color: #000000; text-decoration-color: #000000\">        </span><span style=\"color: #008000; text-decoration-color: #008000\">'conversations'</span><span style=\"color: #000000; text-decoration-color: #000000\">: </span><span style=\"color: #000000; text-decoration-color: #000000; font-weight: bold\">[</span>\n",
       "<span style=\"color: #000000; text-decoration-color: #000000\">            </span><span style=\"color: #000000; text-decoration-color: #000000; font-weight: bold\">{</span><span style=\"color: #008000; text-decoration-color: #008000\">'from'</span><span style=\"color: #000000; text-decoration-color: #000000\">: </span><span style=\"color: #008000; text-decoration-color: #008000\">'human'</span><span style=\"color: #000000; text-decoration-color: #000000\">, </span><span style=\"color: #008000; text-decoration-color: #008000\">'value'</span><span style=\"color: #000000; text-decoration-color: #000000\">: </span><span style=\"color: #008000; text-decoration-color: #008000\">'&lt;image&gt;\\nWhat are the objects and relations you see in this image?'</span><span style=\"color: #000000; text-decoration-color: #000000; font-weight: bold\">}</span><span style=\"color: #000000; text-decoration-color: #000000\">,</span>\n",
       "<span style=\"color: #000000; text-decoration-color: #000000\">            </span><span style=\"color: #000000; text-decoration-color: #000000; font-weight: bold\">{</span>\n",
       "<span style=\"color: #000000; text-decoration-color: #000000\">                </span><span style=\"color: #008000; text-decoration-color: #008000\">'from'</span><span style=\"color: #000000; text-decoration-color: #000000\">: </span><span style=\"color: #008000; text-decoration-color: #008000\">'gpt'</span><span style=\"color: #000000; text-decoration-color: #000000\">,</span>\n",
       "<span style=\"color: #000000; text-decoration-color: #000000\">                </span><span style=\"color: #008000; text-decoration-color: #008000\">'value'</span><span style=\"color: #000000; text-decoration-color: #000000\">: </span><span style=\"color: #008000; text-decoration-color: #008000\">'Device 1: \\npcb in firealarm_back\\nbattery in firealarm_back\\nbattery in pcb\\n\\nDevice 2:</span>\n",
       "<span style=\"color: #008000; text-decoration-color: #008000\">\\nbattery in internals\\n'</span>\n",
       "<span style=\"color: #000000; text-decoration-color: #000000\">            </span><span style=\"color: #000000; text-decoration-color: #000000; font-weight: bold\">}</span>\n",
       "<span style=\"color: #000000; text-decoration-color: #000000\">        </span><span style=\"color: #000000; text-decoration-color: #000000; font-weight: bold\">]</span>\n",
       "<span style=\"color: #000000; text-decoration-color: #000000\">    </span><span style=\"color: #000000; text-decoration-color: #000000; font-weight: bold\">}</span><span style=\"color: #000000; text-decoration-color: #000000\">,</span>\n",
       "<span style=\"color: #000000; text-decoration-color: #000000\">    </span><span style=\"color: #000000; text-decoration-color: #000000; font-weight: bold\">{</span>\n",
       "<span style=\"color: #000000; text-decoration-color: #000000\">        </span><span style=\"color: #008000; text-decoration-color: #008000\">'id'</span><span style=\"color: #000000; text-decoration-color: #000000\">: </span><span style=\"color: #008080; text-decoration-color: #008080; font-weight: bold\">33</span><span style=\"color: #000000; text-decoration-color: #000000\">,</span>\n",
       "<span style=\"color: #000000; text-decoration-color: #000000\">        </span><span style=\"color: #008000; text-decoration-color: #008000\">'image'</span><span style=\"color: #000000; text-decoration-color: #000000\">: </span><span style=\"color: #008000; text-decoration-color: #008000\">'images/00000034.jpg'</span><span style=\"color: #000000; text-decoration-color: #000000\">,</span>\n",
       "<span style=\"color: #000000; text-decoration-color: #000000\">        </span><span style=\"color: #008000; text-decoration-color: #008000\">'conversations'</span><span style=\"color: #000000; text-decoration-color: #000000\">: </span><span style=\"color: #000000; text-decoration-color: #000000; font-weight: bold\">[</span>\n",
       "<span style=\"color: #000000; text-decoration-color: #000000\">            </span><span style=\"color: #000000; text-decoration-color: #000000; font-weight: bold\">{</span><span style=\"color: #008000; text-decoration-color: #008000\">'from'</span><span style=\"color: #000000; text-decoration-color: #000000\">: </span><span style=\"color: #008000; text-decoration-color: #008000\">'human'</span><span style=\"color: #000000; text-decoration-color: #000000\">, </span><span style=\"color: #008000; text-decoration-color: #008000\">'value'</span><span style=\"color: #000000; text-decoration-color: #000000\">: </span><span style=\"color: #008000; text-decoration-color: #008000\">'&lt;image&gt;\\nWhat are the objects and relations you see in this image?'</span><span style=\"color: #000000; text-decoration-color: #000000; font-weight: bold\">}</span><span style=\"color: #000000; text-decoration-color: #000000\">,</span>\n",
       "<span style=\"color: #000000; text-decoration-color: #000000\">            </span><span style=\"color: #000000; text-decoration-color: #000000; font-weight: bold\">{</span>\n",
       "<span style=\"color: #000000; text-decoration-color: #000000\">                </span><span style=\"color: #008000; text-decoration-color: #008000\">'from'</span><span style=\"color: #000000; text-decoration-color: #000000\">: </span><span style=\"color: #008000; text-decoration-color: #008000\">'gpt'</span><span style=\"color: #000000; text-decoration-color: #000000\">,</span>\n",
       "<span style=\"color: #000000; text-decoration-color: #000000\">                </span><span style=\"color: #008000; text-decoration-color: #008000\">'value'</span><span style=\"color: #000000; text-decoration-color: #000000\">: </span><span style=\"color: #008000; text-decoration-color: #008000\">'Device 1: \\nfirealarm_back next to hca_back\\nfirealarm_back next to pcb_covered\\nhca_back</span>\n",
       "<span style=\"color: #008000; text-decoration-color: #008000\">next to firealarm_back\\npcb_covered next to firealarm_back\\npcb_covered in hca_back\\n'</span>\n",
       "<span style=\"color: #000000; text-decoration-color: #000000\">            </span><span style=\"color: #000000; text-decoration-color: #000000; font-weight: bold\">}</span>\n",
       "<span style=\"color: #000000; text-decoration-color: #000000\">        </span><span style=\"color: #000000; text-decoration-color: #000000; font-weight: bold\">]</span>\n",
       "<span style=\"color: #000000; text-decoration-color: #000000\">    </span><span style=\"color: #000000; text-decoration-color: #000000; font-weight: bold\">}</span><span style=\"color: #000000; text-decoration-color: #000000\">,</span>\n",
       "<span style=\"color: #000000; text-decoration-color: #000000\">    </span><span style=\"color: #000000; text-decoration-color: #000000; font-weight: bold\">{</span>\n",
       "<span style=\"color: #000000; text-decoration-color: #000000\">        </span><span style=\"color: #008000; text-decoration-color: #008000\">'id'</span><span style=\"color: #000000; text-decoration-color: #000000\">: </span><span style=\"color: #008080; text-decoration-color: #008080; font-weight: bold\">34</span><span style=\"color: #000000; text-decoration-color: #000000\">,</span>\n",
       "<span style=\"color: #000000; text-decoration-color: #000000\">        </span><span style=\"color: #008000; text-decoration-color: #008000\">'image'</span><span style=\"color: #000000; text-decoration-color: #000000\">: </span><span style=\"color: #008000; text-decoration-color: #008000\">'images/00000035.jpg'</span><span style=\"color: #000000; text-decoration-color: #000000\">,</span>\n",
       "<span style=\"color: #000000; text-decoration-color: #000000\">        </span><span style=\"color: #008000; text-decoration-color: #008000\">'conversations'</span><span style=\"color: #000000; text-decoration-color: #000000\">: </span><span style=\"color: #000000; text-decoration-color: #000000; font-weight: bold\">[</span>\n",
       "<span style=\"color: #000000; text-decoration-color: #000000\">            </span><span style=\"color: #000000; text-decoration-color: #000000; font-weight: bold\">{</span><span style=\"color: #008000; text-decoration-color: #008000\">'from'</span><span style=\"color: #000000; text-decoration-color: #000000\">: </span><span style=\"color: #008000; text-decoration-color: #008000\">'human'</span><span style=\"color: #000000; text-decoration-color: #000000\">, </span><span style=\"color: #008000; text-decoration-color: #008000\">'value'</span><span style=\"color: #000000; text-decoration-color: #000000\">: </span><span style=\"color: #008000; text-decoration-color: #008000\">'&lt;image&gt;\\nWhat are the objects and relations you see in this image?'</span><span style=\"color: #000000; text-decoration-color: #000000; font-weight: bold\">}</span><span style=\"color: #000000; text-decoration-color: #000000\">,</span>\n",
       "<span style=\"color: #000000; text-decoration-color: #000000\">            </span><span style=\"color: #000000; text-decoration-color: #000000; font-weight: bold\">{</span>\n",
       "<span style=\"color: #000000; text-decoration-color: #000000\">                </span><span style=\"color: #008000; text-decoration-color: #008000\">'from'</span><span style=\"color: #000000; text-decoration-color: #000000\">: </span><span style=\"color: #008000; text-decoration-color: #008000\">'gpt'</span><span style=\"color: #000000; text-decoration-color: #000000\">,</span>\n",
       "<span style=\"color: #000000; text-decoration-color: #000000\">                </span><span style=\"color: #008000; text-decoration-color: #008000\">'value'</span><span style=\"color: #000000; text-decoration-color: #000000\">: </span><span style=\"color: #008000; text-decoration-color: #008000\">'Device 1: \\nbattery_covered in firealarm_back\\nfirealarm_back next to hca_back\\nhca_back </span>\n",
       "<span style=\"color: #008000; text-decoration-color: #008000\">next to firealarm_back\\npcb_covered in hca_back\\n'</span>\n",
       "<span style=\"color: #000000; text-decoration-color: #000000\">            </span><span style=\"color: #000000; text-decoration-color: #000000; font-weight: bold\">}</span>\n",
       "<span style=\"color: #000000; text-decoration-color: #000000\">        </span><span style=\"color: #000000; text-decoration-color: #000000; font-weight: bold\">]</span>\n",
       "<span style=\"color: #000000; text-decoration-color: #000000\">    </span><span style=\"color: #000000; text-decoration-color: #000000; font-weight: bold\">}</span><span style=\"color: #000000; text-decoration-color: #000000\">,</span>\n",
       "<span style=\"color: #000000; text-decoration-color: #000000\">    </span><span style=\"color: #000000; text-decoration-color: #000000; font-weight: bold\">{</span>\n",
       "<span style=\"color: #000000; text-decoration-color: #000000\">        </span><span style=\"color: #008000; text-decoration-color: #008000\">'id'</span><span style=\"color: #000000; text-decoration-color: #000000\">: </span><span style=\"color: #008080; text-decoration-color: #008080; font-weight: bold\">35</span><span style=\"color: #000000; text-decoration-color: #000000\">,</span>\n",
       "<span style=\"color: #000000; text-decoration-color: #000000\">        </span><span style=\"color: #008000; text-decoration-color: #008000\">'image'</span><span style=\"color: #000000; text-decoration-color: #000000\">: </span><span style=\"color: #008000; text-decoration-color: #008000\">'images/00000036.jpg'</span><span style=\"color: #000000; text-decoration-color: #000000\">,</span>\n",
       "<span style=\"color: #000000; text-decoration-color: #000000\">        </span><span style=\"color: #008000; text-decoration-color: #008000\">'conversations'</span><span style=\"color: #000000; text-decoration-color: #000000\">: </span><span style=\"color: #000000; text-decoration-color: #000000; font-weight: bold\">[</span>\n",
       "<span style=\"color: #000000; text-decoration-color: #000000\">            </span><span style=\"color: #000000; text-decoration-color: #000000; font-weight: bold\">{</span><span style=\"color: #008000; text-decoration-color: #008000\">'from'</span><span style=\"color: #000000; text-decoration-color: #000000\">: </span><span style=\"color: #008000; text-decoration-color: #008000\">'human'</span><span style=\"color: #000000; text-decoration-color: #000000\">, </span><span style=\"color: #008000; text-decoration-color: #008000\">'value'</span><span style=\"color: #000000; text-decoration-color: #000000\">: </span><span style=\"color: #008000; text-decoration-color: #008000\">'&lt;image&gt;\\nWhat are the objects and relations you see in this image?'</span><span style=\"color: #000000; text-decoration-color: #000000; font-weight: bold\">}</span><span style=\"color: #000000; text-decoration-color: #000000\">,</span>\n",
       "<span style=\"color: #000000; text-decoration-color: #000000\">            </span><span style=\"color: #000000; text-decoration-color: #000000; font-weight: bold\">{</span>\n",
       "<span style=\"color: #000000; text-decoration-color: #000000\">                </span><span style=\"color: #008000; text-decoration-color: #008000\">'from'</span><span style=\"color: #000000; text-decoration-color: #000000\">: </span><span style=\"color: #008000; text-decoration-color: #008000\">'gpt'</span><span style=\"color: #000000; text-decoration-color: #000000\">,</span>\n",
       "<span style=\"color: #000000; text-decoration-color: #000000\">                </span><span style=\"color: #008000; text-decoration-color: #008000\">'value'</span><span style=\"color: #000000; text-decoration-color: #000000\">: </span><span style=\"color: #008000; text-decoration-color: #008000\">'Device 1: \\npcb in hca_back\\nhca_back next to internals\\ninternals next to hca_back\\npcb </span>\n",
       "<span style=\"color: #008000; text-decoration-color: #008000\">next to internals\\ninternals next to pcb\\n'</span>\n",
       "<span style=\"color: #000000; text-decoration-color: #000000\">            </span><span style=\"color: #000000; text-decoration-color: #000000; font-weight: bold\">}</span>\n",
       "<span style=\"color: #000000; text-decoration-color: #000000\">        </span><span style=\"color: #000000; text-decoration-color: #000000; font-weight: bold\">]</span>\n",
       "<span style=\"color: #000000; text-decoration-color: #000000\">    </span><span style=\"color: #000000; text-decoration-color: #000000; font-weight: bold\">}</span><span style=\"color: #000000; text-decoration-color: #000000\">,</span>\n",
       "<span style=\"color: #000000; text-decoration-color: #000000\">    </span><span style=\"color: #000000; text-decoration-color: #000000; font-weight: bold\">{</span>\n",
       "<span style=\"color: #000000; text-decoration-color: #000000\">        </span><span style=\"color: #008000; text-decoration-color: #008000\">'id'</span><span style=\"color: #000000; text-decoration-color: #000000\">: </span><span style=\"color: #008080; text-decoration-color: #008080; font-weight: bold\">36</span><span style=\"color: #000000; text-decoration-color: #000000\">,</span>\n",
       "<span style=\"color: #000000; text-decoration-color: #000000\">        </span><span style=\"color: #008000; text-decoration-color: #008000\">'image'</span><span style=\"color: #000000; text-decoration-color: #000000\">: </span><span style=\"color: #008000; text-decoration-color: #008000\">'images/00000037.jpg'</span><span style=\"color: #000000; text-decoration-color: #000000\">,</span>\n",
       "<span style=\"color: #000000; text-decoration-color: #000000\">        </span><span style=\"color: #008000; text-decoration-color: #008000\">'conversations'</span><span style=\"color: #000000; text-decoration-color: #000000\">: </span><span style=\"color: #000000; text-decoration-color: #000000; font-weight: bold\">[</span>\n",
       "<span style=\"color: #000000; text-decoration-color: #000000\">            </span><span style=\"color: #000000; text-decoration-color: #000000; font-weight: bold\">{</span><span style=\"color: #008000; text-decoration-color: #008000\">'from'</span><span style=\"color: #000000; text-decoration-color: #000000\">: </span><span style=\"color: #008000; text-decoration-color: #008000\">'human'</span><span style=\"color: #000000; text-decoration-color: #000000\">, </span><span style=\"color: #008000; text-decoration-color: #008000\">'value'</span><span style=\"color: #000000; text-decoration-color: #000000\">: </span><span style=\"color: #008000; text-decoration-color: #008000\">'&lt;image&gt;\\nWhat are the objects and relations you see in this image?'</span><span style=\"color: #000000; text-decoration-color: #000000; font-weight: bold\">}</span><span style=\"color: #000000; text-decoration-color: #000000\">,</span>\n",
       "<span style=\"color: #000000; text-decoration-color: #000000\">            </span><span style=\"color: #000000; text-decoration-color: #000000; font-weight: bold\">{</span>\n",
       "<span style=\"color: #000000; text-decoration-color: #000000\">                </span><span style=\"color: #008000; text-decoration-color: #008000\">'from'</span><span style=\"color: #000000; text-decoration-color: #000000\">: </span><span style=\"color: #008000; text-decoration-color: #008000\">'gpt'</span><span style=\"color: #000000; text-decoration-color: #000000\">,</span>\n",
       "<span style=\"color: #000000; text-decoration-color: #000000\">                </span><span style=\"color: #008000; text-decoration-color: #008000\">'value'</span><span style=\"color: #000000; text-decoration-color: #000000\">: </span><span style=\"color: #008000; text-decoration-color: #008000\">'Device 1: \\nfirealarm_back next to firealarm_front\\nfirealarm_front next to </span>\n",
       "<span style=\"color: #008000; text-decoration-color: #008000\">firealarm_back\\n'</span>\n",
       "<span style=\"color: #000000; text-decoration-color: #000000\">            </span><span style=\"color: #000000; text-decoration-color: #000000; font-weight: bold\">}</span>\n",
       "<span style=\"color: #000000; text-decoration-color: #000000\">        </span><span style=\"color: #000000; text-decoration-color: #000000; font-weight: bold\">]</span>\n",
       "<span style=\"color: #000000; text-decoration-color: #000000\">    </span><span style=\"color: #000000; text-decoration-color: #000000; font-weight: bold\">}</span><span style=\"color: #000000; text-decoration-color: #000000\">,</span>\n",
       "<span style=\"color: #000000; text-decoration-color: #000000\">    </span><span style=\"color: #000000; text-decoration-color: #000000; font-weight: bold\">{</span>\n",
       "<span style=\"color: #000000; text-decoration-color: #000000\">        </span><span style=\"color: #008000; text-decoration-color: #008000\">'id'</span><span style=\"color: #000000; text-decoration-color: #000000\">: </span><span style=\"color: #008080; text-decoration-color: #008080; font-weight: bold\">37</span><span style=\"color: #000000; text-decoration-color: #000000\">,</span>\n",
       "<span style=\"color: #000000; text-decoration-color: #000000\">        </span><span style=\"color: #008000; text-decoration-color: #008000\">'image'</span><span style=\"color: #000000; text-decoration-color: #000000\">: </span><span style=\"color: #008000; text-decoration-color: #008000\">'images/00000038.jpg'</span><span style=\"color: #000000; text-decoration-color: #000000\">,</span>\n",
       "<span style=\"color: #000000; text-decoration-color: #000000\">        </span><span style=\"color: #008000; text-decoration-color: #008000\">'conversations'</span><span style=\"color: #000000; text-decoration-color: #000000\">: </span><span style=\"color: #000000; text-decoration-color: #000000; font-weight: bold\">[</span>\n",
       "<span style=\"color: #000000; text-decoration-color: #000000\">            </span><span style=\"color: #000000; text-decoration-color: #000000; font-weight: bold\">{</span><span style=\"color: #008000; text-decoration-color: #008000\">'from'</span><span style=\"color: #000000; text-decoration-color: #000000\">: </span><span style=\"color: #008000; text-decoration-color: #008000\">'human'</span><span style=\"color: #000000; text-decoration-color: #000000\">, </span><span style=\"color: #008000; text-decoration-color: #008000\">'value'</span><span style=\"color: #000000; text-decoration-color: #000000\">: </span><span style=\"color: #008000; text-decoration-color: #008000\">'&lt;image&gt;\\nWhat are the objects and relations you see in this image?'</span><span style=\"color: #000000; text-decoration-color: #000000; font-weight: bold\">}</span><span style=\"color: #000000; text-decoration-color: #000000\">,</span>\n",
       "<span style=\"color: #000000; text-decoration-color: #000000\">            </span><span style=\"color: #000000; text-decoration-color: #000000; font-weight: bold\">{</span>\n",
       "<span style=\"color: #000000; text-decoration-color: #000000\">                </span><span style=\"color: #008000; text-decoration-color: #008000\">'from'</span><span style=\"color: #000000; text-decoration-color: #000000\">: </span><span style=\"color: #008000; text-decoration-color: #008000\">'gpt'</span><span style=\"color: #000000; text-decoration-color: #000000\">,</span>\n",
       "<span style=\"color: #000000; text-decoration-color: #000000\">                </span><span style=\"color: #008000; text-decoration-color: #008000\">'value'</span><span style=\"color: #000000; text-decoration-color: #000000\">: </span><span style=\"color: #008000; text-decoration-color: #008000\">'Device 1: \\npcb_covered in hca_back\\n\\nDevice 2: \\nbattery_covered in firealarm_back\\n'</span>\n",
       "<span style=\"color: #000000; text-decoration-color: #000000\">            </span><span style=\"color: #000000; text-decoration-color: #000000; font-weight: bold\">}</span>\n",
       "<span style=\"color: #000000; text-decoration-color: #000000\">        </span><span style=\"color: #000000; text-decoration-color: #000000; font-weight: bold\">]</span>\n",
       "<span style=\"color: #000000; text-decoration-color: #000000\">    </span><span style=\"color: #000000; text-decoration-color: #000000; font-weight: bold\">}</span><span style=\"color: #000000; text-decoration-color: #000000\">,</span>\n",
       "<span style=\"color: #000000; text-decoration-color: #000000\">    </span><span style=\"color: #000000; text-decoration-color: #000000; font-weight: bold\">{</span>\n",
       "<span style=\"color: #000000; text-decoration-color: #000000\">        </span><span style=\"color: #008000; text-decoration-color: #008000\">'id'</span><span style=\"color: #000000; text-decoration-color: #000000\">: </span><span style=\"color: #008080; text-decoration-color: #008080; font-weight: bold\">38</span><span style=\"color: #000000; text-decoration-color: #000000\">,</span>\n",
       "<span style=\"color: #000000; text-decoration-color: #000000\">        </span><span style=\"color: #008000; text-decoration-color: #008000\">'image'</span><span style=\"color: #000000; text-decoration-color: #000000\">: </span><span style=\"color: #008000; text-decoration-color: #008000\">'images/00000039.jpg'</span><span style=\"color: #000000; text-decoration-color: #000000\">,</span>\n",
       "<span style=\"color: #000000; text-decoration-color: #000000\">        </span><span style=\"color: #008000; text-decoration-color: #008000\">'conversations'</span><span style=\"color: #000000; text-decoration-color: #000000\">: </span><span style=\"color: #000000; text-decoration-color: #000000; font-weight: bold\">[</span>\n",
       "<span style=\"color: #000000; text-decoration-color: #000000\">            </span><span style=\"color: #000000; text-decoration-color: #000000; font-weight: bold\">{</span><span style=\"color: #008000; text-decoration-color: #008000\">'from'</span><span style=\"color: #000000; text-decoration-color: #000000\">: </span><span style=\"color: #008000; text-decoration-color: #008000\">'human'</span><span style=\"color: #000000; text-decoration-color: #000000\">, </span><span style=\"color: #008000; text-decoration-color: #008000\">'value'</span><span style=\"color: #000000; text-decoration-color: #000000\">: </span><span style=\"color: #008000; text-decoration-color: #008000\">'&lt;image&gt;\\nWhat are the objects and relations you see in this image?'</span><span style=\"color: #000000; text-decoration-color: #000000; font-weight: bold\">}</span><span style=\"color: #000000; text-decoration-color: #000000\">,</span>\n",
       "<span style=\"color: #000000; text-decoration-color: #000000\">            </span><span style=\"color: #000000; text-decoration-color: #000000; font-weight: bold\">{</span><span style=\"color: #008000; text-decoration-color: #008000\">'from'</span><span style=\"color: #000000; text-decoration-color: #000000\">: </span><span style=\"color: #008000; text-decoration-color: #008000\">'gpt'</span><span style=\"color: #000000; text-decoration-color: #000000\">, </span><span style=\"color: #008000; text-decoration-color: #008000\">'value'</span><span style=\"color: #000000; text-decoration-color: #000000\">: </span><span style=\"color: #008000; text-decoration-color: #008000\">'Device 1: \\npcb in hca_back\\n'</span><span style=\"color: #000000; text-decoration-color: #000000; font-weight: bold\">}</span>\n",
       "<span style=\"color: #000000; text-decoration-color: #000000\">        </span><span style=\"color: #000000; text-decoration-color: #000000; font-weight: bold\">]</span>\n",
       "<span style=\"color: #000000; text-decoration-color: #000000\">    </span><span style=\"color: #000000; text-decoration-color: #000000; font-weight: bold\">}</span><span style=\"color: #000000; text-decoration-color: #000000\">,</span>\n",
       "<span style=\"color: #000000; text-decoration-color: #000000\">    </span><span style=\"color: #000000; text-decoration-color: #000000; font-weight: bold\">{</span>\n",
       "<span style=\"color: #000000; text-decoration-color: #000000\">        </span><span style=\"color: #008000; text-decoration-color: #008000\">'id'</span><span style=\"color: #000000; text-decoration-color: #000000\">: </span><span style=\"color: #008080; text-decoration-color: #008080; font-weight: bold\">39</span><span style=\"color: #000000; text-decoration-color: #000000\">,</span>\n",
       "<span style=\"color: #000000; text-decoration-color: #000000\">        </span><span style=\"color: #008000; text-decoration-color: #008000\">'image'</span><span style=\"color: #000000; text-decoration-color: #000000\">: </span><span style=\"color: #008000; text-decoration-color: #008000\">'images/00000040.jpg'</span><span style=\"color: #000000; text-decoration-color: #000000\">,</span>\n",
       "<span style=\"color: #000000; text-decoration-color: #000000\">        </span><span style=\"color: #008000; text-decoration-color: #008000\">'conversations'</span><span style=\"color: #000000; text-decoration-color: #000000\">: </span><span style=\"color: #000000; text-decoration-color: #000000; font-weight: bold\">[</span>\n",
       "<span style=\"color: #000000; text-decoration-color: #000000\">            </span><span style=\"color: #000000; text-decoration-color: #000000; font-weight: bold\">{</span><span style=\"color: #008000; text-decoration-color: #008000\">'from'</span><span style=\"color: #000000; text-decoration-color: #000000\">: </span><span style=\"color: #008000; text-decoration-color: #008000\">'human'</span><span style=\"color: #000000; text-decoration-color: #000000\">, </span><span style=\"color: #008000; text-decoration-color: #008000\">'value'</span><span style=\"color: #000000; text-decoration-color: #000000\">: </span><span style=\"color: #008000; text-decoration-color: #008000\">'&lt;image&gt;\\nWhat are the objects and relations you see in this image?'</span><span style=\"color: #000000; text-decoration-color: #000000; font-weight: bold\">}</span><span style=\"color: #000000; text-decoration-color: #000000\">,</span>\n",
       "<span style=\"color: #000000; text-decoration-color: #000000\">            </span><span style=\"color: #000000; text-decoration-color: #000000; font-weight: bold\">{</span><span style=\"color: #008000; text-decoration-color: #008000\">'from'</span><span style=\"color: #000000; text-decoration-color: #000000\">: </span><span style=\"color: #008000; text-decoration-color: #008000\">'gpt'</span><span style=\"color: #000000; text-decoration-color: #000000\">, </span><span style=\"color: #008000; text-decoration-color: #008000\">'value'</span><span style=\"color: #000000; text-decoration-color: #000000\">: </span><span style=\"color: #008000; text-decoration-color: #008000\">'Device 1: \\npcb in hca_back\\nbattery in hca_back\\nbattery in pcb\\n'</span><span style=\"color: #000000; text-decoration-color: #000000; font-weight: bold\">}</span>\n",
       "<span style=\"color: #000000; text-decoration-color: #000000\">        </span><span style=\"color: #000000; text-decoration-color: #000000; font-weight: bold\">]</span>\n",
       "<span style=\"color: #000000; text-decoration-color: #000000\">    </span><span style=\"color: #000000; text-decoration-color: #000000; font-weight: bold\">}</span><span style=\"color: #000000; text-decoration-color: #000000\">,</span>\n",
       "<span style=\"color: #000000; text-decoration-color: #000000\">    </span><span style=\"color: #000000; text-decoration-color: #000000; font-weight: bold\">{</span>\n",
       "<span style=\"color: #000000; text-decoration-color: #000000\">        </span><span style=\"color: #008000; text-decoration-color: #008000\">'id'</span><span style=\"color: #000000; text-decoration-color: #000000\">: </span><span style=\"color: #008080; text-decoration-color: #008080; font-weight: bold\">40</span><span style=\"color: #000000; text-decoration-color: #000000\">,</span>\n",
       "<span style=\"color: #000000; text-decoration-color: #000000\">        </span><span style=\"color: #008000; text-decoration-color: #008000\">'image'</span><span style=\"color: #000000; text-decoration-color: #000000\">: </span><span style=\"color: #008000; text-decoration-color: #008000\">'images/00000041.jpg'</span><span style=\"color: #000000; text-decoration-color: #000000\">,</span>\n",
       "<span style=\"color: #000000; text-decoration-color: #000000\">        </span><span style=\"color: #008000; text-decoration-color: #008000\">'conversations'</span><span style=\"color: #000000; text-decoration-color: #000000\">: </span><span style=\"color: #000000; text-decoration-color: #000000; font-weight: bold\">[</span>\n",
       "<span style=\"color: #000000; text-decoration-color: #000000\">            </span><span style=\"color: #000000; text-decoration-color: #000000; font-weight: bold\">{</span><span style=\"color: #008000; text-decoration-color: #008000\">'from'</span><span style=\"color: #000000; text-decoration-color: #000000\">: </span><span style=\"color: #008000; text-decoration-color: #008000\">'human'</span><span style=\"color: #000000; text-decoration-color: #000000\">, </span><span style=\"color: #008000; text-decoration-color: #008000\">'value'</span><span style=\"color: #000000; text-decoration-color: #000000\">: </span><span style=\"color: #008000; text-decoration-color: #008000\">'&lt;image&gt;\\nWhat are the objects and relations you see in this image?'</span><span style=\"color: #000000; text-decoration-color: #000000; font-weight: bold\">}</span><span style=\"color: #000000; text-decoration-color: #000000\">,</span>\n",
       "<span style=\"color: #000000; text-decoration-color: #000000\">            </span><span style=\"color: #000000; text-decoration-color: #000000; font-weight: bold\">{</span>\n",
       "<span style=\"color: #000000; text-decoration-color: #000000\">                </span><span style=\"color: #008000; text-decoration-color: #008000\">'from'</span><span style=\"color: #000000; text-decoration-color: #000000\">: </span><span style=\"color: #008000; text-decoration-color: #008000\">'gpt'</span><span style=\"color: #000000; text-decoration-color: #000000\">,</span>\n",
       "<span style=\"color: #000000; text-decoration-color: #000000\">                </span><span style=\"color: #008000; text-decoration-color: #008000\">'value'</span><span style=\"color: #000000; text-decoration-color: #000000\">: </span><span style=\"color: #008000; text-decoration-color: #008000\">'Device 1: \\npcb in hca_back\\nbattery in hca_back\\npcb next to battery\\nbattery next to </span>\n",
       "<span style=\"color: #008000; text-decoration-color: #008000\">pcb\\n'</span>\n",
       "<span style=\"color: #000000; text-decoration-color: #000000\">            </span><span style=\"color: #000000; text-decoration-color: #000000; font-weight: bold\">}</span>\n",
       "<span style=\"color: #000000; text-decoration-color: #000000\">        </span><span style=\"color: #000000; text-decoration-color: #000000; font-weight: bold\">]</span>\n",
       "<span style=\"color: #000000; text-decoration-color: #000000\">    </span><span style=\"color: #000000; text-decoration-color: #000000; font-weight: bold\">}</span><span style=\"color: #000000; text-decoration-color: #000000\">,</span>\n",
       "<span style=\"color: #000000; text-decoration-color: #000000\">    </span><span style=\"color: #000000; text-decoration-color: #000000; font-weight: bold\">{</span>\n",
       "<span style=\"color: #000000; text-decoration-color: #000000\">        </span><span style=\"color: #008000; text-decoration-color: #008000\">'id'</span><span style=\"color: #000000; text-decoration-color: #000000\">: </span><span style=\"color: #008080; text-decoration-color: #008080; font-weight: bold\">41</span><span style=\"color: #000000; text-decoration-color: #000000\">,</span>\n",
       "<span style=\"color: #000000; text-decoration-color: #000000\">        </span><span style=\"color: #008000; text-decoration-color: #008000\">'image'</span><span style=\"color: #000000; text-decoration-color: #000000\">: </span><span style=\"color: #008000; text-decoration-color: #008000\">'images/00000042.jpg'</span><span style=\"color: #000000; text-decoration-color: #000000\">,</span>\n",
       "<span style=\"color: #000000; text-decoration-color: #000000\">        </span><span style=\"color: #008000; text-decoration-color: #008000\">'conversations'</span><span style=\"color: #000000; text-decoration-color: #000000\">: </span><span style=\"color: #000000; text-decoration-color: #000000; font-weight: bold\">[</span>\n",
       "<span style=\"color: #000000; text-decoration-color: #000000\">            </span><span style=\"color: #000000; text-decoration-color: #000000; font-weight: bold\">{</span><span style=\"color: #008000; text-decoration-color: #008000\">'from'</span><span style=\"color: #000000; text-decoration-color: #000000\">: </span><span style=\"color: #008000; text-decoration-color: #008000\">'human'</span><span style=\"color: #000000; text-decoration-color: #000000\">, </span><span style=\"color: #008000; text-decoration-color: #008000\">'value'</span><span style=\"color: #000000; text-decoration-color: #000000\">: </span><span style=\"color: #008000; text-decoration-color: #008000\">'&lt;image&gt;\\nWhat are the objects and relations you see in this image?'</span><span style=\"color: #000000; text-decoration-color: #000000; font-weight: bold\">}</span><span style=\"color: #000000; text-decoration-color: #000000\">,</span>\n",
       "<span style=\"color: #000000; text-decoration-color: #000000\">            </span><span style=\"color: #000000; text-decoration-color: #000000; font-weight: bold\">{</span><span style=\"color: #008000; text-decoration-color: #008000\">'from'</span><span style=\"color: #000000; text-decoration-color: #000000\">: </span><span style=\"color: #008000; text-decoration-color: #008000\">'gpt'</span><span style=\"color: #000000; text-decoration-color: #000000\">, </span><span style=\"color: #008000; text-decoration-color: #008000\">'value'</span><span style=\"color: #000000; text-decoration-color: #000000\">: </span><span style=\"color: #008000; text-decoration-color: #008000\">'Device 1: \\nbattery_covered in firealarm_back\\n'</span><span style=\"color: #000000; text-decoration-color: #000000; font-weight: bold\">}</span>\n",
       "<span style=\"color: #000000; text-decoration-color: #000000\">        </span><span style=\"color: #000000; text-decoration-color: #000000; font-weight: bold\">]</span>\n",
       "<span style=\"color: #000000; text-decoration-color: #000000\">    </span><span style=\"color: #000000; text-decoration-color: #000000; font-weight: bold\">}</span><span style=\"color: #000000; text-decoration-color: #000000\">,</span>\n",
       "<span style=\"color: #000000; text-decoration-color: #000000\">    </span><span style=\"color: #000000; text-decoration-color: #000000; font-weight: bold\">{</span>\n",
       "<span style=\"color: #000000; text-decoration-color: #000000\">        </span><span style=\"color: #008000; text-decoration-color: #008000\">'id'</span><span style=\"color: #000000; text-decoration-color: #000000\">: </span><span style=\"color: #008080; text-decoration-color: #008080; font-weight: bold\">42</span><span style=\"color: #000000; text-decoration-color: #000000\">,</span>\n",
       "<span style=\"color: #000000; text-decoration-color: #000000\">        </span><span style=\"color: #008000; text-decoration-color: #008000\">'image'</span><span style=\"color: #000000; text-decoration-color: #000000\">: </span><span style=\"color: #008000; text-decoration-color: #008000\">'images/00000043.jpg'</span><span style=\"color: #000000; text-decoration-color: #000000\">,</span>\n",
       "<span style=\"color: #000000; text-decoration-color: #000000\">        </span><span style=\"color: #008000; text-decoration-color: #008000\">'conversations'</span><span style=\"color: #000000; text-decoration-color: #000000\">: </span><span style=\"color: #000000; text-decoration-color: #000000; font-weight: bold\">[</span>\n",
       "<span style=\"color: #000000; text-decoration-color: #000000\">            </span><span style=\"color: #000000; text-decoration-color: #000000; font-weight: bold\">{</span><span style=\"color: #008000; text-decoration-color: #008000\">'from'</span><span style=\"color: #000000; text-decoration-color: #000000\">: </span><span style=\"color: #008000; text-decoration-color: #008000\">'human'</span><span style=\"color: #000000; text-decoration-color: #000000\">, </span><span style=\"color: #008000; text-decoration-color: #008000\">'value'</span><span style=\"color: #000000; text-decoration-color: #000000\">: </span><span style=\"color: #008000; text-decoration-color: #008000\">'&lt;image&gt;\\nWhat are the objects and relations you see in this image?'</span><span style=\"color: #000000; text-decoration-color: #000000; font-weight: bold\">}</span><span style=\"color: #000000; text-decoration-color: #000000\">,</span>\n",
       "<span style=\"color: #000000; text-decoration-color: #000000\">            </span><span style=\"color: #000000; text-decoration-color: #000000; font-weight: bold\">{</span><span style=\"color: #008000; text-decoration-color: #008000\">'from'</span><span style=\"color: #000000; text-decoration-color: #000000\">: </span><span style=\"color: #008000; text-decoration-color: #008000\">'gpt'</span><span style=\"color: #000000; text-decoration-color: #000000\">, </span><span style=\"color: #008000; text-decoration-color: #008000\">'value'</span><span style=\"color: #000000; text-decoration-color: #000000\">: </span><span style=\"color: #008000; text-decoration-color: #008000\">'Device 1: \\nbattery_covered in firealarm_back\\n'</span><span style=\"color: #000000; text-decoration-color: #000000; font-weight: bold\">}</span>\n",
       "<span style=\"color: #000000; text-decoration-color: #000000\">        </span><span style=\"color: #000000; text-decoration-color: #000000; font-weight: bold\">]</span>\n",
       "<span style=\"color: #000000; text-decoration-color: #000000\">    </span><span style=\"color: #000000; text-decoration-color: #000000; font-weight: bold\">}</span><span style=\"color: #000000; text-decoration-color: #000000\">,</span>\n",
       "<span style=\"color: #000000; text-decoration-color: #000000\">    </span><span style=\"color: #000000; text-decoration-color: #000000; font-weight: bold\">{</span>\n",
       "<span style=\"color: #000000; text-decoration-color: #000000\">        </span><span style=\"color: #008000; text-decoration-color: #008000\">'id'</span><span style=\"color: #000000; text-decoration-color: #000000\">: </span><span style=\"color: #008080; text-decoration-color: #008080; font-weight: bold\">43</span><span style=\"color: #000000; text-decoration-color: #000000\">,</span>\n",
       "<span style=\"color: #000000; text-decoration-color: #000000\">        </span><span style=\"color: #008000; text-decoration-color: #008000\">'image'</span><span style=\"color: #000000; text-decoration-color: #000000\">: </span><span style=\"color: #008000; text-decoration-color: #008000\">'images/00000044.jpg'</span><span style=\"color: #000000; text-decoration-color: #000000\">,</span>\n",
       "<span style=\"color: #000000; text-decoration-color: #000000\">        </span><span style=\"color: #008000; text-decoration-color: #008000\">'conversations'</span><span style=\"color: #000000; text-decoration-color: #000000\">: </span><span style=\"color: #000000; text-decoration-color: #000000; font-weight: bold\">[</span>\n",
       "<span style=\"color: #000000; text-decoration-color: #000000\">            </span><span style=\"color: #000000; text-decoration-color: #000000; font-weight: bold\">{</span><span style=\"color: #008000; text-decoration-color: #008000\">'from'</span><span style=\"color: #000000; text-decoration-color: #000000\">: </span><span style=\"color: #008000; text-decoration-color: #008000\">'human'</span><span style=\"color: #000000; text-decoration-color: #000000\">, </span><span style=\"color: #008000; text-decoration-color: #008000\">'value'</span><span style=\"color: #000000; text-decoration-color: #000000\">: </span><span style=\"color: #008000; text-decoration-color: #008000\">'&lt;image&gt;\\nWhat are the objects and relations you see in this image?'</span><span style=\"color: #000000; text-decoration-color: #000000; font-weight: bold\">}</span><span style=\"color: #000000; text-decoration-color: #000000\">,</span>\n",
       "<span style=\"color: #000000; text-decoration-color: #000000\">            </span><span style=\"color: #000000; text-decoration-color: #000000; font-weight: bold\">{</span>\n",
       "<span style=\"color: #000000; text-decoration-color: #000000\">                </span><span style=\"color: #008000; text-decoration-color: #008000\">'from'</span><span style=\"color: #000000; text-decoration-color: #000000\">: </span><span style=\"color: #008000; text-decoration-color: #008000\">'gpt'</span><span style=\"color: #000000; text-decoration-color: #000000\">,</span>\n",
       "<span style=\"color: #000000; text-decoration-color: #000000\">                </span><span style=\"color: #008000; text-decoration-color: #008000\">'value'</span><span style=\"color: #000000; text-decoration-color: #000000\">: </span><span style=\"color: #008000; text-decoration-color: #008000\">'Device 1: \\npcb in internals\\nbattery in internals\\npcb next to battery\\nbattery next to </span>\n",
       "<span style=\"color: #008000; text-decoration-color: #008000\">pcb\\n'</span>\n",
       "<span style=\"color: #000000; text-decoration-color: #000000\">            </span><span style=\"color: #000000; text-decoration-color: #000000; font-weight: bold\">}</span>\n",
       "<span style=\"color: #000000; text-decoration-color: #000000\">        </span><span style=\"color: #000000; text-decoration-color: #000000; font-weight: bold\">]</span>\n",
       "<span style=\"color: #000000; text-decoration-color: #000000\">    </span><span style=\"color: #000000; text-decoration-color: #000000; font-weight: bold\">}</span><span style=\"color: #000000; text-decoration-color: #000000\">,</span>\n",
       "<span style=\"color: #000000; text-decoration-color: #000000\">    </span><span style=\"color: #000000; text-decoration-color: #000000; font-weight: bold\">{</span>\n",
       "<span style=\"color: #000000; text-decoration-color: #000000\">        </span><span style=\"color: #008000; text-decoration-color: #008000\">'id'</span><span style=\"color: #000000; text-decoration-color: #000000\">: </span><span style=\"color: #008080; text-decoration-color: #008080; font-weight: bold\">44</span><span style=\"color: #000000; text-decoration-color: #000000\">,</span>\n",
       "<span style=\"color: #000000; text-decoration-color: #000000\">        </span><span style=\"color: #008000; text-decoration-color: #008000\">'image'</span><span style=\"color: #000000; text-decoration-color: #000000\">: </span><span style=\"color: #008000; text-decoration-color: #008000\">'images/00000045.jpg'</span><span style=\"color: #000000; text-decoration-color: #000000\">,</span>\n",
       "<span style=\"color: #000000; text-decoration-color: #000000\">        </span><span style=\"color: #008000; text-decoration-color: #008000\">'conversations'</span><span style=\"color: #000000; text-decoration-color: #000000\">: </span><span style=\"color: #000000; text-decoration-color: #000000; font-weight: bold\">[</span>\n",
       "<span style=\"color: #000000; text-decoration-color: #000000\">            </span><span style=\"color: #000000; text-decoration-color: #000000; font-weight: bold\">{</span><span style=\"color: #008000; text-decoration-color: #008000\">'from'</span><span style=\"color: #000000; text-decoration-color: #000000\">: </span><span style=\"color: #008000; text-decoration-color: #008000\">'human'</span><span style=\"color: #000000; text-decoration-color: #000000\">, </span><span style=\"color: #008000; text-decoration-color: #008000\">'value'</span><span style=\"color: #000000; text-decoration-color: #000000\">: </span><span style=\"color: #008000; text-decoration-color: #008000\">'&lt;image&gt;\\nWhat are the objects and relations you see in this image?'</span><span style=\"color: #000000; text-decoration-color: #000000; font-weight: bold\">}</span><span style=\"color: #000000; text-decoration-color: #000000\">,</span>\n",
       "<span style=\"color: #000000; text-decoration-color: #000000\">            </span><span style=\"color: #000000; text-decoration-color: #000000; font-weight: bold\">{</span><span style=\"color: #008000; text-decoration-color: #008000\">'from'</span><span style=\"color: #000000; text-decoration-color: #000000\">: </span><span style=\"color: #008000; text-decoration-color: #008000\">'gpt'</span><span style=\"color: #000000; text-decoration-color: #000000\">, </span><span style=\"color: #008000; text-decoration-color: #008000\">'value'</span><span style=\"color: #000000; text-decoration-color: #000000\">: </span><span style=\"color: #008000; text-decoration-color: #008000\">'Device 1: \\ninternals'</span><span style=\"color: #000000; text-decoration-color: #000000; font-weight: bold\">}</span>\n",
       "<span style=\"color: #000000; text-decoration-color: #000000\">        </span><span style=\"color: #000000; text-decoration-color: #000000; font-weight: bold\">]</span>\n",
       "<span style=\"color: #000000; text-decoration-color: #000000\">    </span><span style=\"color: #000000; text-decoration-color: #000000; font-weight: bold\">}</span><span style=\"color: #000000; text-decoration-color: #000000\">,</span>\n",
       "<span style=\"color: #000000; text-decoration-color: #000000\">    </span><span style=\"color: #000000; text-decoration-color: #000000; font-weight: bold\">{</span>\n",
       "<span style=\"color: #000000; text-decoration-color: #000000\">        </span><span style=\"color: #008000; text-decoration-color: #008000\">'id'</span><span style=\"color: #000000; text-decoration-color: #000000\">: </span><span style=\"color: #008080; text-decoration-color: #008080; font-weight: bold\">45</span><span style=\"color: #000000; text-decoration-color: #000000\">,</span>\n",
       "<span style=\"color: #000000; text-decoration-color: #000000\">        </span><span style=\"color: #008000; text-decoration-color: #008000\">'image'</span><span style=\"color: #000000; text-decoration-color: #000000\">: </span><span style=\"color: #008000; text-decoration-color: #008000\">'images/00000046.jpg'</span><span style=\"color: #000000; text-decoration-color: #000000\">,</span>\n",
       "<span style=\"color: #000000; text-decoration-color: #000000\">        </span><span style=\"color: #008000; text-decoration-color: #008000\">'conversations'</span><span style=\"color: #000000; text-decoration-color: #000000\">: </span><span style=\"color: #000000; text-decoration-color: #000000; font-weight: bold\">[</span>\n",
       "<span style=\"color: #000000; text-decoration-color: #000000\">            </span><span style=\"color: #000000; text-decoration-color: #000000; font-weight: bold\">{</span><span style=\"color: #008000; text-decoration-color: #008000\">'from'</span><span style=\"color: #000000; text-decoration-color: #000000\">: </span><span style=\"color: #008000; text-decoration-color: #008000\">'human'</span><span style=\"color: #000000; text-decoration-color: #000000\">, </span><span style=\"color: #008000; text-decoration-color: #008000\">'value'</span><span style=\"color: #000000; text-decoration-color: #000000\">: </span><span style=\"color: #008000; text-decoration-color: #008000\">'&lt;image&gt;\\nWhat are the objects and relations you see in this image?'</span><span style=\"color: #000000; text-decoration-color: #000000; font-weight: bold\">}</span><span style=\"color: #000000; text-decoration-color: #000000\">,</span>\n",
       "<span style=\"color: #000000; text-decoration-color: #000000\">            </span><span style=\"color: #000000; text-decoration-color: #000000; font-weight: bold\">{</span>\n",
       "<span style=\"color: #000000; text-decoration-color: #000000\">                </span><span style=\"color: #008000; text-decoration-color: #008000\">'from'</span><span style=\"color: #000000; text-decoration-color: #000000\">: </span><span style=\"color: #008000; text-decoration-color: #008000\">'gpt'</span><span style=\"color: #000000; text-decoration-color: #000000\">,</span>\n",
       "<span style=\"color: #000000; text-decoration-color: #000000\">                </span><span style=\"color: #008000; text-decoration-color: #008000\">'value'</span><span style=\"color: #000000; text-decoration-color: #000000\">: </span><span style=\"color: #008000; text-decoration-color: #008000\">'Device 1: \\nfirealarm_front next to firealarm_back\\nfirealarm_back next to </span>\n",
       "<span style=\"color: #008000; text-decoration-color: #008000\">firealarm_front\\npcb in firealarm_back\\nbattery in firealarm_back\\nbattery in firealarm_back\\nbattery in </span>\n",
       "<span style=\"color: #008000; text-decoration-color: #008000\">pcb\\nbattery in pcb\\n'</span>\n",
       "<span style=\"color: #000000; text-decoration-color: #000000\">            </span><span style=\"color: #000000; text-decoration-color: #000000; font-weight: bold\">}</span>\n",
       "<span style=\"color: #000000; text-decoration-color: #000000\">        </span><span style=\"color: #000000; text-decoration-color: #000000; font-weight: bold\">]</span>\n",
       "<span style=\"color: #000000; text-decoration-color: #000000\">    </span><span style=\"color: #000000; text-decoration-color: #000000; font-weight: bold\">}</span><span style=\"color: #000000; text-decoration-color: #000000\">,</span>\n",
       "<span style=\"color: #000000; text-decoration-color: #000000\">    </span><span style=\"color: #000000; text-decoration-color: #000000; font-weight: bold\">{</span>\n",
       "<span style=\"color: #000000; text-decoration-color: #000000\">        </span><span style=\"color: #008000; text-decoration-color: #008000\">'id'</span><span style=\"color: #000000; text-decoration-color: #000000\">: </span><span style=\"color: #008080; text-decoration-color: #008080; font-weight: bold\">46</span><span style=\"color: #000000; text-decoration-color: #000000\">,</span>\n",
       "<span style=\"color: #000000; text-decoration-color: #000000\">        </span><span style=\"color: #008000; text-decoration-color: #008000\">'image'</span><span style=\"color: #000000; text-decoration-color: #000000\">: </span><span style=\"color: #008000; text-decoration-color: #008000\">'images/00000047.jpg'</span><span style=\"color: #000000; text-decoration-color: #000000\">,</span>\n",
       "<span style=\"color: #000000; text-decoration-color: #000000\">        </span><span style=\"color: #008000; text-decoration-color: #008000\">'conversations'</span><span style=\"color: #000000; text-decoration-color: #000000\">: </span><span style=\"color: #000000; text-decoration-color: #000000; font-weight: bold\">[</span>\n",
       "<span style=\"color: #000000; text-decoration-color: #000000\">            </span><span style=\"color: #000000; text-decoration-color: #000000; font-weight: bold\">{</span><span style=\"color: #008000; text-decoration-color: #008000\">'from'</span><span style=\"color: #000000; text-decoration-color: #000000\">: </span><span style=\"color: #008000; text-decoration-color: #008000\">'human'</span><span style=\"color: #000000; text-decoration-color: #000000\">, </span><span style=\"color: #008000; text-decoration-color: #008000\">'value'</span><span style=\"color: #000000; text-decoration-color: #000000\">: </span><span style=\"color: #008000; text-decoration-color: #008000\">'&lt;image&gt;\\nWhat are the objects and relations you see in this image?'</span><span style=\"color: #000000; text-decoration-color: #000000; font-weight: bold\">}</span><span style=\"color: #000000; text-decoration-color: #000000\">,</span>\n",
       "<span style=\"color: #000000; text-decoration-color: #000000\">            </span><span style=\"color: #000000; text-decoration-color: #000000; font-weight: bold\">{</span><span style=\"color: #008000; text-decoration-color: #008000\">'from'</span><span style=\"color: #000000; text-decoration-color: #000000\">: </span><span style=\"color: #008000; text-decoration-color: #008000\">'gpt'</span><span style=\"color: #000000; text-decoration-color: #000000\">, </span><span style=\"color: #008000; text-decoration-color: #008000\">'value'</span><span style=\"color: #000000; text-decoration-color: #000000\">: </span><span style=\"color: #008000; text-decoration-color: #008000\">'Device 1: \\ninternals in hca_back\\n'</span><span style=\"color: #000000; text-decoration-color: #000000; font-weight: bold\">}</span>\n",
       "<span style=\"color: #000000; text-decoration-color: #000000\">        </span><span style=\"color: #000000; text-decoration-color: #000000; font-weight: bold\">]</span>\n",
       "<span style=\"color: #000000; text-decoration-color: #000000\">    </span><span style=\"color: #000000; text-decoration-color: #000000; font-weight: bold\">}</span><span style=\"color: #000000; text-decoration-color: #000000\">,</span>\n",
       "<span style=\"color: #000000; text-decoration-color: #000000\">    </span><span style=\"color: #000000; text-decoration-color: #000000; font-weight: bold\">{</span>\n",
       "<span style=\"color: #000000; text-decoration-color: #000000\">        </span><span style=\"color: #008000; text-decoration-color: #008000\">'id'</span><span style=\"color: #000000; text-decoration-color: #000000\">: </span><span style=\"color: #008080; text-decoration-color: #008080; font-weight: bold\">47</span><span style=\"color: #000000; text-decoration-color: #000000\">,</span>\n",
       "<span style=\"color: #000000; text-decoration-color: #000000\">        </span><span style=\"color: #008000; text-decoration-color: #008000\">'image'</span><span style=\"color: #000000; text-decoration-color: #000000\">: </span><span style=\"color: #008000; text-decoration-color: #008000\">'images/00000048.jpg'</span><span style=\"color: #000000; text-decoration-color: #000000\">,</span>\n",
       "<span style=\"color: #000000; text-decoration-color: #000000\">        </span><span style=\"color: #008000; text-decoration-color: #008000\">'conversations'</span><span style=\"color: #000000; text-decoration-color: #000000\">: </span><span style=\"color: #000000; text-decoration-color: #000000; font-weight: bold\">[</span>\n",
       "<span style=\"color: #000000; text-decoration-color: #000000\">            </span><span style=\"color: #000000; text-decoration-color: #000000; font-weight: bold\">{</span><span style=\"color: #008000; text-decoration-color: #008000\">'from'</span><span style=\"color: #000000; text-decoration-color: #000000\">: </span><span style=\"color: #008000; text-decoration-color: #008000\">'human'</span><span style=\"color: #000000; text-decoration-color: #000000\">, </span><span style=\"color: #008000; text-decoration-color: #008000\">'value'</span><span style=\"color: #000000; text-decoration-color: #000000\">: </span><span style=\"color: #008000; text-decoration-color: #008000\">'&lt;image&gt;\\nWhat are the objects and relations you see in this image?'</span><span style=\"color: #000000; text-decoration-color: #000000; font-weight: bold\">}</span><span style=\"color: #000000; text-decoration-color: #000000\">,</span>\n",
       "<span style=\"color: #000000; text-decoration-color: #000000\">            </span><span style=\"color: #000000; text-decoration-color: #000000; font-weight: bold\">{</span>\n",
       "<span style=\"color: #000000; text-decoration-color: #000000\">                </span><span style=\"color: #008000; text-decoration-color: #008000\">'from'</span><span style=\"color: #000000; text-decoration-color: #000000\">: </span><span style=\"color: #008000; text-decoration-color: #008000\">'gpt'</span><span style=\"color: #000000; text-decoration-color: #000000\">,</span>\n",
       "<span style=\"color: #000000; text-decoration-color: #000000\">                </span><span style=\"color: #008000; text-decoration-color: #008000\">'value'</span><span style=\"color: #000000; text-decoration-color: #000000\">: </span><span style=\"color: #008000; text-decoration-color: #008000\">'Device 1: \\nplastic_clip in hca_back\\npcb_covered in hca_back\\nplastic_clip next to </span>\n",
       "<span style=\"color: #008000; text-decoration-color: #008000\">pcb_covered\\npcb_covered next to plastic_clip\\n\\nDevice 2: \\ninternals in hca_back\\n'</span>\n",
       "<span style=\"color: #000000; text-decoration-color: #000000\">            </span><span style=\"color: #000000; text-decoration-color: #000000; font-weight: bold\">}</span>\n",
       "<span style=\"color: #000000; text-decoration-color: #000000\">        </span><span style=\"color: #000000; text-decoration-color: #000000; font-weight: bold\">]</span>\n",
       "<span style=\"color: #000000; text-decoration-color: #000000\">    </span><span style=\"color: #000000; text-decoration-color: #000000; font-weight: bold\">}</span><span style=\"color: #000000; text-decoration-color: #000000\">,</span>\n",
       "<span style=\"color: #000000; text-decoration-color: #000000\">    </span><span style=\"color: #000000; text-decoration-color: #000000; font-weight: bold\">{</span>\n",
       "<span style=\"color: #000000; text-decoration-color: #000000\">        </span><span style=\"color: #008000; text-decoration-color: #008000\">'id'</span><span style=\"color: #000000; text-decoration-color: #000000\">: </span><span style=\"color: #008080; text-decoration-color: #008080; font-weight: bold\">48</span><span style=\"color: #000000; text-decoration-color: #000000\">,</span>\n",
       "<span style=\"color: #000000; text-decoration-color: #000000\">        </span><span style=\"color: #008000; text-decoration-color: #008000\">'image'</span><span style=\"color: #000000; text-decoration-color: #000000\">: </span><span style=\"color: #008000; text-decoration-color: #008000\">'images/00000049.jpg'</span><span style=\"color: #000000; text-decoration-color: #000000\">,</span>\n",
       "<span style=\"color: #000000; text-decoration-color: #000000\">        </span><span style=\"color: #008000; text-decoration-color: #008000\">'conversations'</span><span style=\"color: #000000; text-decoration-color: #000000\">: </span><span style=\"color: #000000; text-decoration-color: #000000; font-weight: bold\">[</span>\n",
       "<span style=\"color: #000000; text-decoration-color: #000000\">            </span><span style=\"color: #000000; text-decoration-color: #000000; font-weight: bold\">{</span><span style=\"color: #008000; text-decoration-color: #008000\">'from'</span><span style=\"color: #000000; text-decoration-color: #000000\">: </span><span style=\"color: #008000; text-decoration-color: #008000\">'human'</span><span style=\"color: #000000; text-decoration-color: #000000\">, </span><span style=\"color: #008000; text-decoration-color: #008000\">'value'</span><span style=\"color: #000000; text-decoration-color: #000000\">: </span><span style=\"color: #008000; text-decoration-color: #008000\">'&lt;image&gt;\\nWhat are the objects and relations you see in this image?'</span><span style=\"color: #000000; text-decoration-color: #000000; font-weight: bold\">}</span><span style=\"color: #000000; text-decoration-color: #000000\">,</span>\n",
       "<span style=\"color: #000000; text-decoration-color: #000000\">            </span><span style=\"color: #000000; text-decoration-color: #000000; font-weight: bold\">{</span>\n",
       "<span style=\"color: #000000; text-decoration-color: #000000\">                </span><span style=\"color: #008000; text-decoration-color: #008000\">'from'</span><span style=\"color: #000000; text-decoration-color: #000000\">: </span><span style=\"color: #008000; text-decoration-color: #008000\">'gpt'</span><span style=\"color: #000000; text-decoration-color: #000000\">,</span>\n",
       "<span style=\"color: #000000; text-decoration-color: #000000\">                </span><span style=\"color: #008000; text-decoration-color: #008000\">'value'</span><span style=\"color: #000000; text-decoration-color: #000000\">: </span><span style=\"color: #008000; text-decoration-color: #008000\">'Device 1: \\nplastic_clip in hca_back\\ninternals in hca_back\\nplastic_clip next to </span>\n",
       "<span style=\"color: #008000; text-decoration-color: #008000\">internals\\ninternals next to plastic_clip\\n'</span>\n",
       "<span style=\"color: #000000; text-decoration-color: #000000\">            </span><span style=\"color: #000000; text-decoration-color: #000000; font-weight: bold\">}</span>\n",
       "<span style=\"color: #000000; text-decoration-color: #000000\">        </span><span style=\"color: #000000; text-decoration-color: #000000; font-weight: bold\">]</span>\n",
       "<span style=\"color: #000000; text-decoration-color: #000000\">    </span><span style=\"color: #000000; text-decoration-color: #000000; font-weight: bold\">}</span><span style=\"color: #000000; text-decoration-color: #000000\">,</span>\n",
       "<span style=\"color: #000000; text-decoration-color: #000000\">    </span><span style=\"color: #000000; text-decoration-color: #000000; font-weight: bold\">{</span>\n",
       "<span style=\"color: #000000; text-decoration-color: #000000\">        </span><span style=\"color: #008000; text-decoration-color: #008000\">'id'</span><span style=\"color: #000000; text-decoration-color: #000000\">: </span><span style=\"color: #008080; text-decoration-color: #008080; font-weight: bold\">49</span><span style=\"color: #000000; text-decoration-color: #000000\">,</span>\n",
       "<span style=\"color: #000000; text-decoration-color: #000000\">        </span><span style=\"color: #008000; text-decoration-color: #008000\">'image'</span><span style=\"color: #000000; text-decoration-color: #000000\">: </span><span style=\"color: #008000; text-decoration-color: #008000\">'images/00000050.jpg'</span><span style=\"color: #000000; text-decoration-color: #000000\">,</span>\n",
       "<span style=\"color: #000000; text-decoration-color: #000000\">        </span><span style=\"color: #008000; text-decoration-color: #008000\">'conversations'</span><span style=\"color: #000000; text-decoration-color: #000000\">: </span><span style=\"color: #000000; text-decoration-color: #000000; font-weight: bold\">[</span>\n",
       "<span style=\"color: #000000; text-decoration-color: #000000\">            </span><span style=\"color: #000000; text-decoration-color: #000000; font-weight: bold\">{</span><span style=\"color: #008000; text-decoration-color: #008000\">'from'</span><span style=\"color: #000000; text-decoration-color: #000000\">: </span><span style=\"color: #008000; text-decoration-color: #008000\">'human'</span><span style=\"color: #000000; text-decoration-color: #000000\">, </span><span style=\"color: #008000; text-decoration-color: #008000\">'value'</span><span style=\"color: #000000; text-decoration-color: #000000\">: </span><span style=\"color: #008000; text-decoration-color: #008000\">'&lt;image&gt;\\nWhat are the objects and relations you see in this image?'</span><span style=\"color: #000000; text-decoration-color: #000000; font-weight: bold\">}</span><span style=\"color: #000000; text-decoration-color: #000000\">,</span>\n",
       "<span style=\"color: #000000; text-decoration-color: #000000\">            </span><span style=\"color: #000000; text-decoration-color: #000000; font-weight: bold\">{</span>\n",
       "<span style=\"color: #000000; text-decoration-color: #000000\">                </span><span style=\"color: #008000; text-decoration-color: #008000\">'from'</span><span style=\"color: #000000; text-decoration-color: #000000\">: </span><span style=\"color: #008000; text-decoration-color: #008000\">'gpt'</span><span style=\"color: #000000; text-decoration-color: #000000\">,</span>\n",
       "<span style=\"color: #000000; text-decoration-color: #000000\">                </span><span style=\"color: #008000; text-decoration-color: #008000\">'value'</span><span style=\"color: #000000; text-decoration-color: #000000\">: </span><span style=\"color: #008000; text-decoration-color: #008000\">'Device 1: \\nplastic_clip in hca_back\\ninternals in hca_back\\nplastic_clip next to </span>\n",
       "<span style=\"color: #008000; text-decoration-color: #008000\">internals\\ninternals next to plastic_clip\\n'</span>\n",
       "<span style=\"color: #000000; text-decoration-color: #000000\">            </span><span style=\"color: #000000; text-decoration-color: #000000; font-weight: bold\">}</span>\n",
       "<span style=\"color: #000000; text-decoration-color: #000000\">        </span><span style=\"color: #000000; text-decoration-color: #000000; font-weight: bold\">]</span>\n",
       "<span style=\"color: #000000; text-decoration-color: #000000\">    </span><span style=\"color: #000000; text-decoration-color: #000000; font-weight: bold\">}</span><span style=\"color: #000000; text-decoration-color: #000000\">,</span>\n",
       "<span style=\"color: #000000; text-decoration-color: #000000\">    </span><span style=\"color: #000000; text-decoration-color: #000000; font-weight: bold\">{</span>\n",
       "<span style=\"color: #000000; text-decoration-color: #000000\">        </span><span style=\"color: #008000; text-decoration-color: #008000\">'id'</span><span style=\"color: #000000; text-decoration-color: #000000\">: </span><span style=\"color: #008080; text-decoration-color: #008080; font-weight: bold\">50</span><span style=\"color: #000000; text-decoration-color: #000000\">,</span>\n",
       "<span style=\"color: #000000; text-decoration-color: #000000\">        </span><span style=\"color: #008000; text-decoration-color: #008000\">'image'</span><span style=\"color: #000000; text-decoration-color: #000000\">: </span><span style=\"color: #008000; text-decoration-color: #008000\">'images/00000051.jpg'</span><span style=\"color: #000000; text-decoration-color: #000000\">,</span>\n",
       "<span style=\"color: #000000; text-decoration-color: #000000\">        </span><span style=\"color: #008000; text-decoration-color: #008000\">'conversations'</span><span style=\"color: #000000; text-decoration-color: #000000\">: </span><span style=\"color: #000000; text-decoration-color: #000000; font-weight: bold\">[</span>\n",
       "<span style=\"color: #000000; text-decoration-color: #000000\">            </span><span style=\"color: #000000; text-decoration-color: #000000; font-weight: bold\">{</span><span style=\"color: #008000; text-decoration-color: #008000\">'from'</span><span style=\"color: #000000; text-decoration-color: #000000\">: </span><span style=\"color: #008000; text-decoration-color: #008000\">'human'</span><span style=\"color: #000000; text-decoration-color: #000000\">, </span><span style=\"color: #008000; text-decoration-color: #008000\">'value'</span><span style=\"color: #000000; text-decoration-color: #000000\">: </span><span style=\"color: #008000; text-decoration-color: #008000\">'&lt;image&gt;\\nWhat are the objects and relations you see in this image?'</span><span style=\"color: #000000; text-decoration-color: #000000; font-weight: bold\">}</span><span style=\"color: #000000; text-decoration-color: #000000\">,</span>\n",
       "<span style=\"color: #000000; text-decoration-color: #000000\">            </span><span style=\"color: #000000; text-decoration-color: #000000; font-weight: bold\">{</span><span style=\"color: #008000; text-decoration-color: #008000\">'from'</span><span style=\"color: #000000; text-decoration-color: #000000\">: </span><span style=\"color: #008000; text-decoration-color: #008000\">'gpt'</span><span style=\"color: #000000; text-decoration-color: #000000\">, </span><span style=\"color: #008000; text-decoration-color: #008000\">'value'</span><span style=\"color: #000000; text-decoration-color: #000000\">: </span><span style=\"color: #008000; text-decoration-color: #008000\">'Device 1: \\npcb in internals\\nbattery in internals\\nbattery in pcb\\n'</span><span style=\"color: #000000; text-decoration-color: #000000; font-weight: bold\">}</span>\n",
       "<span style=\"color: #000000; text-decoration-color: #000000\">        </span><span style=\"color: #000000; text-decoration-color: #000000; font-weight: bold\">]</span>\n",
       "<span style=\"color: #000000; text-decoration-color: #000000\">    </span><span style=\"color: #000000; text-decoration-color: #000000; font-weight: bold\">}</span><span style=\"color: #000000; text-decoration-color: #000000\">,</span>\n",
       "<span style=\"color: #000000; text-decoration-color: #000000\">    </span><span style=\"color: #000000; text-decoration-color: #000000; font-weight: bold\">{</span>\n",
       "<span style=\"color: #000000; text-decoration-color: #000000\">        </span><span style=\"color: #008000; text-decoration-color: #008000\">'id'</span><span style=\"color: #000000; text-decoration-color: #000000\">: </span><span style=\"color: #008080; text-decoration-color: #008080; font-weight: bold\">51</span><span style=\"color: #000000; text-decoration-color: #000000\">,</span>\n",
       "<span style=\"color: #000000; text-decoration-color: #000000\">        </span><span style=\"color: #008000; text-decoration-color: #008000\">'image'</span><span style=\"color: #000000; text-decoration-color: #000000\">: </span><span style=\"color: #008000; text-decoration-color: #008000\">'images/00000052.jpg'</span><span style=\"color: #000000; text-decoration-color: #000000\">,</span>\n",
       "<span style=\"color: #000000; text-decoration-color: #000000\">        </span><span style=\"color: #008000; text-decoration-color: #008000\">'conversations'</span><span style=\"color: #000000; text-decoration-color: #000000\">: </span><span style=\"color: #000000; text-decoration-color: #000000; font-weight: bold\">[</span>\n",
       "<span style=\"color: #000000; text-decoration-color: #000000\">            </span><span style=\"color: #000000; text-decoration-color: #000000; font-weight: bold\">{</span><span style=\"color: #008000; text-decoration-color: #008000\">'from'</span><span style=\"color: #000000; text-decoration-color: #000000\">: </span><span style=\"color: #008000; text-decoration-color: #008000\">'human'</span><span style=\"color: #000000; text-decoration-color: #000000\">, </span><span style=\"color: #008000; text-decoration-color: #008000\">'value'</span><span style=\"color: #000000; text-decoration-color: #000000\">: </span><span style=\"color: #008000; text-decoration-color: #008000\">'&lt;image&gt;\\nWhat are the objects and relations you see in this image?'</span><span style=\"color: #000000; text-decoration-color: #000000; font-weight: bold\">}</span><span style=\"color: #000000; text-decoration-color: #000000\">,</span>\n",
       "<span style=\"color: #000000; text-decoration-color: #000000\">            </span><span style=\"color: #000000; text-decoration-color: #000000; font-weight: bold\">{</span>\n",
       "<span style=\"color: #000000; text-decoration-color: #000000\">                </span><span style=\"color: #008000; text-decoration-color: #008000\">'from'</span><span style=\"color: #000000; text-decoration-color: #000000\">: </span><span style=\"color: #008000; text-decoration-color: #008000\">'gpt'</span><span style=\"color: #000000; text-decoration-color: #000000\">,</span>\n",
       "<span style=\"color: #000000; text-decoration-color: #000000\">                </span><span style=\"color: #008000; text-decoration-color: #008000\">'value'</span><span style=\"color: #000000; text-decoration-color: #000000\">: </span><span style=\"color: #008000; text-decoration-color: #008000\">'Device 1: \\npcb in firealarm_back\\nbattery in firealarm_back\\nbattery in </span>\n",
       "<span style=\"color: #008000; text-decoration-color: #008000\">firealarm_back\\nbattery in pcb\\nbattery in pcb\\n\\nDevice 2: \\npcb in hca_back\\nbattery in hca_back\\npcb next to </span>\n",
       "<span style=\"color: #008000; text-decoration-color: #008000\">battery\\nbattery next to pcb\\n'</span>\n",
       "<span style=\"color: #000000; text-decoration-color: #000000\">            </span><span style=\"color: #000000; text-decoration-color: #000000; font-weight: bold\">}</span>\n",
       "<span style=\"color: #000000; text-decoration-color: #000000\">        </span><span style=\"color: #000000; text-decoration-color: #000000; font-weight: bold\">]</span>\n",
       "<span style=\"color: #000000; text-decoration-color: #000000\">    </span><span style=\"color: #000000; text-decoration-color: #000000; font-weight: bold\">}</span><span style=\"color: #000000; text-decoration-color: #000000\">,</span>\n",
       "<span style=\"color: #000000; text-decoration-color: #000000\">    </span><span style=\"color: #000000; text-decoration-color: #000000; font-weight: bold\">{</span>\n",
       "<span style=\"color: #000000; text-decoration-color: #000000\">        </span><span style=\"color: #008000; text-decoration-color: #008000\">'id'</span><span style=\"color: #000000; text-decoration-color: #000000\">: </span><span style=\"color: #008080; text-decoration-color: #008080; font-weight: bold\">52</span><span style=\"color: #000000; text-decoration-color: #000000\">,</span>\n",
       "<span style=\"color: #000000; text-decoration-color: #000000\">        </span><span style=\"color: #008000; text-decoration-color: #008000\">'image'</span><span style=\"color: #000000; text-decoration-color: #000000\">: </span><span style=\"color: #008000; text-decoration-color: #008000\">'images/00000053.jpg'</span><span style=\"color: #000000; text-decoration-color: #000000\">,</span>\n",
       "<span style=\"color: #000000; text-decoration-color: #000000\">        </span><span style=\"color: #008000; text-decoration-color: #008000\">'conversations'</span><span style=\"color: #000000; text-decoration-color: #000000\">: </span><span style=\"color: #000000; text-decoration-color: #000000; font-weight: bold\">[</span>\n",
       "<span style=\"color: #000000; text-decoration-color: #000000\">            </span><span style=\"color: #000000; text-decoration-color: #000000; font-weight: bold\">{</span><span style=\"color: #008000; text-decoration-color: #008000\">'from'</span><span style=\"color: #000000; text-decoration-color: #000000\">: </span><span style=\"color: #008000; text-decoration-color: #008000\">'human'</span><span style=\"color: #000000; text-decoration-color: #000000\">, </span><span style=\"color: #008000; text-decoration-color: #008000\">'value'</span><span style=\"color: #000000; text-decoration-color: #000000\">: </span><span style=\"color: #008000; text-decoration-color: #008000\">'&lt;image&gt;\\nWhat are the objects and relations you see in this image?'</span><span style=\"color: #000000; text-decoration-color: #000000; font-weight: bold\">}</span><span style=\"color: #000000; text-decoration-color: #000000\">,</span>\n",
       "<span style=\"color: #000000; text-decoration-color: #000000\">            </span><span style=\"color: #000000; text-decoration-color: #000000; font-weight: bold\">{</span><span style=\"color: #008000; text-decoration-color: #008000\">'from'</span><span style=\"color: #000000; text-decoration-color: #000000\">: </span><span style=\"color: #008000; text-decoration-color: #008000\">'gpt'</span><span style=\"color: #000000; text-decoration-color: #000000\">, </span><span style=\"color: #008000; text-decoration-color: #008000\">'value'</span><span style=\"color: #000000; text-decoration-color: #000000\">: </span><span style=\"color: #008000; text-decoration-color: #008000\">'Device 1: \\ninternals'</span><span style=\"color: #000000; text-decoration-color: #000000; font-weight: bold\">}</span>\n",
       "<span style=\"color: #000000; text-decoration-color: #000000\">        </span><span style=\"color: #000000; text-decoration-color: #000000; font-weight: bold\">]</span>\n",
       "<span style=\"color: #000000; text-decoration-color: #000000\">    </span><span style=\"color: #000000; text-decoration-color: #000000; font-weight: bold\">}</span><span style=\"color: #000000; text-decoration-color: #000000\">,</span>\n",
       "<span style=\"color: #000000; text-decoration-color: #000000\">    </span><span style=\"color: #000000; text-decoration-color: #000000; font-weight: bold\">{</span>\n",
       "<span style=\"color: #000000; text-decoration-color: #000000\">        </span><span style=\"color: #008000; text-decoration-color: #008000\">'id'</span><span style=\"color: #000000; text-decoration-color: #000000\">: </span><span style=\"color: #008080; text-decoration-color: #008080; font-weight: bold\">53</span><span style=\"color: #000000; text-decoration-color: #000000\">,</span>\n",
       "<span style=\"color: #000000; text-decoration-color: #000000\">        </span><span style=\"color: #008000; text-decoration-color: #008000\">'image'</span><span style=\"color: #000000; text-decoration-color: #000000\">: </span><span style=\"color: #008000; text-decoration-color: #008000\">'images/00000054.jpg'</span><span style=\"color: #000000; text-decoration-color: #000000\">,</span>\n",
       "<span style=\"color: #000000; text-decoration-color: #000000\">        </span><span style=\"color: #008000; text-decoration-color: #008000\">'conversations'</span><span style=\"color: #000000; text-decoration-color: #000000\">: </span><span style=\"color: #000000; text-decoration-color: #000000; font-weight: bold\">[</span>\n",
       "<span style=\"color: #000000; text-decoration-color: #000000\">            </span><span style=\"color: #000000; text-decoration-color: #000000; font-weight: bold\">{</span><span style=\"color: #008000; text-decoration-color: #008000\">'from'</span><span style=\"color: #000000; text-decoration-color: #000000\">: </span><span style=\"color: #008000; text-decoration-color: #008000\">'human'</span><span style=\"color: #000000; text-decoration-color: #000000\">, </span><span style=\"color: #008000; text-decoration-color: #008000\">'value'</span><span style=\"color: #000000; text-decoration-color: #000000\">: </span><span style=\"color: #008000; text-decoration-color: #008000\">'&lt;image&gt;\\nWhat are the objects and relations you see in this image?'</span><span style=\"color: #000000; text-decoration-color: #000000; font-weight: bold\">}</span><span style=\"color: #000000; text-decoration-color: #000000\">,</span>\n",
       "<span style=\"color: #000000; text-decoration-color: #000000\">            </span><span style=\"color: #000000; text-decoration-color: #000000; font-weight: bold\">{</span><span style=\"color: #008000; text-decoration-color: #008000\">'from'</span><span style=\"color: #000000; text-decoration-color: #000000\">: </span><span style=\"color: #008000; text-decoration-color: #008000\">'gpt'</span><span style=\"color: #000000; text-decoration-color: #000000\">, </span><span style=\"color: #008000; text-decoration-color: #008000\">'value'</span><span style=\"color: #000000; text-decoration-color: #000000\">: </span><span style=\"color: #008000; text-decoration-color: #008000\">'Device 1: \\ninternals'</span><span style=\"color: #000000; text-decoration-color: #000000; font-weight: bold\">}</span>\n",
       "<span style=\"color: #000000; text-decoration-color: #000000\">        </span><span style=\"color: #000000; text-decoration-color: #000000; font-weight: bold\">]</span>\n",
       "<span style=\"color: #000000; text-decoration-color: #000000\">    </span><span style=\"color: #000000; text-decoration-color: #000000; font-weight: bold\">}</span><span style=\"color: #000000; text-decoration-color: #000000\">,</span>\n",
       "<span style=\"color: #000000; text-decoration-color: #000000\">    </span><span style=\"color: #000000; text-decoration-color: #000000; font-weight: bold\">{</span>\n",
       "<span style=\"color: #000000; text-decoration-color: #000000\">        </span><span style=\"color: #008000; text-decoration-color: #008000\">'id'</span><span style=\"color: #000000; text-decoration-color: #000000\">: </span><span style=\"color: #008080; text-decoration-color: #008080; font-weight: bold\">54</span><span style=\"color: #000000; text-decoration-color: #000000\">,</span>\n",
       "<span style=\"color: #000000; text-decoration-color: #000000\">        </span><span style=\"color: #008000; text-decoration-color: #008000\">'image'</span><span style=\"color: #000000; text-decoration-color: #000000\">: </span><span style=\"color: #008000; text-decoration-color: #008000\">'images/00000055.jpg'</span><span style=\"color: #000000; text-decoration-color: #000000\">,</span>\n",
       "<span style=\"color: #000000; text-decoration-color: #000000\">        </span><span style=\"color: #008000; text-decoration-color: #008000\">'conversations'</span><span style=\"color: #000000; text-decoration-color: #000000\">: </span><span style=\"color: #000000; text-decoration-color: #000000; font-weight: bold\">[</span>\n",
       "<span style=\"color: #000000; text-decoration-color: #000000\">            </span><span style=\"color: #000000; text-decoration-color: #000000; font-weight: bold\">{</span><span style=\"color: #008000; text-decoration-color: #008000\">'from'</span><span style=\"color: #000000; text-decoration-color: #000000\">: </span><span style=\"color: #008000; text-decoration-color: #008000\">'human'</span><span style=\"color: #000000; text-decoration-color: #000000\">, </span><span style=\"color: #008000; text-decoration-color: #008000\">'value'</span><span style=\"color: #000000; text-decoration-color: #000000\">: </span><span style=\"color: #008000; text-decoration-color: #008000\">'&lt;image&gt;\\nWhat are the objects and relations you see in this image?'</span><span style=\"color: #000000; text-decoration-color: #000000; font-weight: bold\">}</span><span style=\"color: #000000; text-decoration-color: #000000\">,</span>\n",
       "<span style=\"color: #000000; text-decoration-color: #000000\">            </span><span style=\"color: #000000; text-decoration-color: #000000; font-weight: bold\">{</span>\n",
       "<span style=\"color: #000000; text-decoration-color: #000000\">                </span><span style=\"color: #008000; text-decoration-color: #008000\">'from'</span><span style=\"color: #000000; text-decoration-color: #000000\">: </span><span style=\"color: #008000; text-decoration-color: #008000\">'gpt'</span><span style=\"color: #000000; text-decoration-color: #000000\">,</span>\n",
       "<span style=\"color: #000000; text-decoration-color: #000000\">                </span><span style=\"color: #008000; text-decoration-color: #008000\">'value'</span><span style=\"color: #000000; text-decoration-color: #000000\">: </span><span style=\"color: #008000; text-decoration-color: #008000\">'Device 1: \\nbattery in internals\\npcb in internals\\nbattery next to pcb\\npcb next to </span>\n",
       "<span style=\"color: #008000; text-decoration-color: #008000\">battery\\n'</span>\n",
       "<span style=\"color: #000000; text-decoration-color: #000000\">            </span><span style=\"color: #000000; text-decoration-color: #000000; font-weight: bold\">}</span>\n",
       "<span style=\"color: #000000; text-decoration-color: #000000\">        </span><span style=\"color: #000000; text-decoration-color: #000000; font-weight: bold\">]</span>\n",
       "<span style=\"color: #000000; text-decoration-color: #000000\">    </span><span style=\"color: #000000; text-decoration-color: #000000; font-weight: bold\">}</span><span style=\"color: #000000; text-decoration-color: #000000\">,</span>\n",
       "<span style=\"color: #000000; text-decoration-color: #000000\">    </span><span style=\"color: #000000; text-decoration-color: #000000; font-weight: bold\">{</span>\n",
       "<span style=\"color: #000000; text-decoration-color: #000000\">        </span><span style=\"color: #008000; text-decoration-color: #008000\">'id'</span><span style=\"color: #000000; text-decoration-color: #000000\">: </span><span style=\"color: #008080; text-decoration-color: #008080; font-weight: bold\">55</span><span style=\"color: #000000; text-decoration-color: #000000\">,</span>\n",
       "<span style=\"color: #000000; text-decoration-color: #000000\">        </span><span style=\"color: #008000; text-decoration-color: #008000\">'image'</span><span style=\"color: #000000; text-decoration-color: #000000\">: </span><span style=\"color: #008000; text-decoration-color: #008000\">'images/00000056.jpg'</span><span style=\"color: #000000; text-decoration-color: #000000\">,</span>\n",
       "<span style=\"color: #000000; text-decoration-color: #000000\">        </span><span style=\"color: #008000; text-decoration-color: #008000\">'conversations'</span><span style=\"color: #000000; text-decoration-color: #000000\">: </span><span style=\"color: #000000; text-decoration-color: #000000; font-weight: bold\">[</span>\n",
       "<span style=\"color: #000000; text-decoration-color: #000000\">            </span><span style=\"color: #000000; text-decoration-color: #000000; font-weight: bold\">{</span><span style=\"color: #008000; text-decoration-color: #008000\">'from'</span><span style=\"color: #000000; text-decoration-color: #000000\">: </span><span style=\"color: #008000; text-decoration-color: #008000\">'human'</span><span style=\"color: #000000; text-decoration-color: #000000\">, </span><span style=\"color: #008000; text-decoration-color: #008000\">'value'</span><span style=\"color: #000000; text-decoration-color: #000000\">: </span><span style=\"color: #008000; text-decoration-color: #008000\">'&lt;image&gt;\\nWhat are the objects and relations you see in this image?'</span><span style=\"color: #000000; text-decoration-color: #000000; font-weight: bold\">}</span><span style=\"color: #000000; text-decoration-color: #000000\">,</span>\n",
       "<span style=\"color: #000000; text-decoration-color: #000000\">            </span><span style=\"color: #000000; text-decoration-color: #000000; font-weight: bold\">{</span>\n",
       "<span style=\"color: #000000; text-decoration-color: #000000\">                </span><span style=\"color: #008000; text-decoration-color: #008000\">'from'</span><span style=\"color: #000000; text-decoration-color: #000000\">: </span><span style=\"color: #008000; text-decoration-color: #008000\">'gpt'</span><span style=\"color: #000000; text-decoration-color: #000000\">,</span>\n",
       "<span style=\"color: #000000; text-decoration-color: #000000\">                </span><span style=\"color: #008000; text-decoration-color: #008000\">'value'</span><span style=\"color: #000000; text-decoration-color: #000000\">: </span><span style=\"color: #008000; text-decoration-color: #008000\">'Device 1: \\npcb in hca_back\\nbattery in hca_back\\npcb next to battery\\nbattery next to </span>\n",
       "<span style=\"color: #008000; text-decoration-color: #008000\">pcb\\n\\nDevice 2: \\nplastic_clip in hca_back\\npcb_covered in hca_back\\nplastic_clip next to pcb_covered\\npcb_covered</span>\n",
       "<span style=\"color: #008000; text-decoration-color: #008000\">next to plastic_clip\\n'</span>\n",
       "<span style=\"color: #000000; text-decoration-color: #000000\">            </span><span style=\"color: #000000; text-decoration-color: #000000; font-weight: bold\">}</span>\n",
       "<span style=\"color: #000000; text-decoration-color: #000000\">        </span><span style=\"color: #000000; text-decoration-color: #000000; font-weight: bold\">]</span>\n",
       "<span style=\"color: #000000; text-decoration-color: #000000\">    </span><span style=\"color: #000000; text-decoration-color: #000000; font-weight: bold\">}</span><span style=\"color: #000000; text-decoration-color: #000000\">,</span>\n",
       "<span style=\"color: #000000; text-decoration-color: #000000\">    </span><span style=\"color: #000000; text-decoration-color: #000000; font-weight: bold\">{</span>\n",
       "<span style=\"color: #000000; text-decoration-color: #000000\">        </span><span style=\"color: #008000; text-decoration-color: #008000\">'id'</span><span style=\"color: #000000; text-decoration-color: #000000\">: </span><span style=\"color: #008080; text-decoration-color: #008080; font-weight: bold\">56</span><span style=\"color: #000000; text-decoration-color: #000000\">,</span>\n",
       "<span style=\"color: #000000; text-decoration-color: #000000\">        </span><span style=\"color: #008000; text-decoration-color: #008000\">'image'</span><span style=\"color: #000000; text-decoration-color: #000000\">: </span><span style=\"color: #008000; text-decoration-color: #008000\">'images/00000057.jpg'</span><span style=\"color: #000000; text-decoration-color: #000000\">,</span>\n",
       "<span style=\"color: #000000; text-decoration-color: #000000\">        </span><span style=\"color: #008000; text-decoration-color: #008000\">'conversations'</span><span style=\"color: #000000; text-decoration-color: #000000\">: </span><span style=\"color: #000000; text-decoration-color: #000000; font-weight: bold\">[</span>\n",
       "<span style=\"color: #000000; text-decoration-color: #000000\">            </span><span style=\"color: #000000; text-decoration-color: #000000; font-weight: bold\">{</span><span style=\"color: #008000; text-decoration-color: #008000\">'from'</span><span style=\"color: #000000; text-decoration-color: #000000\">: </span><span style=\"color: #008000; text-decoration-color: #008000\">'human'</span><span style=\"color: #000000; text-decoration-color: #000000\">, </span><span style=\"color: #008000; text-decoration-color: #008000\">'value'</span><span style=\"color: #000000; text-decoration-color: #000000\">: </span><span style=\"color: #008000; text-decoration-color: #008000\">'&lt;image&gt;\\nWhat are the objects and relations you see in this image?'</span><span style=\"color: #000000; text-decoration-color: #000000; font-weight: bold\">}</span><span style=\"color: #000000; text-decoration-color: #000000\">,</span>\n",
       "<span style=\"color: #000000; text-decoration-color: #000000\">            </span><span style=\"color: #000000; text-decoration-color: #000000; font-weight: bold\">{</span>\n",
       "<span style=\"color: #000000; text-decoration-color: #000000\">                </span><span style=\"color: #008000; text-decoration-color: #008000\">'from'</span><span style=\"color: #000000; text-decoration-color: #000000\">: </span><span style=\"color: #008000; text-decoration-color: #008000\">'gpt'</span><span style=\"color: #000000; text-decoration-color: #000000\">,</span>\n",
       "<span style=\"color: #000000; text-decoration-color: #000000\">                </span><span style=\"color: #008000; text-decoration-color: #008000\">'value'</span><span style=\"color: #000000; text-decoration-color: #000000\">: </span><span style=\"color: #008000; text-decoration-color: #008000\">'Device 1: \\nplastic_clip in hca_back\\npcb_covered in hca_back\\nplastic_clip next to </span>\n",
       "<span style=\"color: #008000; text-decoration-color: #008000\">pcb_covered\\npcb_covered next to plastic_clip\\n\\nDevice 2: \\nbattery in hca_back\\npcb in hca_back\\nbattery next to </span>\n",
       "<span style=\"color: #008000; text-decoration-color: #008000\">pcb\\npcb next to battery\\n'</span>\n",
       "<span style=\"color: #000000; text-decoration-color: #000000\">            </span><span style=\"color: #000000; text-decoration-color: #000000; font-weight: bold\">}</span>\n",
       "<span style=\"color: #000000; text-decoration-color: #000000\">        </span><span style=\"color: #000000; text-decoration-color: #000000; font-weight: bold\">]</span>\n",
       "<span style=\"color: #000000; text-decoration-color: #000000\">    </span><span style=\"color: #000000; text-decoration-color: #000000; font-weight: bold\">}</span><span style=\"color: #000000; text-decoration-color: #000000\">,</span>\n",
       "<span style=\"color: #000000; text-decoration-color: #000000\">    </span><span style=\"color: #000000; text-decoration-color: #000000; font-weight: bold\">{</span>\n",
       "<span style=\"color: #000000; text-decoration-color: #000000\">        </span><span style=\"color: #008000; text-decoration-color: #008000\">'id'</span><span style=\"color: #000000; text-decoration-color: #000000\">: </span><span style=\"color: #008080; text-decoration-color: #008080; font-weight: bold\">57</span><span style=\"color: #000000; text-decoration-color: #000000\">,</span>\n",
       "<span style=\"color: #000000; text-decoration-color: #000000\">        </span><span style=\"color: #008000; text-decoration-color: #008000\">'image'</span><span style=\"color: #000000; text-decoration-color: #000000\">: </span><span style=\"color: #008000; text-decoration-color: #008000\">'images/00000058.jpg'</span><span style=\"color: #000000; text-decoration-color: #000000\">,</span>\n",
       "<span style=\"color: #000000; text-decoration-color: #000000\">        </span><span style=\"color: #008000; text-decoration-color: #008000\">'conversations'</span><span style=\"color: #000000; text-decoration-color: #000000\">: </span><span style=\"color: #000000; text-decoration-color: #000000; font-weight: bold\">[</span>\n",
       "<span style=\"color: #000000; text-decoration-color: #000000\">            </span><span style=\"color: #000000; text-decoration-color: #000000; font-weight: bold\">{</span><span style=\"color: #008000; text-decoration-color: #008000\">'from'</span><span style=\"color: #000000; text-decoration-color: #000000\">: </span><span style=\"color: #008000; text-decoration-color: #008000\">'human'</span><span style=\"color: #000000; text-decoration-color: #000000\">, </span><span style=\"color: #008000; text-decoration-color: #008000\">'value'</span><span style=\"color: #000000; text-decoration-color: #000000\">: </span><span style=\"color: #008000; text-decoration-color: #008000\">'&lt;image&gt;\\nWhat are the objects and relations you see in this image?'</span><span style=\"color: #000000; text-decoration-color: #000000; font-weight: bold\">}</span><span style=\"color: #000000; text-decoration-color: #000000\">,</span>\n",
       "<span style=\"color: #000000; text-decoration-color: #000000\">            </span><span style=\"color: #000000; text-decoration-color: #000000; font-weight: bold\">{</span><span style=\"color: #008000; text-decoration-color: #008000\">'from'</span><span style=\"color: #000000; text-decoration-color: #000000\">: </span><span style=\"color: #008000; text-decoration-color: #008000\">'gpt'</span><span style=\"color: #000000; text-decoration-color: #000000\">, </span><span style=\"color: #008000; text-decoration-color: #008000\">'value'</span><span style=\"color: #000000; text-decoration-color: #000000\">: </span><span style=\"color: #008000; text-decoration-color: #008000\">'Device 1: \\npcb_covered in hca_back\\n'</span><span style=\"color: #000000; text-decoration-color: #000000; font-weight: bold\">}</span>\n",
       "<span style=\"color: #000000; text-decoration-color: #000000\">        </span><span style=\"color: #000000; text-decoration-color: #000000; font-weight: bold\">]</span>\n",
       "<span style=\"color: #000000; text-decoration-color: #000000\">    </span><span style=\"color: #000000; text-decoration-color: #000000; font-weight: bold\">}</span><span style=\"color: #000000; text-decoration-color: #000000\">,</span>\n",
       "<span style=\"color: #000000; text-decoration-color: #000000\">    </span><span style=\"color: #000000; text-decoration-color: #000000; font-weight: bold\">{</span>\n",
       "<span style=\"color: #000000; text-decoration-color: #000000\">        </span><span style=\"color: #008000; text-decoration-color: #008000\">'id'</span><span style=\"color: #000000; text-decoration-color: #000000\">: </span><span style=\"color: #008080; text-decoration-color: #008080; font-weight: bold\">58</span><span style=\"color: #000000; text-decoration-color: #000000\">,</span>\n",
       "<span style=\"color: #000000; text-decoration-color: #000000\">        </span><span style=\"color: #008000; text-decoration-color: #008000\">'image'</span><span style=\"color: #000000; text-decoration-color: #000000\">: </span><span style=\"color: #008000; text-decoration-color: #008000\">'images/00000059.jpg'</span><span style=\"color: #000000; text-decoration-color: #000000\">,</span>\n",
       "<span style=\"color: #000000; text-decoration-color: #000000\">        </span><span style=\"color: #008000; text-decoration-color: #008000\">'conversations'</span><span style=\"color: #000000; text-decoration-color: #000000\">: </span><span style=\"color: #000000; text-decoration-color: #000000; font-weight: bold\">[</span>\n",
       "<span style=\"color: #000000; text-decoration-color: #000000\">            </span><span style=\"color: #000000; text-decoration-color: #000000; font-weight: bold\">{</span><span style=\"color: #008000; text-decoration-color: #008000\">'from'</span><span style=\"color: #000000; text-decoration-color: #000000\">: </span><span style=\"color: #008000; text-decoration-color: #008000\">'human'</span><span style=\"color: #000000; text-decoration-color: #000000\">, </span><span style=\"color: #008000; text-decoration-color: #008000\">'value'</span><span style=\"color: #000000; text-decoration-color: #000000\">: </span><span style=\"color: #008000; text-decoration-color: #008000\">'&lt;image&gt;\\nWhat are the objects and relations you see in this image?'</span><span style=\"color: #000000; text-decoration-color: #000000; font-weight: bold\">}</span><span style=\"color: #000000; text-decoration-color: #000000\">,</span>\n",
       "<span style=\"color: #000000; text-decoration-color: #000000\">            </span><span style=\"color: #000000; text-decoration-color: #000000; font-weight: bold\">{</span>\n",
       "<span style=\"color: #000000; text-decoration-color: #000000\">                </span><span style=\"color: #008000; text-decoration-color: #008000\">'from'</span><span style=\"color: #000000; text-decoration-color: #000000\">: </span><span style=\"color: #008000; text-decoration-color: #008000\">'gpt'</span><span style=\"color: #000000; text-decoration-color: #000000\">,</span>\n",
       "<span style=\"color: #000000; text-decoration-color: #000000\">                </span><span style=\"color: #008000; text-decoration-color: #008000\">'value'</span><span style=\"color: #000000; text-decoration-color: #000000\">: </span><span style=\"color: #008000; text-decoration-color: #008000\">'Device 1: \\npcb in firealarm_back\\nbattery in firealarm_back\\nbattery in </span>\n",
       "<span style=\"color: #008000; text-decoration-color: #008000\">firealarm_back\\nbattery in pcb\\nbattery in pcb\\n\\nDevice 2: \\nfirealarm_back'</span>\n",
       "<span style=\"color: #000000; text-decoration-color: #000000\">            </span><span style=\"color: #000000; text-decoration-color: #000000; font-weight: bold\">}</span>\n",
       "<span style=\"color: #000000; text-decoration-color: #000000\">        </span><span style=\"color: #000000; text-decoration-color: #000000; font-weight: bold\">]</span>\n",
       "<span style=\"color: #000000; text-decoration-color: #000000\">    </span><span style=\"color: #000000; text-decoration-color: #000000; font-weight: bold\">}</span><span style=\"color: #000000; text-decoration-color: #000000\">,</span>\n",
       "<span style=\"color: #000000; text-decoration-color: #000000\">    </span><span style=\"color: #000000; text-decoration-color: #000000; font-weight: bold\">{</span>\n",
       "<span style=\"color: #000000; text-decoration-color: #000000\">        </span><span style=\"color: #008000; text-decoration-color: #008000\">'id'</span><span style=\"color: #000000; text-decoration-color: #000000\">: </span><span style=\"color: #008080; text-decoration-color: #008080; font-weight: bold\">59</span><span style=\"color: #000000; text-decoration-color: #000000\">,</span>\n",
       "<span style=\"color: #000000; text-decoration-color: #000000\">        </span><span style=\"color: #008000; text-decoration-color: #008000\">'image'</span><span style=\"color: #000000; text-decoration-color: #000000\">: </span><span style=\"color: #008000; text-decoration-color: #008000\">'images/00000060.jpg'</span><span style=\"color: #000000; text-decoration-color: #000000\">,</span>\n",
       "<span style=\"color: #000000; text-decoration-color: #000000\">        </span><span style=\"color: #008000; text-decoration-color: #008000\">'conversations'</span><span style=\"color: #000000; text-decoration-color: #000000\">: </span><span style=\"color: #000000; text-decoration-color: #000000; font-weight: bold\">[</span>\n",
       "<span style=\"color: #000000; text-decoration-color: #000000\">            </span><span style=\"color: #000000; text-decoration-color: #000000; font-weight: bold\">{</span><span style=\"color: #008000; text-decoration-color: #008000\">'from'</span><span style=\"color: #000000; text-decoration-color: #000000\">: </span><span style=\"color: #008000; text-decoration-color: #008000\">'human'</span><span style=\"color: #000000; text-decoration-color: #000000\">, </span><span style=\"color: #008000; text-decoration-color: #008000\">'value'</span><span style=\"color: #000000; text-decoration-color: #000000\">: </span><span style=\"color: #008000; text-decoration-color: #008000\">'&lt;image&gt;\\nWhat are the objects and relations you see in this image?'</span><span style=\"color: #000000; text-decoration-color: #000000; font-weight: bold\">}</span><span style=\"color: #000000; text-decoration-color: #000000\">,</span>\n",
       "<span style=\"color: #000000; text-decoration-color: #000000\">            </span><span style=\"color: #000000; text-decoration-color: #000000; font-weight: bold\">{</span>\n",
       "<span style=\"color: #000000; text-decoration-color: #000000\">                </span><span style=\"color: #008000; text-decoration-color: #008000\">'from'</span><span style=\"color: #000000; text-decoration-color: #000000\">: </span><span style=\"color: #008000; text-decoration-color: #008000\">'gpt'</span><span style=\"color: #000000; text-decoration-color: #000000\">,</span>\n",
       "<span style=\"color: #000000; text-decoration-color: #000000\">                </span><span style=\"color: #008000; text-decoration-color: #008000\">'value'</span><span style=\"color: #000000; text-decoration-color: #000000\">: </span><span style=\"color: #008000; text-decoration-color: #008000\">'Device 1: \\nplastic_clip in hca_back\\npcb_covered in hca_back\\nplastic_clip next to </span>\n",
       "<span style=\"color: #008000; text-decoration-color: #008000\">pcb_covered\\npcb_covered next to plastic_clip\\n\\nDevice 2: \\nfirealarm_front'</span>\n",
       "<span style=\"color: #000000; text-decoration-color: #000000\">            </span><span style=\"color: #000000; text-decoration-color: #000000; font-weight: bold\">}</span>\n",
       "<span style=\"color: #000000; text-decoration-color: #000000\">        </span><span style=\"color: #000000; text-decoration-color: #000000; font-weight: bold\">]</span>\n",
       "<span style=\"color: #000000; text-decoration-color: #000000\">    </span><span style=\"color: #000000; text-decoration-color: #000000; font-weight: bold\">}</span><span style=\"color: #000000; text-decoration-color: #000000\">,</span>\n",
       "<span style=\"color: #000000; text-decoration-color: #000000\">    </span><span style=\"color: #000000; text-decoration-color: #000000; font-weight: bold\">{</span>\n",
       "<span style=\"color: #000000; text-decoration-color: #000000\">        </span><span style=\"color: #008000; text-decoration-color: #008000\">'id'</span><span style=\"color: #000000; text-decoration-color: #000000\">: </span><span style=\"color: #008080; text-decoration-color: #008080; font-weight: bold\">60</span><span style=\"color: #000000; text-decoration-color: #000000\">,</span>\n",
       "<span style=\"color: #000000; text-decoration-color: #000000\">        </span><span style=\"color: #008000; text-decoration-color: #008000\">'image'</span><span style=\"color: #000000; text-decoration-color: #000000\">: </span><span style=\"color: #008000; text-decoration-color: #008000\">'images/00000061.jpg'</span><span style=\"color: #000000; text-decoration-color: #000000\">,</span>\n",
       "<span style=\"color: #000000; text-decoration-color: #000000\">        </span><span style=\"color: #008000; text-decoration-color: #008000\">'conversations'</span><span style=\"color: #000000; text-decoration-color: #000000\">: </span><span style=\"color: #000000; text-decoration-color: #000000; font-weight: bold\">[</span>\n",
       "<span style=\"color: #000000; text-decoration-color: #000000\">            </span><span style=\"color: #000000; text-decoration-color: #000000; font-weight: bold\">{</span><span style=\"color: #008000; text-decoration-color: #008000\">'from'</span><span style=\"color: #000000; text-decoration-color: #000000\">: </span><span style=\"color: #008000; text-decoration-color: #008000\">'human'</span><span style=\"color: #000000; text-decoration-color: #000000\">, </span><span style=\"color: #008000; text-decoration-color: #008000\">'value'</span><span style=\"color: #000000; text-decoration-color: #000000\">: </span><span style=\"color: #008000; text-decoration-color: #008000\">'&lt;image&gt;\\nWhat are the objects and relations you see in this image?'</span><span style=\"color: #000000; text-decoration-color: #000000; font-weight: bold\">}</span><span style=\"color: #000000; text-decoration-color: #000000\">,</span>\n",
       "<span style=\"color: #000000; text-decoration-color: #000000\">            </span><span style=\"color: #000000; text-decoration-color: #000000; font-weight: bold\">{</span><span style=\"color: #008000; text-decoration-color: #008000\">'from'</span><span style=\"color: #000000; text-decoration-color: #000000\">: </span><span style=\"color: #008000; text-decoration-color: #008000\">'gpt'</span><span style=\"color: #000000; text-decoration-color: #000000\">, </span><span style=\"color: #008000; text-decoration-color: #008000\">'value'</span><span style=\"color: #000000; text-decoration-color: #000000\">: </span><span style=\"color: #008000; text-decoration-color: #008000\">'Device 1: \\npcb_covered in hca_back\\n'</span><span style=\"color: #000000; text-decoration-color: #000000; font-weight: bold\">}</span>\n",
       "<span style=\"color: #000000; text-decoration-color: #000000\">        </span><span style=\"color: #000000; text-decoration-color: #000000; font-weight: bold\">]</span>\n",
       "<span style=\"color: #000000; text-decoration-color: #000000\">    </span><span style=\"color: #000000; text-decoration-color: #000000; font-weight: bold\">}</span><span style=\"color: #000000; text-decoration-color: #000000\">,</span>\n",
       "<span style=\"color: #000000; text-decoration-color: #000000\">    </span><span style=\"color: #000000; text-decoration-color: #000000; font-weight: bold\">{</span>\n",
       "<span style=\"color: #000000; text-decoration-color: #000000\">        </span><span style=\"color: #008000; text-decoration-color: #008000\">'id'</span><span style=\"color: #000000; text-decoration-color: #000000\">: </span><span style=\"color: #008080; text-decoration-color: #008080; font-weight: bold\">61</span><span style=\"color: #000000; text-decoration-color: #000000\">,</span>\n",
       "<span style=\"color: #000000; text-decoration-color: #000000\">        </span><span style=\"color: #008000; text-decoration-color: #008000\">'image'</span><span style=\"color: #000000; text-decoration-color: #000000\">: </span><span style=\"color: #008000; text-decoration-color: #008000\">'images/00000062.jpg'</span><span style=\"color: #000000; text-decoration-color: #000000\">,</span>\n",
       "<span style=\"color: #000000; text-decoration-color: #000000\">        </span><span style=\"color: #008000; text-decoration-color: #008000\">'conversations'</span><span style=\"color: #000000; text-decoration-color: #000000\">: </span><span style=\"color: #000000; text-decoration-color: #000000; font-weight: bold\">[</span>\n",
       "<span style=\"color: #000000; text-decoration-color: #000000\">            </span><span style=\"color: #000000; text-decoration-color: #000000; font-weight: bold\">{</span><span style=\"color: #008000; text-decoration-color: #008000\">'from'</span><span style=\"color: #000000; text-decoration-color: #000000\">: </span><span style=\"color: #008000; text-decoration-color: #008000\">'human'</span><span style=\"color: #000000; text-decoration-color: #000000\">, </span><span style=\"color: #008000; text-decoration-color: #008000\">'value'</span><span style=\"color: #000000; text-decoration-color: #000000\">: </span><span style=\"color: #008000; text-decoration-color: #008000\">'&lt;image&gt;\\nWhat are the objects and relations you see in this image?'</span><span style=\"color: #000000; text-decoration-color: #000000; font-weight: bold\">}</span><span style=\"color: #000000; text-decoration-color: #000000\">,</span>\n",
       "<span style=\"color: #000000; text-decoration-color: #000000\">            </span><span style=\"color: #000000; text-decoration-color: #000000; font-weight: bold\">{</span>\n",
       "<span style=\"color: #000000; text-decoration-color: #000000\">                </span><span style=\"color: #008000; text-decoration-color: #008000\">'from'</span><span style=\"color: #000000; text-decoration-color: #000000\">: </span><span style=\"color: #008000; text-decoration-color: #008000\">'gpt'</span><span style=\"color: #000000; text-decoration-color: #000000\">,</span>\n",
       "<span style=\"color: #000000; text-decoration-color: #000000\">                </span><span style=\"color: #008000; text-decoration-color: #008000\">'value'</span><span style=\"color: #000000; text-decoration-color: #000000\">: </span><span style=\"color: #008000; text-decoration-color: #008000\">'Device 1: \\nplastic_clip in hca_back\\ninternals in hca_back\\nplastic_clip next to </span>\n",
       "<span style=\"color: #008000; text-decoration-color: #008000\">internals\\ninternals next to plastic_clip\\n\\nDevice 2: \\npcb in internals\\nbattery in internals\\nbattery in pcb\\n'</span>\n",
       "<span style=\"color: #000000; text-decoration-color: #000000\">            </span><span style=\"color: #000000; text-decoration-color: #000000; font-weight: bold\">}</span>\n",
       "<span style=\"color: #000000; text-decoration-color: #000000\">        </span><span style=\"color: #000000; text-decoration-color: #000000; font-weight: bold\">]</span>\n",
       "<span style=\"color: #000000; text-decoration-color: #000000\">    </span><span style=\"color: #000000; text-decoration-color: #000000; font-weight: bold\">}</span><span style=\"color: #000000; text-decoration-color: #000000\">,</span>\n",
       "<span style=\"color: #000000; text-decoration-color: #000000\">    </span><span style=\"color: #000000; text-decoration-color: #000000; font-weight: bold\">{</span>\n",
       "<span style=\"color: #000000; text-decoration-color: #000000\">        </span><span style=\"color: #008000; text-decoration-color: #008000\">'id'</span><span style=\"color: #000000; text-decoration-color: #000000\">: </span><span style=\"color: #008080; text-decoration-color: #008080; font-weight: bold\">62</span><span style=\"color: #000000; text-decoration-color: #000000\">,</span>\n",
       "<span style=\"color: #000000; text-decoration-color: #000000\">        </span><span style=\"color: #008000; text-decoration-color: #008000\">'image'</span><span style=\"color: #000000; text-decoration-color: #000000\">: </span><span style=\"color: #008000; text-decoration-color: #008000\">'images/00000063.jpg'</span><span style=\"color: #000000; text-decoration-color: #000000\">,</span>\n",
       "<span style=\"color: #000000; text-decoration-color: #000000\">        </span><span style=\"color: #008000; text-decoration-color: #008000\">'conversations'</span><span style=\"color: #000000; text-decoration-color: #000000\">: </span><span style=\"color: #000000; text-decoration-color: #000000; font-weight: bold\">[</span>\n",
       "<span style=\"color: #000000; text-decoration-color: #000000\">            </span><span style=\"color: #000000; text-decoration-color: #000000; font-weight: bold\">{</span><span style=\"color: #008000; text-decoration-color: #008000\">'from'</span><span style=\"color: #000000; text-decoration-color: #000000\">: </span><span style=\"color: #008000; text-decoration-color: #008000\">'human'</span><span style=\"color: #000000; text-decoration-color: #000000\">, </span><span style=\"color: #008000; text-decoration-color: #008000\">'value'</span><span style=\"color: #000000; text-decoration-color: #000000\">: </span><span style=\"color: #008000; text-decoration-color: #008000\">'&lt;image&gt;\\nWhat are the objects and relations you see in this image?'</span><span style=\"color: #000000; text-decoration-color: #000000; font-weight: bold\">}</span><span style=\"color: #000000; text-decoration-color: #000000\">,</span>\n",
       "<span style=\"color: #000000; text-decoration-color: #000000\">            </span><span style=\"color: #000000; text-decoration-color: #000000; font-weight: bold\">{</span><span style=\"color: #008000; text-decoration-color: #008000\">'from'</span><span style=\"color: #000000; text-decoration-color: #000000\">: </span><span style=\"color: #008000; text-decoration-color: #008000\">'gpt'</span><span style=\"color: #000000; text-decoration-color: #000000\">, </span><span style=\"color: #008000; text-decoration-color: #008000\">'value'</span><span style=\"color: #000000; text-decoration-color: #000000\">: </span><span style=\"color: #008000; text-decoration-color: #008000\">'Device 1: \\ninternals in hca_back\\n'</span><span style=\"color: #000000; text-decoration-color: #000000; font-weight: bold\">}</span>\n",
       "<span style=\"color: #000000; text-decoration-color: #000000\">        </span><span style=\"color: #000000; text-decoration-color: #000000; font-weight: bold\">]</span>\n",
       "<span style=\"color: #000000; text-decoration-color: #000000\">    </span><span style=\"color: #000000; text-decoration-color: #000000; font-weight: bold\">}</span><span style=\"color: #000000; text-decoration-color: #000000\">,</span>\n",
       "<span style=\"color: #000000; text-decoration-color: #000000\">    </span><span style=\"color: #000000; text-decoration-color: #000000; font-weight: bold\">{</span>\n",
       "<span style=\"color: #000000; text-decoration-color: #000000\">        </span><span style=\"color: #008000; text-decoration-color: #008000\">'id'</span><span style=\"color: #000000; text-decoration-color: #000000\">: </span><span style=\"color: #008080; text-decoration-color: #008080; font-weight: bold\">63</span><span style=\"color: #000000; text-decoration-color: #000000\">,</span>\n",
       "<span style=\"color: #000000; text-decoration-color: #000000\">        </span><span style=\"color: #008000; text-decoration-color: #008000\">'image'</span><span style=\"color: #000000; text-decoration-color: #000000\">: </span><span style=\"color: #008000; text-decoration-color: #008000\">'images/00000064.jpg'</span><span style=\"color: #000000; text-decoration-color: #000000\">,</span>\n",
       "<span style=\"color: #000000; text-decoration-color: #000000\">        </span><span style=\"color: #008000; text-decoration-color: #008000\">'conversations'</span><span style=\"color: #000000; text-decoration-color: #000000\">: </span><span style=\"color: #000000; text-decoration-color: #000000; font-weight: bold\">[</span>\n",
       "<span style=\"color: #000000; text-decoration-color: #000000\">            </span><span style=\"color: #000000; text-decoration-color: #000000; font-weight: bold\">{</span><span style=\"color: #008000; text-decoration-color: #008000\">'from'</span><span style=\"color: #000000; text-decoration-color: #000000\">: </span><span style=\"color: #008000; text-decoration-color: #008000\">'human'</span><span style=\"color: #000000; text-decoration-color: #000000\">, </span><span style=\"color: #008000; text-decoration-color: #008000\">'value'</span><span style=\"color: #000000; text-decoration-color: #000000\">: </span><span style=\"color: #008000; text-decoration-color: #008000\">'&lt;image&gt;\\nWhat are the objects and relations you see in this image?'</span><span style=\"color: #000000; text-decoration-color: #000000; font-weight: bold\">}</span><span style=\"color: #000000; text-decoration-color: #000000\">,</span>\n",
       "<span style=\"color: #000000; text-decoration-color: #000000\">            </span><span style=\"color: #000000; text-decoration-color: #000000; font-weight: bold\">{</span>\n",
       "<span style=\"color: #000000; text-decoration-color: #000000\">                </span><span style=\"color: #008000; text-decoration-color: #008000\">'from'</span><span style=\"color: #000000; text-decoration-color: #000000\">: </span><span style=\"color: #008000; text-decoration-color: #008000\">'gpt'</span><span style=\"color: #000000; text-decoration-color: #000000\">,</span>\n",
       "<span style=\"color: #000000; text-decoration-color: #000000\">                </span><span style=\"color: #008000; text-decoration-color: #008000\">'value'</span><span style=\"color: #000000; text-decoration-color: #000000\">: </span><span style=\"color: #008000; text-decoration-color: #008000\">'Device 1: \\nplastic_clip in hca_back\\npcb_covered in hca_back\\nplastic_clip next to </span>\n",
       "<span style=\"color: #008000; text-decoration-color: #008000\">pcb_covered\\npcb_covered next to plastic_clip\\n'</span>\n",
       "<span style=\"color: #000000; text-decoration-color: #000000\">            </span><span style=\"color: #000000; text-decoration-color: #000000; font-weight: bold\">}</span>\n",
       "<span style=\"color: #000000; text-decoration-color: #000000\">        </span><span style=\"color: #000000; text-decoration-color: #000000; font-weight: bold\">]</span>\n",
       "<span style=\"color: #000000; text-decoration-color: #000000\">    </span><span style=\"color: #000000; text-decoration-color: #000000; font-weight: bold\">}</span><span style=\"color: #000000; text-decoration-color: #000000\">,</span>\n",
       "<span style=\"color: #000000; text-decoration-color: #000000\">    </span><span style=\"color: #000000; text-decoration-color: #000000; font-weight: bold\">{</span>\n",
       "<span style=\"color: #000000; text-decoration-color: #000000\">        </span><span style=\"color: #008000; text-decoration-color: #008000\">'id'</span><span style=\"color: #000000; text-decoration-color: #000000\">: </span><span style=\"color: #008080; text-decoration-color: #008080; font-weight: bold\">64</span><span style=\"color: #000000; text-decoration-color: #000000\">,</span>\n",
       "<span style=\"color: #000000; text-decoration-color: #000000\">        </span><span style=\"color: #008000; text-decoration-color: #008000\">'image'</span><span style=\"color: #000000; text-decoration-color: #000000\">: </span><span style=\"color: #008000; text-decoration-color: #008000\">'images/00000065.jpg'</span><span style=\"color: #000000; text-decoration-color: #000000\">,</span>\n",
       "<span style=\"color: #000000; text-decoration-color: #000000\">        </span><span style=\"color: #008000; text-decoration-color: #008000\">'conversations'</span><span style=\"color: #000000; text-decoration-color: #000000\">: </span><span style=\"color: #000000; text-decoration-color: #000000; font-weight: bold\">[</span>\n",
       "<span style=\"color: #000000; text-decoration-color: #000000\">            </span><span style=\"color: #000000; text-decoration-color: #000000; font-weight: bold\">{</span><span style=\"color: #008000; text-decoration-color: #008000\">'from'</span><span style=\"color: #000000; text-decoration-color: #000000\">: </span><span style=\"color: #008000; text-decoration-color: #008000\">'human'</span><span style=\"color: #000000; text-decoration-color: #000000\">, </span><span style=\"color: #008000; text-decoration-color: #008000\">'value'</span><span style=\"color: #000000; text-decoration-color: #000000\">: </span><span style=\"color: #008000; text-decoration-color: #008000\">'&lt;image&gt;\\nWhat are the objects and relations you see in this image?'</span><span style=\"color: #000000; text-decoration-color: #000000; font-weight: bold\">}</span><span style=\"color: #000000; text-decoration-color: #000000\">,</span>\n",
       "<span style=\"color: #000000; text-decoration-color: #000000\">            </span><span style=\"color: #000000; text-decoration-color: #000000; font-weight: bold\">{</span><span style=\"color: #008000; text-decoration-color: #008000\">'from'</span><span style=\"color: #000000; text-decoration-color: #000000\">: </span><span style=\"color: #008000; text-decoration-color: #008000\">'gpt'</span><span style=\"color: #000000; text-decoration-color: #000000\">, </span><span style=\"color: #008000; text-decoration-color: #008000\">'value'</span><span style=\"color: #000000; text-decoration-color: #000000\">: </span><span style=\"color: #008000; text-decoration-color: #008000\">'Device 1: \\npcb_covered in hca_back\\n'</span><span style=\"color: #000000; text-decoration-color: #000000; font-weight: bold\">}</span>\n",
       "<span style=\"color: #000000; text-decoration-color: #000000\">        </span><span style=\"color: #000000; text-decoration-color: #000000; font-weight: bold\">]</span>\n",
       "<span style=\"color: #000000; text-decoration-color: #000000\">    </span><span style=\"color: #000000; text-decoration-color: #000000; font-weight: bold\">}</span><span style=\"color: #000000; text-decoration-color: #000000\">,</span>\n",
       "<span style=\"color: #000000; text-decoration-color: #000000\">    </span><span style=\"color: #000000; text-decoration-color: #000000; font-weight: bold\">{</span>\n",
       "<span style=\"color: #000000; text-decoration-color: #000000\">        </span><span style=\"color: #008000; text-decoration-color: #008000\">'id'</span><span style=\"color: #000000; text-decoration-color: #000000\">: </span><span style=\"color: #008080; text-decoration-color: #008080; font-weight: bold\">65</span><span style=\"color: #000000; text-decoration-color: #000000\">,</span>\n",
       "<span style=\"color: #000000; text-decoration-color: #000000\">        </span><span style=\"color: #008000; text-decoration-color: #008000\">'image'</span><span style=\"color: #000000; text-decoration-color: #000000\">: </span><span style=\"color: #008000; text-decoration-color: #008000\">'images/00000066.jpg'</span><span style=\"color: #000000; text-decoration-color: #000000\">,</span>\n",
       "<span style=\"color: #000000; text-decoration-color: #000000\">        </span><span style=\"color: #008000; text-decoration-color: #008000\">'conversations'</span><span style=\"color: #000000; text-decoration-color: #000000\">: </span><span style=\"color: #000000; text-decoration-color: #000000; font-weight: bold\">[</span>\n",
       "<span style=\"color: #000000; text-decoration-color: #000000\">            </span><span style=\"color: #000000; text-decoration-color: #000000; font-weight: bold\">{</span><span style=\"color: #008000; text-decoration-color: #008000\">'from'</span><span style=\"color: #000000; text-decoration-color: #000000\">: </span><span style=\"color: #008000; text-decoration-color: #008000\">'human'</span><span style=\"color: #000000; text-decoration-color: #000000\">, </span><span style=\"color: #008000; text-decoration-color: #008000\">'value'</span><span style=\"color: #000000; text-decoration-color: #000000\">: </span><span style=\"color: #008000; text-decoration-color: #008000\">'&lt;image&gt;\\nWhat are the objects and relations you see in this image?'</span><span style=\"color: #000000; text-decoration-color: #000000; font-weight: bold\">}</span><span style=\"color: #000000; text-decoration-color: #000000\">,</span>\n",
       "<span style=\"color: #000000; text-decoration-color: #000000\">            </span><span style=\"color: #000000; text-decoration-color: #000000; font-weight: bold\">{</span>\n",
       "<span style=\"color: #000000; text-decoration-color: #000000\">                </span><span style=\"color: #008000; text-decoration-color: #008000\">'from'</span><span style=\"color: #000000; text-decoration-color: #000000\">: </span><span style=\"color: #008000; text-decoration-color: #008000\">'gpt'</span><span style=\"color: #000000; text-decoration-color: #000000\">,</span>\n",
       "<span style=\"color: #000000; text-decoration-color: #000000\">                </span><span style=\"color: #008000; text-decoration-color: #008000\">'value'</span><span style=\"color: #000000; text-decoration-color: #000000\">: </span><span style=\"color: #008000; text-decoration-color: #008000\">'Device 1: \\ninternals in hca_back\\nbattery in hca_back\\nhca_back next to </span>\n",
       "<span style=\"color: #008000; text-decoration-color: #008000\">firealarm_front\\nfirealarm_front next to hca_back\\ninternals next to battery\\ninternals next to </span>\n",
       "<span style=\"color: #008000; text-decoration-color: #008000\">firealarm_front\\nbattery next to internals\\nfirealarm_front next to internals\\n'</span>\n",
       "<span style=\"color: #000000; text-decoration-color: #000000\">            </span><span style=\"color: #000000; text-decoration-color: #000000; font-weight: bold\">}</span>\n",
       "<span style=\"color: #000000; text-decoration-color: #000000\">        </span><span style=\"color: #000000; text-decoration-color: #000000; font-weight: bold\">]</span>\n",
       "<span style=\"color: #000000; text-decoration-color: #000000\">    </span><span style=\"color: #000000; text-decoration-color: #000000; font-weight: bold\">}</span><span style=\"color: #000000; text-decoration-color: #000000\">,</span>\n",
       "<span style=\"color: #000000; text-decoration-color: #000000\">    </span><span style=\"color: #000000; text-decoration-color: #000000; font-weight: bold\">{</span>\n",
       "<span style=\"color: #000000; text-decoration-color: #000000\">        </span><span style=\"color: #008000; text-decoration-color: #008000\">'id'</span><span style=\"color: #000000; text-decoration-color: #000000\">: </span><span style=\"color: #008080; text-decoration-color: #008080; font-weight: bold\">66</span><span style=\"color: #000000; text-decoration-color: #000000\">,</span>\n",
       "<span style=\"color: #000000; text-decoration-color: #000000\">        </span><span style=\"color: #008000; text-decoration-color: #008000\">'image'</span><span style=\"color: #000000; text-decoration-color: #000000\">: </span><span style=\"color: #008000; text-decoration-color: #008000\">'images/00000067.jpg'</span><span style=\"color: #000000; text-decoration-color: #000000\">,</span>\n",
       "<span style=\"color: #000000; text-decoration-color: #000000\">        </span><span style=\"color: #008000; text-decoration-color: #008000\">'conversations'</span><span style=\"color: #000000; text-decoration-color: #000000\">: </span><span style=\"color: #000000; text-decoration-color: #000000; font-weight: bold\">[</span>\n",
       "<span style=\"color: #000000; text-decoration-color: #000000\">            </span><span style=\"color: #000000; text-decoration-color: #000000; font-weight: bold\">{</span><span style=\"color: #008000; text-decoration-color: #008000\">'from'</span><span style=\"color: #000000; text-decoration-color: #000000\">: </span><span style=\"color: #008000; text-decoration-color: #008000\">'human'</span><span style=\"color: #000000; text-decoration-color: #000000\">, </span><span style=\"color: #008000; text-decoration-color: #008000\">'value'</span><span style=\"color: #000000; text-decoration-color: #000000\">: </span><span style=\"color: #008000; text-decoration-color: #008000\">'&lt;image&gt;\\nWhat are the objects and relations you see in this image?'</span><span style=\"color: #000000; text-decoration-color: #000000; font-weight: bold\">}</span><span style=\"color: #000000; text-decoration-color: #000000\">,</span>\n",
       "<span style=\"color: #000000; text-decoration-color: #000000\">            </span><span style=\"color: #000000; text-decoration-color: #000000; font-weight: bold\">{</span>\n",
       "<span style=\"color: #000000; text-decoration-color: #000000\">                </span><span style=\"color: #008000; text-decoration-color: #008000\">'from'</span><span style=\"color: #000000; text-decoration-color: #000000\">: </span><span style=\"color: #008000; text-decoration-color: #008000\">'gpt'</span><span style=\"color: #000000; text-decoration-color: #000000\">,</span>\n",
       "<span style=\"color: #000000; text-decoration-color: #000000\">                </span><span style=\"color: #008000; text-decoration-color: #008000\">'value'</span><span style=\"color: #000000; text-decoration-color: #000000\">: </span><span style=\"color: #008000; text-decoration-color: #008000\">'Device 1: \\nplastic_clip in hca_back\\npcb_covered in hca_back\\nplastic_clip next to </span>\n",
       "<span style=\"color: #008000; text-decoration-color: #008000\">pcb_covered\\npcb_covered next to plastic_clip\\n\\nDevice 2: \\npcb_covered in hca_back\\n'</span>\n",
       "<span style=\"color: #000000; text-decoration-color: #000000\">            </span><span style=\"color: #000000; text-decoration-color: #000000; font-weight: bold\">}</span>\n",
       "<span style=\"color: #000000; text-decoration-color: #000000\">        </span><span style=\"color: #000000; text-decoration-color: #000000; font-weight: bold\">]</span>\n",
       "<span style=\"color: #000000; text-decoration-color: #000000\">    </span><span style=\"color: #000000; text-decoration-color: #000000; font-weight: bold\">}</span><span style=\"color: #000000; text-decoration-color: #000000\">,</span>\n",
       "<span style=\"color: #000000; text-decoration-color: #000000\">    </span><span style=\"color: #000000; text-decoration-color: #000000; font-weight: bold\">{</span>\n",
       "<span style=\"color: #000000; text-decoration-color: #000000\">        </span><span style=\"color: #008000; text-decoration-color: #008000\">'id'</span><span style=\"color: #000000; text-decoration-color: #000000\">: </span><span style=\"color: #008080; text-decoration-color: #008080; font-weight: bold\">67</span><span style=\"color: #000000; text-decoration-color: #000000\">,</span>\n",
       "<span style=\"color: #000000; text-decoration-color: #000000\">        </span><span style=\"color: #008000; text-decoration-color: #008000\">'image'</span><span style=\"color: #000000; text-decoration-color: #000000\">: </span><span style=\"color: #008000; text-decoration-color: #008000\">'images/00000068.jpg'</span><span style=\"color: #000000; text-decoration-color: #000000\">,</span>\n",
       "<span style=\"color: #000000; text-decoration-color: #000000\">        </span><span style=\"color: #008000; text-decoration-color: #008000\">'conversations'</span><span style=\"color: #000000; text-decoration-color: #000000\">: </span><span style=\"color: #000000; text-decoration-color: #000000; font-weight: bold\">[</span>\n",
       "<span style=\"color: #000000; text-decoration-color: #000000\">            </span><span style=\"color: #000000; text-decoration-color: #000000; font-weight: bold\">{</span><span style=\"color: #008000; text-decoration-color: #008000\">'from'</span><span style=\"color: #000000; text-decoration-color: #000000\">: </span><span style=\"color: #008000; text-decoration-color: #008000\">'human'</span><span style=\"color: #000000; text-decoration-color: #000000\">, </span><span style=\"color: #008000; text-decoration-color: #008000\">'value'</span><span style=\"color: #000000; text-decoration-color: #000000\">: </span><span style=\"color: #008000; text-decoration-color: #008000\">'&lt;image&gt;\\nWhat are the objects and relations you see in this image?'</span><span style=\"color: #000000; text-decoration-color: #000000; font-weight: bold\">}</span><span style=\"color: #000000; text-decoration-color: #000000\">,</span>\n",
       "<span style=\"color: #000000; text-decoration-color: #000000\">            </span><span style=\"color: #000000; text-decoration-color: #000000; font-weight: bold\">{</span><span style=\"color: #008000; text-decoration-color: #008000\">'from'</span><span style=\"color: #000000; text-decoration-color: #000000\">: </span><span style=\"color: #008000; text-decoration-color: #008000\">'gpt'</span><span style=\"color: #000000; text-decoration-color: #000000\">, </span><span style=\"color: #008000; text-decoration-color: #008000\">'value'</span><span style=\"color: #000000; text-decoration-color: #000000\">: </span><span style=\"color: #008000; text-decoration-color: #008000\">'Device 1: \\nfirealarm_front'</span><span style=\"color: #000000; text-decoration-color: #000000; font-weight: bold\">}</span>\n",
       "<span style=\"color: #000000; text-decoration-color: #000000\">        </span><span style=\"color: #000000; text-decoration-color: #000000; font-weight: bold\">]</span>\n",
       "<span style=\"color: #000000; text-decoration-color: #000000\">    </span><span style=\"color: #000000; text-decoration-color: #000000; font-weight: bold\">}</span><span style=\"color: #000000; text-decoration-color: #000000\">,</span>\n",
       "<span style=\"color: #000000; text-decoration-color: #000000\">    </span><span style=\"color: #000000; text-decoration-color: #000000; font-weight: bold\">{</span>\n",
       "<span style=\"color: #000000; text-decoration-color: #000000\">        </span><span style=\"color: #008000; text-decoration-color: #008000\">'id'</span><span style=\"color: #000000; text-decoration-color: #000000\">: </span><span style=\"color: #008080; text-decoration-color: #008080; font-weight: bold\">68</span><span style=\"color: #000000; text-decoration-color: #000000\">,</span>\n",
       "<span style=\"color: #000000; text-decoration-color: #000000\">        </span><span style=\"color: #008000; text-decoration-color: #008000\">'image'</span><span style=\"color: #000000; text-decoration-color: #000000\">: </span><span style=\"color: #008000; text-decoration-color: #008000\">'images/00000069.jpg'</span><span style=\"color: #000000; text-decoration-color: #000000\">,</span>\n",
       "<span style=\"color: #000000; text-decoration-color: #000000\">        </span><span style=\"color: #008000; text-decoration-color: #008000\">'conversations'</span><span style=\"color: #000000; text-decoration-color: #000000\">: </span><span style=\"color: #000000; text-decoration-color: #000000; font-weight: bold\">[</span>\n",
       "<span style=\"color: #000000; text-decoration-color: #000000\">            </span><span style=\"color: #000000; text-decoration-color: #000000; font-weight: bold\">{</span><span style=\"color: #008000; text-decoration-color: #008000\">'from'</span><span style=\"color: #000000; text-decoration-color: #000000\">: </span><span style=\"color: #008000; text-decoration-color: #008000\">'human'</span><span style=\"color: #000000; text-decoration-color: #000000\">, </span><span style=\"color: #008000; text-decoration-color: #008000\">'value'</span><span style=\"color: #000000; text-decoration-color: #000000\">: </span><span style=\"color: #008000; text-decoration-color: #008000\">'&lt;image&gt;\\nWhat are the objects and relations you see in this image?'</span><span style=\"color: #000000; text-decoration-color: #000000; font-weight: bold\">}</span><span style=\"color: #000000; text-decoration-color: #000000\">,</span>\n",
       "<span style=\"color: #000000; text-decoration-color: #000000\">            </span><span style=\"color: #000000; text-decoration-color: #000000; font-weight: bold\">{</span>\n",
       "<span style=\"color: #000000; text-decoration-color: #000000\">                </span><span style=\"color: #008000; text-decoration-color: #008000\">'from'</span><span style=\"color: #000000; text-decoration-color: #000000\">: </span><span style=\"color: #008000; text-decoration-color: #008000\">'gpt'</span><span style=\"color: #000000; text-decoration-color: #000000\">,</span>\n",
       "<span style=\"color: #000000; text-decoration-color: #000000\">                </span><span style=\"color: #008000; text-decoration-color: #008000\">'value'</span><span style=\"color: #000000; text-decoration-color: #000000\">: </span><span style=\"color: #008000; text-decoration-color: #008000\">'Device 1: \\npcb in internals\\nbattery in internals\\nbattery in pcb\\n\\nDevice 2: </span>\n",
       "<span style=\"color: #008000; text-decoration-color: #008000\">\\ninternals'</span>\n",
       "<span style=\"color: #000000; text-decoration-color: #000000\">            </span><span style=\"color: #000000; text-decoration-color: #000000; font-weight: bold\">}</span>\n",
       "<span style=\"color: #000000; text-decoration-color: #000000\">        </span><span style=\"color: #000000; text-decoration-color: #000000; font-weight: bold\">]</span>\n",
       "<span style=\"color: #000000; text-decoration-color: #000000\">    </span><span style=\"color: #000000; text-decoration-color: #000000; font-weight: bold\">}</span><span style=\"color: #000000; text-decoration-color: #000000\">,</span>\n",
       "<span style=\"color: #000000; text-decoration-color: #000000\">    </span><span style=\"color: #000000; text-decoration-color: #000000; font-weight: bold\">{</span>\n",
       "<span style=\"color: #000000; text-decoration-color: #000000\">        </span><span style=\"color: #008000; text-decoration-color: #008000\">'id'</span><span style=\"color: #000000; text-decoration-color: #000000\">: </span><span style=\"color: #008080; text-decoration-color: #008080; font-weight: bold\">69</span><span style=\"color: #000000; text-decoration-color: #000000\">,</span>\n",
       "<span style=\"color: #000000; text-decoration-color: #000000\">        </span><span style=\"color: #008000; text-decoration-color: #008000\">'image'</span><span style=\"color: #000000; text-decoration-color: #000000\">: </span><span style=\"color: #008000; text-decoration-color: #008000\">'images/00000070.jpg'</span><span style=\"color: #000000; text-decoration-color: #000000\">,</span>\n",
       "<span style=\"color: #000000; text-decoration-color: #000000\">        </span><span style=\"color: #008000; text-decoration-color: #008000\">'conversations'</span><span style=\"color: #000000; text-decoration-color: #000000\">: </span><span style=\"color: #000000; text-decoration-color: #000000; font-weight: bold\">[</span>\n",
       "<span style=\"color: #000000; text-decoration-color: #000000\">            </span><span style=\"color: #000000; text-decoration-color: #000000; font-weight: bold\">{</span><span style=\"color: #008000; text-decoration-color: #008000\">'from'</span><span style=\"color: #000000; text-decoration-color: #000000\">: </span><span style=\"color: #008000; text-decoration-color: #008000\">'human'</span><span style=\"color: #000000; text-decoration-color: #000000\">, </span><span style=\"color: #008000; text-decoration-color: #008000\">'value'</span><span style=\"color: #000000; text-decoration-color: #000000\">: </span><span style=\"color: #008000; text-decoration-color: #008000\">'&lt;image&gt;\\nWhat are the objects and relations you see in this image?'</span><span style=\"color: #000000; text-decoration-color: #000000; font-weight: bold\">}</span><span style=\"color: #000000; text-decoration-color: #000000\">,</span>\n",
       "<span style=\"color: #000000; text-decoration-color: #000000\">            </span><span style=\"color: #000000; text-decoration-color: #000000; font-weight: bold\">{</span>\n",
       "<span style=\"color: #000000; text-decoration-color: #000000\">                </span><span style=\"color: #008000; text-decoration-color: #008000\">'from'</span><span style=\"color: #000000; text-decoration-color: #000000\">: </span><span style=\"color: #008000; text-decoration-color: #008000\">'gpt'</span><span style=\"color: #000000; text-decoration-color: #000000\">,</span>\n",
       "<span style=\"color: #000000; text-decoration-color: #000000\">                </span><span style=\"color: #008000; text-decoration-color: #008000\">'value'</span><span style=\"color: #000000; text-decoration-color: #000000\">: </span><span style=\"color: #008000; text-decoration-color: #008000\">'Device 1: \\nbattery_covered in firealarm_back\\nfirealarm_back next to hca_back\\nhca_back </span>\n",
       "<span style=\"color: #008000; text-decoration-color: #008000\">next to firealarm_back\\nplastic_clip in hca_back\\npcb_covered in hca_back\\nplastic_clip next to </span>\n",
       "<span style=\"color: #008000; text-decoration-color: #008000\">pcb_covered\\npcb_covered next to plastic_clip\\n'</span>\n",
       "<span style=\"color: #000000; text-decoration-color: #000000\">            </span><span style=\"color: #000000; text-decoration-color: #000000; font-weight: bold\">}</span>\n",
       "<span style=\"color: #000000; text-decoration-color: #000000\">        </span><span style=\"color: #000000; text-decoration-color: #000000; font-weight: bold\">]</span>\n",
       "<span style=\"color: #000000; text-decoration-color: #000000\">    </span><span style=\"color: #000000; text-decoration-color: #000000; font-weight: bold\">}</span><span style=\"color: #000000; text-decoration-color: #000000\">,</span>\n",
       "<span style=\"color: #000000; text-decoration-color: #000000\">    </span><span style=\"color: #000000; text-decoration-color: #000000; font-weight: bold\">{</span>\n",
       "<span style=\"color: #000000; text-decoration-color: #000000\">        </span><span style=\"color: #008000; text-decoration-color: #008000\">'id'</span><span style=\"color: #000000; text-decoration-color: #000000\">: </span><span style=\"color: #008080; text-decoration-color: #008080; font-weight: bold\">70</span><span style=\"color: #000000; text-decoration-color: #000000\">,</span>\n",
       "<span style=\"color: #000000; text-decoration-color: #000000\">        </span><span style=\"color: #008000; text-decoration-color: #008000\">'image'</span><span style=\"color: #000000; text-decoration-color: #000000\">: </span><span style=\"color: #008000; text-decoration-color: #008000\">'images/00000071.jpg'</span><span style=\"color: #000000; text-decoration-color: #000000\">,</span>\n",
       "<span style=\"color: #000000; text-decoration-color: #000000\">        </span><span style=\"color: #008000; text-decoration-color: #008000\">'conversations'</span><span style=\"color: #000000; text-decoration-color: #000000\">: </span><span style=\"color: #000000; text-decoration-color: #000000; font-weight: bold\">[</span>\n",
       "<span style=\"color: #000000; text-decoration-color: #000000\">            </span><span style=\"color: #000000; text-decoration-color: #000000; font-weight: bold\">{</span><span style=\"color: #008000; text-decoration-color: #008000\">'from'</span><span style=\"color: #000000; text-decoration-color: #000000\">: </span><span style=\"color: #008000; text-decoration-color: #008000\">'human'</span><span style=\"color: #000000; text-decoration-color: #000000\">, </span><span style=\"color: #008000; text-decoration-color: #008000\">'value'</span><span style=\"color: #000000; text-decoration-color: #000000\">: </span><span style=\"color: #008000; text-decoration-color: #008000\">'&lt;image&gt;\\nWhat are the objects and relations you see in this image?'</span><span style=\"color: #000000; text-decoration-color: #000000; font-weight: bold\">}</span><span style=\"color: #000000; text-decoration-color: #000000\">,</span>\n",
       "<span style=\"color: #000000; text-decoration-color: #000000\">            </span><span style=\"color: #000000; text-decoration-color: #000000; font-weight: bold\">{</span><span style=\"color: #008000; text-decoration-color: #008000\">'from'</span><span style=\"color: #000000; text-decoration-color: #000000\">: </span><span style=\"color: #008000; text-decoration-color: #008000\">'gpt'</span><span style=\"color: #000000; text-decoration-color: #000000\">, </span><span style=\"color: #008000; text-decoration-color: #008000\">'value'</span><span style=\"color: #000000; text-decoration-color: #000000\">: </span><span style=\"color: #008000; text-decoration-color: #008000\">'Device 1: \\npcb in internals\\nbattery in internals\\nbattery in pcb\\n'</span><span style=\"color: #000000; text-decoration-color: #000000; font-weight: bold\">}</span>\n",
       "<span style=\"color: #000000; text-decoration-color: #000000\">        </span><span style=\"color: #000000; text-decoration-color: #000000; font-weight: bold\">]</span>\n",
       "<span style=\"color: #000000; text-decoration-color: #000000\">    </span><span style=\"color: #000000; text-decoration-color: #000000; font-weight: bold\">}</span><span style=\"color: #000000; text-decoration-color: #000000\">,</span>\n",
       "<span style=\"color: #000000; text-decoration-color: #000000\">    </span><span style=\"color: #000000; text-decoration-color: #000000; font-weight: bold\">{</span>\n",
       "<span style=\"color: #000000; text-decoration-color: #000000\">        </span><span style=\"color: #008000; text-decoration-color: #008000\">'id'</span><span style=\"color: #000000; text-decoration-color: #000000\">: </span><span style=\"color: #008080; text-decoration-color: #008080; font-weight: bold\">71</span><span style=\"color: #000000; text-decoration-color: #000000\">,</span>\n",
       "<span style=\"color: #000000; text-decoration-color: #000000\">        </span><span style=\"color: #008000; text-decoration-color: #008000\">'image'</span><span style=\"color: #000000; text-decoration-color: #000000\">: </span><span style=\"color: #008000; text-decoration-color: #008000\">'images/00000072.jpg'</span><span style=\"color: #000000; text-decoration-color: #000000\">,</span>\n",
       "<span style=\"color: #000000; text-decoration-color: #000000\">        </span><span style=\"color: #008000; text-decoration-color: #008000\">'conversations'</span><span style=\"color: #000000; text-decoration-color: #000000\">: </span><span style=\"color: #000000; text-decoration-color: #000000; font-weight: bold\">[</span>\n",
       "<span style=\"color: #000000; text-decoration-color: #000000\">            </span><span style=\"color: #000000; text-decoration-color: #000000; font-weight: bold\">{</span><span style=\"color: #008000; text-decoration-color: #008000\">'from'</span><span style=\"color: #000000; text-decoration-color: #000000\">: </span><span style=\"color: #008000; text-decoration-color: #008000\">'human'</span><span style=\"color: #000000; text-decoration-color: #000000\">, </span><span style=\"color: #008000; text-decoration-color: #008000\">'value'</span><span style=\"color: #000000; text-decoration-color: #000000\">: </span><span style=\"color: #008000; text-decoration-color: #008000\">'&lt;image&gt;\\nWhat are the objects and relations you see in this image?'</span><span style=\"color: #000000; text-decoration-color: #000000; font-weight: bold\">}</span><span style=\"color: #000000; text-decoration-color: #000000\">,</span>\n",
       "<span style=\"color: #000000; text-decoration-color: #000000\">            </span><span style=\"color: #000000; text-decoration-color: #000000; font-weight: bold\">{</span>\n",
       "<span style=\"color: #000000; text-decoration-color: #000000\">                </span><span style=\"color: #008000; text-decoration-color: #008000\">'from'</span><span style=\"color: #000000; text-decoration-color: #000000\">: </span><span style=\"color: #008000; text-decoration-color: #008000\">'gpt'</span><span style=\"color: #000000; text-decoration-color: #000000\">,</span>\n",
       "<span style=\"color: #000000; text-decoration-color: #000000\">                </span><span style=\"color: #008000; text-decoration-color: #008000\">'value'</span><span style=\"color: #000000; text-decoration-color: #000000\">: </span><span style=\"color: #008000; text-decoration-color: #008000\">'Device 1: \\npcb_covered in hca_back\\n\\nDevice 2: \\nbattery_covered in firealarm_back\\n'</span>\n",
       "<span style=\"color: #000000; text-decoration-color: #000000\">            </span><span style=\"color: #000000; text-decoration-color: #000000; font-weight: bold\">}</span>\n",
       "<span style=\"color: #000000; text-decoration-color: #000000\">        </span><span style=\"color: #000000; text-decoration-color: #000000; font-weight: bold\">]</span>\n",
       "<span style=\"color: #000000; text-decoration-color: #000000\">    </span><span style=\"color: #000000; text-decoration-color: #000000; font-weight: bold\">}</span><span style=\"color: #000000; text-decoration-color: #000000\">,</span>\n",
       "<span style=\"color: #000000; text-decoration-color: #000000\">    </span><span style=\"color: #000000; text-decoration-color: #000000; font-weight: bold\">{</span>\n",
       "<span style=\"color: #000000; text-decoration-color: #000000\">        </span><span style=\"color: #008000; text-decoration-color: #008000\">'id'</span><span style=\"color: #000000; text-decoration-color: #000000\">: </span><span style=\"color: #008080; text-decoration-color: #008080; font-weight: bold\">72</span><span style=\"color: #000000; text-decoration-color: #000000\">,</span>\n",
       "<span style=\"color: #000000; text-decoration-color: #000000\">        </span><span style=\"color: #008000; text-decoration-color: #008000\">'image'</span><span style=\"color: #000000; text-decoration-color: #000000\">: </span><span style=\"color: #008000; text-decoration-color: #008000\">'images/00000073.jpg'</span><span style=\"color: #000000; text-decoration-color: #000000\">,</span>\n",
       "<span style=\"color: #000000; text-decoration-color: #000000\">        </span><span style=\"color: #008000; text-decoration-color: #008000\">'conversations'</span><span style=\"color: #000000; text-decoration-color: #000000\">: </span><span style=\"color: #000000; text-decoration-color: #000000; font-weight: bold\">[</span>\n",
       "<span style=\"color: #000000; text-decoration-color: #000000\">            </span><span style=\"color: #000000; text-decoration-color: #000000; font-weight: bold\">{</span><span style=\"color: #008000; text-decoration-color: #008000\">'from'</span><span style=\"color: #000000; text-decoration-color: #000000\">: </span><span style=\"color: #008000; text-decoration-color: #008000\">'human'</span><span style=\"color: #000000; text-decoration-color: #000000\">, </span><span style=\"color: #008000; text-decoration-color: #008000\">'value'</span><span style=\"color: #000000; text-decoration-color: #000000\">: </span><span style=\"color: #008000; text-decoration-color: #008000\">'&lt;image&gt;\\nWhat are the objects and relations you see in this image?'</span><span style=\"color: #000000; text-decoration-color: #000000; font-weight: bold\">}</span><span style=\"color: #000000; text-decoration-color: #000000\">,</span>\n",
       "<span style=\"color: #000000; text-decoration-color: #000000\">            </span><span style=\"color: #000000; text-decoration-color: #000000; font-weight: bold\">{</span><span style=\"color: #008000; text-decoration-color: #008000\">'from'</span><span style=\"color: #000000; text-decoration-color: #000000\">: </span><span style=\"color: #008000; text-decoration-color: #008000\">'gpt'</span><span style=\"color: #000000; text-decoration-color: #000000\">, </span><span style=\"color: #008000; text-decoration-color: #008000\">'value'</span><span style=\"color: #000000; text-decoration-color: #000000\">: </span><span style=\"color: #008000; text-decoration-color: #008000\">'Device 1: \\nbattery in internals\\n'</span><span style=\"color: #000000; text-decoration-color: #000000; font-weight: bold\">}</span>\n",
       "<span style=\"color: #000000; text-decoration-color: #000000\">        </span><span style=\"color: #000000; text-decoration-color: #000000; font-weight: bold\">]</span>\n",
       "<span style=\"color: #000000; text-decoration-color: #000000\">    </span><span style=\"color: #000000; text-decoration-color: #000000; font-weight: bold\">}</span><span style=\"color: #000000; text-decoration-color: #000000\">,</span>\n",
       "<span style=\"color: #000000; text-decoration-color: #000000\">    </span><span style=\"color: #000000; text-decoration-color: #000000; font-weight: bold\">{</span>\n",
       "<span style=\"color: #000000; text-decoration-color: #000000\">        </span><span style=\"color: #008000; text-decoration-color: #008000\">'id'</span><span style=\"color: #000000; text-decoration-color: #000000\">: </span><span style=\"color: #008080; text-decoration-color: #008080; font-weight: bold\">73</span><span style=\"color: #000000; text-decoration-color: #000000\">,</span>\n",
       "<span style=\"color: #000000; text-decoration-color: #000000\">        </span><span style=\"color: #008000; text-decoration-color: #008000\">'image'</span><span style=\"color: #000000; text-decoration-color: #000000\">: </span><span style=\"color: #008000; text-decoration-color: #008000\">'images/00000074.jpg'</span><span style=\"color: #000000; text-decoration-color: #000000\">,</span>\n",
       "<span style=\"color: #000000; text-decoration-color: #000000\">        </span><span style=\"color: #008000; text-decoration-color: #008000\">'conversations'</span><span style=\"color: #000000; text-decoration-color: #000000\">: </span><span style=\"color: #000000; text-decoration-color: #000000; font-weight: bold\">[</span>\n",
       "<span style=\"color: #000000; text-decoration-color: #000000\">            </span><span style=\"color: #000000; text-decoration-color: #000000; font-weight: bold\">{</span><span style=\"color: #008000; text-decoration-color: #008000\">'from'</span><span style=\"color: #000000; text-decoration-color: #000000\">: </span><span style=\"color: #008000; text-decoration-color: #008000\">'human'</span><span style=\"color: #000000; text-decoration-color: #000000\">, </span><span style=\"color: #008000; text-decoration-color: #008000\">'value'</span><span style=\"color: #000000; text-decoration-color: #000000\">: </span><span style=\"color: #008000; text-decoration-color: #008000\">'&lt;image&gt;\\nWhat are the objects and relations you see in this image?'</span><span style=\"color: #000000; text-decoration-color: #000000; font-weight: bold\">}</span><span style=\"color: #000000; text-decoration-color: #000000\">,</span>\n",
       "<span style=\"color: #000000; text-decoration-color: #000000\">            </span><span style=\"color: #000000; text-decoration-color: #000000; font-weight: bold\">{</span><span style=\"color: #008000; text-decoration-color: #008000\">'from'</span><span style=\"color: #000000; text-decoration-color: #000000\">: </span><span style=\"color: #008000; text-decoration-color: #008000\">'gpt'</span><span style=\"color: #000000; text-decoration-color: #000000\">, </span><span style=\"color: #008000; text-decoration-color: #008000\">'value'</span><span style=\"color: #000000; text-decoration-color: #000000\">: </span><span style=\"color: #008000; text-decoration-color: #008000\">'Device 1: \\nfirealarm_back'</span><span style=\"color: #000000; text-decoration-color: #000000; font-weight: bold\">}</span>\n",
       "<span style=\"color: #000000; text-decoration-color: #000000\">        </span><span style=\"color: #000000; text-decoration-color: #000000; font-weight: bold\">]</span>\n",
       "<span style=\"color: #000000; text-decoration-color: #000000\">    </span><span style=\"color: #000000; text-decoration-color: #000000; font-weight: bold\">}</span><span style=\"color: #000000; text-decoration-color: #000000\">,</span>\n",
       "<span style=\"color: #000000; text-decoration-color: #000000\">    </span><span style=\"color: #000000; text-decoration-color: #000000; font-weight: bold\">{</span>\n",
       "<span style=\"color: #000000; text-decoration-color: #000000\">        </span><span style=\"color: #008000; text-decoration-color: #008000\">'id'</span><span style=\"color: #000000; text-decoration-color: #000000\">: </span><span style=\"color: #008080; text-decoration-color: #008080; font-weight: bold\">74</span><span style=\"color: #000000; text-decoration-color: #000000\">,</span>\n",
       "<span style=\"color: #000000; text-decoration-color: #000000\">        </span><span style=\"color: #008000; text-decoration-color: #008000\">'image'</span><span style=\"color: #000000; text-decoration-color: #000000\">: </span><span style=\"color: #008000; text-decoration-color: #008000\">'images/00000075.jpg'</span><span style=\"color: #000000; text-decoration-color: #000000\">,</span>\n",
       "<span style=\"color: #000000; text-decoration-color: #000000\">        </span><span style=\"color: #008000; text-decoration-color: #008000\">'conversations'</span><span style=\"color: #000000; text-decoration-color: #000000\">: </span><span style=\"color: #000000; text-decoration-color: #000000; font-weight: bold\">[</span>\n",
       "<span style=\"color: #000000; text-decoration-color: #000000\">            </span><span style=\"color: #000000; text-decoration-color: #000000; font-weight: bold\">{</span><span style=\"color: #008000; text-decoration-color: #008000\">'from'</span><span style=\"color: #000000; text-decoration-color: #000000\">: </span><span style=\"color: #008000; text-decoration-color: #008000\">'human'</span><span style=\"color: #000000; text-decoration-color: #000000\">, </span><span style=\"color: #008000; text-decoration-color: #008000\">'value'</span><span style=\"color: #000000; text-decoration-color: #000000\">: </span><span style=\"color: #008000; text-decoration-color: #008000\">'&lt;image&gt;\\nWhat are the objects and relations you see in this image?'</span><span style=\"color: #000000; text-decoration-color: #000000; font-weight: bold\">}</span><span style=\"color: #000000; text-decoration-color: #000000\">,</span>\n",
       "<span style=\"color: #000000; text-decoration-color: #000000\">            </span><span style=\"color: #000000; text-decoration-color: #000000; font-weight: bold\">{</span>\n",
       "<span style=\"color: #000000; text-decoration-color: #000000\">                </span><span style=\"color: #008000; text-decoration-color: #008000\">'from'</span><span style=\"color: #000000; text-decoration-color: #000000\">: </span><span style=\"color: #008000; text-decoration-color: #008000\">'gpt'</span><span style=\"color: #000000; text-decoration-color: #000000\">,</span>\n",
       "<span style=\"color: #000000; text-decoration-color: #000000\">                </span><span style=\"color: #008000; text-decoration-color: #008000\">'value'</span><span style=\"color: #000000; text-decoration-color: #000000\">: </span><span style=\"color: #008000; text-decoration-color: #008000\">'Device 1: \\nfirealarm_front next to internals\\ninternals next to firealarm_front\\npcb in </span>\n",
       "<span style=\"color: #008000; text-decoration-color: #008000\">internals\\nbattery in internals\\n'</span>\n",
       "<span style=\"color: #000000; text-decoration-color: #000000\">            </span><span style=\"color: #000000; text-decoration-color: #000000; font-weight: bold\">}</span>\n",
       "<span style=\"color: #000000; text-decoration-color: #000000\">        </span><span style=\"color: #000000; text-decoration-color: #000000; font-weight: bold\">]</span>\n",
       "<span style=\"color: #000000; text-decoration-color: #000000\">    </span><span style=\"color: #000000; text-decoration-color: #000000; font-weight: bold\">}</span><span style=\"color: #000000; text-decoration-color: #000000\">,</span>\n",
       "<span style=\"color: #000000; text-decoration-color: #000000\">    </span><span style=\"color: #000000; text-decoration-color: #000000; font-weight: bold\">{</span>\n",
       "<span style=\"color: #000000; text-decoration-color: #000000\">        </span><span style=\"color: #008000; text-decoration-color: #008000\">'id'</span><span style=\"color: #000000; text-decoration-color: #000000\">: </span><span style=\"color: #008080; text-decoration-color: #008080; font-weight: bold\">75</span><span style=\"color: #000000; text-decoration-color: #000000\">,</span>\n",
       "<span style=\"color: #000000; text-decoration-color: #000000\">        </span><span style=\"color: #008000; text-decoration-color: #008000\">'image'</span><span style=\"color: #000000; text-decoration-color: #000000\">: </span><span style=\"color: #008000; text-decoration-color: #008000\">'images/00000076.jpg'</span><span style=\"color: #000000; text-decoration-color: #000000\">,</span>\n",
       "<span style=\"color: #000000; text-decoration-color: #000000\">        </span><span style=\"color: #008000; text-decoration-color: #008000\">'conversations'</span><span style=\"color: #000000; text-decoration-color: #000000\">: </span><span style=\"color: #000000; text-decoration-color: #000000; font-weight: bold\">[</span>\n",
       "<span style=\"color: #000000; text-decoration-color: #000000\">            </span><span style=\"color: #000000; text-decoration-color: #000000; font-weight: bold\">{</span><span style=\"color: #008000; text-decoration-color: #008000\">'from'</span><span style=\"color: #000000; text-decoration-color: #000000\">: </span><span style=\"color: #008000; text-decoration-color: #008000\">'human'</span><span style=\"color: #000000; text-decoration-color: #000000\">, </span><span style=\"color: #008000; text-decoration-color: #008000\">'value'</span><span style=\"color: #000000; text-decoration-color: #000000\">: </span><span style=\"color: #008000; text-decoration-color: #008000\">'&lt;image&gt;\\nWhat are the objects and relations you see in this image?'</span><span style=\"color: #000000; text-decoration-color: #000000; font-weight: bold\">}</span><span style=\"color: #000000; text-decoration-color: #000000\">,</span>\n",
       "<span style=\"color: #000000; text-decoration-color: #000000\">            </span><span style=\"color: #000000; text-decoration-color: #000000; font-weight: bold\">{</span>\n",
       "<span style=\"color: #000000; text-decoration-color: #000000\">                </span><span style=\"color: #008000; text-decoration-color: #008000\">'from'</span><span style=\"color: #000000; text-decoration-color: #000000\">: </span><span style=\"color: #008000; text-decoration-color: #008000\">'gpt'</span><span style=\"color: #000000; text-decoration-color: #000000\">,</span>\n",
       "<span style=\"color: #000000; text-decoration-color: #000000\">                </span><span style=\"color: #008000; text-decoration-color: #008000\">'value'</span><span style=\"color: #000000; text-decoration-color: #000000\">: </span><span style=\"color: #008000; text-decoration-color: #008000\">'Device 1: \\npcb in hca_back\\nbattery in hca_back\\ninternals in hca_back\\npcb next to </span>\n",
       "<span style=\"color: #008000; text-decoration-color: #008000\">battery\\npcb next to internals\\nbattery next to pcb\\ninternals next to pcb\\n'</span>\n",
       "<span style=\"color: #000000; text-decoration-color: #000000\">            </span><span style=\"color: #000000; text-decoration-color: #000000; font-weight: bold\">}</span>\n",
       "<span style=\"color: #000000; text-decoration-color: #000000\">        </span><span style=\"color: #000000; text-decoration-color: #000000; font-weight: bold\">]</span>\n",
       "<span style=\"color: #000000; text-decoration-color: #000000\">    </span><span style=\"color: #000000; text-decoration-color: #000000; font-weight: bold\">}</span><span style=\"color: #000000; text-decoration-color: #000000\">,</span>\n",
       "<span style=\"color: #000000; text-decoration-color: #000000\">    </span><span style=\"color: #000000; text-decoration-color: #000000; font-weight: bold\">{</span>\n",
       "<span style=\"color: #000000; text-decoration-color: #000000\">        </span><span style=\"color: #008000; text-decoration-color: #008000\">'id'</span><span style=\"color: #000000; text-decoration-color: #000000\">: </span><span style=\"color: #008080; text-decoration-color: #008080; font-weight: bold\">76</span><span style=\"color: #000000; text-decoration-color: #000000\">,</span>\n",
       "<span style=\"color: #000000; text-decoration-color: #000000\">        </span><span style=\"color: #008000; text-decoration-color: #008000\">'image'</span><span style=\"color: #000000; text-decoration-color: #000000\">: </span><span style=\"color: #008000; text-decoration-color: #008000\">'images/00000077.jpg'</span><span style=\"color: #000000; text-decoration-color: #000000\">,</span>\n",
       "<span style=\"color: #000000; text-decoration-color: #000000\">        </span><span style=\"color: #008000; text-decoration-color: #008000\">'conversations'</span><span style=\"color: #000000; text-decoration-color: #000000\">: </span><span style=\"color: #000000; text-decoration-color: #000000; font-weight: bold\">[</span>\n",
       "<span style=\"color: #000000; text-decoration-color: #000000\">            </span><span style=\"color: #000000; text-decoration-color: #000000; font-weight: bold\">{</span><span style=\"color: #008000; text-decoration-color: #008000\">'from'</span><span style=\"color: #000000; text-decoration-color: #000000\">: </span><span style=\"color: #008000; text-decoration-color: #008000\">'human'</span><span style=\"color: #000000; text-decoration-color: #000000\">, </span><span style=\"color: #008000; text-decoration-color: #008000\">'value'</span><span style=\"color: #000000; text-decoration-color: #000000\">: </span><span style=\"color: #008000; text-decoration-color: #008000\">'&lt;image&gt;\\nWhat are the objects and relations you see in this image?'</span><span style=\"color: #000000; text-decoration-color: #000000; font-weight: bold\">}</span><span style=\"color: #000000; text-decoration-color: #000000\">,</span>\n",
       "<span style=\"color: #000000; text-decoration-color: #000000\">            </span><span style=\"color: #000000; text-decoration-color: #000000; font-weight: bold\">{</span>\n",
       "<span style=\"color: #000000; text-decoration-color: #000000\">                </span><span style=\"color: #008000; text-decoration-color: #008000\">'from'</span><span style=\"color: #000000; text-decoration-color: #000000\">: </span><span style=\"color: #008000; text-decoration-color: #008000\">'gpt'</span><span style=\"color: #000000; text-decoration-color: #000000\">,</span>\n",
       "<span style=\"color: #000000; text-decoration-color: #000000\">                </span><span style=\"color: #008000; text-decoration-color: #008000\">'value'</span><span style=\"color: #000000; text-decoration-color: #000000\">: </span><span style=\"color: #008000; text-decoration-color: #008000\">'Device 1: \\npcb in firealarm_back\\nbattery in firealarm_back\\nbattery in </span>\n",
       "<span style=\"color: #008000; text-decoration-color: #008000\">firealarm_back\\nfirealarm_back next to firealarm_front\\nfirealarm_front next to firealarm_back\\npcb in battery\\npcb</span>\n",
       "<span style=\"color: #008000; text-decoration-color: #008000\">in firealarm_front\\nbattery in pcb\\npcb next to battery\\nbattery next to pcb\\nbattery next to </span>\n",
       "<span style=\"color: #008000; text-decoration-color: #008000\">firealarm_front\\nfirealarm_front next to battery\\nbattery next to firealarm_front\\nfirealarm_front next to </span>\n",
       "<span style=\"color: #008000; text-decoration-color: #008000\">battery\\n'</span>\n",
       "<span style=\"color: #000000; text-decoration-color: #000000\">            </span><span style=\"color: #000000; text-decoration-color: #000000; font-weight: bold\">}</span>\n",
       "<span style=\"color: #000000; text-decoration-color: #000000\">        </span><span style=\"color: #000000; text-decoration-color: #000000; font-weight: bold\">]</span>\n",
       "<span style=\"color: #000000; text-decoration-color: #000000\">    </span><span style=\"color: #000000; text-decoration-color: #000000; font-weight: bold\">}</span><span style=\"color: #000000; text-decoration-color: #000000\">,</span>\n",
       "<span style=\"color: #000000; text-decoration-color: #000000\">    </span><span style=\"color: #000000; text-decoration-color: #000000; font-weight: bold\">{</span>\n",
       "<span style=\"color: #000000; text-decoration-color: #000000\">        </span><span style=\"color: #008000; text-decoration-color: #008000\">'id'</span><span style=\"color: #000000; text-decoration-color: #000000\">: </span><span style=\"color: #008080; text-decoration-color: #008080; font-weight: bold\">77</span><span style=\"color: #000000; text-decoration-color: #000000\">,</span>\n",
       "<span style=\"color: #000000; text-decoration-color: #000000\">        </span><span style=\"color: #008000; text-decoration-color: #008000\">'image'</span><span style=\"color: #000000; text-decoration-color: #000000\">: </span><span style=\"color: #008000; text-decoration-color: #008000\">'images/00000078.jpg'</span><span style=\"color: #000000; text-decoration-color: #000000\">,</span>\n",
       "<span style=\"color: #000000; text-decoration-color: #000000\">        </span><span style=\"color: #008000; text-decoration-color: #008000\">'conversations'</span><span style=\"color: #000000; text-decoration-color: #000000\">: </span><span style=\"color: #000000; text-decoration-color: #000000; font-weight: bold\">[</span>\n",
       "<span style=\"color: #000000; text-decoration-color: #000000\">            </span><span style=\"color: #000000; text-decoration-color: #000000; font-weight: bold\">{</span><span style=\"color: #008000; text-decoration-color: #008000\">'from'</span><span style=\"color: #000000; text-decoration-color: #000000\">: </span><span style=\"color: #008000; text-decoration-color: #008000\">'human'</span><span style=\"color: #000000; text-decoration-color: #000000\">, </span><span style=\"color: #008000; text-decoration-color: #008000\">'value'</span><span style=\"color: #000000; text-decoration-color: #000000\">: </span><span style=\"color: #008000; text-decoration-color: #008000\">'&lt;image&gt;\\nWhat are the objects and relations you see in this image?'</span><span style=\"color: #000000; text-decoration-color: #000000; font-weight: bold\">}</span><span style=\"color: #000000; text-decoration-color: #000000\">,</span>\n",
       "<span style=\"color: #000000; text-decoration-color: #000000\">            </span><span style=\"color: #000000; text-decoration-color: #000000; font-weight: bold\">{</span><span style=\"color: #008000; text-decoration-color: #008000\">'from'</span><span style=\"color: #000000; text-decoration-color: #000000\">: </span><span style=\"color: #008000; text-decoration-color: #008000\">'gpt'</span><span style=\"color: #000000; text-decoration-color: #000000\">, </span><span style=\"color: #008000; text-decoration-color: #008000\">'value'</span><span style=\"color: #000000; text-decoration-color: #000000\">: </span><span style=\"color: #008000; text-decoration-color: #008000\">'Device 1: \\nfirealarm_back'</span><span style=\"color: #000000; text-decoration-color: #000000; font-weight: bold\">}</span>\n",
       "<span style=\"color: #000000; text-decoration-color: #000000\">        </span><span style=\"color: #000000; text-decoration-color: #000000; font-weight: bold\">]</span>\n",
       "<span style=\"color: #000000; text-decoration-color: #000000\">    </span><span style=\"color: #000000; text-decoration-color: #000000; font-weight: bold\">}</span><span style=\"color: #000000; text-decoration-color: #000000\">,</span>\n",
       "<span style=\"color: #000000; text-decoration-color: #000000\">    </span><span style=\"color: #000000; text-decoration-color: #000000; font-weight: bold\">{</span>\n",
       "<span style=\"color: #000000; text-decoration-color: #000000\">        </span><span style=\"color: #008000; text-decoration-color: #008000\">'id'</span><span style=\"color: #000000; text-decoration-color: #000000\">: </span><span style=\"color: #008080; text-decoration-color: #008080; font-weight: bold\">78</span><span style=\"color: #000000; text-decoration-color: #000000\">,</span>\n",
       "<span style=\"color: #000000; text-decoration-color: #000000\">        </span><span style=\"color: #008000; text-decoration-color: #008000\">'image'</span><span style=\"color: #000000; text-decoration-color: #000000\">: </span><span style=\"color: #008000; text-decoration-color: #008000\">'images/00000079.jpg'</span><span style=\"color: #000000; text-decoration-color: #000000\">,</span>\n",
       "<span style=\"color: #000000; text-decoration-color: #000000\">        </span><span style=\"color: #008000; text-decoration-color: #008000\">'conversations'</span><span style=\"color: #000000; text-decoration-color: #000000\">: </span><span style=\"color: #000000; text-decoration-color: #000000; font-weight: bold\">[</span>\n",
       "<span style=\"color: #000000; text-decoration-color: #000000\">            </span><span style=\"color: #000000; text-decoration-color: #000000; font-weight: bold\">{</span><span style=\"color: #008000; text-decoration-color: #008000\">'from'</span><span style=\"color: #000000; text-decoration-color: #000000\">: </span><span style=\"color: #008000; text-decoration-color: #008000\">'human'</span><span style=\"color: #000000; text-decoration-color: #000000\">, </span><span style=\"color: #008000; text-decoration-color: #008000\">'value'</span><span style=\"color: #000000; text-decoration-color: #000000\">: </span><span style=\"color: #008000; text-decoration-color: #008000\">'&lt;image&gt;\\nWhat are the objects and relations you see in this image?'</span><span style=\"color: #000000; text-decoration-color: #000000; font-weight: bold\">}</span><span style=\"color: #000000; text-decoration-color: #000000\">,</span>\n",
       "<span style=\"color: #000000; text-decoration-color: #000000\">            </span><span style=\"color: #000000; text-decoration-color: #000000; font-weight: bold\">{</span>\n",
       "<span style=\"color: #000000; text-decoration-color: #000000\">                </span><span style=\"color: #008000; text-decoration-color: #008000\">'from'</span><span style=\"color: #000000; text-decoration-color: #000000\">: </span><span style=\"color: #008000; text-decoration-color: #008000\">'gpt'</span><span style=\"color: #000000; text-decoration-color: #000000\">,</span>\n",
       "<span style=\"color: #000000; text-decoration-color: #000000\">                </span><span style=\"color: #008000; text-decoration-color: #008000\">'value'</span><span style=\"color: #000000; text-decoration-color: #000000\">: </span><span style=\"color: #008000; text-decoration-color: #008000\">'Device 1: \\npcb in hca_back\\nbattery in hca_back\\npcb next to battery\\nbattery next to </span>\n",
       "<span style=\"color: #008000; text-decoration-color: #008000\">pcb\\n\\nDevice 2: \\nfirealarm_back'</span>\n",
       "<span style=\"color: #000000; text-decoration-color: #000000\">            </span><span style=\"color: #000000; text-decoration-color: #000000; font-weight: bold\">}</span>\n",
       "<span style=\"color: #000000; text-decoration-color: #000000\">        </span><span style=\"color: #000000; text-decoration-color: #000000; font-weight: bold\">]</span>\n",
       "<span style=\"color: #000000; text-decoration-color: #000000\">    </span><span style=\"color: #000000; text-decoration-color: #000000; font-weight: bold\">}</span><span style=\"color: #000000; text-decoration-color: #000000\">,</span>\n",
       "<span style=\"color: #000000; text-decoration-color: #000000\">    </span><span style=\"color: #000000; text-decoration-color: #000000; font-weight: bold\">{</span>\n",
       "<span style=\"color: #000000; text-decoration-color: #000000\">        </span><span style=\"color: #008000; text-decoration-color: #008000\">'id'</span><span style=\"color: #000000; text-decoration-color: #000000\">: </span><span style=\"color: #008080; text-decoration-color: #008080; font-weight: bold\">79</span><span style=\"color: #000000; text-decoration-color: #000000\">,</span>\n",
       "<span style=\"color: #000000; text-decoration-color: #000000\">        </span><span style=\"color: #008000; text-decoration-color: #008000\">'image'</span><span style=\"color: #000000; text-decoration-color: #000000\">: </span><span style=\"color: #008000; text-decoration-color: #008000\">'images/00000080.jpg'</span><span style=\"color: #000000; text-decoration-color: #000000\">,</span>\n",
       "<span style=\"color: #000000; text-decoration-color: #000000\">        </span><span style=\"color: #008000; text-decoration-color: #008000\">'conversations'</span><span style=\"color: #000000; text-decoration-color: #000000\">: </span><span style=\"color: #000000; text-decoration-color: #000000; font-weight: bold\">[</span>\n",
       "<span style=\"color: #000000; text-decoration-color: #000000\">            </span><span style=\"color: #000000; text-decoration-color: #000000; font-weight: bold\">{</span><span style=\"color: #008000; text-decoration-color: #008000\">'from'</span><span style=\"color: #000000; text-decoration-color: #000000\">: </span><span style=\"color: #008000; text-decoration-color: #008000\">'human'</span><span style=\"color: #000000; text-decoration-color: #000000\">, </span><span style=\"color: #008000; text-decoration-color: #008000\">'value'</span><span style=\"color: #000000; text-decoration-color: #000000\">: </span><span style=\"color: #008000; text-decoration-color: #008000\">'&lt;image&gt;\\nWhat are the objects and relations you see in this image?'</span><span style=\"color: #000000; text-decoration-color: #000000; font-weight: bold\">}</span><span style=\"color: #000000; text-decoration-color: #000000\">,</span>\n",
       "<span style=\"color: #000000; text-decoration-color: #000000\">            </span><span style=\"color: #000000; text-decoration-color: #000000; font-weight: bold\">{</span>\n",
       "<span style=\"color: #000000; text-decoration-color: #000000\">                </span><span style=\"color: #008000; text-decoration-color: #008000\">'from'</span><span style=\"color: #000000; text-decoration-color: #000000\">: </span><span style=\"color: #008000; text-decoration-color: #008000\">'gpt'</span><span style=\"color: #000000; text-decoration-color: #000000\">,</span>\n",
       "<span style=\"color: #000000; text-decoration-color: #000000\">                </span><span style=\"color: #008000; text-decoration-color: #008000\">'value'</span><span style=\"color: #000000; text-decoration-color: #000000\">: </span><span style=\"color: #008000; text-decoration-color: #008000\">'Device 1: \\nplastic_clip in hca_back\\ninternals in hca_back\\nplastic_clip next to </span>\n",
       "<span style=\"color: #008000; text-decoration-color: #008000\">internals\\ninternals next to plastic_clip\\n'</span>\n",
       "<span style=\"color: #000000; text-decoration-color: #000000\">            </span><span style=\"color: #000000; text-decoration-color: #000000; font-weight: bold\">}</span>\n",
       "<span style=\"color: #000000; text-decoration-color: #000000\">        </span><span style=\"color: #000000; text-decoration-color: #000000; font-weight: bold\">]</span>\n",
       "<span style=\"color: #000000; text-decoration-color: #000000\">    </span><span style=\"color: #000000; text-decoration-color: #000000; font-weight: bold\">}</span><span style=\"color: #000000; text-decoration-color: #000000\">,</span>\n",
       "<span style=\"color: #000000; text-decoration-color: #000000\">    </span><span style=\"color: #000000; text-decoration-color: #000000; font-weight: bold\">{</span>\n",
       "<span style=\"color: #000000; text-decoration-color: #000000\">        </span><span style=\"color: #008000; text-decoration-color: #008000\">'id'</span><span style=\"color: #000000; text-decoration-color: #000000\">: </span><span style=\"color: #008080; text-decoration-color: #008080; font-weight: bold\">80</span><span style=\"color: #000000; text-decoration-color: #000000\">,</span>\n",
       "<span style=\"color: #000000; text-decoration-color: #000000\">        </span><span style=\"color: #008000; text-decoration-color: #008000\">'image'</span><span style=\"color: #000000; text-decoration-color: #000000\">: </span><span style=\"color: #008000; text-decoration-color: #008000\">'images/00000081.jpg'</span><span style=\"color: #000000; text-decoration-color: #000000\">,</span>\n",
       "<span style=\"color: #000000; text-decoration-color: #000000\">        </span><span style=\"color: #008000; text-decoration-color: #008000\">'conversations'</span><span style=\"color: #000000; text-decoration-color: #000000\">: </span><span style=\"color: #000000; text-decoration-color: #000000; font-weight: bold\">[</span>\n",
       "<span style=\"color: #000000; text-decoration-color: #000000\">            </span><span style=\"color: #000000; text-decoration-color: #000000; font-weight: bold\">{</span><span style=\"color: #008000; text-decoration-color: #008000\">'from'</span><span style=\"color: #000000; text-decoration-color: #000000\">: </span><span style=\"color: #008000; text-decoration-color: #008000\">'human'</span><span style=\"color: #000000; text-decoration-color: #000000\">, </span><span style=\"color: #008000; text-decoration-color: #008000\">'value'</span><span style=\"color: #000000; text-decoration-color: #000000\">: </span><span style=\"color: #008000; text-decoration-color: #008000\">'&lt;image&gt;\\nWhat are the objects and relations you see in this image?'</span><span style=\"color: #000000; text-decoration-color: #000000; font-weight: bold\">}</span><span style=\"color: #000000; text-decoration-color: #000000\">,</span>\n",
       "<span style=\"color: #000000; text-decoration-color: #000000\">            </span><span style=\"color: #000000; text-decoration-color: #000000; font-weight: bold\">{</span>\n",
       "<span style=\"color: #000000; text-decoration-color: #000000\">                </span><span style=\"color: #008000; text-decoration-color: #008000\">'from'</span><span style=\"color: #000000; text-decoration-color: #000000\">: </span><span style=\"color: #008000; text-decoration-color: #008000\">'gpt'</span><span style=\"color: #000000; text-decoration-color: #000000\">,</span>\n",
       "<span style=\"color: #000000; text-decoration-color: #000000\">                </span><span style=\"color: #008000; text-decoration-color: #008000\">'value'</span><span style=\"color: #000000; text-decoration-color: #000000\">: </span><span style=\"color: #008000; text-decoration-color: #008000\">'Device 1: \\npcb in firealarm_back\\nbattery in firealarm_back\\nbattery in pcb\\n'</span>\n",
       "<span style=\"color: #000000; text-decoration-color: #000000\">            </span><span style=\"color: #000000; text-decoration-color: #000000; font-weight: bold\">}</span>\n",
       "<span style=\"color: #000000; text-decoration-color: #000000\">        </span><span style=\"color: #000000; text-decoration-color: #000000; font-weight: bold\">]</span>\n",
       "<span style=\"color: #000000; text-decoration-color: #000000\">    </span><span style=\"color: #000000; text-decoration-color: #000000; font-weight: bold\">}</span><span style=\"color: #000000; text-decoration-color: #000000\">,</span>\n",
       "<span style=\"color: #000000; text-decoration-color: #000000\">    </span><span style=\"color: #000000; text-decoration-color: #000000; font-weight: bold\">{</span>\n",
       "<span style=\"color: #000000; text-decoration-color: #000000\">        </span><span style=\"color: #008000; text-decoration-color: #008000\">'id'</span><span style=\"color: #000000; text-decoration-color: #000000\">: </span><span style=\"color: #008080; text-decoration-color: #008080; font-weight: bold\">81</span><span style=\"color: #000000; text-decoration-color: #000000\">,</span>\n",
       "<span style=\"color: #000000; text-decoration-color: #000000\">        </span><span style=\"color: #008000; text-decoration-color: #008000\">'image'</span><span style=\"color: #000000; text-decoration-color: #000000\">: </span><span style=\"color: #008000; text-decoration-color: #008000\">'images/00000082.jpg'</span><span style=\"color: #000000; text-decoration-color: #000000\">,</span>\n",
       "<span style=\"color: #000000; text-decoration-color: #000000\">        </span><span style=\"color: #008000; text-decoration-color: #008000\">'conversations'</span><span style=\"color: #000000; text-decoration-color: #000000\">: </span><span style=\"color: #000000; text-decoration-color: #000000; font-weight: bold\">[</span>\n",
       "<span style=\"color: #000000; text-decoration-color: #000000\">            </span><span style=\"color: #000000; text-decoration-color: #000000; font-weight: bold\">{</span><span style=\"color: #008000; text-decoration-color: #008000\">'from'</span><span style=\"color: #000000; text-decoration-color: #000000\">: </span><span style=\"color: #008000; text-decoration-color: #008000\">'human'</span><span style=\"color: #000000; text-decoration-color: #000000\">, </span><span style=\"color: #008000; text-decoration-color: #008000\">'value'</span><span style=\"color: #000000; text-decoration-color: #000000\">: </span><span style=\"color: #008000; text-decoration-color: #008000\">'&lt;image&gt;\\nWhat are the objects and relations you see in this image?'</span><span style=\"color: #000000; text-decoration-color: #000000; font-weight: bold\">}</span><span style=\"color: #000000; text-decoration-color: #000000\">,</span>\n",
       "<span style=\"color: #000000; text-decoration-color: #000000\">            </span><span style=\"color: #000000; text-decoration-color: #000000; font-weight: bold\">{</span><span style=\"color: #008000; text-decoration-color: #008000\">'from'</span><span style=\"color: #000000; text-decoration-color: #000000\">: </span><span style=\"color: #008000; text-decoration-color: #008000\">'gpt'</span><span style=\"color: #000000; text-decoration-color: #000000\">, </span><span style=\"color: #008000; text-decoration-color: #008000\">'value'</span><span style=\"color: #000000; text-decoration-color: #000000\">: </span><span style=\"color: #008000; text-decoration-color: #008000\">'Device 1: \\nfirealarm_front\\nDevice 2: \\nfirealarm_back'</span><span style=\"color: #000000; text-decoration-color: #000000; font-weight: bold\">}</span>\n",
       "<span style=\"color: #000000; text-decoration-color: #000000\">        </span><span style=\"color: #000000; text-decoration-color: #000000; font-weight: bold\">]</span>\n",
       "<span style=\"color: #000000; text-decoration-color: #000000\">    </span><span style=\"color: #000000; text-decoration-color: #000000; font-weight: bold\">}</span><span style=\"color: #000000; text-decoration-color: #000000\">,</span>\n",
       "<span style=\"color: #000000; text-decoration-color: #000000\">    </span><span style=\"color: #000000; text-decoration-color: #000000; font-weight: bold\">{</span>\n",
       "<span style=\"color: #000000; text-decoration-color: #000000\">        </span><span style=\"color: #008000; text-decoration-color: #008000\">'id'</span><span style=\"color: #000000; text-decoration-color: #000000\">: </span><span style=\"color: #008080; text-decoration-color: #008080; font-weight: bold\">82</span><span style=\"color: #000000; text-decoration-color: #000000\">,</span>\n",
       "<span style=\"color: #000000; text-decoration-color: #000000\">        </span><span style=\"color: #008000; text-decoration-color: #008000\">'image'</span><span style=\"color: #000000; text-decoration-color: #000000\">: </span><span style=\"color: #008000; text-decoration-color: #008000\">'images/00000083.jpg'</span><span style=\"color: #000000; text-decoration-color: #000000\">,</span>\n",
       "<span style=\"color: #000000; text-decoration-color: #000000\">        </span><span style=\"color: #008000; text-decoration-color: #008000\">'conversations'</span><span style=\"color: #000000; text-decoration-color: #000000\">: </span><span style=\"color: #000000; text-decoration-color: #000000; font-weight: bold\">[</span>\n",
       "<span style=\"color: #000000; text-decoration-color: #000000\">            </span><span style=\"color: #000000; text-decoration-color: #000000; font-weight: bold\">{</span><span style=\"color: #008000; text-decoration-color: #008000\">'from'</span><span style=\"color: #000000; text-decoration-color: #000000\">: </span><span style=\"color: #008000; text-decoration-color: #008000\">'human'</span><span style=\"color: #000000; text-decoration-color: #000000\">, </span><span style=\"color: #008000; text-decoration-color: #008000\">'value'</span><span style=\"color: #000000; text-decoration-color: #000000\">: </span><span style=\"color: #008000; text-decoration-color: #008000\">'&lt;image&gt;\\nWhat are the objects and relations you see in this image?'</span><span style=\"color: #000000; text-decoration-color: #000000; font-weight: bold\">}</span><span style=\"color: #000000; text-decoration-color: #000000\">,</span>\n",
       "<span style=\"color: #000000; text-decoration-color: #000000\">            </span><span style=\"color: #000000; text-decoration-color: #000000; font-weight: bold\">{</span><span style=\"color: #008000; text-decoration-color: #008000\">'from'</span><span style=\"color: #000000; text-decoration-color: #000000\">: </span><span style=\"color: #008000; text-decoration-color: #008000\">'gpt'</span><span style=\"color: #000000; text-decoration-color: #000000\">, </span><span style=\"color: #008000; text-decoration-color: #008000\">'value'</span><span style=\"color: #000000; text-decoration-color: #000000\">: </span><span style=\"color: #008000; text-decoration-color: #008000\">'Device 1: \\nfirealarm_back'</span><span style=\"color: #000000; text-decoration-color: #000000; font-weight: bold\">}</span>\n",
       "<span style=\"color: #000000; text-decoration-color: #000000\">        </span><span style=\"color: #000000; text-decoration-color: #000000; font-weight: bold\">]</span>\n",
       "<span style=\"color: #000000; text-decoration-color: #000000\">    </span><span style=\"color: #000000; text-decoration-color: #000000; font-weight: bold\">}</span><span style=\"color: #000000; text-decoration-color: #000000\">,</span>\n",
       "<span style=\"color: #000000; text-decoration-color: #000000\">    </span><span style=\"color: #000000; text-decoration-color: #000000; font-weight: bold\">{</span>\n",
       "<span style=\"color: #000000; text-decoration-color: #000000\">        </span><span style=\"color: #008000; text-decoration-color: #008000\">'id'</span><span style=\"color: #000000; text-decoration-color: #000000\">: </span><span style=\"color: #008080; text-decoration-color: #008080; font-weight: bold\">83</span><span style=\"color: #000000; text-decoration-color: #000000\">,</span>\n",
       "<span style=\"color: #000000; text-decoration-color: #000000\">        </span><span style=\"color: #008000; text-decoration-color: #008000\">'image'</span><span style=\"color: #000000; text-decoration-color: #000000\">: </span><span style=\"color: #008000; text-decoration-color: #008000\">'images/00000084.jpg'</span><span style=\"color: #000000; text-decoration-color: #000000\">,</span>\n",
       "<span style=\"color: #000000; text-decoration-color: #000000\">        </span><span style=\"color: #008000; text-decoration-color: #008000\">'conversations'</span><span style=\"color: #000000; text-decoration-color: #000000\">: </span><span style=\"color: #000000; text-decoration-color: #000000; font-weight: bold\">[</span>\n",
       "<span style=\"color: #000000; text-decoration-color: #000000\">            </span><span style=\"color: #000000; text-decoration-color: #000000; font-weight: bold\">{</span><span style=\"color: #008000; text-decoration-color: #008000\">'from'</span><span style=\"color: #000000; text-decoration-color: #000000\">: </span><span style=\"color: #008000; text-decoration-color: #008000\">'human'</span><span style=\"color: #000000; text-decoration-color: #000000\">, </span><span style=\"color: #008000; text-decoration-color: #008000\">'value'</span><span style=\"color: #000000; text-decoration-color: #000000\">: </span><span style=\"color: #008000; text-decoration-color: #008000\">'&lt;image&gt;\\nWhat are the objects and relations you see in this image?'</span><span style=\"color: #000000; text-decoration-color: #000000; font-weight: bold\">}</span><span style=\"color: #000000; text-decoration-color: #000000\">,</span>\n",
       "<span style=\"color: #000000; text-decoration-color: #000000\">            </span><span style=\"color: #000000; text-decoration-color: #000000; font-weight: bold\">{</span>\n",
       "<span style=\"color: #000000; text-decoration-color: #000000\">                </span><span style=\"color: #008000; text-decoration-color: #008000\">'from'</span><span style=\"color: #000000; text-decoration-color: #000000\">: </span><span style=\"color: #008000; text-decoration-color: #008000\">'gpt'</span><span style=\"color: #000000; text-decoration-color: #000000\">,</span>\n",
       "<span style=\"color: #000000; text-decoration-color: #000000\">                </span><span style=\"color: #008000; text-decoration-color: #008000\">'value'</span><span style=\"color: #000000; text-decoration-color: #000000\">: </span><span style=\"color: #008000; text-decoration-color: #008000\">'Device 1: \\npcb in hca_back\\nbattery in hca_back\\npcb next to battery\\nbattery next to </span>\n",
       "<span style=\"color: #008000; text-decoration-color: #008000\">pcb\\n\\nDevice 2: \\npcb_covered in hca_back\\n'</span>\n",
       "<span style=\"color: #000000; text-decoration-color: #000000\">            </span><span style=\"color: #000000; text-decoration-color: #000000; font-weight: bold\">}</span>\n",
       "<span style=\"color: #000000; text-decoration-color: #000000\">        </span><span style=\"color: #000000; text-decoration-color: #000000; font-weight: bold\">]</span>\n",
       "<span style=\"color: #000000; text-decoration-color: #000000\">    </span><span style=\"color: #000000; text-decoration-color: #000000; font-weight: bold\">}</span><span style=\"color: #000000; text-decoration-color: #000000\">,</span>\n",
       "<span style=\"color: #000000; text-decoration-color: #000000\">    </span><span style=\"color: #000000; text-decoration-color: #000000; font-weight: bold\">{</span>\n",
       "<span style=\"color: #000000; text-decoration-color: #000000\">        </span><span style=\"color: #008000; text-decoration-color: #008000\">'id'</span><span style=\"color: #000000; text-decoration-color: #000000\">: </span><span style=\"color: #008080; text-decoration-color: #008080; font-weight: bold\">84</span><span style=\"color: #000000; text-decoration-color: #000000\">,</span>\n",
       "<span style=\"color: #000000; text-decoration-color: #000000\">        </span><span style=\"color: #008000; text-decoration-color: #008000\">'image'</span><span style=\"color: #000000; text-decoration-color: #000000\">: </span><span style=\"color: #008000; text-decoration-color: #008000\">'images/00000085.jpg'</span><span style=\"color: #000000; text-decoration-color: #000000\">,</span>\n",
       "<span style=\"color: #000000; text-decoration-color: #000000\">        </span><span style=\"color: #008000; text-decoration-color: #008000\">'conversations'</span><span style=\"color: #000000; text-decoration-color: #000000\">: </span><span style=\"color: #000000; text-decoration-color: #000000; font-weight: bold\">[</span>\n",
       "<span style=\"color: #000000; text-decoration-color: #000000\">            </span><span style=\"color: #000000; text-decoration-color: #000000; font-weight: bold\">{</span><span style=\"color: #008000; text-decoration-color: #008000\">'from'</span><span style=\"color: #000000; text-decoration-color: #000000\">: </span><span style=\"color: #008000; text-decoration-color: #008000\">'human'</span><span style=\"color: #000000; text-decoration-color: #000000\">, </span><span style=\"color: #008000; text-decoration-color: #008000\">'value'</span><span style=\"color: #000000; text-decoration-color: #000000\">: </span><span style=\"color: #008000; text-decoration-color: #008000\">'&lt;image&gt;\\nWhat are the objects and relations you see in this image?'</span><span style=\"color: #000000; text-decoration-color: #000000; font-weight: bold\">}</span><span style=\"color: #000000; text-decoration-color: #000000\">,</span>\n",
       "<span style=\"color: #000000; text-decoration-color: #000000\">            </span><span style=\"color: #000000; text-decoration-color: #000000; font-weight: bold\">{</span><span style=\"color: #008000; text-decoration-color: #008000\">'from'</span><span style=\"color: #000000; text-decoration-color: #000000\">: </span><span style=\"color: #008000; text-decoration-color: #008000\">'gpt'</span><span style=\"color: #000000; text-decoration-color: #000000\">, </span><span style=\"color: #008000; text-decoration-color: #008000\">'value'</span><span style=\"color: #000000; text-decoration-color: #000000\">: </span><span style=\"color: #008000; text-decoration-color: #008000\">'Device 1: \\npcb_covered in hca_back\\n'</span><span style=\"color: #000000; text-decoration-color: #000000; font-weight: bold\">}</span>\n",
       "<span style=\"color: #000000; text-decoration-color: #000000\">        </span><span style=\"color: #000000; text-decoration-color: #000000; font-weight: bold\">]</span>\n",
       "<span style=\"color: #000000; text-decoration-color: #000000\">    </span><span style=\"color: #000000; text-decoration-color: #000000; font-weight: bold\">}</span><span style=\"color: #000000; text-decoration-color: #000000\">,</span>\n",
       "<span style=\"color: #000000; text-decoration-color: #000000\">    </span><span style=\"color: #000000; text-decoration-color: #000000; font-weight: bold\">{</span>\n",
       "<span style=\"color: #000000; text-decoration-color: #000000\">        </span><span style=\"color: #008000; text-decoration-color: #008000\">'id'</span><span style=\"color: #000000; text-decoration-color: #000000\">: </span><span style=\"color: #008080; text-decoration-color: #008080; font-weight: bold\">85</span><span style=\"color: #000000; text-decoration-color: #000000\">,</span>\n",
       "<span style=\"color: #000000; text-decoration-color: #000000\">        </span><span style=\"color: #008000; text-decoration-color: #008000\">'image'</span><span style=\"color: #000000; text-decoration-color: #000000\">: </span><span style=\"color: #008000; text-decoration-color: #008000\">'images/00000086.jpg'</span><span style=\"color: #000000; text-decoration-color: #000000\">,</span>\n",
       "<span style=\"color: #000000; text-decoration-color: #000000\">        </span><span style=\"color: #008000; text-decoration-color: #008000\">'conversations'</span><span style=\"color: #000000; text-decoration-color: #000000\">: </span><span style=\"color: #000000; text-decoration-color: #000000; font-weight: bold\">[</span>\n",
       "<span style=\"color: #000000; text-decoration-color: #000000\">            </span><span style=\"color: #000000; text-decoration-color: #000000; font-weight: bold\">{</span><span style=\"color: #008000; text-decoration-color: #008000\">'from'</span><span style=\"color: #000000; text-decoration-color: #000000\">: </span><span style=\"color: #008000; text-decoration-color: #008000\">'human'</span><span style=\"color: #000000; text-decoration-color: #000000\">, </span><span style=\"color: #008000; text-decoration-color: #008000\">'value'</span><span style=\"color: #000000; text-decoration-color: #000000\">: </span><span style=\"color: #008000; text-decoration-color: #008000\">'&lt;image&gt;\\nWhat are the objects and relations you see in this image?'</span><span style=\"color: #000000; text-decoration-color: #000000; font-weight: bold\">}</span><span style=\"color: #000000; text-decoration-color: #000000\">,</span>\n",
       "<span style=\"color: #000000; text-decoration-color: #000000\">            </span><span style=\"color: #000000; text-decoration-color: #000000; font-weight: bold\">{</span>\n",
       "<span style=\"color: #000000; text-decoration-color: #000000\">                </span><span style=\"color: #008000; text-decoration-color: #008000\">'from'</span><span style=\"color: #000000; text-decoration-color: #000000\">: </span><span style=\"color: #008000; text-decoration-color: #008000\">'gpt'</span><span style=\"color: #000000; text-decoration-color: #000000\">,</span>\n",
       "<span style=\"color: #000000; text-decoration-color: #000000\">                </span><span style=\"color: #008000; text-decoration-color: #008000\">'value'</span><span style=\"color: #000000; text-decoration-color: #000000\">: </span><span style=\"color: #008000; text-decoration-color: #008000\">'Device 1: \\ninternals in hca_back\\n\\nDevice 2: \\nbattery_covered in firealarm_back\\n'</span>\n",
       "<span style=\"color: #000000; text-decoration-color: #000000\">            </span><span style=\"color: #000000; text-decoration-color: #000000; font-weight: bold\">}</span>\n",
       "<span style=\"color: #000000; text-decoration-color: #000000\">        </span><span style=\"color: #000000; text-decoration-color: #000000; font-weight: bold\">]</span>\n",
       "<span style=\"color: #000000; text-decoration-color: #000000\">    </span><span style=\"color: #000000; text-decoration-color: #000000; font-weight: bold\">}</span><span style=\"color: #000000; text-decoration-color: #000000\">,</span>\n",
       "<span style=\"color: #000000; text-decoration-color: #000000\">    </span><span style=\"color: #000000; text-decoration-color: #000000; font-weight: bold\">{</span>\n",
       "<span style=\"color: #000000; text-decoration-color: #000000\">        </span><span style=\"color: #008000; text-decoration-color: #008000\">'id'</span><span style=\"color: #000000; text-decoration-color: #000000\">: </span><span style=\"color: #008080; text-decoration-color: #008080; font-weight: bold\">86</span><span style=\"color: #000000; text-decoration-color: #000000\">,</span>\n",
       "<span style=\"color: #000000; text-decoration-color: #000000\">        </span><span style=\"color: #008000; text-decoration-color: #008000\">'image'</span><span style=\"color: #000000; text-decoration-color: #000000\">: </span><span style=\"color: #008000; text-decoration-color: #008000\">'images/00000087.jpg'</span><span style=\"color: #000000; text-decoration-color: #000000\">,</span>\n",
       "<span style=\"color: #000000; text-decoration-color: #000000\">        </span><span style=\"color: #008000; text-decoration-color: #008000\">'conversations'</span><span style=\"color: #000000; text-decoration-color: #000000\">: </span><span style=\"color: #000000; text-decoration-color: #000000; font-weight: bold\">[</span>\n",
       "<span style=\"color: #000000; text-decoration-color: #000000\">            </span><span style=\"color: #000000; text-decoration-color: #000000; font-weight: bold\">{</span><span style=\"color: #008000; text-decoration-color: #008000\">'from'</span><span style=\"color: #000000; text-decoration-color: #000000\">: </span><span style=\"color: #008000; text-decoration-color: #008000\">'human'</span><span style=\"color: #000000; text-decoration-color: #000000\">, </span><span style=\"color: #008000; text-decoration-color: #008000\">'value'</span><span style=\"color: #000000; text-decoration-color: #000000\">: </span><span style=\"color: #008000; text-decoration-color: #008000\">'&lt;image&gt;\\nWhat are the objects and relations you see in this image?'</span><span style=\"color: #000000; text-decoration-color: #000000; font-weight: bold\">}</span><span style=\"color: #000000; text-decoration-color: #000000\">,</span>\n",
       "<span style=\"color: #000000; text-decoration-color: #000000\">            </span><span style=\"color: #000000; text-decoration-color: #000000; font-weight: bold\">{</span>\n",
       "<span style=\"color: #000000; text-decoration-color: #000000\">                </span><span style=\"color: #008000; text-decoration-color: #008000\">'from'</span><span style=\"color: #000000; text-decoration-color: #000000\">: </span><span style=\"color: #008000; text-decoration-color: #008000\">'gpt'</span><span style=\"color: #000000; text-decoration-color: #000000\">,</span>\n",
       "<span style=\"color: #000000; text-decoration-color: #000000\">                </span><span style=\"color: #008000; text-decoration-color: #008000\">'value'</span><span style=\"color: #000000; text-decoration-color: #000000\">: </span><span style=\"color: #008000; text-decoration-color: #008000\">'Device 1: \\npcb in internals\\npcb in internals\\nbattery in internals\\ninternals next to </span>\n",
       "<span style=\"color: #008000; text-decoration-color: #008000\">firealarm_back\\nfirealarm_back next to internals\\npcb next to battery\\nbattery next to pcb\\npcb next to </span>\n",
       "<span style=\"color: #008000; text-decoration-color: #008000\">firealarm_back\\nfirealarm_back next to pcb\\nbattery next to firealarm_back\\nfirealarm_back next to battery\\n'</span>\n",
       "<span style=\"color: #000000; text-decoration-color: #000000\">            </span><span style=\"color: #000000; text-decoration-color: #000000; font-weight: bold\">}</span>\n",
       "<span style=\"color: #000000; text-decoration-color: #000000\">        </span><span style=\"color: #000000; text-decoration-color: #000000; font-weight: bold\">]</span>\n",
       "<span style=\"color: #000000; text-decoration-color: #000000\">    </span><span style=\"color: #000000; text-decoration-color: #000000; font-weight: bold\">}</span><span style=\"color: #000000; text-decoration-color: #000000\">,</span>\n",
       "<span style=\"color: #000000; text-decoration-color: #000000\">    </span><span style=\"color: #000000; text-decoration-color: #000000; font-weight: bold\">{</span>\n",
       "<span style=\"color: #000000; text-decoration-color: #000000\">        </span><span style=\"color: #008000; text-decoration-color: #008000\">'id'</span><span style=\"color: #000000; text-decoration-color: #000000\">: </span><span style=\"color: #008080; text-decoration-color: #008080; font-weight: bold\">87</span><span style=\"color: #000000; text-decoration-color: #000000\">,</span>\n",
       "<span style=\"color: #000000; text-decoration-color: #000000\">        </span><span style=\"color: #008000; text-decoration-color: #008000\">'image'</span><span style=\"color: #000000; text-decoration-color: #000000\">: </span><span style=\"color: #008000; text-decoration-color: #008000\">'images/00000088.jpg'</span><span style=\"color: #000000; text-decoration-color: #000000\">,</span>\n",
       "<span style=\"color: #000000; text-decoration-color: #000000\">        </span><span style=\"color: #008000; text-decoration-color: #008000\">'conversations'</span><span style=\"color: #000000; text-decoration-color: #000000\">: </span><span style=\"color: #000000; text-decoration-color: #000000; font-weight: bold\">[</span>\n",
       "<span style=\"color: #000000; text-decoration-color: #000000\">            </span><span style=\"color: #000000; text-decoration-color: #000000; font-weight: bold\">{</span><span style=\"color: #008000; text-decoration-color: #008000\">'from'</span><span style=\"color: #000000; text-decoration-color: #000000\">: </span><span style=\"color: #008000; text-decoration-color: #008000\">'human'</span><span style=\"color: #000000; text-decoration-color: #000000\">, </span><span style=\"color: #008000; text-decoration-color: #008000\">'value'</span><span style=\"color: #000000; text-decoration-color: #000000\">: </span><span style=\"color: #008000; text-decoration-color: #008000\">'&lt;image&gt;\\nWhat are the objects and relations you see in this image?'</span><span style=\"color: #000000; text-decoration-color: #000000; font-weight: bold\">}</span><span style=\"color: #000000; text-decoration-color: #000000\">,</span>\n",
       "<span style=\"color: #000000; text-decoration-color: #000000\">            </span><span style=\"color: #000000; text-decoration-color: #000000; font-weight: bold\">{</span><span style=\"color: #008000; text-decoration-color: #008000\">'from'</span><span style=\"color: #000000; text-decoration-color: #000000\">: </span><span style=\"color: #008000; text-decoration-color: #008000\">'gpt'</span><span style=\"color: #000000; text-decoration-color: #000000\">, </span><span style=\"color: #008000; text-decoration-color: #008000\">'value'</span><span style=\"color: #000000; text-decoration-color: #000000\">: </span><span style=\"color: #008000; text-decoration-color: #008000\">'Device 1: \\npcb_covered in hca_back\\n'</span><span style=\"color: #000000; text-decoration-color: #000000; font-weight: bold\">}</span>\n",
       "<span style=\"color: #000000; text-decoration-color: #000000\">        </span><span style=\"color: #000000; text-decoration-color: #000000; font-weight: bold\">]</span>\n",
       "<span style=\"color: #000000; text-decoration-color: #000000\">    </span><span style=\"color: #000000; text-decoration-color: #000000; font-weight: bold\">}</span><span style=\"color: #000000; text-decoration-color: #000000\">,</span>\n",
       "<span style=\"color: #000000; text-decoration-color: #000000\">    </span><span style=\"color: #000000; text-decoration-color: #000000; font-weight: bold\">{</span>\n",
       "<span style=\"color: #000000; text-decoration-color: #000000\">        </span><span style=\"color: #008000; text-decoration-color: #008000\">'id'</span><span style=\"color: #000000; text-decoration-color: #000000\">: </span><span style=\"color: #008080; text-decoration-color: #008080; font-weight: bold\">88</span><span style=\"color: #000000; text-decoration-color: #000000\">,</span>\n",
       "<span style=\"color: #000000; text-decoration-color: #000000\">        </span><span style=\"color: #008000; text-decoration-color: #008000\">'image'</span><span style=\"color: #000000; text-decoration-color: #000000\">: </span><span style=\"color: #008000; text-decoration-color: #008000\">'images/00000089.jpg'</span><span style=\"color: #000000; text-decoration-color: #000000\">,</span>\n",
       "<span style=\"color: #000000; text-decoration-color: #000000\">        </span><span style=\"color: #008000; text-decoration-color: #008000\">'conversations'</span><span style=\"color: #000000; text-decoration-color: #000000\">: </span><span style=\"color: #000000; text-decoration-color: #000000; font-weight: bold\">[</span>\n",
       "<span style=\"color: #000000; text-decoration-color: #000000\">            </span><span style=\"color: #000000; text-decoration-color: #000000; font-weight: bold\">{</span><span style=\"color: #008000; text-decoration-color: #008000\">'from'</span><span style=\"color: #000000; text-decoration-color: #000000\">: </span><span style=\"color: #008000; text-decoration-color: #008000\">'human'</span><span style=\"color: #000000; text-decoration-color: #000000\">, </span><span style=\"color: #008000; text-decoration-color: #008000\">'value'</span><span style=\"color: #000000; text-decoration-color: #000000\">: </span><span style=\"color: #008000; text-decoration-color: #008000\">'&lt;image&gt;\\nWhat are the objects and relations you see in this image?'</span><span style=\"color: #000000; text-decoration-color: #000000; font-weight: bold\">}</span><span style=\"color: #000000; text-decoration-color: #000000\">,</span>\n",
       "<span style=\"color: #000000; text-decoration-color: #000000\">            </span><span style=\"color: #000000; text-decoration-color: #000000; font-weight: bold\">{</span>\n",
       "<span style=\"color: #000000; text-decoration-color: #000000\">                </span><span style=\"color: #008000; text-decoration-color: #008000\">'from'</span><span style=\"color: #000000; text-decoration-color: #000000\">: </span><span style=\"color: #008000; text-decoration-color: #008000\">'gpt'</span><span style=\"color: #000000; text-decoration-color: #000000\">,</span>\n",
       "<span style=\"color: #000000; text-decoration-color: #000000\">                </span><span style=\"color: #008000; text-decoration-color: #008000\">'value'</span><span style=\"color: #000000; text-decoration-color: #000000\">: </span><span style=\"color: #008000; text-decoration-color: #008000\">'Device 1: \\npcb in firealarm_back\\nbattery in firealarm_back\\nbattery in pcb\\n'</span>\n",
       "<span style=\"color: #000000; text-decoration-color: #000000\">            </span><span style=\"color: #000000; text-decoration-color: #000000; font-weight: bold\">}</span>\n",
       "<span style=\"color: #000000; text-decoration-color: #000000\">        </span><span style=\"color: #000000; text-decoration-color: #000000; font-weight: bold\">]</span>\n",
       "<span style=\"color: #000000; text-decoration-color: #000000\">    </span><span style=\"color: #000000; text-decoration-color: #000000; font-weight: bold\">}</span><span style=\"color: #000000; text-decoration-color: #000000\">,</span>\n",
       "<span style=\"color: #000000; text-decoration-color: #000000\">    </span><span style=\"color: #000000; text-decoration-color: #000000; font-weight: bold\">{</span>\n",
       "<span style=\"color: #000000; text-decoration-color: #000000\">        </span><span style=\"color: #008000; text-decoration-color: #008000\">'id'</span><span style=\"color: #000000; text-decoration-color: #000000\">: </span><span style=\"color: #008080; text-decoration-color: #008080; font-weight: bold\">89</span><span style=\"color: #000000; text-decoration-color: #000000\">,</span>\n",
       "<span style=\"color: #000000; text-decoration-color: #000000\">        </span><span style=\"color: #008000; text-decoration-color: #008000\">'image'</span><span style=\"color: #000000; text-decoration-color: #000000\">: </span><span style=\"color: #008000; text-decoration-color: #008000\">'images/00000090.jpg'</span><span style=\"color: #000000; text-decoration-color: #000000\">,</span>\n",
       "<span style=\"color: #000000; text-decoration-color: #000000\">        </span><span style=\"color: #008000; text-decoration-color: #008000\">'conversations'</span><span style=\"color: #000000; text-decoration-color: #000000\">: </span><span style=\"color: #000000; text-decoration-color: #000000; font-weight: bold\">[</span>\n",
       "<span style=\"color: #000000; text-decoration-color: #000000\">            </span><span style=\"color: #000000; text-decoration-color: #000000; font-weight: bold\">{</span><span style=\"color: #008000; text-decoration-color: #008000\">'from'</span><span style=\"color: #000000; text-decoration-color: #000000\">: </span><span style=\"color: #008000; text-decoration-color: #008000\">'human'</span><span style=\"color: #000000; text-decoration-color: #000000\">, </span><span style=\"color: #008000; text-decoration-color: #008000\">'value'</span><span style=\"color: #000000; text-decoration-color: #000000\">: </span><span style=\"color: #008000; text-decoration-color: #008000\">'&lt;image&gt;\\nWhat are the objects and relations you see in this image?'</span><span style=\"color: #000000; text-decoration-color: #000000; font-weight: bold\">}</span><span style=\"color: #000000; text-decoration-color: #000000\">,</span>\n",
       "<span style=\"color: #000000; text-decoration-color: #000000\">            </span><span style=\"color: #000000; text-decoration-color: #000000; font-weight: bold\">{</span>\n",
       "<span style=\"color: #000000; text-decoration-color: #000000\">                </span><span style=\"color: #008000; text-decoration-color: #008000\">'from'</span><span style=\"color: #000000; text-decoration-color: #000000\">: </span><span style=\"color: #008000; text-decoration-color: #008000\">'gpt'</span><span style=\"color: #000000; text-decoration-color: #000000\">,</span>\n",
       "<span style=\"color: #000000; text-decoration-color: #000000\">                </span><span style=\"color: #008000; text-decoration-color: #008000\">'value'</span><span style=\"color: #000000; text-decoration-color: #000000\">: </span><span style=\"color: #008000; text-decoration-color: #008000\">'Device 1: \\npcb in firealarm_back\\nbattery in firealarm_back\\nbattery in </span>\n",
       "<span style=\"color: #008000; text-decoration-color: #008000\">firealarm_back\\nbattery in pcb\\nbattery in pcb\\n\\nDevice 2: \\nfirealarm_back'</span>\n",
       "<span style=\"color: #000000; text-decoration-color: #000000\">            </span><span style=\"color: #000000; text-decoration-color: #000000; font-weight: bold\">}</span>\n",
       "<span style=\"color: #000000; text-decoration-color: #000000\">        </span><span style=\"color: #000000; text-decoration-color: #000000; font-weight: bold\">]</span>\n",
       "<span style=\"color: #000000; text-decoration-color: #000000\">    </span><span style=\"color: #000000; text-decoration-color: #000000; font-weight: bold\">}</span><span style=\"color: #000000; text-decoration-color: #000000\">,</span>\n",
       "<span style=\"color: #000000; text-decoration-color: #000000\">    </span><span style=\"color: #000000; text-decoration-color: #000000; font-weight: bold\">{</span>\n",
       "<span style=\"color: #000000; text-decoration-color: #000000\">        </span><span style=\"color: #008000; text-decoration-color: #008000\">'id'</span><span style=\"color: #000000; text-decoration-color: #000000\">: </span><span style=\"color: #008080; text-decoration-color: #008080; font-weight: bold\">90</span><span style=\"color: #000000; text-decoration-color: #000000\">,</span>\n",
       "<span style=\"color: #000000; text-decoration-color: #000000\">        </span><span style=\"color: #008000; text-decoration-color: #008000\">'image'</span><span style=\"color: #000000; text-decoration-color: #000000\">: </span><span style=\"color: #008000; text-decoration-color: #008000\">'images/00000091.jpg'</span><span style=\"color: #000000; text-decoration-color: #000000\">,</span>\n",
       "<span style=\"color: #000000; text-decoration-color: #000000\">        </span><span style=\"color: #008000; text-decoration-color: #008000\">'conversations'</span><span style=\"color: #000000; text-decoration-color: #000000\">: </span><span style=\"color: #000000; text-decoration-color: #000000; font-weight: bold\">[</span>\n",
       "<span style=\"color: #000000; text-decoration-color: #000000\">            </span><span style=\"color: #000000; text-decoration-color: #000000; font-weight: bold\">{</span><span style=\"color: #008000; text-decoration-color: #008000\">'from'</span><span style=\"color: #000000; text-decoration-color: #000000\">: </span><span style=\"color: #008000; text-decoration-color: #008000\">'human'</span><span style=\"color: #000000; text-decoration-color: #000000\">, </span><span style=\"color: #008000; text-decoration-color: #008000\">'value'</span><span style=\"color: #000000; text-decoration-color: #000000\">: </span><span style=\"color: #008000; text-decoration-color: #008000\">'&lt;image&gt;\\nWhat are the objects and relations you see in this image?'</span><span style=\"color: #000000; text-decoration-color: #000000; font-weight: bold\">}</span><span style=\"color: #000000; text-decoration-color: #000000\">,</span>\n",
       "<span style=\"color: #000000; text-decoration-color: #000000\">            </span><span style=\"color: #000000; text-decoration-color: #000000; font-weight: bold\">{</span><span style=\"color: #008000; text-decoration-color: #008000\">'from'</span><span style=\"color: #000000; text-decoration-color: #000000\">: </span><span style=\"color: #008000; text-decoration-color: #008000\">'gpt'</span><span style=\"color: #000000; text-decoration-color: #000000\">, </span><span style=\"color: #008000; text-decoration-color: #008000\">'value'</span><span style=\"color: #000000; text-decoration-color: #000000\">: </span><span style=\"color: #008000; text-decoration-color: #008000\">'Device 1: \\nbattery_covered in firealarm_back\\n'</span><span style=\"color: #000000; text-decoration-color: #000000; font-weight: bold\">}</span>\n",
       "<span style=\"color: #000000; text-decoration-color: #000000\">        </span><span style=\"color: #000000; text-decoration-color: #000000; font-weight: bold\">]</span>\n",
       "<span style=\"color: #000000; text-decoration-color: #000000\">    </span><span style=\"color: #000000; text-decoration-color: #000000; font-weight: bold\">}</span><span style=\"color: #000000; text-decoration-color: #000000\">,</span>\n",
       "<span style=\"color: #000000; text-decoration-color: #000000\">    </span><span style=\"color: #000000; text-decoration-color: #000000; font-weight: bold\">{</span>\n",
       "<span style=\"color: #000000; text-decoration-color: #000000\">        </span><span style=\"color: #008000; text-decoration-color: #008000\">'id'</span><span style=\"color: #000000; text-decoration-color: #000000\">: </span><span style=\"color: #008080; text-decoration-color: #008080; font-weight: bold\">91</span><span style=\"color: #000000; text-decoration-color: #000000\">,</span>\n",
       "<span style=\"color: #000000; text-decoration-color: #000000\">        </span><span style=\"color: #008000; text-decoration-color: #008000\">'image'</span><span style=\"color: #000000; text-decoration-color: #000000\">: </span><span style=\"color: #008000; text-decoration-color: #008000\">'images/00000092.jpg'</span><span style=\"color: #000000; text-decoration-color: #000000\">,</span>\n",
       "<span style=\"color: #000000; text-decoration-color: #000000\">        </span><span style=\"color: #008000; text-decoration-color: #008000\">'conversations'</span><span style=\"color: #000000; text-decoration-color: #000000\">: </span><span style=\"color: #000000; text-decoration-color: #000000; font-weight: bold\">[</span>\n",
       "<span style=\"color: #000000; text-decoration-color: #000000\">            </span><span style=\"color: #000000; text-decoration-color: #000000; font-weight: bold\">{</span><span style=\"color: #008000; text-decoration-color: #008000\">'from'</span><span style=\"color: #000000; text-decoration-color: #000000\">: </span><span style=\"color: #008000; text-decoration-color: #008000\">'human'</span><span style=\"color: #000000; text-decoration-color: #000000\">, </span><span style=\"color: #008000; text-decoration-color: #008000\">'value'</span><span style=\"color: #000000; text-decoration-color: #000000\">: </span><span style=\"color: #008000; text-decoration-color: #008000\">'&lt;image&gt;\\nWhat are the objects and relations you see in this image?'</span><span style=\"color: #000000; text-decoration-color: #000000; font-weight: bold\">}</span><span style=\"color: #000000; text-decoration-color: #000000\">,</span>\n",
       "<span style=\"color: #000000; text-decoration-color: #000000\">            </span><span style=\"color: #000000; text-decoration-color: #000000; font-weight: bold\">{</span><span style=\"color: #008000; text-decoration-color: #008000\">'from'</span><span style=\"color: #000000; text-decoration-color: #000000\">: </span><span style=\"color: #008000; text-decoration-color: #008000\">'gpt'</span><span style=\"color: #000000; text-decoration-color: #000000\">, </span><span style=\"color: #008000; text-decoration-color: #008000\">'value'</span><span style=\"color: #000000; text-decoration-color: #000000\">: </span><span style=\"color: #008000; text-decoration-color: #008000\">'Device 1: \\nfirealarm_front'</span><span style=\"color: #000000; text-decoration-color: #000000; font-weight: bold\">}</span>\n",
       "<span style=\"color: #000000; text-decoration-color: #000000\">        </span><span style=\"color: #000000; text-decoration-color: #000000; font-weight: bold\">]</span>\n",
       "<span style=\"color: #000000; text-decoration-color: #000000\">    </span><span style=\"color: #000000; text-decoration-color: #000000; font-weight: bold\">}</span><span style=\"color: #000000; text-decoration-color: #000000\">,</span>\n",
       "<span style=\"color: #000000; text-decoration-color: #000000\">    </span><span style=\"color: #000000; text-decoration-color: #000000; font-weight: bold\">{</span>\n",
       "<span style=\"color: #000000; text-decoration-color: #000000\">        </span><span style=\"color: #008000; text-decoration-color: #008000\">'id'</span><span style=\"color: #000000; text-decoration-color: #000000\">: </span><span style=\"color: #008080; text-decoration-color: #008080; font-weight: bold\">92</span><span style=\"color: #000000; text-decoration-color: #000000\">,</span>\n",
       "<span style=\"color: #000000; text-decoration-color: #000000\">        </span><span style=\"color: #008000; text-decoration-color: #008000\">'image'</span><span style=\"color: #000000; text-decoration-color: #000000\">: </span><span style=\"color: #008000; text-decoration-color: #008000\">'images/00000093.jpg'</span><span style=\"color: #000000; text-decoration-color: #000000\">,</span>\n",
       "<span style=\"color: #000000; text-decoration-color: #000000\">        </span><span style=\"color: #008000; text-decoration-color: #008000\">'conversations'</span><span style=\"color: #000000; text-decoration-color: #000000\">: </span><span style=\"color: #000000; text-decoration-color: #000000; font-weight: bold\">[</span>\n",
       "<span style=\"color: #000000; text-decoration-color: #000000\">            </span><span style=\"color: #000000; text-decoration-color: #000000; font-weight: bold\">{</span><span style=\"color: #008000; text-decoration-color: #008000\">'from'</span><span style=\"color: #000000; text-decoration-color: #000000\">: </span><span style=\"color: #008000; text-decoration-color: #008000\">'human'</span><span style=\"color: #000000; text-decoration-color: #000000\">, </span><span style=\"color: #008000; text-decoration-color: #008000\">'value'</span><span style=\"color: #000000; text-decoration-color: #000000\">: </span><span style=\"color: #008000; text-decoration-color: #008000\">'&lt;image&gt;\\nWhat are the objects and relations you see in this image?'</span><span style=\"color: #000000; text-decoration-color: #000000; font-weight: bold\">}</span><span style=\"color: #000000; text-decoration-color: #000000\">,</span>\n",
       "<span style=\"color: #000000; text-decoration-color: #000000\">            </span><span style=\"color: #000000; text-decoration-color: #000000; font-weight: bold\">{</span><span style=\"color: #008000; text-decoration-color: #008000\">'from'</span><span style=\"color: #000000; text-decoration-color: #000000\">: </span><span style=\"color: #008000; text-decoration-color: #008000\">'gpt'</span><span style=\"color: #000000; text-decoration-color: #000000\">, </span><span style=\"color: #008000; text-decoration-color: #008000\">'value'</span><span style=\"color: #000000; text-decoration-color: #000000\">: </span><span style=\"color: #008000; text-decoration-color: #008000\">'Device 1: \\nfirealarm_back'</span><span style=\"color: #000000; text-decoration-color: #000000; font-weight: bold\">}</span>\n",
       "<span style=\"color: #000000; text-decoration-color: #000000\">        </span><span style=\"color: #000000; text-decoration-color: #000000; font-weight: bold\">]</span>\n",
       "<span style=\"color: #000000; text-decoration-color: #000000\">    </span><span style=\"color: #000000; text-decoration-color: #000000; font-weight: bold\">}</span><span style=\"color: #000000; text-decoration-color: #000000\">,</span>\n",
       "<span style=\"color: #000000; text-decoration-color: #000000\">    </span><span style=\"color: #000000; text-decoration-color: #000000; font-weight: bold\">{</span>\n",
       "<span style=\"color: #000000; text-decoration-color: #000000\">        </span><span style=\"color: #008000; text-decoration-color: #008000\">'id'</span><span style=\"color: #000000; text-decoration-color: #000000\">: </span><span style=\"color: #008080; text-decoration-color: #008080; font-weight: bold\">93</span><span style=\"color: #000000; text-decoration-color: #000000\">,</span>\n",
       "<span style=\"color: #000000; text-decoration-color: #000000\">        </span><span style=\"color: #008000; text-decoration-color: #008000\">'image'</span><span style=\"color: #000000; text-decoration-color: #000000\">: </span><span style=\"color: #008000; text-decoration-color: #008000\">'images/00000094.jpg'</span><span style=\"color: #000000; text-decoration-color: #000000\">,</span>\n",
       "<span style=\"color: #000000; text-decoration-color: #000000\">        </span><span style=\"color: #008000; text-decoration-color: #008000\">'conversations'</span><span style=\"color: #000000; text-decoration-color: #000000\">: </span><span style=\"color: #000000; text-decoration-color: #000000; font-weight: bold\">[</span>\n",
       "<span style=\"color: #000000; text-decoration-color: #000000\">            </span><span style=\"color: #000000; text-decoration-color: #000000; font-weight: bold\">{</span><span style=\"color: #008000; text-decoration-color: #008000\">'from'</span><span style=\"color: #000000; text-decoration-color: #000000\">: </span><span style=\"color: #008000; text-decoration-color: #008000\">'human'</span><span style=\"color: #000000; text-decoration-color: #000000\">, </span><span style=\"color: #008000; text-decoration-color: #008000\">'value'</span><span style=\"color: #000000; text-decoration-color: #000000\">: </span><span style=\"color: #008000; text-decoration-color: #008000\">'&lt;image&gt;\\nWhat are the objects and relations you see in this image?'</span><span style=\"color: #000000; text-decoration-color: #000000; font-weight: bold\">}</span><span style=\"color: #000000; text-decoration-color: #000000\">,</span>\n",
       "<span style=\"color: #000000; text-decoration-color: #000000\">            </span><span style=\"color: #000000; text-decoration-color: #000000; font-weight: bold\">{</span>\n",
       "<span style=\"color: #000000; text-decoration-color: #000000\">                </span><span style=\"color: #008000; text-decoration-color: #008000\">'from'</span><span style=\"color: #000000; text-decoration-color: #000000\">: </span><span style=\"color: #008000; text-decoration-color: #008000\">'gpt'</span><span style=\"color: #000000; text-decoration-color: #000000\">,</span>\n",
       "<span style=\"color: #000000; text-decoration-color: #000000\">                </span><span style=\"color: #008000; text-decoration-color: #008000\">'value'</span><span style=\"color: #000000; text-decoration-color: #000000\">: </span><span style=\"color: #008000; text-decoration-color: #008000\">'Device 1: \\npcb_covered in hca_back\\nhca_back next to pcb_covered\\npcb_covered next to </span>\n",
       "<span style=\"color: #008000; text-decoration-color: #008000\">hca_back\\npcb_covered in hca_back\\n'</span>\n",
       "<span style=\"color: #000000; text-decoration-color: #000000\">            </span><span style=\"color: #000000; text-decoration-color: #000000; font-weight: bold\">}</span>\n",
       "<span style=\"color: #000000; text-decoration-color: #000000\">        </span><span style=\"color: #000000; text-decoration-color: #000000; font-weight: bold\">]</span>\n",
       "<span style=\"color: #000000; text-decoration-color: #000000\">    </span><span style=\"color: #000000; text-decoration-color: #000000; font-weight: bold\">}</span><span style=\"color: #000000; text-decoration-color: #000000\">,</span>\n",
       "<span style=\"color: #000000; text-decoration-color: #000000\">    </span><span style=\"color: #000000; text-decoration-color: #000000; font-weight: bold\">{</span>\n",
       "<span style=\"color: #000000; text-decoration-color: #000000\">        </span><span style=\"color: #008000; text-decoration-color: #008000\">'id'</span><span style=\"color: #000000; text-decoration-color: #000000\">: </span><span style=\"color: #008080; text-decoration-color: #008080; font-weight: bold\">94</span><span style=\"color: #000000; text-decoration-color: #000000\">,</span>\n",
       "<span style=\"color: #000000; text-decoration-color: #000000\">        </span><span style=\"color: #008000; text-decoration-color: #008000\">'image'</span><span style=\"color: #000000; text-decoration-color: #000000\">: </span><span style=\"color: #008000; text-decoration-color: #008000\">'images/00000095.jpg'</span><span style=\"color: #000000; text-decoration-color: #000000\">,</span>\n",
       "<span style=\"color: #000000; text-decoration-color: #000000\">        </span><span style=\"color: #008000; text-decoration-color: #008000\">'conversations'</span><span style=\"color: #000000; text-decoration-color: #000000\">: </span><span style=\"color: #000000; text-decoration-color: #000000; font-weight: bold\">[</span>\n",
       "<span style=\"color: #000000; text-decoration-color: #000000\">            </span><span style=\"color: #000000; text-decoration-color: #000000; font-weight: bold\">{</span><span style=\"color: #008000; text-decoration-color: #008000\">'from'</span><span style=\"color: #000000; text-decoration-color: #000000\">: </span><span style=\"color: #008000; text-decoration-color: #008000\">'human'</span><span style=\"color: #000000; text-decoration-color: #000000\">, </span><span style=\"color: #008000; text-decoration-color: #008000\">'value'</span><span style=\"color: #000000; text-decoration-color: #000000\">: </span><span style=\"color: #008000; text-decoration-color: #008000\">'&lt;image&gt;\\nWhat are the objects and relations you see in this image?'</span><span style=\"color: #000000; text-decoration-color: #000000; font-weight: bold\">}</span><span style=\"color: #000000; text-decoration-color: #000000\">,</span>\n",
       "<span style=\"color: #000000; text-decoration-color: #000000\">            </span><span style=\"color: #000000; text-decoration-color: #000000; font-weight: bold\">{</span>\n",
       "<span style=\"color: #000000; text-decoration-color: #000000\">                </span><span style=\"color: #008000; text-decoration-color: #008000\">'from'</span><span style=\"color: #000000; text-decoration-color: #000000\">: </span><span style=\"color: #008000; text-decoration-color: #008000\">'gpt'</span><span style=\"color: #000000; text-decoration-color: #000000\">,</span>\n",
       "<span style=\"color: #000000; text-decoration-color: #000000\">                </span><span style=\"color: #008000; text-decoration-color: #008000\">'value'</span><span style=\"color: #000000; text-decoration-color: #000000\">: </span><span style=\"color: #008000; text-decoration-color: #008000\">'Device 1: \\ninternals in hca_back\\npcb in hca_back\\ninternals next to pcb\\npcb next to </span>\n",
       "<span style=\"color: #008000; text-decoration-color: #008000\">internals\\n\\nDevice 2: \\npcb_covered in hca_back\\n'</span>\n",
       "<span style=\"color: #000000; text-decoration-color: #000000\">            </span><span style=\"color: #000000; text-decoration-color: #000000; font-weight: bold\">}</span>\n",
       "<span style=\"color: #000000; text-decoration-color: #000000\">        </span><span style=\"color: #000000; text-decoration-color: #000000; font-weight: bold\">]</span>\n",
       "<span style=\"color: #000000; text-decoration-color: #000000\">    </span><span style=\"color: #000000; text-decoration-color: #000000; font-weight: bold\">}</span><span style=\"color: #000000; text-decoration-color: #000000\">,</span>\n",
       "<span style=\"color: #000000; text-decoration-color: #000000\">    </span><span style=\"color: #000000; text-decoration-color: #000000; font-weight: bold\">{</span>\n",
       "<span style=\"color: #000000; text-decoration-color: #000000\">        </span><span style=\"color: #008000; text-decoration-color: #008000\">'id'</span><span style=\"color: #000000; text-decoration-color: #000000\">: </span><span style=\"color: #008080; text-decoration-color: #008080; font-weight: bold\">95</span><span style=\"color: #000000; text-decoration-color: #000000\">,</span>\n",
       "<span style=\"color: #000000; text-decoration-color: #000000\">        </span><span style=\"color: #008000; text-decoration-color: #008000\">'image'</span><span style=\"color: #000000; text-decoration-color: #000000\">: </span><span style=\"color: #008000; text-decoration-color: #008000\">'images/00000096.jpg'</span><span style=\"color: #000000; text-decoration-color: #000000\">,</span>\n",
       "<span style=\"color: #000000; text-decoration-color: #000000\">        </span><span style=\"color: #008000; text-decoration-color: #008000\">'conversations'</span><span style=\"color: #000000; text-decoration-color: #000000\">: </span><span style=\"color: #000000; text-decoration-color: #000000; font-weight: bold\">[</span>\n",
       "<span style=\"color: #000000; text-decoration-color: #000000\">            </span><span style=\"color: #000000; text-decoration-color: #000000; font-weight: bold\">{</span><span style=\"color: #008000; text-decoration-color: #008000\">'from'</span><span style=\"color: #000000; text-decoration-color: #000000\">: </span><span style=\"color: #008000; text-decoration-color: #008000\">'human'</span><span style=\"color: #000000; text-decoration-color: #000000\">, </span><span style=\"color: #008000; text-decoration-color: #008000\">'value'</span><span style=\"color: #000000; text-decoration-color: #000000\">: </span><span style=\"color: #008000; text-decoration-color: #008000\">'&lt;image&gt;\\nWhat are the objects and relations you see in this image?'</span><span style=\"color: #000000; text-decoration-color: #000000; font-weight: bold\">}</span><span style=\"color: #000000; text-decoration-color: #000000\">,</span>\n",
       "<span style=\"color: #000000; text-decoration-color: #000000\">            </span><span style=\"color: #000000; text-decoration-color: #000000; font-weight: bold\">{</span><span style=\"color: #008000; text-decoration-color: #008000\">'from'</span><span style=\"color: #000000; text-decoration-color: #000000\">: </span><span style=\"color: #008000; text-decoration-color: #008000\">'gpt'</span><span style=\"color: #000000; text-decoration-color: #000000\">, </span><span style=\"color: #008000; text-decoration-color: #008000\">'value'</span><span style=\"color: #000000; text-decoration-color: #000000\">: </span><span style=\"color: #008000; text-decoration-color: #008000\">'Device 1: \\nbattery_covered in firealarm_back\\n'</span><span style=\"color: #000000; text-decoration-color: #000000; font-weight: bold\">}</span>\n",
       "<span style=\"color: #000000; text-decoration-color: #000000\">        </span><span style=\"color: #000000; text-decoration-color: #000000; font-weight: bold\">]</span>\n",
       "<span style=\"color: #000000; text-decoration-color: #000000\">    </span><span style=\"color: #000000; text-decoration-color: #000000; font-weight: bold\">}</span><span style=\"color: #000000; text-decoration-color: #000000\">,</span>\n",
       "<span style=\"color: #000000; text-decoration-color: #000000\">    </span><span style=\"color: #000000; text-decoration-color: #000000; font-weight: bold\">{</span>\n",
       "<span style=\"color: #000000; text-decoration-color: #000000\">        </span><span style=\"color: #008000; text-decoration-color: #008000\">'id'</span><span style=\"color: #000000; text-decoration-color: #000000\">: </span><span style=\"color: #008080; text-decoration-color: #008080; font-weight: bold\">96</span><span style=\"color: #000000; text-decoration-color: #000000\">,</span>\n",
       "<span style=\"color: #000000; text-decoration-color: #000000\">        </span><span style=\"color: #008000; text-decoration-color: #008000\">'image'</span><span style=\"color: #000000; text-decoration-color: #000000\">: </span><span style=\"color: #008000; text-decoration-color: #008000\">'images/00000097.jpg'</span><span style=\"color: #000000; text-decoration-color: #000000\">,</span>\n",
       "<span style=\"color: #000000; text-decoration-color: #000000\">        </span><span style=\"color: #008000; text-decoration-color: #008000\">'conversations'</span><span style=\"color: #000000; text-decoration-color: #000000\">: </span><span style=\"color: #000000; text-decoration-color: #000000; font-weight: bold\">[</span>\n",
       "<span style=\"color: #000000; text-decoration-color: #000000\">            </span><span style=\"color: #000000; text-decoration-color: #000000; font-weight: bold\">{</span><span style=\"color: #008000; text-decoration-color: #008000\">'from'</span><span style=\"color: #000000; text-decoration-color: #000000\">: </span><span style=\"color: #008000; text-decoration-color: #008000\">'human'</span><span style=\"color: #000000; text-decoration-color: #000000\">, </span><span style=\"color: #008000; text-decoration-color: #008000\">'value'</span><span style=\"color: #000000; text-decoration-color: #000000\">: </span><span style=\"color: #008000; text-decoration-color: #008000\">'&lt;image&gt;\\nWhat are the objects and relations you see in this image?'</span><span style=\"color: #000000; text-decoration-color: #000000; font-weight: bold\">}</span><span style=\"color: #000000; text-decoration-color: #000000\">,</span>\n",
       "<span style=\"color: #000000; text-decoration-color: #000000\">            </span><span style=\"color: #000000; text-decoration-color: #000000; font-weight: bold\">{</span>\n",
       "<span style=\"color: #000000; text-decoration-color: #000000\">                </span><span style=\"color: #008000; text-decoration-color: #008000\">'from'</span><span style=\"color: #000000; text-decoration-color: #000000\">: </span><span style=\"color: #008000; text-decoration-color: #008000\">'gpt'</span><span style=\"color: #000000; text-decoration-color: #000000\">,</span>\n",
       "<span style=\"color: #000000; text-decoration-color: #000000\">                </span><span style=\"color: #008000; text-decoration-color: #008000\">'value'</span><span style=\"color: #000000; text-decoration-color: #000000\">: </span><span style=\"color: #008000; text-decoration-color: #008000\">'Device 1: \\ninternals in hca_back\\nbattery in hca_back\\ninternals next to </span>\n",
       "<span style=\"color: #008000; text-decoration-color: #008000\">battery\\nbattery next to internals\\n'</span>\n",
       "<span style=\"color: #000000; text-decoration-color: #000000\">            </span><span style=\"color: #000000; text-decoration-color: #000000; font-weight: bold\">}</span>\n",
       "<span style=\"color: #000000; text-decoration-color: #000000\">        </span><span style=\"color: #000000; text-decoration-color: #000000; font-weight: bold\">]</span>\n",
       "<span style=\"color: #000000; text-decoration-color: #000000\">    </span><span style=\"color: #000000; text-decoration-color: #000000; font-weight: bold\">}</span><span style=\"color: #000000; text-decoration-color: #000000\">,</span>\n",
       "<span style=\"color: #000000; text-decoration-color: #000000\">    </span><span style=\"color: #000000; text-decoration-color: #000000; font-weight: bold\">{</span>\n",
       "<span style=\"color: #000000; text-decoration-color: #000000\">        </span><span style=\"color: #008000; text-decoration-color: #008000\">'id'</span><span style=\"color: #000000; text-decoration-color: #000000\">: </span><span style=\"color: #008080; text-decoration-color: #008080; font-weight: bold\">97</span><span style=\"color: #000000; text-decoration-color: #000000\">,</span>\n",
       "<span style=\"color: #000000; text-decoration-color: #000000\">        </span><span style=\"color: #008000; text-decoration-color: #008000\">'image'</span><span style=\"color: #000000; text-decoration-color: #000000\">: </span><span style=\"color: #008000; text-decoration-color: #008000\">'images/00000098.jpg'</span><span style=\"color: #000000; text-decoration-color: #000000\">,</span>\n",
       "<span style=\"color: #000000; text-decoration-color: #000000\">        </span><span style=\"color: #008000; text-decoration-color: #008000\">'conversations'</span><span style=\"color: #000000; text-decoration-color: #000000\">: </span><span style=\"color: #000000; text-decoration-color: #000000; font-weight: bold\">[</span>\n",
       "<span style=\"color: #000000; text-decoration-color: #000000\">            </span><span style=\"color: #000000; text-decoration-color: #000000; font-weight: bold\">{</span><span style=\"color: #008000; text-decoration-color: #008000\">'from'</span><span style=\"color: #000000; text-decoration-color: #000000\">: </span><span style=\"color: #008000; text-decoration-color: #008000\">'human'</span><span style=\"color: #000000; text-decoration-color: #000000\">, </span><span style=\"color: #008000; text-decoration-color: #008000\">'value'</span><span style=\"color: #000000; text-decoration-color: #000000\">: </span><span style=\"color: #008000; text-decoration-color: #008000\">'&lt;image&gt;\\nWhat are the objects and relations you see in this image?'</span><span style=\"color: #000000; text-decoration-color: #000000; font-weight: bold\">}</span><span style=\"color: #000000; text-decoration-color: #000000\">,</span>\n",
       "<span style=\"color: #000000; text-decoration-color: #000000\">            </span><span style=\"color: #000000; text-decoration-color: #000000; font-weight: bold\">{</span>\n",
       "<span style=\"color: #000000; text-decoration-color: #000000\">                </span><span style=\"color: #008000; text-decoration-color: #008000\">'from'</span><span style=\"color: #000000; text-decoration-color: #000000\">: </span><span style=\"color: #008000; text-decoration-color: #008000\">'gpt'</span><span style=\"color: #000000; text-decoration-color: #000000\">,</span>\n",
       "<span style=\"color: #000000; text-decoration-color: #000000\">                </span><span style=\"color: #008000; text-decoration-color: #008000\">'value'</span><span style=\"color: #000000; text-decoration-color: #000000\">: </span><span style=\"color: #008000; text-decoration-color: #008000\">'Device 1: \\nbattery_covered in firealarm_back\\n\\nDevice 2: \\nfirealarm_front'</span>\n",
       "<span style=\"color: #000000; text-decoration-color: #000000\">            </span><span style=\"color: #000000; text-decoration-color: #000000; font-weight: bold\">}</span>\n",
       "<span style=\"color: #000000; text-decoration-color: #000000\">        </span><span style=\"color: #000000; text-decoration-color: #000000; font-weight: bold\">]</span>\n",
       "<span style=\"color: #000000; text-decoration-color: #000000\">    </span><span style=\"color: #000000; text-decoration-color: #000000; font-weight: bold\">}</span><span style=\"color: #000000; text-decoration-color: #000000\">,</span>\n",
       "<span style=\"color: #000000; text-decoration-color: #000000\">    </span><span style=\"color: #000000; text-decoration-color: #000000; font-weight: bold\">{</span>\n",
       "<span style=\"color: #000000; text-decoration-color: #000000\">        </span><span style=\"color: #008000; text-decoration-color: #008000\">'id'</span><span style=\"color: #000000; text-decoration-color: #000000\">: </span><span style=\"color: #008080; text-decoration-color: #008080; font-weight: bold\">98</span><span style=\"color: #000000; text-decoration-color: #000000\">,</span>\n",
       "<span style=\"color: #000000; text-decoration-color: #000000\">        </span><span style=\"color: #008000; text-decoration-color: #008000\">'image'</span><span style=\"color: #000000; text-decoration-color: #000000\">: </span><span style=\"color: #008000; text-decoration-color: #008000\">'images/00000099.jpg'</span><span style=\"color: #000000; text-decoration-color: #000000\">,</span>\n",
       "<span style=\"color: #000000; text-decoration-color: #000000\">        </span><span style=\"color: #008000; text-decoration-color: #008000\">'conversations'</span><span style=\"color: #000000; text-decoration-color: #000000\">: </span><span style=\"color: #000000; text-decoration-color: #000000; font-weight: bold\">[</span>\n",
       "<span style=\"color: #000000; text-decoration-color: #000000\">            </span><span style=\"color: #000000; text-decoration-color: #000000; font-weight: bold\">{</span><span style=\"color: #008000; text-decoration-color: #008000\">'from'</span><span style=\"color: #000000; text-decoration-color: #000000\">: </span><span style=\"color: #008000; text-decoration-color: #008000\">'human'</span><span style=\"color: #000000; text-decoration-color: #000000\">, </span><span style=\"color: #008000; text-decoration-color: #008000\">'value'</span><span style=\"color: #000000; text-decoration-color: #000000\">: </span><span style=\"color: #008000; text-decoration-color: #008000\">'&lt;image&gt;\\nWhat are the objects and relations you see in this image?'</span><span style=\"color: #000000; text-decoration-color: #000000; font-weight: bold\">}</span><span style=\"color: #000000; text-decoration-color: #000000\">,</span>\n",
       "<span style=\"color: #000000; text-decoration-color: #000000\">            </span><span style=\"color: #000000; text-decoration-color: #000000; font-weight: bold\">{</span>\n",
       "<span style=\"color: #000000; text-decoration-color: #000000\">                </span><span style=\"color: #008000; text-decoration-color: #008000\">'from'</span><span style=\"color: #000000; text-decoration-color: #000000\">: </span><span style=\"color: #008000; text-decoration-color: #008000\">'gpt'</span><span style=\"color: #000000; text-decoration-color: #000000\">,</span>\n",
       "<span style=\"color: #000000; text-decoration-color: #000000\">                </span><span style=\"color: #008000; text-decoration-color: #008000\">'value'</span><span style=\"color: #000000; text-decoration-color: #000000\">: </span><span style=\"color: #008000; text-decoration-color: #008000\">'Device 1: \\nfirealarm_front next to internals\\ninternals next to firealarm_front\\npcb in </span>\n",
       "<span style=\"color: #008000; text-decoration-color: #008000\">internals\\nbattery in internals\\nbattery in pcb\\n'</span>\n",
       "<span style=\"color: #000000; text-decoration-color: #000000\">            </span><span style=\"color: #000000; text-decoration-color: #000000; font-weight: bold\">}</span>\n",
       "<span style=\"color: #000000; text-decoration-color: #000000\">        </span><span style=\"color: #000000; text-decoration-color: #000000; font-weight: bold\">]</span>\n",
       "<span style=\"color: #000000; text-decoration-color: #000000\">    </span><span style=\"color: #000000; text-decoration-color: #000000; font-weight: bold\">}</span><span style=\"color: #000000; text-decoration-color: #000000\">,</span>\n",
       "<span style=\"color: #000000; text-decoration-color: #000000\">    </span><span style=\"color: #000000; text-decoration-color: #000000; font-weight: bold\">{</span>\n",
       "<span style=\"color: #000000; text-decoration-color: #000000\">        </span><span style=\"color: #008000; text-decoration-color: #008000\">'id'</span><span style=\"color: #000000; text-decoration-color: #000000\">: </span><span style=\"color: #008080; text-decoration-color: #008080; font-weight: bold\">99</span><span style=\"color: #000000; text-decoration-color: #000000\">,</span>\n",
       "<span style=\"color: #000000; text-decoration-color: #000000\">        </span><span style=\"color: #008000; text-decoration-color: #008000\">'image'</span><span style=\"color: #000000; text-decoration-color: #000000\">: </span><span style=\"color: #008000; text-decoration-color: #008000\">'images/00000100.jpg'</span><span style=\"color: #000000; text-decoration-color: #000000\">,</span>\n",
       "<span style=\"color: #000000; text-decoration-color: #000000\">        </span><span style=\"color: #008000; text-decoration-color: #008000\">'conversations'</span><span style=\"color: #000000; text-decoration-color: #000000\">: </span><span style=\"color: #000000; text-decoration-color: #000000; font-weight: bold\">[</span>\n",
       "<span style=\"color: #000000; text-decoration-color: #000000\">            </span><span style=\"color: #000000; text-decoration-color: #000000; font-weight: bold\">{</span><span style=\"color: #008000; text-decoration-color: #008000\">'from'</span><span style=\"color: #000000; text-decoration-color: #000000\">: </span><span style=\"color: #008000; text-decoration-color: #008000\">'human'</span><span style=\"color: #000000; text-decoration-color: #000000\">, </span><span style=\"color: #008000; text-decoration-color: #008000\">'value'</span><span style=\"color: #000000; text-decoration-color: #000000\">: </span><span style=\"color: #008000; text-decoration-color: #008000\">'&lt;image&gt;\\nWhat are the objects and relations you see in this image?'</span><span style=\"font-weight: bold\">}</span>,\n",
       "            <span style=\"font-weight: bold\">{</span>\n",
       "                <span style=\"color: #008000; text-decoration-color: #008000\">'from'</span>: <span style=\"color: #008000; text-decoration-color: #008000\">'gpt'</span>,\n",
       "                <span style=\"color: #008000; text-decoration-color: #008000\">'value'</span>: <span style=\"color: #008000; text-decoration-color: #008000\">'Device 1: \\nplastic_clip in hca_back\\npcb_covered in hca_back\\nplastic_clip next to </span>\n",
       "<span style=\"color: #008000; text-decoration-color: #008000\">pcb_covered\\npcb_covered next to plastic_clip\\n'</span>\n",
       "            <span style=\"font-weight: bold\">}</span>\n",
       "        <span style=\"font-weight: bold\">]</span>\n",
       "    <span style=\"font-weight: bold\">}</span>\n",
       "<span style=\"font-weight: bold\">]</span>\n",
       "</pre>\n"
      ],
      "text/plain": [
       "llm_output_list\n",
       "\u001b[1m[\u001b[0m\n",
       "    \u001b[1m{\u001b[0m\n",
       "        \u001b[32m'id'\u001b[0m: \u001b[1;36m0\u001b[0m,\n",
       "        \u001b[32m'image'\u001b[0m: \u001b[32m'images/00000001.jpg'\u001b[0m,\n",
       "        \u001b[32m'conversations'\u001b[0m: \u001b[1m[\u001b[0m\n",
       "            \u001b[1m{\u001b[0m\u001b[32m'from'\u001b[0m: \u001b[32m'human'\u001b[0m, \u001b[32m'value'\u001b[0m: \u001b[32m'\u001b[0m\u001b[32m<\u001b[0m\u001b[32mimage\u001b[0m\u001b[32m>\\nWhat are the objects and relations you see in this image?'\u001b[0m\u001b[1;39m}\u001b[0m\u001b[39m,\u001b[0m\n",
       "\u001b[39m            \u001b[0m\u001b[1;39m{\u001b[0m\n",
       "\u001b[39m                \u001b[0m\u001b[32m'from'\u001b[0m\u001b[39m: \u001b[0m\u001b[32m'gpt'\u001b[0m\u001b[39m,\u001b[0m\n",
       "\u001b[39m                \u001b[0m\u001b[32m'value'\u001b[0m\u001b[39m: \u001b[0m\u001b[32m'Device 1: \\npcb in hca_back\\nbattery in hca_back\\npcb next to battery\\nbattery next to \u001b[0m\n",
       "\u001b[32mpcb\\n\\nDevice 2: \\nfirealarm_back'\u001b[0m\n",
       "\u001b[39m            \u001b[0m\u001b[1;39m}\u001b[0m\n",
       "\u001b[39m        \u001b[0m\u001b[1;39m]\u001b[0m\n",
       "\u001b[39m    \u001b[0m\u001b[1;39m}\u001b[0m\u001b[39m,\u001b[0m\n",
       "\u001b[39m    \u001b[0m\u001b[1;39m{\u001b[0m\n",
       "\u001b[39m        \u001b[0m\u001b[32m'id'\u001b[0m\u001b[39m: \u001b[0m\u001b[1;36m1\u001b[0m\u001b[39m,\u001b[0m\n",
       "\u001b[39m        \u001b[0m\u001b[32m'image'\u001b[0m\u001b[39m: \u001b[0m\u001b[32m'images/00000002.jpg'\u001b[0m\u001b[39m,\u001b[0m\n",
       "\u001b[39m        \u001b[0m\u001b[32m'conversations'\u001b[0m\u001b[39m: \u001b[0m\u001b[1;39m[\u001b[0m\n",
       "\u001b[39m            \u001b[0m\u001b[1;39m{\u001b[0m\u001b[32m'from'\u001b[0m\u001b[39m: \u001b[0m\u001b[32m'human'\u001b[0m\u001b[39m, \u001b[0m\u001b[32m'value'\u001b[0m\u001b[39m: \u001b[0m\u001b[32m'<image>\\nWhat are the objects and relations you see in this image?'\u001b[0m\u001b[1;39m}\u001b[0m\u001b[39m,\u001b[0m\n",
       "\u001b[39m            \u001b[0m\u001b[1;39m{\u001b[0m\u001b[32m'from'\u001b[0m\u001b[39m: \u001b[0m\u001b[32m'gpt'\u001b[0m\u001b[39m, \u001b[0m\u001b[32m'value'\u001b[0m\u001b[39m: \u001b[0m\u001b[32m'Device 1: \\nfirealarm_back'\u001b[0m\u001b[1;39m}\u001b[0m\n",
       "\u001b[39m        \u001b[0m\u001b[1;39m]\u001b[0m\n",
       "\u001b[39m    \u001b[0m\u001b[1;39m}\u001b[0m\u001b[39m,\u001b[0m\n",
       "\u001b[39m    \u001b[0m\u001b[1;39m{\u001b[0m\n",
       "\u001b[39m        \u001b[0m\u001b[32m'id'\u001b[0m\u001b[39m: \u001b[0m\u001b[1;36m2\u001b[0m\u001b[39m,\u001b[0m\n",
       "\u001b[39m        \u001b[0m\u001b[32m'image'\u001b[0m\u001b[39m: \u001b[0m\u001b[32m'images/00000003.jpg'\u001b[0m\u001b[39m,\u001b[0m\n",
       "\u001b[39m        \u001b[0m\u001b[32m'conversations'\u001b[0m\u001b[39m: \u001b[0m\u001b[1;39m[\u001b[0m\n",
       "\u001b[39m            \u001b[0m\u001b[1;39m{\u001b[0m\u001b[32m'from'\u001b[0m\u001b[39m: \u001b[0m\u001b[32m'human'\u001b[0m\u001b[39m, \u001b[0m\u001b[32m'value'\u001b[0m\u001b[39m: \u001b[0m\u001b[32m'<image>\\nWhat are the objects and relations you see in this image?'\u001b[0m\u001b[1;39m}\u001b[0m\u001b[39m,\u001b[0m\n",
       "\u001b[39m            \u001b[0m\u001b[1;39m{\u001b[0m\n",
       "\u001b[39m                \u001b[0m\u001b[32m'from'\u001b[0m\u001b[39m: \u001b[0m\u001b[32m'gpt'\u001b[0m\u001b[39m,\u001b[0m\n",
       "\u001b[39m                \u001b[0m\u001b[32m'value'\u001b[0m\u001b[39m: \u001b[0m\u001b[32m'Device 1: \\npcb in hca_back\\nbattery in hca_back\\npcb next to battery\\nbattery next to \u001b[0m\n",
       "\u001b[32mpcb\\n\\nDevice 2: \\npcb in internals\\n'\u001b[0m\n",
       "\u001b[39m            \u001b[0m\u001b[1;39m}\u001b[0m\n",
       "\u001b[39m        \u001b[0m\u001b[1;39m]\u001b[0m\n",
       "\u001b[39m    \u001b[0m\u001b[1;39m}\u001b[0m\u001b[39m,\u001b[0m\n",
       "\u001b[39m    \u001b[0m\u001b[1;39m{\u001b[0m\n",
       "\u001b[39m        \u001b[0m\u001b[32m'id'\u001b[0m\u001b[39m: \u001b[0m\u001b[1;36m3\u001b[0m\u001b[39m,\u001b[0m\n",
       "\u001b[39m        \u001b[0m\u001b[32m'image'\u001b[0m\u001b[39m: \u001b[0m\u001b[32m'images/00000004.jpg'\u001b[0m\u001b[39m,\u001b[0m\n",
       "\u001b[39m        \u001b[0m\u001b[32m'conversations'\u001b[0m\u001b[39m: \u001b[0m\u001b[1;39m[\u001b[0m\n",
       "\u001b[39m            \u001b[0m\u001b[1;39m{\u001b[0m\u001b[32m'from'\u001b[0m\u001b[39m: \u001b[0m\u001b[32m'human'\u001b[0m\u001b[39m, \u001b[0m\u001b[32m'value'\u001b[0m\u001b[39m: \u001b[0m\u001b[32m'<image>\\nWhat are the objects and relations you see in this image?'\u001b[0m\u001b[1;39m}\u001b[0m\u001b[39m,\u001b[0m\n",
       "\u001b[39m            \u001b[0m\u001b[1;39m{\u001b[0m\n",
       "\u001b[39m                \u001b[0m\u001b[32m'from'\u001b[0m\u001b[39m: \u001b[0m\u001b[32m'gpt'\u001b[0m\u001b[39m,\u001b[0m\n",
       "\u001b[39m                \u001b[0m\u001b[32m'value'\u001b[0m\u001b[39m: \u001b[0m\u001b[32m'Device 1: \\npcb in internals\\ninternals next to battery\\nbattery next to \u001b[0m\n",
       "\u001b[32minternals\\n\\nDevice 2: \\npcb in internals\\n'\u001b[0m\n",
       "\u001b[39m            \u001b[0m\u001b[1;39m}\u001b[0m\n",
       "\u001b[39m        \u001b[0m\u001b[1;39m]\u001b[0m\n",
       "\u001b[39m    \u001b[0m\u001b[1;39m}\u001b[0m\u001b[39m,\u001b[0m\n",
       "\u001b[39m    \u001b[0m\u001b[1;39m{\u001b[0m\n",
       "\u001b[39m        \u001b[0m\u001b[32m'id'\u001b[0m\u001b[39m: \u001b[0m\u001b[1;36m4\u001b[0m\u001b[39m,\u001b[0m\n",
       "\u001b[39m        \u001b[0m\u001b[32m'image'\u001b[0m\u001b[39m: \u001b[0m\u001b[32m'images/00000005.jpg'\u001b[0m\u001b[39m,\u001b[0m\n",
       "\u001b[39m        \u001b[0m\u001b[32m'conversations'\u001b[0m\u001b[39m: \u001b[0m\u001b[1;39m[\u001b[0m\n",
       "\u001b[39m            \u001b[0m\u001b[1;39m{\u001b[0m\u001b[32m'from'\u001b[0m\u001b[39m: \u001b[0m\u001b[32m'human'\u001b[0m\u001b[39m, \u001b[0m\u001b[32m'value'\u001b[0m\u001b[39m: \u001b[0m\u001b[32m'<image>\\nWhat are the objects and relations you see in this image?'\u001b[0m\u001b[1;39m}\u001b[0m\u001b[39m,\u001b[0m\n",
       "\u001b[39m            \u001b[0m\u001b[1;39m{\u001b[0m\u001b[32m'from'\u001b[0m\u001b[39m: \u001b[0m\u001b[32m'gpt'\u001b[0m\u001b[39m, \u001b[0m\u001b[32m'value'\u001b[0m\u001b[39m: \u001b[0m\u001b[32m'Device 1: \\npcb in hca_back\\nbattery in hca_back\\nbattery in pcb\\n'\u001b[0m\u001b[1;39m}\u001b[0m\n",
       "\u001b[39m        \u001b[0m\u001b[1;39m]\u001b[0m\n",
       "\u001b[39m    \u001b[0m\u001b[1;39m}\u001b[0m\u001b[39m,\u001b[0m\n",
       "\u001b[39m    \u001b[0m\u001b[1;39m{\u001b[0m\n",
       "\u001b[39m        \u001b[0m\u001b[32m'id'\u001b[0m\u001b[39m: \u001b[0m\u001b[1;36m5\u001b[0m\u001b[39m,\u001b[0m\n",
       "\u001b[39m        \u001b[0m\u001b[32m'image'\u001b[0m\u001b[39m: \u001b[0m\u001b[32m'images/00000006.jpg'\u001b[0m\u001b[39m,\u001b[0m\n",
       "\u001b[39m        \u001b[0m\u001b[32m'conversations'\u001b[0m\u001b[39m: \u001b[0m\u001b[1;39m[\u001b[0m\n",
       "\u001b[39m            \u001b[0m\u001b[1;39m{\u001b[0m\u001b[32m'from'\u001b[0m\u001b[39m: \u001b[0m\u001b[32m'human'\u001b[0m\u001b[39m, \u001b[0m\u001b[32m'value'\u001b[0m\u001b[39m: \u001b[0m\u001b[32m'<image>\\nWhat are the objects and relations you see in this image?'\u001b[0m\u001b[1;39m}\u001b[0m\u001b[39m,\u001b[0m\n",
       "\u001b[39m            \u001b[0m\u001b[1;39m{\u001b[0m\n",
       "\u001b[39m                \u001b[0m\u001b[32m'from'\u001b[0m\u001b[39m: \u001b[0m\u001b[32m'gpt'\u001b[0m\u001b[39m,\u001b[0m\n",
       "\u001b[39m                \u001b[0m\u001b[32m'value'\u001b[0m\u001b[39m: \u001b[0m\u001b[32m'Device 1: \\nplastic_clip in hca_back\\ninternals in hca_back\\nplastic_clip next to \u001b[0m\n",
       "\u001b[32minternals\\ninternals next to plastic_clip\\n\\nDevice 2: \\nfirealarm_front'\u001b[0m\n",
       "\u001b[39m            \u001b[0m\u001b[1;39m}\u001b[0m\n",
       "\u001b[39m        \u001b[0m\u001b[1;39m]\u001b[0m\n",
       "\u001b[39m    \u001b[0m\u001b[1;39m}\u001b[0m\u001b[39m,\u001b[0m\n",
       "\u001b[39m    \u001b[0m\u001b[1;39m{\u001b[0m\n",
       "\u001b[39m        \u001b[0m\u001b[32m'id'\u001b[0m\u001b[39m: \u001b[0m\u001b[1;36m6\u001b[0m\u001b[39m,\u001b[0m\n",
       "\u001b[39m        \u001b[0m\u001b[32m'image'\u001b[0m\u001b[39m: \u001b[0m\u001b[32m'images/00000007.jpg'\u001b[0m\u001b[39m,\u001b[0m\n",
       "\u001b[39m        \u001b[0m\u001b[32m'conversations'\u001b[0m\u001b[39m: \u001b[0m\u001b[1;39m[\u001b[0m\n",
       "\u001b[39m            \u001b[0m\u001b[1;39m{\u001b[0m\u001b[32m'from'\u001b[0m\u001b[39m: \u001b[0m\u001b[32m'human'\u001b[0m\u001b[39m, \u001b[0m\u001b[32m'value'\u001b[0m\u001b[39m: \u001b[0m\u001b[32m'<image>\\nWhat are the objects and relations you see in this image?'\u001b[0m\u001b[1;39m}\u001b[0m\u001b[39m,\u001b[0m\n",
       "\u001b[39m            \u001b[0m\u001b[1;39m{\u001b[0m\u001b[32m'from'\u001b[0m\u001b[39m: \u001b[0m\u001b[32m'gpt'\u001b[0m\u001b[39m, \u001b[0m\u001b[32m'value'\u001b[0m\u001b[39m: \u001b[0m\u001b[32m'Device 1: \\npcb_covered in hca_back\\n'\u001b[0m\u001b[1;39m}\u001b[0m\n",
       "\u001b[39m        \u001b[0m\u001b[1;39m]\u001b[0m\n",
       "\u001b[39m    \u001b[0m\u001b[1;39m}\u001b[0m\u001b[39m,\u001b[0m\n",
       "\u001b[39m    \u001b[0m\u001b[1;39m{\u001b[0m\n",
       "\u001b[39m        \u001b[0m\u001b[32m'id'\u001b[0m\u001b[39m: \u001b[0m\u001b[1;36m7\u001b[0m\u001b[39m,\u001b[0m\n",
       "\u001b[39m        \u001b[0m\u001b[32m'image'\u001b[0m\u001b[39m: \u001b[0m\u001b[32m'images/00000008.jpg'\u001b[0m\u001b[39m,\u001b[0m\n",
       "\u001b[39m        \u001b[0m\u001b[32m'conversations'\u001b[0m\u001b[39m: \u001b[0m\u001b[1;39m[\u001b[0m\n",
       "\u001b[39m            \u001b[0m\u001b[1;39m{\u001b[0m\u001b[32m'from'\u001b[0m\u001b[39m: \u001b[0m\u001b[32m'human'\u001b[0m\u001b[39m, \u001b[0m\u001b[32m'value'\u001b[0m\u001b[39m: \u001b[0m\u001b[32m'<image>\\nWhat are the objects and relations you see in this image?'\u001b[0m\u001b[1;39m}\u001b[0m\u001b[39m,\u001b[0m\n",
       "\u001b[39m            \u001b[0m\u001b[1;39m{\u001b[0m\u001b[32m'from'\u001b[0m\u001b[39m: \u001b[0m\u001b[32m'gpt'\u001b[0m\u001b[39m, \u001b[0m\u001b[32m'value'\u001b[0m\u001b[39m: \u001b[0m\u001b[32m'Device 1: \\ninternals in hca_back\\n'\u001b[0m\u001b[1;39m}\u001b[0m\n",
       "\u001b[39m        \u001b[0m\u001b[1;39m]\u001b[0m\n",
       "\u001b[39m    \u001b[0m\u001b[1;39m}\u001b[0m\u001b[39m,\u001b[0m\n",
       "\u001b[39m    \u001b[0m\u001b[1;39m{\u001b[0m\n",
       "\u001b[39m        \u001b[0m\u001b[32m'id'\u001b[0m\u001b[39m: \u001b[0m\u001b[1;36m8\u001b[0m\u001b[39m,\u001b[0m\n",
       "\u001b[39m        \u001b[0m\u001b[32m'image'\u001b[0m\u001b[39m: \u001b[0m\u001b[32m'images/00000009.jpg'\u001b[0m\u001b[39m,\u001b[0m\n",
       "\u001b[39m        \u001b[0m\u001b[32m'conversations'\u001b[0m\u001b[39m: \u001b[0m\u001b[1;39m[\u001b[0m\n",
       "\u001b[39m            \u001b[0m\u001b[1;39m{\u001b[0m\u001b[32m'from'\u001b[0m\u001b[39m: \u001b[0m\u001b[32m'human'\u001b[0m\u001b[39m, \u001b[0m\u001b[32m'value'\u001b[0m\u001b[39m: \u001b[0m\u001b[32m'<image>\\nWhat are the objects and relations you see in this image?'\u001b[0m\u001b[1;39m}\u001b[0m\u001b[39m,\u001b[0m\n",
       "\u001b[39m            \u001b[0m\u001b[1;39m{\u001b[0m\u001b[32m'from'\u001b[0m\u001b[39m: \u001b[0m\u001b[32m'gpt'\u001b[0m\u001b[39m, \u001b[0m\u001b[32m'value'\u001b[0m\u001b[39m: \u001b[0m\u001b[32m'Device 1: \\npcb in internals\\n'\u001b[0m\u001b[1;39m}\u001b[0m\n",
       "\u001b[39m        \u001b[0m\u001b[1;39m]\u001b[0m\n",
       "\u001b[39m    \u001b[0m\u001b[1;39m}\u001b[0m\u001b[39m,\u001b[0m\n",
       "\u001b[39m    \u001b[0m\u001b[1;39m{\u001b[0m\n",
       "\u001b[39m        \u001b[0m\u001b[32m'id'\u001b[0m\u001b[39m: \u001b[0m\u001b[1;36m9\u001b[0m\u001b[39m,\u001b[0m\n",
       "\u001b[39m        \u001b[0m\u001b[32m'image'\u001b[0m\u001b[39m: \u001b[0m\u001b[32m'images/00000010.jpg'\u001b[0m\u001b[39m,\u001b[0m\n",
       "\u001b[39m        \u001b[0m\u001b[32m'conversations'\u001b[0m\u001b[39m: \u001b[0m\u001b[1;39m[\u001b[0m\n",
       "\u001b[39m            \u001b[0m\u001b[1;39m{\u001b[0m\u001b[32m'from'\u001b[0m\u001b[39m: \u001b[0m\u001b[32m'human'\u001b[0m\u001b[39m, \u001b[0m\u001b[32m'value'\u001b[0m\u001b[39m: \u001b[0m\u001b[32m'<image>\\nWhat are the objects and relations you see in this image?'\u001b[0m\u001b[1;39m}\u001b[0m\u001b[39m,\u001b[0m\n",
       "\u001b[39m            \u001b[0m\u001b[1;39m{\u001b[0m\n",
       "\u001b[39m                \u001b[0m\u001b[32m'from'\u001b[0m\u001b[39m: \u001b[0m\u001b[32m'gpt'\u001b[0m\u001b[39m,\u001b[0m\n",
       "\u001b[39m                \u001b[0m\u001b[32m'value'\u001b[0m\u001b[39m: \u001b[0m\u001b[32m'Device 1: \\npcb_covered in hca_back\\n\\nDevice 2: \\npcb_covered in hca_back\\n'\u001b[0m\n",
       "\u001b[39m            \u001b[0m\u001b[1;39m}\u001b[0m\n",
       "\u001b[39m        \u001b[0m\u001b[1;39m]\u001b[0m\n",
       "\u001b[39m    \u001b[0m\u001b[1;39m}\u001b[0m\u001b[39m,\u001b[0m\n",
       "\u001b[39m    \u001b[0m\u001b[1;39m{\u001b[0m\n",
       "\u001b[39m        \u001b[0m\u001b[32m'id'\u001b[0m\u001b[39m: \u001b[0m\u001b[1;36m10\u001b[0m\u001b[39m,\u001b[0m\n",
       "\u001b[39m        \u001b[0m\u001b[32m'image'\u001b[0m\u001b[39m: \u001b[0m\u001b[32m'images/00000011.jpg'\u001b[0m\u001b[39m,\u001b[0m\n",
       "\u001b[39m        \u001b[0m\u001b[32m'conversations'\u001b[0m\u001b[39m: \u001b[0m\u001b[1;39m[\u001b[0m\n",
       "\u001b[39m            \u001b[0m\u001b[1;39m{\u001b[0m\u001b[32m'from'\u001b[0m\u001b[39m: \u001b[0m\u001b[32m'human'\u001b[0m\u001b[39m, \u001b[0m\u001b[32m'value'\u001b[0m\u001b[39m: \u001b[0m\u001b[32m'<image>\\nWhat are the objects and relations you see in this image?'\u001b[0m\u001b[1;39m}\u001b[0m\u001b[39m,\u001b[0m\n",
       "\u001b[39m            \u001b[0m\u001b[1;39m{\u001b[0m\u001b[32m'from'\u001b[0m\u001b[39m: \u001b[0m\u001b[32m'gpt'\u001b[0m\u001b[39m, \u001b[0m\u001b[32m'value'\u001b[0m\u001b[39m: \u001b[0m\u001b[32m'Device 1: \\nbattery_covered in firealarm_back\\n'\u001b[0m\u001b[1;39m}\u001b[0m\n",
       "\u001b[39m        \u001b[0m\u001b[1;39m]\u001b[0m\n",
       "\u001b[39m    \u001b[0m\u001b[1;39m}\u001b[0m\u001b[39m,\u001b[0m\n",
       "\u001b[39m    \u001b[0m\u001b[1;39m{\u001b[0m\n",
       "\u001b[39m        \u001b[0m\u001b[32m'id'\u001b[0m\u001b[39m: \u001b[0m\u001b[1;36m11\u001b[0m\u001b[39m,\u001b[0m\n",
       "\u001b[39m        \u001b[0m\u001b[32m'image'\u001b[0m\u001b[39m: \u001b[0m\u001b[32m'images/00000012.jpg'\u001b[0m\u001b[39m,\u001b[0m\n",
       "\u001b[39m        \u001b[0m\u001b[32m'conversations'\u001b[0m\u001b[39m: \u001b[0m\u001b[1;39m[\u001b[0m\n",
       "\u001b[39m            \u001b[0m\u001b[1;39m{\u001b[0m\u001b[32m'from'\u001b[0m\u001b[39m: \u001b[0m\u001b[32m'human'\u001b[0m\u001b[39m, \u001b[0m\u001b[32m'value'\u001b[0m\u001b[39m: \u001b[0m\u001b[32m'<image>\\nWhat are the objects and relations you see in this image?'\u001b[0m\u001b[1;39m}\u001b[0m\u001b[39m,\u001b[0m\n",
       "\u001b[39m            \u001b[0m\u001b[1;39m{\u001b[0m\u001b[32m'from'\u001b[0m\u001b[39m: \u001b[0m\u001b[32m'gpt'\u001b[0m\u001b[39m, \u001b[0m\u001b[32m'value'\u001b[0m\u001b[39m: \u001b[0m\u001b[32m'Device 1: \\nfirealarm_front'\u001b[0m\u001b[1;39m}\u001b[0m\n",
       "\u001b[39m        \u001b[0m\u001b[1;39m]\u001b[0m\n",
       "\u001b[39m    \u001b[0m\u001b[1;39m}\u001b[0m\u001b[39m,\u001b[0m\n",
       "\u001b[39m    \u001b[0m\u001b[1;39m{\u001b[0m\n",
       "\u001b[39m        \u001b[0m\u001b[32m'id'\u001b[0m\u001b[39m: \u001b[0m\u001b[1;36m12\u001b[0m\u001b[39m,\u001b[0m\n",
       "\u001b[39m        \u001b[0m\u001b[32m'image'\u001b[0m\u001b[39m: \u001b[0m\u001b[32m'images/00000013.jpg'\u001b[0m\u001b[39m,\u001b[0m\n",
       "\u001b[39m        \u001b[0m\u001b[32m'conversations'\u001b[0m\u001b[39m: \u001b[0m\u001b[1;39m[\u001b[0m\n",
       "\u001b[39m            \u001b[0m\u001b[1;39m{\u001b[0m\u001b[32m'from'\u001b[0m\u001b[39m: \u001b[0m\u001b[32m'human'\u001b[0m\u001b[39m, \u001b[0m\u001b[32m'value'\u001b[0m\u001b[39m: \u001b[0m\u001b[32m'<image>\\nWhat are the objects and relations you see in this image?'\u001b[0m\u001b[1;39m}\u001b[0m\u001b[39m,\u001b[0m\n",
       "\u001b[39m            \u001b[0m\u001b[1;39m{\u001b[0m\u001b[32m'from'\u001b[0m\u001b[39m: \u001b[0m\u001b[32m'gpt'\u001b[0m\u001b[39m, \u001b[0m\u001b[32m'value'\u001b[0m\u001b[39m: \u001b[0m\u001b[32m'Device 1: \\nfirealarm_front'\u001b[0m\u001b[1;39m}\u001b[0m\n",
       "\u001b[39m        \u001b[0m\u001b[1;39m]\u001b[0m\n",
       "\u001b[39m    \u001b[0m\u001b[1;39m}\u001b[0m\u001b[39m,\u001b[0m\n",
       "\u001b[39m    \u001b[0m\u001b[1;39m{\u001b[0m\n",
       "\u001b[39m        \u001b[0m\u001b[32m'id'\u001b[0m\u001b[39m: \u001b[0m\u001b[1;36m13\u001b[0m\u001b[39m,\u001b[0m\n",
       "\u001b[39m        \u001b[0m\u001b[32m'image'\u001b[0m\u001b[39m: \u001b[0m\u001b[32m'images/00000014.jpg'\u001b[0m\u001b[39m,\u001b[0m\n",
       "\u001b[39m        \u001b[0m\u001b[32m'conversations'\u001b[0m\u001b[39m: \u001b[0m\u001b[1;39m[\u001b[0m\n",
       "\u001b[39m            \u001b[0m\u001b[1;39m{\u001b[0m\u001b[32m'from'\u001b[0m\u001b[39m: \u001b[0m\u001b[32m'human'\u001b[0m\u001b[39m, \u001b[0m\u001b[32m'value'\u001b[0m\u001b[39m: \u001b[0m\u001b[32m'<image>\\nWhat are the objects and relations you see in this image?'\u001b[0m\u001b[1;39m}\u001b[0m\u001b[39m,\u001b[0m\n",
       "\u001b[39m            \u001b[0m\u001b[1;39m{\u001b[0m\n",
       "\u001b[39m                \u001b[0m\u001b[32m'from'\u001b[0m\u001b[39m: \u001b[0m\u001b[32m'gpt'\u001b[0m\u001b[39m,\u001b[0m\n",
       "\u001b[39m                \u001b[0m\u001b[32m'value'\u001b[0m\u001b[39m: \u001b[0m\u001b[32m'Device 1: \\npcb in internals\\nbattery in internals\\nbattery in pcb\\n\\nDevice 2: \\npcb in \u001b[0m\n",
       "\u001b[32mhca_back\\n'\u001b[0m\n",
       "\u001b[39m            \u001b[0m\u001b[1;39m}\u001b[0m\n",
       "\u001b[39m        \u001b[0m\u001b[1;39m]\u001b[0m\n",
       "\u001b[39m    \u001b[0m\u001b[1;39m}\u001b[0m\u001b[39m,\u001b[0m\n",
       "\u001b[39m    \u001b[0m\u001b[1;39m{\u001b[0m\n",
       "\u001b[39m        \u001b[0m\u001b[32m'id'\u001b[0m\u001b[39m: \u001b[0m\u001b[1;36m14\u001b[0m\u001b[39m,\u001b[0m\n",
       "\u001b[39m        \u001b[0m\u001b[32m'image'\u001b[0m\u001b[39m: \u001b[0m\u001b[32m'images/00000015.jpg'\u001b[0m\u001b[39m,\u001b[0m\n",
       "\u001b[39m        \u001b[0m\u001b[32m'conversations'\u001b[0m\u001b[39m: \u001b[0m\u001b[1;39m[\u001b[0m\n",
       "\u001b[39m            \u001b[0m\u001b[1;39m{\u001b[0m\u001b[32m'from'\u001b[0m\u001b[39m: \u001b[0m\u001b[32m'human'\u001b[0m\u001b[39m, \u001b[0m\u001b[32m'value'\u001b[0m\u001b[39m: \u001b[0m\u001b[32m'<image>\\nWhat are the objects and relations you see in this image?'\u001b[0m\u001b[1;39m}\u001b[0m\u001b[39m,\u001b[0m\n",
       "\u001b[39m            \u001b[0m\u001b[1;39m{\u001b[0m\u001b[32m'from'\u001b[0m\u001b[39m: \u001b[0m\u001b[32m'gpt'\u001b[0m\u001b[39m, \u001b[0m\u001b[32m'value'\u001b[0m\u001b[39m: \u001b[0m\u001b[32m'Device 1: \\nbattery_covered in firealarm_back\\n'\u001b[0m\u001b[1;39m}\u001b[0m\n",
       "\u001b[39m        \u001b[0m\u001b[1;39m]\u001b[0m\n",
       "\u001b[39m    \u001b[0m\u001b[1;39m}\u001b[0m\u001b[39m,\u001b[0m\n",
       "\u001b[39m    \u001b[0m\u001b[1;39m{\u001b[0m\n",
       "\u001b[39m        \u001b[0m\u001b[32m'id'\u001b[0m\u001b[39m: \u001b[0m\u001b[1;36m15\u001b[0m\u001b[39m,\u001b[0m\n",
       "\u001b[39m        \u001b[0m\u001b[32m'image'\u001b[0m\u001b[39m: \u001b[0m\u001b[32m'images/00000016.jpg'\u001b[0m\u001b[39m,\u001b[0m\n",
       "\u001b[39m        \u001b[0m\u001b[32m'conversations'\u001b[0m\u001b[39m: \u001b[0m\u001b[1;39m[\u001b[0m\n",
       "\u001b[39m            \u001b[0m\u001b[1;39m{\u001b[0m\u001b[32m'from'\u001b[0m\u001b[39m: \u001b[0m\u001b[32m'human'\u001b[0m\u001b[39m, \u001b[0m\u001b[32m'value'\u001b[0m\u001b[39m: \u001b[0m\u001b[32m'<image>\\nWhat are the objects and relations you see in this image?'\u001b[0m\u001b[1;39m}\u001b[0m\u001b[39m,\u001b[0m\n",
       "\u001b[39m            \u001b[0m\u001b[1;39m{\u001b[0m\u001b[32m'from'\u001b[0m\u001b[39m: \u001b[0m\u001b[32m'gpt'\u001b[0m\u001b[39m, \u001b[0m\u001b[32m'value'\u001b[0m\u001b[39m: \u001b[0m\u001b[32m'Device 1: \\nfirealarm_back'\u001b[0m\u001b[1;39m}\u001b[0m\n",
       "\u001b[39m        \u001b[0m\u001b[1;39m]\u001b[0m\n",
       "\u001b[39m    \u001b[0m\u001b[1;39m}\u001b[0m\u001b[39m,\u001b[0m\n",
       "\u001b[39m    \u001b[0m\u001b[1;39m{\u001b[0m\n",
       "\u001b[39m        \u001b[0m\u001b[32m'id'\u001b[0m\u001b[39m: \u001b[0m\u001b[1;36m16\u001b[0m\u001b[39m,\u001b[0m\n",
       "\u001b[39m        \u001b[0m\u001b[32m'image'\u001b[0m\u001b[39m: \u001b[0m\u001b[32m'images/00000017.jpg'\u001b[0m\u001b[39m,\u001b[0m\n",
       "\u001b[39m        \u001b[0m\u001b[32m'conversations'\u001b[0m\u001b[39m: \u001b[0m\u001b[1;39m[\u001b[0m\n",
       "\u001b[39m            \u001b[0m\u001b[1;39m{\u001b[0m\u001b[32m'from'\u001b[0m\u001b[39m: \u001b[0m\u001b[32m'human'\u001b[0m\u001b[39m, \u001b[0m\u001b[32m'value'\u001b[0m\u001b[39m: \u001b[0m\u001b[32m'<image>\\nWhat are the objects and relations you see in this image?'\u001b[0m\u001b[1;39m}\u001b[0m\u001b[39m,\u001b[0m\n",
       "\u001b[39m            \u001b[0m\u001b[1;39m{\u001b[0m\n",
       "\u001b[39m                \u001b[0m\u001b[32m'from'\u001b[0m\u001b[39m: \u001b[0m\u001b[32m'gpt'\u001b[0m\u001b[39m,\u001b[0m\n",
       "\u001b[39m                \u001b[0m\u001b[32m'value'\u001b[0m\u001b[39m: \u001b[0m\u001b[32m'Device 1: \\ninternals in hca_back\\nbattery in hca_back\\ninternals next to \u001b[0m\n",
       "\u001b[32mbattery\\nbattery next to internals\\n\\nDevice 2: \\npcb in hca_back\\nbattery in hca_back\\npcb next to \u001b[0m\n",
       "\u001b[32mbattery\\nbattery next to pcb\\n'\u001b[0m\n",
       "\u001b[39m            \u001b[0m\u001b[1;39m}\u001b[0m\n",
       "\u001b[39m        \u001b[0m\u001b[1;39m]\u001b[0m\n",
       "\u001b[39m    \u001b[0m\u001b[1;39m}\u001b[0m\u001b[39m,\u001b[0m\n",
       "\u001b[39m    \u001b[0m\u001b[1;39m{\u001b[0m\n",
       "\u001b[39m        \u001b[0m\u001b[32m'id'\u001b[0m\u001b[39m: \u001b[0m\u001b[1;36m17\u001b[0m\u001b[39m,\u001b[0m\n",
       "\u001b[39m        \u001b[0m\u001b[32m'image'\u001b[0m\u001b[39m: \u001b[0m\u001b[32m'images/00000018.jpg'\u001b[0m\u001b[39m,\u001b[0m\n",
       "\u001b[39m        \u001b[0m\u001b[32m'conversations'\u001b[0m\u001b[39m: \u001b[0m\u001b[1;39m[\u001b[0m\n",
       "\u001b[39m            \u001b[0m\u001b[1;39m{\u001b[0m\u001b[32m'from'\u001b[0m\u001b[39m: \u001b[0m\u001b[32m'human'\u001b[0m\u001b[39m, \u001b[0m\u001b[32m'value'\u001b[0m\u001b[39m: \u001b[0m\u001b[32m'<image>\\nWhat are the objects and relations you see in this image?'\u001b[0m\u001b[1;39m}\u001b[0m\u001b[39m,\u001b[0m\n",
       "\u001b[39m            \u001b[0m\u001b[1;39m{\u001b[0m\n",
       "\u001b[39m                \u001b[0m\u001b[32m'from'\u001b[0m\u001b[39m: \u001b[0m\u001b[32m'gpt'\u001b[0m\u001b[39m,\u001b[0m\n",
       "\u001b[39m                \u001b[0m\u001b[32m'value'\u001b[0m\u001b[39m: \u001b[0m\u001b[32m'Device 1: \\nhca_back in pcb\\npcb in hca_back\\nhca_back next to internals\\nhca_back next \u001b[0m\n",
       "\u001b[32mto pcb\\ninternals next to hca_back\\npcb next to hca_back\\npcb in internals\\npcb in internals\\nbattery in \u001b[0m\n",
       "\u001b[32minternals\\nbattery in pcb\\n'\u001b[0m\n",
       "\u001b[39m            \u001b[0m\u001b[1;39m}\u001b[0m\n",
       "\u001b[39m        \u001b[0m\u001b[1;39m]\u001b[0m\n",
       "\u001b[39m    \u001b[0m\u001b[1;39m}\u001b[0m\u001b[39m,\u001b[0m\n",
       "\u001b[39m    \u001b[0m\u001b[1;39m{\u001b[0m\n",
       "\u001b[39m        \u001b[0m\u001b[32m'id'\u001b[0m\u001b[39m: \u001b[0m\u001b[1;36m18\u001b[0m\u001b[39m,\u001b[0m\n",
       "\u001b[39m        \u001b[0m\u001b[32m'image'\u001b[0m\u001b[39m: \u001b[0m\u001b[32m'images/00000019.jpg'\u001b[0m\u001b[39m,\u001b[0m\n",
       "\u001b[39m        \u001b[0m\u001b[32m'conversations'\u001b[0m\u001b[39m: \u001b[0m\u001b[1;39m[\u001b[0m\n",
       "\u001b[39m            \u001b[0m\u001b[1;39m{\u001b[0m\u001b[32m'from'\u001b[0m\u001b[39m: \u001b[0m\u001b[32m'human'\u001b[0m\u001b[39m, \u001b[0m\u001b[32m'value'\u001b[0m\u001b[39m: \u001b[0m\u001b[32m'<image>\\nWhat are the objects and relations you see in this image?'\u001b[0m\u001b[1;39m}\u001b[0m\u001b[39m,\u001b[0m\n",
       "\u001b[39m            \u001b[0m\u001b[1;39m{\u001b[0m\u001b[32m'from'\u001b[0m\u001b[39m: \u001b[0m\u001b[32m'gpt'\u001b[0m\u001b[39m, \u001b[0m\u001b[32m'value'\u001b[0m\u001b[39m: \u001b[0m\u001b[32m'Device 1: \\npcb_covered in hca_back\\n'\u001b[0m\u001b[1;39m}\u001b[0m\n",
       "\u001b[39m        \u001b[0m\u001b[1;39m]\u001b[0m\n",
       "\u001b[39m    \u001b[0m\u001b[1;39m}\u001b[0m\u001b[39m,\u001b[0m\n",
       "\u001b[39m    \u001b[0m\u001b[1;39m{\u001b[0m\n",
       "\u001b[39m        \u001b[0m\u001b[32m'id'\u001b[0m\u001b[39m: \u001b[0m\u001b[1;36m19\u001b[0m\u001b[39m,\u001b[0m\n",
       "\u001b[39m        \u001b[0m\u001b[32m'image'\u001b[0m\u001b[39m: \u001b[0m\u001b[32m'images/00000020.jpg'\u001b[0m\u001b[39m,\u001b[0m\n",
       "\u001b[39m        \u001b[0m\u001b[32m'conversations'\u001b[0m\u001b[39m: \u001b[0m\u001b[1;39m[\u001b[0m\n",
       "\u001b[39m            \u001b[0m\u001b[1;39m{\u001b[0m\u001b[32m'from'\u001b[0m\u001b[39m: \u001b[0m\u001b[32m'human'\u001b[0m\u001b[39m, \u001b[0m\u001b[32m'value'\u001b[0m\u001b[39m: \u001b[0m\u001b[32m'<image>\\nWhat are the objects and relations you see in this image?'\u001b[0m\u001b[1;39m}\u001b[0m\u001b[39m,\u001b[0m\n",
       "\u001b[39m            \u001b[0m\u001b[1;39m{\u001b[0m\n",
       "\u001b[39m                \u001b[0m\u001b[32m'from'\u001b[0m\u001b[39m: \u001b[0m\u001b[32m'gpt'\u001b[0m\u001b[39m,\u001b[0m\n",
       "\u001b[39m                \u001b[0m\u001b[32m'value'\u001b[0m\u001b[39m: \u001b[0m\u001b[32m'Device 1: \\npcb_covered in hca_back\\nhca_back next to firealarm_back\\nfirealarm_back next\u001b[0m\n",
       "\u001b[32mto hca_back\\npcb in firealarm_back\\n'\u001b[0m\n",
       "\u001b[39m            \u001b[0m\u001b[1;39m}\u001b[0m\n",
       "\u001b[39m        \u001b[0m\u001b[1;39m]\u001b[0m\n",
       "\u001b[39m    \u001b[0m\u001b[1;39m}\u001b[0m\u001b[39m,\u001b[0m\n",
       "\u001b[39m    \u001b[0m\u001b[1;39m{\u001b[0m\n",
       "\u001b[39m        \u001b[0m\u001b[32m'id'\u001b[0m\u001b[39m: \u001b[0m\u001b[1;36m20\u001b[0m\u001b[39m,\u001b[0m\n",
       "\u001b[39m        \u001b[0m\u001b[32m'image'\u001b[0m\u001b[39m: \u001b[0m\u001b[32m'images/00000021.jpg'\u001b[0m\u001b[39m,\u001b[0m\n",
       "\u001b[39m        \u001b[0m\u001b[32m'conversations'\u001b[0m\u001b[39m: \u001b[0m\u001b[1;39m[\u001b[0m\n",
       "\u001b[39m            \u001b[0m\u001b[1;39m{\u001b[0m\u001b[32m'from'\u001b[0m\u001b[39m: \u001b[0m\u001b[32m'human'\u001b[0m\u001b[39m, \u001b[0m\u001b[32m'value'\u001b[0m\u001b[39m: \u001b[0m\u001b[32m'<image>\\nWhat are the objects and relations you see in this image?'\u001b[0m\u001b[1;39m}\u001b[0m\u001b[39m,\u001b[0m\n",
       "\u001b[39m            \u001b[0m\u001b[1;39m{\u001b[0m\n",
       "\u001b[39m                \u001b[0m\u001b[32m'from'\u001b[0m\u001b[39m: \u001b[0m\u001b[32m'gpt'\u001b[0m\u001b[39m,\u001b[0m\n",
       "\u001b[39m                \u001b[0m\u001b[32m'value'\u001b[0m\u001b[39m: \u001b[0m\u001b[32m'Device 1: \\npcb in hca_back\\nbattery in hca_back\\npcb next to battery\\nbattery next to \u001b[0m\n",
       "\u001b[32mpcb\\n'\u001b[0m\n",
       "\u001b[39m            \u001b[0m\u001b[1;39m}\u001b[0m\n",
       "\u001b[39m        \u001b[0m\u001b[1;39m]\u001b[0m\n",
       "\u001b[39m    \u001b[0m\u001b[1;39m}\u001b[0m\u001b[39m,\u001b[0m\n",
       "\u001b[39m    \u001b[0m\u001b[1;39m{\u001b[0m\n",
       "\u001b[39m        \u001b[0m\u001b[32m'id'\u001b[0m\u001b[39m: \u001b[0m\u001b[1;36m21\u001b[0m\u001b[39m,\u001b[0m\n",
       "\u001b[39m        \u001b[0m\u001b[32m'image'\u001b[0m\u001b[39m: \u001b[0m\u001b[32m'images/00000022.jpg'\u001b[0m\u001b[39m,\u001b[0m\n",
       "\u001b[39m        \u001b[0m\u001b[32m'conversations'\u001b[0m\u001b[39m: \u001b[0m\u001b[1;39m[\u001b[0m\n",
       "\u001b[39m            \u001b[0m\u001b[1;39m{\u001b[0m\u001b[32m'from'\u001b[0m\u001b[39m: \u001b[0m\u001b[32m'human'\u001b[0m\u001b[39m, \u001b[0m\u001b[32m'value'\u001b[0m\u001b[39m: \u001b[0m\u001b[32m'<image>\\nWhat are the objects and relations you see in this image?'\u001b[0m\u001b[1;39m}\u001b[0m\u001b[39m,\u001b[0m\n",
       "\u001b[39m            \u001b[0m\u001b[1;39m{\u001b[0m\n",
       "\u001b[39m                \u001b[0m\u001b[32m'from'\u001b[0m\u001b[39m: \u001b[0m\u001b[32m'gpt'\u001b[0m\u001b[39m,\u001b[0m\n",
       "\u001b[39m                \u001b[0m\u001b[32m'value'\u001b[0m\u001b[39m: \u001b[0m\u001b[32m'Device 1: \\nbattery_covered in firealarm_back\\nbattery_covered next to \u001b[0m\n",
       "\u001b[32mfirealarm_back\\nfirealarm_back next to battery_covered\\n'\u001b[0m\n",
       "\u001b[39m            \u001b[0m\u001b[1;39m}\u001b[0m\n",
       "\u001b[39m        \u001b[0m\u001b[1;39m]\u001b[0m\n",
       "\u001b[39m    \u001b[0m\u001b[1;39m}\u001b[0m\u001b[39m,\u001b[0m\n",
       "\u001b[39m    \u001b[0m\u001b[1;39m{\u001b[0m\n",
       "\u001b[39m        \u001b[0m\u001b[32m'id'\u001b[0m\u001b[39m: \u001b[0m\u001b[1;36m22\u001b[0m\u001b[39m,\u001b[0m\n",
       "\u001b[39m        \u001b[0m\u001b[32m'image'\u001b[0m\u001b[39m: \u001b[0m\u001b[32m'images/00000023.jpg'\u001b[0m\u001b[39m,\u001b[0m\n",
       "\u001b[39m        \u001b[0m\u001b[32m'conversations'\u001b[0m\u001b[39m: \u001b[0m\u001b[1;39m[\u001b[0m\n",
       "\u001b[39m            \u001b[0m\u001b[1;39m{\u001b[0m\u001b[32m'from'\u001b[0m\u001b[39m: \u001b[0m\u001b[32m'human'\u001b[0m\u001b[39m, \u001b[0m\u001b[32m'value'\u001b[0m\u001b[39m: \u001b[0m\u001b[32m'<image>\\nWhat are the objects and relations you see in this image?'\u001b[0m\u001b[1;39m}\u001b[0m\u001b[39m,\u001b[0m\n",
       "\u001b[39m            \u001b[0m\u001b[1;39m{\u001b[0m\u001b[32m'from'\u001b[0m\u001b[39m: \u001b[0m\u001b[32m'gpt'\u001b[0m\u001b[39m, \u001b[0m\u001b[32m'value'\u001b[0m\u001b[39m: \u001b[0m\u001b[32m'Device 1: \\nfirealarm_front\\nDevice 2: \\nfirealarm_back'\u001b[0m\u001b[1;39m}\u001b[0m\n",
       "\u001b[39m        \u001b[0m\u001b[1;39m]\u001b[0m\n",
       "\u001b[39m    \u001b[0m\u001b[1;39m}\u001b[0m\u001b[39m,\u001b[0m\n",
       "\u001b[39m    \u001b[0m\u001b[1;39m{\u001b[0m\n",
       "\u001b[39m        \u001b[0m\u001b[32m'id'\u001b[0m\u001b[39m: \u001b[0m\u001b[1;36m23\u001b[0m\u001b[39m,\u001b[0m\n",
       "\u001b[39m        \u001b[0m\u001b[32m'image'\u001b[0m\u001b[39m: \u001b[0m\u001b[32m'images/00000024.jpg'\u001b[0m\u001b[39m,\u001b[0m\n",
       "\u001b[39m        \u001b[0m\u001b[32m'conversations'\u001b[0m\u001b[39m: \u001b[0m\u001b[1;39m[\u001b[0m\n",
       "\u001b[39m            \u001b[0m\u001b[1;39m{\u001b[0m\u001b[32m'from'\u001b[0m\u001b[39m: \u001b[0m\u001b[32m'human'\u001b[0m\u001b[39m, \u001b[0m\u001b[32m'value'\u001b[0m\u001b[39m: \u001b[0m\u001b[32m'<image>\\nWhat are the objects and relations you see in this image?'\u001b[0m\u001b[1;39m}\u001b[0m\u001b[39m,\u001b[0m\n",
       "\u001b[39m            \u001b[0m\u001b[1;39m{\u001b[0m\u001b[32m'from'\u001b[0m\u001b[39m: \u001b[0m\u001b[32m'gpt'\u001b[0m\u001b[39m, \u001b[0m\u001b[32m'value'\u001b[0m\u001b[39m: \u001b[0m\u001b[32m'Device 1: \\npcb in hca_back\\n'\u001b[0m\u001b[1;39m}\u001b[0m\n",
       "\u001b[39m        \u001b[0m\u001b[1;39m]\u001b[0m\n",
       "\u001b[39m    \u001b[0m\u001b[1;39m}\u001b[0m\u001b[39m,\u001b[0m\n",
       "\u001b[39m    \u001b[0m\u001b[1;39m{\u001b[0m\n",
       "\u001b[39m        \u001b[0m\u001b[32m'id'\u001b[0m\u001b[39m: \u001b[0m\u001b[1;36m24\u001b[0m\u001b[39m,\u001b[0m\n",
       "\u001b[39m        \u001b[0m\u001b[32m'image'\u001b[0m\u001b[39m: \u001b[0m\u001b[32m'images/00000025.jpg'\u001b[0m\u001b[39m,\u001b[0m\n",
       "\u001b[39m        \u001b[0m\u001b[32m'conversations'\u001b[0m\u001b[39m: \u001b[0m\u001b[1;39m[\u001b[0m\n",
       "\u001b[39m            \u001b[0m\u001b[1;39m{\u001b[0m\u001b[32m'from'\u001b[0m\u001b[39m: \u001b[0m\u001b[32m'human'\u001b[0m\u001b[39m, \u001b[0m\u001b[32m'value'\u001b[0m\u001b[39m: \u001b[0m\u001b[32m'<image>\\nWhat are the objects and relations you see in this image?'\u001b[0m\u001b[1;39m}\u001b[0m\u001b[39m,\u001b[0m\n",
       "\u001b[39m            \u001b[0m\u001b[1;39m{\u001b[0m\n",
       "\u001b[39m                \u001b[0m\u001b[32m'from'\u001b[0m\u001b[39m: \u001b[0m\u001b[32m'gpt'\u001b[0m\u001b[39m,\u001b[0m\n",
       "\u001b[39m                \u001b[0m\u001b[32m'value'\u001b[0m\u001b[39m: \u001b[0m\u001b[32m'Device 1: \\nbattery_covered in firealarm_back\\nfirealarm_back next to hca_back\\nhca_back \u001b[0m\n",
       "\u001b[32mnext to firealarm_back\\nbattery_covered next to hca_back\\nhca_back next to battery_covered\\ninternals in \u001b[0m\n",
       "\u001b[32mhca_back\\npcb in hca_back\\nbattery in hca_back\\ninternals next to pcb\\npcb next to internals\\npcb next to \u001b[0m\n",
       "\u001b[32mbattery\\nbattery next to pcb\\n'\u001b[0m\n",
       "\u001b[39m            \u001b[0m\u001b[1;39m}\u001b[0m\n",
       "\u001b[39m        \u001b[0m\u001b[1;39m]\u001b[0m\n",
       "\u001b[39m    \u001b[0m\u001b[1;39m}\u001b[0m\u001b[39m,\u001b[0m\n",
       "\u001b[39m    \u001b[0m\u001b[1;39m{\u001b[0m\n",
       "\u001b[39m        \u001b[0m\u001b[32m'id'\u001b[0m\u001b[39m: \u001b[0m\u001b[1;36m25\u001b[0m\u001b[39m,\u001b[0m\n",
       "\u001b[39m        \u001b[0m\u001b[32m'image'\u001b[0m\u001b[39m: \u001b[0m\u001b[32m'images/00000026.jpg'\u001b[0m\u001b[39m,\u001b[0m\n",
       "\u001b[39m        \u001b[0m\u001b[32m'conversations'\u001b[0m\u001b[39m: \u001b[0m\u001b[1;39m[\u001b[0m\n",
       "\u001b[39m            \u001b[0m\u001b[1;39m{\u001b[0m\u001b[32m'from'\u001b[0m\u001b[39m: \u001b[0m\u001b[32m'human'\u001b[0m\u001b[39m, \u001b[0m\u001b[32m'value'\u001b[0m\u001b[39m: \u001b[0m\u001b[32m'<image>\\nWhat are the objects and relations you see in this image?'\u001b[0m\u001b[1;39m}\u001b[0m\u001b[39m,\u001b[0m\n",
       "\u001b[39m            \u001b[0m\u001b[1;39m{\u001b[0m\n",
       "\u001b[39m                \u001b[0m\u001b[32m'from'\u001b[0m\u001b[39m: \u001b[0m\u001b[32m'gpt'\u001b[0m\u001b[39m,\u001b[0m\n",
       "\u001b[39m                \u001b[0m\u001b[32m'value'\u001b[0m\u001b[39m: \u001b[0m\u001b[32m'Device 1: \\npcb in internals\\nbattery in internals\\nbattery next to internals\\ninternals \u001b[0m\n",
       "\u001b[32mnext to battery\\npcb in internals\\nbattery in internals\\nbattery in pcb\\n'\u001b[0m\n",
       "\u001b[39m            \u001b[0m\u001b[1;39m}\u001b[0m\n",
       "\u001b[39m        \u001b[0m\u001b[1;39m]\u001b[0m\n",
       "\u001b[39m    \u001b[0m\u001b[1;39m}\u001b[0m\u001b[39m,\u001b[0m\n",
       "\u001b[39m    \u001b[0m\u001b[1;39m{\u001b[0m\n",
       "\u001b[39m        \u001b[0m\u001b[32m'id'\u001b[0m\u001b[39m: \u001b[0m\u001b[1;36m26\u001b[0m\u001b[39m,\u001b[0m\n",
       "\u001b[39m        \u001b[0m\u001b[32m'image'\u001b[0m\u001b[39m: \u001b[0m\u001b[32m'images/00000027.jpg'\u001b[0m\u001b[39m,\u001b[0m\n",
       "\u001b[39m        \u001b[0m\u001b[32m'conversations'\u001b[0m\u001b[39m: \u001b[0m\u001b[1;39m[\u001b[0m\n",
       "\u001b[39m            \u001b[0m\u001b[1;39m{\u001b[0m\u001b[32m'from'\u001b[0m\u001b[39m: \u001b[0m\u001b[32m'human'\u001b[0m\u001b[39m, \u001b[0m\u001b[32m'value'\u001b[0m\u001b[39m: \u001b[0m\u001b[32m'<image>\\nWhat are the objects and relations you see in this image?'\u001b[0m\u001b[1;39m}\u001b[0m\u001b[39m,\u001b[0m\n",
       "\u001b[39m            \u001b[0m\u001b[1;39m{\u001b[0m\u001b[32m'from'\u001b[0m\u001b[39m: \u001b[0m\u001b[32m'gpt'\u001b[0m\u001b[39m, \u001b[0m\u001b[32m'value'\u001b[0m\u001b[39m: \u001b[0m\u001b[32m'Device 1: \\npcb_covered in hca_back\\n'\u001b[0m\u001b[1;39m}\u001b[0m\n",
       "\u001b[39m        \u001b[0m\u001b[1;39m]\u001b[0m\n",
       "\u001b[39m    \u001b[0m\u001b[1;39m}\u001b[0m\u001b[39m,\u001b[0m\n",
       "\u001b[39m    \u001b[0m\u001b[1;39m{\u001b[0m\n",
       "\u001b[39m        \u001b[0m\u001b[32m'id'\u001b[0m\u001b[39m: \u001b[0m\u001b[1;36m27\u001b[0m\u001b[39m,\u001b[0m\n",
       "\u001b[39m        \u001b[0m\u001b[32m'image'\u001b[0m\u001b[39m: \u001b[0m\u001b[32m'images/00000028.jpg'\u001b[0m\u001b[39m,\u001b[0m\n",
       "\u001b[39m        \u001b[0m\u001b[32m'conversations'\u001b[0m\u001b[39m: \u001b[0m\u001b[1;39m[\u001b[0m\n",
       "\u001b[39m            \u001b[0m\u001b[1;39m{\u001b[0m\u001b[32m'from'\u001b[0m\u001b[39m: \u001b[0m\u001b[32m'human'\u001b[0m\u001b[39m, \u001b[0m\u001b[32m'value'\u001b[0m\u001b[39m: \u001b[0m\u001b[32m'<image>\\nWhat are the objects and relations you see in this image?'\u001b[0m\u001b[1;39m}\u001b[0m\u001b[39m,\u001b[0m\n",
       "\u001b[39m            \u001b[0m\u001b[1;39m{\u001b[0m\u001b[32m'from'\u001b[0m\u001b[39m: \u001b[0m\u001b[32m'gpt'\u001b[0m\u001b[39m, \u001b[0m\u001b[32m'value'\u001b[0m\u001b[39m: \u001b[0m\u001b[32m'Device 1: \\npcb in internals\\nbattery in internals\\nbattery in pcb\\n'\u001b[0m\u001b[1;39m}\u001b[0m\n",
       "\u001b[39m        \u001b[0m\u001b[1;39m]\u001b[0m\n",
       "\u001b[39m    \u001b[0m\u001b[1;39m}\u001b[0m\u001b[39m,\u001b[0m\n",
       "\u001b[39m    \u001b[0m\u001b[1;39m{\u001b[0m\n",
       "\u001b[39m        \u001b[0m\u001b[32m'id'\u001b[0m\u001b[39m: \u001b[0m\u001b[1;36m28\u001b[0m\u001b[39m,\u001b[0m\n",
       "\u001b[39m        \u001b[0m\u001b[32m'image'\u001b[0m\u001b[39m: \u001b[0m\u001b[32m'images/00000029.jpg'\u001b[0m\u001b[39m,\u001b[0m\n",
       "\u001b[39m        \u001b[0m\u001b[32m'conversations'\u001b[0m\u001b[39m: \u001b[0m\u001b[1;39m[\u001b[0m\n",
       "\u001b[39m            \u001b[0m\u001b[1;39m{\u001b[0m\u001b[32m'from'\u001b[0m\u001b[39m: \u001b[0m\u001b[32m'human'\u001b[0m\u001b[39m, \u001b[0m\u001b[32m'value'\u001b[0m\u001b[39m: \u001b[0m\u001b[32m'<image>\\nWhat are the objects and relations you see in this image?'\u001b[0m\u001b[1;39m}\u001b[0m\u001b[39m,\u001b[0m\n",
       "\u001b[39m            \u001b[0m\u001b[1;39m{\u001b[0m\u001b[32m'from'\u001b[0m\u001b[39m: \u001b[0m\u001b[32m'gpt'\u001b[0m\u001b[39m, \u001b[0m\u001b[32m'value'\u001b[0m\u001b[39m: \u001b[0m\u001b[32m'Device 1: \\n'\u001b[0m\u001b[1;39m}\u001b[0m\n",
       "\u001b[39m        \u001b[0m\u001b[1;39m]\u001b[0m\n",
       "\u001b[39m    \u001b[0m\u001b[1;39m}\u001b[0m\u001b[39m,\u001b[0m\n",
       "\u001b[39m    \u001b[0m\u001b[1;39m{\u001b[0m\n",
       "\u001b[39m        \u001b[0m\u001b[32m'id'\u001b[0m\u001b[39m: \u001b[0m\u001b[1;36m29\u001b[0m\u001b[39m,\u001b[0m\n",
       "\u001b[39m        \u001b[0m\u001b[32m'image'\u001b[0m\u001b[39m: \u001b[0m\u001b[32m'images/00000030.jpg'\u001b[0m\u001b[39m,\u001b[0m\n",
       "\u001b[39m        \u001b[0m\u001b[32m'conversations'\u001b[0m\u001b[39m: \u001b[0m\u001b[1;39m[\u001b[0m\n",
       "\u001b[39m            \u001b[0m\u001b[1;39m{\u001b[0m\u001b[32m'from'\u001b[0m\u001b[39m: \u001b[0m\u001b[32m'human'\u001b[0m\u001b[39m, \u001b[0m\u001b[32m'value'\u001b[0m\u001b[39m: \u001b[0m\u001b[32m'<image>\\nWhat are the objects and relations you see in this image?'\u001b[0m\u001b[1;39m}\u001b[0m\u001b[39m,\u001b[0m\n",
       "\u001b[39m            \u001b[0m\u001b[1;39m{\u001b[0m\u001b[32m'from'\u001b[0m\u001b[39m: \u001b[0m\u001b[32m'gpt'\u001b[0m\u001b[39m, \u001b[0m\u001b[32m'value'\u001b[0m\u001b[39m: \u001b[0m\u001b[32m'Device 1: \\npcb'\u001b[0m\u001b[1;39m}\u001b[0m\n",
       "\u001b[39m        \u001b[0m\u001b[1;39m]\u001b[0m\n",
       "\u001b[39m    \u001b[0m\u001b[1;39m}\u001b[0m\u001b[39m,\u001b[0m\n",
       "\u001b[39m    \u001b[0m\u001b[1;39m{\u001b[0m\n",
       "\u001b[39m        \u001b[0m\u001b[32m'id'\u001b[0m\u001b[39m: \u001b[0m\u001b[1;36m30\u001b[0m\u001b[39m,\u001b[0m\n",
       "\u001b[39m        \u001b[0m\u001b[32m'image'\u001b[0m\u001b[39m: \u001b[0m\u001b[32m'images/00000031.jpg'\u001b[0m\u001b[39m,\u001b[0m\n",
       "\u001b[39m        \u001b[0m\u001b[32m'conversations'\u001b[0m\u001b[39m: \u001b[0m\u001b[1;39m[\u001b[0m\n",
       "\u001b[39m            \u001b[0m\u001b[1;39m{\u001b[0m\u001b[32m'from'\u001b[0m\u001b[39m: \u001b[0m\u001b[32m'human'\u001b[0m\u001b[39m, \u001b[0m\u001b[32m'value'\u001b[0m\u001b[39m: \u001b[0m\u001b[32m'<image>\\nWhat are the objects and relations you see in this image?'\u001b[0m\u001b[1;39m}\u001b[0m\u001b[39m,\u001b[0m\n",
       "\u001b[39m            \u001b[0m\u001b[1;39m{\u001b[0m\n",
       "\u001b[39m                \u001b[0m\u001b[32m'from'\u001b[0m\u001b[39m: \u001b[0m\u001b[32m'gpt'\u001b[0m\u001b[39m,\u001b[0m\n",
       "\u001b[39m                \u001b[0m\u001b[32m'value'\u001b[0m\u001b[39m: \u001b[0m\u001b[32m'Device 1: \\npcb in internals\\nbattery in internals\\n\\nDevice 2: \\nfirealarm_front'\u001b[0m\n",
       "\u001b[39m            \u001b[0m\u001b[1;39m}\u001b[0m\n",
       "\u001b[39m        \u001b[0m\u001b[1;39m]\u001b[0m\n",
       "\u001b[39m    \u001b[0m\u001b[1;39m}\u001b[0m\u001b[39m,\u001b[0m\n",
       "\u001b[39m    \u001b[0m\u001b[1;39m{\u001b[0m\n",
       "\u001b[39m        \u001b[0m\u001b[32m'id'\u001b[0m\u001b[39m: \u001b[0m\u001b[1;36m31\u001b[0m\u001b[39m,\u001b[0m\n",
       "\u001b[39m        \u001b[0m\u001b[32m'image'\u001b[0m\u001b[39m: \u001b[0m\u001b[32m'images/00000032.jpg'\u001b[0m\u001b[39m,\u001b[0m\n",
       "\u001b[39m        \u001b[0m\u001b[32m'conversations'\u001b[0m\u001b[39m: \u001b[0m\u001b[1;39m[\u001b[0m\n",
       "\u001b[39m            \u001b[0m\u001b[1;39m{\u001b[0m\u001b[32m'from'\u001b[0m\u001b[39m: \u001b[0m\u001b[32m'human'\u001b[0m\u001b[39m, \u001b[0m\u001b[32m'value'\u001b[0m\u001b[39m: \u001b[0m\u001b[32m'<image>\\nWhat are the objects and relations you see in this image?'\u001b[0m\u001b[1;39m}\u001b[0m\u001b[39m,\u001b[0m\n",
       "\u001b[39m            \u001b[0m\u001b[1;39m{\u001b[0m\n",
       "\u001b[39m                \u001b[0m\u001b[32m'from'\u001b[0m\u001b[39m: \u001b[0m\u001b[32m'gpt'\u001b[0m\u001b[39m,\u001b[0m\n",
       "\u001b[39m                \u001b[0m\u001b[32m'value'\u001b[0m\u001b[39m: \u001b[0m\u001b[32m'Device 1: \\nfirealarm_front next to hca_back\\nfirealarm_front next to \u001b[0m\n",
       "\u001b[32mpcb_covered\\nhca_back next to firealarm_front\\npcb_covered next to firealarm_front\\nplastic_clip in \u001b[0m\n",
       "\u001b[32mhca_back\\npcb_covered in hca_back\\nplastic_clip next to pcb_covered\\npcb_covered next to plastic_clip\\n'\u001b[0m\n",
       "\u001b[39m            \u001b[0m\u001b[1;39m}\u001b[0m\n",
       "\u001b[39m        \u001b[0m\u001b[1;39m]\u001b[0m\n",
       "\u001b[39m    \u001b[0m\u001b[1;39m}\u001b[0m\u001b[39m,\u001b[0m\n",
       "\u001b[39m    \u001b[0m\u001b[1;39m{\u001b[0m\n",
       "\u001b[39m        \u001b[0m\u001b[32m'id'\u001b[0m\u001b[39m: \u001b[0m\u001b[1;36m32\u001b[0m\u001b[39m,\u001b[0m\n",
       "\u001b[39m        \u001b[0m\u001b[32m'image'\u001b[0m\u001b[39m: \u001b[0m\u001b[32m'images/00000033.jpg'\u001b[0m\u001b[39m,\u001b[0m\n",
       "\u001b[39m        \u001b[0m\u001b[32m'conversations'\u001b[0m\u001b[39m: \u001b[0m\u001b[1;39m[\u001b[0m\n",
       "\u001b[39m            \u001b[0m\u001b[1;39m{\u001b[0m\u001b[32m'from'\u001b[0m\u001b[39m: \u001b[0m\u001b[32m'human'\u001b[0m\u001b[39m, \u001b[0m\u001b[32m'value'\u001b[0m\u001b[39m: \u001b[0m\u001b[32m'<image>\\nWhat are the objects and relations you see in this image?'\u001b[0m\u001b[1;39m}\u001b[0m\u001b[39m,\u001b[0m\n",
       "\u001b[39m            \u001b[0m\u001b[1;39m{\u001b[0m\n",
       "\u001b[39m                \u001b[0m\u001b[32m'from'\u001b[0m\u001b[39m: \u001b[0m\u001b[32m'gpt'\u001b[0m\u001b[39m,\u001b[0m\n",
       "\u001b[39m                \u001b[0m\u001b[32m'value'\u001b[0m\u001b[39m: \u001b[0m\u001b[32m'Device 1: \\npcb in firealarm_back\\nbattery in firealarm_back\\nbattery in pcb\\n\\nDevice 2:\u001b[0m\n",
       "\u001b[32m\\nbattery in internals\\n'\u001b[0m\n",
       "\u001b[39m            \u001b[0m\u001b[1;39m}\u001b[0m\n",
       "\u001b[39m        \u001b[0m\u001b[1;39m]\u001b[0m\n",
       "\u001b[39m    \u001b[0m\u001b[1;39m}\u001b[0m\u001b[39m,\u001b[0m\n",
       "\u001b[39m    \u001b[0m\u001b[1;39m{\u001b[0m\n",
       "\u001b[39m        \u001b[0m\u001b[32m'id'\u001b[0m\u001b[39m: \u001b[0m\u001b[1;36m33\u001b[0m\u001b[39m,\u001b[0m\n",
       "\u001b[39m        \u001b[0m\u001b[32m'image'\u001b[0m\u001b[39m: \u001b[0m\u001b[32m'images/00000034.jpg'\u001b[0m\u001b[39m,\u001b[0m\n",
       "\u001b[39m        \u001b[0m\u001b[32m'conversations'\u001b[0m\u001b[39m: \u001b[0m\u001b[1;39m[\u001b[0m\n",
       "\u001b[39m            \u001b[0m\u001b[1;39m{\u001b[0m\u001b[32m'from'\u001b[0m\u001b[39m: \u001b[0m\u001b[32m'human'\u001b[0m\u001b[39m, \u001b[0m\u001b[32m'value'\u001b[0m\u001b[39m: \u001b[0m\u001b[32m'<image>\\nWhat are the objects and relations you see in this image?'\u001b[0m\u001b[1;39m}\u001b[0m\u001b[39m,\u001b[0m\n",
       "\u001b[39m            \u001b[0m\u001b[1;39m{\u001b[0m\n",
       "\u001b[39m                \u001b[0m\u001b[32m'from'\u001b[0m\u001b[39m: \u001b[0m\u001b[32m'gpt'\u001b[0m\u001b[39m,\u001b[0m\n",
       "\u001b[39m                \u001b[0m\u001b[32m'value'\u001b[0m\u001b[39m: \u001b[0m\u001b[32m'Device 1: \\nfirealarm_back next to hca_back\\nfirealarm_back next to pcb_covered\\nhca_back\u001b[0m\n",
       "\u001b[32mnext to firealarm_back\\npcb_covered next to firealarm_back\\npcb_covered in hca_back\\n'\u001b[0m\n",
       "\u001b[39m            \u001b[0m\u001b[1;39m}\u001b[0m\n",
       "\u001b[39m        \u001b[0m\u001b[1;39m]\u001b[0m\n",
       "\u001b[39m    \u001b[0m\u001b[1;39m}\u001b[0m\u001b[39m,\u001b[0m\n",
       "\u001b[39m    \u001b[0m\u001b[1;39m{\u001b[0m\n",
       "\u001b[39m        \u001b[0m\u001b[32m'id'\u001b[0m\u001b[39m: \u001b[0m\u001b[1;36m34\u001b[0m\u001b[39m,\u001b[0m\n",
       "\u001b[39m        \u001b[0m\u001b[32m'image'\u001b[0m\u001b[39m: \u001b[0m\u001b[32m'images/00000035.jpg'\u001b[0m\u001b[39m,\u001b[0m\n",
       "\u001b[39m        \u001b[0m\u001b[32m'conversations'\u001b[0m\u001b[39m: \u001b[0m\u001b[1;39m[\u001b[0m\n",
       "\u001b[39m            \u001b[0m\u001b[1;39m{\u001b[0m\u001b[32m'from'\u001b[0m\u001b[39m: \u001b[0m\u001b[32m'human'\u001b[0m\u001b[39m, \u001b[0m\u001b[32m'value'\u001b[0m\u001b[39m: \u001b[0m\u001b[32m'<image>\\nWhat are the objects and relations you see in this image?'\u001b[0m\u001b[1;39m}\u001b[0m\u001b[39m,\u001b[0m\n",
       "\u001b[39m            \u001b[0m\u001b[1;39m{\u001b[0m\n",
       "\u001b[39m                \u001b[0m\u001b[32m'from'\u001b[0m\u001b[39m: \u001b[0m\u001b[32m'gpt'\u001b[0m\u001b[39m,\u001b[0m\n",
       "\u001b[39m                \u001b[0m\u001b[32m'value'\u001b[0m\u001b[39m: \u001b[0m\u001b[32m'Device 1: \\nbattery_covered in firealarm_back\\nfirealarm_back next to hca_back\\nhca_back \u001b[0m\n",
       "\u001b[32mnext to firealarm_back\\npcb_covered in hca_back\\n'\u001b[0m\n",
       "\u001b[39m            \u001b[0m\u001b[1;39m}\u001b[0m\n",
       "\u001b[39m        \u001b[0m\u001b[1;39m]\u001b[0m\n",
       "\u001b[39m    \u001b[0m\u001b[1;39m}\u001b[0m\u001b[39m,\u001b[0m\n",
       "\u001b[39m    \u001b[0m\u001b[1;39m{\u001b[0m\n",
       "\u001b[39m        \u001b[0m\u001b[32m'id'\u001b[0m\u001b[39m: \u001b[0m\u001b[1;36m35\u001b[0m\u001b[39m,\u001b[0m\n",
       "\u001b[39m        \u001b[0m\u001b[32m'image'\u001b[0m\u001b[39m: \u001b[0m\u001b[32m'images/00000036.jpg'\u001b[0m\u001b[39m,\u001b[0m\n",
       "\u001b[39m        \u001b[0m\u001b[32m'conversations'\u001b[0m\u001b[39m: \u001b[0m\u001b[1;39m[\u001b[0m\n",
       "\u001b[39m            \u001b[0m\u001b[1;39m{\u001b[0m\u001b[32m'from'\u001b[0m\u001b[39m: \u001b[0m\u001b[32m'human'\u001b[0m\u001b[39m, \u001b[0m\u001b[32m'value'\u001b[0m\u001b[39m: \u001b[0m\u001b[32m'<image>\\nWhat are the objects and relations you see in this image?'\u001b[0m\u001b[1;39m}\u001b[0m\u001b[39m,\u001b[0m\n",
       "\u001b[39m            \u001b[0m\u001b[1;39m{\u001b[0m\n",
       "\u001b[39m                \u001b[0m\u001b[32m'from'\u001b[0m\u001b[39m: \u001b[0m\u001b[32m'gpt'\u001b[0m\u001b[39m,\u001b[0m\n",
       "\u001b[39m                \u001b[0m\u001b[32m'value'\u001b[0m\u001b[39m: \u001b[0m\u001b[32m'Device 1: \\npcb in hca_back\\nhca_back next to internals\\ninternals next to hca_back\\npcb \u001b[0m\n",
       "\u001b[32mnext to internals\\ninternals next to pcb\\n'\u001b[0m\n",
       "\u001b[39m            \u001b[0m\u001b[1;39m}\u001b[0m\n",
       "\u001b[39m        \u001b[0m\u001b[1;39m]\u001b[0m\n",
       "\u001b[39m    \u001b[0m\u001b[1;39m}\u001b[0m\u001b[39m,\u001b[0m\n",
       "\u001b[39m    \u001b[0m\u001b[1;39m{\u001b[0m\n",
       "\u001b[39m        \u001b[0m\u001b[32m'id'\u001b[0m\u001b[39m: \u001b[0m\u001b[1;36m36\u001b[0m\u001b[39m,\u001b[0m\n",
       "\u001b[39m        \u001b[0m\u001b[32m'image'\u001b[0m\u001b[39m: \u001b[0m\u001b[32m'images/00000037.jpg'\u001b[0m\u001b[39m,\u001b[0m\n",
       "\u001b[39m        \u001b[0m\u001b[32m'conversations'\u001b[0m\u001b[39m: \u001b[0m\u001b[1;39m[\u001b[0m\n",
       "\u001b[39m            \u001b[0m\u001b[1;39m{\u001b[0m\u001b[32m'from'\u001b[0m\u001b[39m: \u001b[0m\u001b[32m'human'\u001b[0m\u001b[39m, \u001b[0m\u001b[32m'value'\u001b[0m\u001b[39m: \u001b[0m\u001b[32m'<image>\\nWhat are the objects and relations you see in this image?'\u001b[0m\u001b[1;39m}\u001b[0m\u001b[39m,\u001b[0m\n",
       "\u001b[39m            \u001b[0m\u001b[1;39m{\u001b[0m\n",
       "\u001b[39m                \u001b[0m\u001b[32m'from'\u001b[0m\u001b[39m: \u001b[0m\u001b[32m'gpt'\u001b[0m\u001b[39m,\u001b[0m\n",
       "\u001b[39m                \u001b[0m\u001b[32m'value'\u001b[0m\u001b[39m: \u001b[0m\u001b[32m'Device 1: \\nfirealarm_back next to firealarm_front\\nfirealarm_front next to \u001b[0m\n",
       "\u001b[32mfirealarm_back\\n'\u001b[0m\n",
       "\u001b[39m            \u001b[0m\u001b[1;39m}\u001b[0m\n",
       "\u001b[39m        \u001b[0m\u001b[1;39m]\u001b[0m\n",
       "\u001b[39m    \u001b[0m\u001b[1;39m}\u001b[0m\u001b[39m,\u001b[0m\n",
       "\u001b[39m    \u001b[0m\u001b[1;39m{\u001b[0m\n",
       "\u001b[39m        \u001b[0m\u001b[32m'id'\u001b[0m\u001b[39m: \u001b[0m\u001b[1;36m37\u001b[0m\u001b[39m,\u001b[0m\n",
       "\u001b[39m        \u001b[0m\u001b[32m'image'\u001b[0m\u001b[39m: \u001b[0m\u001b[32m'images/00000038.jpg'\u001b[0m\u001b[39m,\u001b[0m\n",
       "\u001b[39m        \u001b[0m\u001b[32m'conversations'\u001b[0m\u001b[39m: \u001b[0m\u001b[1;39m[\u001b[0m\n",
       "\u001b[39m            \u001b[0m\u001b[1;39m{\u001b[0m\u001b[32m'from'\u001b[0m\u001b[39m: \u001b[0m\u001b[32m'human'\u001b[0m\u001b[39m, \u001b[0m\u001b[32m'value'\u001b[0m\u001b[39m: \u001b[0m\u001b[32m'<image>\\nWhat are the objects and relations you see in this image?'\u001b[0m\u001b[1;39m}\u001b[0m\u001b[39m,\u001b[0m\n",
       "\u001b[39m            \u001b[0m\u001b[1;39m{\u001b[0m\n",
       "\u001b[39m                \u001b[0m\u001b[32m'from'\u001b[0m\u001b[39m: \u001b[0m\u001b[32m'gpt'\u001b[0m\u001b[39m,\u001b[0m\n",
       "\u001b[39m                \u001b[0m\u001b[32m'value'\u001b[0m\u001b[39m: \u001b[0m\u001b[32m'Device 1: \\npcb_covered in hca_back\\n\\nDevice 2: \\nbattery_covered in firealarm_back\\n'\u001b[0m\n",
       "\u001b[39m            \u001b[0m\u001b[1;39m}\u001b[0m\n",
       "\u001b[39m        \u001b[0m\u001b[1;39m]\u001b[0m\n",
       "\u001b[39m    \u001b[0m\u001b[1;39m}\u001b[0m\u001b[39m,\u001b[0m\n",
       "\u001b[39m    \u001b[0m\u001b[1;39m{\u001b[0m\n",
       "\u001b[39m        \u001b[0m\u001b[32m'id'\u001b[0m\u001b[39m: \u001b[0m\u001b[1;36m38\u001b[0m\u001b[39m,\u001b[0m\n",
       "\u001b[39m        \u001b[0m\u001b[32m'image'\u001b[0m\u001b[39m: \u001b[0m\u001b[32m'images/00000039.jpg'\u001b[0m\u001b[39m,\u001b[0m\n",
       "\u001b[39m        \u001b[0m\u001b[32m'conversations'\u001b[0m\u001b[39m: \u001b[0m\u001b[1;39m[\u001b[0m\n",
       "\u001b[39m            \u001b[0m\u001b[1;39m{\u001b[0m\u001b[32m'from'\u001b[0m\u001b[39m: \u001b[0m\u001b[32m'human'\u001b[0m\u001b[39m, \u001b[0m\u001b[32m'value'\u001b[0m\u001b[39m: \u001b[0m\u001b[32m'<image>\\nWhat are the objects and relations you see in this image?'\u001b[0m\u001b[1;39m}\u001b[0m\u001b[39m,\u001b[0m\n",
       "\u001b[39m            \u001b[0m\u001b[1;39m{\u001b[0m\u001b[32m'from'\u001b[0m\u001b[39m: \u001b[0m\u001b[32m'gpt'\u001b[0m\u001b[39m, \u001b[0m\u001b[32m'value'\u001b[0m\u001b[39m: \u001b[0m\u001b[32m'Device 1: \\npcb in hca_back\\n'\u001b[0m\u001b[1;39m}\u001b[0m\n",
       "\u001b[39m        \u001b[0m\u001b[1;39m]\u001b[0m\n",
       "\u001b[39m    \u001b[0m\u001b[1;39m}\u001b[0m\u001b[39m,\u001b[0m\n",
       "\u001b[39m    \u001b[0m\u001b[1;39m{\u001b[0m\n",
       "\u001b[39m        \u001b[0m\u001b[32m'id'\u001b[0m\u001b[39m: \u001b[0m\u001b[1;36m39\u001b[0m\u001b[39m,\u001b[0m\n",
       "\u001b[39m        \u001b[0m\u001b[32m'image'\u001b[0m\u001b[39m: \u001b[0m\u001b[32m'images/00000040.jpg'\u001b[0m\u001b[39m,\u001b[0m\n",
       "\u001b[39m        \u001b[0m\u001b[32m'conversations'\u001b[0m\u001b[39m: \u001b[0m\u001b[1;39m[\u001b[0m\n",
       "\u001b[39m            \u001b[0m\u001b[1;39m{\u001b[0m\u001b[32m'from'\u001b[0m\u001b[39m: \u001b[0m\u001b[32m'human'\u001b[0m\u001b[39m, \u001b[0m\u001b[32m'value'\u001b[0m\u001b[39m: \u001b[0m\u001b[32m'<image>\\nWhat are the objects and relations you see in this image?'\u001b[0m\u001b[1;39m}\u001b[0m\u001b[39m,\u001b[0m\n",
       "\u001b[39m            \u001b[0m\u001b[1;39m{\u001b[0m\u001b[32m'from'\u001b[0m\u001b[39m: \u001b[0m\u001b[32m'gpt'\u001b[0m\u001b[39m, \u001b[0m\u001b[32m'value'\u001b[0m\u001b[39m: \u001b[0m\u001b[32m'Device 1: \\npcb in hca_back\\nbattery in hca_back\\nbattery in pcb\\n'\u001b[0m\u001b[1;39m}\u001b[0m\n",
       "\u001b[39m        \u001b[0m\u001b[1;39m]\u001b[0m\n",
       "\u001b[39m    \u001b[0m\u001b[1;39m}\u001b[0m\u001b[39m,\u001b[0m\n",
       "\u001b[39m    \u001b[0m\u001b[1;39m{\u001b[0m\n",
       "\u001b[39m        \u001b[0m\u001b[32m'id'\u001b[0m\u001b[39m: \u001b[0m\u001b[1;36m40\u001b[0m\u001b[39m,\u001b[0m\n",
       "\u001b[39m        \u001b[0m\u001b[32m'image'\u001b[0m\u001b[39m: \u001b[0m\u001b[32m'images/00000041.jpg'\u001b[0m\u001b[39m,\u001b[0m\n",
       "\u001b[39m        \u001b[0m\u001b[32m'conversations'\u001b[0m\u001b[39m: \u001b[0m\u001b[1;39m[\u001b[0m\n",
       "\u001b[39m            \u001b[0m\u001b[1;39m{\u001b[0m\u001b[32m'from'\u001b[0m\u001b[39m: \u001b[0m\u001b[32m'human'\u001b[0m\u001b[39m, \u001b[0m\u001b[32m'value'\u001b[0m\u001b[39m: \u001b[0m\u001b[32m'<image>\\nWhat are the objects and relations you see in this image?'\u001b[0m\u001b[1;39m}\u001b[0m\u001b[39m,\u001b[0m\n",
       "\u001b[39m            \u001b[0m\u001b[1;39m{\u001b[0m\n",
       "\u001b[39m                \u001b[0m\u001b[32m'from'\u001b[0m\u001b[39m: \u001b[0m\u001b[32m'gpt'\u001b[0m\u001b[39m,\u001b[0m\n",
       "\u001b[39m                \u001b[0m\u001b[32m'value'\u001b[0m\u001b[39m: \u001b[0m\u001b[32m'Device 1: \\npcb in hca_back\\nbattery in hca_back\\npcb next to battery\\nbattery next to \u001b[0m\n",
       "\u001b[32mpcb\\n'\u001b[0m\n",
       "\u001b[39m            \u001b[0m\u001b[1;39m}\u001b[0m\n",
       "\u001b[39m        \u001b[0m\u001b[1;39m]\u001b[0m\n",
       "\u001b[39m    \u001b[0m\u001b[1;39m}\u001b[0m\u001b[39m,\u001b[0m\n",
       "\u001b[39m    \u001b[0m\u001b[1;39m{\u001b[0m\n",
       "\u001b[39m        \u001b[0m\u001b[32m'id'\u001b[0m\u001b[39m: \u001b[0m\u001b[1;36m41\u001b[0m\u001b[39m,\u001b[0m\n",
       "\u001b[39m        \u001b[0m\u001b[32m'image'\u001b[0m\u001b[39m: \u001b[0m\u001b[32m'images/00000042.jpg'\u001b[0m\u001b[39m,\u001b[0m\n",
       "\u001b[39m        \u001b[0m\u001b[32m'conversations'\u001b[0m\u001b[39m: \u001b[0m\u001b[1;39m[\u001b[0m\n",
       "\u001b[39m            \u001b[0m\u001b[1;39m{\u001b[0m\u001b[32m'from'\u001b[0m\u001b[39m: \u001b[0m\u001b[32m'human'\u001b[0m\u001b[39m, \u001b[0m\u001b[32m'value'\u001b[0m\u001b[39m: \u001b[0m\u001b[32m'<image>\\nWhat are the objects and relations you see in this image?'\u001b[0m\u001b[1;39m}\u001b[0m\u001b[39m,\u001b[0m\n",
       "\u001b[39m            \u001b[0m\u001b[1;39m{\u001b[0m\u001b[32m'from'\u001b[0m\u001b[39m: \u001b[0m\u001b[32m'gpt'\u001b[0m\u001b[39m, \u001b[0m\u001b[32m'value'\u001b[0m\u001b[39m: \u001b[0m\u001b[32m'Device 1: \\nbattery_covered in firealarm_back\\n'\u001b[0m\u001b[1;39m}\u001b[0m\n",
       "\u001b[39m        \u001b[0m\u001b[1;39m]\u001b[0m\n",
       "\u001b[39m    \u001b[0m\u001b[1;39m}\u001b[0m\u001b[39m,\u001b[0m\n",
       "\u001b[39m    \u001b[0m\u001b[1;39m{\u001b[0m\n",
       "\u001b[39m        \u001b[0m\u001b[32m'id'\u001b[0m\u001b[39m: \u001b[0m\u001b[1;36m42\u001b[0m\u001b[39m,\u001b[0m\n",
       "\u001b[39m        \u001b[0m\u001b[32m'image'\u001b[0m\u001b[39m: \u001b[0m\u001b[32m'images/00000043.jpg'\u001b[0m\u001b[39m,\u001b[0m\n",
       "\u001b[39m        \u001b[0m\u001b[32m'conversations'\u001b[0m\u001b[39m: \u001b[0m\u001b[1;39m[\u001b[0m\n",
       "\u001b[39m            \u001b[0m\u001b[1;39m{\u001b[0m\u001b[32m'from'\u001b[0m\u001b[39m: \u001b[0m\u001b[32m'human'\u001b[0m\u001b[39m, \u001b[0m\u001b[32m'value'\u001b[0m\u001b[39m: \u001b[0m\u001b[32m'<image>\\nWhat are the objects and relations you see in this image?'\u001b[0m\u001b[1;39m}\u001b[0m\u001b[39m,\u001b[0m\n",
       "\u001b[39m            \u001b[0m\u001b[1;39m{\u001b[0m\u001b[32m'from'\u001b[0m\u001b[39m: \u001b[0m\u001b[32m'gpt'\u001b[0m\u001b[39m, \u001b[0m\u001b[32m'value'\u001b[0m\u001b[39m: \u001b[0m\u001b[32m'Device 1: \\nbattery_covered in firealarm_back\\n'\u001b[0m\u001b[1;39m}\u001b[0m\n",
       "\u001b[39m        \u001b[0m\u001b[1;39m]\u001b[0m\n",
       "\u001b[39m    \u001b[0m\u001b[1;39m}\u001b[0m\u001b[39m,\u001b[0m\n",
       "\u001b[39m    \u001b[0m\u001b[1;39m{\u001b[0m\n",
       "\u001b[39m        \u001b[0m\u001b[32m'id'\u001b[0m\u001b[39m: \u001b[0m\u001b[1;36m43\u001b[0m\u001b[39m,\u001b[0m\n",
       "\u001b[39m        \u001b[0m\u001b[32m'image'\u001b[0m\u001b[39m: \u001b[0m\u001b[32m'images/00000044.jpg'\u001b[0m\u001b[39m,\u001b[0m\n",
       "\u001b[39m        \u001b[0m\u001b[32m'conversations'\u001b[0m\u001b[39m: \u001b[0m\u001b[1;39m[\u001b[0m\n",
       "\u001b[39m            \u001b[0m\u001b[1;39m{\u001b[0m\u001b[32m'from'\u001b[0m\u001b[39m: \u001b[0m\u001b[32m'human'\u001b[0m\u001b[39m, \u001b[0m\u001b[32m'value'\u001b[0m\u001b[39m: \u001b[0m\u001b[32m'<image>\\nWhat are the objects and relations you see in this image?'\u001b[0m\u001b[1;39m}\u001b[0m\u001b[39m,\u001b[0m\n",
       "\u001b[39m            \u001b[0m\u001b[1;39m{\u001b[0m\n",
       "\u001b[39m                \u001b[0m\u001b[32m'from'\u001b[0m\u001b[39m: \u001b[0m\u001b[32m'gpt'\u001b[0m\u001b[39m,\u001b[0m\n",
       "\u001b[39m                \u001b[0m\u001b[32m'value'\u001b[0m\u001b[39m: \u001b[0m\u001b[32m'Device 1: \\npcb in internals\\nbattery in internals\\npcb next to battery\\nbattery next to \u001b[0m\n",
       "\u001b[32mpcb\\n'\u001b[0m\n",
       "\u001b[39m            \u001b[0m\u001b[1;39m}\u001b[0m\n",
       "\u001b[39m        \u001b[0m\u001b[1;39m]\u001b[0m\n",
       "\u001b[39m    \u001b[0m\u001b[1;39m}\u001b[0m\u001b[39m,\u001b[0m\n",
       "\u001b[39m    \u001b[0m\u001b[1;39m{\u001b[0m\n",
       "\u001b[39m        \u001b[0m\u001b[32m'id'\u001b[0m\u001b[39m: \u001b[0m\u001b[1;36m44\u001b[0m\u001b[39m,\u001b[0m\n",
       "\u001b[39m        \u001b[0m\u001b[32m'image'\u001b[0m\u001b[39m: \u001b[0m\u001b[32m'images/00000045.jpg'\u001b[0m\u001b[39m,\u001b[0m\n",
       "\u001b[39m        \u001b[0m\u001b[32m'conversations'\u001b[0m\u001b[39m: \u001b[0m\u001b[1;39m[\u001b[0m\n",
       "\u001b[39m            \u001b[0m\u001b[1;39m{\u001b[0m\u001b[32m'from'\u001b[0m\u001b[39m: \u001b[0m\u001b[32m'human'\u001b[0m\u001b[39m, \u001b[0m\u001b[32m'value'\u001b[0m\u001b[39m: \u001b[0m\u001b[32m'<image>\\nWhat are the objects and relations you see in this image?'\u001b[0m\u001b[1;39m}\u001b[0m\u001b[39m,\u001b[0m\n",
       "\u001b[39m            \u001b[0m\u001b[1;39m{\u001b[0m\u001b[32m'from'\u001b[0m\u001b[39m: \u001b[0m\u001b[32m'gpt'\u001b[0m\u001b[39m, \u001b[0m\u001b[32m'value'\u001b[0m\u001b[39m: \u001b[0m\u001b[32m'Device 1: \\ninternals'\u001b[0m\u001b[1;39m}\u001b[0m\n",
       "\u001b[39m        \u001b[0m\u001b[1;39m]\u001b[0m\n",
       "\u001b[39m    \u001b[0m\u001b[1;39m}\u001b[0m\u001b[39m,\u001b[0m\n",
       "\u001b[39m    \u001b[0m\u001b[1;39m{\u001b[0m\n",
       "\u001b[39m        \u001b[0m\u001b[32m'id'\u001b[0m\u001b[39m: \u001b[0m\u001b[1;36m45\u001b[0m\u001b[39m,\u001b[0m\n",
       "\u001b[39m        \u001b[0m\u001b[32m'image'\u001b[0m\u001b[39m: \u001b[0m\u001b[32m'images/00000046.jpg'\u001b[0m\u001b[39m,\u001b[0m\n",
       "\u001b[39m        \u001b[0m\u001b[32m'conversations'\u001b[0m\u001b[39m: \u001b[0m\u001b[1;39m[\u001b[0m\n",
       "\u001b[39m            \u001b[0m\u001b[1;39m{\u001b[0m\u001b[32m'from'\u001b[0m\u001b[39m: \u001b[0m\u001b[32m'human'\u001b[0m\u001b[39m, \u001b[0m\u001b[32m'value'\u001b[0m\u001b[39m: \u001b[0m\u001b[32m'<image>\\nWhat are the objects and relations you see in this image?'\u001b[0m\u001b[1;39m}\u001b[0m\u001b[39m,\u001b[0m\n",
       "\u001b[39m            \u001b[0m\u001b[1;39m{\u001b[0m\n",
       "\u001b[39m                \u001b[0m\u001b[32m'from'\u001b[0m\u001b[39m: \u001b[0m\u001b[32m'gpt'\u001b[0m\u001b[39m,\u001b[0m\n",
       "\u001b[39m                \u001b[0m\u001b[32m'value'\u001b[0m\u001b[39m: \u001b[0m\u001b[32m'Device 1: \\nfirealarm_front next to firealarm_back\\nfirealarm_back next to \u001b[0m\n",
       "\u001b[32mfirealarm_front\\npcb in firealarm_back\\nbattery in firealarm_back\\nbattery in firealarm_back\\nbattery in \u001b[0m\n",
       "\u001b[32mpcb\\nbattery in pcb\\n'\u001b[0m\n",
       "\u001b[39m            \u001b[0m\u001b[1;39m}\u001b[0m\n",
       "\u001b[39m        \u001b[0m\u001b[1;39m]\u001b[0m\n",
       "\u001b[39m    \u001b[0m\u001b[1;39m}\u001b[0m\u001b[39m,\u001b[0m\n",
       "\u001b[39m    \u001b[0m\u001b[1;39m{\u001b[0m\n",
       "\u001b[39m        \u001b[0m\u001b[32m'id'\u001b[0m\u001b[39m: \u001b[0m\u001b[1;36m46\u001b[0m\u001b[39m,\u001b[0m\n",
       "\u001b[39m        \u001b[0m\u001b[32m'image'\u001b[0m\u001b[39m: \u001b[0m\u001b[32m'images/00000047.jpg'\u001b[0m\u001b[39m,\u001b[0m\n",
       "\u001b[39m        \u001b[0m\u001b[32m'conversations'\u001b[0m\u001b[39m: \u001b[0m\u001b[1;39m[\u001b[0m\n",
       "\u001b[39m            \u001b[0m\u001b[1;39m{\u001b[0m\u001b[32m'from'\u001b[0m\u001b[39m: \u001b[0m\u001b[32m'human'\u001b[0m\u001b[39m, \u001b[0m\u001b[32m'value'\u001b[0m\u001b[39m: \u001b[0m\u001b[32m'<image>\\nWhat are the objects and relations you see in this image?'\u001b[0m\u001b[1;39m}\u001b[0m\u001b[39m,\u001b[0m\n",
       "\u001b[39m            \u001b[0m\u001b[1;39m{\u001b[0m\u001b[32m'from'\u001b[0m\u001b[39m: \u001b[0m\u001b[32m'gpt'\u001b[0m\u001b[39m, \u001b[0m\u001b[32m'value'\u001b[0m\u001b[39m: \u001b[0m\u001b[32m'Device 1: \\ninternals in hca_back\\n'\u001b[0m\u001b[1;39m}\u001b[0m\n",
       "\u001b[39m        \u001b[0m\u001b[1;39m]\u001b[0m\n",
       "\u001b[39m    \u001b[0m\u001b[1;39m}\u001b[0m\u001b[39m,\u001b[0m\n",
       "\u001b[39m    \u001b[0m\u001b[1;39m{\u001b[0m\n",
       "\u001b[39m        \u001b[0m\u001b[32m'id'\u001b[0m\u001b[39m: \u001b[0m\u001b[1;36m47\u001b[0m\u001b[39m,\u001b[0m\n",
       "\u001b[39m        \u001b[0m\u001b[32m'image'\u001b[0m\u001b[39m: \u001b[0m\u001b[32m'images/00000048.jpg'\u001b[0m\u001b[39m,\u001b[0m\n",
       "\u001b[39m        \u001b[0m\u001b[32m'conversations'\u001b[0m\u001b[39m: \u001b[0m\u001b[1;39m[\u001b[0m\n",
       "\u001b[39m            \u001b[0m\u001b[1;39m{\u001b[0m\u001b[32m'from'\u001b[0m\u001b[39m: \u001b[0m\u001b[32m'human'\u001b[0m\u001b[39m, \u001b[0m\u001b[32m'value'\u001b[0m\u001b[39m: \u001b[0m\u001b[32m'<image>\\nWhat are the objects and relations you see in this image?'\u001b[0m\u001b[1;39m}\u001b[0m\u001b[39m,\u001b[0m\n",
       "\u001b[39m            \u001b[0m\u001b[1;39m{\u001b[0m\n",
       "\u001b[39m                \u001b[0m\u001b[32m'from'\u001b[0m\u001b[39m: \u001b[0m\u001b[32m'gpt'\u001b[0m\u001b[39m,\u001b[0m\n",
       "\u001b[39m                \u001b[0m\u001b[32m'value'\u001b[0m\u001b[39m: \u001b[0m\u001b[32m'Device 1: \\nplastic_clip in hca_back\\npcb_covered in hca_back\\nplastic_clip next to \u001b[0m\n",
       "\u001b[32mpcb_covered\\npcb_covered next to plastic_clip\\n\\nDevice 2: \\ninternals in hca_back\\n'\u001b[0m\n",
       "\u001b[39m            \u001b[0m\u001b[1;39m}\u001b[0m\n",
       "\u001b[39m        \u001b[0m\u001b[1;39m]\u001b[0m\n",
       "\u001b[39m    \u001b[0m\u001b[1;39m}\u001b[0m\u001b[39m,\u001b[0m\n",
       "\u001b[39m    \u001b[0m\u001b[1;39m{\u001b[0m\n",
       "\u001b[39m        \u001b[0m\u001b[32m'id'\u001b[0m\u001b[39m: \u001b[0m\u001b[1;36m48\u001b[0m\u001b[39m,\u001b[0m\n",
       "\u001b[39m        \u001b[0m\u001b[32m'image'\u001b[0m\u001b[39m: \u001b[0m\u001b[32m'images/00000049.jpg'\u001b[0m\u001b[39m,\u001b[0m\n",
       "\u001b[39m        \u001b[0m\u001b[32m'conversations'\u001b[0m\u001b[39m: \u001b[0m\u001b[1;39m[\u001b[0m\n",
       "\u001b[39m            \u001b[0m\u001b[1;39m{\u001b[0m\u001b[32m'from'\u001b[0m\u001b[39m: \u001b[0m\u001b[32m'human'\u001b[0m\u001b[39m, \u001b[0m\u001b[32m'value'\u001b[0m\u001b[39m: \u001b[0m\u001b[32m'<image>\\nWhat are the objects and relations you see in this image?'\u001b[0m\u001b[1;39m}\u001b[0m\u001b[39m,\u001b[0m\n",
       "\u001b[39m            \u001b[0m\u001b[1;39m{\u001b[0m\n",
       "\u001b[39m                \u001b[0m\u001b[32m'from'\u001b[0m\u001b[39m: \u001b[0m\u001b[32m'gpt'\u001b[0m\u001b[39m,\u001b[0m\n",
       "\u001b[39m                \u001b[0m\u001b[32m'value'\u001b[0m\u001b[39m: \u001b[0m\u001b[32m'Device 1: \\nplastic_clip in hca_back\\ninternals in hca_back\\nplastic_clip next to \u001b[0m\n",
       "\u001b[32minternals\\ninternals next to plastic_clip\\n'\u001b[0m\n",
       "\u001b[39m            \u001b[0m\u001b[1;39m}\u001b[0m\n",
       "\u001b[39m        \u001b[0m\u001b[1;39m]\u001b[0m\n",
       "\u001b[39m    \u001b[0m\u001b[1;39m}\u001b[0m\u001b[39m,\u001b[0m\n",
       "\u001b[39m    \u001b[0m\u001b[1;39m{\u001b[0m\n",
       "\u001b[39m        \u001b[0m\u001b[32m'id'\u001b[0m\u001b[39m: \u001b[0m\u001b[1;36m49\u001b[0m\u001b[39m,\u001b[0m\n",
       "\u001b[39m        \u001b[0m\u001b[32m'image'\u001b[0m\u001b[39m: \u001b[0m\u001b[32m'images/00000050.jpg'\u001b[0m\u001b[39m,\u001b[0m\n",
       "\u001b[39m        \u001b[0m\u001b[32m'conversations'\u001b[0m\u001b[39m: \u001b[0m\u001b[1;39m[\u001b[0m\n",
       "\u001b[39m            \u001b[0m\u001b[1;39m{\u001b[0m\u001b[32m'from'\u001b[0m\u001b[39m: \u001b[0m\u001b[32m'human'\u001b[0m\u001b[39m, \u001b[0m\u001b[32m'value'\u001b[0m\u001b[39m: \u001b[0m\u001b[32m'<image>\\nWhat are the objects and relations you see in this image?'\u001b[0m\u001b[1;39m}\u001b[0m\u001b[39m,\u001b[0m\n",
       "\u001b[39m            \u001b[0m\u001b[1;39m{\u001b[0m\n",
       "\u001b[39m                \u001b[0m\u001b[32m'from'\u001b[0m\u001b[39m: \u001b[0m\u001b[32m'gpt'\u001b[0m\u001b[39m,\u001b[0m\n",
       "\u001b[39m                \u001b[0m\u001b[32m'value'\u001b[0m\u001b[39m: \u001b[0m\u001b[32m'Device 1: \\nplastic_clip in hca_back\\ninternals in hca_back\\nplastic_clip next to \u001b[0m\n",
       "\u001b[32minternals\\ninternals next to plastic_clip\\n'\u001b[0m\n",
       "\u001b[39m            \u001b[0m\u001b[1;39m}\u001b[0m\n",
       "\u001b[39m        \u001b[0m\u001b[1;39m]\u001b[0m\n",
       "\u001b[39m    \u001b[0m\u001b[1;39m}\u001b[0m\u001b[39m,\u001b[0m\n",
       "\u001b[39m    \u001b[0m\u001b[1;39m{\u001b[0m\n",
       "\u001b[39m        \u001b[0m\u001b[32m'id'\u001b[0m\u001b[39m: \u001b[0m\u001b[1;36m50\u001b[0m\u001b[39m,\u001b[0m\n",
       "\u001b[39m        \u001b[0m\u001b[32m'image'\u001b[0m\u001b[39m: \u001b[0m\u001b[32m'images/00000051.jpg'\u001b[0m\u001b[39m,\u001b[0m\n",
       "\u001b[39m        \u001b[0m\u001b[32m'conversations'\u001b[0m\u001b[39m: \u001b[0m\u001b[1;39m[\u001b[0m\n",
       "\u001b[39m            \u001b[0m\u001b[1;39m{\u001b[0m\u001b[32m'from'\u001b[0m\u001b[39m: \u001b[0m\u001b[32m'human'\u001b[0m\u001b[39m, \u001b[0m\u001b[32m'value'\u001b[0m\u001b[39m: \u001b[0m\u001b[32m'<image>\\nWhat are the objects and relations you see in this image?'\u001b[0m\u001b[1;39m}\u001b[0m\u001b[39m,\u001b[0m\n",
       "\u001b[39m            \u001b[0m\u001b[1;39m{\u001b[0m\u001b[32m'from'\u001b[0m\u001b[39m: \u001b[0m\u001b[32m'gpt'\u001b[0m\u001b[39m, \u001b[0m\u001b[32m'value'\u001b[0m\u001b[39m: \u001b[0m\u001b[32m'Device 1: \\npcb in internals\\nbattery in internals\\nbattery in pcb\\n'\u001b[0m\u001b[1;39m}\u001b[0m\n",
       "\u001b[39m        \u001b[0m\u001b[1;39m]\u001b[0m\n",
       "\u001b[39m    \u001b[0m\u001b[1;39m}\u001b[0m\u001b[39m,\u001b[0m\n",
       "\u001b[39m    \u001b[0m\u001b[1;39m{\u001b[0m\n",
       "\u001b[39m        \u001b[0m\u001b[32m'id'\u001b[0m\u001b[39m: \u001b[0m\u001b[1;36m51\u001b[0m\u001b[39m,\u001b[0m\n",
       "\u001b[39m        \u001b[0m\u001b[32m'image'\u001b[0m\u001b[39m: \u001b[0m\u001b[32m'images/00000052.jpg'\u001b[0m\u001b[39m,\u001b[0m\n",
       "\u001b[39m        \u001b[0m\u001b[32m'conversations'\u001b[0m\u001b[39m: \u001b[0m\u001b[1;39m[\u001b[0m\n",
       "\u001b[39m            \u001b[0m\u001b[1;39m{\u001b[0m\u001b[32m'from'\u001b[0m\u001b[39m: \u001b[0m\u001b[32m'human'\u001b[0m\u001b[39m, \u001b[0m\u001b[32m'value'\u001b[0m\u001b[39m: \u001b[0m\u001b[32m'<image>\\nWhat are the objects and relations you see in this image?'\u001b[0m\u001b[1;39m}\u001b[0m\u001b[39m,\u001b[0m\n",
       "\u001b[39m            \u001b[0m\u001b[1;39m{\u001b[0m\n",
       "\u001b[39m                \u001b[0m\u001b[32m'from'\u001b[0m\u001b[39m: \u001b[0m\u001b[32m'gpt'\u001b[0m\u001b[39m,\u001b[0m\n",
       "\u001b[39m                \u001b[0m\u001b[32m'value'\u001b[0m\u001b[39m: \u001b[0m\u001b[32m'Device 1: \\npcb in firealarm_back\\nbattery in firealarm_back\\nbattery in \u001b[0m\n",
       "\u001b[32mfirealarm_back\\nbattery in pcb\\nbattery in pcb\\n\\nDevice 2: \\npcb in hca_back\\nbattery in hca_back\\npcb next to \u001b[0m\n",
       "\u001b[32mbattery\\nbattery next to pcb\\n'\u001b[0m\n",
       "\u001b[39m            \u001b[0m\u001b[1;39m}\u001b[0m\n",
       "\u001b[39m        \u001b[0m\u001b[1;39m]\u001b[0m\n",
       "\u001b[39m    \u001b[0m\u001b[1;39m}\u001b[0m\u001b[39m,\u001b[0m\n",
       "\u001b[39m    \u001b[0m\u001b[1;39m{\u001b[0m\n",
       "\u001b[39m        \u001b[0m\u001b[32m'id'\u001b[0m\u001b[39m: \u001b[0m\u001b[1;36m52\u001b[0m\u001b[39m,\u001b[0m\n",
       "\u001b[39m        \u001b[0m\u001b[32m'image'\u001b[0m\u001b[39m: \u001b[0m\u001b[32m'images/00000053.jpg'\u001b[0m\u001b[39m,\u001b[0m\n",
       "\u001b[39m        \u001b[0m\u001b[32m'conversations'\u001b[0m\u001b[39m: \u001b[0m\u001b[1;39m[\u001b[0m\n",
       "\u001b[39m            \u001b[0m\u001b[1;39m{\u001b[0m\u001b[32m'from'\u001b[0m\u001b[39m: \u001b[0m\u001b[32m'human'\u001b[0m\u001b[39m, \u001b[0m\u001b[32m'value'\u001b[0m\u001b[39m: \u001b[0m\u001b[32m'<image>\\nWhat are the objects and relations you see in this image?'\u001b[0m\u001b[1;39m}\u001b[0m\u001b[39m,\u001b[0m\n",
       "\u001b[39m            \u001b[0m\u001b[1;39m{\u001b[0m\u001b[32m'from'\u001b[0m\u001b[39m: \u001b[0m\u001b[32m'gpt'\u001b[0m\u001b[39m, \u001b[0m\u001b[32m'value'\u001b[0m\u001b[39m: \u001b[0m\u001b[32m'Device 1: \\ninternals'\u001b[0m\u001b[1;39m}\u001b[0m\n",
       "\u001b[39m        \u001b[0m\u001b[1;39m]\u001b[0m\n",
       "\u001b[39m    \u001b[0m\u001b[1;39m}\u001b[0m\u001b[39m,\u001b[0m\n",
       "\u001b[39m    \u001b[0m\u001b[1;39m{\u001b[0m\n",
       "\u001b[39m        \u001b[0m\u001b[32m'id'\u001b[0m\u001b[39m: \u001b[0m\u001b[1;36m53\u001b[0m\u001b[39m,\u001b[0m\n",
       "\u001b[39m        \u001b[0m\u001b[32m'image'\u001b[0m\u001b[39m: \u001b[0m\u001b[32m'images/00000054.jpg'\u001b[0m\u001b[39m,\u001b[0m\n",
       "\u001b[39m        \u001b[0m\u001b[32m'conversations'\u001b[0m\u001b[39m: \u001b[0m\u001b[1;39m[\u001b[0m\n",
       "\u001b[39m            \u001b[0m\u001b[1;39m{\u001b[0m\u001b[32m'from'\u001b[0m\u001b[39m: \u001b[0m\u001b[32m'human'\u001b[0m\u001b[39m, \u001b[0m\u001b[32m'value'\u001b[0m\u001b[39m: \u001b[0m\u001b[32m'<image>\\nWhat are the objects and relations you see in this image?'\u001b[0m\u001b[1;39m}\u001b[0m\u001b[39m,\u001b[0m\n",
       "\u001b[39m            \u001b[0m\u001b[1;39m{\u001b[0m\u001b[32m'from'\u001b[0m\u001b[39m: \u001b[0m\u001b[32m'gpt'\u001b[0m\u001b[39m, \u001b[0m\u001b[32m'value'\u001b[0m\u001b[39m: \u001b[0m\u001b[32m'Device 1: \\ninternals'\u001b[0m\u001b[1;39m}\u001b[0m\n",
       "\u001b[39m        \u001b[0m\u001b[1;39m]\u001b[0m\n",
       "\u001b[39m    \u001b[0m\u001b[1;39m}\u001b[0m\u001b[39m,\u001b[0m\n",
       "\u001b[39m    \u001b[0m\u001b[1;39m{\u001b[0m\n",
       "\u001b[39m        \u001b[0m\u001b[32m'id'\u001b[0m\u001b[39m: \u001b[0m\u001b[1;36m54\u001b[0m\u001b[39m,\u001b[0m\n",
       "\u001b[39m        \u001b[0m\u001b[32m'image'\u001b[0m\u001b[39m: \u001b[0m\u001b[32m'images/00000055.jpg'\u001b[0m\u001b[39m,\u001b[0m\n",
       "\u001b[39m        \u001b[0m\u001b[32m'conversations'\u001b[0m\u001b[39m: \u001b[0m\u001b[1;39m[\u001b[0m\n",
       "\u001b[39m            \u001b[0m\u001b[1;39m{\u001b[0m\u001b[32m'from'\u001b[0m\u001b[39m: \u001b[0m\u001b[32m'human'\u001b[0m\u001b[39m, \u001b[0m\u001b[32m'value'\u001b[0m\u001b[39m: \u001b[0m\u001b[32m'<image>\\nWhat are the objects and relations you see in this image?'\u001b[0m\u001b[1;39m}\u001b[0m\u001b[39m,\u001b[0m\n",
       "\u001b[39m            \u001b[0m\u001b[1;39m{\u001b[0m\n",
       "\u001b[39m                \u001b[0m\u001b[32m'from'\u001b[0m\u001b[39m: \u001b[0m\u001b[32m'gpt'\u001b[0m\u001b[39m,\u001b[0m\n",
       "\u001b[39m                \u001b[0m\u001b[32m'value'\u001b[0m\u001b[39m: \u001b[0m\u001b[32m'Device 1: \\nbattery in internals\\npcb in internals\\nbattery next to pcb\\npcb next to \u001b[0m\n",
       "\u001b[32mbattery\\n'\u001b[0m\n",
       "\u001b[39m            \u001b[0m\u001b[1;39m}\u001b[0m\n",
       "\u001b[39m        \u001b[0m\u001b[1;39m]\u001b[0m\n",
       "\u001b[39m    \u001b[0m\u001b[1;39m}\u001b[0m\u001b[39m,\u001b[0m\n",
       "\u001b[39m    \u001b[0m\u001b[1;39m{\u001b[0m\n",
       "\u001b[39m        \u001b[0m\u001b[32m'id'\u001b[0m\u001b[39m: \u001b[0m\u001b[1;36m55\u001b[0m\u001b[39m,\u001b[0m\n",
       "\u001b[39m        \u001b[0m\u001b[32m'image'\u001b[0m\u001b[39m: \u001b[0m\u001b[32m'images/00000056.jpg'\u001b[0m\u001b[39m,\u001b[0m\n",
       "\u001b[39m        \u001b[0m\u001b[32m'conversations'\u001b[0m\u001b[39m: \u001b[0m\u001b[1;39m[\u001b[0m\n",
       "\u001b[39m            \u001b[0m\u001b[1;39m{\u001b[0m\u001b[32m'from'\u001b[0m\u001b[39m: \u001b[0m\u001b[32m'human'\u001b[0m\u001b[39m, \u001b[0m\u001b[32m'value'\u001b[0m\u001b[39m: \u001b[0m\u001b[32m'<image>\\nWhat are the objects and relations you see in this image?'\u001b[0m\u001b[1;39m}\u001b[0m\u001b[39m,\u001b[0m\n",
       "\u001b[39m            \u001b[0m\u001b[1;39m{\u001b[0m\n",
       "\u001b[39m                \u001b[0m\u001b[32m'from'\u001b[0m\u001b[39m: \u001b[0m\u001b[32m'gpt'\u001b[0m\u001b[39m,\u001b[0m\n",
       "\u001b[39m                \u001b[0m\u001b[32m'value'\u001b[0m\u001b[39m: \u001b[0m\u001b[32m'Device 1: \\npcb in hca_back\\nbattery in hca_back\\npcb next to battery\\nbattery next to \u001b[0m\n",
       "\u001b[32mpcb\\n\\nDevice 2: \\nplastic_clip in hca_back\\npcb_covered in hca_back\\nplastic_clip next to pcb_covered\\npcb_covered\u001b[0m\n",
       "\u001b[32mnext to plastic_clip\\n'\u001b[0m\n",
       "\u001b[39m            \u001b[0m\u001b[1;39m}\u001b[0m\n",
       "\u001b[39m        \u001b[0m\u001b[1;39m]\u001b[0m\n",
       "\u001b[39m    \u001b[0m\u001b[1;39m}\u001b[0m\u001b[39m,\u001b[0m\n",
       "\u001b[39m    \u001b[0m\u001b[1;39m{\u001b[0m\n",
       "\u001b[39m        \u001b[0m\u001b[32m'id'\u001b[0m\u001b[39m: \u001b[0m\u001b[1;36m56\u001b[0m\u001b[39m,\u001b[0m\n",
       "\u001b[39m        \u001b[0m\u001b[32m'image'\u001b[0m\u001b[39m: \u001b[0m\u001b[32m'images/00000057.jpg'\u001b[0m\u001b[39m,\u001b[0m\n",
       "\u001b[39m        \u001b[0m\u001b[32m'conversations'\u001b[0m\u001b[39m: \u001b[0m\u001b[1;39m[\u001b[0m\n",
       "\u001b[39m            \u001b[0m\u001b[1;39m{\u001b[0m\u001b[32m'from'\u001b[0m\u001b[39m: \u001b[0m\u001b[32m'human'\u001b[0m\u001b[39m, \u001b[0m\u001b[32m'value'\u001b[0m\u001b[39m: \u001b[0m\u001b[32m'<image>\\nWhat are the objects and relations you see in this image?'\u001b[0m\u001b[1;39m}\u001b[0m\u001b[39m,\u001b[0m\n",
       "\u001b[39m            \u001b[0m\u001b[1;39m{\u001b[0m\n",
       "\u001b[39m                \u001b[0m\u001b[32m'from'\u001b[0m\u001b[39m: \u001b[0m\u001b[32m'gpt'\u001b[0m\u001b[39m,\u001b[0m\n",
       "\u001b[39m                \u001b[0m\u001b[32m'value'\u001b[0m\u001b[39m: \u001b[0m\u001b[32m'Device 1: \\nplastic_clip in hca_back\\npcb_covered in hca_back\\nplastic_clip next to \u001b[0m\n",
       "\u001b[32mpcb_covered\\npcb_covered next to plastic_clip\\n\\nDevice 2: \\nbattery in hca_back\\npcb in hca_back\\nbattery next to \u001b[0m\n",
       "\u001b[32mpcb\\npcb next to battery\\n'\u001b[0m\n",
       "\u001b[39m            \u001b[0m\u001b[1;39m}\u001b[0m\n",
       "\u001b[39m        \u001b[0m\u001b[1;39m]\u001b[0m\n",
       "\u001b[39m    \u001b[0m\u001b[1;39m}\u001b[0m\u001b[39m,\u001b[0m\n",
       "\u001b[39m    \u001b[0m\u001b[1;39m{\u001b[0m\n",
       "\u001b[39m        \u001b[0m\u001b[32m'id'\u001b[0m\u001b[39m: \u001b[0m\u001b[1;36m57\u001b[0m\u001b[39m,\u001b[0m\n",
       "\u001b[39m        \u001b[0m\u001b[32m'image'\u001b[0m\u001b[39m: \u001b[0m\u001b[32m'images/00000058.jpg'\u001b[0m\u001b[39m,\u001b[0m\n",
       "\u001b[39m        \u001b[0m\u001b[32m'conversations'\u001b[0m\u001b[39m: \u001b[0m\u001b[1;39m[\u001b[0m\n",
       "\u001b[39m            \u001b[0m\u001b[1;39m{\u001b[0m\u001b[32m'from'\u001b[0m\u001b[39m: \u001b[0m\u001b[32m'human'\u001b[0m\u001b[39m, \u001b[0m\u001b[32m'value'\u001b[0m\u001b[39m: \u001b[0m\u001b[32m'<image>\\nWhat are the objects and relations you see in this image?'\u001b[0m\u001b[1;39m}\u001b[0m\u001b[39m,\u001b[0m\n",
       "\u001b[39m            \u001b[0m\u001b[1;39m{\u001b[0m\u001b[32m'from'\u001b[0m\u001b[39m: \u001b[0m\u001b[32m'gpt'\u001b[0m\u001b[39m, \u001b[0m\u001b[32m'value'\u001b[0m\u001b[39m: \u001b[0m\u001b[32m'Device 1: \\npcb_covered in hca_back\\n'\u001b[0m\u001b[1;39m}\u001b[0m\n",
       "\u001b[39m        \u001b[0m\u001b[1;39m]\u001b[0m\n",
       "\u001b[39m    \u001b[0m\u001b[1;39m}\u001b[0m\u001b[39m,\u001b[0m\n",
       "\u001b[39m    \u001b[0m\u001b[1;39m{\u001b[0m\n",
       "\u001b[39m        \u001b[0m\u001b[32m'id'\u001b[0m\u001b[39m: \u001b[0m\u001b[1;36m58\u001b[0m\u001b[39m,\u001b[0m\n",
       "\u001b[39m        \u001b[0m\u001b[32m'image'\u001b[0m\u001b[39m: \u001b[0m\u001b[32m'images/00000059.jpg'\u001b[0m\u001b[39m,\u001b[0m\n",
       "\u001b[39m        \u001b[0m\u001b[32m'conversations'\u001b[0m\u001b[39m: \u001b[0m\u001b[1;39m[\u001b[0m\n",
       "\u001b[39m            \u001b[0m\u001b[1;39m{\u001b[0m\u001b[32m'from'\u001b[0m\u001b[39m: \u001b[0m\u001b[32m'human'\u001b[0m\u001b[39m, \u001b[0m\u001b[32m'value'\u001b[0m\u001b[39m: \u001b[0m\u001b[32m'<image>\\nWhat are the objects and relations you see in this image?'\u001b[0m\u001b[1;39m}\u001b[0m\u001b[39m,\u001b[0m\n",
       "\u001b[39m            \u001b[0m\u001b[1;39m{\u001b[0m\n",
       "\u001b[39m                \u001b[0m\u001b[32m'from'\u001b[0m\u001b[39m: \u001b[0m\u001b[32m'gpt'\u001b[0m\u001b[39m,\u001b[0m\n",
       "\u001b[39m                \u001b[0m\u001b[32m'value'\u001b[0m\u001b[39m: \u001b[0m\u001b[32m'Device 1: \\npcb in firealarm_back\\nbattery in firealarm_back\\nbattery in \u001b[0m\n",
       "\u001b[32mfirealarm_back\\nbattery in pcb\\nbattery in pcb\\n\\nDevice 2: \\nfirealarm_back'\u001b[0m\n",
       "\u001b[39m            \u001b[0m\u001b[1;39m}\u001b[0m\n",
       "\u001b[39m        \u001b[0m\u001b[1;39m]\u001b[0m\n",
       "\u001b[39m    \u001b[0m\u001b[1;39m}\u001b[0m\u001b[39m,\u001b[0m\n",
       "\u001b[39m    \u001b[0m\u001b[1;39m{\u001b[0m\n",
       "\u001b[39m        \u001b[0m\u001b[32m'id'\u001b[0m\u001b[39m: \u001b[0m\u001b[1;36m59\u001b[0m\u001b[39m,\u001b[0m\n",
       "\u001b[39m        \u001b[0m\u001b[32m'image'\u001b[0m\u001b[39m: \u001b[0m\u001b[32m'images/00000060.jpg'\u001b[0m\u001b[39m,\u001b[0m\n",
       "\u001b[39m        \u001b[0m\u001b[32m'conversations'\u001b[0m\u001b[39m: \u001b[0m\u001b[1;39m[\u001b[0m\n",
       "\u001b[39m            \u001b[0m\u001b[1;39m{\u001b[0m\u001b[32m'from'\u001b[0m\u001b[39m: \u001b[0m\u001b[32m'human'\u001b[0m\u001b[39m, \u001b[0m\u001b[32m'value'\u001b[0m\u001b[39m: \u001b[0m\u001b[32m'<image>\\nWhat are the objects and relations you see in this image?'\u001b[0m\u001b[1;39m}\u001b[0m\u001b[39m,\u001b[0m\n",
       "\u001b[39m            \u001b[0m\u001b[1;39m{\u001b[0m\n",
       "\u001b[39m                \u001b[0m\u001b[32m'from'\u001b[0m\u001b[39m: \u001b[0m\u001b[32m'gpt'\u001b[0m\u001b[39m,\u001b[0m\n",
       "\u001b[39m                \u001b[0m\u001b[32m'value'\u001b[0m\u001b[39m: \u001b[0m\u001b[32m'Device 1: \\nplastic_clip in hca_back\\npcb_covered in hca_back\\nplastic_clip next to \u001b[0m\n",
       "\u001b[32mpcb_covered\\npcb_covered next to plastic_clip\\n\\nDevice 2: \\nfirealarm_front'\u001b[0m\n",
       "\u001b[39m            \u001b[0m\u001b[1;39m}\u001b[0m\n",
       "\u001b[39m        \u001b[0m\u001b[1;39m]\u001b[0m\n",
       "\u001b[39m    \u001b[0m\u001b[1;39m}\u001b[0m\u001b[39m,\u001b[0m\n",
       "\u001b[39m    \u001b[0m\u001b[1;39m{\u001b[0m\n",
       "\u001b[39m        \u001b[0m\u001b[32m'id'\u001b[0m\u001b[39m: \u001b[0m\u001b[1;36m60\u001b[0m\u001b[39m,\u001b[0m\n",
       "\u001b[39m        \u001b[0m\u001b[32m'image'\u001b[0m\u001b[39m: \u001b[0m\u001b[32m'images/00000061.jpg'\u001b[0m\u001b[39m,\u001b[0m\n",
       "\u001b[39m        \u001b[0m\u001b[32m'conversations'\u001b[0m\u001b[39m: \u001b[0m\u001b[1;39m[\u001b[0m\n",
       "\u001b[39m            \u001b[0m\u001b[1;39m{\u001b[0m\u001b[32m'from'\u001b[0m\u001b[39m: \u001b[0m\u001b[32m'human'\u001b[0m\u001b[39m, \u001b[0m\u001b[32m'value'\u001b[0m\u001b[39m: \u001b[0m\u001b[32m'<image>\\nWhat are the objects and relations you see in this image?'\u001b[0m\u001b[1;39m}\u001b[0m\u001b[39m,\u001b[0m\n",
       "\u001b[39m            \u001b[0m\u001b[1;39m{\u001b[0m\u001b[32m'from'\u001b[0m\u001b[39m: \u001b[0m\u001b[32m'gpt'\u001b[0m\u001b[39m, \u001b[0m\u001b[32m'value'\u001b[0m\u001b[39m: \u001b[0m\u001b[32m'Device 1: \\npcb_covered in hca_back\\n'\u001b[0m\u001b[1;39m}\u001b[0m\n",
       "\u001b[39m        \u001b[0m\u001b[1;39m]\u001b[0m\n",
       "\u001b[39m    \u001b[0m\u001b[1;39m}\u001b[0m\u001b[39m,\u001b[0m\n",
       "\u001b[39m    \u001b[0m\u001b[1;39m{\u001b[0m\n",
       "\u001b[39m        \u001b[0m\u001b[32m'id'\u001b[0m\u001b[39m: \u001b[0m\u001b[1;36m61\u001b[0m\u001b[39m,\u001b[0m\n",
       "\u001b[39m        \u001b[0m\u001b[32m'image'\u001b[0m\u001b[39m: \u001b[0m\u001b[32m'images/00000062.jpg'\u001b[0m\u001b[39m,\u001b[0m\n",
       "\u001b[39m        \u001b[0m\u001b[32m'conversations'\u001b[0m\u001b[39m: \u001b[0m\u001b[1;39m[\u001b[0m\n",
       "\u001b[39m            \u001b[0m\u001b[1;39m{\u001b[0m\u001b[32m'from'\u001b[0m\u001b[39m: \u001b[0m\u001b[32m'human'\u001b[0m\u001b[39m, \u001b[0m\u001b[32m'value'\u001b[0m\u001b[39m: \u001b[0m\u001b[32m'<image>\\nWhat are the objects and relations you see in this image?'\u001b[0m\u001b[1;39m}\u001b[0m\u001b[39m,\u001b[0m\n",
       "\u001b[39m            \u001b[0m\u001b[1;39m{\u001b[0m\n",
       "\u001b[39m                \u001b[0m\u001b[32m'from'\u001b[0m\u001b[39m: \u001b[0m\u001b[32m'gpt'\u001b[0m\u001b[39m,\u001b[0m\n",
       "\u001b[39m                \u001b[0m\u001b[32m'value'\u001b[0m\u001b[39m: \u001b[0m\u001b[32m'Device 1: \\nplastic_clip in hca_back\\ninternals in hca_back\\nplastic_clip next to \u001b[0m\n",
       "\u001b[32minternals\\ninternals next to plastic_clip\\n\\nDevice 2: \\npcb in internals\\nbattery in internals\\nbattery in pcb\\n'\u001b[0m\n",
       "\u001b[39m            \u001b[0m\u001b[1;39m}\u001b[0m\n",
       "\u001b[39m        \u001b[0m\u001b[1;39m]\u001b[0m\n",
       "\u001b[39m    \u001b[0m\u001b[1;39m}\u001b[0m\u001b[39m,\u001b[0m\n",
       "\u001b[39m    \u001b[0m\u001b[1;39m{\u001b[0m\n",
       "\u001b[39m        \u001b[0m\u001b[32m'id'\u001b[0m\u001b[39m: \u001b[0m\u001b[1;36m62\u001b[0m\u001b[39m,\u001b[0m\n",
       "\u001b[39m        \u001b[0m\u001b[32m'image'\u001b[0m\u001b[39m: \u001b[0m\u001b[32m'images/00000063.jpg'\u001b[0m\u001b[39m,\u001b[0m\n",
       "\u001b[39m        \u001b[0m\u001b[32m'conversations'\u001b[0m\u001b[39m: \u001b[0m\u001b[1;39m[\u001b[0m\n",
       "\u001b[39m            \u001b[0m\u001b[1;39m{\u001b[0m\u001b[32m'from'\u001b[0m\u001b[39m: \u001b[0m\u001b[32m'human'\u001b[0m\u001b[39m, \u001b[0m\u001b[32m'value'\u001b[0m\u001b[39m: \u001b[0m\u001b[32m'<image>\\nWhat are the objects and relations you see in this image?'\u001b[0m\u001b[1;39m}\u001b[0m\u001b[39m,\u001b[0m\n",
       "\u001b[39m            \u001b[0m\u001b[1;39m{\u001b[0m\u001b[32m'from'\u001b[0m\u001b[39m: \u001b[0m\u001b[32m'gpt'\u001b[0m\u001b[39m, \u001b[0m\u001b[32m'value'\u001b[0m\u001b[39m: \u001b[0m\u001b[32m'Device 1: \\ninternals in hca_back\\n'\u001b[0m\u001b[1;39m}\u001b[0m\n",
       "\u001b[39m        \u001b[0m\u001b[1;39m]\u001b[0m\n",
       "\u001b[39m    \u001b[0m\u001b[1;39m}\u001b[0m\u001b[39m,\u001b[0m\n",
       "\u001b[39m    \u001b[0m\u001b[1;39m{\u001b[0m\n",
       "\u001b[39m        \u001b[0m\u001b[32m'id'\u001b[0m\u001b[39m: \u001b[0m\u001b[1;36m63\u001b[0m\u001b[39m,\u001b[0m\n",
       "\u001b[39m        \u001b[0m\u001b[32m'image'\u001b[0m\u001b[39m: \u001b[0m\u001b[32m'images/00000064.jpg'\u001b[0m\u001b[39m,\u001b[0m\n",
       "\u001b[39m        \u001b[0m\u001b[32m'conversations'\u001b[0m\u001b[39m: \u001b[0m\u001b[1;39m[\u001b[0m\n",
       "\u001b[39m            \u001b[0m\u001b[1;39m{\u001b[0m\u001b[32m'from'\u001b[0m\u001b[39m: \u001b[0m\u001b[32m'human'\u001b[0m\u001b[39m, \u001b[0m\u001b[32m'value'\u001b[0m\u001b[39m: \u001b[0m\u001b[32m'<image>\\nWhat are the objects and relations you see in this image?'\u001b[0m\u001b[1;39m}\u001b[0m\u001b[39m,\u001b[0m\n",
       "\u001b[39m            \u001b[0m\u001b[1;39m{\u001b[0m\n",
       "\u001b[39m                \u001b[0m\u001b[32m'from'\u001b[0m\u001b[39m: \u001b[0m\u001b[32m'gpt'\u001b[0m\u001b[39m,\u001b[0m\n",
       "\u001b[39m                \u001b[0m\u001b[32m'value'\u001b[0m\u001b[39m: \u001b[0m\u001b[32m'Device 1: \\nplastic_clip in hca_back\\npcb_covered in hca_back\\nplastic_clip next to \u001b[0m\n",
       "\u001b[32mpcb_covered\\npcb_covered next to plastic_clip\\n'\u001b[0m\n",
       "\u001b[39m            \u001b[0m\u001b[1;39m}\u001b[0m\n",
       "\u001b[39m        \u001b[0m\u001b[1;39m]\u001b[0m\n",
       "\u001b[39m    \u001b[0m\u001b[1;39m}\u001b[0m\u001b[39m,\u001b[0m\n",
       "\u001b[39m    \u001b[0m\u001b[1;39m{\u001b[0m\n",
       "\u001b[39m        \u001b[0m\u001b[32m'id'\u001b[0m\u001b[39m: \u001b[0m\u001b[1;36m64\u001b[0m\u001b[39m,\u001b[0m\n",
       "\u001b[39m        \u001b[0m\u001b[32m'image'\u001b[0m\u001b[39m: \u001b[0m\u001b[32m'images/00000065.jpg'\u001b[0m\u001b[39m,\u001b[0m\n",
       "\u001b[39m        \u001b[0m\u001b[32m'conversations'\u001b[0m\u001b[39m: \u001b[0m\u001b[1;39m[\u001b[0m\n",
       "\u001b[39m            \u001b[0m\u001b[1;39m{\u001b[0m\u001b[32m'from'\u001b[0m\u001b[39m: \u001b[0m\u001b[32m'human'\u001b[0m\u001b[39m, \u001b[0m\u001b[32m'value'\u001b[0m\u001b[39m: \u001b[0m\u001b[32m'<image>\\nWhat are the objects and relations you see in this image?'\u001b[0m\u001b[1;39m}\u001b[0m\u001b[39m,\u001b[0m\n",
       "\u001b[39m            \u001b[0m\u001b[1;39m{\u001b[0m\u001b[32m'from'\u001b[0m\u001b[39m: \u001b[0m\u001b[32m'gpt'\u001b[0m\u001b[39m, \u001b[0m\u001b[32m'value'\u001b[0m\u001b[39m: \u001b[0m\u001b[32m'Device 1: \\npcb_covered in hca_back\\n'\u001b[0m\u001b[1;39m}\u001b[0m\n",
       "\u001b[39m        \u001b[0m\u001b[1;39m]\u001b[0m\n",
       "\u001b[39m    \u001b[0m\u001b[1;39m}\u001b[0m\u001b[39m,\u001b[0m\n",
       "\u001b[39m    \u001b[0m\u001b[1;39m{\u001b[0m\n",
       "\u001b[39m        \u001b[0m\u001b[32m'id'\u001b[0m\u001b[39m: \u001b[0m\u001b[1;36m65\u001b[0m\u001b[39m,\u001b[0m\n",
       "\u001b[39m        \u001b[0m\u001b[32m'image'\u001b[0m\u001b[39m: \u001b[0m\u001b[32m'images/00000066.jpg'\u001b[0m\u001b[39m,\u001b[0m\n",
       "\u001b[39m        \u001b[0m\u001b[32m'conversations'\u001b[0m\u001b[39m: \u001b[0m\u001b[1;39m[\u001b[0m\n",
       "\u001b[39m            \u001b[0m\u001b[1;39m{\u001b[0m\u001b[32m'from'\u001b[0m\u001b[39m: \u001b[0m\u001b[32m'human'\u001b[0m\u001b[39m, \u001b[0m\u001b[32m'value'\u001b[0m\u001b[39m: \u001b[0m\u001b[32m'<image>\\nWhat are the objects and relations you see in this image?'\u001b[0m\u001b[1;39m}\u001b[0m\u001b[39m,\u001b[0m\n",
       "\u001b[39m            \u001b[0m\u001b[1;39m{\u001b[0m\n",
       "\u001b[39m                \u001b[0m\u001b[32m'from'\u001b[0m\u001b[39m: \u001b[0m\u001b[32m'gpt'\u001b[0m\u001b[39m,\u001b[0m\n",
       "\u001b[39m                \u001b[0m\u001b[32m'value'\u001b[0m\u001b[39m: \u001b[0m\u001b[32m'Device 1: \\ninternals in hca_back\\nbattery in hca_back\\nhca_back next to \u001b[0m\n",
       "\u001b[32mfirealarm_front\\nfirealarm_front next to hca_back\\ninternals next to battery\\ninternals next to \u001b[0m\n",
       "\u001b[32mfirealarm_front\\nbattery next to internals\\nfirealarm_front next to internals\\n'\u001b[0m\n",
       "\u001b[39m            \u001b[0m\u001b[1;39m}\u001b[0m\n",
       "\u001b[39m        \u001b[0m\u001b[1;39m]\u001b[0m\n",
       "\u001b[39m    \u001b[0m\u001b[1;39m}\u001b[0m\u001b[39m,\u001b[0m\n",
       "\u001b[39m    \u001b[0m\u001b[1;39m{\u001b[0m\n",
       "\u001b[39m        \u001b[0m\u001b[32m'id'\u001b[0m\u001b[39m: \u001b[0m\u001b[1;36m66\u001b[0m\u001b[39m,\u001b[0m\n",
       "\u001b[39m        \u001b[0m\u001b[32m'image'\u001b[0m\u001b[39m: \u001b[0m\u001b[32m'images/00000067.jpg'\u001b[0m\u001b[39m,\u001b[0m\n",
       "\u001b[39m        \u001b[0m\u001b[32m'conversations'\u001b[0m\u001b[39m: \u001b[0m\u001b[1;39m[\u001b[0m\n",
       "\u001b[39m            \u001b[0m\u001b[1;39m{\u001b[0m\u001b[32m'from'\u001b[0m\u001b[39m: \u001b[0m\u001b[32m'human'\u001b[0m\u001b[39m, \u001b[0m\u001b[32m'value'\u001b[0m\u001b[39m: \u001b[0m\u001b[32m'<image>\\nWhat are the objects and relations you see in this image?'\u001b[0m\u001b[1;39m}\u001b[0m\u001b[39m,\u001b[0m\n",
       "\u001b[39m            \u001b[0m\u001b[1;39m{\u001b[0m\n",
       "\u001b[39m                \u001b[0m\u001b[32m'from'\u001b[0m\u001b[39m: \u001b[0m\u001b[32m'gpt'\u001b[0m\u001b[39m,\u001b[0m\n",
       "\u001b[39m                \u001b[0m\u001b[32m'value'\u001b[0m\u001b[39m: \u001b[0m\u001b[32m'Device 1: \\nplastic_clip in hca_back\\npcb_covered in hca_back\\nplastic_clip next to \u001b[0m\n",
       "\u001b[32mpcb_covered\\npcb_covered next to plastic_clip\\n\\nDevice 2: \\npcb_covered in hca_back\\n'\u001b[0m\n",
       "\u001b[39m            \u001b[0m\u001b[1;39m}\u001b[0m\n",
       "\u001b[39m        \u001b[0m\u001b[1;39m]\u001b[0m\n",
       "\u001b[39m    \u001b[0m\u001b[1;39m}\u001b[0m\u001b[39m,\u001b[0m\n",
       "\u001b[39m    \u001b[0m\u001b[1;39m{\u001b[0m\n",
       "\u001b[39m        \u001b[0m\u001b[32m'id'\u001b[0m\u001b[39m: \u001b[0m\u001b[1;36m67\u001b[0m\u001b[39m,\u001b[0m\n",
       "\u001b[39m        \u001b[0m\u001b[32m'image'\u001b[0m\u001b[39m: \u001b[0m\u001b[32m'images/00000068.jpg'\u001b[0m\u001b[39m,\u001b[0m\n",
       "\u001b[39m        \u001b[0m\u001b[32m'conversations'\u001b[0m\u001b[39m: \u001b[0m\u001b[1;39m[\u001b[0m\n",
       "\u001b[39m            \u001b[0m\u001b[1;39m{\u001b[0m\u001b[32m'from'\u001b[0m\u001b[39m: \u001b[0m\u001b[32m'human'\u001b[0m\u001b[39m, \u001b[0m\u001b[32m'value'\u001b[0m\u001b[39m: \u001b[0m\u001b[32m'<image>\\nWhat are the objects and relations you see in this image?'\u001b[0m\u001b[1;39m}\u001b[0m\u001b[39m,\u001b[0m\n",
       "\u001b[39m            \u001b[0m\u001b[1;39m{\u001b[0m\u001b[32m'from'\u001b[0m\u001b[39m: \u001b[0m\u001b[32m'gpt'\u001b[0m\u001b[39m, \u001b[0m\u001b[32m'value'\u001b[0m\u001b[39m: \u001b[0m\u001b[32m'Device 1: \\nfirealarm_front'\u001b[0m\u001b[1;39m}\u001b[0m\n",
       "\u001b[39m        \u001b[0m\u001b[1;39m]\u001b[0m\n",
       "\u001b[39m    \u001b[0m\u001b[1;39m}\u001b[0m\u001b[39m,\u001b[0m\n",
       "\u001b[39m    \u001b[0m\u001b[1;39m{\u001b[0m\n",
       "\u001b[39m        \u001b[0m\u001b[32m'id'\u001b[0m\u001b[39m: \u001b[0m\u001b[1;36m68\u001b[0m\u001b[39m,\u001b[0m\n",
       "\u001b[39m        \u001b[0m\u001b[32m'image'\u001b[0m\u001b[39m: \u001b[0m\u001b[32m'images/00000069.jpg'\u001b[0m\u001b[39m,\u001b[0m\n",
       "\u001b[39m        \u001b[0m\u001b[32m'conversations'\u001b[0m\u001b[39m: \u001b[0m\u001b[1;39m[\u001b[0m\n",
       "\u001b[39m            \u001b[0m\u001b[1;39m{\u001b[0m\u001b[32m'from'\u001b[0m\u001b[39m: \u001b[0m\u001b[32m'human'\u001b[0m\u001b[39m, \u001b[0m\u001b[32m'value'\u001b[0m\u001b[39m: \u001b[0m\u001b[32m'<image>\\nWhat are the objects and relations you see in this image?'\u001b[0m\u001b[1;39m}\u001b[0m\u001b[39m,\u001b[0m\n",
       "\u001b[39m            \u001b[0m\u001b[1;39m{\u001b[0m\n",
       "\u001b[39m                \u001b[0m\u001b[32m'from'\u001b[0m\u001b[39m: \u001b[0m\u001b[32m'gpt'\u001b[0m\u001b[39m,\u001b[0m\n",
       "\u001b[39m                \u001b[0m\u001b[32m'value'\u001b[0m\u001b[39m: \u001b[0m\u001b[32m'Device 1: \\npcb in internals\\nbattery in internals\\nbattery in pcb\\n\\nDevice 2: \u001b[0m\n",
       "\u001b[32m\\ninternals'\u001b[0m\n",
       "\u001b[39m            \u001b[0m\u001b[1;39m}\u001b[0m\n",
       "\u001b[39m        \u001b[0m\u001b[1;39m]\u001b[0m\n",
       "\u001b[39m    \u001b[0m\u001b[1;39m}\u001b[0m\u001b[39m,\u001b[0m\n",
       "\u001b[39m    \u001b[0m\u001b[1;39m{\u001b[0m\n",
       "\u001b[39m        \u001b[0m\u001b[32m'id'\u001b[0m\u001b[39m: \u001b[0m\u001b[1;36m69\u001b[0m\u001b[39m,\u001b[0m\n",
       "\u001b[39m        \u001b[0m\u001b[32m'image'\u001b[0m\u001b[39m: \u001b[0m\u001b[32m'images/00000070.jpg'\u001b[0m\u001b[39m,\u001b[0m\n",
       "\u001b[39m        \u001b[0m\u001b[32m'conversations'\u001b[0m\u001b[39m: \u001b[0m\u001b[1;39m[\u001b[0m\n",
       "\u001b[39m            \u001b[0m\u001b[1;39m{\u001b[0m\u001b[32m'from'\u001b[0m\u001b[39m: \u001b[0m\u001b[32m'human'\u001b[0m\u001b[39m, \u001b[0m\u001b[32m'value'\u001b[0m\u001b[39m: \u001b[0m\u001b[32m'<image>\\nWhat are the objects and relations you see in this image?'\u001b[0m\u001b[1;39m}\u001b[0m\u001b[39m,\u001b[0m\n",
       "\u001b[39m            \u001b[0m\u001b[1;39m{\u001b[0m\n",
       "\u001b[39m                \u001b[0m\u001b[32m'from'\u001b[0m\u001b[39m: \u001b[0m\u001b[32m'gpt'\u001b[0m\u001b[39m,\u001b[0m\n",
       "\u001b[39m                \u001b[0m\u001b[32m'value'\u001b[0m\u001b[39m: \u001b[0m\u001b[32m'Device 1: \\nbattery_covered in firealarm_back\\nfirealarm_back next to hca_back\\nhca_back \u001b[0m\n",
       "\u001b[32mnext to firealarm_back\\nplastic_clip in hca_back\\npcb_covered in hca_back\\nplastic_clip next to \u001b[0m\n",
       "\u001b[32mpcb_covered\\npcb_covered next to plastic_clip\\n'\u001b[0m\n",
       "\u001b[39m            \u001b[0m\u001b[1;39m}\u001b[0m\n",
       "\u001b[39m        \u001b[0m\u001b[1;39m]\u001b[0m\n",
       "\u001b[39m    \u001b[0m\u001b[1;39m}\u001b[0m\u001b[39m,\u001b[0m\n",
       "\u001b[39m    \u001b[0m\u001b[1;39m{\u001b[0m\n",
       "\u001b[39m        \u001b[0m\u001b[32m'id'\u001b[0m\u001b[39m: \u001b[0m\u001b[1;36m70\u001b[0m\u001b[39m,\u001b[0m\n",
       "\u001b[39m        \u001b[0m\u001b[32m'image'\u001b[0m\u001b[39m: \u001b[0m\u001b[32m'images/00000071.jpg'\u001b[0m\u001b[39m,\u001b[0m\n",
       "\u001b[39m        \u001b[0m\u001b[32m'conversations'\u001b[0m\u001b[39m: \u001b[0m\u001b[1;39m[\u001b[0m\n",
       "\u001b[39m            \u001b[0m\u001b[1;39m{\u001b[0m\u001b[32m'from'\u001b[0m\u001b[39m: \u001b[0m\u001b[32m'human'\u001b[0m\u001b[39m, \u001b[0m\u001b[32m'value'\u001b[0m\u001b[39m: \u001b[0m\u001b[32m'<image>\\nWhat are the objects and relations you see in this image?'\u001b[0m\u001b[1;39m}\u001b[0m\u001b[39m,\u001b[0m\n",
       "\u001b[39m            \u001b[0m\u001b[1;39m{\u001b[0m\u001b[32m'from'\u001b[0m\u001b[39m: \u001b[0m\u001b[32m'gpt'\u001b[0m\u001b[39m, \u001b[0m\u001b[32m'value'\u001b[0m\u001b[39m: \u001b[0m\u001b[32m'Device 1: \\npcb in internals\\nbattery in internals\\nbattery in pcb\\n'\u001b[0m\u001b[1;39m}\u001b[0m\n",
       "\u001b[39m        \u001b[0m\u001b[1;39m]\u001b[0m\n",
       "\u001b[39m    \u001b[0m\u001b[1;39m}\u001b[0m\u001b[39m,\u001b[0m\n",
       "\u001b[39m    \u001b[0m\u001b[1;39m{\u001b[0m\n",
       "\u001b[39m        \u001b[0m\u001b[32m'id'\u001b[0m\u001b[39m: \u001b[0m\u001b[1;36m71\u001b[0m\u001b[39m,\u001b[0m\n",
       "\u001b[39m        \u001b[0m\u001b[32m'image'\u001b[0m\u001b[39m: \u001b[0m\u001b[32m'images/00000072.jpg'\u001b[0m\u001b[39m,\u001b[0m\n",
       "\u001b[39m        \u001b[0m\u001b[32m'conversations'\u001b[0m\u001b[39m: \u001b[0m\u001b[1;39m[\u001b[0m\n",
       "\u001b[39m            \u001b[0m\u001b[1;39m{\u001b[0m\u001b[32m'from'\u001b[0m\u001b[39m: \u001b[0m\u001b[32m'human'\u001b[0m\u001b[39m, \u001b[0m\u001b[32m'value'\u001b[0m\u001b[39m: \u001b[0m\u001b[32m'<image>\\nWhat are the objects and relations you see in this image?'\u001b[0m\u001b[1;39m}\u001b[0m\u001b[39m,\u001b[0m\n",
       "\u001b[39m            \u001b[0m\u001b[1;39m{\u001b[0m\n",
       "\u001b[39m                \u001b[0m\u001b[32m'from'\u001b[0m\u001b[39m: \u001b[0m\u001b[32m'gpt'\u001b[0m\u001b[39m,\u001b[0m\n",
       "\u001b[39m                \u001b[0m\u001b[32m'value'\u001b[0m\u001b[39m: \u001b[0m\u001b[32m'Device 1: \\npcb_covered in hca_back\\n\\nDevice 2: \\nbattery_covered in firealarm_back\\n'\u001b[0m\n",
       "\u001b[39m            \u001b[0m\u001b[1;39m}\u001b[0m\n",
       "\u001b[39m        \u001b[0m\u001b[1;39m]\u001b[0m\n",
       "\u001b[39m    \u001b[0m\u001b[1;39m}\u001b[0m\u001b[39m,\u001b[0m\n",
       "\u001b[39m    \u001b[0m\u001b[1;39m{\u001b[0m\n",
       "\u001b[39m        \u001b[0m\u001b[32m'id'\u001b[0m\u001b[39m: \u001b[0m\u001b[1;36m72\u001b[0m\u001b[39m,\u001b[0m\n",
       "\u001b[39m        \u001b[0m\u001b[32m'image'\u001b[0m\u001b[39m: \u001b[0m\u001b[32m'images/00000073.jpg'\u001b[0m\u001b[39m,\u001b[0m\n",
       "\u001b[39m        \u001b[0m\u001b[32m'conversations'\u001b[0m\u001b[39m: \u001b[0m\u001b[1;39m[\u001b[0m\n",
       "\u001b[39m            \u001b[0m\u001b[1;39m{\u001b[0m\u001b[32m'from'\u001b[0m\u001b[39m: \u001b[0m\u001b[32m'human'\u001b[0m\u001b[39m, \u001b[0m\u001b[32m'value'\u001b[0m\u001b[39m: \u001b[0m\u001b[32m'<image>\\nWhat are the objects and relations you see in this image?'\u001b[0m\u001b[1;39m}\u001b[0m\u001b[39m,\u001b[0m\n",
       "\u001b[39m            \u001b[0m\u001b[1;39m{\u001b[0m\u001b[32m'from'\u001b[0m\u001b[39m: \u001b[0m\u001b[32m'gpt'\u001b[0m\u001b[39m, \u001b[0m\u001b[32m'value'\u001b[0m\u001b[39m: \u001b[0m\u001b[32m'Device 1: \\nbattery in internals\\n'\u001b[0m\u001b[1;39m}\u001b[0m\n",
       "\u001b[39m        \u001b[0m\u001b[1;39m]\u001b[0m\n",
       "\u001b[39m    \u001b[0m\u001b[1;39m}\u001b[0m\u001b[39m,\u001b[0m\n",
       "\u001b[39m    \u001b[0m\u001b[1;39m{\u001b[0m\n",
       "\u001b[39m        \u001b[0m\u001b[32m'id'\u001b[0m\u001b[39m: \u001b[0m\u001b[1;36m73\u001b[0m\u001b[39m,\u001b[0m\n",
       "\u001b[39m        \u001b[0m\u001b[32m'image'\u001b[0m\u001b[39m: \u001b[0m\u001b[32m'images/00000074.jpg'\u001b[0m\u001b[39m,\u001b[0m\n",
       "\u001b[39m        \u001b[0m\u001b[32m'conversations'\u001b[0m\u001b[39m: \u001b[0m\u001b[1;39m[\u001b[0m\n",
       "\u001b[39m            \u001b[0m\u001b[1;39m{\u001b[0m\u001b[32m'from'\u001b[0m\u001b[39m: \u001b[0m\u001b[32m'human'\u001b[0m\u001b[39m, \u001b[0m\u001b[32m'value'\u001b[0m\u001b[39m: \u001b[0m\u001b[32m'<image>\\nWhat are the objects and relations you see in this image?'\u001b[0m\u001b[1;39m}\u001b[0m\u001b[39m,\u001b[0m\n",
       "\u001b[39m            \u001b[0m\u001b[1;39m{\u001b[0m\u001b[32m'from'\u001b[0m\u001b[39m: \u001b[0m\u001b[32m'gpt'\u001b[0m\u001b[39m, \u001b[0m\u001b[32m'value'\u001b[0m\u001b[39m: \u001b[0m\u001b[32m'Device 1: \\nfirealarm_back'\u001b[0m\u001b[1;39m}\u001b[0m\n",
       "\u001b[39m        \u001b[0m\u001b[1;39m]\u001b[0m\n",
       "\u001b[39m    \u001b[0m\u001b[1;39m}\u001b[0m\u001b[39m,\u001b[0m\n",
       "\u001b[39m    \u001b[0m\u001b[1;39m{\u001b[0m\n",
       "\u001b[39m        \u001b[0m\u001b[32m'id'\u001b[0m\u001b[39m: \u001b[0m\u001b[1;36m74\u001b[0m\u001b[39m,\u001b[0m\n",
       "\u001b[39m        \u001b[0m\u001b[32m'image'\u001b[0m\u001b[39m: \u001b[0m\u001b[32m'images/00000075.jpg'\u001b[0m\u001b[39m,\u001b[0m\n",
       "\u001b[39m        \u001b[0m\u001b[32m'conversations'\u001b[0m\u001b[39m: \u001b[0m\u001b[1;39m[\u001b[0m\n",
       "\u001b[39m            \u001b[0m\u001b[1;39m{\u001b[0m\u001b[32m'from'\u001b[0m\u001b[39m: \u001b[0m\u001b[32m'human'\u001b[0m\u001b[39m, \u001b[0m\u001b[32m'value'\u001b[0m\u001b[39m: \u001b[0m\u001b[32m'<image>\\nWhat are the objects and relations you see in this image?'\u001b[0m\u001b[1;39m}\u001b[0m\u001b[39m,\u001b[0m\n",
       "\u001b[39m            \u001b[0m\u001b[1;39m{\u001b[0m\n",
       "\u001b[39m                \u001b[0m\u001b[32m'from'\u001b[0m\u001b[39m: \u001b[0m\u001b[32m'gpt'\u001b[0m\u001b[39m,\u001b[0m\n",
       "\u001b[39m                \u001b[0m\u001b[32m'value'\u001b[0m\u001b[39m: \u001b[0m\u001b[32m'Device 1: \\nfirealarm_front next to internals\\ninternals next to firealarm_front\\npcb in \u001b[0m\n",
       "\u001b[32minternals\\nbattery in internals\\n'\u001b[0m\n",
       "\u001b[39m            \u001b[0m\u001b[1;39m}\u001b[0m\n",
       "\u001b[39m        \u001b[0m\u001b[1;39m]\u001b[0m\n",
       "\u001b[39m    \u001b[0m\u001b[1;39m}\u001b[0m\u001b[39m,\u001b[0m\n",
       "\u001b[39m    \u001b[0m\u001b[1;39m{\u001b[0m\n",
       "\u001b[39m        \u001b[0m\u001b[32m'id'\u001b[0m\u001b[39m: \u001b[0m\u001b[1;36m75\u001b[0m\u001b[39m,\u001b[0m\n",
       "\u001b[39m        \u001b[0m\u001b[32m'image'\u001b[0m\u001b[39m: \u001b[0m\u001b[32m'images/00000076.jpg'\u001b[0m\u001b[39m,\u001b[0m\n",
       "\u001b[39m        \u001b[0m\u001b[32m'conversations'\u001b[0m\u001b[39m: \u001b[0m\u001b[1;39m[\u001b[0m\n",
       "\u001b[39m            \u001b[0m\u001b[1;39m{\u001b[0m\u001b[32m'from'\u001b[0m\u001b[39m: \u001b[0m\u001b[32m'human'\u001b[0m\u001b[39m, \u001b[0m\u001b[32m'value'\u001b[0m\u001b[39m: \u001b[0m\u001b[32m'<image>\\nWhat are the objects and relations you see in this image?'\u001b[0m\u001b[1;39m}\u001b[0m\u001b[39m,\u001b[0m\n",
       "\u001b[39m            \u001b[0m\u001b[1;39m{\u001b[0m\n",
       "\u001b[39m                \u001b[0m\u001b[32m'from'\u001b[0m\u001b[39m: \u001b[0m\u001b[32m'gpt'\u001b[0m\u001b[39m,\u001b[0m\n",
       "\u001b[39m                \u001b[0m\u001b[32m'value'\u001b[0m\u001b[39m: \u001b[0m\u001b[32m'Device 1: \\npcb in hca_back\\nbattery in hca_back\\ninternals in hca_back\\npcb next to \u001b[0m\n",
       "\u001b[32mbattery\\npcb next to internals\\nbattery next to pcb\\ninternals next to pcb\\n'\u001b[0m\n",
       "\u001b[39m            \u001b[0m\u001b[1;39m}\u001b[0m\n",
       "\u001b[39m        \u001b[0m\u001b[1;39m]\u001b[0m\n",
       "\u001b[39m    \u001b[0m\u001b[1;39m}\u001b[0m\u001b[39m,\u001b[0m\n",
       "\u001b[39m    \u001b[0m\u001b[1;39m{\u001b[0m\n",
       "\u001b[39m        \u001b[0m\u001b[32m'id'\u001b[0m\u001b[39m: \u001b[0m\u001b[1;36m76\u001b[0m\u001b[39m,\u001b[0m\n",
       "\u001b[39m        \u001b[0m\u001b[32m'image'\u001b[0m\u001b[39m: \u001b[0m\u001b[32m'images/00000077.jpg'\u001b[0m\u001b[39m,\u001b[0m\n",
       "\u001b[39m        \u001b[0m\u001b[32m'conversations'\u001b[0m\u001b[39m: \u001b[0m\u001b[1;39m[\u001b[0m\n",
       "\u001b[39m            \u001b[0m\u001b[1;39m{\u001b[0m\u001b[32m'from'\u001b[0m\u001b[39m: \u001b[0m\u001b[32m'human'\u001b[0m\u001b[39m, \u001b[0m\u001b[32m'value'\u001b[0m\u001b[39m: \u001b[0m\u001b[32m'<image>\\nWhat are the objects and relations you see in this image?'\u001b[0m\u001b[1;39m}\u001b[0m\u001b[39m,\u001b[0m\n",
       "\u001b[39m            \u001b[0m\u001b[1;39m{\u001b[0m\n",
       "\u001b[39m                \u001b[0m\u001b[32m'from'\u001b[0m\u001b[39m: \u001b[0m\u001b[32m'gpt'\u001b[0m\u001b[39m,\u001b[0m\n",
       "\u001b[39m                \u001b[0m\u001b[32m'value'\u001b[0m\u001b[39m: \u001b[0m\u001b[32m'Device 1: \\npcb in firealarm_back\\nbattery in firealarm_back\\nbattery in \u001b[0m\n",
       "\u001b[32mfirealarm_back\\nfirealarm_back next to firealarm_front\\nfirealarm_front next to firealarm_back\\npcb in battery\\npcb\u001b[0m\n",
       "\u001b[32min firealarm_front\\nbattery in pcb\\npcb next to battery\\nbattery next to pcb\\nbattery next to \u001b[0m\n",
       "\u001b[32mfirealarm_front\\nfirealarm_front next to battery\\nbattery next to firealarm_front\\nfirealarm_front next to \u001b[0m\n",
       "\u001b[32mbattery\\n'\u001b[0m\n",
       "\u001b[39m            \u001b[0m\u001b[1;39m}\u001b[0m\n",
       "\u001b[39m        \u001b[0m\u001b[1;39m]\u001b[0m\n",
       "\u001b[39m    \u001b[0m\u001b[1;39m}\u001b[0m\u001b[39m,\u001b[0m\n",
       "\u001b[39m    \u001b[0m\u001b[1;39m{\u001b[0m\n",
       "\u001b[39m        \u001b[0m\u001b[32m'id'\u001b[0m\u001b[39m: \u001b[0m\u001b[1;36m77\u001b[0m\u001b[39m,\u001b[0m\n",
       "\u001b[39m        \u001b[0m\u001b[32m'image'\u001b[0m\u001b[39m: \u001b[0m\u001b[32m'images/00000078.jpg'\u001b[0m\u001b[39m,\u001b[0m\n",
       "\u001b[39m        \u001b[0m\u001b[32m'conversations'\u001b[0m\u001b[39m: \u001b[0m\u001b[1;39m[\u001b[0m\n",
       "\u001b[39m            \u001b[0m\u001b[1;39m{\u001b[0m\u001b[32m'from'\u001b[0m\u001b[39m: \u001b[0m\u001b[32m'human'\u001b[0m\u001b[39m, \u001b[0m\u001b[32m'value'\u001b[0m\u001b[39m: \u001b[0m\u001b[32m'<image>\\nWhat are the objects and relations you see in this image?'\u001b[0m\u001b[1;39m}\u001b[0m\u001b[39m,\u001b[0m\n",
       "\u001b[39m            \u001b[0m\u001b[1;39m{\u001b[0m\u001b[32m'from'\u001b[0m\u001b[39m: \u001b[0m\u001b[32m'gpt'\u001b[0m\u001b[39m, \u001b[0m\u001b[32m'value'\u001b[0m\u001b[39m: \u001b[0m\u001b[32m'Device 1: \\nfirealarm_back'\u001b[0m\u001b[1;39m}\u001b[0m\n",
       "\u001b[39m        \u001b[0m\u001b[1;39m]\u001b[0m\n",
       "\u001b[39m    \u001b[0m\u001b[1;39m}\u001b[0m\u001b[39m,\u001b[0m\n",
       "\u001b[39m    \u001b[0m\u001b[1;39m{\u001b[0m\n",
       "\u001b[39m        \u001b[0m\u001b[32m'id'\u001b[0m\u001b[39m: \u001b[0m\u001b[1;36m78\u001b[0m\u001b[39m,\u001b[0m\n",
       "\u001b[39m        \u001b[0m\u001b[32m'image'\u001b[0m\u001b[39m: \u001b[0m\u001b[32m'images/00000079.jpg'\u001b[0m\u001b[39m,\u001b[0m\n",
       "\u001b[39m        \u001b[0m\u001b[32m'conversations'\u001b[0m\u001b[39m: \u001b[0m\u001b[1;39m[\u001b[0m\n",
       "\u001b[39m            \u001b[0m\u001b[1;39m{\u001b[0m\u001b[32m'from'\u001b[0m\u001b[39m: \u001b[0m\u001b[32m'human'\u001b[0m\u001b[39m, \u001b[0m\u001b[32m'value'\u001b[0m\u001b[39m: \u001b[0m\u001b[32m'<image>\\nWhat are the objects and relations you see in this image?'\u001b[0m\u001b[1;39m}\u001b[0m\u001b[39m,\u001b[0m\n",
       "\u001b[39m            \u001b[0m\u001b[1;39m{\u001b[0m\n",
       "\u001b[39m                \u001b[0m\u001b[32m'from'\u001b[0m\u001b[39m: \u001b[0m\u001b[32m'gpt'\u001b[0m\u001b[39m,\u001b[0m\n",
       "\u001b[39m                \u001b[0m\u001b[32m'value'\u001b[0m\u001b[39m: \u001b[0m\u001b[32m'Device 1: \\npcb in hca_back\\nbattery in hca_back\\npcb next to battery\\nbattery next to \u001b[0m\n",
       "\u001b[32mpcb\\n\\nDevice 2: \\nfirealarm_back'\u001b[0m\n",
       "\u001b[39m            \u001b[0m\u001b[1;39m}\u001b[0m\n",
       "\u001b[39m        \u001b[0m\u001b[1;39m]\u001b[0m\n",
       "\u001b[39m    \u001b[0m\u001b[1;39m}\u001b[0m\u001b[39m,\u001b[0m\n",
       "\u001b[39m    \u001b[0m\u001b[1;39m{\u001b[0m\n",
       "\u001b[39m        \u001b[0m\u001b[32m'id'\u001b[0m\u001b[39m: \u001b[0m\u001b[1;36m79\u001b[0m\u001b[39m,\u001b[0m\n",
       "\u001b[39m        \u001b[0m\u001b[32m'image'\u001b[0m\u001b[39m: \u001b[0m\u001b[32m'images/00000080.jpg'\u001b[0m\u001b[39m,\u001b[0m\n",
       "\u001b[39m        \u001b[0m\u001b[32m'conversations'\u001b[0m\u001b[39m: \u001b[0m\u001b[1;39m[\u001b[0m\n",
       "\u001b[39m            \u001b[0m\u001b[1;39m{\u001b[0m\u001b[32m'from'\u001b[0m\u001b[39m: \u001b[0m\u001b[32m'human'\u001b[0m\u001b[39m, \u001b[0m\u001b[32m'value'\u001b[0m\u001b[39m: \u001b[0m\u001b[32m'<image>\\nWhat are the objects and relations you see in this image?'\u001b[0m\u001b[1;39m}\u001b[0m\u001b[39m,\u001b[0m\n",
       "\u001b[39m            \u001b[0m\u001b[1;39m{\u001b[0m\n",
       "\u001b[39m                \u001b[0m\u001b[32m'from'\u001b[0m\u001b[39m: \u001b[0m\u001b[32m'gpt'\u001b[0m\u001b[39m,\u001b[0m\n",
       "\u001b[39m                \u001b[0m\u001b[32m'value'\u001b[0m\u001b[39m: \u001b[0m\u001b[32m'Device 1: \\nplastic_clip in hca_back\\ninternals in hca_back\\nplastic_clip next to \u001b[0m\n",
       "\u001b[32minternals\\ninternals next to plastic_clip\\n'\u001b[0m\n",
       "\u001b[39m            \u001b[0m\u001b[1;39m}\u001b[0m\n",
       "\u001b[39m        \u001b[0m\u001b[1;39m]\u001b[0m\n",
       "\u001b[39m    \u001b[0m\u001b[1;39m}\u001b[0m\u001b[39m,\u001b[0m\n",
       "\u001b[39m    \u001b[0m\u001b[1;39m{\u001b[0m\n",
       "\u001b[39m        \u001b[0m\u001b[32m'id'\u001b[0m\u001b[39m: \u001b[0m\u001b[1;36m80\u001b[0m\u001b[39m,\u001b[0m\n",
       "\u001b[39m        \u001b[0m\u001b[32m'image'\u001b[0m\u001b[39m: \u001b[0m\u001b[32m'images/00000081.jpg'\u001b[0m\u001b[39m,\u001b[0m\n",
       "\u001b[39m        \u001b[0m\u001b[32m'conversations'\u001b[0m\u001b[39m: \u001b[0m\u001b[1;39m[\u001b[0m\n",
       "\u001b[39m            \u001b[0m\u001b[1;39m{\u001b[0m\u001b[32m'from'\u001b[0m\u001b[39m: \u001b[0m\u001b[32m'human'\u001b[0m\u001b[39m, \u001b[0m\u001b[32m'value'\u001b[0m\u001b[39m: \u001b[0m\u001b[32m'<image>\\nWhat are the objects and relations you see in this image?'\u001b[0m\u001b[1;39m}\u001b[0m\u001b[39m,\u001b[0m\n",
       "\u001b[39m            \u001b[0m\u001b[1;39m{\u001b[0m\n",
       "\u001b[39m                \u001b[0m\u001b[32m'from'\u001b[0m\u001b[39m: \u001b[0m\u001b[32m'gpt'\u001b[0m\u001b[39m,\u001b[0m\n",
       "\u001b[39m                \u001b[0m\u001b[32m'value'\u001b[0m\u001b[39m: \u001b[0m\u001b[32m'Device 1: \\npcb in firealarm_back\\nbattery in firealarm_back\\nbattery in pcb\\n'\u001b[0m\n",
       "\u001b[39m            \u001b[0m\u001b[1;39m}\u001b[0m\n",
       "\u001b[39m        \u001b[0m\u001b[1;39m]\u001b[0m\n",
       "\u001b[39m    \u001b[0m\u001b[1;39m}\u001b[0m\u001b[39m,\u001b[0m\n",
       "\u001b[39m    \u001b[0m\u001b[1;39m{\u001b[0m\n",
       "\u001b[39m        \u001b[0m\u001b[32m'id'\u001b[0m\u001b[39m: \u001b[0m\u001b[1;36m81\u001b[0m\u001b[39m,\u001b[0m\n",
       "\u001b[39m        \u001b[0m\u001b[32m'image'\u001b[0m\u001b[39m: \u001b[0m\u001b[32m'images/00000082.jpg'\u001b[0m\u001b[39m,\u001b[0m\n",
       "\u001b[39m        \u001b[0m\u001b[32m'conversations'\u001b[0m\u001b[39m: \u001b[0m\u001b[1;39m[\u001b[0m\n",
       "\u001b[39m            \u001b[0m\u001b[1;39m{\u001b[0m\u001b[32m'from'\u001b[0m\u001b[39m: \u001b[0m\u001b[32m'human'\u001b[0m\u001b[39m, \u001b[0m\u001b[32m'value'\u001b[0m\u001b[39m: \u001b[0m\u001b[32m'<image>\\nWhat are the objects and relations you see in this image?'\u001b[0m\u001b[1;39m}\u001b[0m\u001b[39m,\u001b[0m\n",
       "\u001b[39m            \u001b[0m\u001b[1;39m{\u001b[0m\u001b[32m'from'\u001b[0m\u001b[39m: \u001b[0m\u001b[32m'gpt'\u001b[0m\u001b[39m, \u001b[0m\u001b[32m'value'\u001b[0m\u001b[39m: \u001b[0m\u001b[32m'Device 1: \\nfirealarm_front\\nDevice 2: \\nfirealarm_back'\u001b[0m\u001b[1;39m}\u001b[0m\n",
       "\u001b[39m        \u001b[0m\u001b[1;39m]\u001b[0m\n",
       "\u001b[39m    \u001b[0m\u001b[1;39m}\u001b[0m\u001b[39m,\u001b[0m\n",
       "\u001b[39m    \u001b[0m\u001b[1;39m{\u001b[0m\n",
       "\u001b[39m        \u001b[0m\u001b[32m'id'\u001b[0m\u001b[39m: \u001b[0m\u001b[1;36m82\u001b[0m\u001b[39m,\u001b[0m\n",
       "\u001b[39m        \u001b[0m\u001b[32m'image'\u001b[0m\u001b[39m: \u001b[0m\u001b[32m'images/00000083.jpg'\u001b[0m\u001b[39m,\u001b[0m\n",
       "\u001b[39m        \u001b[0m\u001b[32m'conversations'\u001b[0m\u001b[39m: \u001b[0m\u001b[1;39m[\u001b[0m\n",
       "\u001b[39m            \u001b[0m\u001b[1;39m{\u001b[0m\u001b[32m'from'\u001b[0m\u001b[39m: \u001b[0m\u001b[32m'human'\u001b[0m\u001b[39m, \u001b[0m\u001b[32m'value'\u001b[0m\u001b[39m: \u001b[0m\u001b[32m'<image>\\nWhat are the objects and relations you see in this image?'\u001b[0m\u001b[1;39m}\u001b[0m\u001b[39m,\u001b[0m\n",
       "\u001b[39m            \u001b[0m\u001b[1;39m{\u001b[0m\u001b[32m'from'\u001b[0m\u001b[39m: \u001b[0m\u001b[32m'gpt'\u001b[0m\u001b[39m, \u001b[0m\u001b[32m'value'\u001b[0m\u001b[39m: \u001b[0m\u001b[32m'Device 1: \\nfirealarm_back'\u001b[0m\u001b[1;39m}\u001b[0m\n",
       "\u001b[39m        \u001b[0m\u001b[1;39m]\u001b[0m\n",
       "\u001b[39m    \u001b[0m\u001b[1;39m}\u001b[0m\u001b[39m,\u001b[0m\n",
       "\u001b[39m    \u001b[0m\u001b[1;39m{\u001b[0m\n",
       "\u001b[39m        \u001b[0m\u001b[32m'id'\u001b[0m\u001b[39m: \u001b[0m\u001b[1;36m83\u001b[0m\u001b[39m,\u001b[0m\n",
       "\u001b[39m        \u001b[0m\u001b[32m'image'\u001b[0m\u001b[39m: \u001b[0m\u001b[32m'images/00000084.jpg'\u001b[0m\u001b[39m,\u001b[0m\n",
       "\u001b[39m        \u001b[0m\u001b[32m'conversations'\u001b[0m\u001b[39m: \u001b[0m\u001b[1;39m[\u001b[0m\n",
       "\u001b[39m            \u001b[0m\u001b[1;39m{\u001b[0m\u001b[32m'from'\u001b[0m\u001b[39m: \u001b[0m\u001b[32m'human'\u001b[0m\u001b[39m, \u001b[0m\u001b[32m'value'\u001b[0m\u001b[39m: \u001b[0m\u001b[32m'<image>\\nWhat are the objects and relations you see in this image?'\u001b[0m\u001b[1;39m}\u001b[0m\u001b[39m,\u001b[0m\n",
       "\u001b[39m            \u001b[0m\u001b[1;39m{\u001b[0m\n",
       "\u001b[39m                \u001b[0m\u001b[32m'from'\u001b[0m\u001b[39m: \u001b[0m\u001b[32m'gpt'\u001b[0m\u001b[39m,\u001b[0m\n",
       "\u001b[39m                \u001b[0m\u001b[32m'value'\u001b[0m\u001b[39m: \u001b[0m\u001b[32m'Device 1: \\npcb in hca_back\\nbattery in hca_back\\npcb next to battery\\nbattery next to \u001b[0m\n",
       "\u001b[32mpcb\\n\\nDevice 2: \\npcb_covered in hca_back\\n'\u001b[0m\n",
       "\u001b[39m            \u001b[0m\u001b[1;39m}\u001b[0m\n",
       "\u001b[39m        \u001b[0m\u001b[1;39m]\u001b[0m\n",
       "\u001b[39m    \u001b[0m\u001b[1;39m}\u001b[0m\u001b[39m,\u001b[0m\n",
       "\u001b[39m    \u001b[0m\u001b[1;39m{\u001b[0m\n",
       "\u001b[39m        \u001b[0m\u001b[32m'id'\u001b[0m\u001b[39m: \u001b[0m\u001b[1;36m84\u001b[0m\u001b[39m,\u001b[0m\n",
       "\u001b[39m        \u001b[0m\u001b[32m'image'\u001b[0m\u001b[39m: \u001b[0m\u001b[32m'images/00000085.jpg'\u001b[0m\u001b[39m,\u001b[0m\n",
       "\u001b[39m        \u001b[0m\u001b[32m'conversations'\u001b[0m\u001b[39m: \u001b[0m\u001b[1;39m[\u001b[0m\n",
       "\u001b[39m            \u001b[0m\u001b[1;39m{\u001b[0m\u001b[32m'from'\u001b[0m\u001b[39m: \u001b[0m\u001b[32m'human'\u001b[0m\u001b[39m, \u001b[0m\u001b[32m'value'\u001b[0m\u001b[39m: \u001b[0m\u001b[32m'<image>\\nWhat are the objects and relations you see in this image?'\u001b[0m\u001b[1;39m}\u001b[0m\u001b[39m,\u001b[0m\n",
       "\u001b[39m            \u001b[0m\u001b[1;39m{\u001b[0m\u001b[32m'from'\u001b[0m\u001b[39m: \u001b[0m\u001b[32m'gpt'\u001b[0m\u001b[39m, \u001b[0m\u001b[32m'value'\u001b[0m\u001b[39m: \u001b[0m\u001b[32m'Device 1: \\npcb_covered in hca_back\\n'\u001b[0m\u001b[1;39m}\u001b[0m\n",
       "\u001b[39m        \u001b[0m\u001b[1;39m]\u001b[0m\n",
       "\u001b[39m    \u001b[0m\u001b[1;39m}\u001b[0m\u001b[39m,\u001b[0m\n",
       "\u001b[39m    \u001b[0m\u001b[1;39m{\u001b[0m\n",
       "\u001b[39m        \u001b[0m\u001b[32m'id'\u001b[0m\u001b[39m: \u001b[0m\u001b[1;36m85\u001b[0m\u001b[39m,\u001b[0m\n",
       "\u001b[39m        \u001b[0m\u001b[32m'image'\u001b[0m\u001b[39m: \u001b[0m\u001b[32m'images/00000086.jpg'\u001b[0m\u001b[39m,\u001b[0m\n",
       "\u001b[39m        \u001b[0m\u001b[32m'conversations'\u001b[0m\u001b[39m: \u001b[0m\u001b[1;39m[\u001b[0m\n",
       "\u001b[39m            \u001b[0m\u001b[1;39m{\u001b[0m\u001b[32m'from'\u001b[0m\u001b[39m: \u001b[0m\u001b[32m'human'\u001b[0m\u001b[39m, \u001b[0m\u001b[32m'value'\u001b[0m\u001b[39m: \u001b[0m\u001b[32m'<image>\\nWhat are the objects and relations you see in this image?'\u001b[0m\u001b[1;39m}\u001b[0m\u001b[39m,\u001b[0m\n",
       "\u001b[39m            \u001b[0m\u001b[1;39m{\u001b[0m\n",
       "\u001b[39m                \u001b[0m\u001b[32m'from'\u001b[0m\u001b[39m: \u001b[0m\u001b[32m'gpt'\u001b[0m\u001b[39m,\u001b[0m\n",
       "\u001b[39m                \u001b[0m\u001b[32m'value'\u001b[0m\u001b[39m: \u001b[0m\u001b[32m'Device 1: \\ninternals in hca_back\\n\\nDevice 2: \\nbattery_covered in firealarm_back\\n'\u001b[0m\n",
       "\u001b[39m            \u001b[0m\u001b[1;39m}\u001b[0m\n",
       "\u001b[39m        \u001b[0m\u001b[1;39m]\u001b[0m\n",
       "\u001b[39m    \u001b[0m\u001b[1;39m}\u001b[0m\u001b[39m,\u001b[0m\n",
       "\u001b[39m    \u001b[0m\u001b[1;39m{\u001b[0m\n",
       "\u001b[39m        \u001b[0m\u001b[32m'id'\u001b[0m\u001b[39m: \u001b[0m\u001b[1;36m86\u001b[0m\u001b[39m,\u001b[0m\n",
       "\u001b[39m        \u001b[0m\u001b[32m'image'\u001b[0m\u001b[39m: \u001b[0m\u001b[32m'images/00000087.jpg'\u001b[0m\u001b[39m,\u001b[0m\n",
       "\u001b[39m        \u001b[0m\u001b[32m'conversations'\u001b[0m\u001b[39m: \u001b[0m\u001b[1;39m[\u001b[0m\n",
       "\u001b[39m            \u001b[0m\u001b[1;39m{\u001b[0m\u001b[32m'from'\u001b[0m\u001b[39m: \u001b[0m\u001b[32m'human'\u001b[0m\u001b[39m, \u001b[0m\u001b[32m'value'\u001b[0m\u001b[39m: \u001b[0m\u001b[32m'<image>\\nWhat are the objects and relations you see in this image?'\u001b[0m\u001b[1;39m}\u001b[0m\u001b[39m,\u001b[0m\n",
       "\u001b[39m            \u001b[0m\u001b[1;39m{\u001b[0m\n",
       "\u001b[39m                \u001b[0m\u001b[32m'from'\u001b[0m\u001b[39m: \u001b[0m\u001b[32m'gpt'\u001b[0m\u001b[39m,\u001b[0m\n",
       "\u001b[39m                \u001b[0m\u001b[32m'value'\u001b[0m\u001b[39m: \u001b[0m\u001b[32m'Device 1: \\npcb in internals\\npcb in internals\\nbattery in internals\\ninternals next to \u001b[0m\n",
       "\u001b[32mfirealarm_back\\nfirealarm_back next to internals\\npcb next to battery\\nbattery next to pcb\\npcb next to \u001b[0m\n",
       "\u001b[32mfirealarm_back\\nfirealarm_back next to pcb\\nbattery next to firealarm_back\\nfirealarm_back next to battery\\n'\u001b[0m\n",
       "\u001b[39m            \u001b[0m\u001b[1;39m}\u001b[0m\n",
       "\u001b[39m        \u001b[0m\u001b[1;39m]\u001b[0m\n",
       "\u001b[39m    \u001b[0m\u001b[1;39m}\u001b[0m\u001b[39m,\u001b[0m\n",
       "\u001b[39m    \u001b[0m\u001b[1;39m{\u001b[0m\n",
       "\u001b[39m        \u001b[0m\u001b[32m'id'\u001b[0m\u001b[39m: \u001b[0m\u001b[1;36m87\u001b[0m\u001b[39m,\u001b[0m\n",
       "\u001b[39m        \u001b[0m\u001b[32m'image'\u001b[0m\u001b[39m: \u001b[0m\u001b[32m'images/00000088.jpg'\u001b[0m\u001b[39m,\u001b[0m\n",
       "\u001b[39m        \u001b[0m\u001b[32m'conversations'\u001b[0m\u001b[39m: \u001b[0m\u001b[1;39m[\u001b[0m\n",
       "\u001b[39m            \u001b[0m\u001b[1;39m{\u001b[0m\u001b[32m'from'\u001b[0m\u001b[39m: \u001b[0m\u001b[32m'human'\u001b[0m\u001b[39m, \u001b[0m\u001b[32m'value'\u001b[0m\u001b[39m: \u001b[0m\u001b[32m'<image>\\nWhat are the objects and relations you see in this image?'\u001b[0m\u001b[1;39m}\u001b[0m\u001b[39m,\u001b[0m\n",
       "\u001b[39m            \u001b[0m\u001b[1;39m{\u001b[0m\u001b[32m'from'\u001b[0m\u001b[39m: \u001b[0m\u001b[32m'gpt'\u001b[0m\u001b[39m, \u001b[0m\u001b[32m'value'\u001b[0m\u001b[39m: \u001b[0m\u001b[32m'Device 1: \\npcb_covered in hca_back\\n'\u001b[0m\u001b[1;39m}\u001b[0m\n",
       "\u001b[39m        \u001b[0m\u001b[1;39m]\u001b[0m\n",
       "\u001b[39m    \u001b[0m\u001b[1;39m}\u001b[0m\u001b[39m,\u001b[0m\n",
       "\u001b[39m    \u001b[0m\u001b[1;39m{\u001b[0m\n",
       "\u001b[39m        \u001b[0m\u001b[32m'id'\u001b[0m\u001b[39m: \u001b[0m\u001b[1;36m88\u001b[0m\u001b[39m,\u001b[0m\n",
       "\u001b[39m        \u001b[0m\u001b[32m'image'\u001b[0m\u001b[39m: \u001b[0m\u001b[32m'images/00000089.jpg'\u001b[0m\u001b[39m,\u001b[0m\n",
       "\u001b[39m        \u001b[0m\u001b[32m'conversations'\u001b[0m\u001b[39m: \u001b[0m\u001b[1;39m[\u001b[0m\n",
       "\u001b[39m            \u001b[0m\u001b[1;39m{\u001b[0m\u001b[32m'from'\u001b[0m\u001b[39m: \u001b[0m\u001b[32m'human'\u001b[0m\u001b[39m, \u001b[0m\u001b[32m'value'\u001b[0m\u001b[39m: \u001b[0m\u001b[32m'<image>\\nWhat are the objects and relations you see in this image?'\u001b[0m\u001b[1;39m}\u001b[0m\u001b[39m,\u001b[0m\n",
       "\u001b[39m            \u001b[0m\u001b[1;39m{\u001b[0m\n",
       "\u001b[39m                \u001b[0m\u001b[32m'from'\u001b[0m\u001b[39m: \u001b[0m\u001b[32m'gpt'\u001b[0m\u001b[39m,\u001b[0m\n",
       "\u001b[39m                \u001b[0m\u001b[32m'value'\u001b[0m\u001b[39m: \u001b[0m\u001b[32m'Device 1: \\npcb in firealarm_back\\nbattery in firealarm_back\\nbattery in pcb\\n'\u001b[0m\n",
       "\u001b[39m            \u001b[0m\u001b[1;39m}\u001b[0m\n",
       "\u001b[39m        \u001b[0m\u001b[1;39m]\u001b[0m\n",
       "\u001b[39m    \u001b[0m\u001b[1;39m}\u001b[0m\u001b[39m,\u001b[0m\n",
       "\u001b[39m    \u001b[0m\u001b[1;39m{\u001b[0m\n",
       "\u001b[39m        \u001b[0m\u001b[32m'id'\u001b[0m\u001b[39m: \u001b[0m\u001b[1;36m89\u001b[0m\u001b[39m,\u001b[0m\n",
       "\u001b[39m        \u001b[0m\u001b[32m'image'\u001b[0m\u001b[39m: \u001b[0m\u001b[32m'images/00000090.jpg'\u001b[0m\u001b[39m,\u001b[0m\n",
       "\u001b[39m        \u001b[0m\u001b[32m'conversations'\u001b[0m\u001b[39m: \u001b[0m\u001b[1;39m[\u001b[0m\n",
       "\u001b[39m            \u001b[0m\u001b[1;39m{\u001b[0m\u001b[32m'from'\u001b[0m\u001b[39m: \u001b[0m\u001b[32m'human'\u001b[0m\u001b[39m, \u001b[0m\u001b[32m'value'\u001b[0m\u001b[39m: \u001b[0m\u001b[32m'<image>\\nWhat are the objects and relations you see in this image?'\u001b[0m\u001b[1;39m}\u001b[0m\u001b[39m,\u001b[0m\n",
       "\u001b[39m            \u001b[0m\u001b[1;39m{\u001b[0m\n",
       "\u001b[39m                \u001b[0m\u001b[32m'from'\u001b[0m\u001b[39m: \u001b[0m\u001b[32m'gpt'\u001b[0m\u001b[39m,\u001b[0m\n",
       "\u001b[39m                \u001b[0m\u001b[32m'value'\u001b[0m\u001b[39m: \u001b[0m\u001b[32m'Device 1: \\npcb in firealarm_back\\nbattery in firealarm_back\\nbattery in \u001b[0m\n",
       "\u001b[32mfirealarm_back\\nbattery in pcb\\nbattery in pcb\\n\\nDevice 2: \\nfirealarm_back'\u001b[0m\n",
       "\u001b[39m            \u001b[0m\u001b[1;39m}\u001b[0m\n",
       "\u001b[39m        \u001b[0m\u001b[1;39m]\u001b[0m\n",
       "\u001b[39m    \u001b[0m\u001b[1;39m}\u001b[0m\u001b[39m,\u001b[0m\n",
       "\u001b[39m    \u001b[0m\u001b[1;39m{\u001b[0m\n",
       "\u001b[39m        \u001b[0m\u001b[32m'id'\u001b[0m\u001b[39m: \u001b[0m\u001b[1;36m90\u001b[0m\u001b[39m,\u001b[0m\n",
       "\u001b[39m        \u001b[0m\u001b[32m'image'\u001b[0m\u001b[39m: \u001b[0m\u001b[32m'images/00000091.jpg'\u001b[0m\u001b[39m,\u001b[0m\n",
       "\u001b[39m        \u001b[0m\u001b[32m'conversations'\u001b[0m\u001b[39m: \u001b[0m\u001b[1;39m[\u001b[0m\n",
       "\u001b[39m            \u001b[0m\u001b[1;39m{\u001b[0m\u001b[32m'from'\u001b[0m\u001b[39m: \u001b[0m\u001b[32m'human'\u001b[0m\u001b[39m, \u001b[0m\u001b[32m'value'\u001b[0m\u001b[39m: \u001b[0m\u001b[32m'<image>\\nWhat are the objects and relations you see in this image?'\u001b[0m\u001b[1;39m}\u001b[0m\u001b[39m,\u001b[0m\n",
       "\u001b[39m            \u001b[0m\u001b[1;39m{\u001b[0m\u001b[32m'from'\u001b[0m\u001b[39m: \u001b[0m\u001b[32m'gpt'\u001b[0m\u001b[39m, \u001b[0m\u001b[32m'value'\u001b[0m\u001b[39m: \u001b[0m\u001b[32m'Device 1: \\nbattery_covered in firealarm_back\\n'\u001b[0m\u001b[1;39m}\u001b[0m\n",
       "\u001b[39m        \u001b[0m\u001b[1;39m]\u001b[0m\n",
       "\u001b[39m    \u001b[0m\u001b[1;39m}\u001b[0m\u001b[39m,\u001b[0m\n",
       "\u001b[39m    \u001b[0m\u001b[1;39m{\u001b[0m\n",
       "\u001b[39m        \u001b[0m\u001b[32m'id'\u001b[0m\u001b[39m: \u001b[0m\u001b[1;36m91\u001b[0m\u001b[39m,\u001b[0m\n",
       "\u001b[39m        \u001b[0m\u001b[32m'image'\u001b[0m\u001b[39m: \u001b[0m\u001b[32m'images/00000092.jpg'\u001b[0m\u001b[39m,\u001b[0m\n",
       "\u001b[39m        \u001b[0m\u001b[32m'conversations'\u001b[0m\u001b[39m: \u001b[0m\u001b[1;39m[\u001b[0m\n",
       "\u001b[39m            \u001b[0m\u001b[1;39m{\u001b[0m\u001b[32m'from'\u001b[0m\u001b[39m: \u001b[0m\u001b[32m'human'\u001b[0m\u001b[39m, \u001b[0m\u001b[32m'value'\u001b[0m\u001b[39m: \u001b[0m\u001b[32m'<image>\\nWhat are the objects and relations you see in this image?'\u001b[0m\u001b[1;39m}\u001b[0m\u001b[39m,\u001b[0m\n",
       "\u001b[39m            \u001b[0m\u001b[1;39m{\u001b[0m\u001b[32m'from'\u001b[0m\u001b[39m: \u001b[0m\u001b[32m'gpt'\u001b[0m\u001b[39m, \u001b[0m\u001b[32m'value'\u001b[0m\u001b[39m: \u001b[0m\u001b[32m'Device 1: \\nfirealarm_front'\u001b[0m\u001b[1;39m}\u001b[0m\n",
       "\u001b[39m        \u001b[0m\u001b[1;39m]\u001b[0m\n",
       "\u001b[39m    \u001b[0m\u001b[1;39m}\u001b[0m\u001b[39m,\u001b[0m\n",
       "\u001b[39m    \u001b[0m\u001b[1;39m{\u001b[0m\n",
       "\u001b[39m        \u001b[0m\u001b[32m'id'\u001b[0m\u001b[39m: \u001b[0m\u001b[1;36m92\u001b[0m\u001b[39m,\u001b[0m\n",
       "\u001b[39m        \u001b[0m\u001b[32m'image'\u001b[0m\u001b[39m: \u001b[0m\u001b[32m'images/00000093.jpg'\u001b[0m\u001b[39m,\u001b[0m\n",
       "\u001b[39m        \u001b[0m\u001b[32m'conversations'\u001b[0m\u001b[39m: \u001b[0m\u001b[1;39m[\u001b[0m\n",
       "\u001b[39m            \u001b[0m\u001b[1;39m{\u001b[0m\u001b[32m'from'\u001b[0m\u001b[39m: \u001b[0m\u001b[32m'human'\u001b[0m\u001b[39m, \u001b[0m\u001b[32m'value'\u001b[0m\u001b[39m: \u001b[0m\u001b[32m'<image>\\nWhat are the objects and relations you see in this image?'\u001b[0m\u001b[1;39m}\u001b[0m\u001b[39m,\u001b[0m\n",
       "\u001b[39m            \u001b[0m\u001b[1;39m{\u001b[0m\u001b[32m'from'\u001b[0m\u001b[39m: \u001b[0m\u001b[32m'gpt'\u001b[0m\u001b[39m, \u001b[0m\u001b[32m'value'\u001b[0m\u001b[39m: \u001b[0m\u001b[32m'Device 1: \\nfirealarm_back'\u001b[0m\u001b[1;39m}\u001b[0m\n",
       "\u001b[39m        \u001b[0m\u001b[1;39m]\u001b[0m\n",
       "\u001b[39m    \u001b[0m\u001b[1;39m}\u001b[0m\u001b[39m,\u001b[0m\n",
       "\u001b[39m    \u001b[0m\u001b[1;39m{\u001b[0m\n",
       "\u001b[39m        \u001b[0m\u001b[32m'id'\u001b[0m\u001b[39m: \u001b[0m\u001b[1;36m93\u001b[0m\u001b[39m,\u001b[0m\n",
       "\u001b[39m        \u001b[0m\u001b[32m'image'\u001b[0m\u001b[39m: \u001b[0m\u001b[32m'images/00000094.jpg'\u001b[0m\u001b[39m,\u001b[0m\n",
       "\u001b[39m        \u001b[0m\u001b[32m'conversations'\u001b[0m\u001b[39m: \u001b[0m\u001b[1;39m[\u001b[0m\n",
       "\u001b[39m            \u001b[0m\u001b[1;39m{\u001b[0m\u001b[32m'from'\u001b[0m\u001b[39m: \u001b[0m\u001b[32m'human'\u001b[0m\u001b[39m, \u001b[0m\u001b[32m'value'\u001b[0m\u001b[39m: \u001b[0m\u001b[32m'<image>\\nWhat are the objects and relations you see in this image?'\u001b[0m\u001b[1;39m}\u001b[0m\u001b[39m,\u001b[0m\n",
       "\u001b[39m            \u001b[0m\u001b[1;39m{\u001b[0m\n",
       "\u001b[39m                \u001b[0m\u001b[32m'from'\u001b[0m\u001b[39m: \u001b[0m\u001b[32m'gpt'\u001b[0m\u001b[39m,\u001b[0m\n",
       "\u001b[39m                \u001b[0m\u001b[32m'value'\u001b[0m\u001b[39m: \u001b[0m\u001b[32m'Device 1: \\npcb_covered in hca_back\\nhca_back next to pcb_covered\\npcb_covered next to \u001b[0m\n",
       "\u001b[32mhca_back\\npcb_covered in hca_back\\n'\u001b[0m\n",
       "\u001b[39m            \u001b[0m\u001b[1;39m}\u001b[0m\n",
       "\u001b[39m        \u001b[0m\u001b[1;39m]\u001b[0m\n",
       "\u001b[39m    \u001b[0m\u001b[1;39m}\u001b[0m\u001b[39m,\u001b[0m\n",
       "\u001b[39m    \u001b[0m\u001b[1;39m{\u001b[0m\n",
       "\u001b[39m        \u001b[0m\u001b[32m'id'\u001b[0m\u001b[39m: \u001b[0m\u001b[1;36m94\u001b[0m\u001b[39m,\u001b[0m\n",
       "\u001b[39m        \u001b[0m\u001b[32m'image'\u001b[0m\u001b[39m: \u001b[0m\u001b[32m'images/00000095.jpg'\u001b[0m\u001b[39m,\u001b[0m\n",
       "\u001b[39m        \u001b[0m\u001b[32m'conversations'\u001b[0m\u001b[39m: \u001b[0m\u001b[1;39m[\u001b[0m\n",
       "\u001b[39m            \u001b[0m\u001b[1;39m{\u001b[0m\u001b[32m'from'\u001b[0m\u001b[39m: \u001b[0m\u001b[32m'human'\u001b[0m\u001b[39m, \u001b[0m\u001b[32m'value'\u001b[0m\u001b[39m: \u001b[0m\u001b[32m'<image>\\nWhat are the objects and relations you see in this image?'\u001b[0m\u001b[1;39m}\u001b[0m\u001b[39m,\u001b[0m\n",
       "\u001b[39m            \u001b[0m\u001b[1;39m{\u001b[0m\n",
       "\u001b[39m                \u001b[0m\u001b[32m'from'\u001b[0m\u001b[39m: \u001b[0m\u001b[32m'gpt'\u001b[0m\u001b[39m,\u001b[0m\n",
       "\u001b[39m                \u001b[0m\u001b[32m'value'\u001b[0m\u001b[39m: \u001b[0m\u001b[32m'Device 1: \\ninternals in hca_back\\npcb in hca_back\\ninternals next to pcb\\npcb next to \u001b[0m\n",
       "\u001b[32minternals\\n\\nDevice 2: \\npcb_covered in hca_back\\n'\u001b[0m\n",
       "\u001b[39m            \u001b[0m\u001b[1;39m}\u001b[0m\n",
       "\u001b[39m        \u001b[0m\u001b[1;39m]\u001b[0m\n",
       "\u001b[39m    \u001b[0m\u001b[1;39m}\u001b[0m\u001b[39m,\u001b[0m\n",
       "\u001b[39m    \u001b[0m\u001b[1;39m{\u001b[0m\n",
       "\u001b[39m        \u001b[0m\u001b[32m'id'\u001b[0m\u001b[39m: \u001b[0m\u001b[1;36m95\u001b[0m\u001b[39m,\u001b[0m\n",
       "\u001b[39m        \u001b[0m\u001b[32m'image'\u001b[0m\u001b[39m: \u001b[0m\u001b[32m'images/00000096.jpg'\u001b[0m\u001b[39m,\u001b[0m\n",
       "\u001b[39m        \u001b[0m\u001b[32m'conversations'\u001b[0m\u001b[39m: \u001b[0m\u001b[1;39m[\u001b[0m\n",
       "\u001b[39m            \u001b[0m\u001b[1;39m{\u001b[0m\u001b[32m'from'\u001b[0m\u001b[39m: \u001b[0m\u001b[32m'human'\u001b[0m\u001b[39m, \u001b[0m\u001b[32m'value'\u001b[0m\u001b[39m: \u001b[0m\u001b[32m'<image>\\nWhat are the objects and relations you see in this image?'\u001b[0m\u001b[1;39m}\u001b[0m\u001b[39m,\u001b[0m\n",
       "\u001b[39m            \u001b[0m\u001b[1;39m{\u001b[0m\u001b[32m'from'\u001b[0m\u001b[39m: \u001b[0m\u001b[32m'gpt'\u001b[0m\u001b[39m, \u001b[0m\u001b[32m'value'\u001b[0m\u001b[39m: \u001b[0m\u001b[32m'Device 1: \\nbattery_covered in firealarm_back\\n'\u001b[0m\u001b[1;39m}\u001b[0m\n",
       "\u001b[39m        \u001b[0m\u001b[1;39m]\u001b[0m\n",
       "\u001b[39m    \u001b[0m\u001b[1;39m}\u001b[0m\u001b[39m,\u001b[0m\n",
       "\u001b[39m    \u001b[0m\u001b[1;39m{\u001b[0m\n",
       "\u001b[39m        \u001b[0m\u001b[32m'id'\u001b[0m\u001b[39m: \u001b[0m\u001b[1;36m96\u001b[0m\u001b[39m,\u001b[0m\n",
       "\u001b[39m        \u001b[0m\u001b[32m'image'\u001b[0m\u001b[39m: \u001b[0m\u001b[32m'images/00000097.jpg'\u001b[0m\u001b[39m,\u001b[0m\n",
       "\u001b[39m        \u001b[0m\u001b[32m'conversations'\u001b[0m\u001b[39m: \u001b[0m\u001b[1;39m[\u001b[0m\n",
       "\u001b[39m            \u001b[0m\u001b[1;39m{\u001b[0m\u001b[32m'from'\u001b[0m\u001b[39m: \u001b[0m\u001b[32m'human'\u001b[0m\u001b[39m, \u001b[0m\u001b[32m'value'\u001b[0m\u001b[39m: \u001b[0m\u001b[32m'<image>\\nWhat are the objects and relations you see in this image?'\u001b[0m\u001b[1;39m}\u001b[0m\u001b[39m,\u001b[0m\n",
       "\u001b[39m            \u001b[0m\u001b[1;39m{\u001b[0m\n",
       "\u001b[39m                \u001b[0m\u001b[32m'from'\u001b[0m\u001b[39m: \u001b[0m\u001b[32m'gpt'\u001b[0m\u001b[39m,\u001b[0m\n",
       "\u001b[39m                \u001b[0m\u001b[32m'value'\u001b[0m\u001b[39m: \u001b[0m\u001b[32m'Device 1: \\ninternals in hca_back\\nbattery in hca_back\\ninternals next to \u001b[0m\n",
       "\u001b[32mbattery\\nbattery next to internals\\n'\u001b[0m\n",
       "\u001b[39m            \u001b[0m\u001b[1;39m}\u001b[0m\n",
       "\u001b[39m        \u001b[0m\u001b[1;39m]\u001b[0m\n",
       "\u001b[39m    \u001b[0m\u001b[1;39m}\u001b[0m\u001b[39m,\u001b[0m\n",
       "\u001b[39m    \u001b[0m\u001b[1;39m{\u001b[0m\n",
       "\u001b[39m        \u001b[0m\u001b[32m'id'\u001b[0m\u001b[39m: \u001b[0m\u001b[1;36m97\u001b[0m\u001b[39m,\u001b[0m\n",
       "\u001b[39m        \u001b[0m\u001b[32m'image'\u001b[0m\u001b[39m: \u001b[0m\u001b[32m'images/00000098.jpg'\u001b[0m\u001b[39m,\u001b[0m\n",
       "\u001b[39m        \u001b[0m\u001b[32m'conversations'\u001b[0m\u001b[39m: \u001b[0m\u001b[1;39m[\u001b[0m\n",
       "\u001b[39m            \u001b[0m\u001b[1;39m{\u001b[0m\u001b[32m'from'\u001b[0m\u001b[39m: \u001b[0m\u001b[32m'human'\u001b[0m\u001b[39m, \u001b[0m\u001b[32m'value'\u001b[0m\u001b[39m: \u001b[0m\u001b[32m'<image>\\nWhat are the objects and relations you see in this image?'\u001b[0m\u001b[1;39m}\u001b[0m\u001b[39m,\u001b[0m\n",
       "\u001b[39m            \u001b[0m\u001b[1;39m{\u001b[0m\n",
       "\u001b[39m                \u001b[0m\u001b[32m'from'\u001b[0m\u001b[39m: \u001b[0m\u001b[32m'gpt'\u001b[0m\u001b[39m,\u001b[0m\n",
       "\u001b[39m                \u001b[0m\u001b[32m'value'\u001b[0m\u001b[39m: \u001b[0m\u001b[32m'Device 1: \\nbattery_covered in firealarm_back\\n\\nDevice 2: \\nfirealarm_front'\u001b[0m\n",
       "\u001b[39m            \u001b[0m\u001b[1;39m}\u001b[0m\n",
       "\u001b[39m        \u001b[0m\u001b[1;39m]\u001b[0m\n",
       "\u001b[39m    \u001b[0m\u001b[1;39m}\u001b[0m\u001b[39m,\u001b[0m\n",
       "\u001b[39m    \u001b[0m\u001b[1;39m{\u001b[0m\n",
       "\u001b[39m        \u001b[0m\u001b[32m'id'\u001b[0m\u001b[39m: \u001b[0m\u001b[1;36m98\u001b[0m\u001b[39m,\u001b[0m\n",
       "\u001b[39m        \u001b[0m\u001b[32m'image'\u001b[0m\u001b[39m: \u001b[0m\u001b[32m'images/00000099.jpg'\u001b[0m\u001b[39m,\u001b[0m\n",
       "\u001b[39m        \u001b[0m\u001b[32m'conversations'\u001b[0m\u001b[39m: \u001b[0m\u001b[1;39m[\u001b[0m\n",
       "\u001b[39m            \u001b[0m\u001b[1;39m{\u001b[0m\u001b[32m'from'\u001b[0m\u001b[39m: \u001b[0m\u001b[32m'human'\u001b[0m\u001b[39m, \u001b[0m\u001b[32m'value'\u001b[0m\u001b[39m: \u001b[0m\u001b[32m'<image>\\nWhat are the objects and relations you see in this image?'\u001b[0m\u001b[1;39m}\u001b[0m\u001b[39m,\u001b[0m\n",
       "\u001b[39m            \u001b[0m\u001b[1;39m{\u001b[0m\n",
       "\u001b[39m                \u001b[0m\u001b[32m'from'\u001b[0m\u001b[39m: \u001b[0m\u001b[32m'gpt'\u001b[0m\u001b[39m,\u001b[0m\n",
       "\u001b[39m                \u001b[0m\u001b[32m'value'\u001b[0m\u001b[39m: \u001b[0m\u001b[32m'Device 1: \\nfirealarm_front next to internals\\ninternals next to firealarm_front\\npcb in \u001b[0m\n",
       "\u001b[32minternals\\nbattery in internals\\nbattery in pcb\\n'\u001b[0m\n",
       "\u001b[39m            \u001b[0m\u001b[1;39m}\u001b[0m\n",
       "\u001b[39m        \u001b[0m\u001b[1;39m]\u001b[0m\n",
       "\u001b[39m    \u001b[0m\u001b[1;39m}\u001b[0m\u001b[39m,\u001b[0m\n",
       "\u001b[39m    \u001b[0m\u001b[1;39m{\u001b[0m\n",
       "\u001b[39m        \u001b[0m\u001b[32m'id'\u001b[0m\u001b[39m: \u001b[0m\u001b[1;36m99\u001b[0m\u001b[39m,\u001b[0m\n",
       "\u001b[39m        \u001b[0m\u001b[32m'image'\u001b[0m\u001b[39m: \u001b[0m\u001b[32m'images/00000100.jpg'\u001b[0m\u001b[39m,\u001b[0m\n",
       "\u001b[39m        \u001b[0m\u001b[32m'conversations'\u001b[0m\u001b[39m: \u001b[0m\u001b[1;39m[\u001b[0m\n",
       "\u001b[39m            \u001b[0m\u001b[1;39m{\u001b[0m\u001b[32m'from'\u001b[0m\u001b[39m: \u001b[0m\u001b[32m'human'\u001b[0m\u001b[39m, \u001b[0m\u001b[32m'value'\u001b[0m\u001b[39m: \u001b[0m\u001b[32m'<image\u001b[0m\u001b[32m>\u001b[0m\u001b[32m\\nWhat are the objects and relations you see in this image?'\u001b[0m\u001b[1m}\u001b[0m,\n",
       "            \u001b[1m{\u001b[0m\n",
       "                \u001b[32m'from'\u001b[0m: \u001b[32m'gpt'\u001b[0m,\n",
       "                \u001b[32m'value'\u001b[0m: \u001b[32m'Device 1: \\nplastic_clip in hca_back\\npcb_covered in hca_back\\nplastic_clip next to \u001b[0m\n",
       "\u001b[32mpcb_covered\\npcb_covered next to plastic_clip\\n'\u001b[0m\n",
       "            \u001b[1m}\u001b[0m\n",
       "        \u001b[1m]\u001b[0m\n",
       "    \u001b[1m}\u001b[0m\n",
       "\u001b[1m]\u001b[0m\n"
      ]
     },
     "metadata": {},
     "output_type": "display_data"
    }
   ],
   "source": [
    "labelme_importer = LabelMeImporter()\n",
    "# load list of images, with ground truths, labelme style\n",
    "# convert ground truths to Detections\n",
    "\n",
    "dataset_dir = Path(os.path.expanduser(\"~/datasets2/reconcycle/2023-05-23_synthetic_dataset/output\"))\n",
    "\n",
    "image_folder = \"images\"\n",
    "labelme_folder = \"labelme\"\n",
    "\n",
    "labelme_dir = dataset_dir / labelme_folder\n",
    "images_dir = dataset_dir / image_folder\n",
    "\n",
    "json_paths = list(labelme_dir.glob('*.json'))\n",
    "json_paths = natsort.os_sorted(json_paths)\n",
    "\n",
    "image_paths = list(images_dir.glob('*.png')) + list(images_dir.glob('*.jpg')) \n",
    "image_paths = natsort.os_sorted(image_paths)\n",
    "\n",
    "llm_output_list = []\n",
    "\n",
    "tqdm_json_paths = tqdm(json_paths)\n",
    "for idx, json_path in enumerate(tqdm_json_paths):\n",
    "    tqdm_json_paths.set_description(f\"{Path(json_path).stem}\")\n",
    "\n",
    "    \n",
    "\n",
    "    json_data = json.load(open(json_path))\n",
    "    filename = json_path.stem\n",
    "\n",
    "    img_matches = [_img_path for _img_path in image_paths if filename == _img_path.stem.split('_')[0] ]\n",
    "\n",
    "    colour_img_path = None\n",
    "    if len(img_matches) > 0:\n",
    "        for img_match in img_matches:\n",
    "            if \"depth\" not in img_match.stem:\n",
    "                colour_img_path = img_match                \n",
    "                break\n",
    "    \n",
    "    print(\"json_path\", json_path)\n",
    "    print(\"colour_img_path\", colour_img_path)\n",
    "\n",
    "    colour_img = cv2.imread(str(colour_img_path))\n",
    "\n",
    "    detections, graph_relations = labelme_importer.labelme_to_detections(json_data, colour_img)\n",
    "\n",
    "    graph_relations_text = graph_relations.to_text()\n",
    "\n",
    "    # print(\"detections\", detections)\n",
    "    print(\"graph relations:\")\n",
    "    print(graph_relations_text)\n",
    "\n",
    "    llm_item = {\n",
    "        \"id\": idx,\n",
    "        \"image\": str(colour_img_path.relative_to(dataset_dir)),\n",
    "        \"conversations\": [\n",
    "            {\n",
    "                \"from\": \"human\",\n",
    "                \"value\": \"<image>\\nWhat are the objects and relations you see in this image?\"\n",
    "            },\n",
    "            {\n",
    "                \"from\": \"gpt\",\n",
    "                \"value\": graph_relations_text\n",
    "            },\n",
    "        ]\n",
    "    }\n",
    "    llm_output_list.append(llm_item)\n",
    "\n",
    "    # if idx > 2:\n",
    "    #     break #! debug\n",
    "\n",
    "\n",
    "# TODO: save to json file\n",
    "print(\"llm_output_list\", llm_output_list)\n",
    "\n",
    "with open(dataset_dir / \"llm_data.json\", \"w\") as fp:\n",
    "    json.dump(llm_output_list , fp, indent=4)\n",
    "\n",
    "# TODO: I think we should use smaller images, with the device taking up most of the image. Because with CLIP the image will be scaled down a lot\n"
   ]
  }
 ],
 "metadata": {
  "kernelspec": {
   "display_name": "Python 3",
   "language": "python",
   "name": "python3"
  },
  "language_info": {
   "codemirror_mode": {
    "name": "ipython",
    "version": 3
   },
   "file_extension": ".py",
   "mimetype": "text/x-python",
   "name": "python",
   "nbconvert_exporter": "python",
   "pygments_lexer": "ipython3",
   "version": "3.8.10"
  }
 },
 "nbformat": 4,
 "nbformat_minor": 2
}
