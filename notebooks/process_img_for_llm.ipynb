{
 "cells": [
  {
   "cell_type": "code",
   "execution_count": 1,
   "metadata": {},
   "outputs": [],
   "source": [
    "%load_ext autoreload\n",
    "%autoreload 2\n",
    "%matplotlib inline\n",
    "\n",
    "import sys\n",
    "import os\n",
    "\n",
    "# print(\"sys.path\", sys.path)\n",
    "\n",
    "import matplotlib\n",
    "import matplotlib.pyplot as plt\n",
    "\n",
    "# import seaborn as sns\n",
    "import json\n",
    "import warnings\n",
    "from pathlib import Path\n",
    "import random\n",
    "import base64\n",
    "from io import BytesIO\n",
    "import cv2\n",
    "# import vision_pipeline.obb\n",
    "# import imagesize\n",
    "# from scipy import ndimage\n",
    "import natsort\n",
    "from PIL import Image as PILImage\n",
    "# from PIL import ImageDraw, ImageFilter\n",
    "import numpy as np\n",
    "from tqdm import tqdm\n",
    "# from shapely.geometry import Polygon\n",
    "# from rich import print\n",
    "# from types import SimpleNamespace\n",
    "import pickle\n",
    "import imutils\n",
    "\n",
    "# ros package\n",
    "from context_action_framework.types import Detection, Label, Module, Camera, detections_to_ros, detections_to_py\n",
    "from sensor_msgs.msg import Image, CameraInfo # CameraInfo needed for pickle\n",
    "\n",
    "from context_action_framework.srv import VisionDetection, VisionDetectionResponse, VisionDetectionRequest, ProcessImg, ProcessImgResponse\n",
    "\n",
    "from context_action_framework.graph_relations import GraphRelations\n",
    "\n",
    "from cv_bridge import CvBridge\n",
    "import rospy\n",
    "\n",
    "\n",
    "rospy.init_node(\"test_node\")\n"
   ]
  },
  {
   "cell_type": "code",
   "execution_count": 2,
   "metadata": {},
   "outputs": [],
   "source": [
    "img_path = os.path.expanduser(\"~/datasets2/reconcycle/2023-08-01_basler_hca_backs/0001.jpg\")\n",
    "# img_path = os.path.expanduser(\"~/datasets2/reconcycle/2023-12-04_hcas_fire_alarms_sorted/firealarm_back_01/00_template_0039.jpg\")\n",
    "# img_path = os.path.expanduser(\"~/datasets2/reconcycle/2023-12-04_hcas_fire_alarms_sorted/firealarm_back_03.1/0182.jpg\")\n",
    "\n",
    "\n",
    "img = cv2.imread(img_path)\n",
    "img = imutils.resize(img, width=1450, height=1450)\n",
    "\n",
    "# display(PILImage.fromarray(cv2.cvtColor(img, cv2.COLOR_BGR2RGB)))"
   ]
  },
  {
   "cell_type": "code",
   "execution_count": 3,
   "metadata": {},
   "outputs": [],
   "source": [
    "def call_process_img(img):\n",
    "    timeout = 3 # 2 second timeout\n",
    "    rospy.wait_for_service('vision/basler/process_img', timeout)\n",
    "\n",
    "    imgmsg = CvBridge().cv2_to_imgmsg(img, encoding=\"bgr8\")\n",
    "    try:\n",
    "        process_img = rospy.ServiceProxy('vision/basler/process_img', ProcessImg)\n",
    "        response = process_img(imgmsg)\n",
    "        detections = detections_to_py(response.detections)\n",
    "        labelled_img = CvBridge().imgmsg_to_cv2(response.labelled_image, desired_encoding='passthrough')\n",
    "        cropped_img = CvBridge().imgmsg_to_cv2(response.cropped_image, desired_encoding='passthrough')\n",
    "        \n",
    "        return response.success, detections, labelled_img, cropped_img\n",
    "        # return response\n",
    "    except rospy.ServiceException as e:\n",
    "        print(\"Service call failed: %s\"%e)\n",
    "\n"
   ]
  },
  {
   "cell_type": "code",
   "execution_count": 5,
   "metadata": {},
   "outputs": [
    {
     "data": {
      "text/html": [
       "<pre style=\"white-space:pre;overflow-x:auto;line-height:normal;font-family:Menlo,'DejaVu Sans Mono',consolas,'Courier New',monospace\"></pre>\n"
      ],
      "text/plain": []
     },
     "metadata": {},
     "output_type": "display_data"
    },
    {
     "ename": "MarkupError",
     "evalue": "closing tag '[/vision/basler/process_img]' at position 29 doesn't match any open tag",
     "output_type": "error",
     "traceback": [
      "\u001b[0;31m---------------------------------------------------------------------------\u001b[0m",
      "\u001b[0;31mMarkupError\u001b[0m                               Traceback (most recent call last)",
      "Cell \u001b[0;32mIn[5], line 1\u001b[0m\n\u001b[0;32m----> 1\u001b[0m success, detections, labelled_img, cropped_img \u001b[38;5;241m=\u001b[39m \u001b[43mcall_process_img\u001b[49m\u001b[43m(\u001b[49m\u001b[43mimg\u001b[49m\u001b[43m)\u001b[49m\n\u001b[1;32m      3\u001b[0m display(PILImage\u001b[38;5;241m.\u001b[39mfromarray(cv2\u001b[38;5;241m.\u001b[39mcvtColor(labelled_img, cv2\u001b[38;5;241m.\u001b[39mCOLOR_BGR2RGB)))\n\u001b[1;32m      4\u001b[0m display(PILImage\u001b[38;5;241m.\u001b[39mfromarray(cv2\u001b[38;5;241m.\u001b[39mcvtColor(cropped_img, cv2\u001b[38;5;241m.\u001b[39mCOLOR_BGR2RGB)))\n",
      "Cell \u001b[0;32mIn[3], line 16\u001b[0m, in \u001b[0;36mcall_process_img\u001b[0;34m(img)\u001b[0m\n\u001b[1;32m     14\u001b[0m     \u001b[38;5;66;03m# return response\u001b[39;00m\n\u001b[1;32m     15\u001b[0m \u001b[38;5;28;01mexcept\u001b[39;00m rospy\u001b[38;5;241m.\u001b[39mServiceException \u001b[38;5;28;01mas\u001b[39;00m e:\n\u001b[0;32m---> 16\u001b[0m     \u001b[38;5;28;43mprint\u001b[39;49m\u001b[43m(\u001b[49m\u001b[38;5;124;43m\"\u001b[39;49m\u001b[38;5;124;43mService call failed: \u001b[39;49m\u001b[38;5;132;43;01m%s\u001b[39;49;00m\u001b[38;5;124;43m\"\u001b[39;49m\u001b[38;5;241;43m%\u001b[39;49m\u001b[43me\u001b[49m\u001b[43m)\u001b[49m\n",
      "File \u001b[0;32m/usr/local/lib/python3.8/dist-packages/rich/__init__.py:74\u001b[0m, in \u001b[0;36mprint\u001b[0;34m(sep, end, file, flush, *objects)\u001b[0m\n\u001b[1;32m     71\u001b[0m \u001b[38;5;28;01mfrom\u001b[39;00m \u001b[38;5;21;01m.\u001b[39;00m\u001b[38;5;21;01mconsole\u001b[39;00m \u001b[38;5;28;01mimport\u001b[39;00m Console\n\u001b[1;32m     73\u001b[0m write_console \u001b[38;5;241m=\u001b[39m get_console() \u001b[38;5;28;01mif\u001b[39;00m file \u001b[38;5;129;01mis\u001b[39;00m \u001b[38;5;28;01mNone\u001b[39;00m \u001b[38;5;28;01melse\u001b[39;00m Console(file\u001b[38;5;241m=\u001b[39mfile)\n\u001b[0;32m---> 74\u001b[0m \u001b[38;5;28;01mreturn\u001b[39;00m \u001b[43mwrite_console\u001b[49m\u001b[38;5;241;43m.\u001b[39;49m\u001b[43mprint\u001b[49m\u001b[43m(\u001b[49m\u001b[38;5;241;43m*\u001b[39;49m\u001b[43mobjects\u001b[49m\u001b[43m,\u001b[49m\u001b[43m \u001b[49m\u001b[43msep\u001b[49m\u001b[38;5;241;43m=\u001b[39;49m\u001b[43msep\u001b[49m\u001b[43m,\u001b[49m\u001b[43m \u001b[49m\u001b[43mend\u001b[49m\u001b[38;5;241;43m=\u001b[39;49m\u001b[43mend\u001b[49m\u001b[43m)\u001b[49m\n",
      "File \u001b[0;32m/usr/local/lib/python3.8/dist-packages/rich/console.py:1674\u001b[0m, in \u001b[0;36mConsole.print\u001b[0;34m(self, sep, end, style, justify, overflow, no_wrap, emoji, markup, highlight, width, height, crop, soft_wrap, new_line_start, *objects)\u001b[0m\n\u001b[1;32m   1672\u001b[0m render_hooks \u001b[38;5;241m=\u001b[39m \u001b[38;5;28mself\u001b[39m\u001b[38;5;241m.\u001b[39m_render_hooks[:]\n\u001b[1;32m   1673\u001b[0m \u001b[38;5;28;01mwith\u001b[39;00m \u001b[38;5;28mself\u001b[39m:\n\u001b[0;32m-> 1674\u001b[0m     renderables \u001b[38;5;241m=\u001b[39m \u001b[38;5;28;43mself\u001b[39;49m\u001b[38;5;241;43m.\u001b[39;49m\u001b[43m_collect_renderables\u001b[49m\u001b[43m(\u001b[49m\n\u001b[1;32m   1675\u001b[0m \u001b[43m        \u001b[49m\u001b[43mobjects\u001b[49m\u001b[43m,\u001b[49m\n\u001b[1;32m   1676\u001b[0m \u001b[43m        \u001b[49m\u001b[43msep\u001b[49m\u001b[43m,\u001b[49m\n\u001b[1;32m   1677\u001b[0m \u001b[43m        \u001b[49m\u001b[43mend\u001b[49m\u001b[43m,\u001b[49m\n\u001b[1;32m   1678\u001b[0m \u001b[43m        \u001b[49m\u001b[43mjustify\u001b[49m\u001b[38;5;241;43m=\u001b[39;49m\u001b[43mjustify\u001b[49m\u001b[43m,\u001b[49m\n\u001b[1;32m   1679\u001b[0m \u001b[43m        \u001b[49m\u001b[43memoji\u001b[49m\u001b[38;5;241;43m=\u001b[39;49m\u001b[43memoji\u001b[49m\u001b[43m,\u001b[49m\n\u001b[1;32m   1680\u001b[0m \u001b[43m        \u001b[49m\u001b[43mmarkup\u001b[49m\u001b[38;5;241;43m=\u001b[39;49m\u001b[43mmarkup\u001b[49m\u001b[43m,\u001b[49m\n\u001b[1;32m   1681\u001b[0m \u001b[43m        \u001b[49m\u001b[43mhighlight\u001b[49m\u001b[38;5;241;43m=\u001b[39;49m\u001b[43mhighlight\u001b[49m\u001b[43m,\u001b[49m\n\u001b[1;32m   1682\u001b[0m \u001b[43m    \u001b[49m\u001b[43m)\u001b[49m\n\u001b[1;32m   1683\u001b[0m     \u001b[38;5;28;01mfor\u001b[39;00m hook \u001b[38;5;129;01min\u001b[39;00m render_hooks:\n\u001b[1;32m   1684\u001b[0m         renderables \u001b[38;5;241m=\u001b[39m hook\u001b[38;5;241m.\u001b[39mprocess_renderables(renderables)\n",
      "File \u001b[0;32m/usr/local/lib/python3.8/dist-packages/rich/console.py:1538\u001b[0m, in \u001b[0;36mConsole._collect_renderables\u001b[0;34m(self, objects, sep, end, justify, emoji, markup, highlight)\u001b[0m\n\u001b[1;32m   1535\u001b[0m renderable \u001b[38;5;241m=\u001b[39m rich_cast(renderable)\n\u001b[1;32m   1536\u001b[0m \u001b[38;5;28;01mif\u001b[39;00m \u001b[38;5;28misinstance\u001b[39m(renderable, \u001b[38;5;28mstr\u001b[39m):\n\u001b[1;32m   1537\u001b[0m     append_text(\n\u001b[0;32m-> 1538\u001b[0m         \u001b[38;5;28;43mself\u001b[39;49m\u001b[38;5;241;43m.\u001b[39;49m\u001b[43mrender_str\u001b[49m\u001b[43m(\u001b[49m\n\u001b[1;32m   1539\u001b[0m \u001b[43m            \u001b[49m\u001b[43mrenderable\u001b[49m\u001b[43m,\u001b[49m\u001b[43m \u001b[49m\u001b[43memoji\u001b[49m\u001b[38;5;241;43m=\u001b[39;49m\u001b[43memoji\u001b[49m\u001b[43m,\u001b[49m\u001b[43m \u001b[49m\u001b[43mmarkup\u001b[49m\u001b[38;5;241;43m=\u001b[39;49m\u001b[43mmarkup\u001b[49m\u001b[43m,\u001b[49m\u001b[43m \u001b[49m\u001b[43mhighlighter\u001b[49m\u001b[38;5;241;43m=\u001b[39;49m\u001b[43m_highlighter\u001b[49m\n\u001b[1;32m   1540\u001b[0m \u001b[43m        \u001b[49m\u001b[43m)\u001b[49m\n\u001b[1;32m   1541\u001b[0m     )\n\u001b[1;32m   1542\u001b[0m \u001b[38;5;28;01melif\u001b[39;00m \u001b[38;5;28misinstance\u001b[39m(renderable, Text):\n\u001b[1;32m   1543\u001b[0m     append_text(renderable)\n",
      "File \u001b[0;32m/usr/local/lib/python3.8/dist-packages/rich/console.py:1430\u001b[0m, in \u001b[0;36mConsole.render_str\u001b[0;34m(self, text, style, justify, overflow, emoji, markup, highlight, highlighter)\u001b[0m\n\u001b[1;32m   1427\u001b[0m highlight_enabled \u001b[38;5;241m=\u001b[39m highlight \u001b[38;5;129;01mor\u001b[39;00m (highlight \u001b[38;5;129;01mis\u001b[39;00m \u001b[38;5;28;01mNone\u001b[39;00m \u001b[38;5;129;01mand\u001b[39;00m \u001b[38;5;28mself\u001b[39m\u001b[38;5;241m.\u001b[39m_highlight)\n\u001b[1;32m   1429\u001b[0m \u001b[38;5;28;01mif\u001b[39;00m markup_enabled:\n\u001b[0;32m-> 1430\u001b[0m     rich_text \u001b[38;5;241m=\u001b[39m \u001b[43mrender_markup\u001b[49m\u001b[43m(\u001b[49m\n\u001b[1;32m   1431\u001b[0m \u001b[43m        \u001b[49m\u001b[43mtext\u001b[49m\u001b[43m,\u001b[49m\n\u001b[1;32m   1432\u001b[0m \u001b[43m        \u001b[49m\u001b[43mstyle\u001b[49m\u001b[38;5;241;43m=\u001b[39;49m\u001b[43mstyle\u001b[49m\u001b[43m,\u001b[49m\n\u001b[1;32m   1433\u001b[0m \u001b[43m        \u001b[49m\u001b[43memoji\u001b[49m\u001b[38;5;241;43m=\u001b[39;49m\u001b[43memoji_enabled\u001b[49m\u001b[43m,\u001b[49m\n\u001b[1;32m   1434\u001b[0m \u001b[43m        \u001b[49m\u001b[43memoji_variant\u001b[49m\u001b[38;5;241;43m=\u001b[39;49m\u001b[38;5;28;43mself\u001b[39;49m\u001b[38;5;241;43m.\u001b[39;49m\u001b[43m_emoji_variant\u001b[49m\u001b[43m,\u001b[49m\n\u001b[1;32m   1435\u001b[0m \u001b[43m    \u001b[49m\u001b[43m)\u001b[49m\n\u001b[1;32m   1436\u001b[0m     rich_text\u001b[38;5;241m.\u001b[39mjustify \u001b[38;5;241m=\u001b[39m justify\n\u001b[1;32m   1437\u001b[0m     rich_text\u001b[38;5;241m.\u001b[39moverflow \u001b[38;5;241m=\u001b[39m overflow\n",
      "File \u001b[0;32m/usr/local/lib/python3.8/dist-packages/rich/markup.py:167\u001b[0m, in \u001b[0;36mrender\u001b[0;34m(markup, style, emoji, emoji_variant)\u001b[0m\n\u001b[1;32m    165\u001b[0m         start, open_tag \u001b[38;5;241m=\u001b[39m pop_style(style_name)\n\u001b[1;32m    166\u001b[0m     \u001b[38;5;28;01mexcept\u001b[39;00m \u001b[38;5;167;01mKeyError\u001b[39;00m:\n\u001b[0;32m--> 167\u001b[0m         \u001b[38;5;28;01mraise\u001b[39;00m MarkupError(\n\u001b[1;32m    168\u001b[0m             \u001b[38;5;124mf\u001b[39m\u001b[38;5;124m\"\u001b[39m\u001b[38;5;124mclosing tag \u001b[39m\u001b[38;5;124m'\u001b[39m\u001b[38;5;132;01m{\u001b[39;00mtag\u001b[38;5;241m.\u001b[39mmarkup\u001b[38;5;132;01m}\u001b[39;00m\u001b[38;5;124m'\u001b[39m\u001b[38;5;124m at position \u001b[39m\u001b[38;5;132;01m{\u001b[39;00mposition\u001b[38;5;132;01m}\u001b[39;00m\u001b[38;5;124m doesn\u001b[39m\u001b[38;5;124m'\u001b[39m\u001b[38;5;124mt match any open tag\u001b[39m\u001b[38;5;124m\"\u001b[39m\n\u001b[1;32m    169\u001b[0m         ) \u001b[38;5;28;01mfrom\u001b[39;00m \u001b[38;5;28;01mNone\u001b[39;00m\n\u001b[1;32m    170\u001b[0m \u001b[38;5;28;01melse\u001b[39;00m:  \u001b[38;5;66;03m# implicit close\u001b[39;00m\n\u001b[1;32m    171\u001b[0m     \u001b[38;5;28;01mtry\u001b[39;00m:\n",
      "\u001b[0;31mMarkupError\u001b[0m: closing tag '[/vision/basler/process_img]' at position 29 doesn't match any open tag"
     ]
    }
   ],
   "source": [
    "success, detections, labelled_img, cropped_img = call_process_img(img)\n",
    "\n",
    "display(PILImage.fromarray(cv2.cvtColor(labelled_img, cv2.COLOR_BGR2RGB)))\n",
    "display(PILImage.fromarray(cv2.cvtColor(cropped_img, cv2.COLOR_BGR2RGB)))\n",
    "\n",
    "print(\"detections\", detections)"
   ]
  },
  {
   "cell_type": "code",
   "execution_count": null,
   "metadata": {},
   "outputs": [
    {
     "data": {
      "text/html": [
       "<pre style=\"white-space:pre;overflow-x:auto;line-height:normal;font-family:Menlo,'DejaVu Sans Mono',consolas,'Courier New',monospace\">A_relations Device <span style=\"color: #008080; text-decoration-color: #008080; font-weight: bold\">1</span>: internals in hca_back, battery in hca_back, battery next to internals. \n",
       "</pre>\n"
      ],
      "text/plain": [
       "A_relations Device \u001b[1;36m1\u001b[0m: internals in hca_back, battery in hca_back, battery next to internals. \n"
      ]
     },
     "metadata": {},
     "output_type": "display_data"
    },
    {
     "data": {
      "text/html": [
       "<pre style=\"white-space:pre;overflow-x:auto;line-height:normal;font-family:Menlo,'DejaVu Sans Mono',consolas,'Courier New',monospace\">A_positions hca_back at <span style=\"font-weight: bold\">(</span><span style=\"color: #008080; text-decoration-color: #008080; font-weight: bold\">982.0</span>, <span style=\"color: #008080; text-decoration-color: #008080; font-weight: bold\">1158.0</span><span style=\"font-weight: bold\">)</span>, internals at <span style=\"font-weight: bold\">(</span><span style=\"color: #008080; text-decoration-color: #008080; font-weight: bold\">985.0</span>, <span style=\"color: #008080; text-decoration-color: #008080; font-weight: bold\">1162.0</span><span style=\"font-weight: bold\">)</span>, battery at <span style=\"font-weight: bold\">(</span><span style=\"color: #008080; text-decoration-color: #008080; font-weight: bold\">1060.0</span>, <span style=\"color: #008080; text-decoration-color: #008080; font-weight: bold\">1203.0</span><span style=\"font-weight: bold\">)</span>. \n",
       "</pre>\n"
      ],
      "text/plain": [
       "A_positions hca_back at \u001b[1m(\u001b[0m\u001b[1;36m982.0\u001b[0m, \u001b[1;36m1158.0\u001b[0m\u001b[1m)\u001b[0m, internals at \u001b[1m(\u001b[0m\u001b[1;36m985.0\u001b[0m, \u001b[1;36m1162.0\u001b[0m\u001b[1m)\u001b[0m, battery at \u001b[1m(\u001b[0m\u001b[1;36m1060.0\u001b[0m, \u001b[1;36m1203.0\u001b[0m\u001b[1m)\u001b[0m. \n"
      ]
     },
     "metadata": {},
     "output_type": "display_data"
    },
    {
     "data": {
      "text/html": [
       "<pre style=\"white-space:pre;overflow-x:auto;line-height:normal;font-family:Menlo,'DejaVu Sans Mono',consolas,'Courier New',monospace\">label_precise hca_back_03\n",
       "</pre>\n"
      ],
      "text/plain": [
       "label_precise hca_back_03\n"
      ]
     },
     "metadata": {},
     "output_type": "display_data"
    }
   ],
   "source": [
    "\n",
    "# given img, return:\n",
    "# - positions of objects (incl. gap)\n",
    "# - relations of objects\n",
    "# - precise obj recognition\n",
    "\n",
    "\n",
    "success, detections, labelled_img, cropped_img = call_process_img(img)\n",
    "\n",
    "\n",
    "graph_relations = GraphRelations(detections)\n",
    "\n",
    "A_relations = graph_relations.to_text()\n",
    "\n",
    "\n",
    "label_precise = None\n",
    "positions_list = []\n",
    "for detection in detections:\n",
    "    if detection.label_precise != \"\":\n",
    "        label_precise = detection.label_precise\n",
    "    positions_list.append(f\"{detection.label.name} at ({detection.center_px[0]}, {detection.center_px[1]})\")\n",
    "\n",
    "A_positions = \", \".join(positions_list) + \". \"\n",
    "\n",
    "print(\"A_relations\", A_relations)\n",
    "print(\"A_positions\", A_positions)\n",
    "print(\"label_precise\", label_precise)\n",
    "\n"
   ]
  },
  {
   "cell_type": "code",
   "execution_count": null,
   "metadata": {},
   "outputs": [],
   "source": [
    "\n",
    "\n",
    "# def call_get_detection():\n",
    "#     timeout = 3 # 2 second timeout\n",
    "#     service_path = 'vision/basler/get_detection'\n",
    "#     rospy.wait_for_service(service_path, timeout)\n",
    "\n",
    "#     # imgmsg = CvBridge().cv2_to_imgmsg(img, encoding=\"bgr8\")\n",
    "#     try:\n",
    "#         get_detection = rospy.ServiceProxy(service_path, VisionDetection)\n",
    "#         response = get_detection(camera=Camera.basler.value, gap_detection=False)\n",
    "#         return response\n",
    "#     except rospy.ServiceException as e:\n",
    "#         print(\"Service call failed: %s\"%e)\n",
    "\n",
    "# response = call_get_detection()\n",
    "# print(\"response\", response)"
   ]
  }
 ],
 "metadata": {
  "kernelspec": {
   "display_name": "Python 3",
   "language": "python",
   "name": "python3"
  },
  "language_info": {
   "codemirror_mode": {
    "name": "ipython",
    "version": 3
   },
   "file_extension": ".py",
   "mimetype": "text/x-python",
   "name": "python",
   "nbconvert_exporter": "python",
   "pygments_lexer": "ipython3",
   "version": "3.8.10"
  }
 },
 "nbformat": 4,
 "nbformat_minor": 2
}
