{
 "cells": [
  {
   "cell_type": "code",
   "execution_count": 8,
   "metadata": {},
   "outputs": [
    {
     "name": "stdout",
     "output_type": "stream",
     "text": [
      "The autoreload extension is already loaded. To reload it, use:\n",
      "  %reload_ext autoreload\n"
     ]
    }
   ],
   "source": [
    "%load_ext autoreload\n",
    "%autoreload 2\n",
    "\n",
    "import os\n",
    "os.environ[\"CUDA_DEVICE_ORDER\"]=\"PCI_BUS_ID\"   # see issue #152\n",
    "os.environ[\"CUDA_VISIBLE_DEVICES\"]=\"3\" #! specify gpu here\n",
    "import sys\n",
    "import numpy as np\n",
    "import cv2\n",
    "import time\n",
    "import torch\n",
    "import clip\n",
    "from PIL import Image\n",
    "from rich import print\n",
    "from tqdm import tqdm\n",
    "from pathlib import Path\n",
    "import csv\n",
    "import json\n",
    "import click\n",
    "\n",
    "\n",
    "# for jsonpickle\n",
    "from context_action_framework.types import Detection, Label, LabelFace, Camera\n",
    "from geometry_msgs.msg import Transform, Vector3, Quaternion, Pose, PoseArray, TransformStamped\n",
    "\n",
    "import jsonpickle\n",
    "import pickle\n",
    "\n",
    "from context_action_framework.types import detections_to_ros, detections_to_py\n",
    "from vision_pipeline.llm_data_generator.labelme_importer import LabelMeImporter\n"
   ]
  },
  {
   "cell_type": "code",
   "execution_count": 9,
   "metadata": {},
   "outputs": [],
   "source": [
    "qa_relations = {\n",
    "    \"Q\": \"What are the object relations?\",\n",
    "    \"A\": \"\" # \"PCB inside HCA, ...\"\n",
    "}\n",
    "qa_positions = {\n",
    "    \"Q\": \"What are the object positions?\",\n",
    "    \"A\": \"\" # \"HCA at (302, 300), PCB at (...), ...\"\n",
    "}\n",
    "qa_disassembly_step = {\n",
    "    \"Q\": \"Caption the image and suggest the next disassembly step?\",\n",
    "    \"A\": \"\" #  \"Turn the device over to show the back.\"\n",
    "}\n",
    "qa_json_disassembly_step = {\n",
    "    \"Q\": \"What is the JSON formatted disassembly step?\",\n",
    "    \"A\": {\n",
    "        \"reasoning\": \"\",\n",
    "        \"action\": \"\",\n",
    "        \"action_input\": \"\"\n",
    "    }\n",
    "}\n",
    "\n",
    "qas = [qa_relations, qa_positions, qa_disassembly_step, qa_json_disassembly_step]"
   ]
  },
  {
   "cell_type": "code",
   "execution_count": 10,
   "metadata": {},
   "outputs": [
    {
     "data": {
      "text/html": [
       "<pre style=\"white-space:pre;overflow-x:auto;line-height:normal;font-family:Menlo,'DejaVu Sans Mono',consolas,'Courier New',monospace\">kg_nodes_path <span style=\"color: #800080; text-decoration-color: #800080\">/home/docker/datasets2/reconcycle/knowledge_graph/data/</span><span style=\"color: #ff00ff; text-decoration-color: #ff00ff\">nodes</span>\n",
       "</pre>\n"
      ],
      "text/plain": [
       "kg_nodes_path \u001b[35m/home/docker/datasets2/reconcycle/knowledge_graph/data/\u001b[0m\u001b[95mnodes\u001b[0m\n"
      ]
     },
     "metadata": {},
     "output_type": "display_data"
    }
   ],
   "source": [
    "kg_path = Path(\"~/datasets2/reconcycle/knowledge_graph\").expanduser()\n",
    "kg_nodes_path = kg_path / \"data\" / \"nodes\"\n",
    "kg_edges_path = kg_path / \"data\" / \"graph_edges.csv\"\n",
    "\n",
    "print(\"kg_nodes_path\", kg_nodes_path)\n"
   ]
  },
  {
   "cell_type": "code",
   "execution_count": 11,
   "metadata": {},
   "outputs": [
    {
     "data": {
      "text/html": [
       "<pre style=\"white-space:pre;overflow-x:auto;line-height:normal;font-family:Menlo,'DejaVu Sans Mono',consolas,'Courier New',monospace\"><span style=\"font-weight: bold\">[</span><span style=\"color: #008000; text-decoration-color: #008000\">'kalo'</span>, <span style=\"color: #008000; text-decoration-color: #008000\">'qundis'</span><span style=\"font-weight: bold\">]</span>\n",
       "</pre>\n"
      ],
      "text/plain": [
       "\u001b[1m[\u001b[0m\u001b[32m'kalo'\u001b[0m, \u001b[32m'qundis'\u001b[0m\u001b[1m]\u001b[0m\n"
      ]
     },
     "metadata": {},
     "output_type": "display_data"
    }
   ],
   "source": [
    "hcas = []\n",
    "with open(kg_edges_path, 'r') as f:\n",
    "    reader = csv.reader(f)\n",
    "    for row in reader:\n",
    "        if len(row) >= 2 and row[1] == 'hca':\n",
    "            hcas.append(row[0])\n",
    "\n",
    "print(hcas)"
   ]
  },
  {
   "cell_type": "code",
   "execution_count": 12,
   "metadata": {},
   "outputs": [
    {
     "data": {
      "text/html": [
       "<pre style=\"white-space:pre;overflow-x:auto;line-height:normal;font-family:Menlo,'DejaVu Sans Mono',consolas,'Courier New',monospace\">config:\n",
       "<span style=\"font-weight: bold\">{</span>\n",
       "    <span style=\"color: #008000; text-decoration-color: #008000\">'node_name'</span>: <span style=\"color: #008000; text-decoration-color: #008000\">'vision'</span>,\n",
       "    <span style=\"color: #008000; text-decoration-color: #008000\">'reid'</span>: <span style=\"color: #ff0000; text-decoration-color: #ff0000; font-style: italic\">False</span>,\n",
       "    <span style=\"color: #008000; text-decoration-color: #008000\">'basler'</span>: <span style=\"font-weight: bold\">{</span>\n",
       "        <span style=\"color: #008000; text-decoration-color: #008000\">'target_fps'</span>: <span style=\"color: #008080; text-decoration-color: #008080; font-weight: bold\">2</span>,\n",
       "        <span style=\"color: #008000; text-decoration-color: #008000\">'max_allowed_acquisition_delay'</span>: <span style=\"color: #008080; text-decoration-color: #008080; font-weight: bold\">1.0</span>,\n",
       "        <span style=\"color: #008000; text-decoration-color: #008000\">'rotate_img'</span>: <span style=\"color: #008080; text-decoration-color: #008080; font-weight: bold\">180</span>,\n",
       "        <span style=\"color: #008000; text-decoration-color: #008000\">'topic'</span>: <span style=\"color: #008000; text-decoration-color: #008000\">'basler'</span>,\n",
       "        <span style=\"color: #008000; text-decoration-color: #008000\">'camera_node'</span>: <span style=\"color: #008000; text-decoration-color: #008000\">'/basler'</span>,\n",
       "        <span style=\"color: #008000; text-decoration-color: #008000\">'image_topic'</span>: <span style=\"color: #008000; text-decoration-color: #008000\">'image_rect_color'</span>,\n",
       "        <span style=\"color: #008000; text-decoration-color: #008000\">'sleep_camera_on_exit'</span>: <span style=\"color: #ff0000; text-decoration-color: #ff0000; font-style: italic\">False</span>,\n",
       "        <span style=\"color: #008000; text-decoration-color: #008000\">'publish_labelled_img'</span>: <span style=\"color: #00ff00; text-decoration-color: #00ff00; font-style: italic\">True</span>,\n",
       "        <span style=\"color: #008000; text-decoration-color: #008000\">'publish_graph_img'</span>: <span style=\"color: #00ff00; text-decoration-color: #00ff00; font-style: italic\">True</span>,\n",
       "        <span style=\"color: #008000; text-decoration-color: #008000\">'has_depth'</span>: <span style=\"color: #ff0000; text-decoration-color: #ff0000; font-style: italic\">False</span>,\n",
       "        <span style=\"color: #008000; text-decoration-color: #008000\">'run_continuous'</span>: <span style=\"color: #00ff00; text-decoration-color: #00ff00; font-style: italic\">True</span>,\n",
       "        <span style=\"color: #008000; text-decoration-color: #008000\">'wait_for_services'</span>: <span style=\"color: #ff0000; text-decoration-color: #ff0000; font-style: italic\">False</span>,\n",
       "        <span style=\"color: #008000; text-decoration-color: #008000\">'detect_arucos'</span>: <span style=\"color: #ff0000; text-decoration-color: #ff0000; font-style: italic\">False</span>,\n",
       "        <span style=\"color: #008000; text-decoration-color: #008000\">'table_name'</span>: <span style=\"color: #008000; text-decoration-color: #008000\">'table_vision'</span>,\n",
       "        <span style=\"color: #008000; text-decoration-color: #008000\">'parent_frame'</span>: <span style=\"color: #008000; text-decoration-color: #008000\">'vision_table_zero'</span>,\n",
       "        <span style=\"color: #008000; text-decoration-color: #008000\">'create_parent_frame'</span>: <span style=\"color: #00ff00; text-decoration-color: #00ff00; font-style: italic\">True</span>,\n",
       "        <span style=\"color: #008000; text-decoration-color: #008000\">'marker_lifetime'</span>: <span style=\"color: #008080; text-decoration-color: #008080; font-weight: bold\">1</span>,\n",
       "        <span style=\"color: #008000; text-decoration-color: #008000\">'work_surface_ignore_border_width'</span>: <span style=\"color: #008080; text-decoration-color: #008080; font-weight: bold\">50</span>,\n",
       "        <span style=\"color: #008000; text-decoration-color: #008000\">'show_work_surface_detection'</span>: <span style=\"color: #00ff00; text-decoration-color: #00ff00; font-style: italic\">True</span>,\n",
       "        <span style=\"color: #008000; text-decoration-color: #008000\">'use_worksurface_detection'</span>: <span style=\"color: #00ff00; text-decoration-color: #00ff00; font-style: italic\">True</span>,\n",
       "        <span style=\"color: #008000; text-decoration-color: #008000\">'debug_work_surface_detection'</span>: <span style=\"color: #ff0000; text-decoration-color: #ff0000; font-style: italic\">False</span>\n",
       "    <span style=\"font-weight: bold\">}</span>,\n",
       "    <span style=\"color: #008000; text-decoration-color: #008000\">'realsense'</span>: <span style=\"font-weight: bold\">{</span>\n",
       "        <span style=\"color: #008000; text-decoration-color: #008000\">'target_fps'</span>: <span style=\"color: #008080; text-decoration-color: #008080; font-weight: bold\">2</span>,\n",
       "        <span style=\"color: #008000; text-decoration-color: #008000\">'max_allowed_acquisition_delay'</span>: <span style=\"color: #008080; text-decoration-color: #008080; font-weight: bold\">1.0</span>,\n",
       "        <span style=\"color: #008000; text-decoration-color: #008000\">'rotate_img'</span>: <span style=\"color: #008080; text-decoration-color: #008080; font-weight: bold\">0</span>,\n",
       "        <span style=\"color: #008000; text-decoration-color: #008000\">'topic'</span>: <span style=\"color: #008000; text-decoration-color: #008000\">'realsense'</span>,\n",
       "        <span style=\"color: #008000; text-decoration-color: #008000\">'camera_node'</span>: <span style=\"color: #008000; text-decoration-color: #008000\">'/realsense'</span>,\n",
       "        <span style=\"color: #008000; text-decoration-color: #008000\">'image_topic'</span>: <span style=\"color: #008000; text-decoration-color: #008000\">'color/image_raw'</span>,\n",
       "        <span style=\"color: #008000; text-decoration-color: #008000\">'info_topic'</span>: <span style=\"color: #008000; text-decoration-color: #008000\">'color/camera_info'</span>,\n",
       "        <span style=\"color: #008000; text-decoration-color: #008000\">'depth_topic'</span>: <span style=\"color: #008000; text-decoration-color: #008000\">'aligned_depth_to_color/image_raw'</span>,\n",
       "        <span style=\"color: #008000; text-decoration-color: #008000\">'sleep_camera_on_exit'</span>: <span style=\"color: #ff0000; text-decoration-color: #ff0000; font-style: italic\">False</span>,\n",
       "        <span style=\"color: #008000; text-decoration-color: #008000\">'publish_labelled_img'</span>: <span style=\"color: #00ff00; text-decoration-color: #00ff00; font-style: italic\">True</span>,\n",
       "        <span style=\"color: #008000; text-decoration-color: #008000\">'publish_depth_img'</span>: <span style=\"color: #00ff00; text-decoration-color: #00ff00; font-style: italic\">True</span>,\n",
       "        <span style=\"color: #008000; text-decoration-color: #008000\">'publish_cluster_img'</span>: <span style=\"color: #00ff00; text-decoration-color: #00ff00; font-style: italic\">True</span>,\n",
       "        <span style=\"color: #008000; text-decoration-color: #008000\">'publish_graph_img'</span>: <span style=\"color: #ff0000; text-decoration-color: #ff0000; font-style: italic\">False</span>,\n",
       "        <span style=\"color: #008000; text-decoration-color: #008000\">'has_depth'</span>: <span style=\"color: #00ff00; text-decoration-color: #00ff00; font-style: italic\">True</span>,\n",
       "        <span style=\"color: #008000; text-decoration-color: #008000\">'compute_gaps'</span>: <span style=\"color: #ff0000; text-decoration-color: #ff0000; font-style: italic\">False</span>,\n",
       "        <span style=\"color: #008000; text-decoration-color: #008000\">'run_continuous'</span>: <span style=\"color: #00ff00; text-decoration-color: #00ff00; font-style: italic\">True</span>,\n",
       "        <span style=\"color: #008000; text-decoration-color: #008000\">'wait_for_services'</span>: <span style=\"color: #ff0000; text-decoration-color: #ff0000; font-style: italic\">False</span>,\n",
       "        <span style=\"color: #008000; text-decoration-color: #008000\">'detect_arucos'</span>: <span style=\"color: #ff0000; text-decoration-color: #ff0000; font-style: italic\">False</span>,\n",
       "        <span style=\"color: #008000; text-decoration-color: #008000\">'camera_height'</span>: <span style=\"color: #008080; text-decoration-color: #008080; font-weight: bold\">0.2</span>,\n",
       "        <span style=\"color: #008000; text-decoration-color: #008000\">'parent_frame'</span>: <span style=\"color: #008000; text-decoration-color: #008000\">'panda_2/realsense'</span>,\n",
       "        <span style=\"color: #008000; text-decoration-color: #008000\">'create_parent_frame'</span>: <span style=\"color: #00ff00; text-decoration-color: #00ff00; font-style: italic\">True</span>,\n",
       "        <span style=\"color: #008000; text-decoration-color: #008000\">'marker_lifetime'</span>: <span style=\"color: #008080; text-decoration-color: #008080; font-weight: bold\">1</span>,\n",
       "        <span style=\"color: #008000; text-decoration-color: #008000\">'calibration_file'</span>: <span style=\"color: #008000; text-decoration-color: #008000\">'~/vision_pipeline/realsense_calib/realsense_calib.yaml'</span>,\n",
       "        <span style=\"color: #008000; text-decoration-color: #008000\">'debug_clustering'</span>: <span style=\"color: #ff0000; text-decoration-color: #ff0000; font-style: italic\">False</span>\n",
       "    <span style=\"font-weight: bold\">}</span>,\n",
       "    <span style=\"color: #008000; text-decoration-color: #008000\">'obj_detection'</span>: <span style=\"font-weight: bold\">{</span>\n",
       "        <span style=\"color: #008000; text-decoration-color: #008000\">'debug'</span>: <span style=\"color: #00ff00; text-decoration-color: #00ff00; font-style: italic\">True</span>,\n",
       "        <span style=\"color: #008000; text-decoration-color: #008000\">'model'</span>: <span style=\"color: #008000; text-decoration-color: #008000\">'yolov8'</span>,\n",
       "        <span style=\"color: #008000; text-decoration-color: #008000\">'yolact_dataset_file'</span>: <span style=\"color: #008000; text-decoration-color: #008000\">'~/vision_pipeline/data_limited/yolact/2023-07-18_firealarms_hcas/dataset.json'</span>,\n",
       "        <span style=\"color: #008000; text-decoration-color: #008000\">'yolact_score_threshold'</span>: <span style=\"color: #008080; text-decoration-color: #008080; font-weight: bold\">0.5</span>,\n",
       "        <span style=\"color: #008000; text-decoration-color: #008000\">'yolov8_model_file'</span>: <span style=\"color: #008000; text-decoration-color: #008000\">'~/vision_pipeline/data_limited/yolov8/output_2023-08-25_20000/best.pt'</span>,\n",
       "        <span style=\"color: #008000; text-decoration-color: #008000\">'yolov8_score_threshold'</span>: <span style=\"color: #008080; text-decoration-color: #008080; font-weight: bold\">0.5</span>,\n",
       "        <span style=\"color: #008000; text-decoration-color: #008000\">'superglue_templates'</span>: <span style=\"color: #008000; text-decoration-color: #008000\">'~/datasets2/reconcycle/2023-12-04_hcas_fire_alarms_sorted_cropped'</span>,\n",
       "        <span style=\"color: #008000; text-decoration-color: #008000\">'superglue_model_file'</span>: <span style=\"color: #008000; text-decoration-color: #008000\">'~/superglue_training/output/train/2023-11-18_superglue_model/weights/best.pt'</span>,\n",
       "        <span style=\"color: #008000; text-decoration-color: #008000\">'superglue_match_threshold'</span>: <span style=\"color: #008080; text-decoration-color: #008080; font-weight: bold\">0.5</span>,\n",
       "        <span style=\"color: #008000; text-decoration-color: #008000\">'rotation_median_filter'</span>: <span style=\"color: #00ff00; text-decoration-color: #00ff00; font-style: italic\">True</span>,\n",
       "        <span style=\"color: #008000; text-decoration-color: #008000\">'classifier_model_file'</span>: \n",
       "<span style=\"color: #008000; text-decoration-color: #008000\">'~/device_reid/results/2024-03-21__15-58_classify_WORKING/lightning_logs/version_0/checkpoints/epoch=212-step=212.c</span>\n",
       "<span style=\"color: #008000; text-decoration-color: #008000\">kpt'</span>,\n",
       "        <span style=\"color: #008000; text-decoration-color: #008000\">'classifier_threshold'</span>: <span style=\"color: #008080; text-decoration-color: #008080; font-weight: bold\">0.2</span>\n",
       "    <span style=\"font-weight: bold\">}</span>\n",
       "<span style=\"font-weight: bold\">}</span>\n",
       "</pre>\n"
      ],
      "text/plain": [
       "config:\n",
       "\u001b[1m{\u001b[0m\n",
       "    \u001b[32m'node_name'\u001b[0m: \u001b[32m'vision'\u001b[0m,\n",
       "    \u001b[32m'reid'\u001b[0m: \u001b[3;91mFalse\u001b[0m,\n",
       "    \u001b[32m'basler'\u001b[0m: \u001b[1m{\u001b[0m\n",
       "        \u001b[32m'target_fps'\u001b[0m: \u001b[1;36m2\u001b[0m,\n",
       "        \u001b[32m'max_allowed_acquisition_delay'\u001b[0m: \u001b[1;36m1.0\u001b[0m,\n",
       "        \u001b[32m'rotate_img'\u001b[0m: \u001b[1;36m180\u001b[0m,\n",
       "        \u001b[32m'topic'\u001b[0m: \u001b[32m'basler'\u001b[0m,\n",
       "        \u001b[32m'camera_node'\u001b[0m: \u001b[32m'/basler'\u001b[0m,\n",
       "        \u001b[32m'image_topic'\u001b[0m: \u001b[32m'image_rect_color'\u001b[0m,\n",
       "        \u001b[32m'sleep_camera_on_exit'\u001b[0m: \u001b[3;91mFalse\u001b[0m,\n",
       "        \u001b[32m'publish_labelled_img'\u001b[0m: \u001b[3;92mTrue\u001b[0m,\n",
       "        \u001b[32m'publish_graph_img'\u001b[0m: \u001b[3;92mTrue\u001b[0m,\n",
       "        \u001b[32m'has_depth'\u001b[0m: \u001b[3;91mFalse\u001b[0m,\n",
       "        \u001b[32m'run_continuous'\u001b[0m: \u001b[3;92mTrue\u001b[0m,\n",
       "        \u001b[32m'wait_for_services'\u001b[0m: \u001b[3;91mFalse\u001b[0m,\n",
       "        \u001b[32m'detect_arucos'\u001b[0m: \u001b[3;91mFalse\u001b[0m,\n",
       "        \u001b[32m'table_name'\u001b[0m: \u001b[32m'table_vision'\u001b[0m,\n",
       "        \u001b[32m'parent_frame'\u001b[0m: \u001b[32m'vision_table_zero'\u001b[0m,\n",
       "        \u001b[32m'create_parent_frame'\u001b[0m: \u001b[3;92mTrue\u001b[0m,\n",
       "        \u001b[32m'marker_lifetime'\u001b[0m: \u001b[1;36m1\u001b[0m,\n",
       "        \u001b[32m'work_surface_ignore_border_width'\u001b[0m: \u001b[1;36m50\u001b[0m,\n",
       "        \u001b[32m'show_work_surface_detection'\u001b[0m: \u001b[3;92mTrue\u001b[0m,\n",
       "        \u001b[32m'use_worksurface_detection'\u001b[0m: \u001b[3;92mTrue\u001b[0m,\n",
       "        \u001b[32m'debug_work_surface_detection'\u001b[0m: \u001b[3;91mFalse\u001b[0m\n",
       "    \u001b[1m}\u001b[0m,\n",
       "    \u001b[32m'realsense'\u001b[0m: \u001b[1m{\u001b[0m\n",
       "        \u001b[32m'target_fps'\u001b[0m: \u001b[1;36m2\u001b[0m,\n",
       "        \u001b[32m'max_allowed_acquisition_delay'\u001b[0m: \u001b[1;36m1.0\u001b[0m,\n",
       "        \u001b[32m'rotate_img'\u001b[0m: \u001b[1;36m0\u001b[0m,\n",
       "        \u001b[32m'topic'\u001b[0m: \u001b[32m'realsense'\u001b[0m,\n",
       "        \u001b[32m'camera_node'\u001b[0m: \u001b[32m'/realsense'\u001b[0m,\n",
       "        \u001b[32m'image_topic'\u001b[0m: \u001b[32m'color/image_raw'\u001b[0m,\n",
       "        \u001b[32m'info_topic'\u001b[0m: \u001b[32m'color/camera_info'\u001b[0m,\n",
       "        \u001b[32m'depth_topic'\u001b[0m: \u001b[32m'aligned_depth_to_color/image_raw'\u001b[0m,\n",
       "        \u001b[32m'sleep_camera_on_exit'\u001b[0m: \u001b[3;91mFalse\u001b[0m,\n",
       "        \u001b[32m'publish_labelled_img'\u001b[0m: \u001b[3;92mTrue\u001b[0m,\n",
       "        \u001b[32m'publish_depth_img'\u001b[0m: \u001b[3;92mTrue\u001b[0m,\n",
       "        \u001b[32m'publish_cluster_img'\u001b[0m: \u001b[3;92mTrue\u001b[0m,\n",
       "        \u001b[32m'publish_graph_img'\u001b[0m: \u001b[3;91mFalse\u001b[0m,\n",
       "        \u001b[32m'has_depth'\u001b[0m: \u001b[3;92mTrue\u001b[0m,\n",
       "        \u001b[32m'compute_gaps'\u001b[0m: \u001b[3;91mFalse\u001b[0m,\n",
       "        \u001b[32m'run_continuous'\u001b[0m: \u001b[3;92mTrue\u001b[0m,\n",
       "        \u001b[32m'wait_for_services'\u001b[0m: \u001b[3;91mFalse\u001b[0m,\n",
       "        \u001b[32m'detect_arucos'\u001b[0m: \u001b[3;91mFalse\u001b[0m,\n",
       "        \u001b[32m'camera_height'\u001b[0m: \u001b[1;36m0.2\u001b[0m,\n",
       "        \u001b[32m'parent_frame'\u001b[0m: \u001b[32m'panda_2/realsense'\u001b[0m,\n",
       "        \u001b[32m'create_parent_frame'\u001b[0m: \u001b[3;92mTrue\u001b[0m,\n",
       "        \u001b[32m'marker_lifetime'\u001b[0m: \u001b[1;36m1\u001b[0m,\n",
       "        \u001b[32m'calibration_file'\u001b[0m: \u001b[32m'~/vision_pipeline/realsense_calib/realsense_calib.yaml'\u001b[0m,\n",
       "        \u001b[32m'debug_clustering'\u001b[0m: \u001b[3;91mFalse\u001b[0m\n",
       "    \u001b[1m}\u001b[0m,\n",
       "    \u001b[32m'obj_detection'\u001b[0m: \u001b[1m{\u001b[0m\n",
       "        \u001b[32m'debug'\u001b[0m: \u001b[3;92mTrue\u001b[0m,\n",
       "        \u001b[32m'model'\u001b[0m: \u001b[32m'yolov8'\u001b[0m,\n",
       "        \u001b[32m'yolact_dataset_file'\u001b[0m: \u001b[32m'~/vision_pipeline/data_limited/yolact/2023-07-18_firealarms_hcas/dataset.json'\u001b[0m,\n",
       "        \u001b[32m'yolact_score_threshold'\u001b[0m: \u001b[1;36m0.5\u001b[0m,\n",
       "        \u001b[32m'yolov8_model_file'\u001b[0m: \u001b[32m'~/vision_pipeline/data_limited/yolov8/output_2023-08-25_20000/best.pt'\u001b[0m,\n",
       "        \u001b[32m'yolov8_score_threshold'\u001b[0m: \u001b[1;36m0.5\u001b[0m,\n",
       "        \u001b[32m'superglue_templates'\u001b[0m: \u001b[32m'~/datasets2/reconcycle/2023-12-04_hcas_fire_alarms_sorted_cropped'\u001b[0m,\n",
       "        \u001b[32m'superglue_model_file'\u001b[0m: \u001b[32m'~/superglue_training/output/train/2023-11-18_superglue_model/weights/best.pt'\u001b[0m,\n",
       "        \u001b[32m'superglue_match_threshold'\u001b[0m: \u001b[1;36m0.5\u001b[0m,\n",
       "        \u001b[32m'rotation_median_filter'\u001b[0m: \u001b[3;92mTrue\u001b[0m,\n",
       "        \u001b[32m'classifier_model_file'\u001b[0m: \n",
       "\u001b[32m'~/device_reid/results/2024-03-21__15-58_classify_WORKING/lightning_logs/version_0/checkpoints/\u001b[0m\u001b[32mepoch\u001b[0m\u001b[32m=\u001b[0m\u001b[32m212\u001b[0m\u001b[32m-\u001b[0m\u001b[32mstep\u001b[0m\u001b[32m=\u001b[0m\u001b[32m212\u001b[0m\u001b[32m.c\u001b[0m\n",
       "\u001b[32mkpt'\u001b[0m,\n",
       "        \u001b[32m'classifier_threshold'\u001b[0m: \u001b[1;36m0.2\u001b[0m\n",
       "    \u001b[1m}\u001b[0m\n",
       "\u001b[1m}\u001b[0m\n"
      ]
     },
     "metadata": {},
     "output_type": "display_data"
    },
    {
     "name": "stderr",
     "output_type": "stream",
     "text": [
      "/usr/local/lib/python3.8/dist-packages/torchvision/models/_utils.py:208: UserWarning: The parameter 'pretrained' is deprecated since 0.13 and will be removed in 0.15, please use 'weights' instead.\n",
      "  warnings.warn(\n",
      "/usr/local/lib/python3.8/dist-packages/torchvision/models/_utils.py:223: UserWarning: Arguments other than a weight enum or `None` for 'weights' are deprecated since 0.13 and will be removed in 0.15. The current behavior is equivalent to passing `weights=ResNet50_Weights.IMAGENET1K_V1`. You can also use `weights=ResNet50_Weights.DEFAULT` to get the most up-to-date weights.\n",
      "  warnings.warn(msg)\n"
     ]
    },
    {
     "data": {
      "text/html": [
       "<pre style=\"white-space:pre;overflow-x:auto;line-height:normal;font-family:Menlo,'DejaVu Sans Mono',consolas,'Courier New',monospace\">model.learning_rate <span style=\"color: #008080; text-decoration-color: #008080; font-weight: bold\">1e-05</span>\n",
       "</pre>\n"
      ],
      "text/plain": [
       "model.learning_rate \u001b[1;36m1e-05\u001b[0m\n"
      ]
     },
     "metadata": {},
     "output_type": "display_data"
    },
    {
     "data": {
      "text/html": [
       "<pre style=\"white-space:pre;overflow-x:auto;line-height:normal;font-family:Menlo,'DejaVu Sans Mono',consolas,'Courier New',monospace\">model.batch_size <span style=\"color: #008080; text-decoration-color: #008080; font-weight: bold\">64</span>\n",
       "</pre>\n"
      ],
      "text/plain": [
       "model.batch_size \u001b[1;36m64\u001b[0m\n"
      ]
     },
     "metadata": {},
     "output_type": "display_data"
    },
    {
     "data": {
      "text/html": [
       "<pre style=\"white-space:pre;overflow-x:auto;line-height:normal;font-family:Menlo,'DejaVu Sans Mono',consolas,'Courier New',monospace\">model.freeze_backbone <span style=\"color: #ff0000; text-decoration-color: #ff0000; font-style: italic\">False</span>\n",
       "</pre>\n"
      ],
      "text/plain": [
       "model.freeze_backbone \u001b[3;91mFalse\u001b[0m\n"
      ]
     },
     "metadata": {},
     "output_type": "display_data"
    },
    {
     "data": {
      "text/html": [
       "<pre style=\"white-space:pre;overflow-x:auto;line-height:normal;font-family:Menlo,'DejaVu Sans Mono',consolas,'Courier New',monospace\">curr_weights_path <span style=\"color: #800080; text-decoration-color: #800080\">/home/docker/superglue_training/output/train/2023-11-18_superglue_model/weights/</span><span style=\"color: #ff00ff; text-decoration-color: #ff00ff\">best.pt</span>\n",
       "</pre>\n"
      ],
      "text/plain": [
       "curr_weights_path \u001b[35m/home/docker/superglue_training/output/train/2023-11-18_superglue_model/weights/\u001b[0m\u001b[95mbest.pt\u001b[0m\n"
      ]
     },
     "metadata": {},
     "output_type": "display_data"
    },
    {
     "name": "stdout",
     "output_type": "stream",
     "text": [
      "Loaded SuperPoint model\n",
      "Loaded SuperGlue model (\"/home/docker/superglue_training/output/train/2023-11-18_superglue_model/weights/best.pt\" weights)\n"
     ]
    },
    {
     "name": "stderr",
     "output_type": "stream",
     "text": [
      "100%|██████████| 61/61 [00:00<00:00, 156.14it/s]\n"
     ]
    },
    {
     "data": {
      "text/html": [
       "<pre style=\"white-space:pre;overflow-x:auto;line-height:normal;font-family:Menlo,'DejaVu Sans Mono',consolas,'Courier New',monospace\"><span style=\"color: #008000; text-decoration-color: #008000\">Loaded superglue templates </span><span style=\"color: #008000; text-decoration-color: #008000; font-weight: bold\">61</span>\n",
       "</pre>\n"
      ],
      "text/plain": [
       "\u001b[32mLoaded superglue templates \u001b[0m\u001b[1;32m61\u001b[0m\n"
      ]
     },
     "metadata": {},
     "output_type": "display_data"
    }
   ],
   "source": [
    "labelme_importer = LabelMeImporter()\n",
    "\n",
    "from IPython.utils import io\n",
    "\n",
    "# with io.capture_output() as captured:\n"
   ]
  },
  {
   "cell_type": "code",
   "execution_count": 18,
   "metadata": {},
   "outputs": [
    {
     "data": {
      "text/html": [
       "<pre style=\"white-space:pre;overflow-x:auto;line-height:normal;font-family:Menlo,'DejaVu Sans Mono',consolas,'Courier New',monospace\">gt_device fumonic\n",
       "</pre>\n"
      ],
      "text/plain": [
       "gt_device fumonic\n"
      ]
     },
     "metadata": {},
     "output_type": "display_data"
    },
    {
     "data": {
      "text/html": [
       "<pre style=\"white-space:pre;overflow-x:auto;line-height:normal;font-family:Menlo,'DejaVu Sans Mono',consolas,'Courier New',monospace\"><span style=\"color: #000080; text-decoration-color: #000080\">resetting worksurface detection</span>\n",
       "</pre>\n"
      ],
      "text/plain": [
       "\u001b[34mresetting worksurface detection\u001b[0m\n"
      ]
     },
     "metadata": {},
     "output_type": "display_data"
    },
    {
     "name": "stderr",
     "output_type": "stream",
     "text": [
      "Converting 1:   0%|          | 0/4 [00:00<?, ?it/s]"
     ]
    },
    {
     "data": {
      "text/html": [
       "<pre style=\"white-space:pre;overflow-x:auto;line-height:normal;font-family:Menlo,'DejaVu Sans Mono',consolas,'Courier New',monospace\">filename <span style=\"color: #008080; text-decoration-color: #008080; font-weight: bold\">1.j</span>son\n",
       "</pre>\n"
      ],
      "text/plain": [
       "filename \u001b[1;36m1.j\u001b[0mson\n"
      ]
     },
     "metadata": {},
     "output_type": "display_data"
    },
    {
     "data": {
      "text/html": [
       "<pre style=\"white-space:pre;overflow-x:auto;line-height:normal;font-family:Menlo,'DejaVu Sans Mono',consolas,'Courier New',monospace\">running worksurface detection<span style=\"color: #808000; text-decoration-color: #808000\">...</span>\n",
       "</pre>\n"
      ],
      "text/plain": [
       "running worksurface detection\u001b[33m...\u001b[0m\n"
      ]
     },
     "metadata": {},
     "output_type": "display_data"
    },
    {
     "data": {
      "text/html": [
       "<pre style=\"white-space:pre;overflow-x:auto;line-height:normal;font-family:Menlo,'DejaVu Sans Mono',consolas,'Courier New',monospace\"><span style=\"color: #000080; text-decoration-color: #000080\">camera: basler</span>\n",
       "</pre>\n"
      ],
      "text/plain": [
       "\u001b[34mcamera: basler\u001b[0m\n"
      ]
     },
     "metadata": {},
     "output_type": "display_data"
    },
    {
     "data": {
      "text/html": [
       "<pre style=\"white-space:pre;overflow-x:auto;line-height:normal;font-family:Menlo,'DejaVu Sans Mono',consolas,'Courier New',monospace\">classify: fumonic, <span style=\"color: #008080; text-decoration-color: #008080; font-weight: bold\">02</span>, conf: <span style=\"color: #008080; text-decoration-color: #008080; font-weight: bold\">0.988581120967865</span>\n",
       "</pre>\n"
      ],
      "text/plain": [
       "classify: fumonic, \u001b[1;36m02\u001b[0m, conf: \u001b[1;36m0.988581120967865\u001b[0m\n"
      ]
     },
     "metadata": {},
     "output_type": "display_data"
    },
    {
     "data": {
      "text/html": [
       "<pre style=\"white-space:pre;overflow-x:auto;line-height:normal;font-family:Menlo,'DejaVu Sans Mono',consolas,'Courier New',monospace\">img1.shape\n",
       "<span style=\"font-weight: bold\">(</span><span style=\"color: #008080; text-decoration-color: #008080; font-weight: bold\">600</span>, <span style=\"color: #008080; text-decoration-color: #008080; font-weight: bold\">600</span>, <span style=\"color: #008080; text-decoration-color: #008080; font-weight: bold\">3</span><span style=\"font-weight: bold\">)</span>\n",
       "</pre>\n"
      ],
      "text/plain": [
       "img1.shape\n",
       "\u001b[1m(\u001b[0m\u001b[1;36m600\u001b[0m, \u001b[1;36m600\u001b[0m, \u001b[1;36m3\u001b[0m\u001b[1m)\u001b[0m\n"
      ]
     },
     "metadata": {},
     "output_type": "display_data"
    },
    {
     "data": {
      "text/html": [
       "<pre style=\"white-space:pre;overflow-x:auto;line-height:normal;font-family:Menlo,'DejaVu Sans Mono',consolas,'Courier New',monospace\">img1.shape\n",
       "<span style=\"font-weight: bold\">(</span><span style=\"color: #008080; text-decoration-color: #008080; font-weight: bold\">300</span>, <span style=\"color: #008080; text-decoration-color: #008080; font-weight: bold\">300</span>, <span style=\"color: #008080; text-decoration-color: #008080; font-weight: bold\">3</span><span style=\"font-weight: bold\">)</span>\n",
       "</pre>\n"
      ],
      "text/plain": [
       "img1.shape\n",
       "\u001b[1m(\u001b[0m\u001b[1;36m300\u001b[0m, \u001b[1;36m300\u001b[0m, \u001b[1;36m3\u001b[0m\u001b[1m)\u001b[0m\n"
      ]
     },
     "metadata": {},
     "output_type": "display_data"
    },
    {
     "data": {
      "text/html": [
       "<pre style=\"white-space:pre;overflow-x:auto;line-height:normal;font-family:Menlo,'DejaVu Sans Mono',consolas,'Courier New',monospace\"><span style=\"color: #000080; text-decoration-color: #000080\">starting compare...</span>\n",
       "</pre>\n"
      ],
      "text/plain": [
       "\u001b[34mstarting compare\u001b[0m\u001b[34m...\u001b[0m\n"
      ]
     },
     "metadata": {},
     "output_type": "display_data"
    },
    {
     "data": {
      "text/html": [
       "<pre style=\"white-space:pre;overflow-x:auto;line-height:normal;font-family:Menlo,'DejaVu Sans Mono',consolas,'Courier New',monospace\">angle_est using findHomography <span style=\"color: #008080; text-decoration-color: #008080; font-weight: bold\">0.010355681692834344</span> degrees: <span style=\"color: #008080; text-decoration-color: #008080; font-weight: bold\">0.5933368549802996</span>\n",
       "</pre>\n"
      ],
      "text/plain": [
       "angle_est using findHomography \u001b[1;36m0.010355681692834344\u001b[0m degrees: \u001b[1;36m0.5933368549802996\u001b[0m\n"
      ]
     },
     "metadata": {},
     "output_type": "display_data"
    },
    {
     "data": {
      "text/html": [
       "<pre style=\"white-space:pre;overflow-x:auto;line-height:normal;font-family:Menlo,'DejaVu Sans Mono',consolas,'Courier New',monospace\">elapsed_time_classify_and_rot <span style=\"color: #008080; text-decoration-color: #008080; font-weight: bold\">0.07523966100052348</span>\n",
       "</pre>\n"
      ],
      "text/plain": [
       "elapsed_time_classify_and_rot \u001b[1;36m0.07523966100052348\u001b[0m\n"
      ]
     },
     "metadata": {},
     "output_type": "display_data"
    },
    {
     "data": {
      "text/html": [
       "<pre style=\"white-space:pre;overflow-x:auto;line-height:normal;font-family:Menlo,'DejaVu Sans Mono',consolas,'Courier New',monospace\">graph: Loose component: smoke_detector\n",
       "</pre>\n"
      ],
      "text/plain": [
       "graph: Loose component: smoke_detector\n"
      ]
     },
     "metadata": {},
     "output_type": "display_data"
    },
    {
     "data": {
      "text/html": [
       "<pre style=\"white-space:pre;overflow-x:auto;line-height:normal;font-family:Menlo,'DejaVu Sans Mono',consolas,'Courier New',monospace\">list_wc_components\n",
       "<span style=\"font-weight: bold\">[{</span><span style=\"color: #008080; text-decoration-color: #008080; font-weight: bold\">0</span><span style=\"font-weight: bold\">}]</span>\n",
       "</pre>\n"
      ],
      "text/plain": [
       "list_wc_components\n",
       "\u001b[1m[\u001b[0m\u001b[1m{\u001b[0m\u001b[1;36m0\u001b[0m\u001b[1m}\u001b[0m\u001b[1m]\u001b[0m\n"
      ]
     },
     "metadata": {},
     "output_type": "display_data"
    },
    {
     "data": {
      "text/html": [
       "<pre style=\"white-space:pre;overflow-x:auto;line-height:normal;font-family:Menlo,'DejaVu Sans Mono',consolas,'Courier New',monospace\">detections <span style=\"color: #008080; text-decoration-color: #008080; font-weight: bold\">1</span>\n",
       "</pre>\n"
      ],
      "text/plain": [
       "detections \u001b[1;36m1\u001b[0m\n"
      ]
     },
     "metadata": {},
     "output_type": "display_data"
    },
    {
     "data": {
      "text/html": [
       "<pre style=\"white-space:pre;overflow-x:auto;line-height:normal;font-family:Menlo,'DejaVu Sans Mono',consolas,'Courier New',monospace\"><span style=\"color: #800080; text-decoration-color: #800080; font-weight: bold\">len</span><span style=\"font-weight: bold\">(</span>batch_crop_imgs<span style=\"font-weight: bold\">)</span> <span style=\"color: #008080; text-decoration-color: #008080; font-weight: bold\">1</span>\n",
       "</pre>\n"
      ],
      "text/plain": [
       "\u001b[1;35mlen\u001b[0m\u001b[1m(\u001b[0mbatch_crop_imgs\u001b[1m)\u001b[0m \u001b[1;36m1\u001b[0m\n"
      ]
     },
     "metadata": {},
     "output_type": "display_data"
    },
    {
     "data": {
      "text/html": [
       "<pre style=\"white-space:pre;overflow-x:auto;line-height:normal;font-family:Menlo,'DejaVu Sans Mono',consolas,'Courier New',monospace\">qa_path <span style=\"color: #800080; text-decoration-color: #800080\">/home/docker/datasets2/reconcycle/knowledge_graph/data/nodes/fumonic/</span><span style=\"color: #ff00ff; text-decoration-color: #ff00ff\">1_qa.json</span>\n",
       "</pre>\n"
      ],
      "text/plain": [
       "qa_path \u001b[35m/home/docker/datasets2/reconcycle/knowledge_graph/data/nodes/fumonic/\u001b[0m\u001b[95m1_qa.json\u001b[0m\n"
      ]
     },
     "metadata": {},
     "output_type": "display_data"
    },
    {
     "data": {
      "text/html": [
       "<pre style=\"white-space:pre;overflow-x:auto;line-height:normal;font-family:Menlo,'DejaVu Sans Mono',consolas,'Courier New',monospace\">A_relations: Loose component: smoke_detector\n",
       "</pre>\n"
      ],
      "text/plain": [
       "A_relations: Loose component: smoke_detector\n"
      ]
     },
     "metadata": {},
     "output_type": "display_data"
    },
    {
     "data": {
      "text/html": [
       "<pre style=\"white-space:pre;overflow-x:auto;line-height:normal;font-family:Menlo,'DejaVu Sans Mono',consolas,'Courier New',monospace\">module vision\n",
       "</pre>\n"
      ],
      "text/plain": [
       "module vision\n"
      ]
     },
     "metadata": {},
     "output_type": "display_data"
    },
    {
     "data": {
      "text/html": [
       "<pre style=\"white-space:pre;overflow-x:auto;line-height:normal;font-family:Menlo,'DejaVu Sans Mono',consolas,'Courier New',monospace\">A_positions: smoke_detector back <span style=\"font-weight: bold\">(</span>fumonic<span style=\"font-weight: bold\">)</span> at <span style=\"font-weight: bold\">(</span><span style=\"color: #008080; text-decoration-color: #008080; font-weight: bold\">1625</span>, <span style=\"color: #008080; text-decoration-color: #008080; font-weight: bold\">1377</span><span style=\"font-weight: bold\">)</span>. \n",
       "</pre>\n"
      ],
      "text/plain": [
       "A_positions: smoke_detector back \u001b[1m(\u001b[0mfumonic\u001b[1m)\u001b[0m at \u001b[1m(\u001b[0m\u001b[1;36m1625\u001b[0m, \u001b[1;36m1377\u001b[0m\u001b[1m)\u001b[0m. \n"
      ]
     },
     "metadata": {},
     "output_type": "display_data"
    },
    {
     "data": {
      "text/html": [
       "<pre style=\"white-space:pre;overflow-x:auto;line-height:normal;font-family:Menlo,'DejaVu Sans Mono',consolas,'Courier New',monospace\"><span style=\"color: #000080; text-decoration-color: #000080\">loading file /home/docker/datasets2/reconcycle/knowledge_graph/data/nodes/fumonic/1_qa.json</span>\n",
       "</pre>\n"
      ],
      "text/plain": [
       "\u001b[34mloading file \u001b[0m\u001b[34m/home/docker/datasets2/reconcycle/knowledge_graph/data/nodes/fumonic/\u001b[0m\u001b[34m1_qa.json\u001b[0m\n"
      ]
     },
     "metadata": {},
     "output_type": "display_data"
    },
    {
     "data": {
      "text/html": [
       "<pre style=\"white-space:pre;overflow-x:auto;line-height:normal;font-family:Menlo,'DejaVu Sans Mono',consolas,'Courier New',monospace\"><span style=\"color: #000080; text-decoration-color: #000080\">resetting worksurface detection</span>\n",
       "</pre>\n"
      ],
      "text/plain": [
       "\u001b[34mresetting worksurface detection\u001b[0m\n"
      ]
     },
     "metadata": {},
     "output_type": "display_data"
    },
    {
     "name": "stderr",
     "output_type": "stream",
     "text": [
      "Converting 2:  25%|██▌       | 1/4 [00:00<00:00,  3.31it/s]"
     ]
    },
    {
     "data": {
      "text/html": [
       "<pre style=\"white-space:pre;overflow-x:auto;line-height:normal;font-family:Menlo,'DejaVu Sans Mono',consolas,'Courier New',monospace\">filename <span style=\"color: #008080; text-decoration-color: #008080; font-weight: bold\">2.j</span>son\n",
       "</pre>\n"
      ],
      "text/plain": [
       "filename \u001b[1;36m2.j\u001b[0mson\n"
      ]
     },
     "metadata": {},
     "output_type": "display_data"
    },
    {
     "data": {
      "text/html": [
       "<pre style=\"white-space:pre;overflow-x:auto;line-height:normal;font-family:Menlo,'DejaVu Sans Mono',consolas,'Courier New',monospace\">running worksurface detection<span style=\"color: #808000; text-decoration-color: #808000\">...</span>\n",
       "</pre>\n"
      ],
      "text/plain": [
       "running worksurface detection\u001b[33m...\u001b[0m\n"
      ]
     },
     "metadata": {},
     "output_type": "display_data"
    },
    {
     "data": {
      "text/html": [
       "<pre style=\"white-space:pre;overflow-x:auto;line-height:normal;font-family:Menlo,'DejaVu Sans Mono',consolas,'Courier New',monospace\"><span style=\"color: #000080; text-decoration-color: #000080\">camera: basler</span>\n",
       "</pre>\n"
      ],
      "text/plain": [
       "\u001b[34mcamera: basler\u001b[0m\n"
      ]
     },
     "metadata": {},
     "output_type": "display_data"
    },
    {
     "data": {
      "text/html": [
       "<pre style=\"white-space:pre;overflow-x:auto;line-height:normal;font-family:Menlo,'DejaVu Sans Mono',consolas,'Courier New',monospace\">classify: fumonic, <span style=\"color: #008080; text-decoration-color: #008080; font-weight: bold\">02</span>, conf: <span style=\"color: #008080; text-decoration-color: #008080; font-weight: bold\">0.9896740317344666</span>\n",
       "</pre>\n"
      ],
      "text/plain": [
       "classify: fumonic, \u001b[1;36m02\u001b[0m, conf: \u001b[1;36m0.9896740317344666\u001b[0m\n"
      ]
     },
     "metadata": {},
     "output_type": "display_data"
    },
    {
     "data": {
      "text/html": [
       "<pre style=\"white-space:pre;overflow-x:auto;line-height:normal;font-family:Menlo,'DejaVu Sans Mono',consolas,'Courier New',monospace\">img1.shape\n",
       "<span style=\"font-weight: bold\">(</span><span style=\"color: #008080; text-decoration-color: #008080; font-weight: bold\">600</span>, <span style=\"color: #008080; text-decoration-color: #008080; font-weight: bold\">600</span>, <span style=\"color: #008080; text-decoration-color: #008080; font-weight: bold\">3</span><span style=\"font-weight: bold\">)</span>\n",
       "</pre>\n"
      ],
      "text/plain": [
       "img1.shape\n",
       "\u001b[1m(\u001b[0m\u001b[1;36m600\u001b[0m, \u001b[1;36m600\u001b[0m, \u001b[1;36m3\u001b[0m\u001b[1m)\u001b[0m\n"
      ]
     },
     "metadata": {},
     "output_type": "display_data"
    },
    {
     "data": {
      "text/html": [
       "<pre style=\"white-space:pre;overflow-x:auto;line-height:normal;font-family:Menlo,'DejaVu Sans Mono',consolas,'Courier New',monospace\">img1.shape\n",
       "<span style=\"font-weight: bold\">(</span><span style=\"color: #008080; text-decoration-color: #008080; font-weight: bold\">300</span>, <span style=\"color: #008080; text-decoration-color: #008080; font-weight: bold\">300</span>, <span style=\"color: #008080; text-decoration-color: #008080; font-weight: bold\">3</span><span style=\"font-weight: bold\">)</span>\n",
       "</pre>\n"
      ],
      "text/plain": [
       "img1.shape\n",
       "\u001b[1m(\u001b[0m\u001b[1;36m300\u001b[0m, \u001b[1;36m300\u001b[0m, \u001b[1;36m3\u001b[0m\u001b[1m)\u001b[0m\n"
      ]
     },
     "metadata": {},
     "output_type": "display_data"
    },
    {
     "data": {
      "text/html": [
       "<pre style=\"white-space:pre;overflow-x:auto;line-height:normal;font-family:Menlo,'DejaVu Sans Mono',consolas,'Courier New',monospace\"><span style=\"color: #000080; text-decoration-color: #000080\">starting compare...</span>\n",
       "</pre>\n"
      ],
      "text/plain": [
       "\u001b[34mstarting compare\u001b[0m\u001b[34m...\u001b[0m\n"
      ]
     },
     "metadata": {},
     "output_type": "display_data"
    },
    {
     "data": {
      "text/html": [
       "<pre style=\"white-space:pre;overflow-x:auto;line-height:normal;font-family:Menlo,'DejaVu Sans Mono',consolas,'Courier New',monospace\">angle_est using findHomography <span style=\"color: #008080; text-decoration-color: #008080; font-weight: bold\">-0.004104999716103563</span> degrees: <span style=\"color: #008080; text-decoration-color: #008080; font-weight: bold\">-0.2351991586351353</span>\n",
       "</pre>\n"
      ],
      "text/plain": [
       "angle_est using findHomography \u001b[1;36m-0.004104999716103563\u001b[0m degrees: \u001b[1;36m-0.2351991586351353\u001b[0m\n"
      ]
     },
     "metadata": {},
     "output_type": "display_data"
    },
    {
     "data": {
      "text/html": [
       "<pre style=\"white-space:pre;overflow-x:auto;line-height:normal;font-family:Menlo,'DejaVu Sans Mono',consolas,'Courier New',monospace\">elapsed_time_classify_and_rot <span style=\"color: #008080; text-decoration-color: #008080; font-weight: bold\">0.07315915199978917</span>\n",
       "</pre>\n"
      ],
      "text/plain": [
       "elapsed_time_classify_and_rot \u001b[1;36m0.07315915199978917\u001b[0m\n"
      ]
     },
     "metadata": {},
     "output_type": "display_data"
    },
    {
     "data": {
      "text/html": [
       "<pre style=\"white-space:pre;overflow-x:auto;line-height:normal;font-family:Menlo,'DejaVu Sans Mono',consolas,'Courier New',monospace\">graph: Loose component: smoke_detector\n",
       "</pre>\n"
      ],
      "text/plain": [
       "graph: Loose component: smoke_detector\n"
      ]
     },
     "metadata": {},
     "output_type": "display_data"
    },
    {
     "data": {
      "text/html": [
       "<pre style=\"white-space:pre;overflow-x:auto;line-height:normal;font-family:Menlo,'DejaVu Sans Mono',consolas,'Courier New',monospace\">list_wc_components\n",
       "<span style=\"font-weight: bold\">[{</span><span style=\"color: #008080; text-decoration-color: #008080; font-weight: bold\">0</span><span style=\"font-weight: bold\">}]</span>\n",
       "</pre>\n"
      ],
      "text/plain": [
       "list_wc_components\n",
       "\u001b[1m[\u001b[0m\u001b[1m{\u001b[0m\u001b[1;36m0\u001b[0m\u001b[1m}\u001b[0m\u001b[1m]\u001b[0m\n"
      ]
     },
     "metadata": {},
     "output_type": "display_data"
    },
    {
     "data": {
      "text/html": [
       "<pre style=\"white-space:pre;overflow-x:auto;line-height:normal;font-family:Menlo,'DejaVu Sans Mono',consolas,'Courier New',monospace\">detections <span style=\"color: #008080; text-decoration-color: #008080; font-weight: bold\">1</span>\n",
       "</pre>\n"
      ],
      "text/plain": [
       "detections \u001b[1;36m1\u001b[0m\n"
      ]
     },
     "metadata": {},
     "output_type": "display_data"
    },
    {
     "data": {
      "text/html": [
       "<pre style=\"white-space:pre;overflow-x:auto;line-height:normal;font-family:Menlo,'DejaVu Sans Mono',consolas,'Courier New',monospace\"><span style=\"color: #800080; text-decoration-color: #800080; font-weight: bold\">len</span><span style=\"font-weight: bold\">(</span>batch_crop_imgs<span style=\"font-weight: bold\">)</span> <span style=\"color: #008080; text-decoration-color: #008080; font-weight: bold\">1</span>\n",
       "</pre>\n"
      ],
      "text/plain": [
       "\u001b[1;35mlen\u001b[0m\u001b[1m(\u001b[0mbatch_crop_imgs\u001b[1m)\u001b[0m \u001b[1;36m1\u001b[0m\n"
      ]
     },
     "metadata": {},
     "output_type": "display_data"
    },
    {
     "data": {
      "text/html": [
       "<pre style=\"white-space:pre;overflow-x:auto;line-height:normal;font-family:Menlo,'DejaVu Sans Mono',consolas,'Courier New',monospace\">qa_path <span style=\"color: #800080; text-decoration-color: #800080\">/home/docker/datasets2/reconcycle/knowledge_graph/data/nodes/fumonic/</span><span style=\"color: #ff00ff; text-decoration-color: #ff00ff\">2_qa.json</span>\n",
       "</pre>\n"
      ],
      "text/plain": [
       "qa_path \u001b[35m/home/docker/datasets2/reconcycle/knowledge_graph/data/nodes/fumonic/\u001b[0m\u001b[95m2_qa.json\u001b[0m\n"
      ]
     },
     "metadata": {},
     "output_type": "display_data"
    },
    {
     "data": {
      "text/html": [
       "<pre style=\"white-space:pre;overflow-x:auto;line-height:normal;font-family:Menlo,'DejaVu Sans Mono',consolas,'Courier New',monospace\">A_relations: Loose component: smoke_detector\n",
       "</pre>\n"
      ],
      "text/plain": [
       "A_relations: Loose component: smoke_detector\n"
      ]
     },
     "metadata": {},
     "output_type": "display_data"
    },
    {
     "data": {
      "text/html": [
       "<pre style=\"white-space:pre;overflow-x:auto;line-height:normal;font-family:Menlo,'DejaVu Sans Mono',consolas,'Courier New',monospace\">module vision\n",
       "</pre>\n"
      ],
      "text/plain": [
       "module vision\n"
      ]
     },
     "metadata": {},
     "output_type": "display_data"
    },
    {
     "data": {
      "text/html": [
       "<pre style=\"white-space:pre;overflow-x:auto;line-height:normal;font-family:Menlo,'DejaVu Sans Mono',consolas,'Courier New',monospace\">A_positions: smoke_detector front <span style=\"font-weight: bold\">(</span>fumonic<span style=\"font-weight: bold\">)</span> at <span style=\"font-weight: bold\">(</span><span style=\"color: #008080; text-decoration-color: #008080; font-weight: bold\">1600</span>, <span style=\"color: #008080; text-decoration-color: #008080; font-weight: bold\">1288</span><span style=\"font-weight: bold\">)</span>. \n",
       "</pre>\n"
      ],
      "text/plain": [
       "A_positions: smoke_detector front \u001b[1m(\u001b[0mfumonic\u001b[1m)\u001b[0m at \u001b[1m(\u001b[0m\u001b[1;36m1600\u001b[0m, \u001b[1;36m1288\u001b[0m\u001b[1m)\u001b[0m. \n"
      ]
     },
     "metadata": {},
     "output_type": "display_data"
    },
    {
     "data": {
      "text/html": [
       "<pre style=\"white-space:pre;overflow-x:auto;line-height:normal;font-family:Menlo,'DejaVu Sans Mono',consolas,'Courier New',monospace\"><span style=\"color: #000080; text-decoration-color: #000080\">loading file /home/docker/datasets2/reconcycle/knowledge_graph/data/nodes/fumonic/2_qa.json</span>\n",
       "</pre>\n"
      ],
      "text/plain": [
       "\u001b[34mloading file \u001b[0m\u001b[34m/home/docker/datasets2/reconcycle/knowledge_graph/data/nodes/fumonic/\u001b[0m\u001b[34m2_qa.json\u001b[0m\n"
      ]
     },
     "metadata": {},
     "output_type": "display_data"
    },
    {
     "data": {
      "text/html": [
       "<pre style=\"white-space:pre;overflow-x:auto;line-height:normal;font-family:Menlo,'DejaVu Sans Mono',consolas,'Courier New',monospace\"><span style=\"color: #000080; text-decoration-color: #000080\">resetting worksurface detection</span>\n",
       "</pre>\n"
      ],
      "text/plain": [
       "\u001b[34mresetting worksurface detection\u001b[0m\n"
      ]
     },
     "metadata": {},
     "output_type": "display_data"
    },
    {
     "name": "stderr",
     "output_type": "stream",
     "text": [
      "Converting 3:  50%|█████     | 2/4 [00:00<00:00,  3.32it/s]"
     ]
    },
    {
     "data": {
      "text/html": [
       "<pre style=\"white-space:pre;overflow-x:auto;line-height:normal;font-family:Menlo,'DejaVu Sans Mono',consolas,'Courier New',monospace\">filename <span style=\"color: #008080; text-decoration-color: #008080; font-weight: bold\">3.j</span>son\n",
       "</pre>\n"
      ],
      "text/plain": [
       "filename \u001b[1;36m3.j\u001b[0mson\n"
      ]
     },
     "metadata": {},
     "output_type": "display_data"
    },
    {
     "data": {
      "text/html": [
       "<pre style=\"white-space:pre;overflow-x:auto;line-height:normal;font-family:Menlo,'DejaVu Sans Mono',consolas,'Courier New',monospace\">running worksurface detection<span style=\"color: #808000; text-decoration-color: #808000\">...</span>\n",
       "</pre>\n"
      ],
      "text/plain": [
       "running worksurface detection\u001b[33m...\u001b[0m\n"
      ]
     },
     "metadata": {},
     "output_type": "display_data"
    },
    {
     "data": {
      "text/html": [
       "<pre style=\"white-space:pre;overflow-x:auto;line-height:normal;font-family:Menlo,'DejaVu Sans Mono',consolas,'Courier New',monospace\"><span style=\"color: #800000; text-decoration-color: #800000\">Max error in work surface position is: </span><span style=\"color: #800000; text-decoration-color: #800000; font-weight: bold\">0.03449387098827265</span>\n",
       "</pre>\n"
      ],
      "text/plain": [
       "\u001b[31mMax error in work surface position is: \u001b[0m\u001b[1;31m0.03449387098827265\u001b[0m\n"
      ]
     },
     "metadata": {},
     "output_type": "display_data"
    },
    {
     "data": {
      "text/html": [
       "<pre style=\"white-space:pre;overflow-x:auto;line-height:normal;font-family:Menlo,'DejaVu Sans Mono',consolas,'Courier New',monospace\"><span style=\"color: #000080; text-decoration-color: #000080\">camera: basler</span>\n",
       "</pre>\n"
      ],
      "text/plain": [
       "\u001b[34mcamera: basler\u001b[0m\n"
      ]
     },
     "metadata": {},
     "output_type": "display_data"
    },
    {
     "data": {
      "text/html": [
       "<pre style=\"white-space:pre;overflow-x:auto;line-height:normal;font-family:Menlo,'DejaVu Sans Mono',consolas,'Courier New',monospace\">classify: fumonic, <span style=\"color: #008080; text-decoration-color: #008080; font-weight: bold\">02</span>, conf: <span style=\"color: #008080; text-decoration-color: #008080; font-weight: bold\">0.2696242928504944</span>\n",
       "</pre>\n"
      ],
      "text/plain": [
       "classify: fumonic, \u001b[1;36m02\u001b[0m, conf: \u001b[1;36m0.2696242928504944\u001b[0m\n"
      ]
     },
     "metadata": {},
     "output_type": "display_data"
    },
    {
     "data": {
      "text/html": [
       "<pre style=\"white-space:pre;overflow-x:auto;line-height:normal;font-family:Menlo,'DejaVu Sans Mono',consolas,'Courier New',monospace\">img1.shape\n",
       "<span style=\"font-weight: bold\">(</span><span style=\"color: #008080; text-decoration-color: #008080; font-weight: bold\">600</span>, <span style=\"color: #008080; text-decoration-color: #008080; font-weight: bold\">600</span>, <span style=\"color: #008080; text-decoration-color: #008080; font-weight: bold\">3</span><span style=\"font-weight: bold\">)</span>\n",
       "</pre>\n"
      ],
      "text/plain": [
       "img1.shape\n",
       "\u001b[1m(\u001b[0m\u001b[1;36m600\u001b[0m, \u001b[1;36m600\u001b[0m, \u001b[1;36m3\u001b[0m\u001b[1m)\u001b[0m\n"
      ]
     },
     "metadata": {},
     "output_type": "display_data"
    },
    {
     "data": {
      "text/html": [
       "<pre style=\"white-space:pre;overflow-x:auto;line-height:normal;font-family:Menlo,'DejaVu Sans Mono',consolas,'Courier New',monospace\">img1.shape\n",
       "<span style=\"font-weight: bold\">(</span><span style=\"color: #008080; text-decoration-color: #008080; font-weight: bold\">300</span>, <span style=\"color: #008080; text-decoration-color: #008080; font-weight: bold\">300</span>, <span style=\"color: #008080; text-decoration-color: #008080; font-weight: bold\">3</span><span style=\"font-weight: bold\">)</span>\n",
       "</pre>\n"
      ],
      "text/plain": [
       "img1.shape\n",
       "\u001b[1m(\u001b[0m\u001b[1;36m300\u001b[0m, \u001b[1;36m300\u001b[0m, \u001b[1;36m3\u001b[0m\u001b[1m)\u001b[0m\n"
      ]
     },
     "metadata": {},
     "output_type": "display_data"
    },
    {
     "data": {
      "text/html": [
       "<pre style=\"white-space:pre;overflow-x:auto;line-height:normal;font-family:Menlo,'DejaVu Sans Mono',consolas,'Courier New',monospace\"><span style=\"color: #000080; text-decoration-color: #000080\">starting compare...</span>\n",
       "</pre>\n"
      ],
      "text/plain": [
       "\u001b[34mstarting compare\u001b[0m\u001b[34m...\u001b[0m\n"
      ]
     },
     "metadata": {},
     "output_type": "display_data"
    },
    {
     "data": {
      "text/html": [
       "<pre style=\"white-space:pre;overflow-x:auto;line-height:normal;font-family:Menlo,'DejaVu Sans Mono',consolas,'Courier New',monospace\">angle_est using findHomography <span style=\"color: #008080; text-decoration-color: #008080; font-weight: bold\">-0.0010480648369561862</span> degrees: <span style=\"color: #008080; text-decoration-color: #008080; font-weight: bold\">-0.06004969181365622</span>\n",
       "</pre>\n"
      ],
      "text/plain": [
       "angle_est using findHomography \u001b[1;36m-0.0010480648369561862\u001b[0m degrees: \u001b[1;36m-0.06004969181365622\u001b[0m\n"
      ]
     },
     "metadata": {},
     "output_type": "display_data"
    },
    {
     "data": {
      "text/html": [
       "<pre style=\"white-space:pre;overflow-x:auto;line-height:normal;font-family:Menlo,'DejaVu Sans Mono',consolas,'Courier New',monospace\">elapsed_time_classify_and_rot <span style=\"color: #008080; text-decoration-color: #008080; font-weight: bold\">0.07418289900124364</span>\n",
       "</pre>\n"
      ],
      "text/plain": [
       "elapsed_time_classify_and_rot \u001b[1;36m0.07418289900124364\u001b[0m\n"
      ]
     },
     "metadata": {},
     "output_type": "display_data"
    },
    {
     "data": {
      "text/html": [
       "<pre style=\"white-space:pre;overflow-x:auto;line-height:normal;font-family:Menlo,'DejaVu Sans Mono',consolas,'Courier New',monospace\">graph: Loose component: smoke_detector\n",
       "</pre>\n"
      ],
      "text/plain": [
       "graph: Loose component: smoke_detector\n"
      ]
     },
     "metadata": {},
     "output_type": "display_data"
    },
    {
     "data": {
      "text/html": [
       "<pre style=\"white-space:pre;overflow-x:auto;line-height:normal;font-family:Menlo,'DejaVu Sans Mono',consolas,'Courier New',monospace\">list_wc_components\n",
       "<span style=\"font-weight: bold\">[{</span><span style=\"color: #008080; text-decoration-color: #008080; font-weight: bold\">0</span><span style=\"font-weight: bold\">}]</span>\n",
       "</pre>\n"
      ],
      "text/plain": [
       "list_wc_components\n",
       "\u001b[1m[\u001b[0m\u001b[1m{\u001b[0m\u001b[1;36m0\u001b[0m\u001b[1m}\u001b[0m\u001b[1m]\u001b[0m\n"
      ]
     },
     "metadata": {},
     "output_type": "display_data"
    },
    {
     "data": {
      "text/html": [
       "<pre style=\"white-space:pre;overflow-x:auto;line-height:normal;font-family:Menlo,'DejaVu Sans Mono',consolas,'Courier New',monospace\">detections <span style=\"color: #008080; text-decoration-color: #008080; font-weight: bold\">1</span>\n",
       "</pre>\n"
      ],
      "text/plain": [
       "detections \u001b[1;36m1\u001b[0m\n"
      ]
     },
     "metadata": {},
     "output_type": "display_data"
    },
    {
     "data": {
      "text/html": [
       "<pre style=\"white-space:pre;overflow-x:auto;line-height:normal;font-family:Menlo,'DejaVu Sans Mono',consolas,'Courier New',monospace\"><span style=\"color: #800080; text-decoration-color: #800080; font-weight: bold\">len</span><span style=\"font-weight: bold\">(</span>batch_crop_imgs<span style=\"font-weight: bold\">)</span> <span style=\"color: #008080; text-decoration-color: #008080; font-weight: bold\">1</span>\n",
       "</pre>\n"
      ],
      "text/plain": [
       "\u001b[1;35mlen\u001b[0m\u001b[1m(\u001b[0mbatch_crop_imgs\u001b[1m)\u001b[0m \u001b[1;36m1\u001b[0m\n"
      ]
     },
     "metadata": {},
     "output_type": "display_data"
    },
    {
     "data": {
      "text/html": [
       "<pre style=\"white-space:pre;overflow-x:auto;line-height:normal;font-family:Menlo,'DejaVu Sans Mono',consolas,'Courier New',monospace\">qa_path <span style=\"color: #800080; text-decoration-color: #800080\">/home/docker/datasets2/reconcycle/knowledge_graph/data/nodes/fumonic/</span><span style=\"color: #ff00ff; text-decoration-color: #ff00ff\">3_qa.json</span>\n",
       "</pre>\n"
      ],
      "text/plain": [
       "qa_path \u001b[35m/home/docker/datasets2/reconcycle/knowledge_graph/data/nodes/fumonic/\u001b[0m\u001b[95m3_qa.json\u001b[0m\n"
      ]
     },
     "metadata": {},
     "output_type": "display_data"
    },
    {
     "data": {
      "text/html": [
       "<pre style=\"white-space:pre;overflow-x:auto;line-height:normal;font-family:Menlo,'DejaVu Sans Mono',consolas,'Courier New',monospace\">A_relations: Loose component: smoke_detector\n",
       "</pre>\n"
      ],
      "text/plain": [
       "A_relations: Loose component: smoke_detector\n"
      ]
     },
     "metadata": {},
     "output_type": "display_data"
    },
    {
     "data": {
      "text/html": [
       "<pre style=\"white-space:pre;overflow-x:auto;line-height:normal;font-family:Menlo,'DejaVu Sans Mono',consolas,'Courier New',monospace\">module cnc\n",
       "</pre>\n"
      ],
      "text/plain": [
       "module cnc\n"
      ]
     },
     "metadata": {},
     "output_type": "display_data"
    },
    {
     "data": {
      "text/html": [
       "<pre style=\"white-space:pre;overflow-x:auto;line-height:normal;font-family:Menlo,'DejaVu Sans Mono',consolas,'Courier New',monospace\">A_positions: smoke_detector front <span style=\"font-weight: bold\">(</span>fumonic<span style=\"font-weight: bold\">)</span> at <span style=\"font-weight: bold\">(</span><span style=\"color: #008080; text-decoration-color: #008080; font-weight: bold\">489</span>, <span style=\"color: #008080; text-decoration-color: #008080; font-weight: bold\">495</span><span style=\"font-weight: bold\">)</span>. \n",
       "</pre>\n"
      ],
      "text/plain": [
       "A_positions: smoke_detector front \u001b[1m(\u001b[0mfumonic\u001b[1m)\u001b[0m at \u001b[1m(\u001b[0m\u001b[1;36m489\u001b[0m, \u001b[1;36m495\u001b[0m\u001b[1m)\u001b[0m. \n"
      ]
     },
     "metadata": {},
     "output_type": "display_data"
    },
    {
     "data": {
      "text/html": [
       "<pre style=\"white-space:pre;overflow-x:auto;line-height:normal;font-family:Menlo,'DejaVu Sans Mono',consolas,'Courier New',monospace\"><span style=\"color: #000080; text-decoration-color: #000080\">loading file /home/docker/datasets2/reconcycle/knowledge_graph/data/nodes/fumonic/3_qa.json</span>\n",
       "</pre>\n"
      ],
      "text/plain": [
       "\u001b[34mloading file \u001b[0m\u001b[34m/home/docker/datasets2/reconcycle/knowledge_graph/data/nodes/fumonic/\u001b[0m\u001b[34m3_qa.json\u001b[0m\n"
      ]
     },
     "metadata": {},
     "output_type": "display_data"
    },
    {
     "data": {
      "text/html": [
       "<pre style=\"white-space:pre;overflow-x:auto;line-height:normal;font-family:Menlo,'DejaVu Sans Mono',consolas,'Courier New',monospace\"><span style=\"color: #000080; text-decoration-color: #000080\">resetting worksurface detection</span>\n",
       "</pre>\n"
      ],
      "text/plain": [
       "\u001b[34mresetting worksurface detection\u001b[0m\n"
      ]
     },
     "metadata": {},
     "output_type": "display_data"
    },
    {
     "name": "stderr",
     "output_type": "stream",
     "text": [
      "Converting 4:  75%|███████▌  | 3/4 [00:00<00:00,  3.74it/s]"
     ]
    },
    {
     "data": {
      "text/html": [
       "<pre style=\"white-space:pre;overflow-x:auto;line-height:normal;font-family:Menlo,'DejaVu Sans Mono',consolas,'Courier New',monospace\">filename <span style=\"color: #008080; text-decoration-color: #008080; font-weight: bold\">4.j</span>son\n",
       "</pre>\n"
      ],
      "text/plain": [
       "filename \u001b[1;36m4.j\u001b[0mson\n"
      ]
     },
     "metadata": {},
     "output_type": "display_data"
    },
    {
     "data": {
      "text/html": [
       "<pre style=\"white-space:pre;overflow-x:auto;line-height:normal;font-family:Menlo,'DejaVu Sans Mono',consolas,'Courier New',monospace\">running worksurface detection<span style=\"color: #808000; text-decoration-color: #808000\">...</span>\n",
       "</pre>\n"
      ],
      "text/plain": [
       "running worksurface detection\u001b[33m...\u001b[0m\n"
      ]
     },
     "metadata": {},
     "output_type": "display_data"
    },
    {
     "data": {
      "text/html": [
       "<pre style=\"white-space:pre;overflow-x:auto;line-height:normal;font-family:Menlo,'DejaVu Sans Mono',consolas,'Courier New',monospace\"><span style=\"color: #800000; text-decoration-color: #800000\">Max error in work surface position is: </span><span style=\"color: #800000; text-decoration-color: #800000; font-weight: bold\">0.03449387098827265</span>\n",
       "</pre>\n"
      ],
      "text/plain": [
       "\u001b[31mMax error in work surface position is: \u001b[0m\u001b[1;31m0.03449387098827265\u001b[0m\n"
      ]
     },
     "metadata": {},
     "output_type": "display_data"
    },
    {
     "data": {
      "text/html": [
       "<pre style=\"white-space:pre;overflow-x:auto;line-height:normal;font-family:Menlo,'DejaVu Sans Mono',consolas,'Courier New',monospace\"><span style=\"color: #000080; text-decoration-color: #000080\">camera: basler</span>\n",
       "</pre>\n"
      ],
      "text/plain": [
       "\u001b[34mcamera: basler\u001b[0m\n"
      ]
     },
     "metadata": {},
     "output_type": "display_data"
    },
    {
     "data": {
      "text/html": [
       "<pre style=\"white-space:pre;overflow-x:auto;line-height:normal;font-family:Menlo,'DejaVu Sans Mono',consolas,'Courier New',monospace\"><span style=\"color: #800000; text-decoration-color: #800000\">classifier says face:  inside </span><span style=\"color: #800000; text-decoration-color: #800000; font-weight: bold\">(</span><span style=\"color: #800000; text-decoration-color: #800000\">type: </span><span style=\"color: #800000; text-decoration-color: #800000; font-weight: bold\">1</span><span style=\"color: #800000; text-decoration-color: #800000; font-weight: bold\">)</span><span style=\"color: #800000; text-decoration-color: #800000\">, but yolo says face: front</span>\n",
       "</pre>\n"
      ],
      "text/plain": [
       "\u001b[31mclassifier says face:  inside \u001b[0m\u001b[1;31m(\u001b[0m\u001b[31mtype: \u001b[0m\u001b[1;31m1\u001b[0m\u001b[1;31m)\u001b[0m\u001b[31m, but yolo says face: front\u001b[0m\n"
      ]
     },
     "metadata": {},
     "output_type": "display_data"
    },
    {
     "data": {
      "text/html": [
       "<pre style=\"white-space:pre;overflow-x:auto;line-height:normal;font-family:Menlo,'DejaVu Sans Mono',consolas,'Courier New',monospace\">classify: hekatron, <span style=\"color: #008080; text-decoration-color: #008080; font-weight: bold\">04</span>, conf: <span style=\"color: #008080; text-decoration-color: #008080; font-weight: bold\">0.4380972385406494</span>\n",
       "</pre>\n"
      ],
      "text/plain": [
       "classify: hekatron, \u001b[1;36m04\u001b[0m, conf: \u001b[1;36m0.4380972385406494\u001b[0m\n"
      ]
     },
     "metadata": {},
     "output_type": "display_data"
    },
    {
     "data": {
      "text/html": [
       "<pre style=\"white-space:pre;overflow-x:auto;line-height:normal;font-family:Menlo,'DejaVu Sans Mono',consolas,'Courier New',monospace\">img1.shape\n",
       "<span style=\"font-weight: bold\">(</span><span style=\"color: #008080; text-decoration-color: #008080; font-weight: bold\">600</span>, <span style=\"color: #008080; text-decoration-color: #008080; font-weight: bold\">600</span>, <span style=\"color: #008080; text-decoration-color: #008080; font-weight: bold\">3</span><span style=\"font-weight: bold\">)</span>\n",
       "</pre>\n"
      ],
      "text/plain": [
       "img1.shape\n",
       "\u001b[1m(\u001b[0m\u001b[1;36m600\u001b[0m, \u001b[1;36m600\u001b[0m, \u001b[1;36m3\u001b[0m\u001b[1m)\u001b[0m\n"
      ]
     },
     "metadata": {},
     "output_type": "display_data"
    },
    {
     "data": {
      "text/html": [
       "<pre style=\"white-space:pre;overflow-x:auto;line-height:normal;font-family:Menlo,'DejaVu Sans Mono',consolas,'Courier New',monospace\">img1.shape\n",
       "<span style=\"font-weight: bold\">(</span><span style=\"color: #008080; text-decoration-color: #008080; font-weight: bold\">300</span>, <span style=\"color: #008080; text-decoration-color: #008080; font-weight: bold\">300</span>, <span style=\"color: #008080; text-decoration-color: #008080; font-weight: bold\">3</span><span style=\"font-weight: bold\">)</span>\n",
       "</pre>\n"
      ],
      "text/plain": [
       "img1.shape\n",
       "\u001b[1m(\u001b[0m\u001b[1;36m300\u001b[0m, \u001b[1;36m300\u001b[0m, \u001b[1;36m3\u001b[0m\u001b[1m)\u001b[0m\n"
      ]
     },
     "metadata": {},
     "output_type": "display_data"
    },
    {
     "data": {
      "text/html": [
       "<pre style=\"white-space:pre;overflow-x:auto;line-height:normal;font-family:Menlo,'DejaVu Sans Mono',consolas,'Courier New',monospace\"><span style=\"color: #000080; text-decoration-color: #000080\">starting compare...</span>\n",
       "</pre>\n"
      ],
      "text/plain": [
       "\u001b[34mstarting compare\u001b[0m\u001b[34m...\u001b[0m\n"
      ]
     },
     "metadata": {},
     "output_type": "display_data"
    },
    {
     "data": {
      "text/html": [
       "<pre style=\"white-space:pre;overflow-x:auto;line-height:normal;font-family:Menlo,'DejaVu Sans Mono',consolas,'Courier New',monospace\">angle_est using findHomography <span style=\"color: #008080; text-decoration-color: #008080; font-weight: bold\">0.9282790441883881</span> degrees: <span style=\"color: #008080; text-decoration-color: #008080; font-weight: bold\">53.18647144243269</span>\n",
       "</pre>\n"
      ],
      "text/plain": [
       "angle_est using findHomography \u001b[1;36m0.9282790441883881\u001b[0m degrees: \u001b[1;36m53.18647144243269\u001b[0m\n"
      ]
     },
     "metadata": {},
     "output_type": "display_data"
    },
    {
     "data": {
      "text/html": [
       "<pre style=\"white-space:pre;overflow-x:auto;line-height:normal;font-family:Menlo,'DejaVu Sans Mono',consolas,'Courier New',monospace\">elapsed_time_classify_and_rot <span style=\"color: #008080; text-decoration-color: #008080; font-weight: bold\">0.07848874699993758</span>\n",
       "</pre>\n"
      ],
      "text/plain": [
       "elapsed_time_classify_and_rot \u001b[1;36m0.07848874699993758\u001b[0m\n"
      ]
     },
     "metadata": {},
     "output_type": "display_data"
    },
    {
     "data": {
      "text/html": [
       "<pre style=\"white-space:pre;overflow-x:auto;line-height:normal;font-family:Menlo,'DejaVu Sans Mono',consolas,'Courier New',monospace\">graph: Device <span style=\"color: #008080; text-decoration-color: #008080; font-weight: bold\">1</span>: battery in smoke_detector, pcb in smoke_detector, battery next to pcb. \n",
       "</pre>\n"
      ],
      "text/plain": [
       "graph: Device \u001b[1;36m1\u001b[0m: battery in smoke_detector, pcb in smoke_detector, battery next to pcb. \n"
      ]
     },
     "metadata": {},
     "output_type": "display_data"
    },
    {
     "data": {
      "text/html": [
       "<pre style=\"white-space:pre;overflow-x:auto;line-height:normal;font-family:Menlo,'DejaVu Sans Mono',consolas,'Courier New',monospace\">list_wc_components\n",
       "<span style=\"font-weight: bold\">[{</span><span style=\"color: #008080; text-decoration-color: #008080; font-weight: bold\">0</span>, <span style=\"color: #008080; text-decoration-color: #008080; font-weight: bold\">1</span>, <span style=\"color: #008080; text-decoration-color: #008080; font-weight: bold\">2</span><span style=\"font-weight: bold\">}]</span>\n",
       "</pre>\n"
      ],
      "text/plain": [
       "list_wc_components\n",
       "\u001b[1m[\u001b[0m\u001b[1m{\u001b[0m\u001b[1;36m0\u001b[0m, \u001b[1;36m1\u001b[0m, \u001b[1;36m2\u001b[0m\u001b[1m}\u001b[0m\u001b[1m]\u001b[0m\n"
      ]
     },
     "metadata": {},
     "output_type": "display_data"
    },
    {
     "data": {
      "text/html": [
       "<pre style=\"white-space:pre;overflow-x:auto;line-height:normal;font-family:Menlo,'DejaVu Sans Mono',consolas,'Courier New',monospace\">detections <span style=\"color: #008080; text-decoration-color: #008080; font-weight: bold\">3</span>\n",
       "</pre>\n"
      ],
      "text/plain": [
       "detections \u001b[1;36m3\u001b[0m\n"
      ]
     },
     "metadata": {},
     "output_type": "display_data"
    },
    {
     "data": {
      "text/html": [
       "<pre style=\"white-space:pre;overflow-x:auto;line-height:normal;font-family:Menlo,'DejaVu Sans Mono',consolas,'Courier New',monospace\"><span style=\"color: #800080; text-decoration-color: #800080; font-weight: bold\">len</span><span style=\"font-weight: bold\">(</span>batch_crop_imgs<span style=\"font-weight: bold\">)</span> <span style=\"color: #008080; text-decoration-color: #008080; font-weight: bold\">1</span>\n",
       "</pre>\n"
      ],
      "text/plain": [
       "\u001b[1;35mlen\u001b[0m\u001b[1m(\u001b[0mbatch_crop_imgs\u001b[1m)\u001b[0m \u001b[1;36m1\u001b[0m\n"
      ]
     },
     "metadata": {},
     "output_type": "display_data"
    },
    {
     "data": {
      "text/html": [
       "<pre style=\"white-space:pre;overflow-x:auto;line-height:normal;font-family:Menlo,'DejaVu Sans Mono',consolas,'Courier New',monospace\">qa_path <span style=\"color: #800080; text-decoration-color: #800080\">/home/docker/datasets2/reconcycle/knowledge_graph/data/nodes/fumonic/</span><span style=\"color: #ff00ff; text-decoration-color: #ff00ff\">4_qa.json</span>\n",
       "</pre>\n"
      ],
      "text/plain": [
       "qa_path \u001b[35m/home/docker/datasets2/reconcycle/knowledge_graph/data/nodes/fumonic/\u001b[0m\u001b[95m4_qa.json\u001b[0m\n"
      ]
     },
     "metadata": {},
     "output_type": "display_data"
    },
    {
     "data": {
      "text/html": [
       "<pre style=\"white-space:pre;overflow-x:auto;line-height:normal;font-family:Menlo,'DejaVu Sans Mono',consolas,'Courier New',monospace\">A_relations: Device <span style=\"color: #008080; text-decoration-color: #008080; font-weight: bold\">1</span>: battery in smoke_detector, pcb in smoke_detector, battery next to pcb. \n",
       "</pre>\n"
      ],
      "text/plain": [
       "A_relations: Device \u001b[1;36m1\u001b[0m: battery in smoke_detector, pcb in smoke_detector, battery next to pcb. \n"
      ]
     },
     "metadata": {},
     "output_type": "display_data"
    },
    {
     "data": {
      "text/html": [
       "<pre style=\"white-space:pre;overflow-x:auto;line-height:normal;font-family:Menlo,'DejaVu Sans Mono',consolas,'Courier New',monospace\">module cnc\n",
       "</pre>\n"
      ],
      "text/plain": [
       "module cnc\n"
      ]
     },
     "metadata": {},
     "output_type": "display_data"
    },
    {
     "data": {
      "text/html": [
       "<pre style=\"white-space:pre;overflow-x:auto;line-height:normal;font-family:Menlo,'DejaVu Sans Mono',consolas,'Courier New',monospace\"><span style=\"color: #800000; text-decoration-color: #800000\">incorrect label_precise_name hekatron. Should be: fumonic. Hot fix.</span>\n",
       "</pre>\n"
      ],
      "text/plain": [
       "\u001b[31mincorrect label_precise_name hekatron. Should be: fumonic. Hot fix.\u001b[0m\n"
      ]
     },
     "metadata": {},
     "output_type": "display_data"
    },
    {
     "data": {
      "text/html": [
       "<pre style=\"white-space:pre;overflow-x:auto;line-height:normal;font-family:Menlo,'DejaVu Sans Mono',consolas,'Courier New',monospace\">A_positions: smoke_detector front <span style=\"font-weight: bold\">(</span>fumonic<span style=\"font-weight: bold\">)</span> at <span style=\"font-weight: bold\">(</span><span style=\"color: #008080; text-decoration-color: #008080; font-weight: bold\">491</span>, <span style=\"color: #008080; text-decoration-color: #008080; font-weight: bold\">491</span><span style=\"font-weight: bold\">)</span>, battery at <span style=\"font-weight: bold\">(</span><span style=\"color: #008080; text-decoration-color: #008080; font-weight: bold\">466</span>, <span style=\"color: #008080; text-decoration-color: #008080; font-weight: bold\">530</span><span style=\"font-weight: bold\">)</span>, pcb at <span style=\"font-weight: bold\">(</span><span style=\"color: #008080; text-decoration-color: #008080; font-weight: bold\">507</span>, <span style=\"color: #008080; text-decoration-color: #008080; font-weight: bold\">462</span><span style=\"font-weight: bold\">)</span>. \n",
       "</pre>\n"
      ],
      "text/plain": [
       "A_positions: smoke_detector front \u001b[1m(\u001b[0mfumonic\u001b[1m)\u001b[0m at \u001b[1m(\u001b[0m\u001b[1;36m491\u001b[0m, \u001b[1;36m491\u001b[0m\u001b[1m)\u001b[0m, battery at \u001b[1m(\u001b[0m\u001b[1;36m466\u001b[0m, \u001b[1;36m530\u001b[0m\u001b[1m)\u001b[0m, pcb at \u001b[1m(\u001b[0m\u001b[1;36m507\u001b[0m, \u001b[1;36m462\u001b[0m\u001b[1m)\u001b[0m. \n"
      ]
     },
     "metadata": {},
     "output_type": "display_data"
    },
    {
     "data": {
      "text/html": [
       "<pre style=\"white-space:pre;overflow-x:auto;line-height:normal;font-family:Menlo,'DejaVu Sans Mono',consolas,'Courier New',monospace\"><span style=\"color: #000080; text-decoration-color: #000080\">loading file /home/docker/datasets2/reconcycle/knowledge_graph/data/nodes/fumonic/4_qa.json</span>\n",
       "</pre>\n"
      ],
      "text/plain": [
       "\u001b[34mloading file \u001b[0m\u001b[34m/home/docker/datasets2/reconcycle/knowledge_graph/data/nodes/fumonic/\u001b[0m\u001b[34m4_qa.json\u001b[0m\n"
      ]
     },
     "metadata": {},
     "output_type": "display_data"
    },
    {
     "data": {
      "text/html": [
       "<pre style=\"white-space:pre;overflow-x:auto;line-height:normal;font-family:Menlo,'DejaVu Sans Mono',consolas,'Courier New',monospace\"><span style=\"color: #000080; text-decoration-color: #000080\">resetting worksurface detection</span>\n",
       "</pre>\n"
      ],
      "text/plain": [
       "\u001b[34mresetting worksurface detection\u001b[0m\n"
      ]
     },
     "metadata": {},
     "output_type": "display_data"
    },
    {
     "name": "stderr",
     "output_type": "stream",
     "text": [
      "Converting 4: 100%|██████████| 4/4 [00:01<00:00,  3.75it/s]\n"
     ]
    }
   ],
   "source": [
    "# folder = kg_nodes_path / \"kalo\"\n",
    "# folder = kg_nodes_path / \"hekatron\"\n",
    "# folder = kg_nodes_path / \"qundis\"\n",
    "folder = kg_nodes_path / \"fumonic\"\n",
    "    \n",
    "gt_device = folder.name\n",
    "print(\"gt_device\", gt_device)\n",
    "\n",
    "for img_path, process_labelme_dir, detections, graph_relations, module, camera, batch_crop_imgs in labelme_importer.process_labelme_dir(folder, use_yield=True):\n",
    "\n",
    "    stem = Path(img_path).stem\n",
    "    qa_path = Path(img_path).parent / Path(str(stem) + \"_qa.json\")\n",
    "    \n",
    "    # save create cropped image\n",
    "\n",
    "    print(\"len(batch_crop_imgs)\", len(batch_crop_imgs))\n",
    "    \n",
    "    # if not cropped_img_path.is_file() and cropped_img is not None:\n",
    "    if batch_crop_imgs is not None:\n",
    "        for idx, crop_img in enumerate(batch_crop_imgs):\n",
    "            if len(batch_crop_imgs) == 1:\n",
    "                cropped_img_name = str(stem) + \"_crop.jpg\"  \n",
    "            else:\n",
    "                cropped_img_name = str(stem) + f\"_crop_{idx}.jpg\"  \n",
    "    \n",
    "            cropped_img_path = Path(img_path).parent / Path(cropped_img_name)\n",
    "    \n",
    "            cv2.imwrite(str(cropped_img_path), crop_img)\n",
    "\n",
    "    print(\"qa_path\", qa_path)\n",
    "\n",
    "    A_relations = graph_relations.to_text()\n",
    "    print(\"A_relations:\", A_relations)\n",
    "    \n",
    "    # include the module name in the relations\n",
    "    if module is not None:\n",
    "        print(\"module\", module.name)\n",
    "        A_relations = f\"at_location(table_{module.name}). \" + A_relations\n",
    "    else:\n",
    "        print(\"[red]Missing module name!\")\n",
    "    \n",
    "    positions_list = []\n",
    "    for detection in detections:\n",
    "        text = f\"{detection.label.name}\"\n",
    "        if detection.label_face is not None:\n",
    "            text += f\" {detection.label_face.name}\"\n",
    "        \n",
    "        # todo: better label names\n",
    "        # if detection.label_precise is not None:\n",
    "        #     label_id = detection.label_precise.split(\"_\")[-1]\n",
    "        #     text += f\" (id: {label_id})\"\n",
    "\n",
    "        if detection.label_precise_name is not None:\n",
    "            #! hot fix for incorrect detection:\n",
    "            if detection.label_precise_name != gt_device:\n",
    "                print(f\"[red]incorrect label_precise_name {detection.label_precise_name}. Should be: {gt_device}. Hot fix.\")\n",
    "                detection.label_precise_name = gt_device\n",
    "            \n",
    "            text += f\" ({detection.label_precise_name})\"\n",
    "    \n",
    "        text += f\" at ({detection.center_px[0]}, {detection.center_px[1]})\"\n",
    "        positions_list.append(text)\n",
    "\n",
    "        # print(\"detection name\", detection.label.name)\n",
    "        # print(f\"detection center: {detection.center_px[0]}, {detection.center_px[1]}\")\n",
    "\n",
    "        # print(\"detection\", detection)\n",
    "    \n",
    "    A_positions = \", \".join(positions_list) + \". \"\n",
    "\n",
    "    print(\"A_positions:\", A_positions)\n",
    "    \n",
    "    # create or edit the <number>_qa.json file\n",
    "    if qa_path.is_file():\n",
    "        print(f\"[blue]loading file {qa_path}\")\n",
    "        \n",
    "        with open(qa_path, 'r+') as f:\n",
    "            data = json.load(f)\n",
    "            data_changed = False\n",
    "            for qa in data:\n",
    "                if qa[\"Q\"] == qa_relations[\"Q\"] and qa[\"A\"] != A_relations:\n",
    "                    if click.confirm(f\"overwrite QA relations\\ncurrent: {qa['A']}\\nnew: {A_relations}?\\n\", default=True):\n",
    "                        qa[\"A\"] = A_relations\n",
    "                        data_changed = True\n",
    "                elif qa[\"Q\"] == qa_positions[\"Q\"] and qa[\"A\"] != A_positions:\n",
    "                    if click.confirm(f\"overwrite QA positions\\ncurrent: {qa['A']}\\nnew: {A_positions}?\\n\", default=True):\n",
    "                        qa[\"A\"] = A_positions\n",
    "                        data_changed = True\n",
    "\n",
    "            if data_changed:\n",
    "                f.seek(0)        # <--- should reset file position to the beginning.\n",
    "                json.dump(data, f, indent=4)\n",
    "                f.truncate()     # remove remaining part\n",
    "\n",
    "    else:\n",
    "        qa_relations_copy = qa_relations.copy()\n",
    "        qa_positions_copy = qa_positions.copy()\n",
    "        qa_disassembly_step_copy = qa_disassembly_step.copy()\n",
    "        qa_json_disassembly_step_copy = qa_json_disassembly_step.copy()\n",
    "\n",
    "        qa_relations_copy[\"A\"] = A_relations\n",
    "        qa_positions_copy[\"A\"] = A_positions\n",
    "\n",
    "        QAs_copy = [qa_relations_copy, qa_positions_copy, qa_disassembly_step_copy, qa_json_disassembly_step_copy]\n",
    "\n",
    "        with open(qa_path, 'w', encoding='utf-8') as f:\n",
    "            json.dump(QAs_copy, f, ensure_ascii=False, indent=4)\n",
    "\n",
    "    # save the detections object\n",
    "    # emulate ROS layer\n",
    "    detections_ros = detections_to_ros(detections)\n",
    "    detections_back_again = detections_to_py(detections_ros)\n",
    "\n",
    "    detections_pickle_path = Path(img_path).parent / Path(str(stem) + \".pickle\")\n",
    "    detections_txt_path = Path(img_path).parent / Path(str(stem) + \"_dets.txt\")\n",
    "    # detections_jsonpickle_path = Path(img_path).parent / Path(str(stem) + \"_pickle.txt\")\n",
    "    with open(detections_pickle_path, 'wb') as handle:\n",
    "        pickle.dump(detections_back_again, handle, protocol=pickle.HIGHEST_PROTOCOL)\n",
    "\n",
    "    with open(detections_txt_path, 'w') as handle:\n",
    "        handle.write(detections_back_again.__str__())\n",
    "\n",
    "    #! jsonpickle looks ugly\n",
    "    # with open(detections_jsonpickle_path, 'w') as handle:\n",
    "    #     json_obj = jsonpickle.encode(detections_back_again, make_refs=False, indent=2)\n",
    "    #     handle.write(json_obj)\n",
    "\n",
    "    # print(\"detections\", detections_back_again.__str__())\n",
    "\n",
    "    \n"
   ]
  },
  {
   "cell_type": "code",
   "execution_count": 14,
   "metadata": {},
   "outputs": [],
   "source": [
    "\n",
    "# todo: create QAs"
   ]
  }
 ],
 "metadata": {
  "kernelspec": {
   "display_name": "Python 3",
   "language": "python",
   "name": "python3"
  },
  "language_info": {
   "codemirror_mode": {
    "name": "ipython",
    "version": 3
   },
   "file_extension": ".py",
   "mimetype": "text/x-python",
   "name": "python",
   "nbconvert_exporter": "python",
   "pygments_lexer": "ipython3",
   "version": "3.8.10"
  }
 },
 "nbformat": 4,
 "nbformat_minor": 2
}
