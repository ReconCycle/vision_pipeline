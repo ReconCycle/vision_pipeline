{
 "cells": [
  {
   "cell_type": "code",
   "execution_count": 1,
   "metadata": {},
   "outputs": [
    {
     "name": "stdout",
     "output_type": "stream",
     "text": [
      "The autoreload extension is already loaded. To reload it, use:\n",
      "  %reload_ext autoreload\n",
      "Jupyter environment detected. Enabling Open3D WebVisualizer.\n",
      "[Open3D INFO] WebRTC GUI backend enabled.\n",
      "[Open3D INFO] WebRTCWindowSystem: HTTP handshake server disabled.\n"
     ]
    }
   ],
   "source": [
    "%load_ext autoreload\n",
    "%autoreload 2\n",
    "\n",
    "import os\n",
    "os.environ[\"CUDA_DEVICE_ORDER\"]=\"PCI_BUS_ID\"   # see issue #152\n",
    "os.environ[\"CUDA_VISIBLE_DEVICES\"]=\"3\" #! specify gpu here\n",
    "import sys\n",
    "import numpy as np\n",
    "import cv2\n",
    "import time\n",
    "import torch\n",
    "import clip\n",
    "from PIL import Image\n",
    "from rich import print\n",
    "from tqdm import tqdm\n",
    "from pathlib import Path\n",
    "import csv\n",
    "import json\n",
    "import click\n",
    "\n",
    "\n",
    "# for jsonpickle\n",
    "from context_action_framework.types import Detection, Label, LabelFace, Camera\n",
    "from geometry_msgs.msg import Transform, Vector3, Quaternion, Pose, PoseArray, TransformStamped\n",
    "\n",
    "import jsonpickle\n",
    "import pickle\n",
    "\n",
    "from context_action_framework.types import detections_to_ros, detections_to_py\n",
    "from vision_pipeline.llm_data_generator.labelme_importer import LabelMeImporter\n"
   ]
  },
  {
   "cell_type": "code",
   "execution_count": 2,
   "metadata": {},
   "outputs": [],
   "source": [
    "qa_relations = {\n",
    "    \"Q\": \"What are the object relations?\",\n",
    "    \"A\": \"\" # \"PCB inside HCA, ...\"\n",
    "}\n",
    "qa_positions = {\n",
    "    \"Q\": \"What are the object positions?\",\n",
    "    \"A\": \"\" # \"HCA at (302, 300), PCB at (...), ...\"\n",
    "}\n",
    "qa_disassembly_step = {\n",
    "    \"Q\": \"Caption the image and suggest the next disassembly step?\",\n",
    "    \"A\": \"\" #  \"Turn the device over to show the back.\"\n",
    "}\n",
    "qa_json_disassembly_step = {\n",
    "    \"Q\": \"What is the JSON formatted disassembly step?\",\n",
    "    \"A\": {\n",
    "        \"reasoning\": \"\",\n",
    "        \"action\": \"\",\n",
    "        \"action_input\": \"\"\n",
    "    }\n",
    "}\n",
    "\n",
    "qas = [qa_relations, qa_positions, qa_disassembly_step, qa_json_disassembly_step]"
   ]
  },
  {
   "cell_type": "code",
   "execution_count": 3,
   "metadata": {},
   "outputs": [
    {
     "data": {
      "text/html": [
       "<pre style=\"white-space:pre;overflow-x:auto;line-height:normal;font-family:Menlo,'DejaVu Sans Mono',consolas,'Courier New',monospace\">kg_nodes_path <span style=\"color: #800080; text-decoration-color: #800080\">/home/docker/datasets2/reconcycle/knowledge_graph/data/</span><span style=\"color: #ff00ff; text-decoration-color: #ff00ff\">nodes</span>\n",
       "</pre>\n"
      ],
      "text/plain": [
       "kg_nodes_path \u001b[35m/home/docker/datasets2/reconcycle/knowledge_graph/data/\u001b[0m\u001b[95mnodes\u001b[0m\n"
      ]
     },
     "metadata": {},
     "output_type": "display_data"
    }
   ],
   "source": [
    "kg_path = Path(\"~/datasets2/reconcycle/knowledge_graph\").expanduser()\n",
    "kg_nodes_path = kg_path / \"data\" / \"nodes\"\n",
    "kg_edges_path = kg_path / \"data\" / \"graph_edges.csv\"\n",
    "\n",
    "print(\"kg_nodes_path\", kg_nodes_path)\n"
   ]
  },
  {
   "cell_type": "code",
   "execution_count": 4,
   "metadata": {},
   "outputs": [
    {
     "data": {
      "text/html": [
       "<pre style=\"white-space:pre;overflow-x:auto;line-height:normal;font-family:Menlo,'DejaVu Sans Mono',consolas,'Courier New',monospace\"><span style=\"font-weight: bold\">[</span><span style=\"color: #008000; text-decoration-color: #008000\">'kalo'</span>, <span style=\"color: #008000; text-decoration-color: #008000\">'qundis'</span><span style=\"font-weight: bold\">]</span>\n",
       "</pre>\n"
      ],
      "text/plain": [
       "\u001b[1m[\u001b[0m\u001b[32m'kalo'\u001b[0m, \u001b[32m'qundis'\u001b[0m\u001b[1m]\u001b[0m\n"
      ]
     },
     "metadata": {},
     "output_type": "display_data"
    }
   ],
   "source": [
    "hcas = []\n",
    "with open(kg_edges_path, 'r') as f:\n",
    "    reader = csv.reader(f)\n",
    "    for row in reader:\n",
    "        if len(row) >= 2 and row[1] == 'hca':\n",
    "            hcas.append(row[0])\n",
    "\n",
    "print(hcas)"
   ]
  },
  {
   "cell_type": "code",
   "execution_count": 5,
   "metadata": {},
   "outputs": [
    {
     "data": {
      "text/html": [
       "<pre style=\"white-space:pre;overflow-x:auto;line-height:normal;font-family:Menlo,'DejaVu Sans Mono',consolas,'Courier New',monospace\">config:\n",
       "<span style=\"font-weight: bold\">{</span>\n",
       "    <span style=\"color: #008000; text-decoration-color: #008000\">'node_name'</span>: <span style=\"color: #008000; text-decoration-color: #008000\">'vision'</span>,\n",
       "    <span style=\"color: #008000; text-decoration-color: #008000\">'reid'</span>: <span style=\"color: #ff0000; text-decoration-color: #ff0000; font-style: italic\">False</span>,\n",
       "    <span style=\"color: #008000; text-decoration-color: #008000\">'basler'</span>: <span style=\"font-weight: bold\">{</span>\n",
       "        <span style=\"color: #008000; text-decoration-color: #008000\">'target_fps'</span>: <span style=\"color: #008080; text-decoration-color: #008080; font-weight: bold\">10</span>,\n",
       "        <span style=\"color: #008000; text-decoration-color: #008000\">'max_allowed_acquisition_delay'</span>: <span style=\"color: #008080; text-decoration-color: #008080; font-weight: bold\">1.0</span>,\n",
       "        <span style=\"color: #008000; text-decoration-color: #008000\">'rotate_img'</span>: <span style=\"color: #008080; text-decoration-color: #008080; font-weight: bold\">180</span>,\n",
       "        <span style=\"color: #008000; text-decoration-color: #008000\">'topic'</span>: <span style=\"color: #008000; text-decoration-color: #008000\">'basler'</span>,\n",
       "        <span style=\"color: #008000; text-decoration-color: #008000\">'camera_node'</span>: <span style=\"color: #008000; text-decoration-color: #008000\">'/basler'</span>,\n",
       "        <span style=\"color: #008000; text-decoration-color: #008000\">'image_topic'</span>: <span style=\"color: #008000; text-decoration-color: #008000\">'image_rect_color'</span>,\n",
       "        <span style=\"color: #008000; text-decoration-color: #008000\">'sleep_camera_on_exit'</span>: <span style=\"color: #ff0000; text-decoration-color: #ff0000; font-style: italic\">False</span>,\n",
       "        <span style=\"color: #008000; text-decoration-color: #008000\">'publish_labelled_img'</span>: <span style=\"color: #00ff00; text-decoration-color: #00ff00; font-style: italic\">True</span>,\n",
       "        <span style=\"color: #008000; text-decoration-color: #008000\">'publish_graph_img'</span>: <span style=\"color: #00ff00; text-decoration-color: #00ff00; font-style: italic\">True</span>,\n",
       "        <span style=\"color: #008000; text-decoration-color: #008000\">'has_depth'</span>: <span style=\"color: #ff0000; text-decoration-color: #ff0000; font-style: italic\">False</span>,\n",
       "        <span style=\"color: #008000; text-decoration-color: #008000\">'run_continuous'</span>: <span style=\"color: #00ff00; text-decoration-color: #00ff00; font-style: italic\">True</span>,\n",
       "        <span style=\"color: #008000; text-decoration-color: #008000\">'wait_for_services'</span>: <span style=\"color: #ff0000; text-decoration-color: #ff0000; font-style: italic\">False</span>,\n",
       "        <span style=\"color: #008000; text-decoration-color: #008000\">'detect_arucos'</span>: <span style=\"color: #ff0000; text-decoration-color: #ff0000; font-style: italic\">False</span>,\n",
       "        <span style=\"color: #008000; text-decoration-color: #008000\">'table_name'</span>: <span style=\"color: #008000; text-decoration-color: #008000\">'table_vision'</span>,\n",
       "        <span style=\"color: #008000; text-decoration-color: #008000\">'parent_frame'</span>: <span style=\"color: #008000; text-decoration-color: #008000\">'vision_table_zero'</span>,\n",
       "        <span style=\"color: #008000; text-decoration-color: #008000\">'create_parent_frame'</span>: <span style=\"color: #00ff00; text-decoration-color: #00ff00; font-style: italic\">True</span>,\n",
       "        <span style=\"color: #008000; text-decoration-color: #008000\">'marker_lifetime'</span>: <span style=\"color: #008080; text-decoration-color: #008080; font-weight: bold\">1</span>,\n",
       "        <span style=\"color: #008000; text-decoration-color: #008000\">'work_surface_ignore_border_width'</span>: <span style=\"color: #008080; text-decoration-color: #008080; font-weight: bold\">50</span>,\n",
       "        <span style=\"color: #008000; text-decoration-color: #008000\">'show_work_surface_detection'</span>: <span style=\"color: #ff0000; text-decoration-color: #ff0000; font-style: italic\">False</span>,\n",
       "        <span style=\"color: #008000; text-decoration-color: #008000\">'use_worksurface_detection'</span>: <span style=\"color: #00ff00; text-decoration-color: #00ff00; font-style: italic\">True</span>,\n",
       "        <span style=\"color: #008000; text-decoration-color: #008000\">'debug_work_surface_detection'</span>: <span style=\"color: #ff0000; text-decoration-color: #ff0000; font-style: italic\">False</span>\n",
       "    <span style=\"font-weight: bold\">}</span>,\n",
       "    <span style=\"color: #008000; text-decoration-color: #008000\">'realsense'</span>: <span style=\"font-weight: bold\">{</span>\n",
       "        <span style=\"color: #008000; text-decoration-color: #008000\">'target_fps'</span>: <span style=\"color: #008080; text-decoration-color: #008080; font-weight: bold\">10</span>,\n",
       "        <span style=\"color: #008000; text-decoration-color: #008000\">'max_allowed_acquisition_delay'</span>: <span style=\"color: #008080; text-decoration-color: #008080; font-weight: bold\">1.0</span>,\n",
       "        <span style=\"color: #008000; text-decoration-color: #008000\">'rotate_img'</span>: <span style=\"color: #008080; text-decoration-color: #008080; font-weight: bold\">0</span>,\n",
       "        <span style=\"color: #008000; text-decoration-color: #008000\">'topic'</span>: <span style=\"color: #008000; text-decoration-color: #008000\">'realsense'</span>,\n",
       "        <span style=\"color: #008000; text-decoration-color: #008000\">'camera_node'</span>: <span style=\"color: #008000; text-decoration-color: #008000\">'/realsense'</span>,\n",
       "        <span style=\"color: #008000; text-decoration-color: #008000\">'image_topic'</span>: <span style=\"color: #008000; text-decoration-color: #008000\">'color/image_raw'</span>,\n",
       "        <span style=\"color: #008000; text-decoration-color: #008000\">'info_topic'</span>: <span style=\"color: #008000; text-decoration-color: #008000\">'color/camera_info'</span>,\n",
       "        <span style=\"color: #008000; text-decoration-color: #008000\">'depth_topic'</span>: <span style=\"color: #008000; text-decoration-color: #008000\">'aligned_depth_to_color/image_raw'</span>,\n",
       "        <span style=\"color: #008000; text-decoration-color: #008000\">'sleep_camera_on_exit'</span>: <span style=\"color: #ff0000; text-decoration-color: #ff0000; font-style: italic\">False</span>,\n",
       "        <span style=\"color: #008000; text-decoration-color: #008000\">'publish_labelled_img'</span>: <span style=\"color: #00ff00; text-decoration-color: #00ff00; font-style: italic\">True</span>,\n",
       "        <span style=\"color: #008000; text-decoration-color: #008000\">'publish_depth_img'</span>: <span style=\"color: #00ff00; text-decoration-color: #00ff00; font-style: italic\">True</span>,\n",
       "        <span style=\"color: #008000; text-decoration-color: #008000\">'publish_cluster_img'</span>: <span style=\"color: #00ff00; text-decoration-color: #00ff00; font-style: italic\">True</span>,\n",
       "        <span style=\"color: #008000; text-decoration-color: #008000\">'publish_graph_img'</span>: <span style=\"color: #ff0000; text-decoration-color: #ff0000; font-style: italic\">False</span>,\n",
       "        <span style=\"color: #008000; text-decoration-color: #008000\">'has_depth'</span>: <span style=\"color: #00ff00; text-decoration-color: #00ff00; font-style: italic\">True</span>,\n",
       "        <span style=\"color: #008000; text-decoration-color: #008000\">'compute_gaps'</span>: <span style=\"color: #00ff00; text-decoration-color: #00ff00; font-style: italic\">True</span>,\n",
       "        <span style=\"color: #008000; text-decoration-color: #008000\">'run_continuous'</span>: <span style=\"color: #00ff00; text-decoration-color: #00ff00; font-style: italic\">True</span>,\n",
       "        <span style=\"color: #008000; text-decoration-color: #008000\">'wait_for_services'</span>: <span style=\"color: #ff0000; text-decoration-color: #ff0000; font-style: italic\">False</span>,\n",
       "        <span style=\"color: #008000; text-decoration-color: #008000\">'detect_arucos'</span>: <span style=\"color: #ff0000; text-decoration-color: #ff0000; font-style: italic\">False</span>,\n",
       "        <span style=\"color: #008000; text-decoration-color: #008000\">'camera_height'</span>: <span style=\"color: #008080; text-decoration-color: #008080; font-weight: bold\">0.2</span>,\n",
       "        <span style=\"color: #008000; text-decoration-color: #008000\">'parent_frame'</span>: <span style=\"color: #008000; text-decoration-color: #008000\">'panda_2/realsense'</span>,\n",
       "        <span style=\"color: #008000; text-decoration-color: #008000\">'create_parent_frame'</span>: <span style=\"color: #00ff00; text-decoration-color: #00ff00; font-style: italic\">True</span>,\n",
       "        <span style=\"color: #008000; text-decoration-color: #008000\">'marker_lifetime'</span>: <span style=\"color: #008080; text-decoration-color: #008080; font-weight: bold\">1</span>,\n",
       "        <span style=\"color: #008000; text-decoration-color: #008000\">'calibration_file'</span>: <span style=\"color: #008000; text-decoration-color: #008000\">'~/vision_pipeline/realsense_calib/realsense_calib.yaml'</span>,\n",
       "        <span style=\"color: #008000; text-decoration-color: #008000\">'debug_clustering'</span>: <span style=\"color: #ff0000; text-decoration-color: #ff0000; font-style: italic\">False</span>\n",
       "    <span style=\"font-weight: bold\">}</span>,\n",
       "    <span style=\"color: #008000; text-decoration-color: #008000\">'obj_detection'</span>: <span style=\"font-weight: bold\">{</span>\n",
       "        <span style=\"color: #008000; text-decoration-color: #008000\">'debug'</span>: <span style=\"color: #00ff00; text-decoration-color: #00ff00; font-style: italic\">True</span>,\n",
       "        <span style=\"color: #008000; text-decoration-color: #008000\">'model'</span>: <span style=\"color: #008000; text-decoration-color: #008000\">'yolov8'</span>,\n",
       "        <span style=\"color: #008000; text-decoration-color: #008000\">'yolact_dataset_file'</span>: <span style=\"color: #008000; text-decoration-color: #008000\">'~/vision_pipeline/data_limited/yolact/2023-07-18_firealarms_hcas/dataset.json'</span>,\n",
       "        <span style=\"color: #008000; text-decoration-color: #008000\">'yolact_score_threshold'</span>: <span style=\"color: #008080; text-decoration-color: #008080; font-weight: bold\">0.5</span>,\n",
       "        <span style=\"color: #008000; text-decoration-color: #008000\">'yolov8_model_file'</span>: \n",
       "<span style=\"color: #008000; text-decoration-color: #008000\">'~/vision_pipeline/data_limited/yolov8/output_2024-07-17_20000_incl_new_jsi_imgs_p2/epoch60.pt'</span>,\n",
       "        <span style=\"color: #008000; text-decoration-color: #008000\">'yolov8_score_threshold'</span>: <span style=\"color: #008080; text-decoration-color: #008080; font-weight: bold\">0.5</span>,\n",
       "        <span style=\"color: #008000; text-decoration-color: #008000\">'superglue_templates'</span>: <span style=\"color: #008000; text-decoration-color: #008000\">'~/datasets2/reconcycle/2023-12-04_hcas_fire_alarms_sorted_cropped'</span>,\n",
       "        <span style=\"color: #008000; text-decoration-color: #008000\">'superglue_model_file'</span>: \n",
       "<span style=\"color: #008000; text-decoration-color: #008000\">'~/superglue_training/output/train/2024-06-26_superglue_model_evens_finished/weights/best.pt'</span>,\n",
       "        <span style=\"color: #008000; text-decoration-color: #008000\">'superglue_match_threshold'</span>: <span style=\"color: #008080; text-decoration-color: #008080; font-weight: bold\">0.5</span>,\n",
       "        <span style=\"color: #008000; text-decoration-color: #008000\">'rotation_median_filter'</span>: <span style=\"color: #ff0000; text-decoration-color: #ff0000; font-style: italic\">False</span>,\n",
       "        <span style=\"color: #008000; text-decoration-color: #008000\">'superglue_visualise_to_file'</span>: <span style=\"color: #ff0000; text-decoration-color: #ff0000; font-style: italic\">False</span>,\n",
       "        <span style=\"color: #008000; text-decoration-color: #008000\">'classifier_model_file'</span>: \n",
       "<span style=\"color: #008000; text-decoration-color: #008000\">'~/vision_pipeline/data_limited/classifier/2024-07-19__14-32_classify/lightning_logs/version_0/checkpoints/epoch=33</span>\n",
       "<span style=\"color: #008000; text-decoration-color: #008000\">9-step=339.ckpt'</span>,\n",
       "        <span style=\"color: #008000; text-decoration-color: #008000\">'classifier_threshold'</span>: <span style=\"color: #008080; text-decoration-color: #008080; font-weight: bold\">0.2</span>\n",
       "    <span style=\"font-weight: bold\">}</span>\n",
       "<span style=\"font-weight: bold\">}</span>\n",
       "</pre>\n"
      ],
      "text/plain": [
       "config:\n",
       "\u001b[1m{\u001b[0m\n",
       "    \u001b[32m'node_name'\u001b[0m: \u001b[32m'vision'\u001b[0m,\n",
       "    \u001b[32m'reid'\u001b[0m: \u001b[3;91mFalse\u001b[0m,\n",
       "    \u001b[32m'basler'\u001b[0m: \u001b[1m{\u001b[0m\n",
       "        \u001b[32m'target_fps'\u001b[0m: \u001b[1;36m10\u001b[0m,\n",
       "        \u001b[32m'max_allowed_acquisition_delay'\u001b[0m: \u001b[1;36m1.0\u001b[0m,\n",
       "        \u001b[32m'rotate_img'\u001b[0m: \u001b[1;36m180\u001b[0m,\n",
       "        \u001b[32m'topic'\u001b[0m: \u001b[32m'basler'\u001b[0m,\n",
       "        \u001b[32m'camera_node'\u001b[0m: \u001b[32m'/basler'\u001b[0m,\n",
       "        \u001b[32m'image_topic'\u001b[0m: \u001b[32m'image_rect_color'\u001b[0m,\n",
       "        \u001b[32m'sleep_camera_on_exit'\u001b[0m: \u001b[3;91mFalse\u001b[0m,\n",
       "        \u001b[32m'publish_labelled_img'\u001b[0m: \u001b[3;92mTrue\u001b[0m,\n",
       "        \u001b[32m'publish_graph_img'\u001b[0m: \u001b[3;92mTrue\u001b[0m,\n",
       "        \u001b[32m'has_depth'\u001b[0m: \u001b[3;91mFalse\u001b[0m,\n",
       "        \u001b[32m'run_continuous'\u001b[0m: \u001b[3;92mTrue\u001b[0m,\n",
       "        \u001b[32m'wait_for_services'\u001b[0m: \u001b[3;91mFalse\u001b[0m,\n",
       "        \u001b[32m'detect_arucos'\u001b[0m: \u001b[3;91mFalse\u001b[0m,\n",
       "        \u001b[32m'table_name'\u001b[0m: \u001b[32m'table_vision'\u001b[0m,\n",
       "        \u001b[32m'parent_frame'\u001b[0m: \u001b[32m'vision_table_zero'\u001b[0m,\n",
       "        \u001b[32m'create_parent_frame'\u001b[0m: \u001b[3;92mTrue\u001b[0m,\n",
       "        \u001b[32m'marker_lifetime'\u001b[0m: \u001b[1;36m1\u001b[0m,\n",
       "        \u001b[32m'work_surface_ignore_border_width'\u001b[0m: \u001b[1;36m50\u001b[0m,\n",
       "        \u001b[32m'show_work_surface_detection'\u001b[0m: \u001b[3;91mFalse\u001b[0m,\n",
       "        \u001b[32m'use_worksurface_detection'\u001b[0m: \u001b[3;92mTrue\u001b[0m,\n",
       "        \u001b[32m'debug_work_surface_detection'\u001b[0m: \u001b[3;91mFalse\u001b[0m\n",
       "    \u001b[1m}\u001b[0m,\n",
       "    \u001b[32m'realsense'\u001b[0m: \u001b[1m{\u001b[0m\n",
       "        \u001b[32m'target_fps'\u001b[0m: \u001b[1;36m10\u001b[0m,\n",
       "        \u001b[32m'max_allowed_acquisition_delay'\u001b[0m: \u001b[1;36m1.0\u001b[0m,\n",
       "        \u001b[32m'rotate_img'\u001b[0m: \u001b[1;36m0\u001b[0m,\n",
       "        \u001b[32m'topic'\u001b[0m: \u001b[32m'realsense'\u001b[0m,\n",
       "        \u001b[32m'camera_node'\u001b[0m: \u001b[32m'/realsense'\u001b[0m,\n",
       "        \u001b[32m'image_topic'\u001b[0m: \u001b[32m'color/image_raw'\u001b[0m,\n",
       "        \u001b[32m'info_topic'\u001b[0m: \u001b[32m'color/camera_info'\u001b[0m,\n",
       "        \u001b[32m'depth_topic'\u001b[0m: \u001b[32m'aligned_depth_to_color/image_raw'\u001b[0m,\n",
       "        \u001b[32m'sleep_camera_on_exit'\u001b[0m: \u001b[3;91mFalse\u001b[0m,\n",
       "        \u001b[32m'publish_labelled_img'\u001b[0m: \u001b[3;92mTrue\u001b[0m,\n",
       "        \u001b[32m'publish_depth_img'\u001b[0m: \u001b[3;92mTrue\u001b[0m,\n",
       "        \u001b[32m'publish_cluster_img'\u001b[0m: \u001b[3;92mTrue\u001b[0m,\n",
       "        \u001b[32m'publish_graph_img'\u001b[0m: \u001b[3;91mFalse\u001b[0m,\n",
       "        \u001b[32m'has_depth'\u001b[0m: \u001b[3;92mTrue\u001b[0m,\n",
       "        \u001b[32m'compute_gaps'\u001b[0m: \u001b[3;92mTrue\u001b[0m,\n",
       "        \u001b[32m'run_continuous'\u001b[0m: \u001b[3;92mTrue\u001b[0m,\n",
       "        \u001b[32m'wait_for_services'\u001b[0m: \u001b[3;91mFalse\u001b[0m,\n",
       "        \u001b[32m'detect_arucos'\u001b[0m: \u001b[3;91mFalse\u001b[0m,\n",
       "        \u001b[32m'camera_height'\u001b[0m: \u001b[1;36m0.2\u001b[0m,\n",
       "        \u001b[32m'parent_frame'\u001b[0m: \u001b[32m'panda_2/realsense'\u001b[0m,\n",
       "        \u001b[32m'create_parent_frame'\u001b[0m: \u001b[3;92mTrue\u001b[0m,\n",
       "        \u001b[32m'marker_lifetime'\u001b[0m: \u001b[1;36m1\u001b[0m,\n",
       "        \u001b[32m'calibration_file'\u001b[0m: \u001b[32m'~/vision_pipeline/realsense_calib/realsense_calib.yaml'\u001b[0m,\n",
       "        \u001b[32m'debug_clustering'\u001b[0m: \u001b[3;91mFalse\u001b[0m\n",
       "    \u001b[1m}\u001b[0m,\n",
       "    \u001b[32m'obj_detection'\u001b[0m: \u001b[1m{\u001b[0m\n",
       "        \u001b[32m'debug'\u001b[0m: \u001b[3;92mTrue\u001b[0m,\n",
       "        \u001b[32m'model'\u001b[0m: \u001b[32m'yolov8'\u001b[0m,\n",
       "        \u001b[32m'yolact_dataset_file'\u001b[0m: \u001b[32m'~/vision_pipeline/data_limited/yolact/2023-07-18_firealarms_hcas/dataset.json'\u001b[0m,\n",
       "        \u001b[32m'yolact_score_threshold'\u001b[0m: \u001b[1;36m0.5\u001b[0m,\n",
       "        \u001b[32m'yolov8_model_file'\u001b[0m: \n",
       "\u001b[32m'~/vision_pipeline/data_limited/yolov8/output_2024-07-17_20000_incl_new_jsi_imgs_p2/epoch60.pt'\u001b[0m,\n",
       "        \u001b[32m'yolov8_score_threshold'\u001b[0m: \u001b[1;36m0.5\u001b[0m,\n",
       "        \u001b[32m'superglue_templates'\u001b[0m: \u001b[32m'~/datasets2/reconcycle/2023-12-04_hcas_fire_alarms_sorted_cropped'\u001b[0m,\n",
       "        \u001b[32m'superglue_model_file'\u001b[0m: \n",
       "\u001b[32m'~/superglue_training/output/train/2024-06-26_superglue_model_evens_finished/weights/best.pt'\u001b[0m,\n",
       "        \u001b[32m'superglue_match_threshold'\u001b[0m: \u001b[1;36m0.5\u001b[0m,\n",
       "        \u001b[32m'rotation_median_filter'\u001b[0m: \u001b[3;91mFalse\u001b[0m,\n",
       "        \u001b[32m'superglue_visualise_to_file'\u001b[0m: \u001b[3;91mFalse\u001b[0m,\n",
       "        \u001b[32m'classifier_model_file'\u001b[0m: \n",
       "\u001b[32m'~/vision_pipeline/data_limited/classifier/2024-07-19__14-32_classify/lightning_logs/version_0/checkpoints/\u001b[0m\u001b[32mepoch\u001b[0m\u001b[32m=\u001b[0m\u001b[32m33\u001b[0m\n",
       "\u001b[32m9\u001b[0m\u001b[32m-\u001b[0m\u001b[32mstep\u001b[0m\u001b[32m=\u001b[0m\u001b[32m339\u001b[0m\u001b[32m.ckpt'\u001b[0m,\n",
       "        \u001b[32m'classifier_threshold'\u001b[0m: \u001b[1;36m0.2\u001b[0m\n",
       "    \u001b[1m}\u001b[0m\n",
       "\u001b[1m}\u001b[0m\n"
      ]
     },
     "metadata": {},
     "output_type": "display_data"
    },
    {
     "name": "stderr",
     "output_type": "stream",
     "text": [
      "/usr/local/lib/python3.8/dist-packages/torchvision/models/_utils.py:208: UserWarning: The parameter 'pretrained' is deprecated since 0.13 and will be removed in 0.15, please use 'weights' instead.\n",
      "  warnings.warn(\n",
      "/usr/local/lib/python3.8/dist-packages/torchvision/models/_utils.py:223: UserWarning: Arguments other than a weight enum or `None` for 'weights' are deprecated since 0.13 and will be removed in 0.15. The current behavior is equivalent to passing `weights=ResNet50_Weights.IMAGENET1K_V1`. You can also use `weights=ResNet50_Weights.DEFAULT` to get the most up-to-date weights.\n",
      "  warnings.warn(msg)\n"
     ]
    },
    {
     "data": {
      "text/html": [
       "<pre style=\"white-space:pre;overflow-x:auto;line-height:normal;font-family:Menlo,'DejaVu Sans Mono',consolas,'Courier New',monospace\">model.learning_rate <span style=\"color: #008080; text-decoration-color: #008080; font-weight: bold\">1e-05</span>\n",
       "</pre>\n"
      ],
      "text/plain": [
       "model.learning_rate \u001b[1;36m1e-05\u001b[0m\n"
      ]
     },
     "metadata": {},
     "output_type": "display_data"
    },
    {
     "data": {
      "text/html": [
       "<pre style=\"white-space:pre;overflow-x:auto;line-height:normal;font-family:Menlo,'DejaVu Sans Mono',consolas,'Courier New',monospace\">model.batch_size <span style=\"color: #008080; text-decoration-color: #008080; font-weight: bold\">64</span>\n",
       "</pre>\n"
      ],
      "text/plain": [
       "model.batch_size \u001b[1;36m64\u001b[0m\n"
      ]
     },
     "metadata": {},
     "output_type": "display_data"
    },
    {
     "data": {
      "text/html": [
       "<pre style=\"white-space:pre;overflow-x:auto;line-height:normal;font-family:Menlo,'DejaVu Sans Mono',consolas,'Courier New',monospace\">model.freeze_backbone <span style=\"color: #ff0000; text-decoration-color: #ff0000; font-style: italic\">False</span>\n",
       "</pre>\n"
      ],
      "text/plain": [
       "model.freeze_backbone \u001b[3;91mFalse\u001b[0m\n"
      ]
     },
     "metadata": {},
     "output_type": "display_data"
    },
    {
     "data": {
      "text/html": [
       "<pre style=\"white-space:pre;overflow-x:auto;line-height:normal;font-family:Menlo,'DejaVu Sans Mono',consolas,'Courier New',monospace\">curr_weights_path \n",
       "<span style=\"color: #800080; text-decoration-color: #800080\">/home/docker/superglue_training/output/train/2024-06-26_superglue_model_evens_finished/weights/</span><span style=\"color: #ff00ff; text-decoration-color: #ff00ff\">best.pt</span>\n",
       "</pre>\n"
      ],
      "text/plain": [
       "curr_weights_path \n",
       "\u001b[35m/home/docker/superglue_training/output/train/2024-06-26_superglue_model_evens_finished/weights/\u001b[0m\u001b[95mbest.pt\u001b[0m\n"
      ]
     },
     "metadata": {},
     "output_type": "display_data"
    },
    {
     "name": "stdout",
     "output_type": "stream",
     "text": [
      "Loaded SuperPoint model\n",
      "Loaded SuperGlue model (\"/home/docker/superglue_training/output/train/2024-06-26_superglue_model_evens_finished/weights/best.pt\" weights)\n"
     ]
    },
    {
     "name": "stderr",
     "output_type": "stream",
     "text": [
      "100%|██████████| 61/61 [00:00<00:00, 168.33it/s]\n"
     ]
    },
    {
     "data": {
      "text/html": [
       "<pre style=\"white-space:pre;overflow-x:auto;line-height:normal;font-family:Menlo,'DejaVu Sans Mono',consolas,'Courier New',monospace\"><span style=\"color: #008000; text-decoration-color: #008000\">Loaded superglue templates </span><span style=\"color: #008000; text-decoration-color: #008000; font-weight: bold\">61</span>\n",
       "</pre>\n"
      ],
      "text/plain": [
       "\u001b[32mLoaded superglue templates \u001b[0m\u001b[1;32m61\u001b[0m\n"
      ]
     },
     "metadata": {},
     "output_type": "display_data"
    }
   ],
   "source": [
    "labelme_importer = LabelMeImporter()\n",
    "\n",
    "from IPython.utils import io\n",
    "\n",
    "# with io.capture_output() as captured:\n"
   ]
  },
  {
   "cell_type": "code",
   "execution_count": 16,
   "metadata": {},
   "outputs": [
    {
     "data": {
      "text/html": [
       "<pre style=\"white-space:pre;overflow-x:auto;line-height:normal;font-family:Menlo,'DejaVu Sans Mono',consolas,'Courier New',monospace\">gt_device qundis\n",
       "</pre>\n"
      ],
      "text/plain": [
       "gt_device qundis\n"
      ]
     },
     "metadata": {},
     "output_type": "display_data"
    },
    {
     "data": {
      "text/html": [
       "<pre style=\"white-space:pre;overflow-x:auto;line-height:normal;font-family:Menlo,'DejaVu Sans Mono',consolas,'Courier New',monospace\"><span style=\"color: #000080; text-decoration-color: #000080\">resetting worksurface detection</span>\n",
       "</pre>\n"
      ],
      "text/plain": [
       "\u001b[34mresetting worksurface detection\u001b[0m\n"
      ]
     },
     "metadata": {},
     "output_type": "display_data"
    },
    {
     "name": "stderr",
     "output_type": "stream",
     "text": [
      "Converting 1:   0%|          | 0/9 [00:00<?, ?it/s]"
     ]
    },
    {
     "data": {
      "text/html": [
       "<pre style=\"white-space:pre;overflow-x:auto;line-height:normal;font-family:Menlo,'DejaVu Sans Mono',consolas,'Courier New',monospace\">filename <span style=\"color: #008080; text-decoration-color: #008080; font-weight: bold\">1.j</span>son\n",
       "</pre>\n"
      ],
      "text/plain": [
       "filename \u001b[1;36m1.j\u001b[0mson\n"
      ]
     },
     "metadata": {},
     "output_type": "display_data"
    },
    {
     "data": {
      "text/html": [
       "<pre style=\"white-space:pre;overflow-x:auto;line-height:normal;font-family:Menlo,'DejaVu Sans Mono',consolas,'Courier New',monospace\">running worksurface detection<span style=\"color: #808000; text-decoration-color: #808000\">...</span>\n",
       "</pre>\n"
      ],
      "text/plain": [
       "running worksurface detection\u001b[33m...\u001b[0m\n"
      ]
     },
     "metadata": {},
     "output_type": "display_data"
    },
    {
     "data": {
      "text/html": [
       "<pre style=\"white-space:pre;overflow-x:auto;line-height:normal;font-family:Menlo,'DejaVu Sans Mono',consolas,'Courier New',monospace\"><span style=\"color: #000080; text-decoration-color: #000080\">camera: basler</span>\n",
       "</pre>\n"
      ],
      "text/plain": [
       "\u001b[34mcamera: basler\u001b[0m\n"
      ]
     },
     "metadata": {},
     "output_type": "display_data"
    },
    {
     "data": {
      "text/html": [
       "<pre style=\"white-space:pre;overflow-x:auto;line-height:normal;font-family:Menlo,'DejaVu Sans Mono',consolas,'Courier New',monospace\">classify: qundis, <span style=\"color: #008080; text-decoration-color: #008080; font-weight: bold\">10</span>, conf: <span style=\"color: #008080; text-decoration-color: #008080; font-weight: bold\">0.99</span>\n",
       "</pre>\n"
      ],
      "text/plain": [
       "classify: qundis, \u001b[1;36m10\u001b[0m, conf: \u001b[1;36m0.99\u001b[0m\n"
      ]
     },
     "metadata": {},
     "output_type": "display_data"
    },
    {
     "data": {
      "text/html": [
       "<pre style=\"white-space:pre;overflow-x:auto;line-height:normal;font-family:Menlo,'DejaVu Sans Mono',consolas,'Courier New',monospace\">elapsed_time_classify_and_rot <span style=\"color: #008080; text-decoration-color: #008080; font-weight: bold\">0.03141404897905886</span>\n",
       "</pre>\n"
      ],
      "text/plain": [
       "elapsed_time_classify_and_rot \u001b[1;36m0.03141404897905886\u001b[0m\n"
      ]
     },
     "metadata": {},
     "output_type": "display_data"
    },
    {
     "data": {
      "text/html": [
       "<pre style=\"white-space:pre;overflow-x:auto;line-height:normal;font-family:Menlo,'DejaVu Sans Mono',consolas,'Courier New',monospace\"><span style=\"color: #800080; text-decoration-color: #800080; font-weight: bold\">len</span><span style=\"font-weight: bold\">(</span>batch_crop_imgs<span style=\"font-weight: bold\">)</span> <span style=\"color: #008080; text-decoration-color: #008080; font-weight: bold\">1</span>\n",
       "</pre>\n"
      ],
      "text/plain": [
       "\u001b[1;35mlen\u001b[0m\u001b[1m(\u001b[0mbatch_crop_imgs\u001b[1m)\u001b[0m \u001b[1;36m1\u001b[0m\n"
      ]
     },
     "metadata": {},
     "output_type": "display_data"
    },
    {
     "data": {
      "text/html": [
       "<pre style=\"white-space:pre;overflow-x:auto;line-height:normal;font-family:Menlo,'DejaVu Sans Mono',consolas,'Courier New',monospace\">qa_path <span style=\"color: #800080; text-decoration-color: #800080\">/home/docker/datasets2/reconcycle/knowledge_graph/data/nodes/qundis/</span><span style=\"color: #ff00ff; text-decoration-color: #ff00ff\">1_qa.json</span>\n",
       "</pre>\n"
      ],
      "text/plain": [
       "qa_path \u001b[35m/home/docker/datasets2/reconcycle/knowledge_graph/data/nodes/qundis/\u001b[0m\u001b[95m1_qa.json\u001b[0m\n"
      ]
     },
     "metadata": {},
     "output_type": "display_data"
    },
    {
     "data": {
      "text/html": [
       "<pre style=\"white-space:pre;overflow-x:auto;line-height:normal;font-family:Menlo,'DejaVu Sans Mono',consolas,'Courier New',monospace\">A_relations: Loose component: hca\n",
       "</pre>\n"
      ],
      "text/plain": [
       "A_relations: Loose component: hca\n"
      ]
     },
     "metadata": {},
     "output_type": "display_data"
    },
    {
     "data": {
      "text/html": [
       "<pre style=\"white-space:pre;overflow-x:auto;line-height:normal;font-family:Menlo,'DejaVu Sans Mono',consolas,'Courier New',monospace\">module vision\n",
       "</pre>\n"
      ],
      "text/plain": [
       "module vision\n"
      ]
     },
     "metadata": {},
     "output_type": "display_data"
    },
    {
     "data": {
      "text/html": [
       "<pre style=\"white-space:pre;overflow-x:auto;line-height:normal;font-family:Menlo,'DejaVu Sans Mono',consolas,'Courier New',monospace\">A_positions: hca front <span style=\"font-weight: bold\">(</span>qundis<span style=\"font-weight: bold\">)</span> at <span style=\"font-weight: bold\">(</span><span style=\"color: #008080; text-decoration-color: #008080; font-weight: bold\">1174</span>, <span style=\"color: #008080; text-decoration-color: #008080; font-weight: bold\">1040</span><span style=\"font-weight: bold\">)</span>. \n",
       "</pre>\n"
      ],
      "text/plain": [
       "A_positions: hca front \u001b[1m(\u001b[0mqundis\u001b[1m)\u001b[0m at \u001b[1m(\u001b[0m\u001b[1;36m1174\u001b[0m, \u001b[1;36m1040\u001b[0m\u001b[1m)\u001b[0m. \n"
      ]
     },
     "metadata": {},
     "output_type": "display_data"
    },
    {
     "data": {
      "text/html": [
       "<pre style=\"white-space:pre;overflow-x:auto;line-height:normal;font-family:Menlo,'DejaVu Sans Mono',consolas,'Courier New',monospace\"><span style=\"color: #000080; text-decoration-color: #000080\">loading file /home/docker/datasets2/reconcycle/knowledge_graph/data/nodes/qundis/1_qa.json</span>\n",
       "</pre>\n"
      ],
      "text/plain": [
       "\u001b[34mloading file \u001b[0m\u001b[34m/home/docker/datasets2/reconcycle/knowledge_graph/data/nodes/qundis/\u001b[0m\u001b[34m1_qa.json\u001b[0m\n"
      ]
     },
     "metadata": {},
     "output_type": "display_data"
    },
    {
     "name": "stdout",
     "output_type": "stream",
     "text": [
      "detection.box [[    0.46359     0.19804]\n",
      " [    0.54249     0.10171]]\n"
     ]
    },
    {
     "data": {
      "text/html": [
       "<pre style=\"white-space:pre;overflow-x:auto;line-height:normal;font-family:Menlo,'DejaVu Sans Mono',consolas,'Courier New',monospace\"><span style=\"color: #000080; text-decoration-color: #000080\">resetting worksurface detection</span>\n",
       "</pre>\n"
      ],
      "text/plain": [
       "\u001b[34mresetting worksurface detection\u001b[0m\n"
      ]
     },
     "metadata": {},
     "output_type": "display_data"
    },
    {
     "name": "stderr",
     "output_type": "stream",
     "text": [
      "Converting 2:  11%|█         | 1/9 [00:00<00:01,  6.43it/s]"
     ]
    },
    {
     "data": {
      "text/html": [
       "<pre style=\"white-space:pre;overflow-x:auto;line-height:normal;font-family:Menlo,'DejaVu Sans Mono',consolas,'Courier New',monospace\">filename <span style=\"color: #008080; text-decoration-color: #008080; font-weight: bold\">2.j</span>son\n",
       "</pre>\n"
      ],
      "text/plain": [
       "filename \u001b[1;36m2.j\u001b[0mson\n"
      ]
     },
     "metadata": {},
     "output_type": "display_data"
    },
    {
     "data": {
      "text/html": [
       "<pre style=\"white-space:pre;overflow-x:auto;line-height:normal;font-family:Menlo,'DejaVu Sans Mono',consolas,'Courier New',monospace\">running worksurface detection<span style=\"color: #808000; text-decoration-color: #808000\">...</span>\n",
       "</pre>\n"
      ],
      "text/plain": [
       "running worksurface detection\u001b[33m...\u001b[0m\n"
      ]
     },
     "metadata": {},
     "output_type": "display_data"
    },
    {
     "data": {
      "text/html": [
       "<pre style=\"white-space:pre;overflow-x:auto;line-height:normal;font-family:Menlo,'DejaVu Sans Mono',consolas,'Courier New',monospace\"><span style=\"color: #000080; text-decoration-color: #000080\">camera: basler</span>\n",
       "</pre>\n"
      ],
      "text/plain": [
       "\u001b[34mcamera: basler\u001b[0m\n"
      ]
     },
     "metadata": {},
     "output_type": "display_data"
    },
    {
     "data": {
      "text/html": [
       "<pre style=\"white-space:pre;overflow-x:auto;line-height:normal;font-family:Menlo,'DejaVu Sans Mono',consolas,'Courier New',monospace\">classify: qundis, <span style=\"color: #008080; text-decoration-color: #008080; font-weight: bold\">10</span>, conf: <span style=\"color: #008080; text-decoration-color: #008080; font-weight: bold\">0.99</span>\n",
       "</pre>\n"
      ],
      "text/plain": [
       "classify: qundis, \u001b[1;36m10\u001b[0m, conf: \u001b[1;36m0.99\u001b[0m\n"
      ]
     },
     "metadata": {},
     "output_type": "display_data"
    },
    {
     "data": {
      "text/html": [
       "<pre style=\"white-space:pre;overflow-x:auto;line-height:normal;font-family:Menlo,'DejaVu Sans Mono',consolas,'Courier New',monospace\">elapsed_time_classify_and_rot <span style=\"color: #008080; text-decoration-color: #008080; font-weight: bold\">0.015239688102155924</span>\n",
       "</pre>\n"
      ],
      "text/plain": [
       "elapsed_time_classify_and_rot \u001b[1;36m0.015239688102155924\u001b[0m\n"
      ]
     },
     "metadata": {},
     "output_type": "display_data"
    },
    {
     "data": {
      "text/html": [
       "<pre style=\"white-space:pre;overflow-x:auto;line-height:normal;font-family:Menlo,'DejaVu Sans Mono',consolas,'Courier New',monospace\"><span style=\"color: #800080; text-decoration-color: #800080; font-weight: bold\">len</span><span style=\"font-weight: bold\">(</span>batch_crop_imgs<span style=\"font-weight: bold\">)</span> <span style=\"color: #008080; text-decoration-color: #008080; font-weight: bold\">1</span>\n",
       "</pre>\n"
      ],
      "text/plain": [
       "\u001b[1;35mlen\u001b[0m\u001b[1m(\u001b[0mbatch_crop_imgs\u001b[1m)\u001b[0m \u001b[1;36m1\u001b[0m\n"
      ]
     },
     "metadata": {},
     "output_type": "display_data"
    },
    {
     "data": {
      "text/html": [
       "<pre style=\"white-space:pre;overflow-x:auto;line-height:normal;font-family:Menlo,'DejaVu Sans Mono',consolas,'Courier New',monospace\">qa_path <span style=\"color: #800080; text-decoration-color: #800080\">/home/docker/datasets2/reconcycle/knowledge_graph/data/nodes/qundis/</span><span style=\"color: #ff00ff; text-decoration-color: #ff00ff\">2_qa.json</span>\n",
       "</pre>\n"
      ],
      "text/plain": [
       "qa_path \u001b[35m/home/docker/datasets2/reconcycle/knowledge_graph/data/nodes/qundis/\u001b[0m\u001b[95m2_qa.json\u001b[0m\n"
      ]
     },
     "metadata": {},
     "output_type": "display_data"
    },
    {
     "data": {
      "text/html": [
       "<pre style=\"white-space:pre;overflow-x:auto;line-height:normal;font-family:Menlo,'DejaVu Sans Mono',consolas,'Courier New',monospace\">A_relations: Device <span style=\"color: #008080; text-decoration-color: #008080; font-weight: bold\">1</span>: pcb_covered in hca, plastic_clip in hca, pcb_covered next to plastic_clip. \n",
       "</pre>\n"
      ],
      "text/plain": [
       "A_relations: Device \u001b[1;36m1\u001b[0m: pcb_covered in hca, plastic_clip in hca, pcb_covered next to plastic_clip. \n"
      ]
     },
     "metadata": {},
     "output_type": "display_data"
    },
    {
     "data": {
      "text/html": [
       "<pre style=\"white-space:pre;overflow-x:auto;line-height:normal;font-family:Menlo,'DejaVu Sans Mono',consolas,'Courier New',monospace\">module vision\n",
       "</pre>\n"
      ],
      "text/plain": [
       "module vision\n"
      ]
     },
     "metadata": {},
     "output_type": "display_data"
    },
    {
     "data": {
      "text/html": [
       "<pre style=\"white-space:pre;overflow-x:auto;line-height:normal;font-family:Menlo,'DejaVu Sans Mono',consolas,'Courier New',monospace\">A_positions: hca back <span style=\"font-weight: bold\">(</span>qundis<span style=\"font-weight: bold\">)</span> at <span style=\"font-weight: bold\">(</span><span style=\"color: #008080; text-decoration-color: #008080; font-weight: bold\">734</span>, <span style=\"color: #008080; text-decoration-color: #008080; font-weight: bold\">659</span><span style=\"font-weight: bold\">)</span>, pcb_covered at <span style=\"font-weight: bold\">(</span><span style=\"color: #008080; text-decoration-color: #008080; font-weight: bold\">743</span>, <span style=\"color: #008080; text-decoration-color: #008080; font-weight: bold\">662</span><span style=\"font-weight: bold\">)</span>, plastic_clip at <span style=\"font-weight: bold\">(</span><span style=\"color: #008080; text-decoration-color: #008080; font-weight: bold\">821</span>, <span style=\"color: #008080; text-decoration-color: #008080; font-weight: bold\">690</span><span style=\"font-weight: bold\">)</span>. \n",
       "</pre>\n"
      ],
      "text/plain": [
       "A_positions: hca back \u001b[1m(\u001b[0mqundis\u001b[1m)\u001b[0m at \u001b[1m(\u001b[0m\u001b[1;36m734\u001b[0m, \u001b[1;36m659\u001b[0m\u001b[1m)\u001b[0m, pcb_covered at \u001b[1m(\u001b[0m\u001b[1;36m743\u001b[0m, \u001b[1;36m662\u001b[0m\u001b[1m)\u001b[0m, plastic_clip at \u001b[1m(\u001b[0m\u001b[1;36m821\u001b[0m, \u001b[1;36m690\u001b[0m\u001b[1m)\u001b[0m. \n"
      ]
     },
     "metadata": {},
     "output_type": "display_data"
    },
    {
     "data": {
      "text/html": [
       "<pre style=\"white-space:pre;overflow-x:auto;line-height:normal;font-family:Menlo,'DejaVu Sans Mono',consolas,'Courier New',monospace\"><span style=\"color: #000080; text-decoration-color: #000080\">loading file /home/docker/datasets2/reconcycle/knowledge_graph/data/nodes/qundis/2_qa.json</span>\n",
       "</pre>\n"
      ],
      "text/plain": [
       "\u001b[34mloading file \u001b[0m\u001b[34m/home/docker/datasets2/reconcycle/knowledge_graph/data/nodes/qundis/\u001b[0m\u001b[34m2_qa.json\u001b[0m\n"
      ]
     },
     "metadata": {},
     "output_type": "display_data"
    },
    {
     "name": "stdout",
     "output_type": "stream",
     "text": [
      "detection.box [[    0.26232      0.3564]\n",
      " [    0.35882      0.2879]]\n",
      "detection.box [[    0.28174     0.34598]\n",
      " [    0.34999     0.29244]]\n",
      "detection.box [[    0.33923     0.32407]\n",
      " [    0.35442      0.2915]]\n"
     ]
    },
    {
     "data": {
      "text/html": [
       "<pre style=\"white-space:pre;overflow-x:auto;line-height:normal;font-family:Menlo,'DejaVu Sans Mono',consolas,'Courier New',monospace\"><span style=\"color: #000080; text-decoration-color: #000080\">resetting worksurface detection</span>\n",
       "</pre>\n"
      ],
      "text/plain": [
       "\u001b[34mresetting worksurface detection\u001b[0m\n"
      ]
     },
     "metadata": {},
     "output_type": "display_data"
    },
    {
     "name": "stderr",
     "output_type": "stream",
     "text": [
      "Converting 3:  22%|██▏       | 2/9 [00:00<00:01,  6.63it/s]"
     ]
    },
    {
     "data": {
      "text/html": [
       "<pre style=\"white-space:pre;overflow-x:auto;line-height:normal;font-family:Menlo,'DejaVu Sans Mono',consolas,'Courier New',monospace\">filename <span style=\"color: #008080; text-decoration-color: #008080; font-weight: bold\">3.j</span>son\n",
       "</pre>\n"
      ],
      "text/plain": [
       "filename \u001b[1;36m3.j\u001b[0mson\n"
      ]
     },
     "metadata": {},
     "output_type": "display_data"
    },
    {
     "data": {
      "text/html": [
       "<pre style=\"white-space:pre;overflow-x:auto;line-height:normal;font-family:Menlo,'DejaVu Sans Mono',consolas,'Courier New',monospace\">running worksurface detection<span style=\"color: #808000; text-decoration-color: #808000\">...</span>\n",
       "</pre>\n"
      ],
      "text/plain": [
       "running worksurface detection\u001b[33m...\u001b[0m\n"
      ]
     },
     "metadata": {},
     "output_type": "display_data"
    },
    {
     "data": {
      "text/html": [
       "<pre style=\"white-space:pre;overflow-x:auto;line-height:normal;font-family:Menlo,'DejaVu Sans Mono',consolas,'Courier New',monospace\"><span style=\"color: #800000; text-decoration-color: #800000\">Max error in work surface position is: </span><span style=\"color: #800000; text-decoration-color: #800000; font-weight: bold\">0.04864922589734456</span>\n",
       "</pre>\n"
      ],
      "text/plain": [
       "\u001b[31mMax error in work surface position is: \u001b[0m\u001b[1;31m0.04864922589734456\u001b[0m\n"
      ]
     },
     "metadata": {},
     "output_type": "display_data"
    },
    {
     "data": {
      "text/html": [
       "<pre style=\"white-space:pre;overflow-x:auto;line-height:normal;font-family:Menlo,'DejaVu Sans Mono',consolas,'Courier New',monospace\"><span style=\"color: #000080; text-decoration-color: #000080\">camera: basler</span>\n",
       "</pre>\n"
      ],
      "text/plain": [
       "\u001b[34mcamera: basler\u001b[0m\n"
      ]
     },
     "metadata": {},
     "output_type": "display_data"
    },
    {
     "data": {
      "text/html": [
       "<pre style=\"white-space:pre;overflow-x:auto;line-height:normal;font-family:Menlo,'DejaVu Sans Mono',consolas,'Courier New',monospace\">classify: qundis, <span style=\"color: #008080; text-decoration-color: #008080; font-weight: bold\">10</span>, conf: <span style=\"color: #008080; text-decoration-color: #008080; font-weight: bold\">0.61</span>\n",
       "</pre>\n"
      ],
      "text/plain": [
       "classify: qundis, \u001b[1;36m10\u001b[0m, conf: \u001b[1;36m0.61\u001b[0m\n"
      ]
     },
     "metadata": {},
     "output_type": "display_data"
    },
    {
     "data": {
      "text/html": [
       "<pre style=\"white-space:pre;overflow-x:auto;line-height:normal;font-family:Menlo,'DejaVu Sans Mono',consolas,'Courier New',monospace\">elapsed_time_classify_and_rot <span style=\"color: #008080; text-decoration-color: #008080; font-weight: bold\">0.01484242407605052</span>\n",
       "</pre>\n"
      ],
      "text/plain": [
       "elapsed_time_classify_and_rot \u001b[1;36m0.01484242407605052\u001b[0m\n"
      ]
     },
     "metadata": {},
     "output_type": "display_data"
    },
    {
     "data": {
      "text/html": [
       "<pre style=\"white-space:pre;overflow-x:auto;line-height:normal;font-family:Menlo,'DejaVu Sans Mono',consolas,'Courier New',monospace\"><span style=\"color: #800080; text-decoration-color: #800080; font-weight: bold\">len</span><span style=\"font-weight: bold\">(</span>batch_crop_imgs<span style=\"font-weight: bold\">)</span> <span style=\"color: #008080; text-decoration-color: #008080; font-weight: bold\">1</span>\n",
       "</pre>\n"
      ],
      "text/plain": [
       "\u001b[1;35mlen\u001b[0m\u001b[1m(\u001b[0mbatch_crop_imgs\u001b[1m)\u001b[0m \u001b[1;36m1\u001b[0m\n"
      ]
     },
     "metadata": {},
     "output_type": "display_data"
    },
    {
     "data": {
      "text/html": [
       "<pre style=\"white-space:pre;overflow-x:auto;line-height:normal;font-family:Menlo,'DejaVu Sans Mono',consolas,'Courier New',monospace\">qa_path <span style=\"color: #800080; text-decoration-color: #800080\">/home/docker/datasets2/reconcycle/knowledge_graph/data/nodes/qundis/</span><span style=\"color: #ff00ff; text-decoration-color: #ff00ff\">3_qa.json</span>\n",
       "</pre>\n"
      ],
      "text/plain": [
       "qa_path \u001b[35m/home/docker/datasets2/reconcycle/knowledge_graph/data/nodes/qundis/\u001b[0m\u001b[95m3_qa.json\u001b[0m\n"
      ]
     },
     "metadata": {},
     "output_type": "display_data"
    },
    {
     "data": {
      "text/html": [
       "<pre style=\"white-space:pre;overflow-x:auto;line-height:normal;font-family:Menlo,'DejaVu Sans Mono',consolas,'Courier New',monospace\">A_relations: Device <span style=\"color: #008080; text-decoration-color: #008080; font-weight: bold\">1</span>: pcb_covered in hca, plastic_clip in hca, pcb_covered next to plastic_clip. \n",
       "</pre>\n"
      ],
      "text/plain": [
       "A_relations: Device \u001b[1;36m1\u001b[0m: pcb_covered in hca, plastic_clip in hca, pcb_covered next to plastic_clip. \n"
      ]
     },
     "metadata": {},
     "output_type": "display_data"
    },
    {
     "data": {
      "text/html": [
       "<pre style=\"white-space:pre;overflow-x:auto;line-height:normal;font-family:Menlo,'DejaVu Sans Mono',consolas,'Courier New',monospace\">module vise\n",
       "</pre>\n"
      ],
      "text/plain": [
       "module vise\n"
      ]
     },
     "metadata": {},
     "output_type": "display_data"
    },
    {
     "data": {
      "text/html": [
       "<pre style=\"white-space:pre;overflow-x:auto;line-height:normal;font-family:Menlo,'DejaVu Sans Mono',consolas,'Courier New',monospace\">A_positions: hca back <span style=\"font-weight: bold\">(</span>qundis<span style=\"font-weight: bold\">)</span> at <span style=\"font-weight: bold\">(</span><span style=\"color: #008080; text-decoration-color: #008080; font-weight: bold\">577</span>, <span style=\"color: #008080; text-decoration-color: #008080; font-weight: bold\">670</span><span style=\"font-weight: bold\">)</span>, pcb_covered at <span style=\"font-weight: bold\">(</span><span style=\"color: #008080; text-decoration-color: #008080; font-weight: bold\">575</span>, <span style=\"color: #008080; text-decoration-color: #008080; font-weight: bold\">660</span><span style=\"font-weight: bold\">)</span>, plastic_clip at <span style=\"font-weight: bold\">(</span><span style=\"color: #008080; text-decoration-color: #008080; font-weight: bold\">572</span>, <span style=\"color: #008080; text-decoration-color: #008080; font-weight: bold\">571</span><span style=\"font-weight: bold\">)</span>. \n",
       "</pre>\n"
      ],
      "text/plain": [
       "A_positions: hca back \u001b[1m(\u001b[0mqundis\u001b[1m)\u001b[0m at \u001b[1m(\u001b[0m\u001b[1;36m577\u001b[0m, \u001b[1;36m670\u001b[0m\u001b[1m)\u001b[0m, pcb_covered at \u001b[1m(\u001b[0m\u001b[1;36m575\u001b[0m, \u001b[1;36m660\u001b[0m\u001b[1m)\u001b[0m, plastic_clip at \u001b[1m(\u001b[0m\u001b[1;36m572\u001b[0m, \u001b[1;36m571\u001b[0m\u001b[1m)\u001b[0m. \n"
      ]
     },
     "metadata": {},
     "output_type": "display_data"
    },
    {
     "data": {
      "text/html": [
       "<pre style=\"white-space:pre;overflow-x:auto;line-height:normal;font-family:Menlo,'DejaVu Sans Mono',consolas,'Courier New',monospace\"><span style=\"color: #000080; text-decoration-color: #000080\">loading file /home/docker/datasets2/reconcycle/knowledge_graph/data/nodes/qundis/3_qa.json</span>\n",
       "</pre>\n"
      ],
      "text/plain": [
       "\u001b[34mloading file \u001b[0m\u001b[34m/home/docker/datasets2/reconcycle/knowledge_graph/data/nodes/qundis/\u001b[0m\u001b[34m3_qa.json\u001b[0m\n"
      ]
     },
     "metadata": {},
     "output_type": "display_data"
    },
    {
     "name": "stdout",
     "output_type": "stream",
     "text": [
      "detection.box [[    0.21227     0.37447]\n",
      " [    0.25976     0.27504]]\n",
      "detection.box [[    0.21471     0.36459]\n",
      " [    0.25579     0.29395]]\n",
      "detection.box [[    0.21729     0.37208]\n",
      " [    0.25327     0.36639]]\n"
     ]
    },
    {
     "data": {
      "text/html": [
       "<pre style=\"white-space:pre;overflow-x:auto;line-height:normal;font-family:Menlo,'DejaVu Sans Mono',consolas,'Courier New',monospace\"><span style=\"color: #000080; text-decoration-color: #000080\">resetting worksurface detection</span>\n",
       "</pre>\n"
      ],
      "text/plain": [
       "\u001b[34mresetting worksurface detection\u001b[0m\n"
      ]
     },
     "metadata": {},
     "output_type": "display_data"
    },
    {
     "name": "stderr",
     "output_type": "stream",
     "text": [
      "Converting 4:  33%|███▎      | 3/9 [00:00<00:00,  6.42it/s]"
     ]
    },
    {
     "data": {
      "text/html": [
       "<pre style=\"white-space:pre;overflow-x:auto;line-height:normal;font-family:Menlo,'DejaVu Sans Mono',consolas,'Courier New',monospace\">filename <span style=\"color: #008080; text-decoration-color: #008080; font-weight: bold\">4.j</span>son\n",
       "</pre>\n"
      ],
      "text/plain": [
       "filename \u001b[1;36m4.j\u001b[0mson\n"
      ]
     },
     "metadata": {},
     "output_type": "display_data"
    },
    {
     "data": {
      "text/html": [
       "<pre style=\"white-space:pre;overflow-x:auto;line-height:normal;font-family:Menlo,'DejaVu Sans Mono',consolas,'Courier New',monospace\">running worksurface detection<span style=\"color: #808000; text-decoration-color: #808000\">...</span>\n",
       "</pre>\n"
      ],
      "text/plain": [
       "running worksurface detection\u001b[33m...\u001b[0m\n"
      ]
     },
     "metadata": {},
     "output_type": "display_data"
    },
    {
     "data": {
      "text/html": [
       "<pre style=\"white-space:pre;overflow-x:auto;line-height:normal;font-family:Menlo,'DejaVu Sans Mono',consolas,'Courier New',monospace\"><span style=\"color: #800000; text-decoration-color: #800000\">Max error in work surface position is: </span><span style=\"color: #800000; text-decoration-color: #800000; font-weight: bold\">0.027098556974763707</span>\n",
       "</pre>\n"
      ],
      "text/plain": [
       "\u001b[31mMax error in work surface position is: \u001b[0m\u001b[1;31m0.027098556974763707\u001b[0m\n"
      ]
     },
     "metadata": {},
     "output_type": "display_data"
    },
    {
     "data": {
      "text/html": [
       "<pre style=\"white-space:pre;overflow-x:auto;line-height:normal;font-family:Menlo,'DejaVu Sans Mono',consolas,'Courier New',monospace\"><span style=\"color: #000080; text-decoration-color: #000080\">camera: basler</span>\n",
       "</pre>\n"
      ],
      "text/plain": [
       "\u001b[34mcamera: basler\u001b[0m\n"
      ]
     },
     "metadata": {},
     "output_type": "display_data"
    },
    {
     "data": {
      "text/html": [
       "<pre style=\"white-space:pre;overflow-x:auto;line-height:normal;font-family:Menlo,'DejaVu Sans Mono',consolas,'Courier New',monospace\">classify: qundis, <span style=\"color: #008080; text-decoration-color: #008080; font-weight: bold\">10</span>, conf: <span style=\"color: #008080; text-decoration-color: #008080; font-weight: bold\">0.42</span>\n",
       "</pre>\n"
      ],
      "text/plain": [
       "classify: qundis, \u001b[1;36m10\u001b[0m, conf: \u001b[1;36m0.42\u001b[0m\n"
      ]
     },
     "metadata": {},
     "output_type": "display_data"
    },
    {
     "data": {
      "text/html": [
       "<pre style=\"white-space:pre;overflow-x:auto;line-height:normal;font-family:Menlo,'DejaVu Sans Mono',consolas,'Courier New',monospace\">elapsed_time_classify_and_rot <span style=\"color: #008080; text-decoration-color: #008080; font-weight: bold\">0.01495603914372623</span>\n",
       "</pre>\n"
      ],
      "text/plain": [
       "elapsed_time_classify_and_rot \u001b[1;36m0.01495603914372623\u001b[0m\n"
      ]
     },
     "metadata": {},
     "output_type": "display_data"
    },
    {
     "data": {
      "text/html": [
       "<pre style=\"white-space:pre;overflow-x:auto;line-height:normal;font-family:Menlo,'DejaVu Sans Mono',consolas,'Courier New',monospace\"><span style=\"color: #800080; text-decoration-color: #800080; font-weight: bold\">len</span><span style=\"font-weight: bold\">(</span>batch_crop_imgs<span style=\"font-weight: bold\">)</span> <span style=\"color: #008080; text-decoration-color: #008080; font-weight: bold\">1</span>\n",
       "</pre>\n"
      ],
      "text/plain": [
       "\u001b[1;35mlen\u001b[0m\u001b[1m(\u001b[0mbatch_crop_imgs\u001b[1m)\u001b[0m \u001b[1;36m1\u001b[0m\n"
      ]
     },
     "metadata": {},
     "output_type": "display_data"
    },
    {
     "data": {
      "text/html": [
       "<pre style=\"white-space:pre;overflow-x:auto;line-height:normal;font-family:Menlo,'DejaVu Sans Mono',consolas,'Courier New',monospace\">qa_path <span style=\"color: #800080; text-decoration-color: #800080\">/home/docker/datasets2/reconcycle/knowledge_graph/data/nodes/qundis/</span><span style=\"color: #ff00ff; text-decoration-color: #ff00ff\">4_qa.json</span>\n",
       "</pre>\n"
      ],
      "text/plain": [
       "qa_path \u001b[35m/home/docker/datasets2/reconcycle/knowledge_graph/data/nodes/qundis/\u001b[0m\u001b[95m4_qa.json\u001b[0m\n"
      ]
     },
     "metadata": {},
     "output_type": "display_data"
    },
    {
     "data": {
      "text/html": [
       "<pre style=\"white-space:pre;overflow-x:auto;line-height:normal;font-family:Menlo,'DejaVu Sans Mono',consolas,'Courier New',monospace\">A_relations: Device <span style=\"color: #008080; text-decoration-color: #008080; font-weight: bold\">1</span>: pcb_covered in hca, gap in hca, gap next to pcb_covered. \n",
       "</pre>\n"
      ],
      "text/plain": [
       "A_relations: Device \u001b[1;36m1\u001b[0m: pcb_covered in hca, gap in hca, gap next to pcb_covered. \n"
      ]
     },
     "metadata": {},
     "output_type": "display_data"
    },
    {
     "data": {
      "text/html": [
       "<pre style=\"white-space:pre;overflow-x:auto;line-height:normal;font-family:Menlo,'DejaVu Sans Mono',consolas,'Courier New',monospace\">module vise\n",
       "</pre>\n"
      ],
      "text/plain": [
       "module vise\n"
      ]
     },
     "metadata": {},
     "output_type": "display_data"
    },
    {
     "data": {
      "text/html": [
       "<pre style=\"white-space:pre;overflow-x:auto;line-height:normal;font-family:Menlo,'DejaVu Sans Mono',consolas,'Courier New',monospace\">A_positions: hca back <span style=\"font-weight: bold\">(</span>qundis<span style=\"font-weight: bold\">)</span> at <span style=\"font-weight: bold\">(</span><span style=\"color: #008080; text-decoration-color: #008080; font-weight: bold\">649</span>, <span style=\"color: #008080; text-decoration-color: #008080; font-weight: bold\">627</span><span style=\"font-weight: bold\">)</span>, pcb_covered at <span style=\"font-weight: bold\">(</span><span style=\"color: #008080; text-decoration-color: #008080; font-weight: bold\">649</span>, <span style=\"color: #008080; text-decoration-color: #008080; font-weight: bold\">615</span><span style=\"font-weight: bold\">)</span>, gap at <span style=\"font-weight: bold\">(</span><span style=\"color: #008080; text-decoration-color: #008080; font-weight: bold\">649</span>, <span style=\"color: #008080; text-decoration-color: #008080; font-weight: bold\">528</span><span style=\"font-weight: bold\">)</span>. \n",
       "</pre>\n"
      ],
      "text/plain": [
       "A_positions: hca back \u001b[1m(\u001b[0mqundis\u001b[1m)\u001b[0m at \u001b[1m(\u001b[0m\u001b[1;36m649\u001b[0m, \u001b[1;36m627\u001b[0m\u001b[1m)\u001b[0m, pcb_covered at \u001b[1m(\u001b[0m\u001b[1;36m649\u001b[0m, \u001b[1;36m615\u001b[0m\u001b[1m)\u001b[0m, gap at \u001b[1m(\u001b[0m\u001b[1;36m649\u001b[0m, \u001b[1;36m528\u001b[0m\u001b[1m)\u001b[0m. \n"
      ]
     },
     "metadata": {},
     "output_type": "display_data"
    },
    {
     "data": {
      "text/html": [
       "<pre style=\"white-space:pre;overflow-x:auto;line-height:normal;font-family:Menlo,'DejaVu Sans Mono',consolas,'Courier New',monospace\"><span style=\"color: #000080; text-decoration-color: #000080\">loading file /home/docker/datasets2/reconcycle/knowledge_graph/data/nodes/qundis/4_qa.json</span>\n",
       "</pre>\n"
      ],
      "text/plain": [
       "\u001b[34mloading file \u001b[0m\u001b[34m/home/docker/datasets2/reconcycle/knowledge_graph/data/nodes/qundis/\u001b[0m\u001b[34m4_qa.json\u001b[0m\n"
      ]
     },
     "metadata": {},
     "output_type": "display_data"
    },
    {
     "name": "stdout",
     "output_type": "stream",
     "text": [
      "detection.box [[    0.21332     0.40911]\n",
      " [    0.25994     0.30531]]\n",
      "detection.box [[    0.21612     0.39939]\n",
      " [    0.25667     0.32614]]\n",
      "detection.box [[    0.21658     0.40679]\n",
      " [    0.25662     0.39833]]\n"
     ]
    },
    {
     "data": {
      "text/html": [
       "<pre style=\"white-space:pre;overflow-x:auto;line-height:normal;font-family:Menlo,'DejaVu Sans Mono',consolas,'Courier New',monospace\"><span style=\"color: #000080; text-decoration-color: #000080\">resetting worksurface detection</span>\n",
       "</pre>\n"
      ],
      "text/plain": [
       "\u001b[34mresetting worksurface detection\u001b[0m\n"
      ]
     },
     "metadata": {},
     "output_type": "display_data"
    },
    {
     "name": "stderr",
     "output_type": "stream",
     "text": [
      "Converting 5:  44%|████▍     | 4/9 [00:00<00:00,  6.31it/s]"
     ]
    },
    {
     "data": {
      "text/html": [
       "<pre style=\"white-space:pre;overflow-x:auto;line-height:normal;font-family:Menlo,'DejaVu Sans Mono',consolas,'Courier New',monospace\">filename <span style=\"color: #008080; text-decoration-color: #008080; font-weight: bold\">5.j</span>son\n",
       "</pre>\n"
      ],
      "text/plain": [
       "filename \u001b[1;36m5.j\u001b[0mson\n"
      ]
     },
     "metadata": {},
     "output_type": "display_data"
    },
    {
     "data": {
      "text/html": [
       "<pre style=\"white-space:pre;overflow-x:auto;line-height:normal;font-family:Menlo,'DejaVu Sans Mono',consolas,'Courier New',monospace\">running worksurface detection<span style=\"color: #808000; text-decoration-color: #808000\">...</span>\n",
       "</pre>\n"
      ],
      "text/plain": [
       "running worksurface detection\u001b[33m...\u001b[0m\n"
      ]
     },
     "metadata": {},
     "output_type": "display_data"
    },
    {
     "data": {
      "text/html": [
       "<pre style=\"white-space:pre;overflow-x:auto;line-height:normal;font-family:Menlo,'DejaVu Sans Mono',consolas,'Courier New',monospace\"><span style=\"color: #000080; text-decoration-color: #000080\">camera: basler</span>\n",
       "</pre>\n"
      ],
      "text/plain": [
       "\u001b[34mcamera: basler\u001b[0m\n"
      ]
     },
     "metadata": {},
     "output_type": "display_data"
    },
    {
     "data": {
      "text/html": [
       "<pre style=\"white-space:pre;overflow-x:auto;line-height:normal;font-family:Menlo,'DejaVu Sans Mono',consolas,'Courier New',monospace\"><span style=\"color: #800080; text-decoration-color: #800080; font-weight: bold\">len</span><span style=\"font-weight: bold\">(</span>batch_crop_imgs<span style=\"font-weight: bold\">)</span> <span style=\"color: #008080; text-decoration-color: #008080; font-weight: bold\">1</span>\n",
       "</pre>\n"
      ],
      "text/plain": [
       "\u001b[1;35mlen\u001b[0m\u001b[1m(\u001b[0mbatch_crop_imgs\u001b[1m)\u001b[0m \u001b[1;36m1\u001b[0m\n"
      ]
     },
     "metadata": {},
     "output_type": "display_data"
    },
    {
     "data": {
      "text/html": [
       "<pre style=\"white-space:pre;overflow-x:auto;line-height:normal;font-family:Menlo,'DejaVu Sans Mono',consolas,'Courier New',monospace\">qa_path <span style=\"color: #800080; text-decoration-color: #800080\">/home/docker/datasets2/reconcycle/knowledge_graph/data/nodes/qundis/</span><span style=\"color: #ff00ff; text-decoration-color: #ff00ff\">5_qa.json</span>\n",
       "</pre>\n"
      ],
      "text/plain": [
       "qa_path \u001b[35m/home/docker/datasets2/reconcycle/knowledge_graph/data/nodes/qundis/\u001b[0m\u001b[95m5_qa.json\u001b[0m\n"
      ]
     },
     "metadata": {},
     "output_type": "display_data"
    },
    {
     "data": {
      "text/html": [
       "<pre style=\"white-space:pre;overflow-x:auto;line-height:normal;font-family:Menlo,'DejaVu Sans Mono',consolas,'Courier New',monospace\">A_relations: Device <span style=\"color: #008080; text-decoration-color: #008080; font-weight: bold\">1</span>: battery next to pcb_covered. Loose components: hca_empty, plastic_clip\n",
       "</pre>\n"
      ],
      "text/plain": [
       "A_relations: Device \u001b[1;36m1\u001b[0m: battery next to pcb_covered. Loose components: hca_empty, plastic_clip\n"
      ]
     },
     "metadata": {},
     "output_type": "display_data"
    },
    {
     "data": {
      "text/html": [
       "<pre style=\"white-space:pre;overflow-x:auto;line-height:normal;font-family:Menlo,'DejaVu Sans Mono',consolas,'Courier New',monospace\">module vise\n",
       "</pre>\n"
      ],
      "text/plain": [
       "module vise\n"
      ]
     },
     "metadata": {},
     "output_type": "display_data"
    },
    {
     "data": {
      "text/html": [
       "<pre style=\"white-space:pre;overflow-x:auto;line-height:normal;font-family:Menlo,'DejaVu Sans Mono',consolas,'Courier New',monospace\">A_positions: hca_empty back at <span style=\"font-weight: bold\">(</span><span style=\"color: #008080; text-decoration-color: #008080; font-weight: bold\">602</span>, <span style=\"color: #008080; text-decoration-color: #008080; font-weight: bold\">560</span><span style=\"font-weight: bold\">)</span>, battery at <span style=\"font-weight: bold\">(</span><span style=\"color: #008080; text-decoration-color: #008080; font-weight: bold\">995</span>, <span style=\"color: #008080; text-decoration-color: #008080; font-weight: bold\">524</span><span style=\"font-weight: bold\">)</span>, pcb_covered at <span style=\"font-weight: bold\">(</span><span style=\"color: #008080; text-decoration-color: #008080; font-weight: bold\">1072</span>, <span style=\"color: #008080; text-decoration-color: #008080; font-weight: bold\">502</span><span style=\"font-weight: bold\">)</span>, plastic_clip at <span style=\"font-weight: bold\">(</span><span style=\"color: #008080; text-decoration-color: #008080; font-weight: bold\">997</span>,\n",
       "<span style=\"color: #008080; text-decoration-color: #008080; font-weight: bold\">737</span><span style=\"font-weight: bold\">)</span>. \n",
       "</pre>\n"
      ],
      "text/plain": [
       "A_positions: hca_empty back at \u001b[1m(\u001b[0m\u001b[1;36m602\u001b[0m, \u001b[1;36m560\u001b[0m\u001b[1m)\u001b[0m, battery at \u001b[1m(\u001b[0m\u001b[1;36m995\u001b[0m, \u001b[1;36m524\u001b[0m\u001b[1m)\u001b[0m, pcb_covered at \u001b[1m(\u001b[0m\u001b[1;36m1072\u001b[0m, \u001b[1;36m502\u001b[0m\u001b[1m)\u001b[0m, plastic_clip at \u001b[1m(\u001b[0m\u001b[1;36m997\u001b[0m,\n",
       "\u001b[1;36m737\u001b[0m\u001b[1m)\u001b[0m. \n"
      ]
     },
     "metadata": {},
     "output_type": "display_data"
    },
    {
     "data": {
      "text/html": [
       "<pre style=\"white-space:pre;overflow-x:auto;line-height:normal;font-family:Menlo,'DejaVu Sans Mono',consolas,'Courier New',monospace\"><span style=\"color: #000080; text-decoration-color: #000080\">loading file /home/docker/datasets2/reconcycle/knowledge_graph/data/nodes/qundis/5_qa.json</span>\n",
       "</pre>\n"
      ],
      "text/plain": [
       "\u001b[34mloading file \u001b[0m\u001b[34m/home/docker/datasets2/reconcycle/knowledge_graph/data/nodes/qundis/\u001b[0m\u001b[34m5_qa.json\u001b[0m\n"
      ]
     },
     "metadata": {},
     "output_type": "display_data"
    },
    {
     "name": "stdout",
     "output_type": "stream",
     "text": [
      "detection.box [[    0.20828     0.41956]\n",
      " [    0.26006     0.31558]]\n",
      "detection.box [[    0.40201     0.40534]\n",
      " [    0.42583     0.37098]]\n",
      "detection.box [[    0.41718     0.42086]\n",
      " [    0.48157      0.3769]]\n",
      "detection.box [[    0.40239     0.30426]\n",
      " [    0.43022     0.27414]]\n"
     ]
    },
    {
     "data": {
      "text/html": [
       "<pre style=\"white-space:pre;overflow-x:auto;line-height:normal;font-family:Menlo,'DejaVu Sans Mono',consolas,'Courier New',monospace\"><span style=\"color: #000080; text-decoration-color: #000080\">resetting worksurface detection</span>\n",
       "</pre>\n"
      ],
      "text/plain": [
       "\u001b[34mresetting worksurface detection\u001b[0m\n"
      ]
     },
     "metadata": {},
     "output_type": "display_data"
    },
    {
     "name": "stderr",
     "output_type": "stream",
     "text": [
      "Converting 5_1:  56%|█████▌    | 5/9 [00:00<00:00,  6.29it/s]"
     ]
    },
    {
     "data": {
      "text/html": [
       "<pre style=\"white-space:pre;overflow-x:auto;line-height:normal;font-family:Menlo,'DejaVu Sans Mono',consolas,'Courier New',monospace\">filename 5_1.json\n",
       "</pre>\n"
      ],
      "text/plain": [
       "filename 5_1.json\n"
      ]
     },
     "metadata": {},
     "output_type": "display_data"
    },
    {
     "data": {
      "text/html": [
       "<pre style=\"white-space:pre;overflow-x:auto;line-height:normal;font-family:Menlo,'DejaVu Sans Mono',consolas,'Courier New',monospace\">running worksurface detection<span style=\"color: #808000; text-decoration-color: #808000\">...</span>\n",
       "</pre>\n"
      ],
      "text/plain": [
       "running worksurface detection\u001b[33m...\u001b[0m\n"
      ]
     },
     "metadata": {},
     "output_type": "display_data"
    },
    {
     "data": {
      "text/html": [
       "<pre style=\"white-space:pre;overflow-x:auto;line-height:normal;font-family:Menlo,'DejaVu Sans Mono',consolas,'Courier New',monospace\"><span style=\"color: #000080; text-decoration-color: #000080\">camera: basler</span>\n",
       "</pre>\n"
      ],
      "text/plain": [
       "\u001b[34mcamera: basler\u001b[0m\n"
      ]
     },
     "metadata": {},
     "output_type": "display_data"
    },
    {
     "data": {
      "text/html": [
       "<pre style=\"white-space:pre;overflow-x:auto;line-height:normal;font-family:Menlo,'DejaVu Sans Mono',consolas,'Courier New',monospace\"><span style=\"color: #800080; text-decoration-color: #800080; font-weight: bold\">len</span><span style=\"font-weight: bold\">(</span>batch_crop_imgs<span style=\"font-weight: bold\">)</span> <span style=\"color: #008080; text-decoration-color: #008080; font-weight: bold\">1</span>\n",
       "</pre>\n"
      ],
      "text/plain": [
       "\u001b[1;35mlen\u001b[0m\u001b[1m(\u001b[0mbatch_crop_imgs\u001b[1m)\u001b[0m \u001b[1;36m1\u001b[0m\n"
      ]
     },
     "metadata": {},
     "output_type": "display_data"
    },
    {
     "data": {
      "text/html": [
       "<pre style=\"white-space:pre;overflow-x:auto;line-height:normal;font-family:Menlo,'DejaVu Sans Mono',consolas,'Courier New',monospace\">qa_path <span style=\"color: #800080; text-decoration-color: #800080\">/home/docker/datasets2/reconcycle/knowledge_graph/data/nodes/qundis/</span><span style=\"color: #ff00ff; text-decoration-color: #ff00ff\">5_1_qa.json</span>\n",
       "</pre>\n"
      ],
      "text/plain": [
       "qa_path \u001b[35m/home/docker/datasets2/reconcycle/knowledge_graph/data/nodes/qundis/\u001b[0m\u001b[95m5_1_qa.json\u001b[0m\n"
      ]
     },
     "metadata": {},
     "output_type": "display_data"
    },
    {
     "data": {
      "text/html": [
       "<pre style=\"white-space:pre;overflow-x:auto;line-height:normal;font-family:Menlo,'DejaVu Sans Mono',consolas,'Courier New',monospace\">A_relations: Device <span style=\"color: #008080; text-decoration-color: #008080; font-weight: bold\">1</span>: battery next to internals. Loose components: hca_empty, plastic_clip\n",
       "</pre>\n"
      ],
      "text/plain": [
       "A_relations: Device \u001b[1;36m1\u001b[0m: battery next to internals. Loose components: hca_empty, plastic_clip\n"
      ]
     },
     "metadata": {},
     "output_type": "display_data"
    },
    {
     "data": {
      "text/html": [
       "<pre style=\"white-space:pre;overflow-x:auto;line-height:normal;font-family:Menlo,'DejaVu Sans Mono',consolas,'Courier New',monospace\">module vise\n",
       "</pre>\n"
      ],
      "text/plain": [
       "module vise\n"
      ]
     },
     "metadata": {},
     "output_type": "display_data"
    },
    {
     "data": {
      "text/html": [
       "<pre style=\"white-space:pre;overflow-x:auto;line-height:normal;font-family:Menlo,'DejaVu Sans Mono',consolas,'Courier New',monospace\">A_positions: hca_empty back at <span style=\"font-weight: bold\">(</span><span style=\"color: #008080; text-decoration-color: #008080; font-weight: bold\">828</span>, <span style=\"color: #008080; text-decoration-color: #008080; font-weight: bold\">563</span><span style=\"font-weight: bold\">)</span>, internals at <span style=\"font-weight: bold\">(</span><span style=\"color: #008080; text-decoration-color: #008080; font-weight: bold\">816</span>, <span style=\"color: #008080; text-decoration-color: #008080; font-weight: bold\">917</span><span style=\"font-weight: bold\">)</span>, plastic_clip at <span style=\"font-weight: bold\">(</span><span style=\"color: #008080; text-decoration-color: #008080; font-weight: bold\">936</span>, <span style=\"color: #008080; text-decoration-color: #008080; font-weight: bold\">1072</span><span style=\"font-weight: bold\">)</span>, battery at <span style=\"font-weight: bold\">(</span><span style=\"color: #008080; text-decoration-color: #008080; font-weight: bold\">813</span>, \n",
       "<span style=\"color: #008080; text-decoration-color: #008080; font-weight: bold\">1000</span><span style=\"font-weight: bold\">)</span>. \n",
       "</pre>\n"
      ],
      "text/plain": [
       "A_positions: hca_empty back at \u001b[1m(\u001b[0m\u001b[1;36m828\u001b[0m, \u001b[1;36m563\u001b[0m\u001b[1m)\u001b[0m, internals at \u001b[1m(\u001b[0m\u001b[1;36m816\u001b[0m, \u001b[1;36m917\u001b[0m\u001b[1m)\u001b[0m, plastic_clip at \u001b[1m(\u001b[0m\u001b[1;36m936\u001b[0m, \u001b[1;36m1072\u001b[0m\u001b[1m)\u001b[0m, battery at \u001b[1m(\u001b[0m\u001b[1;36m813\u001b[0m, \n",
       "\u001b[1;36m1000\u001b[0m\u001b[1m)\u001b[0m. \n"
      ]
     },
     "metadata": {},
     "output_type": "display_data"
    },
    {
     "data": {
      "text/html": [
       "<pre style=\"white-space:pre;overflow-x:auto;line-height:normal;font-family:Menlo,'DejaVu Sans Mono',consolas,'Courier New',monospace\"><span style=\"color: #000080; text-decoration-color: #000080\">loading file /home/docker/datasets2/reconcycle/knowledge_graph/data/nodes/qundis/5_1_qa.json</span>\n",
       "</pre>\n"
      ],
      "text/plain": [
       "\u001b[34mloading file \u001b[0m\u001b[34m/home/docker/datasets2/reconcycle/knowledge_graph/data/nodes/qundis/\u001b[0m\u001b[34m5_1_qa.json\u001b[0m\n"
      ]
     },
     "metadata": {},
     "output_type": "display_data"
    },
    {
     "name": "stdout",
     "output_type": "stream",
     "text": [
      "detection.box [[    0.29873      0.3944]\n",
      " [    0.38832      0.3513]]\n",
      "detection.box [[    0.31899     0.24808]\n",
      " [    0.35443     0.18392]]\n",
      "detection.box [[    0.37359     0.16156]\n",
      " [     0.4006      0.1307]]\n",
      "detection.box [[    0.31866     0.18611]\n",
      " [    0.35032     0.17379]]\n"
     ]
    },
    {
     "data": {
      "text/html": [
       "<pre style=\"white-space:pre;overflow-x:auto;line-height:normal;font-family:Menlo,'DejaVu Sans Mono',consolas,'Courier New',monospace\"><span style=\"color: #000080; text-decoration-color: #000080\">resetting worksurface detection</span>\n",
       "</pre>\n"
      ],
      "text/plain": [
       "\u001b[34mresetting worksurface detection\u001b[0m\n"
      ]
     },
     "metadata": {},
     "output_type": "display_data"
    },
    {
     "name": "stderr",
     "output_type": "stream",
     "text": [
      "Converting 5_2:  67%|██████▋   | 6/9 [00:00<00:00,  6.17it/s]"
     ]
    },
    {
     "data": {
      "text/html": [
       "<pre style=\"white-space:pre;overflow-x:auto;line-height:normal;font-family:Menlo,'DejaVu Sans Mono',consolas,'Courier New',monospace\">filename 5_2.json\n",
       "</pre>\n"
      ],
      "text/plain": [
       "filename 5_2.json\n"
      ]
     },
     "metadata": {},
     "output_type": "display_data"
    },
    {
     "data": {
      "text/html": [
       "<pre style=\"white-space:pre;overflow-x:auto;line-height:normal;font-family:Menlo,'DejaVu Sans Mono',consolas,'Courier New',monospace\">running worksurface detection<span style=\"color: #808000; text-decoration-color: #808000\">...</span>\n",
       "</pre>\n"
      ],
      "text/plain": [
       "running worksurface detection\u001b[33m...\u001b[0m\n"
      ]
     },
     "metadata": {},
     "output_type": "display_data"
    },
    {
     "data": {
      "text/html": [
       "<pre style=\"white-space:pre;overflow-x:auto;line-height:normal;font-family:Menlo,'DejaVu Sans Mono',consolas,'Courier New',monospace\"><span style=\"color: #000080; text-decoration-color: #000080\">camera: basler</span>\n",
       "</pre>\n"
      ],
      "text/plain": [
       "\u001b[34mcamera: basler\u001b[0m\n"
      ]
     },
     "metadata": {},
     "output_type": "display_data"
    },
    {
     "data": {
      "text/html": [
       "<pre style=\"white-space:pre;overflow-x:auto;line-height:normal;font-family:Menlo,'DejaVu Sans Mono',consolas,'Courier New',monospace\"><span style=\"color: #800080; text-decoration-color: #800080; font-weight: bold\">len</span><span style=\"font-weight: bold\">(</span>batch_crop_imgs<span style=\"font-weight: bold\">)</span> <span style=\"color: #008080; text-decoration-color: #008080; font-weight: bold\">1</span>\n",
       "</pre>\n"
      ],
      "text/plain": [
       "\u001b[1;35mlen\u001b[0m\u001b[1m(\u001b[0mbatch_crop_imgs\u001b[1m)\u001b[0m \u001b[1;36m1\u001b[0m\n"
      ]
     },
     "metadata": {},
     "output_type": "display_data"
    },
    {
     "data": {
      "text/html": [
       "<pre style=\"white-space:pre;overflow-x:auto;line-height:normal;font-family:Menlo,'DejaVu Sans Mono',consolas,'Courier New',monospace\">qa_path <span style=\"color: #800080; text-decoration-color: #800080\">/home/docker/datasets2/reconcycle/knowledge_graph/data/nodes/qundis/</span><span style=\"color: #ff00ff; text-decoration-color: #ff00ff\">5_2_qa.json</span>\n",
       "</pre>\n"
      ],
      "text/plain": [
       "qa_path \u001b[35m/home/docker/datasets2/reconcycle/knowledge_graph/data/nodes/qundis/\u001b[0m\u001b[95m5_2_qa.json\u001b[0m\n"
      ]
     },
     "metadata": {},
     "output_type": "display_data"
    },
    {
     "data": {
      "text/html": [
       "<pre style=\"white-space:pre;overflow-x:auto;line-height:normal;font-family:Menlo,'DejaVu Sans Mono',consolas,'Courier New',monospace\">A_relations: Device <span style=\"color: #008080; text-decoration-color: #008080; font-weight: bold\">1</span>: battery next to pcb_covered. Loose components: hca_empty, plastic_clip\n",
       "</pre>\n"
      ],
      "text/plain": [
       "A_relations: Device \u001b[1;36m1\u001b[0m: battery next to pcb_covered. Loose components: hca_empty, plastic_clip\n"
      ]
     },
     "metadata": {},
     "output_type": "display_data"
    },
    {
     "data": {
      "text/html": [
       "<pre style=\"white-space:pre;overflow-x:auto;line-height:normal;font-family:Menlo,'DejaVu Sans Mono',consolas,'Courier New',monospace\">module vise\n",
       "</pre>\n"
      ],
      "text/plain": [
       "module vise\n"
      ]
     },
     "metadata": {},
     "output_type": "display_data"
    },
    {
     "data": {
      "text/html": [
       "<pre style=\"white-space:pre;overflow-x:auto;line-height:normal;font-family:Menlo,'DejaVu Sans Mono',consolas,'Courier New',monospace\">A_positions: hca_empty back at <span style=\"font-weight: bold\">(</span><span style=\"color: #008080; text-decoration-color: #008080; font-weight: bold\">841</span>, <span style=\"color: #008080; text-decoration-color: #008080; font-weight: bold\">572</span><span style=\"font-weight: bold\">)</span>, pcb_covered at <span style=\"font-weight: bold\">(</span><span style=\"color: #008080; text-decoration-color: #008080; font-weight: bold\">893</span>, <span style=\"color: #008080; text-decoration-color: #008080; font-weight: bold\">865</span><span style=\"font-weight: bold\">)</span>, battery at <span style=\"font-weight: bold\">(</span><span style=\"color: #008080; text-decoration-color: #008080; font-weight: bold\">813</span>, <span style=\"color: #008080; text-decoration-color: #008080; font-weight: bold\">887</span><span style=\"font-weight: bold\">)</span>, plastic_clip at <span style=\"font-weight: bold\">(</span><span style=\"color: #008080; text-decoration-color: #008080; font-weight: bold\">936</span>, \n",
       "<span style=\"color: #008080; text-decoration-color: #008080; font-weight: bold\">1072</span><span style=\"font-weight: bold\">)</span>. \n",
       "</pre>\n"
      ],
      "text/plain": [
       "A_positions: hca_empty back at \u001b[1m(\u001b[0m\u001b[1;36m841\u001b[0m, \u001b[1;36m572\u001b[0m\u001b[1m)\u001b[0m, pcb_covered at \u001b[1m(\u001b[0m\u001b[1;36m893\u001b[0m, \u001b[1;36m865\u001b[0m\u001b[1m)\u001b[0m, battery at \u001b[1m(\u001b[0m\u001b[1;36m813\u001b[0m, \u001b[1;36m887\u001b[0m\u001b[1m)\u001b[0m, plastic_clip at \u001b[1m(\u001b[0m\u001b[1;36m936\u001b[0m, \n",
       "\u001b[1;36m1072\u001b[0m\u001b[1m)\u001b[0m. \n"
      ]
     },
     "metadata": {},
     "output_type": "display_data"
    },
    {
     "data": {
      "text/html": [
       "<pre style=\"white-space:pre;overflow-x:auto;line-height:normal;font-family:Menlo,'DejaVu Sans Mono',consolas,'Courier New',monospace\"><span style=\"color: #000080; text-decoration-color: #000080\">loading file /home/docker/datasets2/reconcycle/knowledge_graph/data/nodes/qundis/5_2_qa.json</span>\n",
       "</pre>\n"
      ],
      "text/plain": [
       "\u001b[34mloading file \u001b[0m\u001b[34m/home/docker/datasets2/reconcycle/knowledge_graph/data/nodes/qundis/\u001b[0m\u001b[34m5_2_qa.json\u001b[0m\n"
      ]
     },
     "metadata": {},
     "output_type": "display_data"
    },
    {
     "name": "stdout",
     "output_type": "stream",
     "text": [
      "detection.box [[    0.30442     0.39035]\n",
      " [    0.39402     0.34725]]\n",
      "detection.box [[    0.34081     0.26155]\n",
      " [    0.40078     0.21658]]\n",
      "detection.box [[    0.32473     0.24713]\n",
      " [    0.34639     0.21235]]\n",
      "detection.box [[    0.37359     0.16156]\n",
      " [     0.4006      0.1307]]\n"
     ]
    },
    {
     "data": {
      "text/html": [
       "<pre style=\"white-space:pre;overflow-x:auto;line-height:normal;font-family:Menlo,'DejaVu Sans Mono',consolas,'Courier New',monospace\"><span style=\"color: #000080; text-decoration-color: #000080\">resetting worksurface detection</span>\n",
       "</pre>\n"
      ],
      "text/plain": [
       "\u001b[34mresetting worksurface detection\u001b[0m\n"
      ]
     },
     "metadata": {},
     "output_type": "display_data"
    },
    {
     "name": "stderr",
     "output_type": "stream",
     "text": [
      "Converting 6:  78%|███████▊  | 7/9 [00:01<00:00,  5.71it/s]  "
     ]
    },
    {
     "data": {
      "text/html": [
       "<pre style=\"white-space:pre;overflow-x:auto;line-height:normal;font-family:Menlo,'DejaVu Sans Mono',consolas,'Courier New',monospace\">filename <span style=\"color: #008080; text-decoration-color: #008080; font-weight: bold\">6.j</span>son\n",
       "</pre>\n"
      ],
      "text/plain": [
       "filename \u001b[1;36m6.j\u001b[0mson\n"
      ]
     },
     "metadata": {},
     "output_type": "display_data"
    },
    {
     "data": {
      "text/html": [
       "<pre style=\"white-space:pre;overflow-x:auto;line-height:normal;font-family:Menlo,'DejaVu Sans Mono',consolas,'Courier New',monospace\">running worksurface detection<span style=\"color: #808000; text-decoration-color: #808000\">...</span>\n",
       "</pre>\n"
      ],
      "text/plain": [
       "running worksurface detection\u001b[33m...\u001b[0m\n"
      ]
     },
     "metadata": {},
     "output_type": "display_data"
    },
    {
     "data": {
      "text/html": [
       "<pre style=\"white-space:pre;overflow-x:auto;line-height:normal;font-family:Menlo,'DejaVu Sans Mono',consolas,'Courier New',monospace\"><span style=\"color: #800000; text-decoration-color: #800000\">Max error in work surface position is: </span><span style=\"color: #800000; text-decoration-color: #800000; font-weight: bold\">0.05068048271512639</span>\n",
       "</pre>\n"
      ],
      "text/plain": [
       "\u001b[31mMax error in work surface position is: \u001b[0m\u001b[1;31m0.05068048271512639\u001b[0m\n"
      ]
     },
     "metadata": {},
     "output_type": "display_data"
    },
    {
     "data": {
      "text/html": [
       "<pre style=\"white-space:pre;overflow-x:auto;line-height:normal;font-family:Menlo,'DejaVu Sans Mono',consolas,'Courier New',monospace\"><span style=\"color: #000080; text-decoration-color: #000080\">camera: basler</span>\n",
       "</pre>\n"
      ],
      "text/plain": [
       "\u001b[34mcamera: basler\u001b[0m\n"
      ]
     },
     "metadata": {},
     "output_type": "display_data"
    },
    {
     "data": {
      "text/html": [
       "<pre style=\"white-space:pre;overflow-x:auto;line-height:normal;font-family:Menlo,'DejaVu Sans Mono',consolas,'Courier New',monospace\"><span style=\"color: #800080; text-decoration-color: #800080; font-weight: bold\">len</span><span style=\"font-weight: bold\">(</span>batch_crop_imgs<span style=\"font-weight: bold\">)</span> <span style=\"color: #008080; text-decoration-color: #008080; font-weight: bold\">1</span>\n",
       "</pre>\n"
      ],
      "text/plain": [
       "\u001b[1;35mlen\u001b[0m\u001b[1m(\u001b[0mbatch_crop_imgs\u001b[1m)\u001b[0m \u001b[1;36m1\u001b[0m\n"
      ]
     },
     "metadata": {},
     "output_type": "display_data"
    },
    {
     "data": {
      "text/html": [
       "<pre style=\"white-space:pre;overflow-x:auto;line-height:normal;font-family:Menlo,'DejaVu Sans Mono',consolas,'Courier New',monospace\">qa_path <span style=\"color: #800080; text-decoration-color: #800080\">/home/docker/datasets2/reconcycle/knowledge_graph/data/nodes/qundis/</span><span style=\"color: #ff00ff; text-decoration-color: #ff00ff\">6_qa.json</span>\n",
       "</pre>\n"
      ],
      "text/plain": [
       "qa_path \u001b[35m/home/docker/datasets2/reconcycle/knowledge_graph/data/nodes/qundis/\u001b[0m\u001b[95m6_qa.json\u001b[0m\n"
      ]
     },
     "metadata": {},
     "output_type": "display_data"
    },
    {
     "data": {
      "text/html": [
       "<pre style=\"white-space:pre;overflow-x:auto;line-height:normal;font-family:Menlo,'DejaVu Sans Mono',consolas,'Courier New',monospace\">A_relations: Loose components: internals, internals, battery\n",
       "</pre>\n"
      ],
      "text/plain": [
       "A_relations: Loose components: internals, internals, battery\n"
      ]
     },
     "metadata": {},
     "output_type": "display_data"
    },
    {
     "data": {
      "text/html": [
       "<pre style=\"white-space:pre;overflow-x:auto;line-height:normal;font-family:Menlo,'DejaVu Sans Mono',consolas,'Courier New',monospace\">module cutter\n",
       "</pre>\n"
      ],
      "text/plain": [
       "module cutter\n"
      ]
     },
     "metadata": {},
     "output_type": "display_data"
    },
    {
     "data": {
      "text/html": [
       "<pre style=\"white-space:pre;overflow-x:auto;line-height:normal;font-family:Menlo,'DejaVu Sans Mono',consolas,'Courier New',monospace\">A_positions: internals at <span style=\"font-weight: bold\">(</span><span style=\"color: #008080; text-decoration-color: #008080; font-weight: bold\">650</span>, <span style=\"color: #008080; text-decoration-color: #008080; font-weight: bold\">479</span><span style=\"font-weight: bold\">)</span>, internals at <span style=\"font-weight: bold\">(</span><span style=\"color: #008080; text-decoration-color: #008080; font-weight: bold\">732</span>, <span style=\"color: #008080; text-decoration-color: #008080; font-weight: bold\">652</span><span style=\"font-weight: bold\">)</span>, battery at <span style=\"font-weight: bold\">(</span><span style=\"color: #008080; text-decoration-color: #008080; font-weight: bold\">548</span>, <span style=\"color: #008080; text-decoration-color: #008080; font-weight: bold\">635</span><span style=\"font-weight: bold\">)</span>. \n",
       "</pre>\n"
      ],
      "text/plain": [
       "A_positions: internals at \u001b[1m(\u001b[0m\u001b[1;36m650\u001b[0m, \u001b[1;36m479\u001b[0m\u001b[1m)\u001b[0m, internals at \u001b[1m(\u001b[0m\u001b[1;36m732\u001b[0m, \u001b[1;36m652\u001b[0m\u001b[1m)\u001b[0m, battery at \u001b[1m(\u001b[0m\u001b[1;36m548\u001b[0m, \u001b[1;36m635\u001b[0m\u001b[1m)\u001b[0m. \n"
      ]
     },
     "metadata": {},
     "output_type": "display_data"
    },
    {
     "data": {
      "text/html": [
       "<pre style=\"white-space:pre;overflow-x:auto;line-height:normal;font-family:Menlo,'DejaVu Sans Mono',consolas,'Courier New',monospace\"><span style=\"color: #000080; text-decoration-color: #000080\">loading file /home/docker/datasets2/reconcycle/knowledge_graph/data/nodes/qundis/6_qa.json</span>\n",
       "</pre>\n"
      ],
      "text/plain": [
       "\u001b[34mloading file \u001b[0m\u001b[34m/home/docker/datasets2/reconcycle/knowledge_graph/data/nodes/qundis/\u001b[0m\u001b[34m6_qa.json\u001b[0m\n"
      ]
     },
     "metadata": {},
     "output_type": "display_data"
    },
    {
     "name": "stdout",
     "output_type": "stream",
     "text": [
      "detection.box [[    0.24695     0.39442]\n",
      " [    0.30276     0.31107]]\n",
      "detection.box [[     0.2914     0.27663]\n",
      " [    0.33476     0.21552]]\n",
      "detection.box [[    0.21699     0.26819]\n",
      " [    0.24879     0.22876]]\n"
     ]
    },
    {
     "data": {
      "text/html": [
       "<pre style=\"white-space:pre;overflow-x:auto;line-height:normal;font-family:Menlo,'DejaVu Sans Mono',consolas,'Courier New',monospace\"><span style=\"color: #000080; text-decoration-color: #000080\">resetting worksurface detection</span>\n",
       "</pre>\n"
      ],
      "text/plain": [
       "\u001b[34mresetting worksurface detection\u001b[0m\n"
      ]
     },
     "metadata": {},
     "output_type": "display_data"
    },
    {
     "name": "stderr",
     "output_type": "stream",
     "text": [
      "Converting 6_1:  89%|████████▉ | 8/9 [00:01<00:00,  5.91it/s]"
     ]
    },
    {
     "data": {
      "text/html": [
       "<pre style=\"white-space:pre;overflow-x:auto;line-height:normal;font-family:Menlo,'DejaVu Sans Mono',consolas,'Courier New',monospace\">filename 6_1.json\n",
       "</pre>\n"
      ],
      "text/plain": [
       "filename 6_1.json\n"
      ]
     },
     "metadata": {},
     "output_type": "display_data"
    },
    {
     "data": {
      "text/html": [
       "<pre style=\"white-space:pre;overflow-x:auto;line-height:normal;font-family:Menlo,'DejaVu Sans Mono',consolas,'Courier New',monospace\">running worksurface detection<span style=\"color: #808000; text-decoration-color: #808000\">...</span>\n",
       "</pre>\n"
      ],
      "text/plain": [
       "running worksurface detection\u001b[33m...\u001b[0m\n"
      ]
     },
     "metadata": {},
     "output_type": "display_data"
    },
    {
     "data": {
      "text/html": [
       "<pre style=\"white-space:pre;overflow-x:auto;line-height:normal;font-family:Menlo,'DejaVu Sans Mono',consolas,'Courier New',monospace\"><span style=\"color: #800000; text-decoration-color: #800000\">Max error in work surface position is: </span><span style=\"color: #800000; text-decoration-color: #800000; font-weight: bold\">0.05068048271512639</span>\n",
       "</pre>\n"
      ],
      "text/plain": [
       "\u001b[31mMax error in work surface position is: \u001b[0m\u001b[1;31m0.05068048271512639\u001b[0m\n"
      ]
     },
     "metadata": {},
     "output_type": "display_data"
    },
    {
     "data": {
      "text/html": [
       "<pre style=\"white-space:pre;overflow-x:auto;line-height:normal;font-family:Menlo,'DejaVu Sans Mono',consolas,'Courier New',monospace\"><span style=\"color: #000080; text-decoration-color: #000080\">camera: basler</span>\n",
       "</pre>\n"
      ],
      "text/plain": [
       "\u001b[34mcamera: basler\u001b[0m\n"
      ]
     },
     "metadata": {},
     "output_type": "display_data"
    },
    {
     "data": {
      "text/html": [
       "<pre style=\"white-space:pre;overflow-x:auto;line-height:normal;font-family:Menlo,'DejaVu Sans Mono',consolas,'Courier New',monospace\"><span style=\"color: #800080; text-decoration-color: #800080; font-weight: bold\">len</span><span style=\"font-weight: bold\">(</span>batch_crop_imgs<span style=\"font-weight: bold\">)</span> <span style=\"color: #008080; text-decoration-color: #008080; font-weight: bold\">1</span>\n",
       "</pre>\n"
      ],
      "text/plain": [
       "\u001b[1;35mlen\u001b[0m\u001b[1m(\u001b[0mbatch_crop_imgs\u001b[1m)\u001b[0m \u001b[1;36m1\u001b[0m\n"
      ]
     },
     "metadata": {},
     "output_type": "display_data"
    },
    {
     "data": {
      "text/html": [
       "<pre style=\"white-space:pre;overflow-x:auto;line-height:normal;font-family:Menlo,'DejaVu Sans Mono',consolas,'Courier New',monospace\">qa_path <span style=\"color: #800080; text-decoration-color: #800080\">/home/docker/datasets2/reconcycle/knowledge_graph/data/nodes/qundis/</span><span style=\"color: #ff00ff; text-decoration-color: #ff00ff\">6_1_qa.json</span>\n",
       "</pre>\n"
      ],
      "text/plain": [
       "qa_path \u001b[35m/home/docker/datasets2/reconcycle/knowledge_graph/data/nodes/qundis/\u001b[0m\u001b[95m6_1_qa.json\u001b[0m\n"
      ]
     },
     "metadata": {},
     "output_type": "display_data"
    },
    {
     "data": {
      "text/html": [
       "<pre style=\"white-space:pre;overflow-x:auto;line-height:normal;font-family:Menlo,'DejaVu Sans Mono',consolas,'Courier New',monospace\">A_relations: Loose components: pcb_covered, battery, internals\n",
       "</pre>\n"
      ],
      "text/plain": [
       "A_relations: Loose components: pcb_covered, battery, internals\n"
      ]
     },
     "metadata": {},
     "output_type": "display_data"
    },
    {
     "data": {
      "text/html": [
       "<pre style=\"white-space:pre;overflow-x:auto;line-height:normal;font-family:Menlo,'DejaVu Sans Mono',consolas,'Courier New',monospace\">module cutter\n",
       "</pre>\n"
      ],
      "text/plain": [
       "module cutter\n"
      ]
     },
     "metadata": {},
     "output_type": "display_data"
    },
    {
     "data": {
      "text/html": [
       "<pre style=\"white-space:pre;overflow-x:auto;line-height:normal;font-family:Menlo,'DejaVu Sans Mono',consolas,'Courier New',monospace\">A_positions: pcb_covered at <span style=\"font-weight: bold\">(</span><span style=\"color: #008080; text-decoration-color: #008080; font-weight: bold\">652</span>, <span style=\"color: #008080; text-decoration-color: #008080; font-weight: bold\">472</span><span style=\"font-weight: bold\">)</span>, battery at <span style=\"font-weight: bold\">(</span><span style=\"color: #008080; text-decoration-color: #008080; font-weight: bold\">916</span>, <span style=\"color: #008080; text-decoration-color: #008080; font-weight: bold\">423</span><span style=\"font-weight: bold\">)</span>, internals at <span style=\"font-weight: bold\">(</span><span style=\"color: #008080; text-decoration-color: #008080; font-weight: bold\">830</span>, <span style=\"color: #008080; text-decoration-color: #008080; font-weight: bold\">661</span><span style=\"font-weight: bold\">)</span>. \n",
       "</pre>\n"
      ],
      "text/plain": [
       "A_positions: pcb_covered at \u001b[1m(\u001b[0m\u001b[1;36m652\u001b[0m, \u001b[1;36m472\u001b[0m\u001b[1m)\u001b[0m, battery at \u001b[1m(\u001b[0m\u001b[1;36m916\u001b[0m, \u001b[1;36m423\u001b[0m\u001b[1m)\u001b[0m, internals at \u001b[1m(\u001b[0m\u001b[1;36m830\u001b[0m, \u001b[1;36m661\u001b[0m\u001b[1m)\u001b[0m. \n"
      ]
     },
     "metadata": {},
     "output_type": "display_data"
    },
    {
     "data": {
      "text/html": [
       "<pre style=\"white-space:pre;overflow-x:auto;line-height:normal;font-family:Menlo,'DejaVu Sans Mono',consolas,'Courier New',monospace\"><span style=\"color: #000080; text-decoration-color: #000080\">loading file /home/docker/datasets2/reconcycle/knowledge_graph/data/nodes/qundis/6_1_qa.json</span>\n",
       "</pre>\n"
      ],
      "text/plain": [
       "\u001b[34mloading file \u001b[0m\u001b[34m/home/docker/datasets2/reconcycle/knowledge_graph/data/nodes/qundis/\u001b[0m\u001b[34m6_1_qa.json\u001b[0m\n"
      ]
     },
     "metadata": {},
     "output_type": "display_data"
    },
    {
     "name": "stdout",
     "output_type": "stream",
     "text": [
      "detection.box [[    0.24768     0.39964]\n",
      " [    0.30219     0.31619]]\n",
      "detection.box [[     0.3745     0.41865]\n",
      " [    0.40632     0.37857]]\n",
      "detection.box [[    0.33411     0.27225]\n",
      " [    0.37786     0.21311]]\n"
     ]
    },
    {
     "data": {
      "text/html": [
       "<pre style=\"white-space:pre;overflow-x:auto;line-height:normal;font-family:Menlo,'DejaVu Sans Mono',consolas,'Courier New',monospace\"><span style=\"color: #000080; text-decoration-color: #000080\">resetting worksurface detection</span>\n",
       "</pre>\n"
      ],
      "text/plain": [
       "\u001b[34mresetting worksurface detection\u001b[0m\n"
      ]
     },
     "metadata": {},
     "output_type": "display_data"
    },
    {
     "name": "stderr",
     "output_type": "stream",
     "text": [
      "Converting 6_1: 100%|██████████| 9/9 [00:01<00:00,  6.12it/s]\n"
     ]
    }
   ],
   "source": [
    "# folder = kg_nodes_path / \"kalo\"\n",
    "# folder = kg_nodes_path / \"hekatron\"\n",
    "folder = kg_nodes_path / \"qundis\"\n",
    "# folder = kg_nodes_path / \"fumonic\"\n",
    "    \n",
    "gt_device = folder.name\n",
    "print(\"gt_device\", gt_device)\n",
    "\n",
    "for img_path, process_labelme_dir, detections, graph_relations, module, camera, batch_crop_imgs in labelme_importer.process_labelme_dir(folder, use_yield=True):\n",
    "\n",
    "    stem = Path(img_path).stem\n",
    "    qa_path = Path(img_path).parent / Path(str(stem) + \"_qa.json\")\n",
    "    \n",
    "    # save create cropped image\n",
    "\n",
    "    print(\"len(batch_crop_imgs)\", len(batch_crop_imgs))\n",
    "\n",
    "    # if not cropped_img_path.is_file() and cropped_img is not None:\n",
    "    if batch_crop_imgs is not None:\n",
    "        for idx, crop_img in enumerate(batch_crop_imgs):\n",
    "            if len(batch_crop_imgs) == 1:\n",
    "                cropped_img_name = str(stem) + \"_crop.jpg\"  \n",
    "            else:\n",
    "                cropped_img_name = str(stem) + f\"_crop_{idx}.jpg\"  \n",
    "    \n",
    "            cropped_img_path = Path(img_path).parent / Path(cropped_img_name)\n",
    "    \n",
    "            cv2.imwrite(str(cropped_img_path), crop_img)\n",
    "\n",
    "    print(\"qa_path\", qa_path)\n",
    "\n",
    "    A_relations = graph_relations.to_text()\n",
    "    print(\"A_relations:\", A_relations)\n",
    "    \n",
    "    # include the module name in the relations\n",
    "    if module is not None:\n",
    "        print(\"module\", module.name)\n",
    "        A_relations = f\"at_location(table_{module.name}). \" + A_relations\n",
    "    else:\n",
    "        print(\"[red]Missing module name!\")\n",
    "    \n",
    "    positions_list = []\n",
    "    for detection in detections:\n",
    "        text = f\"{detection.label.name}\"\n",
    "        if detection.label_face is not None:\n",
    "            text += f\" {detection.label_face.name}\"\n",
    "        \n",
    "        # todo: better label names\n",
    "        # if detection.label_precise is not None:\n",
    "        #     label_id = detection.label_precise.split(\"_\")[-1]\n",
    "        #     text += f\" (id: {label_id})\"\n",
    "\n",
    "        if detection.label_precise_name is not None:\n",
    "            #! hot fix for incorrect detection:\n",
    "            if detection.label_precise_name != gt_device:\n",
    "                print(f\"[red]incorrect label_precise_name {detection.label_precise_name}. Should be: {gt_device}. Hot fix.\")\n",
    "                detection.label_precise_name = gt_device\n",
    "            \n",
    "            text += f\" ({detection.label_precise_name})\"\n",
    "    \n",
    "        text += f\" at ({detection.center_px[0]}, {detection.center_px[1]})\"\n",
    "        positions_list.append(text)\n",
    "\n",
    "        # print(\"detection name\", detection.label.name)\n",
    "        # print(f\"detection center: {detection.center_px[0]}, {detection.center_px[1]}\")\n",
    "\n",
    "        # print(\"detection\", detection)\n",
    "    \n",
    "    A_positions = \", \".join(positions_list) + \". \"\n",
    "\n",
    "    print(\"A_positions:\", A_positions)\n",
    "    \n",
    "    # create or edit the <number>_qa.json file\n",
    "    if qa_path.is_file():\n",
    "        print(f\"[blue]loading file {qa_path}\")\n",
    "        \n",
    "        with open(qa_path, 'r+') as f:\n",
    "            data = json.load(f)\n",
    "            data_changed = False\n",
    "            for qa in data:\n",
    "                if qa[\"Q\"] == qa_relations[\"Q\"] and qa[\"A\"] != A_relations:\n",
    "                    if click.confirm(f\"overwrite QA relations\\ncurrent: {qa['A']}\\nnew: {A_relations}?\\n\", default=True):\n",
    "                        qa[\"A\"] = A_relations\n",
    "                        data_changed = True\n",
    "                elif qa[\"Q\"] == qa_positions[\"Q\"] and qa[\"A\"] != A_positions:\n",
    "                    if click.confirm(f\"overwrite QA positions\\ncurrent: {qa['A']}\\nnew: {A_positions}?\\n\", default=True):\n",
    "                        qa[\"A\"] = A_positions\n",
    "                        data_changed = True\n",
    "\n",
    "            if data_changed:\n",
    "                f.seek(0)        # <--- should reset file position to the beginning.\n",
    "                json.dump(data, f, indent=4)\n",
    "                f.truncate()     # remove remaining part\n",
    "\n",
    "    else:\n",
    "        qa_relations_copy = qa_relations.copy()\n",
    "        qa_positions_copy = qa_positions.copy()\n",
    "        qa_disassembly_step_copy = qa_disassembly_step.copy()\n",
    "        qa_json_disassembly_step_copy = qa_json_disassembly_step.copy()\n",
    "\n",
    "        qa_relations_copy[\"A\"] = A_relations\n",
    "        qa_positions_copy[\"A\"] = A_positions\n",
    "\n",
    "        QAs_copy = [qa_relations_copy, qa_positions_copy, qa_disassembly_step_copy, qa_json_disassembly_step_copy]\n",
    "\n",
    "        with open(qa_path, 'w', encoding='utf-8') as f:\n",
    "            json.dump(QAs_copy, f, ensure_ascii=False, indent=4)\n",
    "\n",
    "    # save the detections object\n",
    "    # emulate ROS layer\n",
    "    detections_ros = detections_to_ros(detections)\n",
    "    detections_back_again = detections_to_py(detections_ros)\n",
    "\n",
    "    detections_pickle_path = Path(img_path).parent / Path(str(stem) + \".pickle\")\n",
    "    detections_txt_path = Path(img_path).parent / Path(str(stem) + \"_dets.txt\")\n",
    "    # detections_jsonpickle_path = Path(img_path).parent / Path(str(stem) + \"_pickle.txt\")\n",
    "    with open(detections_pickle_path, 'wb') as handle:\n",
    "        pickle.dump(detections_back_again, handle, protocol=pickle.HIGHEST_PROTOCOL)\n",
    "\n",
    "    with open(detections_txt_path, 'w') as handle:\n",
    "        handle.write(detections_back_again.__str__())\n",
    "\n",
    "    #! jsonpickle looks ugly\n",
    "    # with open(detections_jsonpickle_path, 'w') as handle:\n",
    "    #     json_obj = jsonpickle.encode(detections_back_again, make_refs=False, indent=2)\n",
    "    #     handle.write(json_obj)\n",
    "\n",
    "    # print(\"detections\", detections_back_again.__str__())\n",
    "\n",
    "    \n"
   ]
  },
  {
   "cell_type": "code",
   "execution_count": 14,
   "metadata": {},
   "outputs": [],
   "source": [
    "\n",
    "# todo: create QAs"
   ]
  }
 ],
 "metadata": {
  "kernelspec": {
   "display_name": "Python 3",
   "language": "python",
   "name": "python3"
  },
  "language_info": {
   "codemirror_mode": {
    "name": "ipython",
    "version": 3
   },
   "file_extension": ".py",
   "mimetype": "text/x-python",
   "name": "python",
   "nbconvert_exporter": "python",
   "pygments_lexer": "ipython3",
   "version": "3.8.10"
  }
 },
 "nbformat": 4,
 "nbformat_minor": 2
}
