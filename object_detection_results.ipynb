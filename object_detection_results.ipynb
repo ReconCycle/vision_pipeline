{
 "cells": [
  {
   "cell_type": "code",
   "execution_count": 14,
   "metadata": {},
   "outputs": [
    {
     "data": {
      "text/html": [
       "<pre style=\"white-space:pre;overflow-x:auto;line-height:normal;font-family:Menlo,'DejaVu Sans Mono',consolas,'Courier New',monospace\">   val/epoch  train/epoch\n",
       "<span style=\"color: #008080; text-decoration-color: #008080; font-weight: bold\">0</span>    <span style=\"color: #008080; text-decoration-color: #008080; font-weight: bold\">8.42953</span>     <span style=\"color: #008080; text-decoration-color: #008080; font-weight: bold\">10.71151</span>\n",
       "<span style=\"color: #008080; text-decoration-color: #008080; font-weight: bold\">1</span>    <span style=\"color: #008080; text-decoration-color: #008080; font-weight: bold\">6.78245</span>      <span style=\"color: #008080; text-decoration-color: #008080; font-weight: bold\">6.64790</span>\n",
       "<span style=\"color: #008080; text-decoration-color: #008080; font-weight: bold\">2</span>    <span style=\"color: #008080; text-decoration-color: #008080; font-weight: bold\">5.38194</span>      <span style=\"color: #008080; text-decoration-color: #008080; font-weight: bold\">4.80352</span>\n",
       "<span style=\"color: #008080; text-decoration-color: #008080; font-weight: bold\">3</span>    <span style=\"color: #008080; text-decoration-color: #008080; font-weight: bold\">4.54524</span>      <span style=\"color: #008080; text-decoration-color: #008080; font-weight: bold\">4.79443</span>\n",
       "<span style=\"color: #008080; text-decoration-color: #008080; font-weight: bold\">4</span>    <span style=\"color: #008080; text-decoration-color: #008080; font-weight: bold\">4.51972</span>      <span style=\"color: #008080; text-decoration-color: #008080; font-weight: bold\">2.72579</span>\n",
       "</pre>\n"
      ],
      "text/plain": [
       "   val/epoch  train/epoch\n",
       "\u001b[1;36m0\u001b[0m    \u001b[1;36m8.42953\u001b[0m     \u001b[1;36m10.71151\u001b[0m\n",
       "\u001b[1;36m1\u001b[0m    \u001b[1;36m6.78245\u001b[0m      \u001b[1;36m6.64790\u001b[0m\n",
       "\u001b[1;36m2\u001b[0m    \u001b[1;36m5.38194\u001b[0m      \u001b[1;36m4.80352\u001b[0m\n",
       "\u001b[1;36m3\u001b[0m    \u001b[1;36m4.54524\u001b[0m      \u001b[1;36m4.79443\u001b[0m\n",
       "\u001b[1;36m4\u001b[0m    \u001b[1;36m4.51972\u001b[0m      \u001b[1;36m2.72579\u001b[0m\n"
      ]
     },
     "metadata": {},
     "output_type": "display_data"
    },
    {
     "data": {
      "text/html": [
       "<pre style=\"white-space:pre;overflow-x:auto;line-height:normal;font-family:Menlo,'DejaVu Sans Mono',consolas,'Courier New',monospace\">        val/epoch  train/epoch\n",
       "count  <span style=\"color: #008080; text-decoration-color: #008080; font-weight: bold\">340.000000</span>   <span style=\"color: #008080; text-decoration-color: #008080; font-weight: bold\">340.000000</span>\n",
       "mean     <span style=\"color: #008080; text-decoration-color: #008080; font-weight: bold\">1.942859</span>     <span style=\"color: #008080; text-decoration-color: #008080; font-weight: bold\">1.761321</span>\n",
       "std      <span style=\"color: #008080; text-decoration-color: #008080; font-weight: bold\">0.657819</span>     <span style=\"color: #008080; text-decoration-color: #008080; font-weight: bold\">1.279788</span>\n",
       "min      <span style=\"color: #008080; text-decoration-color: #008080; font-weight: bold\">1.283690</span>     <span style=\"color: #008080; text-decoration-color: #008080; font-weight: bold\">0.297940</span>\n",
       "<span style=\"color: #008080; text-decoration-color: #008080; font-weight: bold\">25</span>%      <span style=\"color: #008080; text-decoration-color: #008080; font-weight: bold\">1.640143</span>     <span style=\"color: #008080; text-decoration-color: #008080; font-weight: bold\">0.944710</span>\n",
       "<span style=\"color: #008080; text-decoration-color: #008080; font-weight: bold\">50</span>%      <span style=\"color: #008080; text-decoration-color: #008080; font-weight: bold\">1.800375</span>     <span style=\"color: #008080; text-decoration-color: #008080; font-weight: bold\">1.428570</span>\n",
       "<span style=\"color: #008080; text-decoration-color: #008080; font-weight: bold\">75</span>%      <span style=\"color: #008080; text-decoration-color: #008080; font-weight: bold\">1.994823</span>     <span style=\"color: #008080; text-decoration-color: #008080; font-weight: bold\">2.101177</span>\n",
       "max      <span style=\"color: #008080; text-decoration-color: #008080; font-weight: bold\">8.429530</span>    <span style=\"color: #008080; text-decoration-color: #008080; font-weight: bold\">10.711510</span>\n",
       "</pre>\n"
      ],
      "text/plain": [
       "        val/epoch  train/epoch\n",
       "count  \u001b[1;36m340.000000\u001b[0m   \u001b[1;36m340.000000\u001b[0m\n",
       "mean     \u001b[1;36m1.942859\u001b[0m     \u001b[1;36m1.761321\u001b[0m\n",
       "std      \u001b[1;36m0.657819\u001b[0m     \u001b[1;36m1.279788\u001b[0m\n",
       "min      \u001b[1;36m1.283690\u001b[0m     \u001b[1;36m0.297940\u001b[0m\n",
       "\u001b[1;36m25\u001b[0m%      \u001b[1;36m1.640143\u001b[0m     \u001b[1;36m0.944710\u001b[0m\n",
       "\u001b[1;36m50\u001b[0m%      \u001b[1;36m1.800375\u001b[0m     \u001b[1;36m1.428570\u001b[0m\n",
       "\u001b[1;36m75\u001b[0m%      \u001b[1;36m1.994823\u001b[0m     \u001b[1;36m2.101177\u001b[0m\n",
       "max      \u001b[1;36m8.429530\u001b[0m    \u001b[1;36m10.711510\u001b[0m\n"
      ]
     },
     "metadata": {},
     "output_type": "display_data"
    },
    {
     "data": {
      "text/html": [
       "<pre style=\"white-space:pre;overflow-x:auto;line-height:normal;font-family:Menlo,'DejaVu Sans Mono',consolas,'Courier New',monospace\">min val/epoch      <span style=\"color: #008080; text-decoration-color: #008080; font-weight: bold\">1.28369</span>\n",
       "train/epoch    <span style=\"color: #008080; text-decoration-color: #008080; font-weight: bold\">0.29794</span>\n",
       "dtype: float64\n",
       "</pre>\n"
      ],
      "text/plain": [
       "min val/epoch      \u001b[1;36m1.28369\u001b[0m\n",
       "train/epoch    \u001b[1;36m0.29794\u001b[0m\n",
       "dtype: float64\n"
      ]
     },
     "metadata": {},
     "output_type": "display_data"
    },
    {
     "data": {
      "text/html": [
       "<pre style=\"white-space:pre;overflow-x:auto;line-height:normal;font-family:Menlo,'DejaVu Sans Mono',consolas,'Courier New',monospace\">idxmin val/epoch      <span style=\"color: #008080; text-decoration-color: #008080; font-weight: bold\">329</span>\n",
       "train/epoch    <span style=\"color: #008080; text-decoration-color: #008080; font-weight: bold\">336</span>\n",
       "dtype: int64\n",
       "</pre>\n"
      ],
      "text/plain": [
       "idxmin val/epoch      \u001b[1;36m329\u001b[0m\n",
       "train/epoch    \u001b[1;36m336\u001b[0m\n",
       "dtype: int64\n"
      ]
     },
     "metadata": {},
     "output_type": "display_data"
    },
    {
     "data": {
      "text/html": [
       "<pre style=\"white-space:pre;overflow-x:auto;line-height:normal;font-family:Menlo,'DejaVu Sans Mono',consolas,'Courier New',monospace\"><span style=\"color: #008080; text-decoration-color: #008080; font-weight: bold\">329</span>\n",
       "</pre>\n"
      ],
      "text/plain": [
       "\u001b[1;36m329\u001b[0m\n"
      ]
     },
     "metadata": {},
     "output_type": "display_data"
    },
    {
     "data": {
      "text/html": [
       "<pre style=\"white-space:pre;overflow-x:auto;line-height:normal;font-family:Menlo,'DejaVu Sans Mono',consolas,'Courier New',monospace\">val_min_row val/epoch      <span style=\"color: #008080; text-decoration-color: #008080; font-weight: bold\">1.28369</span>\n",
       "train/epoch    <span style=\"color: #008080; text-decoration-color: #008080; font-weight: bold\">1.68401</span>\n",
       "Name: <span style=\"color: #008080; text-decoration-color: #008080; font-weight: bold\">329</span>, dtype: float64\n",
       "</pre>\n"
      ],
      "text/plain": [
       "val_min_row val/epoch      \u001b[1;36m1.28369\u001b[0m\n",
       "train/epoch    \u001b[1;36m1.68401\u001b[0m\n",
       "Name: \u001b[1;36m329\u001b[0m, dtype: float64\n"
      ]
     },
     "metadata": {},
     "output_type": "display_data"
    },
    {
     "data": {
      "image/png": "[encoded data removed]",
      "text/plain": [
       "<Figure size 432x288 with 1 Axes>"
      ]
     },
     "metadata": {
      "needs_background": "light"
     },
     "output_type": "display_data"
    }
   ],
   "source": [
    "import os\n",
    "import pandas as pd\n",
    "import numpy as np\n",
    "from rich import print\n",
    "import matplotlib.pyplot as plt\n",
    "from IPython.display import display\n",
    "\n",
    "from tensorboard.backend.event_processing.event_accumulator import EventAccumulator\n",
    "\n",
    "\n",
    "log_dir = \"data_full/yolact/2022-03-29_kalo_qundis/training_2022-03-30-13꞉11/logs\"\n",
    "\n",
    "extract_data_from = [\"train_epoch_total\", \"val_epoch_total\"]\n",
    "\n",
    "def tabulate_events(dpath):\n",
    "    final_out = {}\n",
    "    \n",
    "    for folder_path in list(filter(os.path.isdir, [os.path.join(dpath,x) for x in os.listdir(dpath)])):\n",
    "        folder = os.path.basename(folder_path)\n",
    "\n",
    "        if extract_data_from is None or folder in extract_data_from:\n",
    "    \n",
    "            for dname in os.listdir(folder_path):\n",
    "                ea = EventAccumulator(os.path.join(folder_path, dname)).Reload()\n",
    "                tags = ea.Tags()['scalars']\n",
    "\n",
    "                out = {}\n",
    "\n",
    "                for tag in tags:\n",
    "                    tag_values=[]\n",
    "                    wall_time=[]\n",
    "                    steps=[]\n",
    "\n",
    "                    for event in ea.Scalars(tag):\n",
    "                        tag_values.append(event.value)\n",
    "                        wall_time.append(event.wall_time)\n",
    "                        steps.append(event.step)\n",
    "                        \n",
    "                    out[tag] = pd.DataFrame(tag_values, columns=[tag], index=steps)\n",
    "\n",
    "                if len(tags) == 1:\n",
    "                    final_out[tags[0]] = out[tags[0]]\n",
    "                else:\n",
    "                    df = pd.concat(out.values())\n",
    "                    final_out[dname] = df\n",
    "    \n",
    "    \n",
    "    df_all = pd.concat(final_out.values(), axis=1)\n",
    "    \n",
    "    print(df_all.head())\n",
    "    print(df_all.describe())\n",
    "    print(\"min\", df_all.min())\n",
    "    print(\"idxmin\", df_all.idxmin())\n",
    "    \n",
    "    idxmin = df_all.idxmin()\n",
    "    print(idxmin[\"val/epoch\"])\n",
    "    val_min_row = df_all.loc[idxmin[\"val/epoch\"]]\n",
    "    print(\"validation min and corresponding train result\", val_min_row)\n",
    "    \n",
    "    df_all.plot()\n",
    "    \n",
    "    # for key, df in final_out.items():\n",
    "    #     # print(df)\n",
    "    #     print(\"name\", df.columns[0])\n",
    "    #     display(df.head())\n",
    "        \n",
    "    #     # print(key)\n",
    "    #     print(df.describe())\n",
    "    #     print(\"min\", df.min())\n",
    "    #     print(\"idxmin\", df.idxmin())\n",
    "        \n",
    "    #     df.plot()\n",
    "\n",
    "\n",
    "    \n",
    "\n",
    "\n",
    "tabulate_events(log_dir)"
   ]
  }
 ],
 "metadata": {
  "interpreter": {
   "hash": "ef9f68aba59f383795522d0eac3a794192e87605ae249971b8244847932cca17"
  },
  "kernelspec": {
   "display_name": "Python 3.7.12 ('pipeline-v2')",
   "language": "python",
   "name": "python3"
  },
  "language_info": {
   "codemirror_mode": {
    "name": "ipython",
    "version": 3
   },
   "file_extension": ".py",
   "mimetype": "text/x-python",
   "name": "python",
   "nbconvert_exporter": "python",
   "pygments_lexer": "ipython3",
   "version": "3.7.12"
  },
  "orig_nbformat": 4
 },
 "nbformat": 4,
 "nbformat_minor": 2
}
